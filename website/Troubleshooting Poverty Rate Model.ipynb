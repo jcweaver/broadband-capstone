{
 "cells": [
  {
   "cell_type": "code",
   "execution_count": 2,
   "id": "1b4b7ca4",
   "metadata": {},
   "outputs": [],
   "source": [
    "import pandas as pd\n",
    "import pickle"
   ]
  },
  {
   "cell_type": "markdown",
   "id": "d5a79235",
   "metadata": {},
   "source": [
    "---"
   ]
  },
  {
   "cell_type": "markdown",
   "id": "d0a4e36f",
   "metadata": {},
   "source": [
    "### Read in Models"
   ]
  },
  {
   "cell_type": "code",
   "execution_count": 16,
   "id": "1e2325fc",
   "metadata": {},
   "outputs": [],
   "source": [
    "with open('/home/ec2-user/capstone/broadband-capstone/models/poverty_rate_xg_boost.pkl', 'rb') as f:\n",
    "    poverty_model_XG_boost = pickle.load(f)"
   ]
  },
  {
   "cell_type": "code",
   "execution_count": 8,
   "id": "5a103e42",
   "metadata": {},
   "outputs": [],
   "source": [
    "with open('/home/ec2-user/capstone/broadband-capstone/models/poverty_rate_random_forest_2.sav', 'rb') as f:\n",
    "    poverty_model_random_forest = pickle.load(f)"
   ]
  },
  {
   "cell_type": "code",
   "execution_count": 23,
   "id": "65c00fcf",
   "metadata": {},
   "outputs": [],
   "source": [
    "with open('/home/ec2-user/capstone/broadband-capstone/models/poverty_rate_random_forest_3.pkl', 'rb') as f:\n",
    "    poverty_model_random_forest_v3 = pickle.load(f)"
   ]
  },
  {
   "cell_type": "code",
   "execution_count": 19,
   "id": "9252d15a",
   "metadata": {},
   "outputs": [],
   "source": [
    "with open('/home/ec2-user/capstone/broadband-capstone/models/poverty_rate_xg_boost_2.pkl', 'rb') as f:\n",
    "    poverty_model_XG_boost_v2 = pickle.load(f)"
   ]
  },
  {
   "cell_type": "code",
   "execution_count": 5,
   "id": "fa3ea327",
   "metadata": {},
   "outputs": [
    {
     "data": {
      "text/plain": [
       "XGBRegressor(base_score=0.5, booster='gbtree', colsample_bylevel=1,\n",
       "             colsample_bynode=1, colsample_bytree=0.7, enable_categorical=False,\n",
       "             gamma=0, gpu_id=-1, importance_type=None,\n",
       "             interaction_constraints='', learning_rate=0.05, max_delta_step=0,\n",
       "             max_depth=3, min_child_weight=1, missing=nan,\n",
       "             monotone_constraints='()', n_estimators=500, n_jobs=2,\n",
       "             num_parallel_tree=1, predictor='auto', random_state=0, reg_alpha=0,\n",
       "             reg_lambda=1, scale_pos_weight=1, subsample=1, tree_method='exact',\n",
       "             validate_parameters=1, verbosity=None)"
      ]
     },
     "execution_count": 5,
     "metadata": {},
     "output_type": "execute_result"
    }
   ],
   "source": [
    "poverty_model_XG_boost"
   ]
  },
  {
   "cell_type": "code",
   "execution_count": 3,
   "id": "62e0d65e",
   "metadata": {},
   "outputs": [
    {
     "data": {
      "text/plain": [
       "XGBRegressor(base_score=0.5, booster='gbtree', colsample_bylevel=1,\n",
       "             colsample_bynode=1, colsample_bytree=0.7, enable_categorical=False,\n",
       "             gamma=0, gpu_id=-1, importance_type=None,\n",
       "             interaction_constraints='', learning_rate=0.05, max_delta_step=0,\n",
       "             max_depth=3, min_child_weight=1, missing=nan,\n",
       "             monotone_constraints='()', n_estimators=500, n_jobs=2,\n",
       "             num_parallel_tree=1, predictor='auto', random_state=0, reg_alpha=0,\n",
       "             reg_lambda=1, scale_pos_weight=1, subsample=1, tree_method='exact',\n",
       "             validate_parameters=1, verbosity=None)"
      ]
     },
     "execution_count": 3,
     "metadata": {},
     "output_type": "execute_result"
    }
   ],
   "source": [
    "poverty_model_XG_boost_v2"
   ]
  },
  {
   "cell_type": "code",
   "execution_count": 6,
   "id": "1a3586ca",
   "metadata": {},
   "outputs": [
    {
     "data": {
      "text/plain": [
       "RandomForestRegressor(max_depth=10, min_samples_leaf=2, min_samples_split=10,\n",
       "                      n_estimators=1000)"
      ]
     },
     "execution_count": 6,
     "metadata": {},
     "output_type": "execute_result"
    }
   ],
   "source": [
    "poverty_model_random_forest"
   ]
  },
  {
   "cell_type": "code",
   "execution_count": 7,
   "id": "e89eed97",
   "metadata": {},
   "outputs": [
    {
     "data": {
      "text/plain": [
       "RandomForestRegressor(max_depth=10, min_samples_leaf=2, min_samples_split=10,\n",
       "                      n_estimators=1000)"
      ]
     },
     "execution_count": 7,
     "metadata": {},
     "output_type": "execute_result"
    }
   ],
   "source": [
    "poverty_model_random_forest_v3"
   ]
  },
  {
   "cell_type": "markdown",
   "id": "bb4d6cb1",
   "metadata": {},
   "source": [
    "---"
   ]
  },
  {
   "cell_type": "markdown",
   "id": "27a6249d",
   "metadata": {},
   "source": [
    "### Read in Data"
   ]
  },
  {
   "cell_type": "code",
   "execution_count": 3,
   "id": "bc9597df",
   "metadata": {},
   "outputs": [],
   "source": [
    "training_data = pd.read_csv('/home/ec2-user/capstone/broadband-capstone/data/current_data/train_3.csv')\n",
    "test_data = pd.read_csv('/home/ec2-user/capstone/broadband-capstone/data/current_data/test_3.csv')"
   ]
  },
  {
   "cell_type": "code",
   "execution_count": 4,
   "id": "0033e3ec",
   "metadata": {},
   "outputs": [],
   "source": [
    "all_data = pd.concat([training_data,test_data])"
   ]
  },
  {
   "cell_type": "markdown",
   "id": "7e2d3a2f",
   "metadata": {},
   "source": [
    "---"
   ]
  },
  {
   "cell_type": "markdown",
   "id": "66edaac0",
   "metadata": {},
   "source": [
    "### Setting up variables to feed into model"
   ]
  },
  {
   "cell_type": "code",
   "execution_count": 7,
   "id": "b1bf1261",
   "metadata": {},
   "outputs": [],
   "source": [
    "model_vars_random_forest = {'poverty_rate' : ['pct_computing_device', 'Ookla Median Download Speed (Mbps)',\n",
    "       'pct_only_cellular', 'pct_internet_broadband_satellite',\n",
    "       'pct_pop_20_to_24', 'employment_rate', 'pct_white',\n",
    "       'median_age_overall', 'pct_internet_broadband_any_type',\n",
    "       'pct_internet', 'pct_computing_device_with_broadband',\n",
    "       'pct_pop_disability', 'Wired_Provider_Count']\n",
    "                           }\n",
    "\n",
    "\n",
    "\n",
    "model_vars_xg_boost = {'poverty_rate': ['log_median_income_over_log_median_house',\n",
    "                                        'pct_computing_device_no_internet',\n",
    "                                        'pct_internet_no_subscrp',\n",
    "                                        'pct_internet_broadband_any_type',\n",
    "                                        'pct_internet',\n",
    "                                        'pct_only_cellular',\n",
    "                                        'Secondary RUCA Code - 1.0',\n",
    "                                        'pct_desktop_or_laptop',\n",
    "                                        'pct_computing_device_with_dialup',\n",
    "                                        'Crown_Castle_present',\n",
    "                                        'Primary RUCA Code - 1.0',\n",
    "                                        'pct_internet_broadband_satellite',\n",
    "                                        'pct_computing_device_with_broadband',\n",
    "                                        'pct_tablet',\n",
    "                                        'Secondary RUCA Code - 4.0']}\n",
    "\n",
    "model_vars_xg_boost_v2 = {'poverty_rate': ['log_median_income_over_log_median_house',\n",
    "                                        'pct_computing_device_no_internet',\n",
    "                                        'pct_internet_no_subscrp',\n",
    "                                        'pct_internet_broadband_any_type',\n",
    "                                        'pct_internet',\n",
    "                                        'pct_only_cellular',\n",
    "                                        'Secondary RUCA Code - 1.0',\n",
    "                                        'pct_desktop_or_laptop',\n",
    "                                        'pct_computing_device_with_dialup',\n",
    "                                        'Primary RUCA Code - 1.0',\n",
    "                                        'pct_internet_broadband_satellite',\n",
    "                                        'pct_computing_device_with_broadband',\n",
    "                                        'pct_tablet']}\n",
    "\n",
    "\n",
    "model_vars_random_forest_v3 = {'poverty_rate': ['pct_internet', 'pct_computing_device_with_broadband',\n",
    "       'median_age_overall', 'pct_white', 'employment_rate',\n",
    "       'pct_pop_20_to_24', 'pct_pop_disability', 'pct_only_cellular', 'pct_internet_broadband_satellite',\n",
    "       'pct_only_cellular', 'pct_computing_device_no_internet']}"
   ]
  },
  {
   "cell_type": "code",
   "execution_count": 36,
   "id": "aea234bc",
   "metadata": {},
   "outputs": [],
   "source": [
    "def get_dataframe(outcome, tract_data, model_vars):\n",
    "    \"\"\"\n",
    "    Returns a dataframe with columns for all input variables used in the model to generate the outcome\n",
    "    \"\"\"\n",
    "    print(\"broadband_impact outcome\", outcome)\n",
    "    df_outcome = pd.DataFrame()\n",
    "    for var in model_vars[outcome]:\n",
    "        #print(\"broadband_impact var\", var)\n",
    "        df_outcome[var] = tract_data[var]\n",
    "    return df_outcome"
   ]
  },
  {
   "cell_type": "code",
   "execution_count": 5,
   "id": "2c09b8cb",
   "metadata": {},
   "outputs": [],
   "source": [
    "#Pulling info from one tract\n",
    "tract = 6071010300\n",
    "tract_data = all_data.loc[all_data['tract_geoid'] == tract]"
   ]
  },
  {
   "cell_type": "code",
   "execution_count": 18,
   "id": "016974fb",
   "metadata": {},
   "outputs": [
    {
     "data": {
      "text/plain": [
       "6071010300"
      ]
     },
     "execution_count": 18,
     "metadata": {},
     "output_type": "execute_result"
    }
   ],
   "source": [
    "tract_data['tract_geoid'].item()"
   ]
  },
  {
   "cell_type": "code",
   "execution_count": 34,
   "id": "ea685f2a",
   "metadata": {},
   "outputs": [
    {
     "name": "stdout",
     "output_type": "stream",
     "text": [
      "pct_computing_device                             81.65596002855104\n",
      "Ookla Median Download Speed (Mbps)                     12.11800003\n",
      "pct_only_cellular                                26.48108493932905\n",
      "pct_internet_broadband_satellite                 25.05353319057816\n",
      "pct_pop_20_to_24                                 4.144347335776713\n",
      "employment_rate                                               47.0\n",
      "pct_white                                                     60.9\n",
      "median_age_overall                                            45.2\n",
      "pct_internet_broadband_any_type                  70.30692362598144\n",
      "pct_internet                                     70.30692362598144\n",
      "pct_computing_device_with_broadband              70.30692362598144\n",
      "pct_pop_disability                              14.605785592739648\n",
      "Wired_Provider_Count                                           4.0\n"
     ]
    }
   ],
   "source": [
    "for var in model_vars_random_forest['poverty_rate']:\n",
    "    print(f\"{var:<35} {tract_data[var].item():>30}\")"
   ]
  },
  {
   "cell_type": "code",
   "execution_count": 37,
   "id": "b22524bd",
   "metadata": {},
   "outputs": [
    {
     "name": "stdout",
     "output_type": "stream",
     "text": [
      "broadband_impact outcome poverty_rate\n"
     ]
    },
    {
     "data": {
      "text/plain": [
       "array([17.4557505])"
      ]
     },
     "execution_count": 37,
     "metadata": {},
     "output_type": "execute_result"
    }
   ],
   "source": [
    "poverty_model_random_forest.predict(get_dataframe('poverty_rate', tract_data, model_vars_random_forest))"
   ]
  },
  {
   "cell_type": "code",
   "execution_count": 14,
   "id": "d3825eb6",
   "metadata": {},
   "outputs": [
    {
     "name": "stdout",
     "output_type": "stream",
     "text": [
      "broadband_impact outcome poverty_rate\n"
     ]
    },
    {
     "data": {
      "text/plain": [
       "array([11.508253], dtype=float32)"
      ]
     },
     "execution_count": 14,
     "metadata": {},
     "output_type": "execute_result"
    }
   ],
   "source": [
    "poverty_model_XG_boost.predict(get_dataframe('poverty_rate', tract_data, model_vars_xg_boost))"
   ]
  },
  {
   "cell_type": "code",
   "execution_count": 11,
   "id": "26324876",
   "metadata": {},
   "outputs": [
    {
     "name": "stdout",
     "output_type": "stream",
     "text": [
      "broadband_impact outcome poverty_rate\n"
     ]
    },
    {
     "data": {
      "text/plain": [
       "array([34.292107], dtype=float32)"
      ]
     },
     "execution_count": 11,
     "metadata": {},
     "output_type": "execute_result"
    }
   ],
   "source": [
    "poverty_model_XG_boost_v2.predict(get_dataframe('poverty_rate', tract_data, model_vars_xg_boost_v2))"
   ]
  },
  {
   "cell_type": "code",
   "execution_count": 38,
   "id": "8b094395",
   "metadata": {},
   "outputs": [
    {
     "data": {
      "text/plain": [
       "28474    23.769784\n",
       "Name: poverty_rate, dtype: float64"
      ]
     },
     "execution_count": 38,
     "metadata": {},
     "output_type": "execute_result"
    }
   ],
   "source": [
    "#Actual poverty rate\n",
    "tract_data.poverty_rate"
   ]
  }
 ],
 "metadata": {
  "kernelspec": {
   "display_name": "Python 3 (ipykernel)",
   "language": "python",
   "name": "python3"
  },
  "language_info": {
   "codemirror_mode": {
    "name": "ipython",
    "version": 3
   },
   "file_extension": ".py",
   "mimetype": "text/x-python",
   "name": "python",
   "nbconvert_exporter": "python",
   "pygments_lexer": "ipython3",
   "version": "3.7.10"
  }
 },
 "nbformat": 4,
 "nbformat_minor": 5
}
