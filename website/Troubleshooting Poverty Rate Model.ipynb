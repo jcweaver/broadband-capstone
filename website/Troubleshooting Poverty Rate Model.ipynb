{
 "cells": [
  {
   "cell_type": "code",
   "execution_count": 2,
   "id": "c02b56f7",
   "metadata": {},
   "outputs": [],
   "source": [
    "import pandas as pd\n",
    "import pickle"
   ]
  },
  {
   "cell_type": "code",
   "execution_count": 6,
   "id": "b3c20a07",
   "metadata": {},
   "outputs": [],
   "source": [
    "with open('/home/ec2-user/capstone/broadband-capstone/models/poverty_rate_random_forest_2.sav', 'rb') as f:\n",
    "    poverty_model = pickle.load(f)"
   ]
  },
  {
   "cell_type": "code",
   "execution_count": 7,
   "id": "eee79284",
   "metadata": {},
   "outputs": [
    {
     "data": {
      "text/plain": [
       "RandomForestRegressor(max_depth=10, min_samples_leaf=2, min_samples_split=10,\n",
       "                      n_estimators=1000)"
      ]
     },
     "execution_count": 7,
     "metadata": {},
     "output_type": "execute_result"
    }
   ],
   "source": [
    "poverty_model"
   ]
  },
  {
   "cell_type": "code",
   "execution_count": null,
   "id": "86c03402",
   "metadata": {},
   "outputs": [],
   "source": [
    "tract = str(flask.request.form['form_tract'])\n",
    "        pct_internet = flask.request.form['pct_internet']\n",
    "        pct_computing_device = \n",
    "        pct_computing_device_with_broadband = flask.request.form['pct_computing_device_with_broadband']\n",
    "        ookla_download = flask.request.form['ookla_download']\n",
    "        pct_internet_broadband_any_type = flask.request.form['pct_internet_broadband_any_type']"
   ]
  }
 ],
 "metadata": {
  "kernelspec": {
   "display_name": "Python 3 (ipykernel)",
   "language": "python",
   "name": "python3"
  },
  "language_info": {
   "codemirror_mode": {
    "name": "ipython",
    "version": 3
   },
   "file_extension": ".py",
   "mimetype": "text/x-python",
   "name": "python",
   "nbconvert_exporter": "python",
   "pygments_lexer": "ipython3",
   "version": "3.7.10"
  }
 },
 "nbformat": 4,
 "nbformat_minor": 5
}
