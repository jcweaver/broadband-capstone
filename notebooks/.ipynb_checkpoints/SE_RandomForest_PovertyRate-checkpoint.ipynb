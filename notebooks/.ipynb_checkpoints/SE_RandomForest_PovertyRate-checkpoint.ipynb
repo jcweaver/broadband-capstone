{
 "cells": [
  {
   "cell_type": "markdown",
   "id": "632676a4",
   "metadata": {},
   "source": [
    "## Imports, Reading Data, Setting up tests"
   ]
  },
  {
   "cell_type": "code",
   "execution_count": 1,
   "id": "c819fc35",
   "metadata": {},
   "outputs": [],
   "source": [
    "import pandas as pd\n",
    "import numpy as np\n",
    "\n",
    "from sklearn.ensemble import RandomForestRegressor\n",
    "import sklearn.metrics as metrics"
   ]
  },
  {
   "cell_type": "code",
   "execution_count": 2,
   "id": "d3027d5f",
   "metadata": {},
   "outputs": [],
   "source": [
    "training_data = pd.read_csv('/home/ec2-user/capstone/broadband-capstone/data/broadband_training_2.csv')\n",
    "test_data = pd.read_csv('/home/ec2-user/capstone/broadband-capstone/data/broadband_test_2.csv')"
   ]
  },
  {
   "cell_type": "code",
   "execution_count": 3,
   "id": "7270f617",
   "metadata": {},
   "outputs": [],
   "source": [
    "#These are taken from the PickingVariables notebook\n",
    "\n",
    "all_broadband_variables = [\"pct_internet\", \n",
    "                           \"pct_computer_with_broadband\",\n",
    "                           \"pct_internet_broadband_any_type\",\n",
    "                           \"pct_internet_none\",\n",
    "                           \"pct_internet_cellular\",\n",
    "                           \"pct_internet_no_subscrp\",\n",
    "                           \"Ookla Median Download Speed (Mbps)\",\n",
    "                           \"Ookla Median Upload Speed (Mbps)\",\n",
    "                           \"All_Provider_Count_100\",\n",
    "                           \"All_Provider_Count_25\",\n",
    "                           \"pct_internet_broadband_satellite\",\n",
    "                           \"Fixed_Wireless_Provider_Count_25\",\n",
    "                           \"pct_internet_broadband_fiber\",\n",
    "                           \"Wired_Provider_Count_100\",\n",
    "                           \"Wired_Provider_Count_25\",\n",
    "                           \"Fixed_Wireless_Provider_Count_100\",\n",
    "                           \"Satellite_Provider_Count_100\",\n",
    "                           \"Fixed_Wireless_Provider_Count\",\n",
    "                           \"MaxAdUp\",\n",
    "                           \"All_Provider_Count\",\n",
    "                           \"Satellite_Provider_Count_25\",\n",
    "                           \"pct_internet_other\",\n",
    "                           \"pct_internet_dial_up\",\n",
    "                           \"pct_internet_dial_up\",\n",
    "                           \"Wired_Provider_Count\",\n",
    "                           \"Satellite_Provider_Count\"]\n",
    "\n",
    "#All variables with correlation > 0.3\n",
    "high_corr = [\"pct_internet\", \n",
    "             \"pct_computer_with_broadband\",\n",
    "             \"pct_internet_broadband_any_type\",\n",
    "             \"pct_internet_none\",\n",
    "             \"pct_internet_cellular\",\n",
    "             \"pct_internet_no_subscrp\"]\n",
    "\n",
    "#All variables with correlation > 0.1\n",
    "mid_corr = [\"pct_internet\", \n",
    "            \"pct_computer_with_broadband\",\n",
    "            \"pct_internet_broadband_any_type\",\n",
    "            \"pct_internet_none\",\n",
    "            \"pct_internet_cellular\",\n",
    "            \"pct_internet_no_subscrp\",\n",
    "            \"Ookla Median Download Speed (Mbps)\",\n",
    "            \"Ookla Median Upload Speed (Mbps)\",\n",
    "            \"All_Provider_Count_100\",\n",
    "            \"All_Provider_Count_25\"]\n",
    "\n",
    "small_covariance_med_corr = ['pct_internet',\n",
    "                             'Ookla Median Download Speed (Mbps)',\n",
    "                             'All_Provider_Count_100',\n",
    "                             'All_Provider_Count_25']"
   ]
  },
  {
   "cell_type": "markdown",
   "id": "8a20a3ca",
   "metadata": {},
   "source": [
    "## Modeling"
   ]
  },
  {
   "cell_type": "markdown",
   "id": "c78997d4",
   "metadata": {},
   "source": [
    "### Functions"
   ]
  },
  {
   "cell_type": "code",
   "execution_count": 4,
   "id": "fe825085",
   "metadata": {},
   "outputs": [],
   "source": [
    "def regression_results(y_true, y_pred):\n",
    "\n",
    "    # Regression metrics\n",
    "    explained_variance=metrics.explained_variance_score(y_true, y_pred)\n",
    "    mean_absolute_error=metrics.mean_absolute_error(y_true, y_pred) \n",
    "    mse=metrics.mean_squared_error(y_true, y_pred) \n",
    "    median_absolute_error=metrics.median_absolute_error(y_true, y_pred)\n",
    "    r2=metrics.r2_score(y_true, y_pred)\n",
    "\n",
    "    print('explained_variance: ', round(explained_variance,4))    \n",
    "    print('r2: ', round(r2,4))\n",
    "    print('MAE: ', round(mean_absolute_error,4))\n",
    "    print('MSE: ', round(mse,4))\n",
    "    print('RMSE: ', round(np.sqrt(mse),4))"
   ]
  },
  {
   "cell_type": "code",
   "execution_count": 8,
   "id": "2ffe554c",
   "metadata": {},
   "outputs": [],
   "source": [
    "poverty_rate_train = np.array(training_data['poverty_rate'])\n",
    "poverty_rate_test = np.array(test_data['poverty_rate'])\n",
    "\n",
    "def poverty_rf_model(train_df, test_df, variable_list):\n",
    "    train_variables = np.array(train_df[variable_list])\n",
    "    test_variables = np.array(test_df[variable_list])\n",
    "    \n",
    "    model = RandomForestRegressor(n_estimators = 10, random_state = 42).fit(train_variables, poverty_rate_train)\n",
    "    predicted = model.predict(test_variables)\n",
    "    \n",
    "    regression_results(poverty_rate_test, predicted)\n",
    "    return True"
   ]
  },
  {
   "cell_type": "code",
   "execution_count": 9,
   "id": "a87ecbe1",
   "metadata": {},
   "outputs": [
    {
     "name": "stdout",
     "output_type": "stream",
     "text": [
      "explained_variance:  0.4247\n",
      "r2:  0.4243\n",
      "MAE:  5.7696\n",
      "MSE:  65.2931\n",
      "RMSE:  8.0804\n"
     ]
    },
    {
     "data": {
      "text/plain": [
       "True"
      ]
     },
     "execution_count": 9,
     "metadata": {},
     "output_type": "execute_result"
    }
   ],
   "source": [
    "poverty_rf_model(training_data, test_data, all_broadband_variables)"
   ]
  },
  {
   "cell_type": "code",
   "execution_count": null,
   "id": "dc04cc5e",
   "metadata": {},
   "outputs": [],
   "source": [
    "poverty_rf_model(training_data, test_data, high_corr)"
   ]
  },
  {
   "cell_type": "code",
   "execution_count": null,
   "id": "c1289ce1",
   "metadata": {},
   "outputs": [],
   "source": [
    "poverty_rf_model(training_data, test_data, mid_corr)"
   ]
  },
  {
   "cell_type": "code",
   "execution_count": null,
   "id": "f62ef16f",
   "metadata": {},
   "outputs": [],
   "source": [
    "poverty_rf_model(training_data, test_data, small_covariance_med_corr)"
   ]
  }
 ],
 "metadata": {
  "kernelspec": {
   "display_name": "Python 3 (ipykernel)",
   "language": "python",
   "name": "python3"
  },
  "language_info": {
   "codemirror_mode": {
    "name": "ipython",
    "version": 3
   },
   "file_extension": ".py",
   "mimetype": "text/x-python",
   "name": "python",
   "nbconvert_exporter": "python",
   "pygments_lexer": "ipython3",
   "version": "3.7.10"
  }
 },
 "nbformat": 4,
 "nbformat_minor": 5
}
