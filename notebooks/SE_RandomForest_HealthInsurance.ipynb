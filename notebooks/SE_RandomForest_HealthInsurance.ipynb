{
 "cells": [
  {
   "cell_type": "markdown",
   "id": "632676a4",
   "metadata": {},
   "source": [
    "## Imports, Reading Data, Setting up tests"
   ]
  },
  {
   "cell_type": "code",
   "execution_count": 5,
   "id": "c819fc35",
   "metadata": {},
   "outputs": [],
   "source": [
    "import pandas as pd\n",
    "import numpy as np\n",
    "\n",
    "from sklearn.ensemble import RandomForestRegressor\n",
    "import sklearn.metrics as metrics\n",
    "from pprint import pprint\n",
    "from sklearn.model_selection import RandomizedSearchCV\n"
   ]
  },
  {
   "cell_type": "code",
   "execution_count": 2,
   "id": "d3027d5f",
   "metadata": {},
   "outputs": [],
   "source": [
    "training_data = pd.read_csv('/home/ec2-user/capstone/broadband-capstone/data/broadband_training_bin_1.csv')\n",
    "test_data = pd.read_csv('/home/ec2-user/capstone/broadband-capstone/data/broadband_test_bin_1.csv')\n"
   ]
  },
  {
   "cell_type": "code",
   "execution_count": 3,
   "id": "7270f617",
   "metadata": {},
   "outputs": [],
   "source": [
    "all_vars = list(training_data.columns.values[(training_data.dtypes=='float64') | (training_data.dtypes=='int')])\n",
    "remove_vars = ['pct_health_ins_children','pct_health_ins_19_64','pct_health_ins_65+']\n",
    "\n",
    "for i in remove_vars:\n",
    "    all_vars.remove(i)"
   ]
  },
  {
   "cell_type": "markdown",
   "id": "8a20a3ca",
   "metadata": {},
   "source": [
    "## Modeling"
   ]
  },
  {
   "cell_type": "markdown",
   "id": "c78997d4",
   "metadata": {},
   "source": [
    "### Functions"
   ]
  },
  {
   "cell_type": "code",
   "execution_count": 4,
   "id": "fe825085",
   "metadata": {},
   "outputs": [],
   "source": [
    "def regression_results(y_true, y_pred):\n",
    "\n",
    "    # Regression metrics\n",
    "    explained_variance=metrics.explained_variance_score(y_true, y_pred)\n",
    "    mean_absolute_error=metrics.mean_absolute_error(y_true, y_pred) \n",
    "    mse=metrics.mean_squared_error(y_true, y_pred) \n",
    "    median_absolute_error=metrics.median_absolute_error(y_true, y_pred)\n",
    "    r2=metrics.r2_score(y_true, y_pred)\n",
    "\n",
    "    print('explained_variance: ', round(explained_variance,4))    \n",
    "    print('r2: ', round(r2,4))\n",
    "    print('MAE: ', round(mean_absolute_error,4))\n",
    "    print('MSE: ', round(mse,4))\n",
    "    print('RMSE: ', round(np.sqrt(mse),4))"
   ]
  },
  {
   "cell_type": "code",
   "execution_count": 8,
   "id": "2ffe554c",
   "metadata": {},
   "outputs": [],
   "source": [
    "Y_train = np.array(training_data['pct_health_ins_19_64'])\n",
    "Y_test = np.array(test_data['pct_health_ins_19_64'])\n",
    "\n",
    "def RF_model(train_df, \n",
    "             test_df, \n",
    "             variable_list,\n",
    "             Y_train = Y_train,  \n",
    "             Y_test = Y_test):\n",
    "    train_variables = np.array(train_df[variable_list])\n",
    "    test_variables = np.array(test_df[variable_list])\n",
    "    \n",
    "    model = RandomForestRegressor(n_estimators = 100, random_state = 42).fit(train_variables, Y_train)\n",
    "    predicted = model.predict(test_variables)\n",
    "    \n",
    "    regression_results(Y_test, predicted)\n",
    "    \n",
    "    return pd.DataFrame(model.feature_importances_, \n",
    "                        index = variable_list).sort_values(by=0, ascending = False)\n"
   ]
  },
  {
   "cell_type": "code",
   "execution_count": 9,
   "id": "bb7375fa",
   "metadata": {},
   "outputs": [
    {
     "name": "stdout",
     "output_type": "stream",
     "text": [
      "explained_variance:  0.7433\n",
      "r2:  0.7432\n",
      "MAE:  3.6623\n",
      "MSE:  24.314\n",
      "RMSE:  4.9309\n"
     ]
    }
   ],
   "source": [
    "feature_importance_all_vars = RF_model(training_data, \n",
    "                                       test_data, \n",
    "                                       all_vars)\n"
   ]
  },
  {
   "cell_type": "markdown",
   "id": "347a7c07",
   "metadata": {},
   "source": [
    "From the all_vars model, we can pick the top variables to use in the grid search. There's a pretty steep dropoff after the 8th variable, so let's just use those."
   ]
  },
  {
   "cell_type": "code",
   "execution_count": 10,
   "id": "32bed174",
   "metadata": {},
   "outputs": [
    {
     "data": {
      "text/plain": [
       "<AxesSubplot:>"
      ]
     },
     "execution_count": 10,
     "metadata": {},
     "output_type": "execute_result"
    },
    {
     "data": {
      "image/png": "[encoded data removed]",
      "text/plain": [
       "<Figure size 432x288 with 1 Axes>"
      ]
     },
     "metadata": {
      "needs_background": "light"
     },
     "output_type": "display_data"
    }
   ],
   "source": [
    "feature_importance_all_vars.head(25).plot.barh()"
   ]
  },
  {
   "cell_type": "code",
   "execution_count": 13,
   "id": "22701d3f",
   "metadata": {},
   "outputs": [
    {
     "data": {
      "text/plain": [
       "array(['median_income', 'pct_hisp_latino', 'tract_geoid', 'pct_pop_hs+',\n",
       "       'state', 'pct_pop_foreign_born', 'pct_white'], dtype=object)"
      ]
     },
     "execution_count": 13,
     "metadata": {},
     "output_type": "execute_result"
    }
   ],
   "source": [
    "feature_importance_all_vars.head(7).index.values"
   ]
  },
  {
   "cell_type": "code",
   "execution_count": 49,
   "id": "024cc528",
   "metadata": {},
   "outputs": [],
   "source": [
    "key_vars = ['median_income', \n",
    "            'pct_hisp_latino', \n",
    "            'tract_geoid', \n",
    "            'pct_pop_hs+',\n",
    "            'state', \n",
    "            'pct_pop_foreign_born', \n",
    "            'pct_white']"
   ]
  },
  {
   "cell_type": "markdown",
   "id": "1948a3fa",
   "metadata": {},
   "source": [
    "None of the most relevant metrics actually relate to broadband metrics.."
   ]
  },
  {
   "cell_type": "markdown",
   "id": "7112abd1",
   "metadata": {},
   "source": [
    "---"
   ]
  },
  {
   "cell_type": "markdown",
   "id": "3a3c7f36",
   "metadata": {},
   "source": [
    "## Use Grid Search to find best hyperparameters"
   ]
  },
  {
   "cell_type": "code",
   "execution_count": 51,
   "id": "b890e695",
   "metadata": {},
   "outputs": [
    {
     "name": "stdout",
     "output_type": "stream",
     "text": [
      "{'bootstrap': [True, False],\n",
      " 'max_depth': [10, 35, 60, 85, 110, None],\n",
      " 'max_features': ['auto', 'sqrt'],\n",
      " 'min_samples_leaf': [1, 2, 4],\n",
      " 'min_samples_split': [2, 5, 10],\n",
      " 'n_estimators': [100, 200, 500, 1000]}\n"
     ]
    }
   ],
   "source": [
    "# Number of trees in random forest\n",
    "n_estimators = [100, 200, 500, 1000]\n",
    "# Number of features to consider at every split\n",
    "max_features = ['auto', 'sqrt']\n",
    "# Maximum number of levels in tree\n",
    "max_depth = [int(x) for x in np.linspace(10, 110, num = 5)]\n",
    "max_depth.append(None)\n",
    "# Minimum number of samples required to split a node\n",
    "min_samples_split = [2, 5, 10]\n",
    "# Minimum number of samples required at each leaf node\n",
    "min_samples_leaf = [1, 2, 4]\n",
    "# Method of selecting samples for training each tree\n",
    "bootstrap = [True, False]\n",
    "# Create the random grid\n",
    "random_grid = {'n_estimators': n_estimators,\n",
    "               'max_features': max_features,\n",
    "               'max_depth': max_depth,\n",
    "               'min_samples_split': min_samples_split,\n",
    "               'min_samples_leaf': min_samples_leaf,\n",
    "               'bootstrap': bootstrap}\n",
    "pprint(random_grid)"
   ]
  },
  {
   "cell_type": "code",
   "execution_count": 56,
   "id": "7ef89445",
   "metadata": {},
   "outputs": [
    {
     "name": "stdout",
     "output_type": "stream",
     "text": [
      "Fitting 3 folds for each of 20 candidates, totalling 60 fits\n",
      "[CV] END bootstrap=True, max_depth=60, max_features=sqrt, min_samples_leaf=2, min_samples_split=5, n_estimators=500; total time=  52.1s\n",
      "[CV] END bootstrap=True, max_depth=60, max_features=sqrt, min_samples_leaf=2, min_samples_split=5, n_estimators=500; total time=  53.0s\n",
      "[CV] END bootstrap=False, max_depth=110, max_features=auto, min_samples_leaf=1, min_samples_split=2, n_estimators=100; total time=  56.1s\n",
      "[CV] END bootstrap=False, max_depth=60, max_features=sqrt, min_samples_leaf=2, min_samples_split=10, n_estimators=1000; total time= 2.7min\n",
      "[CV] END bootstrap=False, max_depth=60, max_features=sqrt, min_samples_leaf=2, min_samples_split=10, n_estimators=1000; total time= 3.8min\n",
      "[CV] END bootstrap=True, max_depth=10, max_features=auto, min_samples_leaf=2, min_samples_split=10, n_estimators=1000; total time= 3.4min\n",
      "[CV] END bootstrap=True, max_depth=10, max_features=auto, min_samples_leaf=2, min_samples_split=10, n_estimators=1000; total time= 5.4min\n",
      "[CV] END bootstrap=True, max_depth=110, max_features=auto, min_samples_leaf=1, min_samples_split=10, n_estimators=1000; total time= 8.3min\n",
      "[CV] END bootstrap=False, max_depth=60, max_features=auto, min_samples_leaf=2, min_samples_split=5, n_estimators=200; total time= 2.8min\n",
      "[CV] END bootstrap=False, max_depth=60, max_features=auto, min_samples_leaf=2, min_samples_split=5, n_estimators=200; total time= 2.8min\n",
      "[CV] END bootstrap=True, max_depth=110, max_features=auto, min_samples_leaf=1, min_samples_split=10, n_estimators=500; total time= 4.3min\n",
      "[CV] END bootstrap=True, max_depth=110, max_features=auto, min_samples_leaf=1, min_samples_split=10, n_estimators=500; total time= 4.2min\n",
      "[CV] END bootstrap=False, max_depth=60, max_features=sqrt, min_samples_leaf=2, min_samples_split=2, n_estimators=200; total time=  54.2s\n",
      "[CV] END bootstrap=True, max_depth=None, max_features=auto, min_samples_leaf=4, min_samples_split=10, n_estimators=200; total time= 1.5min\n",
      "[CV] END bootstrap=False, max_depth=110, max_features=sqrt, min_samples_leaf=2, min_samples_split=10, n_estimators=500; total time= 2.1min\n",
      "[CV] END bootstrap=False, max_depth=110, max_features=sqrt, min_samples_leaf=2, min_samples_split=10, n_estimators=500; total time= 2.2min\n",
      "[CV] END bootstrap=False, max_depth=60, max_features=sqrt, min_samples_leaf=2, min_samples_split=5, n_estimators=1000; total time= 4.6min\n",
      "[CV] END bootstrap=False, max_depth=10, max_features=auto, min_samples_leaf=4, min_samples_split=10, n_estimators=100; total time=  52.0s\n",
      "[CV] END bootstrap=False, max_depth=10, max_features=auto, min_samples_leaf=4, min_samples_split=10, n_estimators=100; total time=  50.7s\n",
      "[CV] END bootstrap=False, max_depth=10, max_features=auto, min_samples_leaf=4, min_samples_split=10, n_estimators=100; total time=  50.8s\n",
      "[CV] END bootstrap=False, max_depth=85, max_features=auto, min_samples_leaf=4, min_samples_split=10, n_estimators=500; total time= 6.4min\n",
      "[CV] END bootstrap=False, max_depth=85, max_features=auto, min_samples_leaf=4, min_samples_split=10, n_estimators=500; total time= 6.3min\n",
      "[CV] END bootstrap=True, max_depth=10, max_features=sqrt, min_samples_leaf=4, min_samples_split=5, n_estimators=1000; total time= 1.8min\n",
      "[CV] END bootstrap=True, max_depth=10, max_features=sqrt, min_samples_leaf=4, min_samples_split=5, n_estimators=1000; total time= 1.8min\n",
      "[CV] END bootstrap=False, max_depth=None, max_features=sqrt, min_samples_leaf=2, min_samples_split=10, n_estimators=200; total time=  49.9s\n",
      "[CV] END bootstrap=False, max_depth=None, max_features=sqrt, min_samples_leaf=2, min_samples_split=10, n_estimators=200; total time=  49.5s\n",
      "[CV] END bootstrap=False, max_depth=85, max_features=sqrt, min_samples_leaf=4, min_samples_split=10, n_estimators=100; total time=  23.7s\n",
      "[CV] END bootstrap=True, max_depth=35, max_features=auto, min_samples_leaf=4, min_samples_split=2, n_estimators=100; total time=  44.9s\n",
      "[CV] END bootstrap=True, max_depth=60, max_features=sqrt, min_samples_leaf=2, min_samples_split=5, n_estimators=500; total time=  52.3s\n",
      "[CV] END bootstrap=False, max_depth=110, max_features=auto, min_samples_leaf=1, min_samples_split=2, n_estimators=100; total time=  57.3s\n",
      "[CV] END bootstrap=False, max_depth=110, max_features=auto, min_samples_leaf=1, min_samples_split=2, n_estimators=100; total time=  55.7s\n",
      "[CV] END bootstrap=False, max_depth=60, max_features=sqrt, min_samples_leaf=2, min_samples_split=10, n_estimators=1000; total time= 2.8min\n",
      "[CV] END bootstrap=True, max_depth=110, max_features=auto, min_samples_leaf=2, min_samples_split=10, n_estimators=200; total time= 1.8min\n",
      "[CV] END bootstrap=True, max_depth=110, max_features=auto, min_samples_leaf=2, min_samples_split=10, n_estimators=200; total time= 1.3min\n",
      "[CV] END bootstrap=True, max_depth=110, max_features=auto, min_samples_leaf=2, min_samples_split=10, n_estimators=200; total time=  59.2s\n",
      "[CV] END bootstrap=True, max_depth=10, max_features=auto, min_samples_leaf=2, min_samples_split=10, n_estimators=1000; total time= 3.6min\n",
      "[CV] END bootstrap=True, max_depth=110, max_features=auto, min_samples_leaf=1, min_samples_split=10, n_estimators=1000; total time= 8.1min\n",
      "[CV] END bootstrap=True, max_depth=110, max_features=auto, min_samples_leaf=1, min_samples_split=10, n_estimators=1000; total time= 8.5min\n",
      "[CV] END bootstrap=False, max_depth=60, max_features=auto, min_samples_leaf=2, min_samples_split=5, n_estimators=200; total time= 2.8min\n",
      "[CV] END bootstrap=True, max_depth=110, max_features=auto, min_samples_leaf=1, min_samples_split=10, n_estimators=500; total time= 4.4min\n",
      "[CV] END bootstrap=False, max_depth=10, max_features=sqrt, min_samples_leaf=2, min_samples_split=5, n_estimators=200; total time=  34.8s\n",
      "[CV] END bootstrap=False, max_depth=10, max_features=sqrt, min_samples_leaf=2, min_samples_split=5, n_estimators=200; total time=  32.1s\n",
      "[CV] END bootstrap=False, max_depth=10, max_features=sqrt, min_samples_leaf=2, min_samples_split=5, n_estimators=200; total time=  32.2s\n",
      "[CV] END bootstrap=False, max_depth=60, max_features=sqrt, min_samples_leaf=2, min_samples_split=2, n_estimators=200; total time=  54.3s\n",
      "[CV] END bootstrap=False, max_depth=60, max_features=sqrt, min_samples_leaf=2, min_samples_split=2, n_estimators=200; total time=  54.2s\n",
      "[CV] END bootstrap=True, max_depth=None, max_features=auto, min_samples_leaf=4, min_samples_split=10, n_estimators=200; total time= 1.5min\n",
      "[CV] END bootstrap=True, max_depth=None, max_features=auto, min_samples_leaf=4, min_samples_split=10, n_estimators=200; total time= 1.5min\n",
      "[CV] END bootstrap=False, max_depth=110, max_features=sqrt, min_samples_leaf=2, min_samples_split=10, n_estimators=500; total time= 2.1min\n",
      "[CV] END bootstrap=False, max_depth=60, max_features=sqrt, min_samples_leaf=2, min_samples_split=5, n_estimators=1000; total time= 4.7min\n",
      "[CV] END bootstrap=False, max_depth=60, max_features=sqrt, min_samples_leaf=2, min_samples_split=5, n_estimators=1000; total time= 4.4min\n",
      "[CV] END bootstrap=False, max_depth=85, max_features=auto, min_samples_leaf=4, min_samples_split=10, n_estimators=500; total time= 6.4min\n",
      "[CV] END bootstrap=False, max_depth=110, max_features=auto, min_samples_leaf=4, min_samples_split=2, n_estimators=200; total time= 2.6min\n",
      "[CV] END bootstrap=False, max_depth=110, max_features=auto, min_samples_leaf=4, min_samples_split=2, n_estimators=200; total time= 2.5min\n",
      "[CV] END bootstrap=False, max_depth=110, max_features=auto, min_samples_leaf=4, min_samples_split=2, n_estimators=200; total time= 2.4min\n",
      "[CV] END bootstrap=True, max_depth=10, max_features=sqrt, min_samples_leaf=4, min_samples_split=5, n_estimators=1000; total time= 1.8min\n",
      "[CV] END bootstrap=False, max_depth=None, max_features=sqrt, min_samples_leaf=2, min_samples_split=10, n_estimators=200; total time=  50.1s\n",
      "[CV] END bootstrap=False, max_depth=85, max_features=sqrt, min_samples_leaf=4, min_samples_split=10, n_estimators=100; total time=  23.8s\n",
      "[CV] END bootstrap=False, max_depth=85, max_features=sqrt, min_samples_leaf=4, min_samples_split=10, n_estimators=100; total time=  23.9s\n",
      "[CV] END bootstrap=True, max_depth=35, max_features=auto, min_samples_leaf=4, min_samples_split=2, n_estimators=100; total time=  45.1s\n",
      "[CV] END bootstrap=True, max_depth=35, max_features=auto, min_samples_leaf=4, min_samples_split=2, n_estimators=100; total time=  37.6s\n"
     ]
    },
    {
     "data": {
      "text/plain": [
       "RandomizedSearchCV(cv=3, estimator=RandomForestRegressor(), n_iter=20,\n",
       "                   n_jobs=-1,\n",
       "                   param_distributions={'bootstrap': [True, False],\n",
       "                                        'max_depth': [10, 35, 60, 85, 110,\n",
       "                                                      None],\n",
       "                                        'max_features': ['auto', 'sqrt'],\n",
       "                                        'min_samples_leaf': [1, 2, 4],\n",
       "                                        'min_samples_split': [2, 5, 10],\n",
       "                                        'n_estimators': [100, 200, 500, 1000]},\n",
       "                   random_state=42, verbose=2)"
      ]
     },
     "execution_count": 56,
     "metadata": {},
     "output_type": "execute_result"
    }
   ],
   "source": [
    "# Use the random grid to search for best hyperparameters\n",
    "# First create the base model to tune\n",
    "rf = RandomForestRegressor()\n",
    "# Random search of parameters, using 3 fold cross validation, \n",
    "# search across 20 different combinations, and us\n",
    "\n",
    "rf_random = RandomizedSearchCV(estimator = rf, \n",
    "                               param_distributions = random_grid, \n",
    "                               n_iter = 20, \n",
    "                               cv = 3, \n",
    "                               verbose=2, \n",
    "                               random_state=42, \n",
    "                               n_jobs = -1)\n",
    "\n",
    "# Fit the random search model\n",
    "rf_random.fit(training_data[key_vars], poverty_rate_train)"
   ]
  },
  {
   "cell_type": "code",
   "execution_count": 57,
   "id": "a738dea3",
   "metadata": {},
   "outputs": [
    {
     "data": {
      "text/plain": [
       "{'n_estimators': 1000,\n",
       " 'min_samples_split': 10,\n",
       " 'min_samples_leaf': 2,\n",
       " 'max_features': 'auto',\n",
       " 'max_depth': 10,\n",
       " 'bootstrap': True}"
      ]
     },
     "execution_count": 57,
     "metadata": {},
     "output_type": "execute_result"
    }
   ],
   "source": [
    "rf_random.best_params_"
   ]
  },
  {
   "cell_type": "code",
   "execution_count": 60,
   "id": "e3d50708",
   "metadata": {},
   "outputs": [],
   "source": [
    "predictions = rf_random.predict(test_data[key_vars])"
   ]
  },
  {
   "cell_type": "code",
   "execution_count": 62,
   "id": "ed34f7b5",
   "metadata": {},
   "outputs": [
    {
     "name": "stdout",
     "output_type": "stream",
     "text": [
      "explained_variance:  0.7276\n",
      "r2:  0.7276\n",
      "MAE:  4.1451\n",
      "MSE:  32.6335\n",
      "RMSE:  5.7126\n"
     ]
    }
   ],
   "source": [
    "regression_results(poverty_rate_test, predictions)"
   ]
  },
  {
   "cell_type": "markdown",
   "id": "f36be755",
   "metadata": {},
   "source": [
    "Optimizing has created a much better model! "
   ]
  },
  {
   "cell_type": "code",
   "execution_count": null,
   "id": "feafecc6",
   "metadata": {},
   "outputs": [],
   "source": []
  }
 ],
 "metadata": {
  "kernelspec": {
   "display_name": "Python 3 (ipykernel)",
   "language": "python",
   "name": "python3"
  },
  "language_info": {
   "codemirror_mode": {
    "name": "ipython",
    "version": 3
   },
   "file_extension": ".py",
   "mimetype": "text/x-python",
   "name": "python",
   "nbconvert_exporter": "python",
   "pygments_lexer": "ipython3",
   "version": "3.7.10"
  }
 },
 "nbformat": 4,
 "nbformat_minor": 5
}
