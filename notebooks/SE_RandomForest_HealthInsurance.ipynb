{
 "cells": [
  {
   "cell_type": "markdown",
   "id": "632676a4",
   "metadata": {},
   "source": [
    "## Imports, Reading Data, Setting up tests"
   ]
  },
  {
   "cell_type": "code",
   "execution_count": 1,
   "id": "c819fc35",
   "metadata": {},
   "outputs": [],
   "source": [
    "import pandas as pd\n",
    "import numpy as np\n",
    "\n",
    "from sklearn.ensemble import RandomForestRegressor\n",
    "import sklearn.metrics as metrics\n",
    "from pprint import pprint\n",
    "from sklearn.model_selection import RandomizedSearchCV\n"
   ]
  },
  {
   "cell_type": "code",
   "execution_count": 2,
   "id": "d3027d5f",
   "metadata": {},
   "outputs": [],
   "source": [
    "training_data = pd.read_csv('/home/ec2-user/capstone/broadband-capstone/data/broadband_training_bin_2.csv')\n",
    "test_data = pd.read_csv('/home/ec2-user/capstone/broadband-capstone/data/broadband_test_bin_2.csv')\n"
   ]
  },
  {
   "cell_type": "code",
   "execution_count": 3,
   "id": "7270f617",
   "metadata": {},
   "outputs": [],
   "source": [
    "all_vars = list(training_data.columns.values[(training_data.dtypes=='float64') | (training_data.dtypes=='int')])\n",
    "remove_vars = ['pct_health_ins_children','pct_health_ins_19_64','pct_health_ins_65+']\n",
    "\n",
    "for i in remove_vars:\n",
    "    all_vars.remove(i)"
   ]
  },
  {
   "cell_type": "code",
   "execution_count": 4,
   "id": "5033f13e",
   "metadata": {},
   "outputs": [],
   "source": [
    "broadband_vars = ['MaxAdDown',\n",
    "                 'MaxAdUp',\n",
    "                 'Wired_Provider_Count',\n",
    "                 'Satellite_Provider_Count',\n",
    "                 'Fixed_Wireless_Provider_Count',\n",
    "                 'All_Provider_Count_25',\n",
    "                 'All_Provider_Count_100',\n",
    "                 'Fixed_Wireless_Provider_Count_25',\n",
    "                 'Wired_Provider_Count_25',\n",
    "                 'Satellite_Provider_Count_25',\n",
    "                 'Fixed_Wireless_Provider_Count_100',\n",
    "                 'Wired_Provider_Count_100',\n",
    "                 'Satellite_Provider_Count_100',\n",
    "                 'pct_internet',\n",
    "                 'pct_internet_dial_up',\n",
    "                 'pct_internet_broadband_any_type',\n",
    "                 'pct_internet_cellular',\n",
    "                 'pct_only_cellular',\n",
    "                 'pct_internet_broadband_fiber',\n",
    "                 'pct_internet_broadband_satellite',\n",
    "                 'pct_internet_only_satellite',\n",
    "                 'pct_internet_other',\n",
    "                 'pct_internet_no_subscrp',\n",
    "                 'pct_internet_none',\n",
    "                 'pct_computer',\n",
    "                 'pct_computer_with_dialup',\n",
    "                 'pct_computer_with_broadband',\n",
    "                 'pct_computer_no_internet',\n",
    "                 'pct_no_computer',\n",
    "                 'Form 477 All Terrestrial Broadband: Max Advertised Consumer Download Speed (Mbps)',\n",
    "                 'Form 477 All Terrestrial Broadband: Max Advertised Consumer Upload Speed (Mbps)',\n",
    "                 'Ookla Median Download Speed (Mbps)',\n",
    "                 'Ookla Median Upload Speed (Mbps)',\n",
    "                 '0_5_providers',\n",
    "                 '6_10_providers',\n",
    "                 '11_15_providers',\n",
    "                 '16_20_providers',\n",
    "                 '20+_providers',\n",
    "                 '0_25_MaxAdDown',\n",
    "                 '25_99_MaxAdDown',\n",
    "                 '99_499_MaxAdDown',\n",
    "                 '499_inf_MaxAdDown',\n",
    "                 '0_25_Ookla Median Download Speed (Mbps)',\n",
    "                 '25_99_Ookla Median Download Speed (Mbps)',\n",
    "                 '99_499_Ookla Median Download Speed (Mbps)',\n",
    "                 '499_inf_Ookla Median Download Speed (Mbps)',\n",
    "                 '0_25_Form 477 All Terrestrial Broadband: Max Advertised Consumer Download Speed (Mbps)',\n",
    "                 '25_99_Form 477 All Terrestrial Broadband: Max Advertised Consumer Download Speed (Mbps)',\n",
    "                 '99_499_Form 477 All Terrestrial Broadband: Max Advertised Consumer Download Speed (Mbps)',\n",
    "                 '499_inf_Form 477 All Terrestrial Broadband: Max Advertised Consumer Download Speed (Mbps)',\n",
    "                 'single_provider',\n",
    "                 'Primary RUCA Code - 1.0',\n",
    "                 'Primary RUCA Code - 2.0',\n",
    "                 'Primary RUCA Code - 4.0',\n",
    "                 'Primary RUCA Code - 10.0',\n",
    "                 'Primary RUCA Code - 7.0',\n",
    "                 'Primary RUCA Code - 5.0',\n",
    "                 'Primary RUCA Code - 8.0',\n",
    "                 'Primary RUCA Code - 3.0',\n",
    "                 'Primary RUCA Code - 6.0',\n",
    "                 'Primary RUCA Code - 9.0',\n",
    "                 'Primary RUCA Code - 99.0',\n",
    "                 'Secondary RUCA Code - 1.0',\n",
    "                 'Secondary RUCA Code - 2.0',\n",
    "                 'Secondary RUCA Code - 4.0',\n",
    "                 'Secondary RUCA Code - 10.0',\n",
    "                 'Secondary RUCA Code - 7.0',\n",
    "                 'Secondary RUCA Code - 5.0',\n",
    "                 'Secondary RUCA Code - 1.1',\n",
    "                 'Secondary RUCA Code - 8.0',\n",
    "                 'Secondary RUCA Code - 3.0',\n",
    "                 'Secondary RUCA Code - 6.0',\n",
    "                 'Secondary RUCA Code - 9.0',\n",
    "                 'Secondary RUCA Code - 4.1',\n",
    "                 'Secondary RUCA Code - 99.0',\n",
    "                 'Secondary RUCA Code - 7.1',\n",
    "                 'Secondary RUCA Code - 10.2',\n",
    "                 'Secondary RUCA Code - 2.1',\n",
    "                 'Secondary RUCA Code - 10.1',\n",
    "                 'Secondary RUCA Code - 10.3',\n",
    "                 'Secondary RUCA Code - 7.2',\n",
    "                 'Secondary RUCA Code - 5.1',\n",
    "                 'Secondary RUCA Code - 8.1',\n",
    "                 'Secondary RUCA Code - 8.2',\n",
    "                 'SE',\n",
    "                 'INFA',\n",
    "                 'DDI',\n",
    "                 'ruca_metro',\n",
    "                 'ruca_micro',\n",
    "                 'ruca_small_town',\n",
    "                 'ruca_rural',\n",
    "                 'Comcast_present',\n",
    "                 'ATT_present',\n",
    "                 'HughesNet_present',\n",
    "                 'GCI_Comm_Corp_present',\n",
    "                 'ViaSat_present',\n",
    "                 'VSAT_present',\n",
    "                 'Century_Link_present',\n",
    "                 'Spectrum_present',\n",
    "                 'Crown_Castle_present',\n",
    "                 'Etheric_present',\n",
    "                 'Frontier_Communications_present']"
   ]
  },
  {
   "cell_type": "markdown",
   "id": "8a20a3ca",
   "metadata": {},
   "source": [
    "## Modeling"
   ]
  },
  {
   "cell_type": "markdown",
   "id": "c78997d4",
   "metadata": {},
   "source": [
    "### Functions"
   ]
  },
  {
   "cell_type": "code",
   "execution_count": 5,
   "id": "fe825085",
   "metadata": {},
   "outputs": [],
   "source": [
    "def regression_results(y_true, y_pred):\n",
    "\n",
    "    # Regression metrics\n",
    "    explained_variance=metrics.explained_variance_score(y_true, y_pred)\n",
    "    mean_absolute_error=metrics.mean_absolute_error(y_true, y_pred) \n",
    "    mse=metrics.mean_squared_error(y_true, y_pred) \n",
    "    median_absolute_error=metrics.median_absolute_error(y_true, y_pred)\n",
    "    r2=metrics.r2_score(y_true, y_pred)\n",
    "\n",
    "    print('explained_variance: ', round(explained_variance,4))    \n",
    "    print('r2: ', round(r2,4))\n",
    "    print('MAE: ', round(mean_absolute_error,4))\n",
    "    print('MSE: ', round(mse,4))\n",
    "    print('RMSE: ', round(np.sqrt(mse),4))"
   ]
  },
  {
   "cell_type": "code",
   "execution_count": 6,
   "id": "2ffe554c",
   "metadata": {},
   "outputs": [],
   "source": [
    "Y_train = np.array(training_data['pct_health_ins_19_64'])\n",
    "Y_test = np.array(test_data['pct_health_ins_19_64'])\n",
    "\n",
    "def RF_model(train_df, \n",
    "             test_df, \n",
    "             variable_list,\n",
    "             Y_train = Y_train,  \n",
    "             Y_test = Y_test):\n",
    "    train_variables = np.array(train_df[variable_list])\n",
    "    test_variables = np.array(test_df[variable_list])\n",
    "    \n",
    "    model = RandomForestRegressor(n_estimators = 100, random_state = 42).fit(train_variables, Y_train)\n",
    "    predicted = model.predict(test_variables)\n",
    "    \n",
    "    regression_results(Y_test, predicted)\n",
    "    \n",
    "    return pd.DataFrame(model.feature_importances_, \n",
    "                        index = variable_list).sort_values(by=0, ascending = False)\n"
   ]
  },
  {
   "cell_type": "code",
   "execution_count": 9,
   "id": "bb7375fa",
   "metadata": {},
   "outputs": [
    {
     "name": "stdout",
     "output_type": "stream",
     "text": [
      "explained_variance:  0.7433\n",
      "r2:  0.7432\n",
      "MAE:  3.6623\n",
      "MSE:  24.314\n",
      "RMSE:  4.9309\n"
     ]
    }
   ],
   "source": [
    "feature_importance_all_vars = RF_model(training_data, \n",
    "                                       test_data, \n",
    "                                       all_vars)\n"
   ]
  },
  {
   "cell_type": "markdown",
   "id": "347a7c07",
   "metadata": {},
   "source": [
    "From the all_vars model, we can pick the top variables to use in the grid search. There's a pretty steep dropoff after the 8th variable, so let's just use those."
   ]
  },
  {
   "cell_type": "code",
   "execution_count": 10,
   "id": "32bed174",
   "metadata": {},
   "outputs": [
    {
     "data": {
      "text/plain": [
       "<AxesSubplot:>"
      ]
     },
     "execution_count": 10,
     "metadata": {},
     "output_type": "execute_result"
    },
    {
     "data": {
      "image/png": "[encoded data removed]",
      "text/plain": [
       "<Figure size 432x288 with 1 Axes>"
      ]
     },
     "metadata": {
      "needs_background": "light"
     },
     "output_type": "display_data"
    }
   ],
   "source": [
    "feature_importance_all_vars.head(25).plot.barh()"
   ]
  },
  {
   "cell_type": "code",
   "execution_count": 13,
   "id": "22701d3f",
   "metadata": {},
   "outputs": [
    {
     "data": {
      "text/plain": [
       "array(['median_income', 'pct_hisp_latino', 'tract_geoid', 'pct_pop_hs+',\n",
       "       'state', 'pct_pop_foreign_born', 'pct_white'], dtype=object)"
      ]
     },
     "execution_count": 13,
     "metadata": {},
     "output_type": "execute_result"
    }
   ],
   "source": [
    "feature_importance_all_vars.head(7).index.values"
   ]
  },
  {
   "cell_type": "code",
   "execution_count": 49,
   "id": "024cc528",
   "metadata": {},
   "outputs": [],
   "source": [
    "key_vars = ['median_income', \n",
    "            'pct_hisp_latino', \n",
    "            'tract_geoid', \n",
    "            'pct_pop_hs+',\n",
    "            'state', \n",
    "            'pct_pop_foreign_born', \n",
    "            'pct_white']"
   ]
  },
  {
   "cell_type": "markdown",
   "id": "1948a3fa",
   "metadata": {},
   "source": [
    "None of the most relevant metrics actually relate to broadband metrics.."
   ]
  },
  {
   "cell_type": "markdown",
   "id": "6272b83f",
   "metadata": {},
   "source": [
    "### Running with Broadband Variables"
   ]
  },
  {
   "cell_type": "code",
   "execution_count": 7,
   "id": "727f7336",
   "metadata": {},
   "outputs": [
    {
     "name": "stdout",
     "output_type": "stream",
     "text": [
      "explained_variance:  0.4752\n",
      "r2:  0.4743\n",
      "MAE:  5.2009\n",
      "MSE:  49.7751\n",
      "RMSE:  7.0551\n"
     ]
    }
   ],
   "source": [
    "feature_importance_broadband_vars = RF_model(training_data, \n",
    "                                             test_data, \n",
    "                                             broadband_vars)\n"
   ]
  },
  {
   "cell_type": "code",
   "execution_count": 8,
   "id": "84466e65",
   "metadata": {},
   "outputs": [
    {
     "data": {
      "text/plain": [
       "<AxesSubplot:>"
      ]
     },
     "execution_count": 8,
     "metadata": {},
     "output_type": "execute_result"
    },
    {
     "data": {
      "image/png": "[encoded data removed]",
      "text/plain": [
       "<Figure size 432x288 with 1 Axes>"
      ]
     },
     "metadata": {
      "needs_background": "light"
     },
     "output_type": "display_data"
    }
   ],
   "source": [
    "feature_importance_broadband_vars.head(25).plot.barh()"
   ]
  },
  {
   "cell_type": "code",
   "execution_count": 10,
   "id": "2cc301bc",
   "metadata": {},
   "outputs": [],
   "source": [
    "key_vars = feature_importance_broadband_vars.head(7).index.values"
   ]
  },
  {
   "cell_type": "markdown",
   "id": "7112abd1",
   "metadata": {},
   "source": [
    "---"
   ]
  },
  {
   "cell_type": "markdown",
   "id": "3a3c7f36",
   "metadata": {},
   "source": [
    "## Use Grid Search to find best hyperparameters"
   ]
  },
  {
   "cell_type": "markdown",
   "id": "ca698205",
   "metadata": {},
   "source": [
    "### All Vars"
   ]
  },
  {
   "cell_type": "code",
   "execution_count": 11,
   "id": "b890e695",
   "metadata": {},
   "outputs": [
    {
     "name": "stdout",
     "output_type": "stream",
     "text": [
      "{'bootstrap': [True, False],\n",
      " 'max_depth': [10, 35, 60, 85, 110, None],\n",
      " 'max_features': ['auto', 'sqrt'],\n",
      " 'min_samples_leaf': [1, 2, 4],\n",
      " 'min_samples_split': [2, 5, 10],\n",
      " 'n_estimators': [100, 200, 500, 1000]}\n"
     ]
    }
   ],
   "source": [
    "# Number of trees in random forest\n",
    "n_estimators = [100, 200, 500, 1000]\n",
    "# Number of features to consider at every split\n",
    "max_features = ['auto', 'sqrt']\n",
    "# Maximum number of levels in tree\n",
    "max_depth = [int(x) for x in np.linspace(10, 110, num = 5)]\n",
    "max_depth.append(None)\n",
    "# Minimum number of samples required to split a node\n",
    "min_samples_split = [2, 5, 10]\n",
    "# Minimum number of samples required at each leaf node\n",
    "min_samples_leaf = [1, 2, 4]\n",
    "# Method of selecting samples for training each tree\n",
    "bootstrap = [True, False]\n",
    "# Create the random grid\n",
    "random_grid = {'n_estimators': n_estimators,\n",
    "               'max_features': max_features,\n",
    "               'max_depth': max_depth,\n",
    "               'min_samples_split': min_samples_split,\n",
    "               'min_samples_leaf': min_samples_leaf,\n",
    "               'bootstrap': bootstrap}\n",
    "pprint(random_grid)"
   ]
  },
  {
   "cell_type": "code",
   "execution_count": 16,
   "id": "32ceb330",
   "metadata": {},
   "outputs": [],
   "source": [
    "# Use the random grid to search for best hyperparameters\n",
    "# First create the base model to tune\n",
    "rf = RandomForestRegressor()\n",
    "# Random search of parameters, using 3 fold cross validation, \n",
    "# search across 20 different combinations, and us\n",
    "\n",
    "rf_random = RandomizedSearchCV(estimator = rf, \n",
    "                               param_distributions = random_grid, \n",
    "                               n_iter = 20, \n",
    "                               cv = 3, \n",
    "                               verbose=10, \n",
    "                               random_state=42, \n",
    "                               n_jobs = -1)"
   ]
  },
  {
   "cell_type": "code",
   "execution_count": 56,
   "id": "7ef89445",
   "metadata": {},
   "outputs": [
    {
     "name": "stdout",
     "output_type": "stream",
     "text": [
      "Fitting 3 folds for each of 20 candidates, totalling 60 fits\n",
      "[CV] END bootstrap=True, max_depth=60, max_features=sqrt, min_samples_leaf=2, min_samples_split=5, n_estimators=500; total time=  52.1s\n",
      "[CV] END bootstrap=True, max_depth=60, max_features=sqrt, min_samples_leaf=2, min_samples_split=5, n_estimators=500; total time=  53.0s\n",
      "[CV] END bootstrap=False, max_depth=110, max_features=auto, min_samples_leaf=1, min_samples_split=2, n_estimators=100; total time=  56.1s\n",
      "[CV] END bootstrap=False, max_depth=60, max_features=sqrt, min_samples_leaf=2, min_samples_split=10, n_estimators=1000; total time= 2.7min\n",
      "[CV] END bootstrap=False, max_depth=60, max_features=sqrt, min_samples_leaf=2, min_samples_split=10, n_estimators=1000; total time= 3.8min\n",
      "[CV] END bootstrap=True, max_depth=10, max_features=auto, min_samples_leaf=2, min_samples_split=10, n_estimators=1000; total time= 3.4min\n",
      "[CV] END bootstrap=True, max_depth=10, max_features=auto, min_samples_leaf=2, min_samples_split=10, n_estimators=1000; total time= 5.4min\n",
      "[CV] END bootstrap=True, max_depth=110, max_features=auto, min_samples_leaf=1, min_samples_split=10, n_estimators=1000; total time= 8.3min\n",
      "[CV] END bootstrap=False, max_depth=60, max_features=auto, min_samples_leaf=2, min_samples_split=5, n_estimators=200; total time= 2.8min\n",
      "[CV] END bootstrap=False, max_depth=60, max_features=auto, min_samples_leaf=2, min_samples_split=5, n_estimators=200; total time= 2.8min\n",
      "[CV] END bootstrap=True, max_depth=110, max_features=auto, min_samples_leaf=1, min_samples_split=10, n_estimators=500; total time= 4.3min\n",
      "[CV] END bootstrap=True, max_depth=110, max_features=auto, min_samples_leaf=1, min_samples_split=10, n_estimators=500; total time= 4.2min\n",
      "[CV] END bootstrap=False, max_depth=60, max_features=sqrt, min_samples_leaf=2, min_samples_split=2, n_estimators=200; total time=  54.2s\n",
      "[CV] END bootstrap=True, max_depth=None, max_features=auto, min_samples_leaf=4, min_samples_split=10, n_estimators=200; total time= 1.5min\n",
      "[CV] END bootstrap=False, max_depth=110, max_features=sqrt, min_samples_leaf=2, min_samples_split=10, n_estimators=500; total time= 2.1min\n",
      "[CV] END bootstrap=False, max_depth=110, max_features=sqrt, min_samples_leaf=2, min_samples_split=10, n_estimators=500; total time= 2.2min\n",
      "[CV] END bootstrap=False, max_depth=60, max_features=sqrt, min_samples_leaf=2, min_samples_split=5, n_estimators=1000; total time= 4.6min\n",
      "[CV] END bootstrap=False, max_depth=10, max_features=auto, min_samples_leaf=4, min_samples_split=10, n_estimators=100; total time=  52.0s\n",
      "[CV] END bootstrap=False, max_depth=10, max_features=auto, min_samples_leaf=4, min_samples_split=10, n_estimators=100; total time=  50.7s\n",
      "[CV] END bootstrap=False, max_depth=10, max_features=auto, min_samples_leaf=4, min_samples_split=10, n_estimators=100; total time=  50.8s\n",
      "[CV] END bootstrap=False, max_depth=85, max_features=auto, min_samples_leaf=4, min_samples_split=10, n_estimators=500; total time= 6.4min\n",
      "[CV] END bootstrap=False, max_depth=85, max_features=auto, min_samples_leaf=4, min_samples_split=10, n_estimators=500; total time= 6.3min\n",
      "[CV] END bootstrap=True, max_depth=10, max_features=sqrt, min_samples_leaf=4, min_samples_split=5, n_estimators=1000; total time= 1.8min\n",
      "[CV] END bootstrap=True, max_depth=10, max_features=sqrt, min_samples_leaf=4, min_samples_split=5, n_estimators=1000; total time= 1.8min\n",
      "[CV] END bootstrap=False, max_depth=None, max_features=sqrt, min_samples_leaf=2, min_samples_split=10, n_estimators=200; total time=  49.9s\n",
      "[CV] END bootstrap=False, max_depth=None, max_features=sqrt, min_samples_leaf=2, min_samples_split=10, n_estimators=200; total time=  49.5s\n",
      "[CV] END bootstrap=False, max_depth=85, max_features=sqrt, min_samples_leaf=4, min_samples_split=10, n_estimators=100; total time=  23.7s\n",
      "[CV] END bootstrap=True, max_depth=35, max_features=auto, min_samples_leaf=4, min_samples_split=2, n_estimators=100; total time=  44.9s\n",
      "[CV] END bootstrap=True, max_depth=60, max_features=sqrt, min_samples_leaf=2, min_samples_split=5, n_estimators=500; total time=  52.3s\n",
      "[CV] END bootstrap=False, max_depth=110, max_features=auto, min_samples_leaf=1, min_samples_split=2, n_estimators=100; total time=  57.3s\n",
      "[CV] END bootstrap=False, max_depth=110, max_features=auto, min_samples_leaf=1, min_samples_split=2, n_estimators=100; total time=  55.7s\n",
      "[CV] END bootstrap=False, max_depth=60, max_features=sqrt, min_samples_leaf=2, min_samples_split=10, n_estimators=1000; total time= 2.8min\n",
      "[CV] END bootstrap=True, max_depth=110, max_features=auto, min_samples_leaf=2, min_samples_split=10, n_estimators=200; total time= 1.8min\n",
      "[CV] END bootstrap=True, max_depth=110, max_features=auto, min_samples_leaf=2, min_samples_split=10, n_estimators=200; total time= 1.3min\n",
      "[CV] END bootstrap=True, max_depth=110, max_features=auto, min_samples_leaf=2, min_samples_split=10, n_estimators=200; total time=  59.2s\n",
      "[CV] END bootstrap=True, max_depth=10, max_features=auto, min_samples_leaf=2, min_samples_split=10, n_estimators=1000; total time= 3.6min\n",
      "[CV] END bootstrap=True, max_depth=110, max_features=auto, min_samples_leaf=1, min_samples_split=10, n_estimators=1000; total time= 8.1min\n",
      "[CV] END bootstrap=True, max_depth=110, max_features=auto, min_samples_leaf=1, min_samples_split=10, n_estimators=1000; total time= 8.5min\n",
      "[CV] END bootstrap=False, max_depth=60, max_features=auto, min_samples_leaf=2, min_samples_split=5, n_estimators=200; total time= 2.8min\n",
      "[CV] END bootstrap=True, max_depth=110, max_features=auto, min_samples_leaf=1, min_samples_split=10, n_estimators=500; total time= 4.4min\n",
      "[CV] END bootstrap=False, max_depth=10, max_features=sqrt, min_samples_leaf=2, min_samples_split=5, n_estimators=200; total time=  34.8s\n",
      "[CV] END bootstrap=False, max_depth=10, max_features=sqrt, min_samples_leaf=2, min_samples_split=5, n_estimators=200; total time=  32.1s\n",
      "[CV] END bootstrap=False, max_depth=10, max_features=sqrt, min_samples_leaf=2, min_samples_split=5, n_estimators=200; total time=  32.2s\n",
      "[CV] END bootstrap=False, max_depth=60, max_features=sqrt, min_samples_leaf=2, min_samples_split=2, n_estimators=200; total time=  54.3s\n",
      "[CV] END bootstrap=False, max_depth=60, max_features=sqrt, min_samples_leaf=2, min_samples_split=2, n_estimators=200; total time=  54.2s\n",
      "[CV] END bootstrap=True, max_depth=None, max_features=auto, min_samples_leaf=4, min_samples_split=10, n_estimators=200; total time= 1.5min\n",
      "[CV] END bootstrap=True, max_depth=None, max_features=auto, min_samples_leaf=4, min_samples_split=10, n_estimators=200; total time= 1.5min\n",
      "[CV] END bootstrap=False, max_depth=110, max_features=sqrt, min_samples_leaf=2, min_samples_split=10, n_estimators=500; total time= 2.1min\n",
      "[CV] END bootstrap=False, max_depth=60, max_features=sqrt, min_samples_leaf=2, min_samples_split=5, n_estimators=1000; total time= 4.7min\n",
      "[CV] END bootstrap=False, max_depth=60, max_features=sqrt, min_samples_leaf=2, min_samples_split=5, n_estimators=1000; total time= 4.4min\n",
      "[CV] END bootstrap=False, max_depth=85, max_features=auto, min_samples_leaf=4, min_samples_split=10, n_estimators=500; total time= 6.4min\n",
      "[CV] END bootstrap=False, max_depth=110, max_features=auto, min_samples_leaf=4, min_samples_split=2, n_estimators=200; total time= 2.6min\n",
      "[CV] END bootstrap=False, max_depth=110, max_features=auto, min_samples_leaf=4, min_samples_split=2, n_estimators=200; total time= 2.5min\n",
      "[CV] END bootstrap=False, max_depth=110, max_features=auto, min_samples_leaf=4, min_samples_split=2, n_estimators=200; total time= 2.4min\n",
      "[CV] END bootstrap=True, max_depth=10, max_features=sqrt, min_samples_leaf=4, min_samples_split=5, n_estimators=1000; total time= 1.8min\n",
      "[CV] END bootstrap=False, max_depth=None, max_features=sqrt, min_samples_leaf=2, min_samples_split=10, n_estimators=200; total time=  50.1s\n",
      "[CV] END bootstrap=False, max_depth=85, max_features=sqrt, min_samples_leaf=4, min_samples_split=10, n_estimators=100; total time=  23.8s\n",
      "[CV] END bootstrap=False, max_depth=85, max_features=sqrt, min_samples_leaf=4, min_samples_split=10, n_estimators=100; total time=  23.9s\n",
      "[CV] END bootstrap=True, max_depth=35, max_features=auto, min_samples_leaf=4, min_samples_split=2, n_estimators=100; total time=  45.1s\n",
      "[CV] END bootstrap=True, max_depth=35, max_features=auto, min_samples_leaf=4, min_samples_split=2, n_estimators=100; total time=  37.6s\n"
     ]
    },
    {
     "data": {
      "text/plain": [
       "RandomizedSearchCV(cv=3, estimator=RandomForestRegressor(), n_iter=20,\n",
       "                   n_jobs=-1,\n",
       "                   param_distributions={'bootstrap': [True, False],\n",
       "                                        'max_depth': [10, 35, 60, 85, 110,\n",
       "                                                      None],\n",
       "                                        'max_features': ['auto', 'sqrt'],\n",
       "                                        'min_samples_leaf': [1, 2, 4],\n",
       "                                        'min_samples_split': [2, 5, 10],\n",
       "                                        'n_estimators': [100, 200, 500, 1000]},\n",
       "                   random_state=42, verbose=2)"
      ]
     },
     "execution_count": 56,
     "metadata": {},
     "output_type": "execute_result"
    }
   ],
   "source": [
    "# Fit the random search model\n",
    "rf_random.fit(training_data[key_vars], poverty_rate_train)"
   ]
  },
  {
   "cell_type": "code",
   "execution_count": 57,
   "id": "a738dea3",
   "metadata": {},
   "outputs": [
    {
     "data": {
      "text/plain": [
       "{'n_estimators': 1000,\n",
       " 'min_samples_split': 10,\n",
       " 'min_samples_leaf': 2,\n",
       " 'max_features': 'auto',\n",
       " 'max_depth': 10,\n",
       " 'bootstrap': True}"
      ]
     },
     "execution_count": 57,
     "metadata": {},
     "output_type": "execute_result"
    }
   ],
   "source": [
    "rf_random.best_params_"
   ]
  },
  {
   "cell_type": "code",
   "execution_count": 60,
   "id": "e3d50708",
   "metadata": {},
   "outputs": [],
   "source": [
    "predictions = rf_random.predict(test_data[key_vars])"
   ]
  },
  {
   "cell_type": "code",
   "execution_count": 62,
   "id": "ed34f7b5",
   "metadata": {},
   "outputs": [
    {
     "name": "stdout",
     "output_type": "stream",
     "text": [
      "explained_variance:  0.7276\n",
      "r2:  0.7276\n",
      "MAE:  4.1451\n",
      "MSE:  32.6335\n",
      "RMSE:  5.7126\n"
     ]
    }
   ],
   "source": [
    "regression_results(poverty_rate_test, predictions)"
   ]
  },
  {
   "cell_type": "markdown",
   "id": "f36be755",
   "metadata": {},
   "source": [
    "Optimizing has created a much better model! "
   ]
  },
  {
   "cell_type": "markdown",
   "id": "525f3599",
   "metadata": {},
   "source": [
    "---"
   ]
  },
  {
   "cell_type": "markdown",
   "id": "56baa4c1",
   "metadata": {},
   "source": [
    "### Running with only Broadband Vars"
   ]
  },
  {
   "cell_type": "code",
   "execution_count": 22,
   "id": "55a7536b",
   "metadata": {},
   "outputs": [],
   "source": [
    "rf = RandomForestRegressor(n_estimators=1000, \n",
    "                           min_samples_split=10, \n",
    "                           min_samples_leaf=2,\n",
    "                           max_features= 'auto',\n",
    "                           max_depth= 10,\n",
    "                           bootstrap= True)\n"
   ]
  },
  {
   "cell_type": "code",
   "execution_count": 27,
   "id": "53d86910",
   "metadata": {},
   "outputs": [
    {
     "data": {
      "text/plain": [
       "RandomForestRegressor(max_depth=10, min_samples_leaf=2, min_samples_split=10,\n",
       "                      n_estimators=1000)"
      ]
     },
     "execution_count": 27,
     "metadata": {},
     "output_type": "execute_result"
    }
   ],
   "source": [
    "rf.fit(training_data[key_vars], Y_train)"
   ]
  },
  {
   "cell_type": "code",
   "execution_count": 28,
   "id": "c8241acc",
   "metadata": {},
   "outputs": [],
   "source": [
    "predictions = rf.predict(test_data[key_vars])"
   ]
  },
  {
   "cell_type": "code",
   "execution_count": 29,
   "id": "f8774c08",
   "metadata": {},
   "outputs": [
    {
     "name": "stdout",
     "output_type": "stream",
     "text": [
      "explained_variance:  0.3897\n",
      "r2:  0.3897\n",
      "MAE:  5.5716\n",
      "MSE:  57.7889\n",
      "RMSE:  7.6019\n"
     ]
    }
   ],
   "source": [
    "regression_results(Y_test, predictions)"
   ]
  },
  {
   "cell_type": "markdown",
   "id": "4cb57d55",
   "metadata": {},
   "source": [
    "### Running with Only California Data"
   ]
  },
  {
   "cell_type": "code",
   "execution_count": 30,
   "id": "4acb3d1d",
   "metadata": {},
   "outputs": [],
   "source": [
    "cali_train_data = training_data[training_data.state == 6]\n",
    "cali_test_data = test_data[test_data.state == 6]"
   ]
  },
  {
   "cell_type": "code",
   "execution_count": 34,
   "id": "11ce356c",
   "metadata": {},
   "outputs": [
    {
     "name": "stdout",
     "output_type": "stream",
     "text": [
      "explained_variance:  0.4928\n",
      "r2:  0.4927\n",
      "MAE:  4.0716\n",
      "MSE:  30.6768\n",
      "RMSE:  5.5387\n"
     ]
    }
   ],
   "source": [
    "rf = RandomForestRegressor(n_estimators=1000, \n",
    "                           min_samples_split=10, \n",
    "                           min_samples_leaf=2,\n",
    "                           max_features= 'auto',\n",
    "                           max_depth= 10,\n",
    "                           bootstrap= True)\n",
    "\n",
    "rf.fit(cali_train_data[key_vars], np.array(cali_train_data['pct_health_ins_19_64']))\n",
    "predictions = rf.predict(cali_test_data[key_vars])\n",
    "regression_results(np.array(cali_test_data['pct_health_ins_19_64']), predictions)"
   ]
  }
 ],
 "metadata": {
  "kernelspec": {
   "display_name": "Python 3 (ipykernel)",
   "language": "python",
   "name": "python3"
  },
  "language_info": {
   "codemirror_mode": {
    "name": "ipython",
    "version": 3
   },
   "file_extension": ".py",
   "mimetype": "text/x-python",
   "name": "python",
   "nbconvert_exporter": "python",
   "pygments_lexer": "ipython3",
   "version": "3.7.10"
  }
 },
 "nbformat": 4,
 "nbformat_minor": 5
}
