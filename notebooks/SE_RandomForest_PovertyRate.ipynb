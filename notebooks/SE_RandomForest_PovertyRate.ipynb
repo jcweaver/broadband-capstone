{
 "cells": [
  {
   "cell_type": "markdown",
   "id": "632676a4",
   "metadata": {},
   "source": [
    "## Imports, Reading Data, Setting up tests"
   ]
  },
  {
   "cell_type": "code",
   "execution_count": 2,
   "id": "c819fc35",
   "metadata": {},
   "outputs": [],
   "source": [
    "import pandas as pd\n",
    "import numpy as np\n",
    "import pickle\n",
    "\n",
    "from sklearn.ensemble import RandomForestRegressor\n",
    "import sklearn.metrics as metrics\n",
    "from pprint import pprint\n",
    "from sklearn.model_selection import RandomizedSearchCV\n"
   ]
  },
  {
   "cell_type": "code",
   "execution_count": 3,
   "id": "d3027d5f",
   "metadata": {},
   "outputs": [],
   "source": [
    "training_data = pd.read_csv('/home/ec2-user/capstone/broadband-capstone/data/broadband_training_bin_2.csv')\n",
    "test_data = pd.read_csv('/home/ec2-user/capstone/broadband-capstone/data/broadband_test_bin_2.csv')\n"
   ]
  },
  {
   "cell_type": "code",
   "execution_count": 17,
   "id": "7270f617",
   "metadata": {},
   "outputs": [],
   "source": [
    "#These are taken from the PickingVariables notebook\n",
    "\n",
    "all_broadband_variables = [\"pct_internet\", \n",
    "                           \"pct_computer_with_broadband\",\n",
    "                           \"pct_internet_broadband_any_type\",\n",
    "                           \"pct_internet_none\",\n",
    "                           \"pct_internet_cellular\",\n",
    "                           \"pct_internet_no_subscrp\",\n",
    "                           \"Ookla Median Download Speed (Mbps)\",\n",
    "                           \"Ookla Median Upload Speed (Mbps)\",\n",
    "                           \"All_Provider_Count_100\",\n",
    "                           \"All_Provider_Count_25\",\n",
    "                           \"pct_internet_broadband_satellite\",\n",
    "                           \"Fixed_Wireless_Provider_Count_25\",\n",
    "                           \"pct_internet_broadband_fiber\",\n",
    "                           \"Wired_Provider_Count_100\",\n",
    "                           \"Wired_Provider_Count_25\",\n",
    "                           \"Fixed_Wireless_Provider_Count_100\",\n",
    "                           \"Satellite_Provider_Count_100\",\n",
    "                           \"Fixed_Wireless_Provider_Count\",\n",
    "                           \"MaxAdUp\",\n",
    "                           \"All_Provider_Count\",\n",
    "                           \"Satellite_Provider_Count_25\",\n",
    "                           \"pct_internet_other\",\n",
    "                           \"pct_internet_dial_up\",\n",
    "                           \"pct_internet_dial_up\",\n",
    "                           \"Wired_Provider_Count\",\n",
    "                           \"Satellite_Provider_Count\"]\n",
    "\n",
    "#All variables with correlation > 0.3\n",
    "high_corr = [\"pct_internet\", \n",
    "             \"pct_computer_with_broadband\",\n",
    "             \"pct_internet_broadband_any_type\",\n",
    "             \"pct_internet_none\",\n",
    "             \"pct_internet_cellular\",\n",
    "             \"pct_internet_no_subscrp\"]\n",
    "\n",
    "#All variables with correlation > 0.1\n",
    "mid_corr = [\"pct_internet\", \n",
    "            \"pct_computer_with_broadband\",\n",
    "            \"pct_internet_broadband_any_type\",\n",
    "            \"pct_internet_none\",\n",
    "            \"pct_internet_cellular\",\n",
    "            \"pct_internet_no_subscrp\",\n",
    "            \"Ookla Median Download Speed (Mbps)\",\n",
    "            \"Ookla Median Upload Speed (Mbps)\",\n",
    "            \"All_Provider_Count_100\",\n",
    "            \"All_Provider_Count_25\"]\n",
    "\n",
    "small_covariance_med_corr = ['pct_internet',\n",
    "                             'Ookla Median Download Speed (Mbps)',\n",
    "                             'All_Provider_Count_100',\n",
    "                             'All_Provider_Count_25']\n",
    "\n",
    "#All except income variables\n",
    "all_vars = [ 'tract_geoid',\n",
    "             'All_Provider_Count',\n",
    "             'MaxAdDown',\n",
    "             'MaxAdUp',\n",
    "             'Wired_Provider_Count',\n",
    "             'Satellite_Provider_Count',\n",
    "             'Fixed_Wireless_Provider_Count',\n",
    "             'All_Provider_Count_25',\n",
    "             'All_Provider_Count_100',\n",
    "             'Fixed_Wireless_Provider_Count_25',\n",
    "             'Wired_Provider_Count_25',\n",
    "             'Satellite_Provider_Count_25',\n",
    "             'Fixed_Wireless_Provider_Count_100',\n",
    "             'Wired_Provider_Count_100',\n",
    "             'Satellite_Provider_Count_100',\n",
    "             'median_age_overall',\n",
    "             'median_age_male',\n",
    "             'median_age_female',\n",
    "             'state',\n",
    "             'county',\n",
    "             'tract',\n",
    "             'employment_rate',\n",
    "             'total_households',\n",
    "             'ave_household_size',\n",
    "             'ave_family_size',\n",
    "             'pct_health_ins_children',\n",
    "             'pct_health_ins_19_64',\n",
    "             'pct_health_ins_65+',\n",
    "             'total_population',\n",
    "             'pct_white',\n",
    "             'pct_hisp_latino',\n",
    "             'pct_black',\n",
    "             'pct_native',\n",
    "             'pct_asian',\n",
    "             'pct_hi_pi',\n",
    "             'pct_other_race',\n",
    "             'pct_two+_race',\n",
    "             'pct_pop_bachelors+',\n",
    "             'pct_pop_hs+',\n",
    "             'pct_internet',\n",
    "             'pct_internet_dial_up',\n",
    "             'pct_internet_broadband_any_type',\n",
    "             'pct_internet_cellular',\n",
    "             'pct_only_cellular',\n",
    "             'pct_internet_broadband_fiber',\n",
    "             'pct_internet_broadband_satellite',\n",
    "             'pct_internet_only_satellite',\n",
    "             'pct_internet_other',\n",
    "             'pct_internet_no_subscrp',\n",
    "             'pct_internet_none',\n",
    "             'pct_computer',\n",
    "             'pct_computer_with_dialup',\n",
    "             'pct_computer_with_broadband',\n",
    "             'pct_computer_no_internet',\n",
    "             'pct_no_computer',\n",
    "             'ALAND',\n",
    "             'AWATER',\n",
    "             'ALAND_SQMI',\n",
    "             'AWATER_SQMI',\n",
    "             'population_density',\n",
    "             'pct_pop_ged',\n",
    "             'pct_pop_some_college',\n",
    "             'pct_pop_associates',\n",
    "             'pct_pop_lt_5',\n",
    "             'pct_pop_5_to_9',\n",
    "             'pct_pop_10_to_14',\n",
    "             'pct_pop_15_to_19',\n",
    "             'pct_pop_20_to_24',\n",
    "             'pct_pop_25_to_29',\n",
    "             'pct_pop_30_to_34',\n",
    "             'pct_pop_35_to_39',\n",
    "             'pct_pop_40_to_44',\n",
    "             'pct_pop_45_to_49',\n",
    "             'pct_pop_50_to_54',\n",
    "             'pct_pop_55_to_59',\n",
    "             'pct_pop_60_to_64',\n",
    "             'pct_pop_65_to_69',\n",
    "             'pct_pop_70_to_74',\n",
    "             'pct_pop_75_to_79',\n",
    "             'pct_pop_80_to_84',\n",
    "             'pct_pop_gt_85',\n",
    "             'pct_pop_disability',\n",
    "             'pct_pop_households_with_kids',\n",
    "             'pct_pop_foreign_born',\n",
    "             'Form 477 All Terrestrial Broadband: Max Advertised Consumer Download Speed (Mbps)',\n",
    "             'Form 477 All Terrestrial Broadband: Max Advertised Consumer Upload Speed (Mbps)',\n",
    "             'Ookla Median Download Speed (Mbps)',\n",
    "             'Ookla Median Upload Speed (Mbps)',\n",
    "             'Primary RUCA Code 2010',\n",
    "             'Secondary RUCA Code, 2010 (see errata)',\n",
    "             '0_5_providers',\n",
    "             '6_10_providers',\n",
    "             '11_15_providers',\n",
    "             '16_20_providers',\n",
    "             '20+_providers',\n",
    "             '0_25_MaxAdDown',\n",
    "             '25_99_MaxAdDown',\n",
    "             '99_499_MaxAdDown',\n",
    "             '499_inf_MaxAdDown',\n",
    "             '0_25_Ookla Median Download Speed (Mbps)',\n",
    "             '25_99_Ookla Median Download Speed (Mbps)',\n",
    "             '99_499_Ookla Median Download Speed (Mbps)',\n",
    "             '499_inf_Ookla Median Download Speed (Mbps)',\n",
    "             '0_25_Form 477 All Terrestrial Broadband: Max Advertised Consumer Download Speed (Mbps)',\n",
    "             '25_99_Form 477 All Terrestrial Broadband: Max Advertised Consumer Download Speed (Mbps)',\n",
    "             '99_499_Form 477 All Terrestrial Broadband: Max Advertised Consumer Download Speed (Mbps)',\n",
    "             '499_inf_Form 477 All Terrestrial Broadband: Max Advertised Consumer Download Speed (Mbps)',\n",
    "             'single_provider',\n",
    "             'Primary RUCA Code - 1.0',\n",
    "             'Primary RUCA Code - 2.0',\n",
    "             'Primary RUCA Code - 4.0',\n",
    "             'Primary RUCA Code - 10.0',\n",
    "             'Primary RUCA Code - 7.0',\n",
    "             'Primary RUCA Code - 5.0',\n",
    "             'Primary RUCA Code - 8.0',\n",
    "             'Primary RUCA Code - 3.0',\n",
    "             'Primary RUCA Code - 6.0',\n",
    "             'Primary RUCA Code - 9.0',\n",
    "             'Primary RUCA Code - 99.0',\n",
    "             'Secondary RUCA Code - 1.0',\n",
    "             'Secondary RUCA Code - 2.0',\n",
    "             'Secondary RUCA Code - 4.0',\n",
    "             'Secondary RUCA Code - 10.0',\n",
    "             'Secondary RUCA Code - 7.0',\n",
    "             'Secondary RUCA Code - 5.0',\n",
    "             'Secondary RUCA Code - 1.1',\n",
    "             'Secondary RUCA Code - 8.0',\n",
    "             'Secondary RUCA Code - 3.0',\n",
    "             'Secondary RUCA Code - 6.0',\n",
    "             'Secondary RUCA Code - 9.0',\n",
    "             'Secondary RUCA Code - 4.1',\n",
    "             'Secondary RUCA Code - 99.0',\n",
    "             'Secondary RUCA Code - 7.1',\n",
    "             'Secondary RUCA Code - 10.2',\n",
    "             'Secondary RUCA Code - 2.1',\n",
    "             'Secondary RUCA Code - 10.1',\n",
    "             'Secondary RUCA Code - 10.3',\n",
    "             'Secondary RUCA Code - 7.2',\n",
    "             'Secondary RUCA Code - 5.1',\n",
    "             'Secondary RUCA Code - 8.1',\n",
    "             'Secondary RUCA Code - 8.2']\n"
   ]
  },
  {
   "cell_type": "code",
   "execution_count": 3,
   "id": "1a0e6b5d",
   "metadata": {},
   "outputs": [],
   "source": [
    "broadband_vars = ['MaxAdDown',\n",
    "                 'MaxAdUp',\n",
    "                 'Wired_Provider_Count',\n",
    "                 'Satellite_Provider_Count',\n",
    "                 'Fixed_Wireless_Provider_Count',\n",
    "                 'All_Provider_Count_25',\n",
    "                 'All_Provider_Count_100',\n",
    "                 'Fixed_Wireless_Provider_Count_25',\n",
    "                 'Wired_Provider_Count_25',\n",
    "                 'Satellite_Provider_Count_25',\n",
    "                 'Fixed_Wireless_Provider_Count_100',\n",
    "                 'Wired_Provider_Count_100',\n",
    "                 'Satellite_Provider_Count_100',\n",
    "                 'pct_internet',\n",
    "                 'pct_internet_dial_up',\n",
    "                 'pct_internet_broadband_any_type',\n",
    "                 'pct_internet_cellular',\n",
    "                 'pct_only_cellular',\n",
    "                 'pct_internet_broadband_fiber',\n",
    "                 'pct_internet_broadband_satellite',\n",
    "                 'pct_internet_only_satellite',\n",
    "                 'pct_internet_other',\n",
    "                 'pct_internet_no_subscrp',\n",
    "                 'pct_internet_none',\n",
    "                 'pct_computer',\n",
    "                 'pct_computer_with_dialup',\n",
    "                 'pct_computer_with_broadband',\n",
    "                 'pct_computer_no_internet',\n",
    "                 'pct_no_computer',\n",
    "                 'Form 477 All Terrestrial Broadband: Max Advertised Consumer Download Speed (Mbps)',\n",
    "                 'Form 477 All Terrestrial Broadband: Max Advertised Consumer Upload Speed (Mbps)',\n",
    "                 'Ookla Median Download Speed (Mbps)',\n",
    "                 'Ookla Median Upload Speed (Mbps)',\n",
    "                 '0_5_providers',\n",
    "                 '6_10_providers',\n",
    "                 '11_15_providers',\n",
    "                 '16_20_providers',\n",
    "                 '20+_providers',\n",
    "                 '0_25_MaxAdDown',\n",
    "                 '25_99_MaxAdDown',\n",
    "                 '99_499_MaxAdDown',\n",
    "                 '499_inf_MaxAdDown',\n",
    "                 '0_25_Ookla Median Download Speed (Mbps)',\n",
    "                 '25_99_Ookla Median Download Speed (Mbps)',\n",
    "                 '99_499_Ookla Median Download Speed (Mbps)',\n",
    "                 '499_inf_Ookla Median Download Speed (Mbps)',\n",
    "                 '0_25_Form 477 All Terrestrial Broadband: Max Advertised Consumer Download Speed (Mbps)',\n",
    "                 '25_99_Form 477 All Terrestrial Broadband: Max Advertised Consumer Download Speed (Mbps)',\n",
    "                 '99_499_Form 477 All Terrestrial Broadband: Max Advertised Consumer Download Speed (Mbps)',\n",
    "                 '499_inf_Form 477 All Terrestrial Broadband: Max Advertised Consumer Download Speed (Mbps)',\n",
    "                 'single_provider',\n",
    "                 'Primary RUCA Code - 1.0',\n",
    "                 'Primary RUCA Code - 2.0',\n",
    "                 'Primary RUCA Code - 4.0',\n",
    "                 'Primary RUCA Code - 10.0',\n",
    "                 'Primary RUCA Code - 7.0',\n",
    "                 'Primary RUCA Code - 5.0',\n",
    "                 'Primary RUCA Code - 8.0',\n",
    "                 'Primary RUCA Code - 3.0',\n",
    "                 'Primary RUCA Code - 6.0',\n",
    "                 'Primary RUCA Code - 9.0',\n",
    "                 'Primary RUCA Code - 99.0',\n",
    "                 'Secondary RUCA Code - 1.0',\n",
    "                 'Secondary RUCA Code - 2.0',\n",
    "                 'Secondary RUCA Code - 4.0',\n",
    "                 'Secondary RUCA Code - 10.0',\n",
    "                 'Secondary RUCA Code - 7.0',\n",
    "                 'Secondary RUCA Code - 5.0',\n",
    "                 'Secondary RUCA Code - 1.1',\n",
    "                 'Secondary RUCA Code - 8.0',\n",
    "                 'Secondary RUCA Code - 3.0',\n",
    "                 'Secondary RUCA Code - 6.0',\n",
    "                 'Secondary RUCA Code - 9.0',\n",
    "                 'Secondary RUCA Code - 4.1',\n",
    "                 'Secondary RUCA Code - 99.0',\n",
    "                 'Secondary RUCA Code - 7.1',\n",
    "                 'Secondary RUCA Code - 10.2',\n",
    "                 'Secondary RUCA Code - 2.1',\n",
    "                 'Secondary RUCA Code - 10.1',\n",
    "                 'Secondary RUCA Code - 10.3',\n",
    "                 'Secondary RUCA Code - 7.2',\n",
    "                 'Secondary RUCA Code - 5.1',\n",
    "                 'Secondary RUCA Code - 8.1',\n",
    "                 'Secondary RUCA Code - 8.2',\n",
    "                 'SE',\n",
    "                 'INFA',\n",
    "                 'DDI',\n",
    "                 'ruca_metro',\n",
    "                 'ruca_micro',\n",
    "                 'ruca_small_town',\n",
    "                 'ruca_rural',\n",
    "                 'Comcast_present',\n",
    "                 'ATT_present',\n",
    "                 'HughesNet_present',\n",
    "                 'GCI_Comm_Corp_present',\n",
    "                 'ViaSat_present',\n",
    "                 'VSAT_present',\n",
    "                 'Century_Link_present',\n",
    "                 'Spectrum_present',\n",
    "                 'Crown_Castle_present',\n",
    "                 'Etheric_present',\n",
    "                 'Frontier_Communications_present']"
   ]
  },
  {
   "cell_type": "markdown",
   "id": "8a20a3ca",
   "metadata": {},
   "source": [
    "## Modeling"
   ]
  },
  {
   "cell_type": "markdown",
   "id": "c78997d4",
   "metadata": {},
   "source": [
    "### Functions"
   ]
  },
  {
   "cell_type": "code",
   "execution_count": 4,
   "id": "fe825085",
   "metadata": {},
   "outputs": [],
   "source": [
    "def regression_results(y_true, y_pred):\n",
    "\n",
    "    # Regression metrics\n",
    "    explained_variance=metrics.explained_variance_score(y_true, y_pred)\n",
    "    mean_absolute_error=metrics.mean_absolute_error(y_true, y_pred) \n",
    "    mse=metrics.mean_squared_error(y_true, y_pred) \n",
    "    median_absolute_error=metrics.median_absolute_error(y_true, y_pred)\n",
    "    r2=metrics.r2_score(y_true, y_pred)\n",
    "\n",
    "    print('explained_variance: ', round(explained_variance,4))    \n",
    "    print('r2: ', round(r2,4))\n",
    "    print('MAE: ', round(mean_absolute_error,4))\n",
    "    print('MSE: ', round(mse,4))\n",
    "    print('RMSE: ', round(np.sqrt(mse),4))"
   ]
  },
  {
   "cell_type": "code",
   "execution_count": 5,
   "id": "2ffe554c",
   "metadata": {},
   "outputs": [],
   "source": [
    "poverty_rate_train = np.array(training_data['poverty_rate'])\n",
    "poverty_rate_test = np.array(test_data['poverty_rate'])\n",
    "\n",
    "def poverty_rf_model(train_df, \n",
    "                     test_df, \n",
    "                     variable_list,\n",
    "                     poverty_rate_train = poverty_rate_train,  \n",
    "                     poverty_rate_test = poverty_rate_test):\n",
    "    train_variables = np.array(train_df[variable_list])\n",
    "    test_variables = np.array(test_df[variable_list])\n",
    "    \n",
    "    model = RandomForestRegressor(n_estimators = 100, random_state = 42).fit(train_variables, poverty_rate_train)\n",
    "    predicted = model.predict(test_variables)\n",
    "    \n",
    "    regression_results(poverty_rate_test, predicted)\n",
    "    return pd.DataFrame(model.feature_importances_, index = variable_list).sort_values(by=0,ascending = False)\n",
    "\n",
    "\n"
   ]
  },
  {
   "cell_type": "code",
   "execution_count": 29,
   "id": "a87ecbe1",
   "metadata": {
    "scrolled": true
   },
   "outputs": [
    {
     "name": "stdout",
     "output_type": "stream",
     "text": [
      "explained_variance:  0.5084\n",
      "r2:  0.5074\n",
      "MAE:  5.6073\n",
      "MSE:  59.0159\n",
      "RMSE:  7.6822\n"
     ]
    },
    {
     "data": {
      "text/html": [
       "<div>\n",
       "<style scoped>\n",
       "    .dataframe tbody tr th:only-of-type {\n",
       "        vertical-align: middle;\n",
       "    }\n",
       "\n",
       "    .dataframe tbody tr th {\n",
       "        vertical-align: top;\n",
       "    }\n",
       "\n",
       "    .dataframe thead th {\n",
       "        text-align: right;\n",
       "    }\n",
       "</style>\n",
       "<table border=\"1\" class=\"dataframe\">\n",
       "  <thead>\n",
       "    <tr style=\"text-align: right;\">\n",
       "      <th></th>\n",
       "      <th>0</th>\n",
       "    </tr>\n",
       "  </thead>\n",
       "  <tbody>\n",
       "    <tr>\n",
       "      <th>pct_internet</th>\n",
       "      <td>0.273484</td>\n",
       "    </tr>\n",
       "    <tr>\n",
       "      <th>pct_computer_with_broadband</th>\n",
       "      <td>0.224249</td>\n",
       "    </tr>\n",
       "    <tr>\n",
       "      <th>pct_internet_broadband_any_type</th>\n",
       "      <td>0.025816</td>\n",
       "    </tr>\n",
       "    <tr>\n",
       "      <th>pct_internet_none</th>\n",
       "      <td>0.042694</td>\n",
       "    </tr>\n",
       "    <tr>\n",
       "      <th>pct_internet_cellular</th>\n",
       "      <td>0.041346</td>\n",
       "    </tr>\n",
       "    <tr>\n",
       "      <th>pct_internet_no_subscrp</th>\n",
       "      <td>0.042707</td>\n",
       "    </tr>\n",
       "    <tr>\n",
       "      <th>Ookla Median Download Speed (Mbps)</th>\n",
       "      <td>0.056388</td>\n",
       "    </tr>\n",
       "    <tr>\n",
       "      <th>Ookla Median Upload Speed (Mbps)</th>\n",
       "      <td>0.045802</td>\n",
       "    </tr>\n",
       "    <tr>\n",
       "      <th>All_Provider_Count_100</th>\n",
       "      <td>0.008988</td>\n",
       "    </tr>\n",
       "    <tr>\n",
       "      <th>All_Provider_Count_25</th>\n",
       "      <td>0.008809</td>\n",
       "    </tr>\n",
       "    <tr>\n",
       "      <th>pct_internet_broadband_satellite</th>\n",
       "      <td>0.069532</td>\n",
       "    </tr>\n",
       "    <tr>\n",
       "      <th>Fixed_Wireless_Provider_Count_25</th>\n",
       "      <td>0.005426</td>\n",
       "    </tr>\n",
       "    <tr>\n",
       "      <th>pct_internet_broadband_fiber</th>\n",
       "      <td>0.042170</td>\n",
       "    </tr>\n",
       "    <tr>\n",
       "      <th>Wired_Provider_Count_100</th>\n",
       "      <td>0.005428</td>\n",
       "    </tr>\n",
       "    <tr>\n",
       "      <th>Wired_Provider_Count_25</th>\n",
       "      <td>0.005854</td>\n",
       "    </tr>\n",
       "    <tr>\n",
       "      <th>Fixed_Wireless_Provider_Count_100</th>\n",
       "      <td>0.003478</td>\n",
       "    </tr>\n",
       "    <tr>\n",
       "      <th>Satellite_Provider_Count_100</th>\n",
       "      <td>0.004203</td>\n",
       "    </tr>\n",
       "    <tr>\n",
       "      <th>Fixed_Wireless_Provider_Count</th>\n",
       "      <td>0.010872</td>\n",
       "    </tr>\n",
       "    <tr>\n",
       "      <th>MaxAdUp</th>\n",
       "      <td>0.014078</td>\n",
       "    </tr>\n",
       "    <tr>\n",
       "      <th>All_Provider_Count</th>\n",
       "      <td>0.015591</td>\n",
       "    </tr>\n",
       "    <tr>\n",
       "      <th>Satellite_Provider_Count_25</th>\n",
       "      <td>0.000312</td>\n",
       "    </tr>\n",
       "    <tr>\n",
       "      <th>pct_internet_other</th>\n",
       "      <td>0.010224</td>\n",
       "    </tr>\n",
       "    <tr>\n",
       "      <th>pct_internet_dial_up</th>\n",
       "      <td>0.013612</td>\n",
       "    </tr>\n",
       "    <tr>\n",
       "      <th>pct_internet_dial_up</th>\n",
       "      <td>0.013183</td>\n",
       "    </tr>\n",
       "    <tr>\n",
       "      <th>Wired_Provider_Count</th>\n",
       "      <td>0.015266</td>\n",
       "    </tr>\n",
       "    <tr>\n",
       "      <th>Satellite_Provider_Count</th>\n",
       "      <td>0.000489</td>\n",
       "    </tr>\n",
       "  </tbody>\n",
       "</table>\n",
       "</div>"
      ],
      "text/plain": [
       "                                           0\n",
       "pct_internet                        0.273484\n",
       "pct_computer_with_broadband         0.224249\n",
       "pct_internet_broadband_any_type     0.025816\n",
       "pct_internet_none                   0.042694\n",
       "pct_internet_cellular               0.041346\n",
       "pct_internet_no_subscrp             0.042707\n",
       "Ookla Median Download Speed (Mbps)  0.056388\n",
       "Ookla Median Upload Speed (Mbps)    0.045802\n",
       "All_Provider_Count_100              0.008988\n",
       "All_Provider_Count_25               0.008809\n",
       "pct_internet_broadband_satellite    0.069532\n",
       "Fixed_Wireless_Provider_Count_25    0.005426\n",
       "pct_internet_broadband_fiber        0.042170\n",
       "Wired_Provider_Count_100            0.005428\n",
       "Wired_Provider_Count_25             0.005854\n",
       "Fixed_Wireless_Provider_Count_100   0.003478\n",
       "Satellite_Provider_Count_100        0.004203\n",
       "Fixed_Wireless_Provider_Count       0.010872\n",
       "MaxAdUp                             0.014078\n",
       "All_Provider_Count                  0.015591\n",
       "Satellite_Provider_Count_25         0.000312\n",
       "pct_internet_other                  0.010224\n",
       "pct_internet_dial_up                0.013612\n",
       "pct_internet_dial_up                0.013183\n",
       "Wired_Provider_Count                0.015266\n",
       "Satellite_Provider_Count            0.000489"
      ]
     },
     "execution_count": 29,
     "metadata": {},
     "output_type": "execute_result"
    }
   ],
   "source": [
    "poverty_rf_model(training_data, test_data, all_broadband_variables)"
   ]
  },
  {
   "cell_type": "code",
   "execution_count": 35,
   "id": "dc04cc5e",
   "metadata": {},
   "outputs": [
    {
     "name": "stdout",
     "output_type": "stream",
     "text": [
      "explained_variance:  0.4393\n",
      "r2:  0.4385\n",
      "MAE:  5.9996\n",
      "MSE:  67.264\n",
      "RMSE:  8.2015\n"
     ]
    },
    {
     "data": {
      "text/html": [
       "<div>\n",
       "<style scoped>\n",
       "    .dataframe tbody tr th:only-of-type {\n",
       "        vertical-align: middle;\n",
       "    }\n",
       "\n",
       "    .dataframe tbody tr th {\n",
       "        vertical-align: top;\n",
       "    }\n",
       "\n",
       "    .dataframe thead th {\n",
       "        text-align: right;\n",
       "    }\n",
       "</style>\n",
       "<table border=\"1\" class=\"dataframe\">\n",
       "  <thead>\n",
       "    <tr style=\"text-align: right;\">\n",
       "      <th></th>\n",
       "      <th>0</th>\n",
       "    </tr>\n",
       "  </thead>\n",
       "  <tbody>\n",
       "    <tr>\n",
       "      <th>pct_internet</th>\n",
       "      <td>0.334877</td>\n",
       "    </tr>\n",
       "    <tr>\n",
       "      <th>pct_computer_with_broadband</th>\n",
       "      <td>0.286225</td>\n",
       "    </tr>\n",
       "    <tr>\n",
       "      <th>pct_internet_cellular</th>\n",
       "      <td>0.119297</td>\n",
       "    </tr>\n",
       "    <tr>\n",
       "      <th>pct_internet_broadband_any_type</th>\n",
       "      <td>0.089357</td>\n",
       "    </tr>\n",
       "    <tr>\n",
       "      <th>pct_internet_none</th>\n",
       "      <td>0.086131</td>\n",
       "    </tr>\n",
       "    <tr>\n",
       "      <th>pct_internet_no_subscrp</th>\n",
       "      <td>0.084113</td>\n",
       "    </tr>\n",
       "  </tbody>\n",
       "</table>\n",
       "</div>"
      ],
      "text/plain": [
       "                                        0\n",
       "pct_internet                     0.334877\n",
       "pct_computer_with_broadband      0.286225\n",
       "pct_internet_cellular            0.119297\n",
       "pct_internet_broadband_any_type  0.089357\n",
       "pct_internet_none                0.086131\n",
       "pct_internet_no_subscrp          0.084113"
      ]
     },
     "execution_count": 35,
     "metadata": {},
     "output_type": "execute_result"
    }
   ],
   "source": [
    "poverty_rf_model(training_data, test_data, high_corr)"
   ]
  },
  {
   "cell_type": "code",
   "execution_count": 27,
   "id": "c439af98",
   "metadata": {
    "scrolled": true
   },
   "outputs": [
    {
     "name": "stdout",
     "output_type": "stream",
     "text": [
      "explained_variance:  0.485\n",
      "r2:  0.4842\n",
      "MAE:  5.7395\n",
      "MSE:  61.7986\n",
      "RMSE:  7.8612\n"
     ]
    },
    {
     "data": {
      "text/html": [
       "<div>\n",
       "<style scoped>\n",
       "    .dataframe tbody tr th:only-of-type {\n",
       "        vertical-align: middle;\n",
       "    }\n",
       "\n",
       "    .dataframe tbody tr th {\n",
       "        vertical-align: top;\n",
       "    }\n",
       "\n",
       "    .dataframe thead th {\n",
       "        text-align: right;\n",
       "    }\n",
       "</style>\n",
       "<table border=\"1\" class=\"dataframe\">\n",
       "  <thead>\n",
       "    <tr style=\"text-align: right;\">\n",
       "      <th></th>\n",
       "      <th>0</th>\n",
       "    </tr>\n",
       "  </thead>\n",
       "  <tbody>\n",
       "    <tr>\n",
       "      <th>pct_internet</th>\n",
       "      <td>0.300634</td>\n",
       "    </tr>\n",
       "    <tr>\n",
       "      <th>pct_computer_with_broadband</th>\n",
       "      <td>0.246791</td>\n",
       "    </tr>\n",
       "    <tr>\n",
       "      <th>pct_internet_broadband_any_type</th>\n",
       "      <td>0.050914</td>\n",
       "    </tr>\n",
       "    <tr>\n",
       "      <th>pct_internet_none</th>\n",
       "      <td>0.060704</td>\n",
       "    </tr>\n",
       "    <tr>\n",
       "      <th>pct_internet_cellular</th>\n",
       "      <td>0.077958</td>\n",
       "    </tr>\n",
       "    <tr>\n",
       "      <th>pct_internet_no_subscrp</th>\n",
       "      <td>0.057802</td>\n",
       "    </tr>\n",
       "    <tr>\n",
       "      <th>Ookla Median Download Speed (Mbps)</th>\n",
       "      <td>0.094222</td>\n",
       "    </tr>\n",
       "    <tr>\n",
       "      <th>Ookla Median Upload Speed (Mbps)</th>\n",
       "      <td>0.071547</td>\n",
       "    </tr>\n",
       "    <tr>\n",
       "      <th>All_Provider_Count_100</th>\n",
       "      <td>0.018765</td>\n",
       "    </tr>\n",
       "    <tr>\n",
       "      <th>All_Provider_Count_25</th>\n",
       "      <td>0.020662</td>\n",
       "    </tr>\n",
       "  </tbody>\n",
       "</table>\n",
       "</div>"
      ],
      "text/plain": [
       "                                           0\n",
       "pct_internet                        0.300634\n",
       "pct_computer_with_broadband         0.246791\n",
       "pct_internet_broadband_any_type     0.050914\n",
       "pct_internet_none                   0.060704\n",
       "pct_internet_cellular               0.077958\n",
       "pct_internet_no_subscrp             0.057802\n",
       "Ookla Median Download Speed (Mbps)  0.094222\n",
       "Ookla Median Upload Speed (Mbps)    0.071547\n",
       "All_Provider_Count_100              0.018765\n",
       "All_Provider_Count_25               0.020662"
      ]
     },
     "execution_count": 27,
     "metadata": {},
     "output_type": "execute_result"
    }
   ],
   "source": [
    "poverty_rf_model(training_data, test_data, mid_corr)"
   ]
  },
  {
   "cell_type": "code",
   "execution_count": 26,
   "id": "575f7e6e",
   "metadata": {},
   "outputs": [
    {
     "name": "stdout",
     "output_type": "stream",
     "text": [
      "explained_variance:  0.3961\n",
      "r2:  0.3954\n",
      "MAE:  6.1685\n",
      "MSE:  72.433\n",
      "RMSE:  8.5108\n"
     ]
    },
    {
     "data": {
      "text/html": [
       "<div>\n",
       "<style scoped>\n",
       "    .dataframe tbody tr th:only-of-type {\n",
       "        vertical-align: middle;\n",
       "    }\n",
       "\n",
       "    .dataframe tbody tr th {\n",
       "        vertical-align: top;\n",
       "    }\n",
       "\n",
       "    .dataframe thead th {\n",
       "        text-align: right;\n",
       "    }\n",
       "</style>\n",
       "<table border=\"1\" class=\"dataframe\">\n",
       "  <thead>\n",
       "    <tr style=\"text-align: right;\">\n",
       "      <th></th>\n",
       "      <th>0</th>\n",
       "    </tr>\n",
       "  </thead>\n",
       "  <tbody>\n",
       "    <tr>\n",
       "      <th>pct_internet</th>\n",
       "      <td>0.662285</td>\n",
       "    </tr>\n",
       "    <tr>\n",
       "      <th>Ookla Median Download Speed (Mbps)</th>\n",
       "      <td>0.255690</td>\n",
       "    </tr>\n",
       "    <tr>\n",
       "      <th>All_Provider_Count_100</th>\n",
       "      <td>0.040088</td>\n",
       "    </tr>\n",
       "    <tr>\n",
       "      <th>All_Provider_Count_25</th>\n",
       "      <td>0.041937</td>\n",
       "    </tr>\n",
       "  </tbody>\n",
       "</table>\n",
       "</div>"
      ],
      "text/plain": [
       "                                           0\n",
       "pct_internet                        0.662285\n",
       "Ookla Median Download Speed (Mbps)  0.255690\n",
       "All_Provider_Count_100              0.040088\n",
       "All_Provider_Count_25               0.041937"
      ]
     },
     "execution_count": 26,
     "metadata": {},
     "output_type": "execute_result"
    }
   ],
   "source": [
    "poverty_rf_model(training_data, test_data, small_covariance_med_corr)"
   ]
  },
  {
   "cell_type": "code",
   "execution_count": 38,
   "id": "bb7375fa",
   "metadata": {},
   "outputs": [
    {
     "name": "stdout",
     "output_type": "stream",
     "text": [
      "explained_variance:  0.776\n",
      "r2:  0.7759\n",
      "MAE:  3.7825\n",
      "MSE:  26.8444\n",
      "RMSE:  5.1812\n"
     ]
    }
   ],
   "source": [
    "feature_importance_all_vars = poverty_rf_model(training_data, \n",
    "                                               test_data, \n",
    "                                               all_vars)\n"
   ]
  },
  {
   "cell_type": "markdown",
   "id": "347a7c07",
   "metadata": {},
   "source": [
    "From the all_vars model, we can pick the top variables to use in the grid search. There's a pretty steep dropoff after the 8th variable, so let's just use those."
   ]
  },
  {
   "cell_type": "code",
   "execution_count": 43,
   "id": "32bed174",
   "metadata": {},
   "outputs": [
    {
     "data": {
      "text/plain": [
       "<AxesSubplot:>"
      ]
     },
     "execution_count": 43,
     "metadata": {},
     "output_type": "execute_result"
    },
    {
     "data": {
      "image/png": "[encoded data removed]",
      "text/plain": [
       "<Figure size 432x288 with 1 Axes>"
      ]
     },
     "metadata": {
      "needs_background": "light"
     },
     "output_type": "display_data"
    }
   ],
   "source": [
    "feature_importance_all_vars.head(25).plot.barh()"
   ]
  },
  {
   "cell_type": "code",
   "execution_count": 48,
   "id": "22701d3f",
   "metadata": {},
   "outputs": [
    {
     "data": {
      "text/plain": [
       "array(['pct_internet', 'pct_computer_with_broadband',\n",
       "       'median_age_overall', 'pct_white', 'employment_rate',\n",
       "       'pct_pop_20_to_24', 'pct_pop_disability'], dtype=object)"
      ]
     },
     "execution_count": 48,
     "metadata": {},
     "output_type": "execute_result"
    }
   ],
   "source": [
    "feature_importance_all_vars.head(7).index.values"
   ]
  },
  {
   "cell_type": "code",
   "execution_count": 6,
   "id": "024cc528",
   "metadata": {},
   "outputs": [],
   "source": [
    "key_vars = ['pct_internet', \n",
    "            'pct_computer_with_broadband',\n",
    "            'median_age_overall', \n",
    "            'pct_white', \n",
    "            'employment_rate',\n",
    "            'pct_pop_20_to_24', \n",
    "            'pct_pop_disability']"
   ]
  },
  {
   "cell_type": "markdown",
   "id": "c5006c1a",
   "metadata": {},
   "source": [
    "### Repeating but with broadband variables"
   ]
  },
  {
   "cell_type": "code",
   "execution_count": 11,
   "id": "2af2634c",
   "metadata": {},
   "outputs": [
    {
     "name": "stdout",
     "output_type": "stream",
     "text": [
      "explained_variance:  0.6469\n",
      "r2:  0.6464\n",
      "MAE:  4.6635\n",
      "MSE:  42.3633\n",
      "RMSE:  6.5087\n"
     ]
    }
   ],
   "source": [
    "feature_importance_broadband_vars = poverty_rf_model(training_data, \n",
    "                                                     test_data, \n",
    "                                                     broadband_vars)\n"
   ]
  },
  {
   "cell_type": "code",
   "execution_count": 13,
   "id": "96e6b08f",
   "metadata": {},
   "outputs": [
    {
     "data": {
      "text/plain": [
       "<AxesSubplot:>"
      ]
     },
     "execution_count": 13,
     "metadata": {},
     "output_type": "execute_result"
    },
    {
     "data": {
      "image/png": "[encoded data removed]",
      "text/plain": [
       "<Figure size 432x288 with 1 Axes>"
      ]
     },
     "metadata": {
      "needs_background": "light"
     },
     "output_type": "display_data"
    }
   ],
   "source": [
    "feature_importance_broadband_vars.head(25).plot.barh()"
   ]
  },
  {
   "cell_type": "code",
   "execution_count": 14,
   "id": "8f44b1fa",
   "metadata": {},
   "outputs": [
    {
     "data": {
      "text/plain": [
       "array(['SE', 'pct_computer_with_broadband', 'pct_only_cellular',\n",
       "       'pct_computer_no_internet', 'pct_internet', 'DDI',\n",
       "       'pct_internet_broadband_satellite'], dtype=object)"
      ]
     },
     "execution_count": 14,
     "metadata": {},
     "output_type": "execute_result"
    }
   ],
   "source": [
    "feature_importance_broadband_vars.head(7).index.values"
   ]
  },
  {
   "cell_type": "code",
   "execution_count": 7,
   "id": "b2d8bd9e",
   "metadata": {},
   "outputs": [],
   "source": [
    "key_vars = ['SE', \n",
    "            'pct_computer_with_broadband', \n",
    "            'pct_only_cellular',\n",
    "            'pct_computer_no_internet', \n",
    "            'pct_internet', \n",
    "            'DDI',\n",
    "            'pct_internet_broadband_satellite']"
   ]
  },
  {
   "cell_type": "markdown",
   "id": "7112abd1",
   "metadata": {},
   "source": [
    "---"
   ]
  },
  {
   "cell_type": "markdown",
   "id": "3a3c7f36",
   "metadata": {},
   "source": [
    "## Use Grid Search to find best hyperparameters"
   ]
  },
  {
   "cell_type": "code",
   "execution_count": 51,
   "id": "b890e695",
   "metadata": {},
   "outputs": [
    {
     "name": "stdout",
     "output_type": "stream",
     "text": [
      "{'bootstrap': [True, False],\n",
      " 'max_depth': [10, 35, 60, 85, 110, None],\n",
      " 'max_features': ['auto', 'sqrt'],\n",
      " 'min_samples_leaf': [1, 2, 4],\n",
      " 'min_samples_split': [2, 5, 10],\n",
      " 'n_estimators': [100, 200, 500, 1000]}\n"
     ]
    }
   ],
   "source": [
    "# Number of trees in random forest\n",
    "n_estimators = [100, 200, 500, 1000]\n",
    "# Number of features to consider at every split\n",
    "max_features = ['auto', 'sqrt']\n",
    "# Maximum number of levels in tree\n",
    "max_depth = [int(x) for x in np.linspace(10, 110, num = 5)]\n",
    "max_depth.append(None)\n",
    "# Minimum number of samples required to split a node\n",
    "min_samples_split = [2, 5, 10]\n",
    "# Minimum number of samples required at each leaf node\n",
    "min_samples_leaf = [1, 2, 4]\n",
    "# Method of selecting samples for training each tree\n",
    "bootstrap = [True, False]\n",
    "# Create the random grid\n",
    "random_grid = {'n_estimators': n_estimators,\n",
    "               'max_features': max_features,\n",
    "               'max_depth': max_depth,\n",
    "               'min_samples_split': min_samples_split,\n",
    "               'min_samples_leaf': min_samples_leaf,\n",
    "               'bootstrap': bootstrap}\n",
    "pprint(random_grid)"
   ]
  },
  {
   "cell_type": "code",
   "execution_count": 56,
   "id": "7ef89445",
   "metadata": {},
   "outputs": [
    {
     "name": "stdout",
     "output_type": "stream",
     "text": [
      "Fitting 3 folds for each of 20 candidates, totalling 60 fits\n",
      "[CV] END bootstrap=True, max_depth=60, max_features=sqrt, min_samples_leaf=2, min_samples_split=5, n_estimators=500; total time=  52.1s\n",
      "[CV] END bootstrap=True, max_depth=60, max_features=sqrt, min_samples_leaf=2, min_samples_split=5, n_estimators=500; total time=  53.0s\n",
      "[CV] END bootstrap=False, max_depth=110, max_features=auto, min_samples_leaf=1, min_samples_split=2, n_estimators=100; total time=  56.1s\n",
      "[CV] END bootstrap=False, max_depth=60, max_features=sqrt, min_samples_leaf=2, min_samples_split=10, n_estimators=1000; total time= 2.7min\n",
      "[CV] END bootstrap=False, max_depth=60, max_features=sqrt, min_samples_leaf=2, min_samples_split=10, n_estimators=1000; total time= 3.8min\n",
      "[CV] END bootstrap=True, max_depth=10, max_features=auto, min_samples_leaf=2, min_samples_split=10, n_estimators=1000; total time= 3.4min\n",
      "[CV] END bootstrap=True, max_depth=10, max_features=auto, min_samples_leaf=2, min_samples_split=10, n_estimators=1000; total time= 5.4min\n",
      "[CV] END bootstrap=True, max_depth=110, max_features=auto, min_samples_leaf=1, min_samples_split=10, n_estimators=1000; total time= 8.3min\n",
      "[CV] END bootstrap=False, max_depth=60, max_features=auto, min_samples_leaf=2, min_samples_split=5, n_estimators=200; total time= 2.8min\n",
      "[CV] END bootstrap=False, max_depth=60, max_features=auto, min_samples_leaf=2, min_samples_split=5, n_estimators=200; total time= 2.8min\n",
      "[CV] END bootstrap=True, max_depth=110, max_features=auto, min_samples_leaf=1, min_samples_split=10, n_estimators=500; total time= 4.3min\n",
      "[CV] END bootstrap=True, max_depth=110, max_features=auto, min_samples_leaf=1, min_samples_split=10, n_estimators=500; total time= 4.2min\n",
      "[CV] END bootstrap=False, max_depth=60, max_features=sqrt, min_samples_leaf=2, min_samples_split=2, n_estimators=200; total time=  54.2s\n",
      "[CV] END bootstrap=True, max_depth=None, max_features=auto, min_samples_leaf=4, min_samples_split=10, n_estimators=200; total time= 1.5min\n",
      "[CV] END bootstrap=False, max_depth=110, max_features=sqrt, min_samples_leaf=2, min_samples_split=10, n_estimators=500; total time= 2.1min\n",
      "[CV] END bootstrap=False, max_depth=110, max_features=sqrt, min_samples_leaf=2, min_samples_split=10, n_estimators=500; total time= 2.2min\n",
      "[CV] END bootstrap=False, max_depth=60, max_features=sqrt, min_samples_leaf=2, min_samples_split=5, n_estimators=1000; total time= 4.6min\n",
      "[CV] END bootstrap=False, max_depth=10, max_features=auto, min_samples_leaf=4, min_samples_split=10, n_estimators=100; total time=  52.0s\n",
      "[CV] END bootstrap=False, max_depth=10, max_features=auto, min_samples_leaf=4, min_samples_split=10, n_estimators=100; total time=  50.7s\n",
      "[CV] END bootstrap=False, max_depth=10, max_features=auto, min_samples_leaf=4, min_samples_split=10, n_estimators=100; total time=  50.8s\n",
      "[CV] END bootstrap=False, max_depth=85, max_features=auto, min_samples_leaf=4, min_samples_split=10, n_estimators=500; total time= 6.4min\n",
      "[CV] END bootstrap=False, max_depth=85, max_features=auto, min_samples_leaf=4, min_samples_split=10, n_estimators=500; total time= 6.3min\n",
      "[CV] END bootstrap=True, max_depth=10, max_features=sqrt, min_samples_leaf=4, min_samples_split=5, n_estimators=1000; total time= 1.8min\n",
      "[CV] END bootstrap=True, max_depth=10, max_features=sqrt, min_samples_leaf=4, min_samples_split=5, n_estimators=1000; total time= 1.8min\n",
      "[CV] END bootstrap=False, max_depth=None, max_features=sqrt, min_samples_leaf=2, min_samples_split=10, n_estimators=200; total time=  49.9s\n",
      "[CV] END bootstrap=False, max_depth=None, max_features=sqrt, min_samples_leaf=2, min_samples_split=10, n_estimators=200; total time=  49.5s\n",
      "[CV] END bootstrap=False, max_depth=85, max_features=sqrt, min_samples_leaf=4, min_samples_split=10, n_estimators=100; total time=  23.7s\n",
      "[CV] END bootstrap=True, max_depth=35, max_features=auto, min_samples_leaf=4, min_samples_split=2, n_estimators=100; total time=  44.9s\n",
      "[CV] END bootstrap=True, max_depth=60, max_features=sqrt, min_samples_leaf=2, min_samples_split=5, n_estimators=500; total time=  52.3s\n",
      "[CV] END bootstrap=False, max_depth=110, max_features=auto, min_samples_leaf=1, min_samples_split=2, n_estimators=100; total time=  57.3s\n",
      "[CV] END bootstrap=False, max_depth=110, max_features=auto, min_samples_leaf=1, min_samples_split=2, n_estimators=100; total time=  55.7s\n",
      "[CV] END bootstrap=False, max_depth=60, max_features=sqrt, min_samples_leaf=2, min_samples_split=10, n_estimators=1000; total time= 2.8min\n",
      "[CV] END bootstrap=True, max_depth=110, max_features=auto, min_samples_leaf=2, min_samples_split=10, n_estimators=200; total time= 1.8min\n",
      "[CV] END bootstrap=True, max_depth=110, max_features=auto, min_samples_leaf=2, min_samples_split=10, n_estimators=200; total time= 1.3min\n",
      "[CV] END bootstrap=True, max_depth=110, max_features=auto, min_samples_leaf=2, min_samples_split=10, n_estimators=200; total time=  59.2s\n",
      "[CV] END bootstrap=True, max_depth=10, max_features=auto, min_samples_leaf=2, min_samples_split=10, n_estimators=1000; total time= 3.6min\n",
      "[CV] END bootstrap=True, max_depth=110, max_features=auto, min_samples_leaf=1, min_samples_split=10, n_estimators=1000; total time= 8.1min\n",
      "[CV] END bootstrap=True, max_depth=110, max_features=auto, min_samples_leaf=1, min_samples_split=10, n_estimators=1000; total time= 8.5min\n",
      "[CV] END bootstrap=False, max_depth=60, max_features=auto, min_samples_leaf=2, min_samples_split=5, n_estimators=200; total time= 2.8min\n",
      "[CV] END bootstrap=True, max_depth=110, max_features=auto, min_samples_leaf=1, min_samples_split=10, n_estimators=500; total time= 4.4min\n",
      "[CV] END bootstrap=False, max_depth=10, max_features=sqrt, min_samples_leaf=2, min_samples_split=5, n_estimators=200; total time=  34.8s\n",
      "[CV] END bootstrap=False, max_depth=10, max_features=sqrt, min_samples_leaf=2, min_samples_split=5, n_estimators=200; total time=  32.1s\n",
      "[CV] END bootstrap=False, max_depth=10, max_features=sqrt, min_samples_leaf=2, min_samples_split=5, n_estimators=200; total time=  32.2s\n",
      "[CV] END bootstrap=False, max_depth=60, max_features=sqrt, min_samples_leaf=2, min_samples_split=2, n_estimators=200; total time=  54.3s\n",
      "[CV] END bootstrap=False, max_depth=60, max_features=sqrt, min_samples_leaf=2, min_samples_split=2, n_estimators=200; total time=  54.2s\n",
      "[CV] END bootstrap=True, max_depth=None, max_features=auto, min_samples_leaf=4, min_samples_split=10, n_estimators=200; total time= 1.5min\n",
      "[CV] END bootstrap=True, max_depth=None, max_features=auto, min_samples_leaf=4, min_samples_split=10, n_estimators=200; total time= 1.5min\n",
      "[CV] END bootstrap=False, max_depth=110, max_features=sqrt, min_samples_leaf=2, min_samples_split=10, n_estimators=500; total time= 2.1min\n",
      "[CV] END bootstrap=False, max_depth=60, max_features=sqrt, min_samples_leaf=2, min_samples_split=5, n_estimators=1000; total time= 4.7min\n",
      "[CV] END bootstrap=False, max_depth=60, max_features=sqrt, min_samples_leaf=2, min_samples_split=5, n_estimators=1000; total time= 4.4min\n",
      "[CV] END bootstrap=False, max_depth=85, max_features=auto, min_samples_leaf=4, min_samples_split=10, n_estimators=500; total time= 6.4min\n",
      "[CV] END bootstrap=False, max_depth=110, max_features=auto, min_samples_leaf=4, min_samples_split=2, n_estimators=200; total time= 2.6min\n",
      "[CV] END bootstrap=False, max_depth=110, max_features=auto, min_samples_leaf=4, min_samples_split=2, n_estimators=200; total time= 2.5min\n",
      "[CV] END bootstrap=False, max_depth=110, max_features=auto, min_samples_leaf=4, min_samples_split=2, n_estimators=200; total time= 2.4min\n",
      "[CV] END bootstrap=True, max_depth=10, max_features=sqrt, min_samples_leaf=4, min_samples_split=5, n_estimators=1000; total time= 1.8min\n",
      "[CV] END bootstrap=False, max_depth=None, max_features=sqrt, min_samples_leaf=2, min_samples_split=10, n_estimators=200; total time=  50.1s\n",
      "[CV] END bootstrap=False, max_depth=85, max_features=sqrt, min_samples_leaf=4, min_samples_split=10, n_estimators=100; total time=  23.8s\n",
      "[CV] END bootstrap=False, max_depth=85, max_features=sqrt, min_samples_leaf=4, min_samples_split=10, n_estimators=100; total time=  23.9s\n",
      "[CV] END bootstrap=True, max_depth=35, max_features=auto, min_samples_leaf=4, min_samples_split=2, n_estimators=100; total time=  45.1s\n",
      "[CV] END bootstrap=True, max_depth=35, max_features=auto, min_samples_leaf=4, min_samples_split=2, n_estimators=100; total time=  37.6s\n"
     ]
    },
    {
     "data": {
      "text/plain": [
       "RandomizedSearchCV(cv=3, estimator=RandomForestRegressor(), n_iter=20,\n",
       "                   n_jobs=-1,\n",
       "                   param_distributions={'bootstrap': [True, False],\n",
       "                                        'max_depth': [10, 35, 60, 85, 110,\n",
       "                                                      None],\n",
       "                                        'max_features': ['auto', 'sqrt'],\n",
       "                                        'min_samples_leaf': [1, 2, 4],\n",
       "                                        'min_samples_split': [2, 5, 10],\n",
       "                                        'n_estimators': [100, 200, 500, 1000]},\n",
       "                   random_state=42, verbose=2)"
      ]
     },
     "execution_count": 56,
     "metadata": {},
     "output_type": "execute_result"
    }
   ],
   "source": [
    "# Use the random grid to search for best hyperparameters\n",
    "# First create the base model to tune\n",
    "rf = RandomForestRegressor()\n",
    "# Random search of parameters, using 3 fold cross validation, \n",
    "# search across 20 different combinations, and us\n",
    "\n",
    "rf_random = RandomizedSearchCV(estimator = rf, \n",
    "                               param_distributions = random_grid, \n",
    "                               n_iter = 20, \n",
    "                               cv = 3, \n",
    "                               verbose=2, \n",
    "                               random_state=42, \n",
    "                               n_jobs = -1)\n",
    "\n",
    "# Fit the random search model\n",
    "rf_random.fit(training_data[key_vars], poverty_rate_train)"
   ]
  },
  {
   "cell_type": "code",
   "execution_count": 57,
   "id": "a738dea3",
   "metadata": {},
   "outputs": [
    {
     "data": {
      "text/plain": [
       "{'n_estimators': 1000,\n",
       " 'min_samples_split': 10,\n",
       " 'min_samples_leaf': 2,\n",
       " 'max_features': 'auto',\n",
       " 'max_depth': 10,\n",
       " 'bootstrap': True}"
      ]
     },
     "execution_count": 57,
     "metadata": {},
     "output_type": "execute_result"
    }
   ],
   "source": [
    "rf_random.best_params_"
   ]
  },
  {
   "cell_type": "code",
   "execution_count": 60,
   "id": "e3d50708",
   "metadata": {},
   "outputs": [],
   "source": [
    "predictions = rf_random.predict(test_data[key_vars])"
   ]
  },
  {
   "cell_type": "code",
   "execution_count": 62,
   "id": "ed34f7b5",
   "metadata": {},
   "outputs": [
    {
     "name": "stdout",
     "output_type": "stream",
     "text": [
      "explained_variance:  0.7276\n",
      "r2:  0.7276\n",
      "MAE:  4.1451\n",
      "MSE:  32.6335\n",
      "RMSE:  5.7126\n"
     ]
    }
   ],
   "source": [
    "regression_results(poverty_rate_test, predictions)"
   ]
  },
  {
   "cell_type": "markdown",
   "id": "f36be755",
   "metadata": {},
   "source": [
    "Optimizing has created a much better model! "
   ]
  },
  {
   "cell_type": "markdown",
   "id": "da94d20c",
   "metadata": {},
   "source": [
    "### Limiting to Cali Data, broadband vars"
   ]
  },
  {
   "cell_type": "code",
   "execution_count": 8,
   "id": "d737ff86",
   "metadata": {},
   "outputs": [],
   "source": [
    "cali_train_data = training_data[training_data.state == 6]\n",
    "cali_test_data = test_data[test_data.state == 6]"
   ]
  },
  {
   "cell_type": "code",
   "execution_count": 9,
   "id": "6b2c6270",
   "metadata": {},
   "outputs": [
    {
     "name": "stdout",
     "output_type": "stream",
     "text": [
      "explained_variance:  0.6182\n",
      "r2:  0.6173\n",
      "MAE:  4.369\n",
      "MSE:  37.5463\n",
      "RMSE:  6.1275\n"
     ]
    }
   ],
   "source": [
    "regressor = RandomForestRegressor(n_estimators = 1000, \n",
    "                                  min_samples_split = 10, \n",
    "                                  min_samples_leaf = 2, \n",
    "                                  max_features = 'auto',\n",
    "                                  max_depth = 10,\n",
    "                                  bootstrap = True)\n",
    "\n",
    "regressor.fit(cali_train_data[key_vars],  np.array(cali_train_data['poverty_rate']))\n",
    "predictions = regressor.predict(cali_test_data[key_vars])\n",
    "regression_results(np.array(cali_test_data['poverty_rate']), predictions)"
   ]
  },
  {
   "cell_type": "code",
   "execution_count": 10,
   "id": "bb7a367a",
   "metadata": {},
   "outputs": [],
   "source": [
    "pickle.dump(regressor, open('/home/ec2-user/capstone/broadband-capstone/models/poverty_rate_random_forest.sav', 'wb'))"
   ]
  },
  {
   "cell_type": "code",
   "execution_count": 18,
   "id": "ec501202",
   "metadata": {},
   "outputs": [
    {
     "name": "stdout",
     "output_type": "stream",
     "text": [
      "explained_variance:  0.6192\n",
      "r2:  0.6191\n",
      "MAE:  4.8267\n",
      "MSE:  45.6334\n",
      "RMSE:  6.7553\n"
     ]
    }
   ],
   "source": [
    "regressor = RandomForestRegressor(n_estimators = 1000, \n",
    "                                  min_samples_split = 10, \n",
    "                                  min_samples_leaf = 2, \n",
    "                                  max_features = 'auto',\n",
    "                                  max_depth = 10,\n",
    "                                  bootstrap = True)\n",
    "\n",
    "regressor.fit(training_data[key_vars],  training_data['poverty_rate'])\n",
    "predictions = regressor.predict(test_data[key_vars])\n",
    "regression_results(np.array(test_data['poverty_rate']), predictions)"
   ]
  }
 ],
 "metadata": {
  "kernelspec": {
   "display_name": "Python 3 (ipykernel)",
   "language": "python",
   "name": "python3"
  },
  "language_info": {
   "codemirror_mode": {
    "name": "ipython",
    "version": 3
   },
   "file_extension": ".py",
   "mimetype": "text/x-python",
   "name": "python",
   "nbconvert_exporter": "python",
   "pygments_lexer": "ipython3",
   "version": "3.7.10"
  }
 },
 "nbformat": 4,
 "nbformat_minor": 5
}
