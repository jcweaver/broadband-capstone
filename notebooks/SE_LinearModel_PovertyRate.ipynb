{
 "cells": [
  {
   "cell_type": "markdown",
   "id": "f7c6e7da",
   "metadata": {},
   "source": [
    "## Imports, Reading Data, Setting up tests"
   ]
  },
  {
   "cell_type": "code",
   "execution_count": 119,
   "id": "1d04b65c",
   "metadata": {},
   "outputs": [],
   "source": [
    "import pandas as pd\n",
    "import numpy as np\n",
    "from sklearn.linear_model import LinearRegression\n",
    "import sklearn.metrics as metrics"
   ]
  },
  {
   "cell_type": "code",
   "execution_count": 10,
   "id": "4c76879f",
   "metadata": {},
   "outputs": [],
   "source": [
    "training_data = pd.read_csv('/home/ec2-user/capstone/broadband-capstone/data/broadband_training_2.csv')\n",
    "test_data = pd.read_csv('/home/ec2-user/capstone/broadband-capstone/data/broadband_test_2.csv')"
   ]
  },
  {
   "cell_type": "code",
   "execution_count": 13,
   "id": "20707008",
   "metadata": {},
   "outputs": [],
   "source": [
    "#These are taken from the PickingVariables notebook\n",
    "\n",
    "all_broadband_variables = [\"pct_internet\", \n",
    "                           \"pct_computer_with_broadband\",\n",
    "                           \"pct_internet_broadband_any_type\",\n",
    "                           \"pct_internet_none\",\n",
    "                           \"pct_internet_cellular\",\n",
    "                           \"pct_internet_no_subscrp\",\n",
    "                           \"Ookla Median Download Speed (Mbps)\",\n",
    "                           \"Ookla Median Upload Speed (Mbps)\",\n",
    "                           \"All_Provider_Count_100\",\n",
    "                           \"All_Provider_Count_25\",\n",
    "                           \"pct_internet_broadband_satellite\",\n",
    "                           \"Fixed_Wireless_Provider_Count_25\",\n",
    "                           \"pct_internet_broadband_fiber\",\n",
    "                           \"Wired_Provider_Count_100\",\n",
    "                           \"Wired_Provider_Count_25\",\n",
    "                           \"Fixed_Wireless_Provider_Count_100\",\n",
    "                           \"Satellite_Provider_Count_100\",\n",
    "                           \"Fixed_Wireless_Provider_Count\",\n",
    "                           \"MaxAdUp\",\n",
    "                           \"All_Provider_Count\",\n",
    "                           \"Satellite_Provider_Count_25\",\n",
    "                           \"pct_internet_other\",\n",
    "                           \"pct_internet_dial_up\",\n",
    "                           \"pct_internet_dial_up\",\n",
    "                           \"Wired_Provider_Count\",\n",
    "                           \"Satellite_Provider_Count\"]\n",
    "\n",
    "#All variables with correlation > 0.3\n",
    "high_corr = [\"pct_internet\", \n",
    "             \"pct_computer_with_broadband\",\n",
    "             \"pct_internet_broadband_any_type\",\n",
    "             \"pct_internet_none\",\n",
    "             \"pct_internet_cellular\",\n",
    "             \"pct_internet_no_subscrp\"]\n",
    "\n",
    "#All variables with correlation > 0.1\n",
    "mid_corr = [\"pct_internet\", \n",
    "            \"pct_computer_with_broadband\",\n",
    "            \"pct_internet_broadband_any_type\",\n",
    "            \"pct_internet_none\",\n",
    "            \"pct_internet_cellular\",\n",
    "            \"pct_internet_no_subscrp\",\n",
    "            \"Ookla Median Download Speed (Mbps)\",\n",
    "            \"Ookla Median Upload Speed (Mbps)\",\n",
    "            \"All_Provider_Count_100\",\n",
    "            \"All_Provider_Count_25\"]\n",
    "\n",
    "small_covariance_med_corr = ['pct_internet',\n",
    "                             'Ookla Median Download Speed (Mbps)',\n",
    "                             'All_Provider_Count_100',\n",
    "                             'All_Provider_Count_25']"
   ]
  },
  {
   "cell_type": "markdown",
   "id": "9472d271",
   "metadata": {},
   "source": [
    "## Modeling"
   ]
  },
  {
   "cell_type": "markdown",
   "id": "484e795a",
   "metadata": {},
   "source": [
    "### Functions "
   ]
  },
  {
   "cell_type": "code",
   "execution_count": 45,
   "id": "96a2b2b2",
   "metadata": {},
   "outputs": [],
   "source": [
    "def regression_results(y_true, y_pred):\n",
    "\n",
    "    # Regression metrics\n",
    "    explained_variance=metrics.explained_variance_score(y_true, y_pred)\n",
    "    mean_absolute_error=metrics.mean_absolute_error(y_true, y_pred) \n",
    "    mse=metrics.mean_squared_error(y_true, y_pred) \n",
    "    median_absolute_error=metrics.median_absolute_error(y_true, y_pred)\n",
    "    r2=metrics.r2_score(y_true, y_pred)\n",
    "\n",
    "    print('explained_variance: ', round(explained_variance,4))    \n",
    "    print('r2: ', round(r2,4))\n",
    "    print('MAE: ', round(mean_absolute_error,4))\n",
    "    print('MSE: ', round(mse,4))\n",
    "    print('RMSE: ', round(np.sqrt(mse),4))"
   ]
  },
  {
   "cell_type": "code",
   "execution_count": 118,
   "id": "c1acb20e",
   "metadata": {},
   "outputs": [],
   "source": [
    "poverty_rate_train = np.array(training_data['poverty_rate'])\n",
    "poverty_rate_test = np.array(test_data['poverty_rate'])\n",
    "\n",
    "def poverty_model(train_df, test_df, variable_list):\n",
    "    train_variables = np.array(train_df[variable_list])\n",
    "    test_variables = np.array(test_df[variable_list])\n",
    "    \n",
    "    model = LinearRegression().fit(train_variables, poverty_rate_train)\n",
    "    predicted = model.predict(test_variables)\n",
    "    \n",
    "    regression_results(poverty_rate_test, predicted)\n",
    "    \n",
    "    print(\"\\n\")\n",
    "    coefficients = pd.DataFrame()\n",
    "    coefficients['variable'] = variable_list\n",
    "    coefficients['coef'] = model.coef_\n",
    "    coefficients['abs_coef'] = np.absolute(model.coef_)\n",
    "\n",
    "    coefficients.sort_values(by=\"abs_coef\", ascending=False, inplace=True)\n",
    "    \n",
    "    for i in range(len(coefficients)):\n",
    "        print (f\"{coefficients['variable'].iloc[i]}: {coefficients['coef'].iloc[i]}\")\n",
    "    \n",
    "    return True"
   ]
  },
  {
   "cell_type": "markdown",
   "id": "0e6c921f",
   "metadata": {},
   "source": [
    "### Trying different Sets of Variables"
   ]
  },
  {
   "cell_type": "code",
   "execution_count": 111,
   "id": "004d0600",
   "metadata": {
    "scrolled": true
   },
   "outputs": [
    {
     "name": "stdout",
     "output_type": "stream",
     "text": [
      "explained_variance:  0.4533\n",
      "r2:  0.4532\n",
      "MAE:  5.6337\n",
      "MSE:  62.0229\n",
      "RMSE:  7.8755\n",
      "\n",
      "\n",
      "Satellite_Provider_Count_25: 3.71610709554571\n",
      "Fixed_Wireless_Provider_Count_100: 1.2885797413977291\n",
      "Satellite_Provider_Count: -1.2727398430083605\n",
      "pct_computer_with_broadband: -0.9647865509902543\n",
      "Wired_Provider_Count_100: 0.7639581379425513\n",
      "All_Provider_Count_100: -0.6466586704494924\n",
      "pct_internet_dial_up: -0.6298825055177137\n",
      "pct_internet_dial_up: -0.6298825055177134\n",
      "Satellite_Provider_Count_100: 0.6180255115329474\n",
      "pct_internet_broadband_any_type: 0.4728528407355493\n",
      "Fixed_Wireless_Provider_Count_25: 0.3693850860189547\n",
      "pct_internet_other: 0.29924613936473793\n",
      "All_Provider_Count_25: -0.28274412765840823\n",
      "Wired_Provider_Count_25: -0.260934788864434\n",
      "Fixed_Wireless_Provider_Count: -0.23973886630074578\n",
      "pct_internet_broadband_satellite: -0.22219066278448688\n",
      "pct_internet: -0.1570296647821671\n",
      "pct_internet_no_subscrp: 0.10508619923175942\n",
      "pct_internet_cellular: 0.08025425513943917\n",
      "All_Provider_Count: 0.05584320588364551\n",
      "pct_internet_none: 0.05194346555040991\n",
      "Ookla Median Upload Speed (Mbps): -0.04993324098429486\n",
      "Wired_Provider_Count: 0.030651545263564815\n",
      "Ookla Median Download Speed (Mbps): 0.012730613068700573\n",
      "pct_internet_broadband_fiber: 0.002620344641562995\n",
      "MaxAdUp: 0.0004883231043163776\n"
     ]
    },
    {
     "data": {
      "text/plain": [
       "True"
      ]
     },
     "execution_count": 111,
     "metadata": {},
     "output_type": "execute_result"
    }
   ],
   "source": [
    "poverty_model(training_data, test_data, all_broadband_variables)"
   ]
  },
  {
   "cell_type": "code",
   "execution_count": 115,
   "id": "6b947271",
   "metadata": {
    "scrolled": true
   },
   "outputs": [
    {
     "name": "stdout",
     "output_type": "stream",
     "text": [
      "explained_variance:  0.4335\n",
      "r2:  0.4334\n",
      "MAE:  5.7442\n",
      "MSE:  64.2595\n",
      "RMSE:  8.0162\n",
      "\n",
      "\n",
      "pct_internet: -838284024778.3242\n",
      "pct_internet_none: -838284024776.5057\n",
      "pct_internet_no_subscrp: -838284024776.4218\n",
      "pct_internet_broadband_any_type: 2.2038716265987817\n",
      "pct_computer_with_broadband: -1.07354736328125\n",
      "pct_internet_cellular: 0.08555968260564757\n"
     ]
    },
    {
     "data": {
      "text/plain": [
       "True"
      ]
     },
     "execution_count": 115,
     "metadata": {},
     "output_type": "execute_result"
    }
   ],
   "source": [
    "poverty_model(training_data, test_data, high_corr)"
   ]
  },
  {
   "cell_type": "code",
   "execution_count": 113,
   "id": "5ec2c34f",
   "metadata": {},
   "outputs": [
    {
     "name": "stdout",
     "output_type": "stream",
     "text": [
      "explained_variance:  0.4433\n",
      "r2:  0.4432\n",
      "MAE:  5.6627\n",
      "MSE:  63.1552\n",
      "RMSE:  7.947\n",
      "\n",
      "\n",
      "pct_internet_broadband_any_type: 1.8975544534073447\n",
      "pct_internet: -1.083841766100386\n",
      "pct_computer_with_broadband: -1.009853755526319\n",
      "pct_internet_no_subscrp: 0.5789910638128593\n",
      "pct_internet_none: 0.5048507022875212\n",
      "All_Provider_Count_25: -0.32016394139616666\n",
      "All_Provider_Count_100: 0.21140454581813406\n",
      "pct_internet_cellular: 0.08023860850744824\n",
      "Ookla Median Upload Speed (Mbps): -0.043456167425752305\n",
      "Ookla Median Download Speed (Mbps): 0.023195377546676436\n"
     ]
    },
    {
     "data": {
      "text/plain": [
       "True"
      ]
     },
     "execution_count": 113,
     "metadata": {},
     "output_type": "execute_result"
    }
   ],
   "source": [
    "poverty_model(training_data, test_data, mid_corr)"
   ]
  },
  {
   "cell_type": "code",
   "execution_count": 114,
   "id": "521fedd2",
   "metadata": {},
   "outputs": [
    {
     "name": "stdout",
     "output_type": "stream",
     "text": [
      "explained_variance:  0.4199\n",
      "r2:  0.4199\n",
      "MAE:  5.7744\n",
      "MSE:  65.7997\n",
      "RMSE:  8.1117\n",
      "\n",
      "\n",
      "pct_internet: -0.6634353379761093\n",
      "All_Provider_Count_25: -0.3763132164083473\n",
      "All_Provider_Count_100: 0.28527417584146936\n",
      "Ookla Median Download Speed (Mbps): 0.02217068726250546\n"
     ]
    },
    {
     "data": {
      "text/plain": [
       "True"
      ]
     },
     "execution_count": 114,
     "metadata": {},
     "output_type": "execute_result"
    }
   ],
   "source": [
    "poverty_model(training_data, test_data, small_covariance_med_corr)"
   ]
  },
  {
   "cell_type": "markdown",
   "id": "7d0ed052",
   "metadata": {},
   "source": [
    "The best of these models is the all_broadband_variables model. Oddly, the variables in the model with the highest impact on the model  (highest coefficients) did not have high correlations with poverty_rate itself."
   ]
  },
  {
   "cell_type": "code",
   "execution_count": null,
   "id": "2de212c0",
   "metadata": {},
   "outputs": [],
   "source": []
  }
 ],
 "metadata": {
  "kernelspec": {
   "display_name": "Python 3 (ipykernel)",
   "language": "python",
   "name": "python3"
  },
  "language_info": {
   "codemirror_mode": {
    "name": "ipython",
    "version": 3
   },
   "file_extension": ".py",
   "mimetype": "text/x-python",
   "name": "python",
   "nbconvert_exporter": "python",
   "pygments_lexer": "ipython3",
   "version": "3.7.10"
  }
 },
 "nbformat": 4,
 "nbformat_minor": 5
}
