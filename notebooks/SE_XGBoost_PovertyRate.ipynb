{
 "cells": [
  {
   "cell_type": "markdown",
   "id": "7a7e452b",
   "metadata": {},
   "source": [
    "## Imports, Reading Data, Setting up tests"
   ]
  },
  {
   "cell_type": "code",
   "execution_count": 11,
   "id": "52f77ccb",
   "metadata": {},
   "outputs": [],
   "source": [
    "import pandas as pd\n",
    "import numpy as np\n",
    "import sklearn.metrics as metrics\n",
    "import xgboost\n",
    "from xgboost import XGBRegressor"
   ]
  },
  {
   "cell_type": "code",
   "execution_count": 6,
   "id": "69659d00",
   "metadata": {},
   "outputs": [],
   "source": [
    "training_data = pd.read_csv('/home/ec2-user/capstone/broadband-capstone/data/broadband_training_2.csv')\n",
    "test_data = pd.read_csv('/home/ec2-user/capstone/broadband-capstone/data/broadband_test_2.csv')"
   ]
  },
  {
   "cell_type": "code",
   "execution_count": 7,
   "id": "0f4ab42f",
   "metadata": {},
   "outputs": [],
   "source": [
    "#These are taken from the PickingVariables notebook\n",
    "\n",
    "all_broadband_variables = [\"pct_internet\", \n",
    "                           \"pct_computer_with_broadband\",\n",
    "                           \"pct_internet_broadband_any_type\",\n",
    "                           \"pct_internet_none\",\n",
    "                           \"pct_internet_cellular\",\n",
    "                           \"pct_internet_no_subscrp\",\n",
    "                           \"Ookla Median Download Speed (Mbps)\",\n",
    "                           \"Ookla Median Upload Speed (Mbps)\",\n",
    "                           \"All_Provider_Count_100\",\n",
    "                           \"All_Provider_Count_25\",\n",
    "                           \"pct_internet_broadband_satellite\",\n",
    "                           \"Fixed_Wireless_Provider_Count_25\",\n",
    "                           \"pct_internet_broadband_fiber\",\n",
    "                           \"Wired_Provider_Count_100\",\n",
    "                           \"Wired_Provider_Count_25\",\n",
    "                           \"Fixed_Wireless_Provider_Count_100\",\n",
    "                           \"Satellite_Provider_Count_100\",\n",
    "                           \"Fixed_Wireless_Provider_Count\",\n",
    "                           \"MaxAdUp\",\n",
    "                           \"All_Provider_Count\",\n",
    "                           \"Satellite_Provider_Count_25\",\n",
    "                           \"pct_internet_other\",\n",
    "                           \"pct_internet_dial_up\",\n",
    "                           \"pct_internet_dial_up\",\n",
    "                           \"Wired_Provider_Count\",\n",
    "                           \"Satellite_Provider_Count\"]\n",
    "\n",
    "#All variables with correlation > 0.3\n",
    "high_corr = [\"pct_internet\", \n",
    "             \"pct_computer_with_broadband\",\n",
    "             \"pct_internet_broadband_any_type\",\n",
    "             \"pct_internet_none\",\n",
    "             \"pct_internet_cellular\",\n",
    "             \"pct_internet_no_subscrp\"]\n",
    "\n",
    "#All variables with correlation > 0.1\n",
    "mid_corr = [\"pct_internet\", \n",
    "            \"pct_computer_with_broadband\",\n",
    "            \"pct_internet_broadband_any_type\",\n",
    "            \"pct_internet_none\",\n",
    "            \"pct_internet_cellular\",\n",
    "            \"pct_internet_no_subscrp\",\n",
    "            \"Ookla Median Download Speed (Mbps)\",\n",
    "            \"Ookla Median Upload Speed (Mbps)\",\n",
    "            \"All_Provider_Count_100\",\n",
    "            \"All_Provider_Count_25\"]\n",
    "\n",
    "small_covariance_med_corr = ['pct_internet',\n",
    "                             'Ookla Median Download Speed (Mbps)',\n",
    "                             'All_Provider_Count_100',\n",
    "                             'All_Provider_Count_25']"
   ]
  },
  {
   "cell_type": "markdown",
   "id": "2a5300c4",
   "metadata": {},
   "source": [
    "## Modeling"
   ]
  },
  {
   "cell_type": "markdown",
   "id": "159016d1",
   "metadata": {},
   "source": [
    "### Functions"
   ]
  },
  {
   "cell_type": "code",
   "execution_count": 8,
   "id": "504f56de",
   "metadata": {},
   "outputs": [],
   "source": [
    "def regression_results(y_true, y_pred):\n",
    "\n",
    "    # Regression metrics\n",
    "    explained_variance=metrics.explained_variance_score(y_true, y_pred)\n",
    "    mean_absolute_error=metrics.mean_absolute_error(y_true, y_pred) \n",
    "    mse=metrics.mean_squared_error(y_true, y_pred) \n",
    "    median_absolute_error=metrics.median_absolute_error(y_true, y_pred)\n",
    "    r2=metrics.r2_score(y_true, y_pred)\n",
    "\n",
    "    print('explained_variance: ', round(explained_variance,4))    \n",
    "    print('r2: ', round(r2,4))\n",
    "    print('MAE: ', round(mean_absolute_error,4))\n",
    "    print('MSE: ', round(mse,4))\n",
    "    print('RMSE: ', round(np.sqrt(mse),4))"
   ]
  },
  {
   "cell_type": "code",
   "execution_count": 13,
   "id": "47b50ee9",
   "metadata": {},
   "outputs": [],
   "source": [
    "poverty_rate_train = np.array(training_data['poverty_rate'])\n",
    "poverty_rate_test = np.array(test_data['poverty_rate'])\n",
    "\n",
    "def poverty_XGBoost_model(train_df, test_df, variable_list):\n",
    "    train_variables = np.array(train_df[variable_list])\n",
    "    test_variables = np.array(test_df[variable_list])\n",
    "    \n",
    "    model = XGBRegressor().fit(train_variables, poverty_rate_train)\n",
    "    predicted = model.predict(test_variables)\n",
    "    \n",
    "    regression_results(poverty_rate_test, predicted)\n",
    "    \n",
    "    return True"
   ]
  },
  {
   "cell_type": "code",
   "execution_count": 14,
   "id": "160b7f80",
   "metadata": {},
   "outputs": [
    {
     "name": "stdout",
     "output_type": "stream",
     "text": [
      "explained_variance:  0.4887\n",
      "r2:  0.4886\n",
      "MAE:  5.3967\n",
      "MSE:  57.9994\n",
      "RMSE:  7.6157\n"
     ]
    },
    {
     "data": {
      "text/plain": [
       "True"
      ]
     },
     "execution_count": 14,
     "metadata": {},
     "output_type": "execute_result"
    }
   ],
   "source": [
    "poverty_XGBoost_model(training_data, test_data, all_broadband_variables)"
   ]
  },
  {
   "cell_type": "code",
   "execution_count": 15,
   "id": "61ecd7c9",
   "metadata": {},
   "outputs": [
    {
     "name": "stdout",
     "output_type": "stream",
     "text": [
      "explained_variance:  0.4337\n",
      "r2:  0.4337\n",
      "MAE:  5.7247\n",
      "MSE:  64.2296\n",
      "RMSE:  8.0143\n"
     ]
    },
    {
     "data": {
      "text/plain": [
       "True"
      ]
     },
     "execution_count": 15,
     "metadata": {},
     "output_type": "execute_result"
    }
   ],
   "source": [
    "poverty_XGBoost_model(training_data, test_data, high_corr)"
   ]
  },
  {
   "cell_type": "code",
   "execution_count": 16,
   "id": "02c64615",
   "metadata": {},
   "outputs": [
    {
     "name": "stdout",
     "output_type": "stream",
     "text": [
      "explained_variance:  0.4648\n",
      "r2:  0.4647\n",
      "MAE:  5.5515\n",
      "MSE:  60.7112\n",
      "RMSE:  7.7917\n"
     ]
    },
    {
     "data": {
      "text/plain": [
       "True"
      ]
     },
     "execution_count": 16,
     "metadata": {},
     "output_type": "execute_result"
    }
   ],
   "source": [
    "poverty_XGBoost_model(training_data, test_data, mid_corr)"
   ]
  },
  {
   "cell_type": "code",
   "execution_count": 17,
   "id": "cb8cea2f",
   "metadata": {},
   "outputs": [
    {
     "name": "stdout",
     "output_type": "stream",
     "text": [
      "explained_variance:  0.43\n",
      "r2:  0.4299\n",
      "MAE:  5.6992\n",
      "MSE:  64.6642\n",
      "RMSE:  8.0414\n"
     ]
    },
    {
     "data": {
      "text/plain": [
       "True"
      ]
     },
     "execution_count": 17,
     "metadata": {},
     "output_type": "execute_result"
    }
   ],
   "source": [
    "poverty_XGBoost_model(training_data, test_data, small_covariance_med_corr) "
   ]
  },
  {
   "cell_type": "markdown",
   "id": "d69fd654",
   "metadata": {},
   "source": [
    "Mid_corr performs the best in this model as well."
   ]
  }
 ],
 "metadata": {
  "kernelspec": {
   "display_name": "Python 3 (ipykernel)",
   "language": "python",
   "name": "python3"
  },
  "language_info": {
   "codemirror_mode": {
    "name": "ipython",
    "version": 3
   },
   "file_extension": ".py",
   "mimetype": "text/x-python",
   "name": "python",
   "nbconvert_exporter": "python",
   "pygments_lexer": "ipython3",
   "version": "3.7.10"
  }
 },
 "nbformat": 4,
 "nbformat_minor": 5
}
