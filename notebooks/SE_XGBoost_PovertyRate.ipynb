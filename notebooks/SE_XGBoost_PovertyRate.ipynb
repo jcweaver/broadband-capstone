{
 "cells": [
  {
   "cell_type": "markdown",
   "id": "4d80f089",
   "metadata": {},
   "source": [
    "## Imports, Reading Data, Setting up tests"
   ]
  },
  {
   "cell_type": "code",
   "execution_count": 22,
   "id": "52f77ccb",
   "metadata": {},
   "outputs": [],
   "source": [
    "import pandas as pd\n",
    "import numpy as np\n",
    "import sklearn.metrics as metrics\n",
    "from xgboost import XGBRegressor\n",
    "from sklearn.model_selection import RandomizedSearchCV\n"
   ]
  },
  {
   "cell_type": "code",
   "execution_count": 7,
   "id": "69659d00",
   "metadata": {},
   "outputs": [],
   "source": [
    "training_data = pd.read_csv('/home/ec2-user/capstone/broadband-capstone/data/broadband_training_bin_1.csv')\n",
    "test_data = pd.read_csv('/home/ec2-user/capstone/broadband-capstone/data/broadband_test_bin_1.csv')"
   ]
  },
  {
   "cell_type": "code",
   "execution_count": 3,
   "id": "368cd030",
   "metadata": {},
   "outputs": [],
   "source": [
    "#These are taken from the PickingVariables notebook\n",
    "\n",
    "all_broadband_variables = [\"pct_internet\", \n",
    "                           \"pct_computer_with_broadband\",\n",
    "                           \"pct_internet_broadband_any_type\",\n",
    "                           \"pct_internet_none\",\n",
    "                           \"pct_internet_cellular\",\n",
    "                           \"pct_internet_no_subscrp\",\n",
    "                           \"Ookla Median Download Speed (Mbps)\",\n",
    "                           \"Ookla Median Upload Speed (Mbps)\",\n",
    "                           \"All_Provider_Count_100\",\n",
    "                           \"All_Provider_Count_25\",\n",
    "                           \"pct_internet_broadband_satellite\",\n",
    "                           \"Fixed_Wireless_Provider_Count_25\",\n",
    "                           \"pct_internet_broadband_fiber\",\n",
    "                           \"Wired_Provider_Count_100\",\n",
    "                           \"Wired_Provider_Count_25\",\n",
    "                           \"Fixed_Wireless_Provider_Count_100\",\n",
    "                           \"Satellite_Provider_Count_100\",\n",
    "                           \"Fixed_Wireless_Provider_Count\",\n",
    "                           \"MaxAdUp\",\n",
    "                           \"All_Provider_Count\",\n",
    "                           \"Satellite_Provider_Count_25\",\n",
    "                           \"pct_internet_other\",\n",
    "                           \"pct_internet_dial_up\",\n",
    "                           \"pct_internet_dial_up\",\n",
    "                           \"Wired_Provider_Count\",\n",
    "                           \"Satellite_Provider_Count\"]\n",
    "\n",
    "#All variables with correlation > 0.3\n",
    "high_corr = [\"pct_internet\", \n",
    "             \"pct_computer_with_broadband\",\n",
    "             \"pct_internet_broadband_any_type\",\n",
    "             \"pct_internet_none\",\n",
    "             \"pct_internet_cellular\",\n",
    "             \"pct_internet_no_subscrp\"]\n",
    "\n",
    "#All variables with correlation > 0.1\n",
    "mid_corr = [\"pct_internet\", \n",
    "            \"pct_computer_with_broadband\",\n",
    "            \"pct_internet_broadband_any_type\",\n",
    "            \"pct_internet_none\",\n",
    "            \"pct_internet_cellular\",\n",
    "            \"pct_internet_no_subscrp\",\n",
    "            \"Ookla Median Download Speed (Mbps)\",\n",
    "            \"Ookla Median Upload Speed (Mbps)\",\n",
    "            \"All_Provider_Count_100\",\n",
    "            \"All_Provider_Count_25\"]\n",
    "\n",
    "small_covariance_med_corr = ['pct_internet',\n",
    "                             'Ookla Median Download Speed (Mbps)',\n",
    "                             'All_Provider_Count_100',\n",
    "                             'All_Provider_Count_25']\n",
    "\n",
    "#All except income variables\n",
    "all_vars = [ 'tract_geoid',\n",
    "             'All_Provider_Count',\n",
    "             'MaxAdDown',\n",
    "             'MaxAdUp',\n",
    "             'Wired_Provider_Count',\n",
    "             'Satellite_Provider_Count',\n",
    "             'Fixed_Wireless_Provider_Count',\n",
    "             'All_Provider_Count_25',\n",
    "             'All_Provider_Count_100',\n",
    "             'Fixed_Wireless_Provider_Count_25',\n",
    "             'Wired_Provider_Count_25',\n",
    "             'Satellite_Provider_Count_25',\n",
    "             'Fixed_Wireless_Provider_Count_100',\n",
    "             'Wired_Provider_Count_100',\n",
    "             'Satellite_Provider_Count_100',\n",
    "             'median_age_overall',\n",
    "             'median_age_male',\n",
    "             'median_age_female',\n",
    "             'state',\n",
    "             'county',\n",
    "             'tract',\n",
    "             'employment_rate',\n",
    "             'total_households',\n",
    "             'ave_household_size',\n",
    "             'ave_family_size',\n",
    "             'pct_health_ins_children',\n",
    "             'pct_health_ins_19_64',\n",
    "             'pct_health_ins_65+',\n",
    "             'total_population',\n",
    "             'pct_white',\n",
    "             'pct_hisp_latino',\n",
    "             'pct_black',\n",
    "             'pct_native',\n",
    "             'pct_asian',\n",
    "             'pct_hi_pi',\n",
    "             'pct_other_race',\n",
    "             'pct_two+_race',\n",
    "             'pct_pop_bachelors+',\n",
    "             'pct_pop_hs+',\n",
    "             'pct_internet',\n",
    "             'pct_internet_dial_up',\n",
    "             'pct_internet_broadband_any_type',\n",
    "             'pct_internet_cellular',\n",
    "             'pct_only_cellular',\n",
    "             'pct_internet_broadband_fiber',\n",
    "             'pct_internet_broadband_satellite',\n",
    "             'pct_internet_only_satellite',\n",
    "             'pct_internet_other',\n",
    "             'pct_internet_no_subscrp',\n",
    "             'pct_internet_none',\n",
    "             'pct_computer',\n",
    "             'pct_computer_with_dialup',\n",
    "             'pct_computer_with_broadband',\n",
    "             'pct_computer_no_internet',\n",
    "             'pct_no_computer',\n",
    "             'ALAND',\n",
    "             'AWATER',\n",
    "             'ALAND_SQMI',\n",
    "             'AWATER_SQMI',\n",
    "             'population_density',\n",
    "             'pct_pop_ged',\n",
    "             'pct_pop_some_college',\n",
    "             'pct_pop_associates',\n",
    "             'pct_pop_lt_5',\n",
    "             'pct_pop_5_to_9',\n",
    "             'pct_pop_10_to_14',\n",
    "             'pct_pop_15_to_19',\n",
    "             'pct_pop_20_to_24',\n",
    "             'pct_pop_25_to_29',\n",
    "             'pct_pop_30_to_34',\n",
    "             'pct_pop_35_to_39',\n",
    "             'pct_pop_40_to_44',\n",
    "             'pct_pop_45_to_49',\n",
    "             'pct_pop_50_to_54',\n",
    "             'pct_pop_55_to_59',\n",
    "             'pct_pop_60_to_64',\n",
    "             'pct_pop_65_to_69',\n",
    "             'pct_pop_70_to_74',\n",
    "             'pct_pop_75_to_79',\n",
    "             'pct_pop_80_to_84',\n",
    "             'pct_pop_gt_85',\n",
    "             'pct_pop_disability',\n",
    "             'pct_pop_households_with_kids',\n",
    "             'pct_pop_foreign_born',\n",
    "             'Form 477 All Terrestrial Broadband: Max Advertised Consumer Download Speed (Mbps)',\n",
    "             'Form 477 All Terrestrial Broadband: Max Advertised Consumer Upload Speed (Mbps)',\n",
    "             'Ookla Median Download Speed (Mbps)',\n",
    "             'Ookla Median Upload Speed (Mbps)',\n",
    "             'Primary RUCA Code 2010',\n",
    "             'Secondary RUCA Code, 2010 (see errata)',\n",
    "             '0_5_providers',\n",
    "             '6_10_providers',\n",
    "             '11_15_providers',\n",
    "             '16_20_providers',\n",
    "             '20+_providers',\n",
    "             '0_25_MaxAdDown',\n",
    "             '25_99_MaxAdDown',\n",
    "             '99_499_MaxAdDown',\n",
    "             '499_inf_MaxAdDown',\n",
    "             '0_25_Ookla Median Download Speed (Mbps)',\n",
    "             '25_99_Ookla Median Download Speed (Mbps)',\n",
    "             '99_499_Ookla Median Download Speed (Mbps)',\n",
    "             '499_inf_Ookla Median Download Speed (Mbps)',\n",
    "             '0_25_Form 477 All Terrestrial Broadband: Max Advertised Consumer Download Speed (Mbps)',\n",
    "             '25_99_Form 477 All Terrestrial Broadband: Max Advertised Consumer Download Speed (Mbps)',\n",
    "             '99_499_Form 477 All Terrestrial Broadband: Max Advertised Consumer Download Speed (Mbps)',\n",
    "             '499_inf_Form 477 All Terrestrial Broadband: Max Advertised Consumer Download Speed (Mbps)',\n",
    "             'single_provider',\n",
    "             'Primary RUCA Code - 1.0',\n",
    "             'Primary RUCA Code - 2.0',\n",
    "             'Primary RUCA Code - 4.0',\n",
    "             'Primary RUCA Code - 10.0',\n",
    "             'Primary RUCA Code - 7.0',\n",
    "             'Primary RUCA Code - 5.0',\n",
    "             'Primary RUCA Code - 8.0',\n",
    "             'Primary RUCA Code - 3.0',\n",
    "             'Primary RUCA Code - 6.0',\n",
    "             'Primary RUCA Code - 9.0',\n",
    "             'Primary RUCA Code - 99.0',\n",
    "             'Secondary RUCA Code - 1.0',\n",
    "             'Secondary RUCA Code - 2.0',\n",
    "             'Secondary RUCA Code - 4.0',\n",
    "             'Secondary RUCA Code - 10.0',\n",
    "             'Secondary RUCA Code - 7.0',\n",
    "             'Secondary RUCA Code - 5.0',\n",
    "             'Secondary RUCA Code - 1.1',\n",
    "             'Secondary RUCA Code - 8.0',\n",
    "             'Secondary RUCA Code - 3.0',\n",
    "             'Secondary RUCA Code - 6.0',\n",
    "             'Secondary RUCA Code - 9.0',\n",
    "             'Secondary RUCA Code - 4.1',\n",
    "             'Secondary RUCA Code - 99.0',\n",
    "             'Secondary RUCA Code - 7.1',\n",
    "             'Secondary RUCA Code - 10.2',\n",
    "             'Secondary RUCA Code - 2.1',\n",
    "             'Secondary RUCA Code - 10.1',\n",
    "             'Secondary RUCA Code - 10.3',\n",
    "             'Secondary RUCA Code - 7.2',\n",
    "             'Secondary RUCA Code - 5.1',\n",
    "             'Secondary RUCA Code - 8.1',\n",
    "             'Secondary RUCA Code - 8.2']"
   ]
  },
  {
   "cell_type": "markdown",
   "id": "267f61ba",
   "metadata": {},
   "source": [
    "## Modeling"
   ]
  },
  {
   "cell_type": "markdown",
   "id": "11edc941",
   "metadata": {},
   "source": [
    "### Functions"
   ]
  },
  {
   "cell_type": "code",
   "execution_count": 4,
   "id": "ebab78c0",
   "metadata": {},
   "outputs": [],
   "source": [
    "def regression_results(y_true, y_pred):\n",
    "\n",
    "    # Regression metrics\n",
    "    explained_variance=metrics.explained_variance_score(y_true, y_pred)\n",
    "    mean_absolute_error=metrics.mean_absolute_error(y_true, y_pred) \n",
    "    mse=metrics.mean_squared_error(y_true, y_pred) \n",
    "    median_absolute_error=metrics.median_absolute_error(y_true, y_pred)\n",
    "    r2=metrics.r2_score(y_true, y_pred)\n",
    "\n",
    "    print('explained_variance: ', round(explained_variance,4))    \n",
    "    print('r2: ', round(r2,4))\n",
    "    print('MAE: ', round(mean_absolute_error,4))\n",
    "    print('MSE: ', round(mse,4))\n",
    "    print('RMSE: ', round(np.sqrt(mse),4))"
   ]
  },
  {
   "cell_type": "code",
   "execution_count": 9,
   "id": "787c72cc",
   "metadata": {},
   "outputs": [],
   "source": [
    "poverty_rate_train = np.array(training_data['poverty_rate'])\n",
    "poverty_rate_test = np.array(test_data['poverty_rate'])\n",
    "\n",
    "def poverty_XGBoost_model(train_df, \n",
    "                          test_df, \n",
    "                          variable_list,\n",
    "                          poverty_rate_train = poverty_rate_train,  \n",
    "                          poverty_rate_test = poverty_rate_test):\n",
    "    train_variables = np.array(train_df[variable_list])\n",
    "    test_variables = np.array(test_df[variable_list])\n",
    "    \n",
    "    model = XGBRegressor().fit(train_variables, poverty_rate_train)\n",
    "    predicted = model.predict(test_variables)\n",
    "    \n",
    "    regression_results(poverty_rate_test, predicted)\n",
    "    \n",
    "    return pd.DataFrame(model.feature_importances_, \n",
    "                        index = variable_list).sort_values(by=0, ascending = False)\n"
   ]
  },
  {
   "cell_type": "code",
   "execution_count": 14,
   "id": "85f64d3d",
   "metadata": {},
   "outputs": [
    {
     "name": "stdout",
     "output_type": "stream",
     "text": [
      "explained_variance:  0.4887\n",
      "r2:  0.4886\n",
      "MAE:  5.3967\n",
      "MSE:  57.9994\n",
      "RMSE:  7.6157\n"
     ]
    },
    {
     "data": {
      "text/plain": [
       "True"
      ]
     },
     "execution_count": 14,
     "metadata": {},
     "output_type": "execute_result"
    }
   ],
   "source": [
    "poverty_XGBoost_model(training_data, test_data, all_broadband_variables)"
   ]
  },
  {
   "cell_type": "code",
   "execution_count": 15,
   "id": "81583162",
   "metadata": {},
   "outputs": [
    {
     "name": "stdout",
     "output_type": "stream",
     "text": [
      "explained_variance:  0.4337\n",
      "r2:  0.4337\n",
      "MAE:  5.7247\n",
      "MSE:  64.2296\n",
      "RMSE:  8.0143\n"
     ]
    },
    {
     "data": {
      "text/plain": [
       "True"
      ]
     },
     "execution_count": 15,
     "metadata": {},
     "output_type": "execute_result"
    }
   ],
   "source": [
    "poverty_XGBoost_model(training_data, test_data, high_corr)"
   ]
  },
  {
   "cell_type": "code",
   "execution_count": 16,
   "id": "6edded01",
   "metadata": {},
   "outputs": [
    {
     "name": "stdout",
     "output_type": "stream",
     "text": [
      "explained_variance:  0.4648\n",
      "r2:  0.4647\n",
      "MAE:  5.5515\n",
      "MSE:  60.7112\n",
      "RMSE:  7.7917\n"
     ]
    },
    {
     "data": {
      "text/plain": [
       "True"
      ]
     },
     "execution_count": 16,
     "metadata": {},
     "output_type": "execute_result"
    }
   ],
   "source": [
    "poverty_XGBoost_model(training_data, test_data, mid_corr)"
   ]
  },
  {
   "cell_type": "code",
   "execution_count": 17,
   "id": "13430c6a",
   "metadata": {},
   "outputs": [
    {
     "name": "stdout",
     "output_type": "stream",
     "text": [
      "explained_variance:  0.43\n",
      "r2:  0.4299\n",
      "MAE:  5.6992\n",
      "MSE:  64.6642\n",
      "RMSE:  8.0414\n"
     ]
    },
    {
     "data": {
      "text/plain": [
       "True"
      ]
     },
     "execution_count": 17,
     "metadata": {},
     "output_type": "execute_result"
    }
   ],
   "source": [
    "poverty_XGBoost_model(training_data, test_data, small_covariance_med_corr) "
   ]
  },
  {
   "cell_type": "code",
   "execution_count": 10,
   "id": "28c80250",
   "metadata": {},
   "outputs": [
    {
     "name": "stdout",
     "output_type": "stream",
     "text": [
      "explained_variance:  0.7913\n",
      "r2:  0.7913\n",
      "MAE:  3.6483\n",
      "MSE:  25.001\n",
      "RMSE:  5.0001\n"
     ]
    }
   ],
   "source": [
    "feature_importance_all_vars = poverty_XGBoost_model(training_data, \n",
    "                                                    test_data, \n",
    "                                                    all_vars) \n"
   ]
  },
  {
   "cell_type": "markdown",
   "id": "a4e1b7b6",
   "metadata": {},
   "source": [
    "From the all_vars model, we can pick the top variables to use in the grid search. "
   ]
  },
  {
   "cell_type": "code",
   "execution_count": 13,
   "id": "0322166a",
   "metadata": {},
   "outputs": [
    {
     "data": {
      "text/plain": [
       "<AxesSubplot:>"
      ]
     },
     "execution_count": 13,
     "metadata": {},
     "output_type": "execute_result"
    },
    {
     "data": {
      "image/png": "[encoded data removed]",
      "text/plain": [
       "<Figure size 432x288 with 1 Axes>"
      ]
     },
     "metadata": {
      "needs_background": "light"
     },
     "output_type": "display_data"
    }
   ],
   "source": [
    "feature_importance_all_vars.head(25).plot.barh()"
   ]
  },
  {
   "cell_type": "code",
   "execution_count": 14,
   "id": "bf0be865",
   "metadata": {},
   "outputs": [
    {
     "data": {
      "text/plain": [
       "array(['pct_internet', 'pct_computer_with_broadband',\n",
       "       'median_age_overall', 'pct_white', 'pct_pop_20_to_24',\n",
       "       'employment_rate', 'pct_pop_bachelors+'], dtype=object)"
      ]
     },
     "execution_count": 14,
     "metadata": {},
     "output_type": "execute_result"
    }
   ],
   "source": [
    "feature_importance_all_vars.head(7).index.values"
   ]
  },
  {
   "cell_type": "code",
   "execution_count": 15,
   "id": "67b4d912",
   "metadata": {},
   "outputs": [],
   "source": [
    "key_vars = ['pct_internet', \n",
    "            'pct_computer_with_broadband',\n",
    "            'median_age_overall', \n",
    "            'pct_white', \n",
    "            'pct_pop_20_to_24',\n",
    "            'employment_rate', \n",
    "            'pct_pop_bachelors+']"
   ]
  },
  {
   "cell_type": "markdown",
   "id": "8d7295bb",
   "metadata": {},
   "source": [
    "## Tuning the model"
   ]
  },
  {
   "cell_type": "code",
   "execution_count": 23,
   "id": "876c5793",
   "metadata": {
    "scrolled": true
   },
   "outputs": [
    {
     "name": "stdout",
     "output_type": "stream",
     "text": [
      "Fitting 3 folds for each of 20 candidates, totalling 60 fits\n",
      "[CV 1/3; 1/20] START colsample_bytree=0.3, learning_rate=0.1, max_depth=3, n_estimators=500\n",
      "[CV 1/3; 1/20] END colsample_bytree=0.3, learning_rate=0.1, max_depth=3, n_estimators=500;, score=-33.682 total time=  17.5s\n",
      "[CV 2/3; 1/20] START colsample_bytree=0.3, learning_rate=0.1, max_depth=3, n_estimators=500\n",
      "[CV 2/3; 1/20] END colsample_bytree=0.3, learning_rate=0.1, max_depth=3, n_estimators=500;, score=-33.667 total time=  15.8s\n",
      "[CV 3/3; 1/20] START colsample_bytree=0.3, learning_rate=0.1, max_depth=3, n_estimators=500\n",
      "[CV 3/3; 1/20] END colsample_bytree=0.3, learning_rate=0.1, max_depth=3, n_estimators=500;, score=-33.911 total time= 1.2min\n",
      "[CV 1/3; 2/20] START colsample_bytree=0.7, learning_rate=0.1, max_depth=6, n_estimators=500\n",
      "[CV 1/3; 2/20] END colsample_bytree=0.7, learning_rate=0.1, max_depth=6, n_estimators=500;, score=-33.471 total time= 1.0min\n",
      "[CV 2/3; 2/20] START colsample_bytree=0.7, learning_rate=0.1, max_depth=6, n_estimators=500\n",
      "[CV 2/3; 2/20] END colsample_bytree=0.7, learning_rate=0.1, max_depth=6, n_estimators=500;, score=-33.401 total time= 1.3min\n",
      "[CV 3/3; 2/20] START colsample_bytree=0.7, learning_rate=0.1, max_depth=6, n_estimators=500\n",
      "[CV 3/3; 2/20] END colsample_bytree=0.7, learning_rate=0.1, max_depth=6, n_estimators=500;, score=-33.906 total time= 4.3min\n",
      "[CV 1/3; 3/20] START colsample_bytree=0.7, learning_rate=0.1, max_depth=6, n_estimators=100\n",
      "[CV 1/3; 3/20] END colsample_bytree=0.7, learning_rate=0.1, max_depth=6, n_estimators=100;, score=-33.078 total time=  52.3s\n",
      "[CV 2/3; 3/20] START colsample_bytree=0.7, learning_rate=0.1, max_depth=6, n_estimators=100\n",
      "[CV 2/3; 3/20] END colsample_bytree=0.7, learning_rate=0.1, max_depth=6, n_estimators=100;, score=-33.015 total time=  11.5s\n",
      "[CV 3/3; 3/20] START colsample_bytree=0.7, learning_rate=0.1, max_depth=6, n_estimators=100\n",
      "[CV 3/3; 3/20] END colsample_bytree=0.7, learning_rate=0.1, max_depth=6, n_estimators=100;, score=-33.328 total time=  10.5s\n",
      "[CV 1/3; 4/20] START colsample_bytree=0.3, learning_rate=0.05, max_depth=6, n_estimators=100\n",
      "[CV 1/3; 4/20] END colsample_bytree=0.3, learning_rate=0.05, max_depth=6, n_estimators=100;, score=-35.438 total time=  23.5s\n",
      "[CV 2/3; 4/20] START colsample_bytree=0.3, learning_rate=0.05, max_depth=6, n_estimators=100\n",
      "[CV 2/3; 4/20] END colsample_bytree=0.3, learning_rate=0.05, max_depth=6, n_estimators=100;, score=-35.833 total time=  50.4s\n",
      "[CV 3/3; 4/20] START colsample_bytree=0.3, learning_rate=0.05, max_depth=6, n_estimators=100\n",
      "[CV 3/3; 4/20] END colsample_bytree=0.3, learning_rate=0.05, max_depth=6, n_estimators=100;, score=-35.975 total time=   7.3s\n",
      "[CV 1/3; 5/20] START colsample_bytree=0.7, learning_rate=0.05, max_depth=10, n_estimators=1000\n",
      "[CV 1/3; 5/20] END colsample_bytree=0.7, learning_rate=0.05, max_depth=10, n_estimators=1000;, score=-34.450 total time= 6.0min\n",
      "[CV 2/3; 5/20] START colsample_bytree=0.7, learning_rate=0.05, max_depth=10, n_estimators=1000\n",
      "[CV 2/3; 5/20] END colsample_bytree=0.7, learning_rate=0.05, max_depth=10, n_estimators=1000;, score=-34.591 total time= 5.9min\n",
      "[CV 3/3; 5/20] START colsample_bytree=0.7, learning_rate=0.05, max_depth=10, n_estimators=1000\n",
      "[CV 3/3; 5/20] END colsample_bytree=0.7, learning_rate=0.05, max_depth=10, n_estimators=1000;, score=-34.679 total time= 5.9min\n",
      "[CV 1/3; 6/20] START colsample_bytree=0.3, learning_rate=0.01, max_depth=6, n_estimators=1000\n",
      "[CV 1/3; 6/20] END colsample_bytree=0.3, learning_rate=0.01, max_depth=6, n_estimators=1000;, score=-34.269 total time= 2.3min\n",
      "[CV 2/3; 6/20] START colsample_bytree=0.3, learning_rate=0.01, max_depth=6, n_estimators=1000\n",
      "[CV 2/3; 6/20] END colsample_bytree=0.3, learning_rate=0.01, max_depth=6, n_estimators=1000;, score=-34.382 total time= 2.3min\n",
      "[CV 3/3; 6/20] START colsample_bytree=0.3, learning_rate=0.01, max_depth=6, n_estimators=1000\n",
      "[CV 3/3; 6/20] END colsample_bytree=0.3, learning_rate=0.01, max_depth=6, n_estimators=1000;, score=-34.739 total time= 2.3min\n",
      "[CV 1/3; 7/20] START colsample_bytree=0.3, learning_rate=0.05, max_depth=10, n_estimators=1000\n",
      "[CV 1/3; 7/20] END colsample_bytree=0.3, learning_rate=0.05, max_depth=10, n_estimators=1000;, score=-36.639 total time= 3.8min\n",
      "[CV 2/3; 7/20] START colsample_bytree=0.3, learning_rate=0.05, max_depth=10, n_estimators=1000\n",
      "[CV 2/3; 7/20] END colsample_bytree=0.3, learning_rate=0.05, max_depth=10, n_estimators=1000;, score=-36.099 total time= 5.4min\n",
      "[CV 3/3; 7/20] START colsample_bytree=0.3, learning_rate=0.05, max_depth=10, n_estimators=1000\n",
      "[CV 3/3; 7/20] END colsample_bytree=0.3, learning_rate=0.05, max_depth=10, n_estimators=1000;, score=-36.590 total time= 4.0min\n",
      "[CV 1/3; 8/20] START colsample_bytree=0.7, learning_rate=0.1, max_depth=10, n_estimators=500\n",
      "[CV 1/3; 8/20] END colsample_bytree=0.7, learning_rate=0.1, max_depth=10, n_estimators=500;, score=-34.818 total time= 5.7min\n",
      "[CV 2/3; 8/20] START colsample_bytree=0.7, learning_rate=0.1, max_depth=10, n_estimators=500\n",
      "[CV 2/3; 8/20] END colsample_bytree=0.7, learning_rate=0.1, max_depth=10, n_estimators=500;, score=-35.216 total time= 8.8min\n",
      "[CV 3/3; 8/20] START colsample_bytree=0.7, learning_rate=0.1, max_depth=10, n_estimators=500\n",
      "[CV 3/3; 8/20] END colsample_bytree=0.7, learning_rate=0.1, max_depth=10, n_estimators=500;, score=-35.099 total time= 3.5min\n",
      "[CV 1/3; 9/20] START colsample_bytree=0.3, learning_rate=0.01, max_depth=6, n_estimators=100\n",
      "[CV 1/3; 9/20] END colsample_bytree=0.3, learning_rate=0.01, max_depth=6, n_estimators=100;, score=-83.733 total time=  46.0s\n",
      "[CV 2/3; 9/20] START colsample_bytree=0.3, learning_rate=0.01, max_depth=6, n_estimators=100\n",
      "[CV 2/3; 9/20] END colsample_bytree=0.3, learning_rate=0.01, max_depth=6, n_estimators=100;, score=-86.076 total time=   7.1s\n",
      "[CV 3/3; 9/20] START colsample_bytree=0.3, learning_rate=0.01, max_depth=6, n_estimators=100\n",
      "[CV 3/3; 9/20] END colsample_bytree=0.3, learning_rate=0.01, max_depth=6, n_estimators=100;, score=-84.801 total time=  50.5s\n",
      "[CV 1/3; 10/20] START colsample_bytree=0.7, learning_rate=0.01, max_depth=6, n_estimators=1000\n",
      "[CV 1/3; 10/20] END colsample_bytree=0.7, learning_rate=0.01, max_depth=6, n_estimators=1000;, score=-32.740 total time= 4.4min\n",
      "[CV 2/3; 10/20] START colsample_bytree=0.7, learning_rate=0.01, max_depth=6, n_estimators=1000\n",
      "[CV 2/3; 10/20] END colsample_bytree=0.7, learning_rate=0.01, max_depth=6, n_estimators=1000;, score=-32.840 total time= 6.5min\n",
      "[CV 3/3; 10/20] START colsample_bytree=0.7, learning_rate=0.01, max_depth=6, n_estimators=1000\n",
      "[CV 3/3; 10/20] END colsample_bytree=0.7, learning_rate=0.01, max_depth=6, n_estimators=1000;, score=-32.990 total time= 5.1min\n",
      "[CV 1/3; 11/20] START colsample_bytree=0.3, learning_rate=0.05, max_depth=6, n_estimators=500\n",
      "[CV 1/3; 11/20] END colsample_bytree=0.3, learning_rate=0.05, max_depth=6, n_estimators=500;, score=-33.987 total time= 2.5min\n",
      "[CV 2/3; 11/20] START colsample_bytree=0.3, learning_rate=0.05, max_depth=6, n_estimators=500\n",
      "[CV 2/3; 11/20] END colsample_bytree=0.3, learning_rate=0.05, max_depth=6, n_estimators=500;, score=-33.914 total time=  32.0s\n",
      "[CV 3/3; 11/20] START colsample_bytree=0.3, learning_rate=0.05, max_depth=6, n_estimators=500\n",
      "[CV 3/3; 11/20] END colsample_bytree=0.3, learning_rate=0.05, max_depth=6, n_estimators=500;, score=-34.296 total time=  42.3s\n",
      "[CV 1/3; 12/20] START colsample_bytree=0.3, learning_rate=0.01, max_depth=10, n_estimators=1000\n",
      "[CV 1/3; 12/20] END colsample_bytree=0.3, learning_rate=0.01, max_depth=10, n_estimators=1000;, score=-35.748 total time=11.7min\n",
      "[CV 2/3; 12/20] START colsample_bytree=0.3, learning_rate=0.01, max_depth=10, n_estimators=1000\n",
      "[CV 2/3; 12/20] END colsample_bytree=0.3, learning_rate=0.01, max_depth=10, n_estimators=1000;, score=-35.537 total time= 7.4min\n",
      "[CV 3/3; 12/20] START colsample_bytree=0.3, learning_rate=0.01, max_depth=10, n_estimators=1000\n",
      "[CV 3/3; 12/20] END colsample_bytree=0.3, learning_rate=0.01, max_depth=10, n_estimators=1000;, score=-36.138 total time= 4.2min\n",
      "[CV 1/3; 13/20] START colsample_bytree=0.3, learning_rate=0.1, max_depth=10, n_estimators=1000\n",
      "[CV 1/3; 13/20] END colsample_bytree=0.3, learning_rate=0.1, max_depth=10, n_estimators=1000;, score=-37.685 total time= 3.9min\n",
      "[CV 2/3; 13/20] START colsample_bytree=0.3, learning_rate=0.1, max_depth=10, n_estimators=1000\n"
     ]
    },
    {
     "name": "stdout",
     "output_type": "stream",
     "text": [
      "[CV 2/3; 13/20] END colsample_bytree=0.3, learning_rate=0.1, max_depth=10, n_estimators=1000;, score=-37.379 total time= 5.7min\n",
      "[CV 3/3; 13/20] START colsample_bytree=0.3, learning_rate=0.1, max_depth=10, n_estimators=1000\n",
      "[CV 3/3; 13/20] END colsample_bytree=0.3, learning_rate=0.1, max_depth=10, n_estimators=1000;, score=-37.689 total time= 7.6min\n",
      "[CV 1/3; 14/20] START colsample_bytree=0.3, learning_rate=0.01, max_depth=10, n_estimators=100\n",
      "[CV 1/3; 14/20] END colsample_bytree=0.3, learning_rate=0.01, max_depth=10, n_estimators=100;, score=-84.359 total time= 1.4min\n",
      "[CV 2/3; 14/20] START colsample_bytree=0.3, learning_rate=0.01, max_depth=10, n_estimators=100\n",
      "[CV 2/3; 14/20] END colsample_bytree=0.3, learning_rate=0.01, max_depth=10, n_estimators=100;, score=-86.817 total time=  11.1s\n",
      "[CV 3/3; 14/20] START colsample_bytree=0.3, learning_rate=0.01, max_depth=10, n_estimators=100\n",
      "[CV 3/3; 14/20] END colsample_bytree=0.3, learning_rate=0.01, max_depth=10, n_estimators=100;, score=-85.584 total time= 1.3min\n",
      "[CV 1/3; 15/20] START colsample_bytree=0.7, learning_rate=0.01, max_depth=10, n_estimators=500\n",
      "[CV 1/3; 15/20] END colsample_bytree=0.7, learning_rate=0.01, max_depth=10, n_estimators=500;, score=-33.473 total time= 4.5min\n",
      "[CV 2/3; 15/20] START colsample_bytree=0.7, learning_rate=0.01, max_depth=10, n_estimators=500\n",
      "[CV 2/3; 15/20] END colsample_bytree=0.7, learning_rate=0.01, max_depth=10, n_estimators=500;, score=-33.813 total time=  27.2s\n",
      "[CV 3/3; 15/20] START colsample_bytree=0.7, learning_rate=0.01, max_depth=10, n_estimators=500\n",
      "[CV 3/3; 15/20] END colsample_bytree=0.7, learning_rate=0.01, max_depth=10, n_estimators=500;, score=-33.716 total time=  27.1s\n",
      "[CV 1/3; 16/20] START colsample_bytree=0.3, learning_rate=0.01, max_depth=6, n_estimators=500\n",
      "[CV 1/3; 16/20] END colsample_bytree=0.3, learning_rate=0.01, max_depth=6, n_estimators=500;, score=-35.446 total time=   9.3s\n",
      "[CV 2/3; 16/20] START colsample_bytree=0.3, learning_rate=0.01, max_depth=6, n_estimators=500\n",
      "[CV 2/3; 16/20] END colsample_bytree=0.3, learning_rate=0.01, max_depth=6, n_estimators=500;, score=-35.850 total time=   9.3s\n",
      "[CV 3/3; 16/20] START colsample_bytree=0.3, learning_rate=0.01, max_depth=6, n_estimators=500\n",
      "[CV 3/3; 16/20] END colsample_bytree=0.3, learning_rate=0.01, max_depth=6, n_estimators=500;, score=-35.971 total time=   9.3s\n",
      "[CV 1/3; 17/20] START colsample_bytree=0.7, learning_rate=0.05, max_depth=3, n_estimators=500\n",
      "[CV 1/3; 17/20] END colsample_bytree=0.7, learning_rate=0.05, max_depth=3, n_estimators=500;, score=-33.391 total time=   7.1s\n",
      "[CV 2/3; 17/20] START colsample_bytree=0.7, learning_rate=0.05, max_depth=3, n_estimators=500\n",
      "[CV 2/3; 17/20] END colsample_bytree=0.7, learning_rate=0.05, max_depth=3, n_estimators=500;, score=-33.272 total time=   7.2s\n",
      "[CV 3/3; 17/20] START colsample_bytree=0.7, learning_rate=0.05, max_depth=3, n_estimators=500\n",
      "[CV 3/3; 17/20] END colsample_bytree=0.7, learning_rate=0.05, max_depth=3, n_estimators=500;, score=-33.361 total time=   7.1s\n",
      "[CV 1/3; 18/20] START colsample_bytree=0.3, learning_rate=0.1, max_depth=10, n_estimators=100\n",
      "[CV 1/3; 18/20] END colsample_bytree=0.3, learning_rate=0.1, max_depth=10, n_estimators=100;, score=-36.459 total time=   3.4s\n",
      "[CV 2/3; 18/20] START colsample_bytree=0.3, learning_rate=0.1, max_depth=10, n_estimators=100\n",
      "[CV 2/3; 18/20] END colsample_bytree=0.3, learning_rate=0.1, max_depth=10, n_estimators=100;, score=-36.338 total time=   3.3s\n",
      "[CV 3/3; 18/20] START colsample_bytree=0.3, learning_rate=0.1, max_depth=10, n_estimators=100\n",
      "[CV 3/3; 18/20] END colsample_bytree=0.3, learning_rate=0.1, max_depth=10, n_estimators=100;, score=-36.727 total time=   3.3s\n",
      "[CV 1/3; 19/20] START colsample_bytree=0.7, learning_rate=0.1, max_depth=3, n_estimators=100\n",
      "[CV 1/3; 19/20] END colsample_bytree=0.7, learning_rate=0.1, max_depth=3, n_estimators=100;, score=-34.063 total time=   1.5s\n",
      "[CV 2/3; 19/20] START colsample_bytree=0.7, learning_rate=0.1, max_depth=3, n_estimators=100\n",
      "[CV 2/3; 19/20] END colsample_bytree=0.7, learning_rate=0.1, max_depth=3, n_estimators=100;, score=-34.180 total time=   1.5s\n",
      "[CV 3/3; 19/20] START colsample_bytree=0.7, learning_rate=0.1, max_depth=3, n_estimators=100\n",
      "[CV 3/3; 19/20] END colsample_bytree=0.7, learning_rate=0.1, max_depth=3, n_estimators=100;, score=-34.259 total time=   1.5s\n",
      "[CV 1/3; 20/20] START colsample_bytree=0.7, learning_rate=0.01, max_depth=10, n_estimators=100\n",
      "[CV 1/3; 20/20] END colsample_bytree=0.7, learning_rate=0.01, max_depth=10, n_estimators=100;, score=-75.610 total time=   5.5s\n",
      "[CV 2/3; 20/20] START colsample_bytree=0.7, learning_rate=0.01, max_depth=10, n_estimators=100\n",
      "[CV 2/3; 20/20] END colsample_bytree=0.7, learning_rate=0.01, max_depth=10, n_estimators=100;, score=-78.164 total time=   5.5s\n",
      "[CV 3/3; 20/20] START colsample_bytree=0.7, learning_rate=0.01, max_depth=10, n_estimators=100\n",
      "[CV 3/3; 20/20] END colsample_bytree=0.7, learning_rate=0.01, max_depth=10, n_estimators=100;, score=-76.878 total time=   5.5s\n",
      "Best parameters: {'n_estimators': 1000, 'max_depth': 6, 'learning_rate': 0.01, 'colsample_bytree': 0.7}\n",
      "Lowest RMSE:  5.732074475022831\n"
     ]
    },
    {
     "ename": "NameError",
     "evalue": "name 'regressor' is not defined",
     "output_type": "error",
     "traceback": [
      "\u001b[0;31m---------------------------------------------------------------------------\u001b[0m",
      "\u001b[0;31mNameError\u001b[0m                                 Traceback (most recent call last)",
      "\u001b[0;32m/tmp/ipykernel_9176/568921218.py\u001b[0m in \u001b[0;36m<module>\u001b[0;34m\u001b[0m\n\u001b[1;32m     17\u001b[0m \u001b[0mprint\u001b[0m\u001b[0;34m(\u001b[0m\u001b[0;34m\"Best parameters:\"\u001b[0m\u001b[0;34m,\u001b[0m \u001b[0mregress\u001b[0m\u001b[0;34m.\u001b[0m\u001b[0mbest_params_\u001b[0m\u001b[0;34m)\u001b[0m\u001b[0;34m\u001b[0m\u001b[0;34m\u001b[0m\u001b[0m\n\u001b[1;32m     18\u001b[0m \u001b[0mprint\u001b[0m\u001b[0;34m(\u001b[0m\u001b[0;34m\"Lowest RMSE: \"\u001b[0m\u001b[0;34m,\u001b[0m \u001b[0;34m(\u001b[0m\u001b[0;34m-\u001b[0m\u001b[0mregress\u001b[0m\u001b[0;34m.\u001b[0m\u001b[0mbest_score_\u001b[0m\u001b[0;34m)\u001b[0m\u001b[0;34m**\u001b[0m\u001b[0;34m(\u001b[0m\u001b[0;36m1\u001b[0m\u001b[0;34m/\u001b[0m\u001b[0;36m2.0\u001b[0m\u001b[0;34m)\u001b[0m\u001b[0;34m)\u001b[0m\u001b[0;34m\u001b[0m\u001b[0;34m\u001b[0m\u001b[0m\n\u001b[0;32m---> 19\u001b[0;31m \u001b[0my_pred\u001b[0m \u001b[0;34m=\u001b[0m \u001b[0mregressor\u001b[0m\u001b[0;34m.\u001b[0m\u001b[0mpredict\u001b[0m\u001b[0;34m(\u001b[0m\u001b[0mtest_data\u001b[0m\u001b[0;34m[\u001b[0m\u001b[0mkey_vars\u001b[0m\u001b[0;34m]\u001b[0m\u001b[0;34m)\u001b[0m\u001b[0;34m\u001b[0m\u001b[0;34m\u001b[0m\u001b[0m\n\u001b[0m\u001b[1;32m     20\u001b[0m \u001b[0;34m\u001b[0m\u001b[0m\n\u001b[1;32m     21\u001b[0m \u001b[0mprint\u001b[0m\u001b[0;34m(\u001b[0m\u001b[0;34m'Mean Absolute Error:'\u001b[0m\u001b[0;34m,\u001b[0m \u001b[0mmetrics\u001b[0m\u001b[0;34m.\u001b[0m\u001b[0mmean_absolute_error\u001b[0m\u001b[0;34m(\u001b[0m\u001b[0mpoverty_rate_test\u001b[0m\u001b[0;34m,\u001b[0m \u001b[0my_pred\u001b[0m\u001b[0;34m)\u001b[0m\u001b[0;34m)\u001b[0m\u001b[0;34m\u001b[0m\u001b[0;34m\u001b[0m\u001b[0m\n",
      "\u001b[0;31mNameError\u001b[0m: name 'regressor' is not defined"
     ]
    }
   ],
   "source": [
    "params = { 'max_depth': [3,6,10],\n",
    "           'learning_rate': [0.01, 0.05, 0.1],\n",
    "           'n_estimators': [100, 500, 1000],\n",
    "           'colsample_bytree': [0.3, 0.7]}\n",
    "\n",
    "regressor_tuned = XGBRegressor()\n",
    "\n",
    "regress = RandomizedSearchCV(estimator=regressor_tuned, \n",
    "                             param_distributions=params,\n",
    "                             scoring='neg_mean_squared_error', \n",
    "                             verbose=10,\n",
    "                             n_iter = 20,\n",
    "                             cv = 3,\n",
    "                             random_state=42)\n",
    "\n",
    "regress.fit(training_data[key_vars], poverty_rate_train)\n",
    "\n",
    "\n"
   ]
  },
  {
   "cell_type": "code",
   "execution_count": 25,
   "id": "dead0a0a",
   "metadata": {},
   "outputs": [
    {
     "name": "stdout",
     "output_type": "stream",
     "text": [
      "Best parameters: {'n_estimators': 1000, 'max_depth': 6, 'learning_rate': 0.01, 'colsample_bytree': 0.7}\n",
      "Lowest RMSE:  5.732074475022831\n",
      "explained_variance:  0.7248\n",
      "r2:  0.7248\n",
      "MAE:  4.1794\n",
      "MSE:  32.9718\n",
      "RMSE:  5.7421\n"
     ]
    }
   ],
   "source": [
    "print(\"Best parameters:\", regress.best_params_)\n",
    "print(\"Lowest RMSE: \", (-regress.best_score_)**(1/2.0))\n",
    "y_pred = regress.predict(test_data[key_vars])\n",
    "\n",
    "regression_results(poverty_rate_test, y_pred)"
   ]
  },
  {
   "cell_type": "code",
   "execution_count": null,
   "id": "68700a57",
   "metadata": {},
   "outputs": [],
   "source": []
  }
 ],
 "metadata": {
  "kernelspec": {
   "display_name": "Python 3 (ipykernel)",
   "language": "python",
   "name": "python3"
  },
  "language_info": {
   "codemirror_mode": {
    "name": "ipython",
    "version": 3
   },
   "file_extension": ".py",
   "mimetype": "text/x-python",
   "name": "python",
   "nbconvert_exporter": "python",
   "pygments_lexer": "ipython3",
   "version": "3.7.10"
  }
 },
 "nbformat": 4,
 "nbformat_minor": 5
}
