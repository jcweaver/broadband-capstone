{
 "cells": [
  {
   "cell_type": "code",
   "execution_count": 2,
   "id": "32cb97ea",
   "metadata": {},
   "outputs": [],
   "source": [
    "import pandas as pd"
   ]
  },
  {
   "cell_type": "code",
   "execution_count": 2,
   "id": "0b179684",
   "metadata": {},
   "outputs": [],
   "source": [
    "census_data = pd.read_csv('/home/ec2-user/efs/fcc_census_2.csv')"
   ]
  },
  {
   "cell_type": "markdown",
   "id": "3dfa62b9",
   "metadata": {},
   "source": [
    "## Picking Variables"
   ]
  },
  {
   "cell_type": "code",
   "execution_count": 7,
   "id": "8d2a5b89",
   "metadata": {},
   "outputs": [
    {
     "data": {
      "text/plain": [
       "Index(['tract_geoid', 'All_Provider_Count', 'All_Providers', 'MaxAdDown',\n",
       "       'MaxAdUp', 'AllMaxAdDown', 'AllMaxAdUp', 'Wired_Provider_Count',\n",
       "       'Satellite_Provider_Count', 'Fixed_Wireless_Provider_Count',\n",
       "       ...\n",
       "       'pct_pop_60_to_64', 'pct_pop_65_to_69', 'pct_pop_70_to_74',\n",
       "       'pct_pop_75_to_79', 'pct_pop_80_to_84', 'pct_pop_gt_85',\n",
       "       'pct_pop_disability', 'pct_pop_households_with_kids',\n",
       "       'Ookla Median Download Speed (Mbps)',\n",
       "       'Ookla Median Upload Speed (Mbps)'],\n",
       "      dtype='object', length=111)"
      ]
     },
     "execution_count": 7,
     "metadata": {},
     "output_type": "execute_result"
    }
   ],
   "source": [
    "census_data.columns"
   ]
  },
  {
   "cell_type": "markdown",
   "id": "cd4bb080",
   "metadata": {},
   "source": [
    "### Using .corr() to see which varibables have the correlation with poverty rate"
   ]
  },
  {
   "cell_type": "code",
   "execution_count": 12,
   "id": "1454d4a0",
   "metadata": {},
   "outputs": [],
   "source": [
    "pearson_corr = census_data.corr('pearson')\n",
    "kendall_corr = census_data.corr('kendall')\n",
    "spearman_corr = census_data.corr('spearman')"
   ]
  },
  {
   "cell_type": "code",
   "execution_count": 15,
   "id": "ccad1ae7",
   "metadata": {},
   "outputs": [],
   "source": [
    "correlation_matrix = pd.DataFrame()\n",
    "\n",
    "correlation_matrix['pearson'] = pearson_corr['poverty_rate']\n",
    "correlation_matrix['kendall'] = kendall_corr['poverty_rate']\n",
    "correlation_matrix['spearman'] = spearman_corr['poverty_rate']\n",
    "\n",
    "correlation_matrix['pearson_magnitude'] = correlation_matrix['pearson'].abs()\n",
    "correlation_matrix['kendall_magnitude'] = kendall_corr['poverty_rate'].abs()\n",
    "correlation_matrix['spearman_magnitude'] = spearman_corr['poverty_rate'].abs()"
   ]
  },
  {
   "cell_type": "code",
   "execution_count": 17,
   "id": "70cf1dce",
   "metadata": {},
   "outputs": [
    {
     "data": {
      "text/plain": [
       "Index(['pearson', 'kendall', 'spearman', 'pearson_magnitude',\n",
       "       'kendall_magnitude', 'spearman_magnitude'],\n",
       "      dtype='object')"
      ]
     },
     "execution_count": 17,
     "metadata": {},
     "output_type": "execute_result"
    }
   ],
   "source": [
    "correlation_matrix.columns"
   ]
  },
  {
   "cell_type": "code",
   "execution_count": 34,
   "id": "c1da758f",
   "metadata": {},
   "outputs": [
    {
     "data": {
      "text/html": [
       "<div>\n",
       "<style scoped>\n",
       "    .dataframe tbody tr th:only-of-type {\n",
       "        vertical-align: middle;\n",
       "    }\n",
       "\n",
       "    .dataframe tbody tr th {\n",
       "        vertical-align: top;\n",
       "    }\n",
       "\n",
       "    .dataframe thead th {\n",
       "        text-align: right;\n",
       "    }\n",
       "</style>\n",
       "<table border=\"1\" class=\"dataframe\">\n",
       "  <thead>\n",
       "    <tr style=\"text-align: right;\">\n",
       "      <th></th>\n",
       "      <th>pearson</th>\n",
       "      <th>kendall</th>\n",
       "      <th>spearman</th>\n",
       "    </tr>\n",
       "  </thead>\n",
       "  <tbody>\n",
       "    <tr>\n",
       "      <th>pct_pop_10_to_14</th>\n",
       "      <td>0.031669</td>\n",
       "      <td>0.014224</td>\n",
       "      <td>0.021752</td>\n",
       "    </tr>\n",
       "    <tr>\n",
       "      <th>pct_pop_50k_thru_60k</th>\n",
       "      <td>0.029187</td>\n",
       "      <td>0.108086</td>\n",
       "      <td>0.160779</td>\n",
       "    </tr>\n",
       "    <tr>\n",
       "      <th>pct_internet_dial_up</th>\n",
       "      <td>-0.028923</td>\n",
       "      <td>-0.025795</td>\n",
       "      <td>-0.035136</td>\n",
       "    </tr>\n",
       "    <tr>\n",
       "      <th>Wired_Provider_Count</th>\n",
       "      <td>-0.021317</td>\n",
       "      <td>-0.008239</td>\n",
       "      <td>-0.011463</td>\n",
       "    </tr>\n",
       "    <tr>\n",
       "      <th>pct_pop_households_with_kids</th>\n",
       "      <td>0.019410</td>\n",
       "      <td>0.101789</td>\n",
       "      <td>0.152150</td>\n",
       "    </tr>\n",
       "    <tr>\n",
       "      <th>ave_household_size</th>\n",
       "      <td>0.017471</td>\n",
       "      <td>-0.025317</td>\n",
       "      <td>-0.034924</td>\n",
       "    </tr>\n",
       "    <tr>\n",
       "      <th>ALAND</th>\n",
       "      <td>0.015176</td>\n",
       "      <td>-0.092464</td>\n",
       "      <td>-0.143074</td>\n",
       "    </tr>\n",
       "    <tr>\n",
       "      <th>ALAND_SQMI</th>\n",
       "      <td>0.015176</td>\n",
       "      <td>-0.092476</td>\n",
       "      <td>-0.143077</td>\n",
       "    </tr>\n",
       "    <tr>\n",
       "      <th>pct_internet_only_satellite</th>\n",
       "      <td>0.013003</td>\n",
       "      <td>0.049589</td>\n",
       "      <td>0.068336</td>\n",
       "    </tr>\n",
       "    <tr>\n",
       "      <th>state</th>\n",
       "      <td>-0.010787</td>\n",
       "      <td>-0.022417</td>\n",
       "      <td>-0.032301</td>\n",
       "    </tr>\n",
       "    <tr>\n",
       "      <th>tract_geoid</th>\n",
       "      <td>-0.009976</td>\n",
       "      <td>-0.026161</td>\n",
       "      <td>-0.039108</td>\n",
       "    </tr>\n",
       "    <tr>\n",
       "      <th>AWATER_SQMI</th>\n",
       "      <td>0.006894</td>\n",
       "      <td>-0.062218</td>\n",
       "      <td>-0.089916</td>\n",
       "    </tr>\n",
       "    <tr>\n",
       "      <th>AWATER</th>\n",
       "      <td>0.006894</td>\n",
       "      <td>-0.062462</td>\n",
       "      <td>-0.090521</td>\n",
       "    </tr>\n",
       "    <tr>\n",
       "      <th>Satellite_Provider_Count</th>\n",
       "      <td>-0.005400</td>\n",
       "      <td>-0.006440</td>\n",
       "      <td>-0.007889</td>\n",
       "    </tr>\n",
       "    <tr>\n",
       "      <th>pct_hi_pi</th>\n",
       "      <td>-0.004972</td>\n",
       "      <td>-0.026997</td>\n",
       "      <td>-0.034265</td>\n",
       "    </tr>\n",
       "    <tr>\n",
       "      <th>pct_other_race</th>\n",
       "      <td>0.004609</td>\n",
       "      <td>-0.031363</td>\n",
       "      <td>-0.041058</td>\n",
       "    </tr>\n",
       "  </tbody>\n",
       "</table>\n",
       "</div>"
      ],
      "text/plain": [
       "                               pearson   kendall  spearman\n",
       "pct_pop_10_to_14              0.031669  0.014224  0.021752\n",
       "pct_pop_50k_thru_60k          0.029187  0.108086  0.160779\n",
       "pct_internet_dial_up         -0.028923 -0.025795 -0.035136\n",
       "Wired_Provider_Count         -0.021317 -0.008239 -0.011463\n",
       "pct_pop_households_with_kids  0.019410  0.101789  0.152150\n",
       "ave_household_size            0.017471 -0.025317 -0.034924\n",
       "ALAND                         0.015176 -0.092464 -0.143074\n",
       "ALAND_SQMI                    0.015176 -0.092476 -0.143077\n",
       "pct_internet_only_satellite   0.013003  0.049589  0.068336\n",
       "state                        -0.010787 -0.022417 -0.032301\n",
       "tract_geoid                  -0.009976 -0.026161 -0.039108\n",
       "AWATER_SQMI                   0.006894 -0.062218 -0.089916\n",
       "AWATER                        0.006894 -0.062462 -0.090521\n",
       "Satellite_Provider_Count     -0.005400 -0.006440 -0.007889\n",
       "pct_hi_pi                    -0.004972 -0.026997 -0.034265\n",
       "pct_other_race                0.004609 -0.031363 -0.041058"
      ]
     },
     "execution_count": 34,
     "metadata": {},
     "output_type": "execute_result"
    }
   ],
   "source": [
    "correlation_matrix.sort_values(by=['pearson_magnitude',\n",
    "                                   'kendall_magnitude',\n",
    "                                   'spearman_magnitude'], ascending = False)[['pearson','kendall','spearman']].iloc[91:120]\n",
    "\n"
   ]
  },
  {
   "cell_type": "markdown",
   "id": "f8f2f680",
   "metadata": {},
   "source": [
    "Takeaways:\n",
    "\n",
    "- Most of the top correlations are related to income metrics. \n",
    "- The metrics related to broadband seem more correlated to broadband affordability. For example, pct_internet will increase if more people can afford broadband, not if they have access to broadband. Similar to pct_computer and pct_no_computer. \n",
    "- Several of the metrics are probably covariates: For example, [pct_internet, pct_internet_broadband_any_type, and pct_internet_none] or [pct_computer, pct_no_computer] or [pct_pop_hs, or pct_pop_bachelors+]\n",
    "- Many metrics related to provider counts don't seem to be correlated to poverty rate. I guess infrastructure itself doesn't discriminate between rich and poor areas - The top speed will be the same. But, whether people can afford it is a different story.\n",
    "- I'd have expected fewer providers to exist in areas where broadband access is less available. But there doesn't seem to be a correlation like that."
   ]
  },
  {
   "cell_type": "markdown",
   "id": "35598e0a",
   "metadata": {},
   "source": [
    "Top Correlations Related to Broadband Metrics:\n",
    "\n",
    "Metric | Correlation | Description\n",
    "--- | --- | ---\n",
    "pct_internet | -0.646842 | Weighted average of the percent of the population with an internet subscription in the zip code \n",
    "pct_computer_with_broadband | -0.646616 | percent of the population - Has a computer:!!With a broadband Internet subscription\n",
    "pct_internet_broadband_any_type | -0.641772 | percent of the population with a broadband (>25mbps) internet subscription of any type in the census tract\n",
    "pct_internet_none | 0.610228 | percent of the population - No Internet access\n",
    "pct_internet_cellular | -0.543007 | percent of the population with a internet subscription and a cellular data plan in the census tract\n",
    "pct_internet_no_subscrp | 0.319738 | percent of the population - Internet access without a subscription\n",
    "Ookla Median Download Speed (Mbps) | -0.158891 | Median download speed from Ookla dataset\n",
    "Ookla Median Upload Speed (Mbps) | -0.144009 | Median upload speed\n",
    "All_Provider_Count_100\t| -0.122607 | A count of all unique provider IDs that service the area and have a max speed over 100 mbps\n",
    "All_Provider_Count_25 | -0.104580 | A count of all unique provider IDs that service the area and have a max speed over 25 mbps\n",
    "pct_internet_broadband_satellite | -0.096784 | percent of the population - With an Internet subscription!!Satellite Internet service\n",
    "Fixed_Wireless_Provider_Count_25 | -0.085291 | A count of unique provider IDs that service the area and are considered Wired technology type. This refers to a reported TechCode of 70 (i.e. Terrestrial Fixed Wireless) speeds > 25mbps\n",
    "pct_internet_broadband_fiber | -0.085230 | percent of the population - With an Internet subscription!!Broadband such as cable, fiber optic or DSL\n",
    "Wired_Provider_Count_100 | -0.083568\n",
    "Wired_Provider_Count_25 | -0.071912\n",
    "Fixed_Wireless_Provider_Count_100 | -0.067551\n",
    "Satellite_Provider_Count_100 | -0.062588\t\n",
    "Fixed_Wireless_Provider_Count |\t-0.051429\n",
    "MaxAdUp |\t-0.020005\n",
    "All_Provider_Count |\t-0.047808\n",
    "Satellite_Provider_Count_25 | \t0.040239\n",
    "pct_internet_other\t| 0.036371\n",
    "pct_internet_dial_up | -0.028923\t\n",
    "pct_internet_dial_up | -0.028923\n",
    "Wired_Provider_Count  | -0.021317\t\n",
    "Satellite_Provider_Count | -0.005400\t"
   ]
  },
  {
   "cell_type": "code",
   "execution_count": 37,
   "id": "9d1056ed",
   "metadata": {},
   "outputs": [],
   "source": [
    "all_broadband_variables = [\"pct_internet\", \n",
    "                           \"pct_computer_with_broadband\",\n",
    "                           \"pct_internet_broadband_any_type\",\n",
    "                           \"pct_internet_none\",\n",
    "                           \"pct_internet_cellular\",\n",
    "                           \"pct_internet_no_subscrp\",\n",
    "                           \"Ookla Median Download Speed (Mbps)\",\n",
    "                           \"Ookla Median Upload Speed (Mbps)\",\n",
    "                           \"All_Provider_Count_100\",\n",
    "                           \"All_Provider_Count_25\",\n",
    "                           \"pct_internet_broadband_satellite\",\n",
    "                           \"Fixed_Wireless_Provider_Count_25\",\n",
    "                           \"pct_internet_broadband_fiber\",\n",
    "                           \"Wired_Provider_Count_100\",\n",
    "                           \"Wired_Provider_Count_25\",\n",
    "                           \"Fixed_Wireless_Provider_Count_100\",\n",
    "                           \"Satellite_Provider_Count_100\",\n",
    "                           \"Fixed_Wireless_Provider_Count\",\n",
    "                           \"MaxAdUp\",\n",
    "                           \"All_Provider_Count\",\n",
    "                           \"Satellite_Provider_Count_25\",\n",
    "                           \"pct_internet_other\",\n",
    "                           \"pct_internet_dial_up\",\n",
    "                           \"pct_internet_dial_up\",\n",
    "                           \"Wired_Provider_Count\",\n",
    "                           \"Satellite_Provider_Count\"]\n",
    "\n",
    "#All variables with correlation > 0.3\n",
    "high_corr = [\"pct_internet\", \n",
    "             \"pct_computer_with_broadband\",\n",
    "             \"pct_internet_broadband_any_type\",\n",
    "             \"pct_internet_none\",\n",
    "             \"pct_internet_cellular\",\n",
    "             \"pct_internet_no_subscrp\"]\n",
    "\n",
    "#All variables with correlation > 0.1\n",
    "mid_corr = [\"pct_internet\", \n",
    "            \"pct_computer_with_broadband\",\n",
    "            \"pct_internet_broadband_any_type\",\n",
    "            \"pct_internet_none\",\n",
    "            \"pct_internet_cellular\",\n",
    "            \"pct_internet_no_subscrp\",\n",
    "            \"Ookla Median Download Speed (Mbps)\",\n",
    "            \"Ookla Median Upload Speed (Mbps)\",\n",
    "            \"All_Provider_Count_100\",\n",
    "            \"All_Provider_Count_25\"]"
   ]
  },
  {
   "cell_type": "markdown",
   "id": "a1c7c054",
   "metadata": {},
   "source": [
    "### Checking Correlation Between Top Broadband Variables"
   ]
  },
  {
   "cell_type": "markdown",
   "id": "388c84b2",
   "metadata": {},
   "source": [
    "We want to find variables which are not highly correlated with each other, but are correlated with poverty rate. Let's start by looking at how correlated PC_Internet is to each of the other variables."
   ]
  },
  {
   "cell_type": "code",
   "execution_count": 41,
   "id": "c6fc2d3a",
   "metadata": {},
   "outputs": [
    {
     "name": "stdout",
     "output_type": "stream",
     "text": [
      "pct_internet: 1.0\n",
      "pct_computer_with_broadband: 0.9952068563120876\n",
      "pct_internet_broadband_any_type: 0.9985175386272158\n",
      "pct_internet_none: -0.9560269551263195\n",
      "pct_internet_cellular: 0.8690814697697261\n",
      "pct_internet_no_subscrp: -0.4559727264071304\n",
      "Ookla Median Download Speed (Mbps): 0.3639283669160873\n",
      "Ookla Median Upload Speed (Mbps): 0.22030364547616488\n",
      "All_Provider_Count_100: 0.190527264338434\n",
      "All_Provider_Count_25: 0.10985180367629867\n",
      "pct_internet_broadband_satellite: -0.038924987333297766\n",
      "Fixed_Wireless_Provider_Count_25: 0.10727742941562714\n",
      "pct_internet_broadband_fiber: 0.1304320912020837\n",
      "Wired_Provider_Count_100: 0.10656025667524201\n",
      "Wired_Provider_Count_25: 0.05193617077302265\n",
      "Fixed_Wireless_Provider_Count_100: 0.1610039885988648\n",
      "Satellite_Provider_Count_100: 0.09162155078356726\n",
      "Fixed_Wireless_Provider_Count: -0.004433158904339903\n",
      "MaxAdUp: 0.12285371396701919\n",
      "All_Provider_Count: 0.09040669697691196\n",
      "Satellite_Provider_Count_25: -0.012718677145945644\n",
      "pct_internet_other: -0.06578203692882506\n",
      "pct_internet_dial_up: -0.07174990386060148\n",
      "pct_internet_dial_up: -0.07174990386060148\n",
      "Wired_Provider_Count: 0.08382628019986456\n",
      "Satellite_Provider_Count: 0.01349506665774155\n"
     ]
    }
   ],
   "source": [
    "for i in all_broadband_variables:\n",
    "    print(f\"{i}: {pearson_corr['pct_internet'][i]}\")\n"
   ]
  },
  {
   "cell_type": "markdown",
   "id": "1a0ac913",
   "metadata": {},
   "source": [
    "pct_internet is highly correlated with:\n",
    "- pct_computer_with_broadband\n",
    "- pct_internet_broadband_any_type\n",
    "- pct_internet_none\n",
    "- pct_internet_no_subscrp\n",
    "\n",
    "That's pretty much all of the variables that had a correlation > 0.3 with poverty rate. This doesn't bode well..\n",
    "\n",
    "Let's assume we take Ookla Median Download Speed and continue with variables which have correlation > 0.1."
   ]
  },
  {
   "cell_type": "code",
   "execution_count": 42,
   "id": "2f82f480",
   "metadata": {},
   "outputs": [
    {
     "name": "stdout",
     "output_type": "stream",
     "text": [
      "pct_internet: 0.3639283669160873\n",
      "pct_computer_with_broadband: 0.36868096012540547\n",
      "pct_internet_broadband_any_type: 0.3723814906399157\n",
      "pct_internet_none: -0.37256590967520853\n",
      "pct_internet_cellular: 0.3663446775185923\n",
      "pct_internet_no_subscrp: -0.09147093820816783\n",
      "Ookla Median Download Speed (Mbps): 1.0\n",
      "Ookla Median Upload Speed (Mbps): 0.3896286257840724\n",
      "All_Provider_Count_100: 0.08565906496990369\n",
      "All_Provider_Count_25: -0.14072958602833066\n",
      "pct_internet_broadband_satellite: -0.35170303916975315\n",
      "Fixed_Wireless_Provider_Count_25: -0.12778394307219632\n",
      "pct_internet_broadband_fiber: 0.060294627130492134\n",
      "Wired_Provider_Count_100: 0.0177650322283854\n",
      "Wired_Provider_Count_25: -0.09151514865519354\n",
      "Fixed_Wireless_Provider_Count_100: 0.1120035543395934\n",
      "Satellite_Provider_Count_100: 0.06115695166883511\n",
      "Fixed_Wireless_Provider_Count: -0.3054907991333883\n",
      "MaxAdUp: 0.20611834809579532\n",
      "All_Provider_Count: -0.11271896699240068\n",
      "Satellite_Provider_Count_25: 0.008082893538194833\n",
      "pct_internet_other: -0.08200621787596049\n",
      "pct_internet_dial_up: -0.19082988414258534\n",
      "pct_internet_dial_up: -0.19082988414258534\n",
      "Wired_Provider_Count: -0.015318883821388215\n",
      "Satellite_Provider_Count: 0.00929214219969368\n"
     ]
    }
   ],
   "source": [
    "for i in all_broadband_variables:\n",
    "    print(f\"{i}: {pearson_corr['Ookla Median Download Speed (Mbps)'][i]}\")\n"
   ]
  },
  {
   "cell_type": "code",
   "execution_count": 44,
   "id": "86c2387e",
   "metadata": {},
   "outputs": [
    {
     "name": "stdout",
     "output_type": "stream",
     "text": [
      "pct_internet: 0.190527264338434\n",
      "pct_computer_with_broadband: 0.1919359126070964\n",
      "pct_internet_broadband_any_type: 0.19084079835635412\n",
      "pct_internet_none: -0.19982474036615605\n",
      "pct_internet_cellular: 0.20594341893955193\n",
      "pct_internet_no_subscrp: -0.03323644782001384\n",
      "Ookla Median Download Speed (Mbps): 0.08565906496990369\n",
      "Ookla Median Upload Speed (Mbps): 0.1305537943248629\n",
      "All_Provider_Count_100: 1.0\n",
      "All_Provider_Count_25: 0.735068709215781\n",
      "pct_internet_broadband_satellite: -0.023402699360777802\n",
      "Fixed_Wireless_Provider_Count_25: 0.3715162866759355\n",
      "pct_internet_broadband_fiber: -0.0476222222974764\n",
      "Wired_Provider_Count_100: 0.7872989543473666\n",
      "Wired_Provider_Count_25: 0.7132926615879259\n",
      "Fixed_Wireless_Provider_Count_100: 0.4923671428374058\n",
      "Satellite_Provider_Count_100: 0.472024613897881\n",
      "Fixed_Wireless_Provider_Count: 0.29366623083168797\n",
      "MaxAdUp: 0.4114493979971153\n",
      "All_Provider_Count: 0.4875733131888181\n",
      "Satellite_Provider_Count_25: 0.17519145397858\n",
      "pct_internet_other: -0.005369209853732419\n",
      "pct_internet_dial_up: -0.02459144508863672\n",
      "pct_internet_dial_up: -0.02459144508863672\n",
      "Wired_Provider_Count: 0.4135143754863589\n",
      "Satellite_Provider_Count: 0.14182855868619532\n"
     ]
    }
   ],
   "source": [
    "for i in all_broadband_variables:\n",
    "    print(f\"{i}: {pearson_corr['All_Provider_Count_100'][i]}\")\n"
   ]
  },
  {
   "cell_type": "markdown",
   "id": "ac5c2556",
   "metadata": {},
   "source": [
    "So now we have a new list for correlation > 0.1 and uncorrelated with each other."
   ]
  },
  {
   "cell_type": "code",
   "execution_count": 45,
   "id": "c6a21aad",
   "metadata": {},
   "outputs": [],
   "source": [
    "small_covariance_med_corr = ['pct_internet',\n",
    "                             'Ookla Median Download Speed (Mbps)',\n",
    "                             'All_Provider_Count_100',\n",
    "                             'All_Provider_Count_25']"
   ]
  }
 ],
 "metadata": {
  "kernelspec": {
   "display_name": "Python 3 (ipykernel)",
   "language": "python",
   "name": "python3"
  },
  "language_info": {
   "codemirror_mode": {
    "name": "ipython",
    "version": 3
   },
   "file_extension": ".py",
   "mimetype": "text/x-python",
   "name": "python",
   "nbconvert_exporter": "python",
   "pygments_lexer": "ipython3",
   "version": "3.7.10"
  }
 },
 "nbformat": 4,
 "nbformat_minor": 5
}
