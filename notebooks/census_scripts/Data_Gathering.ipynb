{
 "cells": [
  {
   "cell_type": "code",
   "execution_count": 27,
   "id": "2db9d369",
   "metadata": {},
   "outputs": [],
   "source": [
    "import sys\n",
    "sys.path.append(\"../\")\n",
    "\n",
    "import csv\n",
    "import pandas as pd\n",
    "import numpy as np\n",
    "import json\n",
    "from itertools import repeat, chain\n",
    "import utils"
   ]
  },
  {
   "cell_type": "markdown",
   "id": "1003f8f2",
   "metadata": {},
   "source": [
    "## Running to Collect ACS Data using Census API"
   ]
  },
  {
   "cell_type": "code",
   "execution_count": 48,
   "id": "863b41a2",
   "metadata": {},
   "outputs": [],
   "source": [
    "# Lets set up our requests session. You can use teh creaet session utility or just pass the requests object\n",
    "session = utils.create_session()\n",
    "\n",
    "## State codes for all states & Washington DC\n",
    "## As listed here - https://www.census.gov/library/reference/code-lists/ansi/ansi-codes-for-states.html\n",
    "#states = [i for i in range(1,57) if i not in [3, 7, 14, 43, 52]]\n",
    "states = [ 4, 44,  10, 34, 44, 34]"
   ]
  },
  {
   "cell_type": "code",
   "execution_count": 49,
   "id": "2859790e",
   "metadata": {
    "scrolled": true
   },
   "outputs": [
    {
     "name": "stdout",
     "output_type": "stream",
     "text": [
      "https://api.census.gov/data/2019/acs/acs5?get=NAME,B15003_001E,B15003_015E,B15003_016E,B15003_017E,B15003_018E,B15003_019E,B15003_020E,B15003_021E,B15003_022E,B15003_023E,B15003_024E,B15003_025E,B05004_001E,B05004_007E,B09010_001E,B09010_002E,B19001_001E,B19001_002E,B19001_003E,B19001_004E,B19001_005E,B19001_006E,B19001_007E,B19001_008E,B19001_009E,B19001_010E,B19001_011E,B19001_012E,B19001_013E,B19001_014E,B19001_015E,B19001_016E,B19001_017E&for=tract:*&in=state:04&key=613f835e522e3664c4ef55859c35824cf26dadc3\n",
      "https://api.census.gov/data/2019/acs/acs5/subject?get=NAME,S0101_C01_001E,S0101_C01_002E,S0101_C01_003E,S0101_C01_004E,S0101_C01_005E,S0101_C01_006E,S0101_C01_007E,S0101_C01_008E,S0101_C01_009E,S0101_C01_010E,S0101_C01_011E,S0101_C01_012E,S0101_C01_013E,S0101_C01_014E,S0101_C01_015E,S0101_C01_016E,S0101_C01_017E,S0101_C01_018E,S0101_C01_019E,S1810_C01_001E,S1810_C01_019E,S1810_C01_029E,S1810_C01_039E,S1810_C01_047E,S1810_C01_055E,S1810_C01_063E,S1810_C02_001E,S1101_C01_010E,S1101_C01_009E&for=tract:*&in=state:04&key=613f835e522e3664c4ef55859c35824cf26dadc3\n",
      "Status: 16.67%\n",
      "https://api.census.gov/data/2019/acs/acs5?get=NAME,B15003_001E,B15003_015E,B15003_016E,B15003_017E,B15003_018E,B15003_019E,B15003_020E,B15003_021E,B15003_022E,B15003_023E,B15003_024E,B15003_025E,B05004_001E,B05004_007E,B09010_001E,B09010_002E,B19001_001E,B19001_002E,B19001_003E,B19001_004E,B19001_005E,B19001_006E,B19001_007E,B19001_008E,B19001_009E,B19001_010E,B19001_011E,B19001_012E,B19001_013E,B19001_014E,B19001_015E,B19001_016E,B19001_017E&for=tract:*&in=state:44&key=613f835e522e3664c4ef55859c35824cf26dadc3\n",
      "https://api.census.gov/data/2019/acs/acs5/subject?get=NAME,S0101_C01_001E,S0101_C01_002E,S0101_C01_003E,S0101_C01_004E,S0101_C01_005E,S0101_C01_006E,S0101_C01_007E,S0101_C01_008E,S0101_C01_009E,S0101_C01_010E,S0101_C01_011E,S0101_C01_012E,S0101_C01_013E,S0101_C01_014E,S0101_C01_015E,S0101_C01_016E,S0101_C01_017E,S0101_C01_018E,S0101_C01_019E,S1810_C01_001E,S1810_C01_019E,S1810_C01_029E,S1810_C01_039E,S1810_C01_047E,S1810_C01_055E,S1810_C01_063E,S1810_C02_001E,S1101_C01_010E,S1101_C01_009E&for=tract:*&in=state:44&key=613f835e522e3664c4ef55859c35824cf26dadc3\n",
      "Status: 33.33%\n",
      "https://api.census.gov/data/2019/acs/acs5?get=NAME,B15003_001E,B15003_015E,B15003_016E,B15003_017E,B15003_018E,B15003_019E,B15003_020E,B15003_021E,B15003_022E,B15003_023E,B15003_024E,B15003_025E,B05004_001E,B05004_007E,B09010_001E,B09010_002E,B19001_001E,B19001_002E,B19001_003E,B19001_004E,B19001_005E,B19001_006E,B19001_007E,B19001_008E,B19001_009E,B19001_010E,B19001_011E,B19001_012E,B19001_013E,B19001_014E,B19001_015E,B19001_016E,B19001_017E&for=tract:*&in=state:10&key=613f835e522e3664c4ef55859c35824cf26dadc3\n",
      "https://api.census.gov/data/2019/acs/acs5/subject?get=NAME,S0101_C01_001E,S0101_C01_002E,S0101_C01_003E,S0101_C01_004E,S0101_C01_005E,S0101_C01_006E,S0101_C01_007E,S0101_C01_008E,S0101_C01_009E,S0101_C01_010E,S0101_C01_011E,S0101_C01_012E,S0101_C01_013E,S0101_C01_014E,S0101_C01_015E,S0101_C01_016E,S0101_C01_017E,S0101_C01_018E,S0101_C01_019E,S1810_C01_001E,S1810_C01_019E,S1810_C01_029E,S1810_C01_039E,S1810_C01_047E,S1810_C01_055E,S1810_C01_063E,S1810_C02_001E,S1101_C01_010E,S1101_C01_009E&for=tract:*&in=state:10&key=613f835e522e3664c4ef55859c35824cf26dadc3\n",
      "Status: 50.00%\n",
      "https://api.census.gov/data/2019/acs/acs5?get=NAME,B15003_001E,B15003_015E,B15003_016E,B15003_017E,B15003_018E,B15003_019E,B15003_020E,B15003_021E,B15003_022E,B15003_023E,B15003_024E,B15003_025E,B05004_001E,B05004_007E,B09010_001E,B09010_002E,B19001_001E,B19001_002E,B19001_003E,B19001_004E,B19001_005E,B19001_006E,B19001_007E,B19001_008E,B19001_009E,B19001_010E,B19001_011E,B19001_012E,B19001_013E,B19001_014E,B19001_015E,B19001_016E,B19001_017E&for=tract:*&in=state:34&key=613f835e522e3664c4ef55859c35824cf26dadc3\n",
      "https://api.census.gov/data/2019/acs/acs5/subject?get=NAME,S0101_C01_001E,S0101_C01_002E,S0101_C01_003E,S0101_C01_004E,S0101_C01_005E,S0101_C01_006E,S0101_C01_007E,S0101_C01_008E,S0101_C01_009E,S0101_C01_010E,S0101_C01_011E,S0101_C01_012E,S0101_C01_013E,S0101_C01_014E,S0101_C01_015E,S0101_C01_016E,S0101_C01_017E,S0101_C01_018E,S0101_C01_019E,S1810_C01_001E,S1810_C01_019E,S1810_C01_029E,S1810_C01_039E,S1810_C01_047E,S1810_C01_055E,S1810_C01_063E,S1810_C02_001E,S1101_C01_010E,S1101_C01_009E&for=tract:*&in=state:34&key=613f835e522e3664c4ef55859c35824cf26dadc3\n",
      "Status: 66.67%\n",
      "https://api.census.gov/data/2019/acs/acs5?get=NAME,B15003_001E,B15003_015E,B15003_016E,B15003_017E,B15003_018E,B15003_019E,B15003_020E,B15003_021E,B15003_022E,B15003_023E,B15003_024E,B15003_025E,B05004_001E,B05004_007E,B09010_001E,B09010_002E,B19001_001E,B19001_002E,B19001_003E,B19001_004E,B19001_005E,B19001_006E,B19001_007E,B19001_008E,B19001_009E,B19001_010E,B19001_011E,B19001_012E,B19001_013E,B19001_014E,B19001_015E,B19001_016E,B19001_017E&for=tract:*&in=state:44&key=613f835e522e3664c4ef55859c35824cf26dadc3\n",
      "https://api.census.gov/data/2019/acs/acs5/subject?get=NAME,S0101_C01_001E,S0101_C01_002E,S0101_C01_003E,S0101_C01_004E,S0101_C01_005E,S0101_C01_006E,S0101_C01_007E,S0101_C01_008E,S0101_C01_009E,S0101_C01_010E,S0101_C01_011E,S0101_C01_012E,S0101_C01_013E,S0101_C01_014E,S0101_C01_015E,S0101_C01_016E,S0101_C01_017E,S0101_C01_018E,S0101_C01_019E,S1810_C01_001E,S1810_C01_019E,S1810_C01_029E,S1810_C01_039E,S1810_C01_047E,S1810_C01_055E,S1810_C01_063E,S1810_C02_001E,S1101_C01_010E,S1101_C01_009E&for=tract:*&in=state:44&key=613f835e522e3664c4ef55859c35824cf26dadc3\n",
      "Status: 83.33%\n",
      "https://api.census.gov/data/2019/acs/acs5?get=NAME,B15003_001E,B15003_015E,B15003_016E,B15003_017E,B15003_018E,B15003_019E,B15003_020E,B15003_021E,B15003_022E,B15003_023E,B15003_024E,B15003_025E,B05004_001E,B05004_007E,B09010_001E,B09010_002E,B19001_001E,B19001_002E,B19001_003E,B19001_004E,B19001_005E,B19001_006E,B19001_007E,B19001_008E,B19001_009E,B19001_010E,B19001_011E,B19001_012E,B19001_013E,B19001_014E,B19001_015E,B19001_016E,B19001_017E&for=tract:*&in=state:34&key=613f835e522e3664c4ef55859c35824cf26dadc3\n",
      "https://api.census.gov/data/2019/acs/acs5/subject?get=NAME,S0101_C01_001E,S0101_C01_002E,S0101_C01_003E,S0101_C01_004E,S0101_C01_005E,S0101_C01_006E,S0101_C01_007E,S0101_C01_008E,S0101_C01_009E,S0101_C01_010E,S0101_C01_011E,S0101_C01_012E,S0101_C01_013E,S0101_C01_014E,S0101_C01_015E,S0101_C01_016E,S0101_C01_017E,S0101_C01_018E,S0101_C01_019E,S1810_C01_001E,S1810_C01_019E,S1810_C01_029E,S1810_C01_039E,S1810_C01_047E,S1810_C01_055E,S1810_C01_063E,S1810_C02_001E,S1101_C01_010E,S1101_C01_009E&for=tract:*&in=state:34&key=613f835e522e3664c4ef55859c35824cf26dadc3\n",
      "Status: 100.00%\n"
     ]
    }
   ],
   "source": [
    "## These codes and endpoints are from viewing the Census API documentation once you identify the correct table\n",
    "## Here's a google doc of the codes we want to use: \n",
    "\n",
    "codes = {'acs/acs5':[  \"B15003_001E\", \"B15003_015E\",\"B15003_016E\",\"B15003_017E\",\"B15003_018E\",\n",
    "                    \"B15003_019E\", \"B15003_020E\", \"B15003_021E\", \"B15003_022E\", \"B15003_023E\", \"B15003_024E\", \n",
    "                    \"B15003_025E\",  \"B05004_001E\", \"B05004_007E\", \"B09010_001E\", \"B09010_002E\",\n",
    "                    \"B19001_001E\",'B19001_002E', 'B19001_003E', 'B19001_004E', 'B19001_005E', 'B19001_006E', \n",
    "                    'B19001_007E', 'B19001_008E', 'B19001_009E', 'B19001_010E', 'B19001_011E', 'B19001_012E', \n",
    "         'B19001_013E','B19001_014E', 'B19001_015E', 'B19001_016E', 'B19001_017E'],\n",
    "         \n",
    "         # \"B01003_001E\", \"B01002_001E\", \"B01002_002E\", \"B01002_003E\",\n",
    "         #\"B28002_001E\", \"B28002_002E\", \"B28002_003E\", \"B28002_004E\", \"B28002_005E\", \n",
    "#                     \"B28002_006E\", \"B28002_007E\", \"B28002_008E\", \"B28002_009E\", \"B28002_010E\", \"B28002_011E\", \n",
    "#                     \"B28002_012E\", \"B28002_013E\", \"B28003_001E\", \"B28003_002E\", \"B28003_003E\", \"B28003_004E\",\n",
    "#                     \"B28003_005E\", \"B28003_006E\",\n",
    "         #\"S2301_C03_001E\", \"S1701_C02_001E\", \"S1701_C01_001E\", \"S1901_C01_012E\",\n",
    "                            # \"S1101_C01_001E\", \"S1101_C01_002E\", \"S1101_C01_004E\", \"S2701_C03_011E\",\"S2701_C03_012E\", \"S2701_C03_013E\",\n",
    "        'acs/acs5/subject' : [\n",
    "                              'S0101_C01_001E', 'S0101_C01_002E', 'S0101_C01_003E',\n",
    "                              'S0101_C01_004E', 'S0101_C01_005E', 'S0101_C01_006E', 'S0101_C01_007E', 'S0101_C01_008E', \n",
    "                              'S0101_C01_009E', 'S0101_C01_010E', 'S0101_C01_011E', 'S0101_C01_012E', 'S0101_C01_013E', \n",
    "                              'S0101_C01_014E', 'S0101_C01_015E', 'S0101_C01_016E', 'S0101_C01_017E', 'S0101_C01_018E', \n",
    "                              'S0101_C01_019E', 'S1810_C01_001E', 'S1810_C01_019E', 'S1810_C01_029E', 'S1810_C01_039E',\n",
    "                             'S1810_C01_047E', 'S1810_C01_055E', 'S1810_C01_063E', 'S1810_C02_001E','S1101_C01_010E',\n",
    "                             'S1101_C01_009E']}\n",
    "         #'DP04_0142PE', 'DP04_0141PE', \"DP04_0089E\",\n",
    "#         'acs/acs5/profile' : [ \"DP05_0077PE\", \"DP05_0071PE\",\n",
    "#                              \"DP05_0078PE\", \"DP05_0079PE\", \"DP05_0080PE\", \"DP05_0081PE\", \"DP05_0082PE\", \"DP05_0083PE\"\n",
    "#                              ]}\n",
    "\n",
    "acs_endpoints = ['acs/acs5', 'acs/acs5/subject'] \n",
    "\n",
    "\n",
    "dfs = []\n",
    "outputs6 = utils.gather_results(session, acs_endpoints, states, codes, dfs)"
   ]
  },
  {
   "cell_type": "code",
   "execution_count": 50,
   "id": "3025eb4e",
   "metadata": {},
   "outputs": [
    {
     "data": {
      "text/plain": [
       "(6252, 66)"
      ]
     },
     "execution_count": 50,
     "metadata": {},
     "output_type": "execute_result"
    }
   ],
   "source": [
    "outputs6.shape"
   ]
  },
  {
   "cell_type": "code",
   "execution_count": 51,
   "id": "1401d698",
   "metadata": {},
   "outputs": [
    {
     "data": {
      "text/plain": [
       "(4,)"
      ]
     },
     "execution_count": 51,
     "metadata": {},
     "output_type": "execute_result"
    }
   ],
   "source": [
    "np.unique(outputs6.state).shape"
   ]
  },
  {
   "cell_type": "code",
   "execution_count": 52,
   "id": "469c24b4",
   "metadata": {},
   "outputs": [
    {
     "data": {
      "text/plain": [
       "34    4020\n",
       "04    1526\n",
       "44     488\n",
       "10     218\n",
       "Name: state, dtype: int64"
      ]
     },
     "execution_count": 52,
     "metadata": {},
     "output_type": "execute_result"
    }
   ],
   "source": [
    "outputs6.state.value_counts()"
   ]
  },
  {
   "cell_type": "code",
   "execution_count": 53,
   "id": "50aa0eda",
   "metadata": {},
   "outputs": [],
   "source": [
    "outputs6 = outputs6.replace(-1, np.nan)\n",
    "outputs6 = outputs6.replace(-666666666, np.nan)\n",
    "outputs6 = outputs6.replace(-888888888, np.nan)\n",
    "outputs6 = outputs6.replace(-666666666.0, np.nan)"
   ]
  },
  {
   "cell_type": "code",
   "execution_count": 54,
   "id": "789259c2",
   "metadata": {},
   "outputs": [
    {
     "data": {
      "text/plain": [
       "NAME                 0\n",
       "B15003_001E        244\n",
       "B15003_015E        244\n",
       "B15003_016E        244\n",
       "B15003_017E        244\n",
       "B15003_018E        244\n",
       "B15003_019E        244\n",
       "B15003_020E        244\n",
       "B15003_021E        244\n",
       "B15003_022E        244\n",
       "B15003_023E        244\n",
       "B15003_024E        244\n",
       "B15003_025E        244\n",
       "B05004_001E        244\n",
       "B05004_007E        244\n",
       "B09010_001E        244\n",
       "B09010_002E        244\n",
       "B19001_001E        244\n",
       "B19001_002E        244\n",
       "B19001_003E        244\n",
       "B19001_004E        244\n",
       "B19001_005E        244\n",
       "B19001_006E        244\n",
       "B19001_007E        244\n",
       "B19001_008E        244\n",
       "B19001_009E        244\n",
       "B19001_010E        244\n",
       "B19001_011E        244\n",
       "B19001_012E        244\n",
       "B19001_013E        244\n",
       "B19001_014E        244\n",
       "B19001_015E        244\n",
       "B19001_016E        244\n",
       "B19001_017E        244\n",
       "state                0\n",
       "county               0\n",
       "tract                0\n",
       "S0101_C01_001E    2010\n",
       "S0101_C01_002E    2010\n",
       "S0101_C01_003E    2010\n",
       "S0101_C01_004E    2010\n",
       "S0101_C01_005E    2010\n",
       "S0101_C01_006E    2010\n",
       "S0101_C01_007E    2010\n",
       "S0101_C01_008E    2010\n",
       "S0101_C01_009E    2010\n",
       "S0101_C01_010E    2010\n",
       "S0101_C01_011E    2010\n",
       "S0101_C01_012E    2010\n",
       "S0101_C01_013E    2010\n",
       "S0101_C01_014E    2010\n",
       "S0101_C01_015E    2010\n",
       "S0101_C01_016E    2010\n",
       "S0101_C01_017E    2010\n",
       "S0101_C01_018E    2010\n",
       "S0101_C01_019E    2010\n",
       "S1810_C01_001E    2010\n",
       "S1810_C01_019E    2010\n",
       "S1810_C01_029E    2010\n",
       "S1810_C01_039E    2010\n",
       "S1810_C01_047E    2010\n",
       "S1810_C01_055E    2010\n",
       "S1810_C01_063E    2010\n",
       "S1810_C02_001E    2010\n",
       "S1101_C01_010E    2010\n",
       "S1101_C01_009E    2010\n",
       "dtype: int64"
      ]
     },
     "execution_count": 54,
     "metadata": {},
     "output_type": "execute_result"
    }
   ],
   "source": [
    "\n",
    "pd.set_option('display.max_rows', None)\n",
    "outputs6.isnull().sum()"
   ]
  },
  {
   "cell_type": "code",
   "execution_count": 55,
   "id": "943191b0",
   "metadata": {},
   "outputs": [
    {
     "data": {
      "text/html": [
       "<div>\n",
       "<style scoped>\n",
       "    .dataframe tbody tr th:only-of-type {\n",
       "        vertical-align: middle;\n",
       "    }\n",
       "\n",
       "    .dataframe tbody tr th {\n",
       "        vertical-align: top;\n",
       "    }\n",
       "\n",
       "    .dataframe thead th {\n",
       "        text-align: right;\n",
       "    }\n",
       "</style>\n",
       "<table border=\"1\" class=\"dataframe\">\n",
       "  <thead>\n",
       "    <tr style=\"text-align: right;\">\n",
       "      <th></th>\n",
       "      <th>NAME</th>\n",
       "      <th>B15003_001E</th>\n",
       "      <th>B15003_015E</th>\n",
       "      <th>B15003_016E</th>\n",
       "      <th>B15003_017E</th>\n",
       "      <th>B15003_018E</th>\n",
       "      <th>B15003_019E</th>\n",
       "      <th>B15003_020E</th>\n",
       "      <th>B15003_021E</th>\n",
       "      <th>B15003_022E</th>\n",
       "      <th>...</th>\n",
       "      <th>S1810_C01_001E</th>\n",
       "      <th>S1810_C01_019E</th>\n",
       "      <th>S1810_C01_029E</th>\n",
       "      <th>S1810_C01_039E</th>\n",
       "      <th>S1810_C01_047E</th>\n",
       "      <th>S1810_C01_055E</th>\n",
       "      <th>S1810_C01_063E</th>\n",
       "      <th>S1810_C02_001E</th>\n",
       "      <th>S1101_C01_010E</th>\n",
       "      <th>S1101_C01_009E</th>\n",
       "    </tr>\n",
       "  </thead>\n",
       "  <tbody>\n",
       "    <tr>\n",
       "      <th>0</th>\n",
       "      <td>Census Tract 22, Coconino County, Arizona</td>\n",
       "      <td>5191</td>\n",
       "      <td>4</td>\n",
       "      <td>120</td>\n",
       "      <td>501</td>\n",
       "      <td>191</td>\n",
       "      <td>167</td>\n",
       "      <td>659</td>\n",
       "      <td>605</td>\n",
       "      <td>1385</td>\n",
       "      <td>...</td>\n",
       "      <td>6868</td>\n",
       "      <td>-888888888</td>\n",
       "      <td>-888888888</td>\n",
       "      <td>-888888888</td>\n",
       "      <td>-888888888</td>\n",
       "      <td>-888888888</td>\n",
       "      <td>-888888888</td>\n",
       "      <td>892</td>\n",
       "      <td>30.7</td>\n",
       "      <td>2684</td>\n",
       "    </tr>\n",
       "    <tr>\n",
       "      <th>1</th>\n",
       "      <td>Census Tract 23, Coconino County, Arizona</td>\n",
       "      <td>5016</td>\n",
       "      <td>51</td>\n",
       "      <td>44</td>\n",
       "      <td>1157</td>\n",
       "      <td>166</td>\n",
       "      <td>555</td>\n",
       "      <td>1382</td>\n",
       "      <td>280</td>\n",
       "      <td>740</td>\n",
       "      <td>...</td>\n",
       "      <td>6182</td>\n",
       "      <td>-888888888</td>\n",
       "      <td>-888888888</td>\n",
       "      <td>-888888888</td>\n",
       "      <td>-888888888</td>\n",
       "      <td>-888888888</td>\n",
       "      <td>-888888888</td>\n",
       "      <td>840</td>\n",
       "      <td>12.9</td>\n",
       "      <td>2582</td>\n",
       "    </tr>\n",
       "    <tr>\n",
       "      <th>2</th>\n",
       "      <td>Census Tract 9422.01, Coconino County, Arizona</td>\n",
       "      <td>2150</td>\n",
       "      <td>107</td>\n",
       "      <td>42</td>\n",
       "      <td>771</td>\n",
       "      <td>52</td>\n",
       "      <td>81</td>\n",
       "      <td>320</td>\n",
       "      <td>160</td>\n",
       "      <td>107</td>\n",
       "      <td>...</td>\n",
       "      <td>3712</td>\n",
       "      <td>-888888888</td>\n",
       "      <td>-888888888</td>\n",
       "      <td>-888888888</td>\n",
       "      <td>-888888888</td>\n",
       "      <td>-888888888</td>\n",
       "      <td>-888888888</td>\n",
       "      <td>790</td>\n",
       "      <td>38.3</td>\n",
       "      <td>1006</td>\n",
       "    </tr>\n",
       "    <tr>\n",
       "      <th>3</th>\n",
       "      <td>Census Tract 9422.02, Coconino County, Arizona</td>\n",
       "      <td>1902</td>\n",
       "      <td>169</td>\n",
       "      <td>36</td>\n",
       "      <td>705</td>\n",
       "      <td>34</td>\n",
       "      <td>80</td>\n",
       "      <td>279</td>\n",
       "      <td>83</td>\n",
       "      <td>63</td>\n",
       "      <td>...</td>\n",
       "      <td>3594</td>\n",
       "      <td>-888888888</td>\n",
       "      <td>-888888888</td>\n",
       "      <td>-888888888</td>\n",
       "      <td>-888888888</td>\n",
       "      <td>-888888888</td>\n",
       "      <td>-888888888</td>\n",
       "      <td>774</td>\n",
       "      <td>46.8</td>\n",
       "      <td>873</td>\n",
       "    </tr>\n",
       "    <tr>\n",
       "      <th>4</th>\n",
       "      <td>Census Tract 9449, Coconino County, Arizona</td>\n",
       "      <td>3056</td>\n",
       "      <td>95</td>\n",
       "      <td>17</td>\n",
       "      <td>998</td>\n",
       "      <td>82</td>\n",
       "      <td>155</td>\n",
       "      <td>536</td>\n",
       "      <td>385</td>\n",
       "      <td>204</td>\n",
       "      <td>...</td>\n",
       "      <td>4904</td>\n",
       "      <td>-888888888</td>\n",
       "      <td>-888888888</td>\n",
       "      <td>-888888888</td>\n",
       "      <td>-888888888</td>\n",
       "      <td>-888888888</td>\n",
       "      <td>-888888888</td>\n",
       "      <td>486</td>\n",
       "      <td>47.8</td>\n",
       "      <td>1239</td>\n",
       "    </tr>\n",
       "  </tbody>\n",
       "</table>\n",
       "<p>5 rows × 66 columns</p>\n",
       "</div>"
      ],
      "text/plain": [
       "                                             NAME B15003_001E B15003_015E  \\\n",
       "0       Census Tract 22, Coconino County, Arizona        5191           4   \n",
       "1       Census Tract 23, Coconino County, Arizona        5016          51   \n",
       "2  Census Tract 9422.01, Coconino County, Arizona        2150         107   \n",
       "3  Census Tract 9422.02, Coconino County, Arizona        1902         169   \n",
       "4     Census Tract 9449, Coconino County, Arizona        3056          95   \n",
       "\n",
       "  B15003_016E B15003_017E B15003_018E B15003_019E B15003_020E B15003_021E  \\\n",
       "0         120         501         191         167         659         605   \n",
       "1          44        1157         166         555        1382         280   \n",
       "2          42         771          52          81         320         160   \n",
       "3          36         705          34          80         279          83   \n",
       "4          17         998          82         155         536         385   \n",
       "\n",
       "  B15003_022E  ... S1810_C01_001E S1810_C01_019E S1810_C01_029E  \\\n",
       "0        1385  ...           6868     -888888888     -888888888   \n",
       "1         740  ...           6182     -888888888     -888888888   \n",
       "2         107  ...           3712     -888888888     -888888888   \n",
       "3          63  ...           3594     -888888888     -888888888   \n",
       "4         204  ...           4904     -888888888     -888888888   \n",
       "\n",
       "  S1810_C01_039E S1810_C01_047E S1810_C01_055E S1810_C01_063E S1810_C02_001E  \\\n",
       "0     -888888888     -888888888     -888888888     -888888888            892   \n",
       "1     -888888888     -888888888     -888888888     -888888888            840   \n",
       "2     -888888888     -888888888     -888888888     -888888888            790   \n",
       "3     -888888888     -888888888     -888888888     -888888888            774   \n",
       "4     -888888888     -888888888     -888888888     -888888888            486   \n",
       "\n",
       "  S1101_C01_010E S1101_C01_009E  \n",
       "0           30.7           2684  \n",
       "1           12.9           2582  \n",
       "2           38.3           1006  \n",
       "3           46.8            873  \n",
       "4           47.8           1239  \n",
       "\n",
       "[5 rows x 66 columns]"
      ]
     },
     "execution_count": 55,
     "metadata": {},
     "output_type": "execute_result"
    }
   ],
   "source": [
    "outputs6.head()"
   ]
  },
  {
   "cell_type": "code",
   "execution_count": 56,
   "id": "1d6556b6",
   "metadata": {},
   "outputs": [
    {
     "data": {
      "text/plain": [
       "34    2010\n",
       "Name: state, dtype: int64"
      ]
     },
     "execution_count": 56,
     "metadata": {},
     "output_type": "execute_result"
    }
   ],
   "source": [
    "outputs6[outputs6.S1810_C01_029E.isna()][\"state\"].value_counts()"
   ]
  },
  {
   "cell_type": "code",
   "execution_count": 57,
   "id": "532ed8b5",
   "metadata": {},
   "outputs": [
    {
     "data": {
      "text/plain": [
       "44    244\n",
       "Name: state, dtype: int64"
      ]
     },
     "execution_count": 57,
     "metadata": {},
     "output_type": "execute_result"
    }
   ],
   "source": [
    "outputs6[outputs6.B19001_017E.isna()][\"state\"].value_counts()"
   ]
  },
  {
   "cell_type": "code",
   "execution_count": 58,
   "id": "b8f2f450",
   "metadata": {},
   "outputs": [
    {
     "data": {
      "text/plain": [
       "Series([], Name: state, dtype: int64)"
      ]
     },
     "execution_count": 58,
     "metadata": {},
     "output_type": "execute_result"
    }
   ],
   "source": [
    "x = outputs6[~outputs6.B19001_017E.isna()]\n",
    "x[x.B19001_017E.isna()][\"state\"].value_counts()"
   ]
  },
  {
   "cell_type": "code",
   "execution_count": 59,
   "id": "4b091412",
   "metadata": {},
   "outputs": [
    {
     "data": {
      "text/plain": [
       "Series([], Name: state, dtype: int64)"
      ]
     },
     "execution_count": 59,
     "metadata": {},
     "output_type": "execute_result"
    }
   ],
   "source": [
    "x = x[~x.S1810_C01_029E.isna()]\n",
    "x[x.S1810_C01_029E.isna()][\"state\"].value_counts()"
   ]
  },
  {
   "cell_type": "code",
   "execution_count": 60,
   "id": "c012f644",
   "metadata": {},
   "outputs": [],
   "source": [
    "x.to_csv(\"../data/additional_data_v4.csv\", index=False)"
   ]
  },
  {
   "cell_type": "code",
   "execution_count": null,
   "id": "e8784ee0",
   "metadata": {},
   "outputs": [],
   "source": []
  }
 ],
 "metadata": {
  "kernelspec": {
   "display_name": "Python 3",
   "language": "python",
   "name": "python3"
  },
  "language_info": {
   "codemirror_mode": {
    "name": "ipython",
    "version": 3
   },
   "file_extension": ".py",
   "mimetype": "text/x-python",
   "name": "python",
   "nbconvert_exporter": "python",
   "pygments_lexer": "ipython3",
   "version": "3.8.10"
  }
 },
 "nbformat": 4,
 "nbformat_minor": 5
}
