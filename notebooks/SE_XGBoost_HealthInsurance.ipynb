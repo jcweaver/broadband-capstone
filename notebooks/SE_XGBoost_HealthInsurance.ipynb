{
 "cells": [
  {
   "cell_type": "markdown",
   "id": "4d80f089",
   "metadata": {},
   "source": [
    "## Imports, Reading Data, Setting up tests"
   ]
  },
  {
   "cell_type": "code",
   "execution_count": 22,
   "id": "52f77ccb",
   "metadata": {},
   "outputs": [],
   "source": [
    "import pandas as pd\n",
    "import numpy as np\n",
    "import sklearn.metrics as metrics\n",
    "from xgboost import XGBRegressor\n",
    "from sklearn.model_selection import GridSearchCV\n",
    "from sklearn.model_selection import RandomizedSearchCV\n"
   ]
  },
  {
   "cell_type": "code",
   "execution_count": 5,
   "id": "69659d00",
   "metadata": {},
   "outputs": [],
   "source": [
    "training_data = pd.read_csv('/home/ec2-user/capstone/broadband-capstone/data/broadband_training_bin_1.csv')\n",
    "test_data = pd.read_csv('/home/ec2-user/capstone/broadband-capstone/data/broadband_test_bin_1.csv')"
   ]
  },
  {
   "cell_type": "code",
   "execution_count": 16,
   "id": "368cd030",
   "metadata": {},
   "outputs": [],
   "source": [
    "all_vars = list(training_data.columns.values[(training_data.dtypes=='float64') | (training_data.dtypes=='int')])\n",
    "remove_vars = ['pct_health_ins_children','pct_health_ins_19_64','pct_health_ins_65+']\n",
    "\n",
    "for i in remove_vars:\n",
    "    all_vars.remove(i)"
   ]
  },
  {
   "cell_type": "markdown",
   "id": "267f61ba",
   "metadata": {},
   "source": [
    "## Modeling"
   ]
  },
  {
   "cell_type": "markdown",
   "id": "11edc941",
   "metadata": {},
   "source": [
    "### Functions"
   ]
  },
  {
   "cell_type": "code",
   "execution_count": 7,
   "id": "ebab78c0",
   "metadata": {},
   "outputs": [],
   "source": [
    "def regression_results(y_true, y_pred):\n",
    "\n",
    "    # Regression metrics\n",
    "    explained_variance=metrics.explained_variance_score(y_true, y_pred)\n",
    "    mean_absolute_error=metrics.mean_absolute_error(y_true, y_pred) \n",
    "    mse=metrics.mean_squared_error(y_true, y_pred) \n",
    "    median_absolute_error=metrics.median_absolute_error(y_true, y_pred)\n",
    "    r2=metrics.r2_score(y_true, y_pred)\n",
    "\n",
    "    print('explained_variance: ', round(explained_variance,4))    \n",
    "    print('r2: ', round(r2,4))\n",
    "    print('MAE: ', round(mean_absolute_error,4))\n",
    "    print('MSE: ', round(mse,4))\n",
    "    print('RMSE: ', round(np.sqrt(mse),4))"
   ]
  },
  {
   "cell_type": "code",
   "execution_count": 8,
   "id": "787c72cc",
   "metadata": {},
   "outputs": [],
   "source": [
    "Y_train = np.array(training_data['pct_health_ins_19_64'])\n",
    "Y_test = np.array(test_data['pct_health_ins_19_64'])\n",
    "\n",
    "def XGBoost_model(train_df, \n",
    "                          test_df, \n",
    "                          variable_list,\n",
    "                          Y_train = Y_train,  \n",
    "                          Y_test = Y_test):\n",
    "    train_variables = np.array(train_df[variable_list])\n",
    "    test_variables = np.array(test_df[variable_list])\n",
    "    \n",
    "    model = XGBRegressor().fit(train_variables, Y_train)\n",
    "    predicted = model.predict(test_variables)\n",
    "    \n",
    "    regression_results(Y_test, predicted)\n",
    "    \n",
    "    return pd.DataFrame(model.feature_importances_, \n",
    "                        index = variable_list).sort_values(by=0, ascending = False)\n"
   ]
  },
  {
   "cell_type": "code",
   "execution_count": 17,
   "id": "3f6be134",
   "metadata": {},
   "outputs": [
    {
     "name": "stdout",
     "output_type": "stream",
     "text": [
      "explained_variance:  0.7611\n",
      "r2:  0.7611\n",
      "MAE:  3.502\n",
      "MSE:  22.6217\n",
      "RMSE:  4.7562\n"
     ]
    }
   ],
   "source": [
    "feature_importance_all_vars = XGBoost_model(training_data, \n",
    "                                            test_data, \n",
    "                                            all_vars) \n"
   ]
  },
  {
   "cell_type": "markdown",
   "id": "e892c9cf",
   "metadata": {},
   "source": [
    "From the all_vars model, we can pick the top variables to use in the grid search. "
   ]
  },
  {
   "cell_type": "code",
   "execution_count": null,
   "id": "d84e45b8",
   "metadata": {},
   "outputs": [],
   "source": [
    "feature_importance_all_vars.head(25).plot.barh()"
   ]
  },
  {
   "cell_type": "code",
   "execution_count": 19,
   "id": "71a8378a",
   "metadata": {},
   "outputs": [
    {
     "data": {
      "text/plain": [
       "array(['median_income', 'pct_hisp_latino', 'poverty_rate', 'pct_pop_hs+',\n",
       "       'tract_geoid', 'pct_white', 'pct_computer_no_internet'],\n",
       "      dtype=object)"
      ]
     },
     "execution_count": 19,
     "metadata": {},
     "output_type": "execute_result"
    }
   ],
   "source": [
    "feature_importance_all_vars.head(7).index.values"
   ]
  },
  {
   "cell_type": "code",
   "execution_count": 20,
   "id": "b8b232ba",
   "metadata": {},
   "outputs": [],
   "source": [
    "key_vars = ['median_income', \n",
    "            'pct_hisp_latino', \n",
    "            'poverty_rate', \n",
    "            'pct_pop_hs+',\n",
    "            'tract_geoid', \n",
    "            'pct_white', \n",
    "            'pct_computer_no_internet']"
   ]
  },
  {
   "cell_type": "markdown",
   "id": "96e5e74e",
   "metadata": {},
   "source": [
    "## Tuning the model"
   ]
  },
  {
   "cell_type": "code",
   "execution_count": 23,
   "id": "ed791899",
   "metadata": {
    "scrolled": true
   },
   "outputs": [
    {
     "name": "stdout",
     "output_type": "stream",
     "text": [
      "Fitting 3 folds for each of 20 candidates, totalling 60 fits\n",
      "[CV 1/3; 1/20] START colsample_bytree=0.3, learning_rate=0.1, max_depth=3, n_estimators=500\n",
      "[CV 1/3; 1/20] END colsample_bytree=0.3, learning_rate=0.1, max_depth=3, n_estimators=500;, score=-26.109 total time= 2.2min\n",
      "[CV 2/3; 1/20] START colsample_bytree=0.3, learning_rate=0.1, max_depth=3, n_estimators=500\n",
      "[CV 2/3; 1/20] END colsample_bytree=0.3, learning_rate=0.1, max_depth=3, n_estimators=500;, score=-26.206 total time=  16.6s\n",
      "[CV 3/3; 1/20] START colsample_bytree=0.3, learning_rate=0.1, max_depth=3, n_estimators=500\n",
      "[CV 3/3; 1/20] END colsample_bytree=0.3, learning_rate=0.1, max_depth=3, n_estimators=500;, score=-26.848 total time= 2.2min\n",
      "[CV 1/3; 2/20] START colsample_bytree=0.7, learning_rate=0.1, max_depth=6, n_estimators=500\n",
      "[CV 1/3; 2/20] END colsample_bytree=0.7, learning_rate=0.1, max_depth=6, n_estimators=500;, score=-22.465 total time=  47.7s\n",
      "[CV 2/3; 2/20] START colsample_bytree=0.7, learning_rate=0.1, max_depth=6, n_estimators=500\n",
      "[CV 2/3; 2/20] END colsample_bytree=0.7, learning_rate=0.1, max_depth=6, n_estimators=500;, score=-22.774 total time=  45.6s\n",
      "[CV 3/3; 2/20] START colsample_bytree=0.7, learning_rate=0.1, max_depth=6, n_estimators=500\n",
      "[CV 3/3; 2/20] END colsample_bytree=0.7, learning_rate=0.1, max_depth=6, n_estimators=500;, score=-23.482 total time=  46.4s\n",
      "[CV 1/3; 3/20] START colsample_bytree=0.7, learning_rate=0.1, max_depth=6, n_estimators=100\n",
      "[CV 1/3; 3/20] END colsample_bytree=0.7, learning_rate=0.1, max_depth=6, n_estimators=100;, score=-23.781 total time=   8.6s\n",
      "[CV 2/3; 3/20] START colsample_bytree=0.7, learning_rate=0.1, max_depth=6, n_estimators=100\n",
      "[CV 2/3; 3/20] END colsample_bytree=0.7, learning_rate=0.1, max_depth=6, n_estimators=100;, score=-24.208 total time=  59.9s\n",
      "[CV 3/3; 3/20] START colsample_bytree=0.7, learning_rate=0.1, max_depth=6, n_estimators=100\n",
      "[CV 3/3; 3/20] END colsample_bytree=0.7, learning_rate=0.1, max_depth=6, n_estimators=100;, score=-24.801 total time=  10.1s\n",
      "[CV 1/3; 4/20] START colsample_bytree=0.3, learning_rate=0.05, max_depth=6, n_estimators=100\n",
      "[CV 1/3; 4/20] END colsample_bytree=0.3, learning_rate=0.05, max_depth=6, n_estimators=100;, score=-30.639 total time=   5.9s\n",
      "[CV 2/3; 4/20] START colsample_bytree=0.3, learning_rate=0.05, max_depth=6, n_estimators=100\n",
      "[CV 2/3; 4/20] END colsample_bytree=0.3, learning_rate=0.05, max_depth=6, n_estimators=100;, score=-30.854 total time=  50.1s\n",
      "[CV 3/3; 4/20] START colsample_bytree=0.3, learning_rate=0.05, max_depth=6, n_estimators=100\n",
      "[CV 3/3; 4/20] END colsample_bytree=0.3, learning_rate=0.05, max_depth=6, n_estimators=100;, score=-31.201 total time=  50.3s\n",
      "[CV 1/3; 5/20] START colsample_bytree=0.7, learning_rate=0.05, max_depth=10, n_estimators=1000\n",
      "[CV 1/3; 5/20] END colsample_bytree=0.7, learning_rate=0.05, max_depth=10, n_estimators=1000;, score=-22.134 total time= 2.7min\n",
      "[CV 2/3; 5/20] START colsample_bytree=0.7, learning_rate=0.05, max_depth=10, n_estimators=1000\n",
      "[CV 2/3; 5/20] END colsample_bytree=0.7, learning_rate=0.05, max_depth=10, n_estimators=1000;, score=-22.377 total time=  46.9s\n",
      "[CV 3/3; 5/20] START colsample_bytree=0.7, learning_rate=0.05, max_depth=10, n_estimators=1000\n",
      "[CV 3/3; 5/20] END colsample_bytree=0.7, learning_rate=0.05, max_depth=10, n_estimators=1000;, score=-23.119 total time= 3.4min\n",
      "[CV 1/3; 6/20] START colsample_bytree=0.3, learning_rate=0.01, max_depth=6, n_estimators=1000\n",
      "[CV 1/3; 6/20] END colsample_bytree=0.3, learning_rate=0.01, max_depth=6, n_estimators=1000;, score=-25.873 total time= 6.0min\n",
      "[CV 2/3; 6/20] START colsample_bytree=0.3, learning_rate=0.01, max_depth=6, n_estimators=1000\n",
      "[CV 2/3; 6/20] END colsample_bytree=0.3, learning_rate=0.01, max_depth=6, n_estimators=1000;, score=-26.217 total time= 2.1min\n",
      "[CV 3/3; 6/20] START colsample_bytree=0.3, learning_rate=0.01, max_depth=6, n_estimators=1000\n",
      "[CV 3/3; 6/20] END colsample_bytree=0.3, learning_rate=0.01, max_depth=6, n_estimators=1000;, score=-26.714 total time= 3.2min\n",
      "[CV 1/3; 7/20] START colsample_bytree=0.3, learning_rate=0.05, max_depth=10, n_estimators=1000\n",
      "[CV 1/3; 7/20] END colsample_bytree=0.3, learning_rate=0.05, max_depth=10, n_estimators=1000;, score=-23.591 total time= 3.6min\n",
      "[CV 2/3; 7/20] START colsample_bytree=0.3, learning_rate=0.05, max_depth=10, n_estimators=1000\n",
      "[CV 2/3; 7/20] END colsample_bytree=0.3, learning_rate=0.05, max_depth=10, n_estimators=1000;, score=-23.680 total time= 3.7min\n",
      "[CV 3/3; 7/20] START colsample_bytree=0.3, learning_rate=0.05, max_depth=10, n_estimators=1000\n",
      "[CV 3/3; 7/20] END colsample_bytree=0.3, learning_rate=0.05, max_depth=10, n_estimators=1000;, score=-24.206 total time= 3.8min\n",
      "[CV 1/3; 8/20] START colsample_bytree=0.7, learning_rate=0.1, max_depth=10, n_estimators=500\n",
      "[CV 1/3; 8/20] END colsample_bytree=0.7, learning_rate=0.1, max_depth=10, n_estimators=500;, score=-22.533 total time= 3.0min\n",
      "[CV 2/3; 8/20] START colsample_bytree=0.7, learning_rate=0.1, max_depth=10, n_estimators=500\n",
      "[CV 2/3; 8/20] END colsample_bytree=0.7, learning_rate=0.1, max_depth=10, n_estimators=500;, score=-22.878 total time= 2.9min\n",
      "[CV 3/3; 8/20] START colsample_bytree=0.7, learning_rate=0.1, max_depth=10, n_estimators=500\n",
      "[CV 3/3; 8/20] END colsample_bytree=0.7, learning_rate=0.1, max_depth=10, n_estimators=500;, score=-23.395 total time= 2.9min\n",
      "[CV 1/3; 9/20] START colsample_bytree=0.3, learning_rate=0.01, max_depth=6, n_estimators=100\n",
      "[CV 1/3; 9/20] END colsample_bytree=0.3, learning_rate=0.01, max_depth=6, n_estimators=100;, score=-1062.744 total time=  14.9s\n",
      "[CV 2/3; 9/20] START colsample_bytree=0.3, learning_rate=0.01, max_depth=6, n_estimators=100\n",
      "[CV 2/3; 9/20] END colsample_bytree=0.3, learning_rate=0.01, max_depth=6, n_estimators=100;, score=-1069.014 total time=  16.5s\n",
      "[CV 3/3; 9/20] START colsample_bytree=0.3, learning_rate=0.01, max_depth=6, n_estimators=100\n",
      "[CV 3/3; 9/20] END colsample_bytree=0.3, learning_rate=0.01, max_depth=6, n_estimators=100;, score=-1065.437 total time=  12.8s\n",
      "[CV 1/3; 10/20] START colsample_bytree=0.7, learning_rate=0.01, max_depth=6, n_estimators=1000\n",
      "[CV 1/3; 10/20] END colsample_bytree=0.7, learning_rate=0.01, max_depth=6, n_estimators=1000;, score=-23.394 total time= 3.4min\n",
      "[CV 2/3; 10/20] START colsample_bytree=0.7, learning_rate=0.01, max_depth=6, n_estimators=1000\n",
      "[CV 2/3; 10/20] END colsample_bytree=0.7, learning_rate=0.01, max_depth=6, n_estimators=1000;, score=-23.713 total time= 5.6min\n",
      "[CV 3/3; 10/20] START colsample_bytree=0.7, learning_rate=0.01, max_depth=6, n_estimators=1000\n",
      "[CV 3/3; 10/20] END colsample_bytree=0.7, learning_rate=0.01, max_depth=6, n_estimators=1000;, score=-24.266 total time= 2.4min\n",
      "[CV 1/3; 11/20] START colsample_bytree=0.3, learning_rate=0.05, max_depth=6, n_estimators=500\n",
      "[CV 1/3; 11/20] END colsample_bytree=0.3, learning_rate=0.05, max_depth=6, n_estimators=500;, score=-24.049 total time= 1.6min\n",
      "[CV 2/3; 11/20] START colsample_bytree=0.3, learning_rate=0.05, max_depth=6, n_estimators=500\n",
      "[CV 2/3; 11/20] END colsample_bytree=0.3, learning_rate=0.05, max_depth=6, n_estimators=500;, score=-24.243 total time= 3.9min\n",
      "[CV 3/3; 11/20] START colsample_bytree=0.3, learning_rate=0.05, max_depth=6, n_estimators=500\n",
      "[CV 3/3; 11/20] END colsample_bytree=0.3, learning_rate=0.05, max_depth=6, n_estimators=500;, score=-24.901 total time=  31.8s\n",
      "[CV 1/3; 12/20] START colsample_bytree=0.3, learning_rate=0.01, max_depth=10, n_estimators=1000\n",
      "[CV 1/3; 12/20] END colsample_bytree=0.3, learning_rate=0.01, max_depth=10, n_estimators=1000;, score=-23.871 total time=13.0min\n",
      "[CV 2/3; 12/20] START colsample_bytree=0.3, learning_rate=0.01, max_depth=10, n_estimators=1000\n",
      "[CV 2/3; 12/20] END colsample_bytree=0.3, learning_rate=0.01, max_depth=10, n_estimators=1000;, score=-24.008 total time= 6.3min\n",
      "[CV 3/3; 12/20] START colsample_bytree=0.3, learning_rate=0.01, max_depth=10, n_estimators=1000\n",
      "[CV 3/3; 12/20] END colsample_bytree=0.3, learning_rate=0.01, max_depth=10, n_estimators=1000;, score=-24.615 total time= 1.8min\n",
      "[CV 1/3; 13/20] START colsample_bytree=0.3, learning_rate=0.1, max_depth=10, n_estimators=1000\n",
      "[CV 1/3; 13/20] END colsample_bytree=0.3, learning_rate=0.1, max_depth=10, n_estimators=1000;, score=-24.378 total time= 6.8min\n",
      "[CV 2/3; 13/20] START colsample_bytree=0.3, learning_rate=0.1, max_depth=10, n_estimators=1000\n"
     ]
    },
    {
     "name": "stdout",
     "output_type": "stream",
     "text": [
      "[CV 2/3; 13/20] END colsample_bytree=0.3, learning_rate=0.1, max_depth=10, n_estimators=1000;, score=-24.240 total time= 7.4min\n",
      "[CV 3/3; 13/20] START colsample_bytree=0.3, learning_rate=0.1, max_depth=10, n_estimators=1000\n",
      "[CV 3/3; 13/20] END colsample_bytree=0.3, learning_rate=0.1, max_depth=10, n_estimators=1000;, score=-24.922 total time= 9.9min\n",
      "[CV 1/3; 14/20] START colsample_bytree=0.3, learning_rate=0.01, max_depth=10, n_estimators=100\n",
      "[CV 1/3; 14/20] END colsample_bytree=0.3, learning_rate=0.01, max_depth=10, n_estimators=100;, score=-1061.666 total time= 1.1min\n",
      "[CV 2/3; 14/20] START colsample_bytree=0.3, learning_rate=0.01, max_depth=10, n_estimators=100\n",
      "[CV 2/3; 14/20] END colsample_bytree=0.3, learning_rate=0.01, max_depth=10, n_estimators=100;, score=-1067.963 total time=  56.8s\n",
      "[CV 3/3; 14/20] START colsample_bytree=0.3, learning_rate=0.01, max_depth=10, n_estimators=100\n",
      "[CV 3/3; 14/20] END colsample_bytree=0.3, learning_rate=0.01, max_depth=10, n_estimators=100;, score=-1064.564 total time=  18.2s\n",
      "[CV 1/3; 15/20] START colsample_bytree=0.7, learning_rate=0.01, max_depth=10, n_estimators=500\n",
      "[CV 1/3; 15/20] END colsample_bytree=0.7, learning_rate=0.01, max_depth=10, n_estimators=500;, score=-23.354 total time= 5.6min\n",
      "[CV 2/3; 15/20] START colsample_bytree=0.7, learning_rate=0.01, max_depth=10, n_estimators=500\n",
      "[CV 2/3; 15/20] END colsample_bytree=0.7, learning_rate=0.01, max_depth=10, n_estimators=500;, score=-23.738 total time= 4.6min\n",
      "[CV 3/3; 15/20] START colsample_bytree=0.7, learning_rate=0.01, max_depth=10, n_estimators=500\n",
      "[CV 3/3; 15/20] END colsample_bytree=0.7, learning_rate=0.01, max_depth=10, n_estimators=500;, score=-24.251 total time= 1.6min\n",
      "[CV 1/3; 16/20] START colsample_bytree=0.3, learning_rate=0.01, max_depth=6, n_estimators=500\n",
      "[CV 1/3; 16/20] END colsample_bytree=0.3, learning_rate=0.01, max_depth=6, n_estimators=500;, score=-30.122 total time= 2.5min\n",
      "[CV 2/3; 16/20] START colsample_bytree=0.3, learning_rate=0.01, max_depth=6, n_estimators=500\n",
      "[CV 2/3; 16/20] END colsample_bytree=0.3, learning_rate=0.01, max_depth=6, n_estimators=500;, score=-30.300 total time=  34.6s\n",
      "[CV 3/3; 16/20] START colsample_bytree=0.3, learning_rate=0.01, max_depth=6, n_estimators=500\n",
      "[CV 3/3; 16/20] END colsample_bytree=0.3, learning_rate=0.01, max_depth=6, n_estimators=500;, score=-30.712 total time=  53.7s\n",
      "[CV 1/3; 17/20] START colsample_bytree=0.7, learning_rate=0.05, max_depth=3, n_estimators=500\n",
      "[CV 1/3; 17/20] END colsample_bytree=0.7, learning_rate=0.05, max_depth=3, n_estimators=500;, score=-25.731 total time= 2.3min\n",
      "[CV 2/3; 17/20] START colsample_bytree=0.7, learning_rate=0.05, max_depth=3, n_estimators=500\n",
      "[CV 2/3; 17/20] END colsample_bytree=0.7, learning_rate=0.05, max_depth=3, n_estimators=500;, score=-26.100 total time=  23.3s\n",
      "[CV 3/3; 17/20] START colsample_bytree=0.7, learning_rate=0.05, max_depth=3, n_estimators=500\n",
      "[CV 3/3; 17/20] END colsample_bytree=0.7, learning_rate=0.05, max_depth=3, n_estimators=500;, score=-26.423 total time=  23.4s\n",
      "[CV 1/3; 18/20] START colsample_bytree=0.3, learning_rate=0.1, max_depth=10, n_estimators=100\n",
      "[CV 1/3; 18/20] END colsample_bytree=0.3, learning_rate=0.1, max_depth=10, n_estimators=100;, score=-25.185 total time= 1.4min\n",
      "[CV 2/3; 18/20] START colsample_bytree=0.3, learning_rate=0.1, max_depth=10, n_estimators=100\n",
      "[CV 2/3; 18/20] END colsample_bytree=0.3, learning_rate=0.1, max_depth=10, n_estimators=100;, score=-24.971 total time=  11.4s\n",
      "[CV 3/3; 18/20] START colsample_bytree=0.3, learning_rate=0.1, max_depth=10, n_estimators=100\n",
      "[CV 3/3; 18/20] END colsample_bytree=0.3, learning_rate=0.1, max_depth=10, n_estimators=100;, score=-25.790 total time=  54.7s\n",
      "[CV 1/3; 19/20] START colsample_bytree=0.7, learning_rate=0.1, max_depth=3, n_estimators=100\n",
      "[CV 1/3; 19/20] END colsample_bytree=0.7, learning_rate=0.1, max_depth=3, n_estimators=100;, score=-29.577 total time=  25.5s\n",
      "[CV 2/3; 19/20] START colsample_bytree=0.7, learning_rate=0.1, max_depth=3, n_estimators=100\n",
      "[CV 2/3; 19/20] END colsample_bytree=0.7, learning_rate=0.1, max_depth=3, n_estimators=100;, score=-29.456 total time=   4.7s\n",
      "[CV 3/3; 19/20] START colsample_bytree=0.7, learning_rate=0.1, max_depth=3, n_estimators=100\n",
      "[CV 3/3; 19/20] END colsample_bytree=0.7, learning_rate=0.1, max_depth=3, n_estimators=100;, score=-30.293 total time=   4.4s\n",
      "[CV 1/3; 20/20] START colsample_bytree=0.7, learning_rate=0.01, max_depth=10, n_estimators=100\n",
      "[CV 1/3; 20/20] END colsample_bytree=0.7, learning_rate=0.01, max_depth=10, n_estimators=100;, score=-1056.436 total time=  12.6s\n",
      "[CV 2/3; 20/20] START colsample_bytree=0.7, learning_rate=0.01, max_depth=10, n_estimators=100\n",
      "[CV 2/3; 20/20] END colsample_bytree=0.7, learning_rate=0.01, max_depth=10, n_estimators=100;, score=-1061.671 total time=  12.2s\n",
      "[CV 3/3; 20/20] START colsample_bytree=0.7, learning_rate=0.01, max_depth=10, n_estimators=100\n",
      "[CV 3/3; 20/20] END colsample_bytree=0.7, learning_rate=0.01, max_depth=10, n_estimators=100;, score=-1057.997 total time= 1.5min\n",
      "Best parameters: {'n_estimators': 1000, 'max_depth': 10, 'learning_rate': 0.05, 'colsample_bytree': 0.7}\n",
      "Lowest RMSE:  4.747979854303688\n"
     ]
    },
    {
     "ename": "NameError",
     "evalue": "name 'regressor' is not defined",
     "output_type": "error",
     "traceback": [
      "\u001b[0;31m---------------------------------------------------------------------------\u001b[0m",
      "\u001b[0;31mNameError\u001b[0m                                 Traceback (most recent call last)",
      "\u001b[0;32m/tmp/ipykernel_9482/3132047356.py\u001b[0m in \u001b[0;36m<module>\u001b[0;34m\u001b[0m\n\u001b[1;32m     26\u001b[0m \u001b[0mprint\u001b[0m\u001b[0;34m(\u001b[0m\u001b[0;34m\"Best parameters:\"\u001b[0m\u001b[0;34m,\u001b[0m \u001b[0mregress\u001b[0m\u001b[0;34m.\u001b[0m\u001b[0mbest_params_\u001b[0m\u001b[0;34m)\u001b[0m\u001b[0;34m\u001b[0m\u001b[0;34m\u001b[0m\u001b[0m\n\u001b[1;32m     27\u001b[0m \u001b[0mprint\u001b[0m\u001b[0;34m(\u001b[0m\u001b[0;34m\"Lowest RMSE: \"\u001b[0m\u001b[0;34m,\u001b[0m \u001b[0;34m(\u001b[0m\u001b[0;34m-\u001b[0m\u001b[0mregress\u001b[0m\u001b[0;34m.\u001b[0m\u001b[0mbest_score_\u001b[0m\u001b[0;34m)\u001b[0m\u001b[0;34m**\u001b[0m\u001b[0;34m(\u001b[0m\u001b[0;36m1\u001b[0m\u001b[0;34m/\u001b[0m\u001b[0;36m2.0\u001b[0m\u001b[0;34m)\u001b[0m\u001b[0;34m)\u001b[0m\u001b[0;34m\u001b[0m\u001b[0;34m\u001b[0m\u001b[0m\n\u001b[0;32m---> 28\u001b[0;31m \u001b[0my_pred\u001b[0m \u001b[0;34m=\u001b[0m \u001b[0mregressor\u001b[0m\u001b[0;34m.\u001b[0m\u001b[0mpredict\u001b[0m\u001b[0;34m(\u001b[0m\u001b[0mtest_data\u001b[0m\u001b[0;34m[\u001b[0m\u001b[0mkey_vars\u001b[0m\u001b[0;34m]\u001b[0m\u001b[0;34m)\u001b[0m\u001b[0;34m\u001b[0m\u001b[0;34m\u001b[0m\u001b[0m\n\u001b[0m\u001b[1;32m     29\u001b[0m \u001b[0;34m\u001b[0m\u001b[0m\n\u001b[1;32m     30\u001b[0m \u001b[0mprint\u001b[0m\u001b[0;34m(\u001b[0m\u001b[0;34m'Mean Absolute Error:'\u001b[0m\u001b[0;34m,\u001b[0m \u001b[0mmetrics\u001b[0m\u001b[0;34m.\u001b[0m\u001b[0mmean_absolute_error\u001b[0m\u001b[0;34m(\u001b[0m\u001b[0mY_test\u001b[0m\u001b[0;34m,\u001b[0m \u001b[0my_pred\u001b[0m\u001b[0;34m)\u001b[0m\u001b[0;34m)\u001b[0m\u001b[0;34m\u001b[0m\u001b[0;34m\u001b[0m\u001b[0m\n",
      "\u001b[0;31mNameError\u001b[0m: name 'regressor' is not defined"
     ]
    }
   ],
   "source": [
    "params = { 'max_depth': [3,6,10],\n",
    "           'learning_rate': [0.01, 0.05, 0.1],\n",
    "           'n_estimators': [100, 500, 1000],\n",
    "           'colsample_bytree': [0.3, 0.7]}\n",
    "\n",
    "regressor_tuned = XGBRegressor()\n",
    "\n",
    "regress = RandomizedSearchCV(estimator=regressor_tuned, \n",
    "                             param_distributions=params,\n",
    "                             scoring='neg_mean_squared_error', \n",
    "                             verbose=10,\n",
    "                             n_iter = 20,\n",
    "                             cv = 3,\n",
    "                             random_state=42)\n",
    "\n",
    "\n"
   ]
  },
  {
   "cell_type": "code",
   "execution_count": 26,
   "id": "9bb81809",
   "metadata": {},
   "outputs": [
    {
     "name": "stdout",
     "output_type": "stream",
     "text": [
      "Best parameters: {'n_estimators': 1000, 'max_depth': 10, 'learning_rate': 0.05, 'colsample_bytree': 0.7}\n",
      "Lowest RMSE:  4.747979854303688\n",
      "explained_variance:  0.7628\n",
      "r2:  0.7628\n",
      "MAE:  3.4722\n",
      "MSE:  22.4611\n",
      "RMSE:  4.7393\n"
     ]
    }
   ],
   "source": [
    "print(\"Best parameters:\", regress.best_params_)\n",
    "print(\"Lowest RMSE: \", (-regress.best_score_)**(1/2.0))\n",
    "y_pred = regress.predict(test_data[key_vars])\n",
    "\n",
    "regression_results(Y_test, y_pred)"
   ]
  },
  {
   "cell_type": "code",
   "execution_count": null,
   "id": "d99c1c45",
   "metadata": {},
   "outputs": [],
   "source": []
  }
 ],
 "metadata": {
  "kernelspec": {
   "display_name": "Python 3 (ipykernel)",
   "language": "python",
   "name": "python3"
  },
  "language_info": {
   "codemirror_mode": {
    "name": "ipython",
    "version": 3
   },
   "file_extension": ".py",
   "mimetype": "text/x-python",
   "name": "python",
   "nbconvert_exporter": "python",
   "pygments_lexer": "ipython3",
   "version": "3.7.10"
  }
 },
 "nbformat": 4,
 "nbformat_minor": 5
}
