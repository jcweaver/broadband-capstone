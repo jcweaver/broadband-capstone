{
 "cells": [
  {
   "cell_type": "markdown",
   "id": "4d80f089",
   "metadata": {},
   "source": [
    "## Imports, Reading Data, Setting up tests"
   ]
  },
  {
   "cell_type": "code",
   "execution_count": 2,
   "id": "52f77ccb",
   "metadata": {},
   "outputs": [],
   "source": [
    "import pandas as pd\n",
    "import numpy as np\n",
    "import sklearn.metrics as metrics\n",
    "from xgboost import XGBRegressor\n",
    "from sklearn.model_selection import GridSearchCV\n",
    "from sklearn.model_selection import RandomizedSearchCV\n"
   ]
  },
  {
   "cell_type": "code",
   "execution_count": 3,
   "id": "69659d00",
   "metadata": {},
   "outputs": [],
   "source": [
    "training_data = pd.read_csv('/home/ec2-user/capstone/broadband-capstone/data/broadband_training_bin_2.csv')\n",
    "test_data = pd.read_csv('/home/ec2-user/capstone/broadband-capstone/data/broadband_test_bin_2.csv')"
   ]
  },
  {
   "cell_type": "code",
   "execution_count": 3,
   "id": "368cd030",
   "metadata": {},
   "outputs": [],
   "source": [
    "all_vars = list(training_data.columns.values[(training_data.dtypes=='float64') | (training_data.dtypes=='int')])\n",
    "remove_vars = ['pct_health_ins_children','pct_health_ins_19_64','pct_health_ins_65+']\n",
    "\n",
    "for i in remove_vars:\n",
    "    all_vars.remove(i)"
   ]
  },
  {
   "cell_type": "code",
   "execution_count": 4,
   "id": "37c17e52",
   "metadata": {},
   "outputs": [],
   "source": [
    "broadband_vars = ['MaxAdDown',\n",
    "                 'MaxAdUp',\n",
    "                 'Wired_Provider_Count',\n",
    "                 'Satellite_Provider_Count',\n",
    "                 'Fixed_Wireless_Provider_Count',\n",
    "                 'All_Provider_Count_25',\n",
    "                 'All_Provider_Count_100',\n",
    "                 'Fixed_Wireless_Provider_Count_25',\n",
    "                 'Wired_Provider_Count_25',\n",
    "                 'Satellite_Provider_Count_25',\n",
    "                 'Fixed_Wireless_Provider_Count_100',\n",
    "                 'Wired_Provider_Count_100',\n",
    "                 'Satellite_Provider_Count_100',\n",
    "                 'pct_internet',\n",
    "                 'pct_internet_dial_up',\n",
    "                 'pct_internet_broadband_any_type',\n",
    "                 'pct_internet_cellular',\n",
    "                 'pct_only_cellular',\n",
    "                 'pct_internet_broadband_fiber',\n",
    "                 'pct_internet_broadband_satellite',\n",
    "                 'pct_internet_only_satellite',\n",
    "                 'pct_internet_other',\n",
    "                 'pct_internet_no_subscrp',\n",
    "                 'pct_internet_none',\n",
    "                 'pct_computer',\n",
    "                 'pct_computer_with_dialup',\n",
    "                 'pct_computer_with_broadband',\n",
    "                 'pct_computer_no_internet',\n",
    "                 'pct_no_computer',\n",
    "                 'Form 477 All Terrestrial Broadband: Max Advertised Consumer Download Speed (Mbps)',\n",
    "                 'Form 477 All Terrestrial Broadband: Max Advertised Consumer Upload Speed (Mbps)',\n",
    "                 'Ookla Median Download Speed (Mbps)',\n",
    "                 'Ookla Median Upload Speed (Mbps)',\n",
    "                 '0_5_providers',\n",
    "                 '6_10_providers',\n",
    "                 '11_15_providers',\n",
    "                 '16_20_providers',\n",
    "                 '20+_providers',\n",
    "                 '0_25_MaxAdDown',\n",
    "                 '25_99_MaxAdDown',\n",
    "                 '99_499_MaxAdDown',\n",
    "                 '499_inf_MaxAdDown',\n",
    "                 '0_25_Ookla Median Download Speed (Mbps)',\n",
    "                 '25_99_Ookla Median Download Speed (Mbps)',\n",
    "                 '99_499_Ookla Median Download Speed (Mbps)',\n",
    "                 '499_inf_Ookla Median Download Speed (Mbps)',\n",
    "                 '0_25_Form 477 All Terrestrial Broadband: Max Advertised Consumer Download Speed (Mbps)',\n",
    "                 '25_99_Form 477 All Terrestrial Broadband: Max Advertised Consumer Download Speed (Mbps)',\n",
    "                 '99_499_Form 477 All Terrestrial Broadband: Max Advertised Consumer Download Speed (Mbps)',\n",
    "                 '499_inf_Form 477 All Terrestrial Broadband: Max Advertised Consumer Download Speed (Mbps)',\n",
    "                 'single_provider',\n",
    "                 'Primary RUCA Code - 1.0',\n",
    "                 'Primary RUCA Code - 2.0',\n",
    "                 'Primary RUCA Code - 4.0',\n",
    "                 'Primary RUCA Code - 10.0',\n",
    "                 'Primary RUCA Code - 7.0',\n",
    "                 'Primary RUCA Code - 5.0',\n",
    "                 'Primary RUCA Code - 8.0',\n",
    "                 'Primary RUCA Code - 3.0',\n",
    "                 'Primary RUCA Code - 6.0',\n",
    "                 'Primary RUCA Code - 9.0',\n",
    "                 'Primary RUCA Code - 99.0',\n",
    "                 'Secondary RUCA Code - 1.0',\n",
    "                 'Secondary RUCA Code - 2.0',\n",
    "                 'Secondary RUCA Code - 4.0',\n",
    "                 'Secondary RUCA Code - 10.0',\n",
    "                 'Secondary RUCA Code - 7.0',\n",
    "                 'Secondary RUCA Code - 5.0',\n",
    "                 'Secondary RUCA Code - 1.1',\n",
    "                 'Secondary RUCA Code - 8.0',\n",
    "                 'Secondary RUCA Code - 3.0',\n",
    "                 'Secondary RUCA Code - 6.0',\n",
    "                 'Secondary RUCA Code - 9.0',\n",
    "                 'Secondary RUCA Code - 4.1',\n",
    "                 'Secondary RUCA Code - 99.0',\n",
    "                 'Secondary RUCA Code - 7.1',\n",
    "                 'Secondary RUCA Code - 10.2',\n",
    "                 'Secondary RUCA Code - 2.1',\n",
    "                 'Secondary RUCA Code - 10.1',\n",
    "                 'Secondary RUCA Code - 10.3',\n",
    "                 'Secondary RUCA Code - 7.2',\n",
    "                 'Secondary RUCA Code - 5.1',\n",
    "                 'Secondary RUCA Code - 8.1',\n",
    "                 'Secondary RUCA Code - 8.2',\n",
    "                 'SE',\n",
    "                 'INFA',\n",
    "                 'DDI',\n",
    "                 'ruca_metro',\n",
    "                 'ruca_micro',\n",
    "                 'ruca_small_town',\n",
    "                 'ruca_rural',\n",
    "                 'Comcast_present',\n",
    "                 'ATT_present',\n",
    "                 'HughesNet_present',\n",
    "                 'GCI_Comm_Corp_present',\n",
    "                 'ViaSat_present',\n",
    "                 'VSAT_present',\n",
    "                 'Century_Link_present',\n",
    "                 'Spectrum_present',\n",
    "                 'Crown_Castle_present',\n",
    "                 'Etheric_present',\n",
    "                 'Frontier_Communications_present']"
   ]
  },
  {
   "cell_type": "markdown",
   "id": "267f61ba",
   "metadata": {},
   "source": [
    "## Modeling"
   ]
  },
  {
   "cell_type": "markdown",
   "id": "11edc941",
   "metadata": {},
   "source": [
    "### Functions"
   ]
  },
  {
   "cell_type": "code",
   "execution_count": 9,
   "id": "ebab78c0",
   "metadata": {},
   "outputs": [],
   "source": [
    "def regression_results(y_true, y_pred):\n",
    "\n",
    "    # Regression metrics\n",
    "    explained_variance=metrics.explained_variance_score(y_true, y_pred)\n",
    "    mean_absolute_error=metrics.mean_absolute_error(y_true, y_pred) \n",
    "    mse=metrics.mean_squared_error(y_true, y_pred) \n",
    "    median_absolute_error=metrics.median_absolute_error(y_true, y_pred)\n",
    "    r2=metrics.r2_score(y_true, y_pred)\n",
    "\n",
    "    print('explained_variance: ', round(explained_variance,4))    \n",
    "    print('r2: ', round(r2,4))\n",
    "    print('MAE: ', round(mean_absolute_error,4))\n",
    "    print('MSE: ', round(mse,4))\n",
    "    print('RMSE: ', round(np.sqrt(mse),4))"
   ]
  },
  {
   "cell_type": "code",
   "execution_count": 17,
   "id": "787c72cc",
   "metadata": {},
   "outputs": [],
   "source": [
    "Y_train = np.array(training_data['pct_health_ins_19_64'])\n",
    "Y_test = np.array(test_data['pct_health_ins_19_64'])\n",
    "\n",
    "def XGBoost_model(train_df, \n",
    "                          test_df, \n",
    "                          variable_list,\n",
    "                          Y_train = Y_train,  \n",
    "                          Y_test = Y_test):\n",
    "    train_variables = np.array(train_df[variable_list])\n",
    "    test_variables = np.array(test_df[variable_list])\n",
    "    \n",
    "    model = XGBRegressor().fit(train_variables, Y_train)\n",
    "    predicted = model.predict(test_variables)\n",
    "    \n",
    "    regression_results(Y_test, predicted)\n",
    "    \n",
    "    return pd.DataFrame(model.feature_importances_, \n",
    "                        index = variable_list).sort_values(by=0, ascending = False)\n"
   ]
  },
  {
   "cell_type": "code",
   "execution_count": 6,
   "id": "3f6be134",
   "metadata": {},
   "outputs": [
    {
     "name": "stdout",
     "output_type": "stream",
     "text": [
      "explained_variance:  0.7611\n",
      "r2:  0.7611\n",
      "MAE:  3.502\n",
      "MSE:  22.6217\n",
      "RMSE:  4.7562\n"
     ]
    }
   ],
   "source": [
    "feature_importance_all_vars = XGBoost_model(training_data, \n",
    "                                            test_data, \n",
    "                                            all_vars) \n"
   ]
  },
  {
   "cell_type": "markdown",
   "id": "e892c9cf",
   "metadata": {},
   "source": [
    "From the all_vars model, we can pick the top variables to use in the grid search. "
   ]
  },
  {
   "cell_type": "code",
   "execution_count": 8,
   "id": "d84e45b8",
   "metadata": {},
   "outputs": [
    {
     "data": {
      "text/plain": [
       "<AxesSubplot:>"
      ]
     },
     "execution_count": 8,
     "metadata": {},
     "output_type": "execute_result"
    },
    {
     "data": {
      "image/png": "[encoded data removed]",
      "text/plain": [
       "<Figure size 432x288 with 1 Axes>"
      ]
     },
     "metadata": {
      "needs_background": "light"
     },
     "output_type": "display_data"
    }
   ],
   "source": [
    "feature_importance_all_vars.head(8).plot.barh()"
   ]
  },
  {
   "cell_type": "code",
   "execution_count": 19,
   "id": "71a8378a",
   "metadata": {},
   "outputs": [
    {
     "data": {
      "text/plain": [
       "array(['median_income', 'pct_hisp_latino', 'poverty_rate', 'pct_pop_hs+',\n",
       "       'tract_geoid', 'pct_white', 'pct_computer_no_internet'],\n",
       "      dtype=object)"
      ]
     },
     "execution_count": 19,
     "metadata": {},
     "output_type": "execute_result"
    }
   ],
   "source": [
    "feature_importance_all_vars.head(7).index.values"
   ]
  },
  {
   "cell_type": "code",
   "execution_count": 20,
   "id": "b8b232ba",
   "metadata": {},
   "outputs": [],
   "source": [
    "key_vars = ['median_income', \n",
    "            'pct_hisp_latino', \n",
    "            'poverty_rate', \n",
    "            'pct_pop_hs+',\n",
    "            'tract_geoid', \n",
    "            'pct_white', \n",
    "            'pct_computer_no_internet']"
   ]
  },
  {
   "cell_type": "markdown",
   "id": "b677bff0",
   "metadata": {},
   "source": [
    "### Similar idea but for broadband vars"
   ]
  },
  {
   "cell_type": "code",
   "execution_count": 19,
   "id": "2f29a7b0",
   "metadata": {},
   "outputs": [
    {
     "name": "stdout",
     "output_type": "stream",
     "text": [
      "explained_variance:  0.4942\n",
      "r2:  0.4942\n",
      "MAE:  5.027\n",
      "MSE:  47.8944\n",
      "RMSE:  6.9206\n"
     ]
    }
   ],
   "source": [
    "feature_importance_broadband_vars = XGBoost_model(training_data, \n",
    "                                                  test_data, \n",
    "                                                  broadband_vars) \n"
   ]
  },
  {
   "cell_type": "code",
   "execution_count": 23,
   "id": "77e03f9a",
   "metadata": {},
   "outputs": [
    {
     "data": {
      "text/plain": [
       "<AxesSubplot:>"
      ]
     },
     "execution_count": 23,
     "metadata": {},
     "output_type": "execute_result"
    },
    {
     "data": {
      "image/png": "[encoded data removed]",
      "text/plain": [
       "<Figure size 432x288 with 1 Axes>"
      ]
     },
     "metadata": {
      "needs_background": "light"
     },
     "output_type": "display_data"
    }
   ],
   "source": [
    "feature_importance_broadband_vars.head(10).plot.barh()"
   ]
  },
  {
   "cell_type": "code",
   "execution_count": 5,
   "id": "76a8422c",
   "metadata": {},
   "outputs": [],
   "source": [
    "#key_vars = feature_importance_broadband_vars.head(7).index.values\n",
    "key_vars = ['ATT_present', \n",
    "            'Secondary RUCA Code - 1.0', \n",
    "            'pct_internet', \n",
    "            'pct_computer_no_internet',\n",
    "            'Primary RUCA Code - 1.0',\n",
    "            'Comcast_present',\n",
    "            'pct_only_cellular']"
   ]
  },
  {
   "cell_type": "markdown",
   "id": "96e5e74e",
   "metadata": {},
   "source": [
    "## Tuning the model"
   ]
  },
  {
   "cell_type": "code",
   "execution_count": 26,
   "id": "ed791899",
   "metadata": {
    "scrolled": true
   },
   "outputs": [
    {
     "name": "stdout",
     "output_type": "stream",
     "text": [
      "Fitting 3 folds for each of 20 candidates, totalling 60 fits\n",
      "[CV 1/3; 1/20] START colsample_bytree=0.3, learning_rate=0.1, max_depth=3, n_estimators=500\n",
      "[CV 1/3; 1/20] END colsample_bytree=0.3, learning_rate=0.1, max_depth=3, n_estimators=500;, score=-59.878 total time=   4.2s\n",
      "[CV 2/3; 1/20] START colsample_bytree=0.3, learning_rate=0.1, max_depth=3, n_estimators=500\n",
      "[CV 2/3; 1/20] END colsample_bytree=0.3, learning_rate=0.1, max_depth=3, n_estimators=500;, score=-58.706 total time=   4.2s\n",
      "[CV 3/3; 1/20] START colsample_bytree=0.3, learning_rate=0.1, max_depth=3, n_estimators=500\n",
      "[CV 3/3; 1/20] END colsample_bytree=0.3, learning_rate=0.1, max_depth=3, n_estimators=500;, score=-58.872 total time=   4.2s\n",
      "[CV 1/3; 2/20] START colsample_bytree=0.7, learning_rate=0.1, max_depth=6, n_estimators=500\n",
      "[CV 1/3; 2/20] END colsample_bytree=0.7, learning_rate=0.1, max_depth=6, n_estimators=500;, score=-60.854 total time=  10.7s\n",
      "[CV 2/3; 2/20] START colsample_bytree=0.7, learning_rate=0.1, max_depth=6, n_estimators=500\n",
      "[CV 2/3; 2/20] END colsample_bytree=0.7, learning_rate=0.1, max_depth=6, n_estimators=500;, score=-59.621 total time=  10.7s\n",
      "[CV 3/3; 2/20] START colsample_bytree=0.7, learning_rate=0.1, max_depth=6, n_estimators=500\n",
      "[CV 3/3; 2/20] END colsample_bytree=0.7, learning_rate=0.1, max_depth=6, n_estimators=500;, score=-60.023 total time=  10.7s\n",
      "[CV 1/3; 3/20] START colsample_bytree=0.7, learning_rate=0.1, max_depth=6, n_estimators=100\n",
      "[CV 1/3; 3/20] END colsample_bytree=0.7, learning_rate=0.1, max_depth=6, n_estimators=100;, score=-59.476 total time=   2.3s\n",
      "[CV 2/3; 3/20] START colsample_bytree=0.7, learning_rate=0.1, max_depth=6, n_estimators=100\n",
      "[CV 2/3; 3/20] END colsample_bytree=0.7, learning_rate=0.1, max_depth=6, n_estimators=100;, score=-58.068 total time=   2.2s\n",
      "[CV 3/3; 3/20] START colsample_bytree=0.7, learning_rate=0.1, max_depth=6, n_estimators=100\n",
      "[CV 3/3; 3/20] END colsample_bytree=0.7, learning_rate=0.1, max_depth=6, n_estimators=100;, score=-58.365 total time=   2.2s\n",
      "[CV 1/3; 4/20] START colsample_bytree=0.3, learning_rate=0.05, max_depth=6, n_estimators=100\n",
      "[CV 1/3; 4/20] END colsample_bytree=0.3, learning_rate=0.05, max_depth=6, n_estimators=100;, score=-60.960 total time=   1.4s\n",
      "[CV 2/3; 4/20] START colsample_bytree=0.3, learning_rate=0.05, max_depth=6, n_estimators=100\n",
      "[CV 2/3; 4/20] END colsample_bytree=0.3, learning_rate=0.05, max_depth=6, n_estimators=100;, score=-59.399 total time=   1.4s\n",
      "[CV 3/3; 4/20] START colsample_bytree=0.3, learning_rate=0.05, max_depth=6, n_estimators=100\n",
      "[CV 3/3; 4/20] END colsample_bytree=0.3, learning_rate=0.05, max_depth=6, n_estimators=100;, score=-59.578 total time=   1.4s\n",
      "[CV 1/3; 5/20] START colsample_bytree=0.7, learning_rate=0.05, max_depth=10, n_estimators=1000\n",
      "[CV 1/3; 5/20] END colsample_bytree=0.7, learning_rate=0.05, max_depth=10, n_estimators=1000;, score=-62.523 total time=  35.8s\n",
      "[CV 2/3; 5/20] START colsample_bytree=0.7, learning_rate=0.05, max_depth=10, n_estimators=1000\n",
      "[CV 2/3; 5/20] END colsample_bytree=0.7, learning_rate=0.05, max_depth=10, n_estimators=1000;, score=-61.131 total time=  35.6s\n",
      "[CV 3/3; 5/20] START colsample_bytree=0.7, learning_rate=0.05, max_depth=10, n_estimators=1000\n",
      "[CV 3/3; 5/20] END colsample_bytree=0.7, learning_rate=0.05, max_depth=10, n_estimators=1000;, score=-61.083 total time=  35.6s\n",
      "[CV 1/3; 6/20] START colsample_bytree=0.3, learning_rate=0.01, max_depth=6, n_estimators=1000\n",
      "[CV 1/3; 6/20] END colsample_bytree=0.3, learning_rate=0.01, max_depth=6, n_estimators=1000;, score=-60.168 total time=  14.1s\n",
      "[CV 2/3; 6/20] START colsample_bytree=0.3, learning_rate=0.01, max_depth=6, n_estimators=1000\n",
      "[CV 2/3; 6/20] END colsample_bytree=0.3, learning_rate=0.01, max_depth=6, n_estimators=1000;, score=-58.680 total time=  14.1s\n",
      "[CV 3/3; 6/20] START colsample_bytree=0.3, learning_rate=0.01, max_depth=6, n_estimators=1000\n",
      "[CV 3/3; 6/20] END colsample_bytree=0.3, learning_rate=0.01, max_depth=6, n_estimators=1000;, score=-59.004 total time=  14.1s\n",
      "[CV 1/3; 7/20] START colsample_bytree=0.3, learning_rate=0.05, max_depth=10, n_estimators=1000\n",
      "[CV 1/3; 7/20] END colsample_bytree=0.3, learning_rate=0.05, max_depth=10, n_estimators=1000;, score=-62.800 total time=  21.7s\n",
      "[CV 2/3; 7/20] START colsample_bytree=0.3, learning_rate=0.05, max_depth=10, n_estimators=1000\n",
      "[CV 2/3; 7/20] END colsample_bytree=0.3, learning_rate=0.05, max_depth=10, n_estimators=1000;, score=-61.342 total time=  21.7s\n",
      "[CV 3/3; 7/20] START colsample_bytree=0.3, learning_rate=0.05, max_depth=10, n_estimators=1000\n",
      "[CV 3/3; 7/20] END colsample_bytree=0.3, learning_rate=0.05, max_depth=10, n_estimators=1000;, score=-61.727 total time=  21.8s\n",
      "[CV 1/3; 8/20] START colsample_bytree=0.7, learning_rate=0.1, max_depth=10, n_estimators=500\n",
      "[CV 1/3; 8/20] END colsample_bytree=0.7, learning_rate=0.1, max_depth=10, n_estimators=500;, score=-63.141 total time=  17.6s\n",
      "[CV 2/3; 8/20] START colsample_bytree=0.7, learning_rate=0.1, max_depth=10, n_estimators=500\n",
      "[CV 2/3; 8/20] END colsample_bytree=0.7, learning_rate=0.1, max_depth=10, n_estimators=500;, score=-61.692 total time=  17.6s\n",
      "[CV 3/3; 8/20] START colsample_bytree=0.7, learning_rate=0.1, max_depth=10, n_estimators=500\n",
      "[CV 3/3; 8/20] END colsample_bytree=0.7, learning_rate=0.1, max_depth=10, n_estimators=500;, score=-61.884 total time=  17.6s\n",
      "[CV 1/3; 9/20] START colsample_bytree=0.3, learning_rate=0.01, max_depth=6, n_estimators=100\n",
      "[CV 1/3; 9/20] END colsample_bytree=0.3, learning_rate=0.01, max_depth=6, n_estimators=100;, score=-1082.076 total time=   1.2s\n",
      "[CV 2/3; 9/20] START colsample_bytree=0.3, learning_rate=0.01, max_depth=6, n_estimators=100\n",
      "[CV 2/3; 9/20] END colsample_bytree=0.3, learning_rate=0.01, max_depth=6, n_estimators=100;, score=-1089.104 total time=   1.3s\n",
      "[CV 3/3; 9/20] START colsample_bytree=0.3, learning_rate=0.01, max_depth=6, n_estimators=100\n",
      "[CV 3/3; 9/20] END colsample_bytree=0.3, learning_rate=0.01, max_depth=6, n_estimators=100;, score=-1085.284 total time=   1.3s\n",
      "[CV 1/3; 10/20] START colsample_bytree=0.7, learning_rate=0.01, max_depth=6, n_estimators=1000\n",
      "[CV 1/3; 10/20] END colsample_bytree=0.7, learning_rate=0.01, max_depth=6, n_estimators=1000;, score=-59.344 total time=  22.4s\n",
      "[CV 2/3; 10/20] START colsample_bytree=0.7, learning_rate=0.01, max_depth=6, n_estimators=1000\n",
      "[CV 2/3; 10/20] END colsample_bytree=0.7, learning_rate=0.01, max_depth=6, n_estimators=1000;, score=-57.901 total time=  22.3s\n",
      "[CV 3/3; 10/20] START colsample_bytree=0.7, learning_rate=0.01, max_depth=6, n_estimators=1000\n",
      "[CV 3/3; 10/20] END colsample_bytree=0.7, learning_rate=0.01, max_depth=6, n_estimators=1000;, score=-58.095 total time=  22.3s\n",
      "[CV 1/3; 11/20] START colsample_bytree=0.3, learning_rate=0.05, max_depth=6, n_estimators=500\n",
      "[CV 1/3; 11/20] END colsample_bytree=0.3, learning_rate=0.05, max_depth=6, n_estimators=500;, score=-60.396 total time=   7.0s\n",
      "[CV 2/3; 11/20] START colsample_bytree=0.3, learning_rate=0.05, max_depth=6, n_estimators=500\n",
      "[CV 2/3; 11/20] END colsample_bytree=0.3, learning_rate=0.05, max_depth=6, n_estimators=500;, score=-58.983 total time=   7.0s\n",
      "[CV 3/3; 11/20] START colsample_bytree=0.3, learning_rate=0.05, max_depth=6, n_estimators=500\n",
      "[CV 3/3; 11/20] END colsample_bytree=0.3, learning_rate=0.05, max_depth=6, n_estimators=500;, score=-59.152 total time=   7.0s\n",
      "[CV 1/3; 12/20] START colsample_bytree=0.3, learning_rate=0.01, max_depth=10, n_estimators=1000\n",
      "[CV 1/3; 12/20] END colsample_bytree=0.3, learning_rate=0.01, max_depth=10, n_estimators=1000;, score=-61.169 total time=  21.7s\n",
      "[CV 2/3; 12/20] START colsample_bytree=0.3, learning_rate=0.01, max_depth=10, n_estimators=1000\n",
      "[CV 2/3; 12/20] END colsample_bytree=0.3, learning_rate=0.01, max_depth=10, n_estimators=1000;, score=-59.523 total time=  21.7s\n",
      "[CV 3/3; 12/20] START colsample_bytree=0.3, learning_rate=0.01, max_depth=10, n_estimators=1000\n",
      "[CV 3/3; 12/20] END colsample_bytree=0.3, learning_rate=0.01, max_depth=10, n_estimators=1000;, score=-59.805 total time=  21.7s\n",
      "[CV 1/3; 13/20] START colsample_bytree=0.3, learning_rate=0.1, max_depth=10, n_estimators=1000\n",
      "[CV 1/3; 13/20] END colsample_bytree=0.3, learning_rate=0.1, max_depth=10, n_estimators=1000;, score=-65.281 total time=  21.5s\n",
      "[CV 2/3; 13/20] START colsample_bytree=0.3, learning_rate=0.1, max_depth=10, n_estimators=1000\n"
     ]
    },
    {
     "name": "stdout",
     "output_type": "stream",
     "text": [
      "[CV 2/3; 13/20] END colsample_bytree=0.3, learning_rate=0.1, max_depth=10, n_estimators=1000;, score=-63.534 total time=  21.5s\n",
      "[CV 3/3; 13/20] START colsample_bytree=0.3, learning_rate=0.1, max_depth=10, n_estimators=1000\n",
      "[CV 3/3; 13/20] END colsample_bytree=0.3, learning_rate=0.1, max_depth=10, n_estimators=1000;, score=-63.844 total time=  21.6s\n",
      "[CV 1/3; 14/20] START colsample_bytree=0.3, learning_rate=0.01, max_depth=10, n_estimators=100\n",
      "[CV 1/3; 14/20] END colsample_bytree=0.3, learning_rate=0.01, max_depth=10, n_estimators=100;, score=-1082.111 total time=   1.3s\n",
      "[CV 2/3; 14/20] START colsample_bytree=0.3, learning_rate=0.01, max_depth=10, n_estimators=100\n",
      "[CV 2/3; 14/20] END colsample_bytree=0.3, learning_rate=0.01, max_depth=10, n_estimators=100;, score=-1089.132 total time=   1.3s\n",
      "[CV 3/3; 14/20] START colsample_bytree=0.3, learning_rate=0.01, max_depth=10, n_estimators=100\n",
      "[CV 3/3; 14/20] END colsample_bytree=0.3, learning_rate=0.01, max_depth=10, n_estimators=100;, score=-1085.299 total time=   1.4s\n",
      "[CV 1/3; 15/20] START colsample_bytree=0.7, learning_rate=0.01, max_depth=10, n_estimators=500\n",
      "[CV 1/3; 15/20] END colsample_bytree=0.7, learning_rate=0.01, max_depth=10, n_estimators=500;, score=-60.195 total time=  17.6s\n",
      "[CV 2/3; 15/20] START colsample_bytree=0.7, learning_rate=0.01, max_depth=10, n_estimators=500\n",
      "[CV 2/3; 15/20] END colsample_bytree=0.7, learning_rate=0.01, max_depth=10, n_estimators=500;, score=-58.823 total time=  17.6s\n",
      "[CV 3/3; 15/20] START colsample_bytree=0.7, learning_rate=0.01, max_depth=10, n_estimators=500\n",
      "[CV 3/3; 15/20] END colsample_bytree=0.7, learning_rate=0.01, max_depth=10, n_estimators=500;, score=-58.802 total time=  17.7s\n",
      "[CV 1/3; 16/20] START colsample_bytree=0.3, learning_rate=0.01, max_depth=6, n_estimators=500\n",
      "[CV 1/3; 16/20] END colsample_bytree=0.3, learning_rate=0.01, max_depth=6, n_estimators=500;, score=-60.923 total time=   7.0s\n",
      "[CV 2/3; 16/20] START colsample_bytree=0.3, learning_rate=0.01, max_depth=6, n_estimators=500\n",
      "[CV 2/3; 16/20] END colsample_bytree=0.3, learning_rate=0.01, max_depth=6, n_estimators=500;, score=-59.387 total time=   7.0s\n",
      "[CV 3/3; 16/20] START colsample_bytree=0.3, learning_rate=0.01, max_depth=6, n_estimators=500\n",
      "[CV 3/3; 16/20] END colsample_bytree=0.3, learning_rate=0.01, max_depth=6, n_estimators=500;, score=-59.665 total time=   7.0s\n",
      "[CV 1/3; 17/20] START colsample_bytree=0.7, learning_rate=0.05, max_depth=3, n_estimators=500\n",
      "[CV 1/3; 17/20] END colsample_bytree=0.7, learning_rate=0.05, max_depth=3, n_estimators=500;, score=-59.637 total time=   5.9s\n",
      "[CV 2/3; 17/20] START colsample_bytree=0.7, learning_rate=0.05, max_depth=3, n_estimators=500\n",
      "[CV 2/3; 17/20] END colsample_bytree=0.7, learning_rate=0.05, max_depth=3, n_estimators=500;, score=-58.150 total time=   5.9s\n",
      "[CV 3/3; 17/20] START colsample_bytree=0.7, learning_rate=0.05, max_depth=3, n_estimators=500\n",
      "[CV 3/3; 17/20] END colsample_bytree=0.7, learning_rate=0.05, max_depth=3, n_estimators=500;, score=-58.350 total time=   5.9s\n",
      "[CV 1/3; 18/20] START colsample_bytree=0.3, learning_rate=0.1, max_depth=10, n_estimators=100\n",
      "[CV 1/3; 18/20] END colsample_bytree=0.3, learning_rate=0.1, max_depth=10, n_estimators=100;, score=-61.449 total time=   2.1s\n",
      "[CV 2/3; 18/20] START colsample_bytree=0.3, learning_rate=0.1, max_depth=10, n_estimators=100\n",
      "[CV 2/3; 18/20] END colsample_bytree=0.3, learning_rate=0.1, max_depth=10, n_estimators=100;, score=-59.795 total time=   2.1s\n",
      "[CV 3/3; 18/20] START colsample_bytree=0.3, learning_rate=0.1, max_depth=10, n_estimators=100\n",
      "[CV 3/3; 18/20] END colsample_bytree=0.3, learning_rate=0.1, max_depth=10, n_estimators=100;, score=-59.938 total time=   2.1s\n",
      "[CV 1/3; 19/20] START colsample_bytree=0.7, learning_rate=0.1, max_depth=3, n_estimators=100\n",
      "[CV 1/3; 19/20] END colsample_bytree=0.7, learning_rate=0.1, max_depth=3, n_estimators=100;, score=-59.544 total time=   1.2s\n",
      "[CV 2/3; 19/20] START colsample_bytree=0.7, learning_rate=0.1, max_depth=3, n_estimators=100\n",
      "[CV 2/3; 19/20] END colsample_bytree=0.7, learning_rate=0.1, max_depth=3, n_estimators=100;, score=-58.130 total time=   1.2s\n",
      "[CV 3/3; 19/20] START colsample_bytree=0.7, learning_rate=0.1, max_depth=3, n_estimators=100\n",
      "[CV 3/3; 19/20] END colsample_bytree=0.7, learning_rate=0.1, max_depth=3, n_estimators=100;, score=-58.315 total time=   1.2s\n",
      "[CV 1/3; 20/20] START colsample_bytree=0.7, learning_rate=0.01, max_depth=10, n_estimators=100\n",
      "[CV 1/3; 20/20] END colsample_bytree=0.7, learning_rate=0.01, max_depth=10, n_estimators=100;, score=-1076.941 total time=   2.4s\n",
      "[CV 2/3; 20/20] START colsample_bytree=0.7, learning_rate=0.01, max_depth=10, n_estimators=100\n",
      "[CV 2/3; 20/20] END colsample_bytree=0.7, learning_rate=0.01, max_depth=10, n_estimators=100;, score=-1084.123 total time=   2.4s\n",
      "[CV 3/3; 20/20] START colsample_bytree=0.7, learning_rate=0.01, max_depth=10, n_estimators=100\n",
      "[CV 3/3; 20/20] END colsample_bytree=0.7, learning_rate=0.01, max_depth=10, n_estimators=100;, score=-1080.805 total time=   2.4s\n"
     ]
    },
    {
     "data": {
      "text/plain": [
       "RandomizedSearchCV(cv=3,\n",
       "                   estimator=XGBRegressor(base_score=None, booster=None,\n",
       "                                          colsample_bylevel=None,\n",
       "                                          colsample_bynode=None,\n",
       "                                          colsample_bytree=None,\n",
       "                                          enable_categorical=False, gamma=None,\n",
       "                                          gpu_id=None, importance_type=None,\n",
       "                                          interaction_constraints=None,\n",
       "                                          learning_rate=None,\n",
       "                                          max_delta_step=None, max_depth=None,\n",
       "                                          min_child_weight=None, missing=nan,\n",
       "                                          monotone_constraints=...\n",
       "                                          predictor=None, random_state=None,\n",
       "                                          reg_alpha=None, reg_lambda=None,\n",
       "                                          scale_pos_weight=None, subsample=None,\n",
       "                                          tree_method=None,\n",
       "                                          validate_parameters=None,\n",
       "                                          verbosity=None),\n",
       "                   n_iter=20,\n",
       "                   param_distributions={'colsample_bytree': [0.3, 0.7],\n",
       "                                        'learning_rate': [0.01, 0.05, 0.1],\n",
       "                                        'max_depth': [3, 6, 10],\n",
       "                                        'n_estimators': [100, 500, 1000]},\n",
       "                   random_state=42, scoring='neg_mean_squared_error',\n",
       "                   verbose=10)"
      ]
     },
     "execution_count": 26,
     "metadata": {},
     "output_type": "execute_result"
    }
   ],
   "source": [
    "params = { 'max_depth': [3,6,10],\n",
    "           'learning_rate': [0.01, 0.05, 0.1],\n",
    "           'n_estimators': [100, 500, 1000],\n",
    "           'colsample_bytree': [0.3, 0.7]}\n",
    "\n",
    "regressor_tuned = XGBRegressor()\n",
    "\n",
    "regress = RandomizedSearchCV(estimator=regressor_tuned, \n",
    "                             param_distributions=params,\n",
    "                             scoring='neg_mean_squared_error', \n",
    "                             verbose=10,\n",
    "                             n_iter = 20,\n",
    "                             cv = 3,\n",
    "                             random_state=42)\n",
    "\n",
    "regress.fit(training_data[key_vars], Y_train)"
   ]
  },
  {
   "cell_type": "code",
   "execution_count": 27,
   "id": "9bb81809",
   "metadata": {},
   "outputs": [
    {
     "name": "stdout",
     "output_type": "stream",
     "text": [
      "Best parameters: {'n_estimators': 1000, 'max_depth': 6, 'learning_rate': 0.01, 'colsample_bytree': 0.7}\n",
      "Lowest RMSE:  7.645042421626354\n",
      "explained_variance:  0.3813\n",
      "r2:  0.3812\n",
      "MAE:  5.6287\n",
      "MSE:  58.5923\n",
      "RMSE:  7.6546\n"
     ]
    }
   ],
   "source": [
    "print(\"Best parameters:\", regress.best_params_)\n",
    "print(\"Lowest RMSE: \", (-regress.best_score_)**(1/2.0))\n",
    "y_pred = regress.predict(test_data[key_vars])\n",
    "\n",
    "regression_results(Y_test, y_pred)"
   ]
  },
  {
   "cell_type": "markdown",
   "id": "48f7d902",
   "metadata": {},
   "source": [
    "---"
   ]
  },
  {
   "cell_type": "markdown",
   "id": "a8895078",
   "metadata": {},
   "source": [
    "### Limiting to Cali Data"
   ]
  },
  {
   "cell_type": "code",
   "execution_count": 6,
   "id": "271df215",
   "metadata": {},
   "outputs": [],
   "source": [
    "cali_train_data = training_data[training_data.state == 6]\n",
    "cali_test_data = test_data[test_data.state == 6]"
   ]
  },
  {
   "cell_type": "code",
   "execution_count": 10,
   "id": "d99c1c45",
   "metadata": {},
   "outputs": [
    {
     "name": "stdout",
     "output_type": "stream",
     "text": [
      "explained_variance:  0.4892\n",
      "r2:  0.4892\n",
      "MAE:  4.0504\n",
      "MSE:  30.8888\n",
      "RMSE:  5.5578\n"
     ]
    }
   ],
   "source": [
    "regressor = XGBRegressor(n_estimators = 1000, max_depth = 6, learning_rate = 0.01, colsample_bytree = 0.7)\n",
    "regressor.fit(cali_train_data[key_vars],  np.array(cali_train_data['pct_health_ins_19_64']))\n",
    "predictions = regressor.predict(cali_test_data[key_vars])\n",
    "regression_results(np.array(cali_test_data['pct_health_ins_19_64']), predictions)"
   ]
  }
 ],
 "metadata": {
  "kernelspec": {
   "display_name": "Python 3 (ipykernel)",
   "language": "python",
   "name": "python3"
  },
  "language_info": {
   "codemirror_mode": {
    "name": "ipython",
    "version": 3
   },
   "file_extension": ".py",
   "mimetype": "text/x-python",
   "name": "python",
   "nbconvert_exporter": "python",
   "pygments_lexer": "ipython3",
   "version": "3.7.10"
  }
 },
 "nbformat": 4,
 "nbformat_minor": 5
}
