{
 "cells": [
  {
   "cell_type": "markdown",
   "id": "522ccc25",
   "metadata": {},
   "source": [
    "# Testing Model Code Used in Web App"
   ]
  },
  {
   "cell_type": "code",
   "execution_count": 2,
   "id": "0b6b9276",
   "metadata": {},
   "outputs": [],
   "source": [
    "import pickle\n",
    "import pandas as pd"
   ]
  },
  {
   "cell_type": "code",
   "execution_count": 5,
   "id": "327b2585",
   "metadata": {},
   "outputs": [],
   "source": [
    "with open(f'../../models/education_xgb_model_final_2.pkl', 'rb') as f:\n",
    "    #print(\"broadband_impact\", \"opened file but did not load yet\")\n",
    "    model = pickle.load(f)"
   ]
  },
  {
   "cell_type": "code",
   "execution_count": 4,
   "id": "ca6afa9a",
   "metadata": {},
   "outputs": [],
   "source": [
    "with open(f\"../../web_app2/flaskapp/static/emp_rate_rf_user_exp_2\", 'rb') as f:\n",
    "    #print(\"broadband_impact\", \"opened file but did not load yet\")\n",
    "    model = pickle.load(f)"
   ]
  },
  {
   "cell_type": "code",
   "execution_count": 24,
   "id": "9c8cf6f4",
   "metadata": {},
   "outputs": [],
   "source": [
    "with open(f\"../../web_app2/flaskapp/static/rf_hi_model.pkl\", 'rb') as f:\n",
    "    #print(\"broadband_impact\", \"opened file but did not load yet\")\n",
    "    model = pickle.load(f)"
   ]
  },
  {
   "cell_type": "code",
   "execution_count": 5,
   "id": "ede111ed",
   "metadata": {},
   "outputs": [
    {
     "data": {
      "text/plain": [
       "array([0.0046908 , 0.00848938, 0.00677568, 0.01084462, 0.0258067 ,\n",
       "       0.0163453 , 0.01305824, 0.01984763, 0.00790969, 0.00608246,\n",
       "       0.02232353, 0.00457013, 0.01374344, 0.01510416, 0.02614383,\n",
       "       0.01706272, 0.01569498, 0.03329857, 0.01913994, 0.02542557,\n",
       "       0.02112815, 0.06271373, 0.01956107, 0.02596073, 0.02250767,\n",
       "       0.02770539, 0.05642338, 0.35988607, 0.04502656, 0.04672988])"
      ]
     },
     "execution_count": 5,
     "metadata": {},
     "output_type": "execute_result"
    }
   ],
   "source": [
    "model.feature_importances_"
   ]
  },
  {
   "cell_type": "code",
   "execution_count": 40,
   "id": "0cfac6e3",
   "metadata": {},
   "outputs": [],
   "source": [
    "models = {'pct_health_ins_19_64'  : model}"
   ]
  },
  {
   "cell_type": "code",
   "execution_count": 34,
   "id": "fc7744a3",
   "metadata": {},
   "outputs": [],
   "source": [
    "df = pd.read_csv(\"../../../web_app2/flaskapp/static/all_data.csv\",  converters = {\"tract_geoid\" : lambda x: str(x)})"
   ]
  },
  {
   "cell_type": "code",
   "execution_count": 32,
   "id": "430da341",
   "metadata": {},
   "outputs": [
    {
     "data": {
      "text/plain": [
       "0        06099000201\n",
       "1        47125102002\n",
       "2        22019001300\n",
       "3        18083955400\n",
       "4        39085206600\n",
       "            ...     \n",
       "69768    36029010201\n",
       "69769    36081071900\n",
       "69770    04019004614\n",
       "69771    51153901306\n",
       "69772    48339692400\n",
       "Name: tract_geoid, Length: 69773, dtype: object"
      ]
     },
     "execution_count": 32,
     "metadata": {},
     "output_type": "execute_result"
    }
   ],
   "source": [
    "df.tract_geoid"
   ]
  },
  {
   "cell_type": "code",
   "execution_count": 39,
   "id": "2309b326",
   "metadata": {},
   "outputs": [],
   "source": [
    "model_vars = {'pct_health_ins_19_64' : ['pct_only_cellular', 'pct_internet_broadband_fiber',\n",
    " 'pct_computing_device_with_broadband', 'pct_internet_broadband_satellite',\n",
    " 'pct_computing_device', 'Ookla Median Download Speed (Mbps)',\n",
    " 'pct_internet_broadband_any_type', 'pct_internet',\n",
    " 'Wired_Provider_Count_100', 'pct_only_smartphone', 'pct_hisp_latino',\n",
    " 'pct_pop_income_gt_100k', 'pct_pop_foreign_born', 'ave_family_size',\n",
    " 'log_median_house_value', 'median_house_value', 'pct_white',\n",
    " 'log_median_income', 'pct_pop_hs+', 'median_income', 'ATT_present',\n",
    " 'employment_rate', 'ave_household_size', 'pct_pop_some_college',\n",
    " 'population_density']}"
   ]
  },
  {
   "cell_type": "code",
   "execution_count": 41,
   "id": "47414dc3",
   "metadata": {},
   "outputs": [],
   "source": [
    "def get_dataframe(outcome, tract_data):\n",
    "    \"\"\"\n",
    "    Returns a dataframe with columns for all input variables used in the model to generate the outcome\n",
    "    \"\"\"\n",
    "    print(\"broadband_impact\", outcome)\n",
    "    df_outcome = pd.DataFrame()\n",
    "    for var in model_vars[outcome]:\n",
    "        print(\"broadband_impact\", var)\n",
    "        df_outcome[var] = tract_data[var]\n",
    "    return df_outcome"
   ]
  },
  {
   "cell_type": "code",
   "execution_count": 42,
   "id": "d44a6b40",
   "metadata": {},
   "outputs": [],
   "source": [
    "tract_data = df.loc[df['tract_geoid'] == \"06099000201\"]"
   ]
  },
  {
   "cell_type": "code",
   "execution_count": 45,
   "id": "7dbc2151",
   "metadata": {},
   "outputs": [
    {
     "name": "stdout",
     "output_type": "stream",
     "text": [
      "broadband_impact pct_health_ins_19_64\n",
      "broadband_impact pct_only_cellular\n",
      "broadband_impact pct_internet_broadband_fiber\n",
      "broadband_impact pct_computing_device_with_broadband\n",
      "broadband_impact pct_internet_broadband_satellite\n",
      "broadband_impact pct_computing_device\n",
      "broadband_impact Ookla Median Download Speed (Mbps)\n",
      "broadband_impact pct_internet_broadband_any_type\n",
      "broadband_impact pct_internet\n",
      "broadband_impact Wired_Provider_Count_100\n",
      "broadband_impact pct_only_smartphone\n",
      "broadband_impact pct_hisp_latino\n",
      "broadband_impact pct_pop_income_gt_100k\n",
      "broadband_impact pct_pop_foreign_born\n",
      "broadband_impact ave_family_size\n",
      "broadband_impact log_median_house_value\n",
      "broadband_impact median_house_value\n",
      "broadband_impact pct_white\n",
      "broadband_impact log_median_income\n",
      "broadband_impact pct_pop_hs+\n",
      "broadband_impact median_income\n",
      "broadband_impact ATT_present\n",
      "broadband_impact employment_rate\n",
      "broadband_impact ave_household_size\n",
      "broadband_impact pct_pop_some_college\n",
      "broadband_impact population_density\n",
      "91.76\n"
     ]
    }
   ],
   "source": [
    "for var in ['pct_health_ins_19_64']:\n",
    "\n",
    "    ## Update model df with toggle-able form variables\n",
    "    input_variables = get_dataframe(var, tract_data)\n",
    "#     input_variables['pct_internet'] = pct_internet\n",
    "#     input_variables['pct_computing_device'] = pct_computing_device\n",
    "#     input_variables['pct_computing_device_with_broadband'] = pct_computing_device_with_broadband\n",
    "#     input_variables['Ookla Median Download Speed (Mbps)'] = ookla_download\n",
    "#     input_variables['pct_internet_broadband_any_type'] = pct_internet_broadband_any_type\n",
    "\n",
    "    ## Generate prediction\n",
    "    prediction = models[var].predict(input_variables)[0]\n",
    "    print(round(prediction, 2))"
   ]
  },
  {
   "cell_type": "code",
   "execution_count": null,
   "id": "91fd392a",
   "metadata": {},
   "outputs": [],
   "source": []
  }
 ],
 "metadata": {
  "kernelspec": {
   "display_name": "Python 3",
   "language": "python",
   "name": "python3"
  },
  "language_info": {
   "codemirror_mode": {
    "name": "ipython",
    "version": 3
   },
   "file_extension": ".py",
   "mimetype": "text/x-python",
   "name": "python",
   "nbconvert_exporter": "python",
   "pygments_lexer": "ipython3",
   "version": "3.8.10"
  }
 },
 "nbformat": 4,
 "nbformat_minor": 5
}
