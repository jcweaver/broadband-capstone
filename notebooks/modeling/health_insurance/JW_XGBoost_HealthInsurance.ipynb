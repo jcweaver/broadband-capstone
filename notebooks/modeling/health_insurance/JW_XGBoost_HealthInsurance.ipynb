{
 "cells": [
  {
   "cell_type": "markdown",
   "id": "4d80f089",
   "metadata": {},
   "source": [
    "## Imports, Reading Data, Setting up tests"
   ]
  },
  {
   "cell_type": "code",
   "execution_count": 3,
   "id": "52f77ccb",
   "metadata": {},
   "outputs": [],
   "source": [
    "import pandas as pd\n",
    "import numpy as np\n",
    "import sklearn.metrics as metrics\n",
    "from xgboost import XGBRegressor\n",
    "from sklearn.model_selection import GridSearchCV\n",
    "from sklearn.model_selection import RandomizedSearchCV\n"
   ]
  },
  {
   "cell_type": "code",
   "execution_count": 28,
   "id": "69659d00",
   "metadata": {},
   "outputs": [],
   "source": [
    "training_data = pd.read_csv(\"../../../data/current_data/train_3.csv\")\n",
    "test_data = pd.read_csv(\"../../../data/current_data/test_3.csv\")"
   ]
  },
  {
   "cell_type": "code",
   "execution_count": 77,
   "id": "22daf955",
   "metadata": {},
   "outputs": [],
   "source": [
    "y_variable = 'pct_health_ins_19_64'\n",
    "\n",
    "broadband_vars3 = ['pct_internet',  'pct_only_smartphone',\n",
    "                   'pct_internet_broadband_fiber','Ookla Median Download Speed (Mbps)',\n",
    "                  'pct_no_computing_device', 'Comcast_present',\n",
    " 'ATT_present',\n",
    " 'VSAT_present',\n",
    " 'Century_Link_present',\n",
    " 'Spectrum_present',\n",
    " 'Crown_Castle_present',\n",
    " 'Etheric_present',\n",
    " 'Frontier_Communications_present',]\n",
    "\n",
    "broadband_vars3 = ['pct_internet',  'pct_computing_device', 'pct_internet_broadband_any_type',\n",
    "                   'pct_computing_device_with_broadband','Ookla Median Download Speed (Mbps)',\n",
    "                   'pct_internet_broadband_satellite','Wired_Provider_Count_25']\n",
    "\n",
    "broadband_vars_group = ['pct_only_cellular', 'pct_internet_broadband_fiber', 'pct_computing_device_with_broadband', \n",
    "                        'pct_internet_broadband_satellite', 'pct_computing_device',\n",
    "                        'Ookla Median Download Speed (Mbps)','pct_internet_broadband_any_type', 'pct_internet',\n",
    "                        'Wired_Provider_Count', 'pct_only_smartphone']\n",
    "\n",
    "broadband_vars = broadband_vars3"
   ]
  },
  {
   "cell_type": "code",
   "execution_count": 78,
   "id": "067d7f5a",
   "metadata": {},
   "outputs": [],
   "source": [
    "covariates = ['log_median_income', 'pct_hisp_latino', 'pct_white',\n",
    "              'log_median_income_over_log_median_house',  \n",
    "             'pct_pop_foreign_born', 'pct_pop_disability', 'employment_rate', 'median_age_overall',\n",
    "             'pct_ages_lt_19',\n",
    " 'ruca_metro',\n",
    " 'ruca_micro',\n",
    " 'ruca_small_town',\n",
    " 'ruca_rural',]\n",
    "\n",
    "covariates = ['median_income', 'ATT_present', 'pct_hisp_latino',\n",
    "       'pct_desktop_or_laptop', 'pct_pop_income_gt_100k',\n",
    "       'pct_only_smartphone', 'pct_pop_bachelors+', 'Etheric_present',\n",
    "       'pct_pop_foreign_born', 'poverty_rate', 'median_house_value',\n",
    "       '0_25_Form 477 All Terrestrial Broadband: Max Advertised Consumer Download Speed (Mbps)',\n",
    "       'ave_household_size', 'pct_white', 'Crown_Castle_present',\n",
    "       '0_25_Ookla Median Download Speed (Mbps)', 'pct_pop_hs+', 'MaxAdDown',\n",
    "       'Form 477 All Terrestrial Broadband: Max Advertised Consumer Download Speed (Mbps)']\n",
    "\n",
    "covariates = [ 'pct_hisp_latino', 'pct_pop_income_gt_100k',\n",
    "       'pct_pop_foreign_born', 'ave_family_size', 'log_median_house_value',\n",
    "       'median_house_value', 'pct_white', 'log_median_income', 'pct_pop_hs+',\n",
    "       'median_income', 'ATT_present', 'employment_rate', 'ave_household_size',\n",
    "       'pct_pop_some_college', 'population_density', 'pct_pop_disability', 'median_age_overall',\n",
    "        'pct_ages_lt_19', 'log_median_income_over_log_median_house','pct_only_smartphone']"
   ]
  },
  {
   "cell_type": "code",
   "execution_count": 79,
   "id": "c1535377",
   "metadata": {},
   "outputs": [],
   "source": [
    "all_vars = broadband_vars.copy()\n",
    "all_vars.extend(covariates)"
   ]
  },
  {
   "cell_type": "markdown",
   "id": "267f61ba",
   "metadata": {},
   "source": [
    "## Modeling"
   ]
  },
  {
   "cell_type": "markdown",
   "id": "11edc941",
   "metadata": {},
   "source": [
    "### Functions"
   ]
  },
  {
   "cell_type": "code",
   "execution_count": 80,
   "id": "ebab78c0",
   "metadata": {},
   "outputs": [],
   "source": [
    "def regression_results(y_true, y_pred):\n",
    "\n",
    "    # Regression metrics\n",
    "    explained_variance=metrics.explained_variance_score(y_true, y_pred)\n",
    "    mean_absolute_error=metrics.mean_absolute_error(y_true, y_pred) \n",
    "    mse=metrics.mean_squared_error(y_true, y_pred) \n",
    "    median_absolute_error=metrics.median_absolute_error(y_true, y_pred)\n",
    "    r2=metrics.r2_score(y_true, y_pred)\n",
    "\n",
    "    print('explained_variance: ', round(explained_variance,4))    \n",
    "    print('r2: ', round(r2,4))\n",
    "    print('MAE: ', round(mean_absolute_error,4))\n",
    "    print('MSE: ', round(mse,4))\n",
    "    print('RMSE: ', round(np.sqrt(mse),4))"
   ]
  },
  {
   "cell_type": "code",
   "execution_count": 81,
   "id": "787c72cc",
   "metadata": {},
   "outputs": [],
   "source": [
    "Y_train = np.array(training_data['pct_health_ins_19_64'])\n",
    "Y_test = np.array(test_data['pct_health_ins_19_64'])\n",
    "\n",
    "def XGBoost_model(train_df, \n",
    "                          test_df, \n",
    "                          variable_list,\n",
    "                          Y_train = Y_train,  \n",
    "                          Y_test = Y_test):\n",
    "    train_variables = np.array(train_df[variable_list])\n",
    "    test_variables = np.array(test_df[variable_list])\n",
    "    \n",
    "    model = XGBRegressor().fit(train_variables, Y_train)\n",
    "    predicted = model.predict(test_variables)\n",
    "    \n",
    "    regression_results(Y_test, predicted)\n",
    "    \n",
    "    return pd.DataFrame(model.feature_importances_, \n",
    "                        index = variable_list).sort_values(by=0, ascending = False)\n"
   ]
  },
  {
   "cell_type": "markdown",
   "id": "96e5e74e",
   "metadata": {},
   "source": [
    "## Tuning the model"
   ]
  },
  {
   "cell_type": "code",
   "execution_count": 82,
   "id": "ed791899",
   "metadata": {
    "scrolled": true
   },
   "outputs": [
    {
     "name": "stdout",
     "output_type": "stream",
     "text": [
      "Fitting 3 folds for each of 20 candidates, totalling 60 fits\n",
      "[CV 1/3; 1/20] START colsample_bytree=0.7, learning_rate=0.05, max_depth=5, n_estimators=75\n",
      "[CV 1/3; 1/20] END colsample_bytree=0.7, learning_rate=0.05, max_depth=5, n_estimators=75;, score=-36.766 total time=   1.5s\n",
      "[CV 2/3; 1/20] START colsample_bytree=0.7, learning_rate=0.05, max_depth=5, n_estimators=75\n",
      "[CV 2/3; 1/20] END colsample_bytree=0.7, learning_rate=0.05, max_depth=5, n_estimators=75;, score=-36.800 total time=   1.5s\n",
      "[CV 3/3; 1/20] START colsample_bytree=0.7, learning_rate=0.05, max_depth=5, n_estimators=75\n",
      "[CV 3/3; 1/20] END colsample_bytree=0.7, learning_rate=0.05, max_depth=5, n_estimators=75;, score=-36.759 total time=   1.5s\n",
      "[CV 1/3; 2/20] START colsample_bytree=0.1, learning_rate=0.05, max_depth=10, n_estimators=115\n",
      "[CV 1/3; 2/20] END colsample_bytree=0.1, learning_rate=0.05, max_depth=10, n_estimators=115;, score=-42.629 total time=   2.5s\n",
      "[CV 2/3; 2/20] START colsample_bytree=0.1, learning_rate=0.05, max_depth=10, n_estimators=115\n",
      "[CV 2/3; 2/20] END colsample_bytree=0.1, learning_rate=0.05, max_depth=10, n_estimators=115;, score=-42.269 total time=   2.5s\n",
      "[CV 3/3; 2/20] START colsample_bytree=0.1, learning_rate=0.05, max_depth=10, n_estimators=115\n",
      "[CV 3/3; 2/20] END colsample_bytree=0.1, learning_rate=0.05, max_depth=10, n_estimators=115;, score=-42.024 total time=   2.5s\n",
      "[CV 1/3; 3/20] START colsample_bytree=0.3, learning_rate=0.05, max_depth=2, n_estimators=55\n",
      "[CV 1/3; 3/20] END colsample_bytree=0.3, learning_rate=0.05, max_depth=2, n_estimators=55;, score=-72.330 total time=   0.4s\n",
      "[CV 2/3; 3/20] START colsample_bytree=0.3, learning_rate=0.05, max_depth=2, n_estimators=55\n",
      "[CV 2/3; 3/20] END colsample_bytree=0.3, learning_rate=0.05, max_depth=2, n_estimators=55;, score=-72.364 total time=   0.4s\n",
      "[CV 3/3; 3/20] START colsample_bytree=0.3, learning_rate=0.05, max_depth=2, n_estimators=55\n",
      "[CV 3/3; 3/20] END colsample_bytree=0.3, learning_rate=0.05, max_depth=2, n_estimators=55;, score=-72.030 total time=   0.4s\n",
      "[CV 1/3; 4/20] START colsample_bytree=0.1, learning_rate=0.1, max_depth=5, n_estimators=40\n",
      "[CV 1/3; 4/20] END colsample_bytree=0.1, learning_rate=0.1, max_depth=5, n_estimators=40;, score=-47.189 total time=   0.5s\n",
      "[CV 2/3; 4/20] START colsample_bytree=0.1, learning_rate=0.1, max_depth=5, n_estimators=40\n",
      "[CV 2/3; 4/20] END colsample_bytree=0.1, learning_rate=0.1, max_depth=5, n_estimators=40;, score=-46.511 total time=   0.5s\n",
      "[CV 3/3; 4/20] START colsample_bytree=0.1, learning_rate=0.1, max_depth=5, n_estimators=40\n",
      "[CV 3/3; 4/20] END colsample_bytree=0.1, learning_rate=0.1, max_depth=5, n_estimators=40;, score=-46.340 total time=   0.6s\n",
      "[CV 1/3; 5/20] START colsample_bytree=0.7, learning_rate=0.01, max_depth=10, n_estimators=70\n",
      "[CV 1/3; 5/20] END colsample_bytree=0.7, learning_rate=0.01, max_depth=10, n_estimators=70;, score=-1901.075 total time=   2.8s\n",
      "[CV 2/3; 5/20] START colsample_bytree=0.7, learning_rate=0.01, max_depth=10, n_estimators=70\n",
      "[CV 2/3; 5/20] END colsample_bytree=0.7, learning_rate=0.01, max_depth=10, n_estimators=70;, score=-1906.543 total time=   2.9s\n",
      "[CV 3/3; 5/20] START colsample_bytree=0.7, learning_rate=0.01, max_depth=10, n_estimators=70\n",
      "[CV 3/3; 5/20] END colsample_bytree=0.7, learning_rate=0.01, max_depth=10, n_estimators=70;, score=-1902.062 total time=   2.7s\n",
      "[CV 1/3; 6/20] START colsample_bytree=0.7, learning_rate=0.1, max_depth=2, n_estimators=115\n",
      "[CV 1/3; 6/20] END colsample_bytree=0.7, learning_rate=0.1, max_depth=2, n_estimators=115;, score=-36.636 total time=   1.1s\n",
      "[CV 2/3; 6/20] START colsample_bytree=0.7, learning_rate=0.1, max_depth=2, n_estimators=115\n",
      "[CV 2/3; 6/20] END colsample_bytree=0.7, learning_rate=0.1, max_depth=2, n_estimators=115;, score=-37.066 total time=   1.1s\n",
      "[CV 3/3; 6/20] START colsample_bytree=0.7, learning_rate=0.1, max_depth=2, n_estimators=115\n",
      "[CV 3/3; 6/20] END colsample_bytree=0.7, learning_rate=0.1, max_depth=2, n_estimators=115;, score=-36.872 total time=   1.2s\n",
      "[CV 1/3; 7/20] START colsample_bytree=0.7, learning_rate=0.1, max_depth=6, n_estimators=75\n",
      "[CV 1/3; 7/20] END colsample_bytree=0.7, learning_rate=0.1, max_depth=6, n_estimators=75;, score=-30.555 total time=   2.6s\n",
      "[CV 2/3; 7/20] START colsample_bytree=0.7, learning_rate=0.1, max_depth=6, n_estimators=75\n",
      "[CV 2/3; 7/20] END colsample_bytree=0.7, learning_rate=0.1, max_depth=6, n_estimators=75;, score=-30.563 total time=   2.4s\n",
      "[CV 3/3; 7/20] START colsample_bytree=0.7, learning_rate=0.1, max_depth=6, n_estimators=75\n",
      "[CV 3/3; 7/20] END colsample_bytree=0.7, learning_rate=0.1, max_depth=6, n_estimators=75;, score=-30.847 total time=   2.2s\n",
      "[CV 1/3; 8/20] START colsample_bytree=0.1, learning_rate=0.1, max_depth=3, n_estimators=10\n",
      "[CV 1/3; 8/20] END colsample_bytree=0.1, learning_rate=0.1, max_depth=3, n_estimators=10;, score=-982.328 total time=   0.1s\n",
      "[CV 2/3; 8/20] START colsample_bytree=0.1, learning_rate=0.1, max_depth=3, n_estimators=10\n",
      "[CV 2/3; 8/20] END colsample_bytree=0.1, learning_rate=0.1, max_depth=3, n_estimators=10;, score=-986.541 total time=   0.1s\n",
      "[CV 3/3; 8/20] START colsample_bytree=0.1, learning_rate=0.1, max_depth=3, n_estimators=10\n",
      "[CV 3/3; 8/20] END colsample_bytree=0.1, learning_rate=0.1, max_depth=3, n_estimators=10;, score=-983.362 total time=   0.1s\n",
      "[CV 1/3; 9/20] START colsample_bytree=0.3, learning_rate=0.01, max_depth=3, n_estimators=40\n",
      "[CV 1/3; 9/20] END colsample_bytree=0.3, learning_rate=0.01, max_depth=3, n_estimators=40;, score=-3442.803 total time=   0.4s\n",
      "[CV 2/3; 9/20] START colsample_bytree=0.3, learning_rate=0.01, max_depth=3, n_estimators=40\n",
      "[CV 2/3; 9/20] END colsample_bytree=0.3, learning_rate=0.01, max_depth=3, n_estimators=40;, score=-3454.426 total time=   0.4s\n",
      "[CV 3/3; 9/20] START colsample_bytree=0.3, learning_rate=0.01, max_depth=3, n_estimators=40\n",
      "[CV 3/3; 9/20] END colsample_bytree=0.3, learning_rate=0.01, max_depth=3, n_estimators=40;, score=-3446.857 total time=   0.4s\n",
      "[CV 1/3; 10/20] START colsample_bytree=0.7, learning_rate=0.01, max_depth=5, n_estimators=20\n",
      "[CV 1/3; 10/20] END colsample_bytree=0.7, learning_rate=0.01, max_depth=5, n_estimators=20;, score=-5118.936 total time=   0.5s\n",
      "[CV 2/3; 10/20] START colsample_bytree=0.7, learning_rate=0.01, max_depth=5, n_estimators=20\n",
      "[CV 2/3; 10/20] END colsample_bytree=0.7, learning_rate=0.01, max_depth=5, n_estimators=20;, score=-5133.027 total time=   0.5s\n",
      "[CV 3/3; 10/20] START colsample_bytree=0.7, learning_rate=0.01, max_depth=5, n_estimators=20\n",
      "[CV 3/3; 10/20] END colsample_bytree=0.7, learning_rate=0.01, max_depth=5, n_estimators=20;, score=-5123.713 total time=   0.5s\n",
      "[CV 1/3; 11/20] START colsample_bytree=0.1, learning_rate=0.01, max_depth=10, n_estimators=90\n",
      "[CV 1/3; 11/20] END colsample_bytree=0.1, learning_rate=0.01, max_depth=10, n_estimators=90;, score=-1299.885 total time=   1.2s\n",
      "[CV 2/3; 11/20] START colsample_bytree=0.1, learning_rate=0.01, max_depth=10, n_estimators=90\n",
      "[CV 2/3; 11/20] END colsample_bytree=0.1, learning_rate=0.01, max_depth=10, n_estimators=90;, score=-1305.828 total time=   1.2s\n",
      "[CV 3/3; 11/20] START colsample_bytree=0.1, learning_rate=0.01, max_depth=10, n_estimators=90\n",
      "[CV 3/3; 11/20] END colsample_bytree=0.1, learning_rate=0.01, max_depth=10, n_estimators=90;, score=-1302.048 total time=   1.2s\n",
      "[CV 1/3; 12/20] START colsample_bytree=0.7, learning_rate=0.1, max_depth=5, n_estimators=70\n",
      "[CV 1/3; 12/20] END colsample_bytree=0.7, learning_rate=0.1, max_depth=5, n_estimators=70;, score=-31.551 total time=   1.8s\n",
      "[CV 2/3; 12/20] START colsample_bytree=0.7, learning_rate=0.1, max_depth=5, n_estimators=70\n",
      "[CV 2/3; 12/20] END colsample_bytree=0.7, learning_rate=0.1, max_depth=5, n_estimators=70;, score=-31.630 total time=   1.9s\n",
      "[CV 3/3; 12/20] START colsample_bytree=0.7, learning_rate=0.1, max_depth=5, n_estimators=70\n",
      "[CV 3/3; 12/20] END colsample_bytree=0.7, learning_rate=0.1, max_depth=5, n_estimators=70;, score=-31.560 total time=   1.8s\n",
      "[CV 1/3; 13/20] START colsample_bytree=0.3, learning_rate=0.001, max_depth=4, n_estimators=100\n",
      "[CV 1/3; 13/20] END colsample_bytree=0.3, learning_rate=0.001, max_depth=4, n_estimators=100;, score=-6254.378 total time=   1.2s\n",
      "[CV 2/3; 13/20] START colsample_bytree=0.3, learning_rate=0.001, max_depth=4, n_estimators=100\n"
     ]
    },
    {
     "name": "stdout",
     "output_type": "stream",
     "text": [
      "[CV 2/3; 13/20] END colsample_bytree=0.3, learning_rate=0.001, max_depth=4, n_estimators=100;, score=-6271.521 total time=   1.2s\n",
      "[CV 3/3; 13/20] START colsample_bytree=0.3, learning_rate=0.001, max_depth=4, n_estimators=100\n",
      "[CV 3/3; 13/20] END colsample_bytree=0.3, learning_rate=0.001, max_depth=4, n_estimators=100;, score=-6260.808 total time=   1.2s\n",
      "[CV 1/3; 14/20] START colsample_bytree=0.7, learning_rate=0.1, max_depth=5, n_estimators=60\n",
      "[CV 1/3; 14/20] END colsample_bytree=0.7, learning_rate=0.1, max_depth=5, n_estimators=60;, score=-31.894 total time=   1.5s\n",
      "[CV 2/3; 14/20] START colsample_bytree=0.7, learning_rate=0.1, max_depth=5, n_estimators=60\n",
      "[CV 2/3; 14/20] END colsample_bytree=0.7, learning_rate=0.1, max_depth=5, n_estimators=60;, score=-32.021 total time=   1.6s\n",
      "[CV 3/3; 14/20] START colsample_bytree=0.7, learning_rate=0.1, max_depth=5, n_estimators=60\n",
      "[CV 3/3; 14/20] END colsample_bytree=0.7, learning_rate=0.1, max_depth=5, n_estimators=60;, score=-31.937 total time=   1.6s\n",
      "[CV 1/3; 15/20] START colsample_bytree=0.1, learning_rate=0.01, max_depth=5, n_estimators=20\n",
      "[CV 1/3; 15/20] END colsample_bytree=0.1, learning_rate=0.01, max_depth=5, n_estimators=20;, score=-5126.255 total time=   0.2s\n",
      "[CV 2/3; 15/20] START colsample_bytree=0.1, learning_rate=0.01, max_depth=5, n_estimators=20\n",
      "[CV 2/3; 15/20] END colsample_bytree=0.1, learning_rate=0.01, max_depth=5, n_estimators=20;, score=-5141.290 total time=   0.3s\n",
      "[CV 3/3; 15/20] START colsample_bytree=0.1, learning_rate=0.01, max_depth=5, n_estimators=20\n",
      "[CV 3/3; 15/20] END colsample_bytree=0.1, learning_rate=0.01, max_depth=5, n_estimators=20;, score=-5131.723 total time=   0.2s\n",
      "[CV 1/3; 16/20] START colsample_bytree=0.7, learning_rate=0.1, max_depth=5, n_estimators=75\n",
      "[CV 1/3; 16/20] END colsample_bytree=0.7, learning_rate=0.1, max_depth=5, n_estimators=75;, score=-31.398 total time=   1.9s\n",
      "[CV 2/3; 16/20] START colsample_bytree=0.7, learning_rate=0.1, max_depth=5, n_estimators=75\n",
      "[CV 2/3; 16/20] END colsample_bytree=0.7, learning_rate=0.1, max_depth=5, n_estimators=75;, score=-31.449 total time=   1.8s\n",
      "[CV 3/3; 16/20] START colsample_bytree=0.7, learning_rate=0.1, max_depth=5, n_estimators=75\n",
      "[CV 3/3; 16/20] END colsample_bytree=0.7, learning_rate=0.1, max_depth=5, n_estimators=75;, score=-31.411 total time=   1.9s\n",
      "[CV 1/3; 17/20] START colsample_bytree=0.7, learning_rate=0.001, max_depth=3, n_estimators=80\n",
      "[CV 1/3; 17/20] END colsample_bytree=0.7, learning_rate=0.001, max_depth=3, n_estimators=80;, score=-6507.728 total time=   1.2s\n",
      "[CV 2/3; 17/20] START colsample_bytree=0.7, learning_rate=0.001, max_depth=3, n_estimators=80\n",
      "[CV 2/3; 17/20] END colsample_bytree=0.7, learning_rate=0.001, max_depth=3, n_estimators=80;, score=-6525.019 total time=   1.4s\n",
      "[CV 3/3; 17/20] START colsample_bytree=0.7, learning_rate=0.001, max_depth=3, n_estimators=80\n",
      "[CV 3/3; 17/20] END colsample_bytree=0.7, learning_rate=0.001, max_depth=3, n_estimators=80;, score=-6513.921 total time=   1.4s\n",
      "[CV 1/3; 18/20] START colsample_bytree=0.7, learning_rate=0.001, max_depth=5, n_estimators=10\n",
      "[CV 1/3; 18/20] END colsample_bytree=0.7, learning_rate=0.001, max_depth=5, n_estimators=10;, score=-7478.199 total time=   0.3s\n",
      "[CV 2/3; 18/20] START colsample_bytree=0.7, learning_rate=0.001, max_depth=5, n_estimators=10\n",
      "[CV 2/3; 18/20] END colsample_bytree=0.7, learning_rate=0.001, max_depth=5, n_estimators=10;, score=-7497.297 total time=   0.3s\n",
      "[CV 3/3; 18/20] START colsample_bytree=0.7, learning_rate=0.001, max_depth=5, n_estimators=10\n",
      "[CV 3/3; 18/20] END colsample_bytree=0.7, learning_rate=0.001, max_depth=5, n_estimators=10;, score=-7485.268 total time=   0.3s\n",
      "[CV 1/3; 19/20] START colsample_bytree=0.1, learning_rate=0.05, max_depth=6, n_estimators=80\n",
      "[CV 1/3; 19/20] END colsample_bytree=0.1, learning_rate=0.05, max_depth=6, n_estimators=80;, score=-47.312 total time=   1.2s\n",
      "[CV 2/3; 19/20] START colsample_bytree=0.1, learning_rate=0.05, max_depth=6, n_estimators=80\n",
      "[CV 2/3; 19/20] END colsample_bytree=0.1, learning_rate=0.05, max_depth=6, n_estimators=80;, score=-46.720 total time=   1.1s\n",
      "[CV 3/3; 19/20] START colsample_bytree=0.1, learning_rate=0.05, max_depth=6, n_estimators=80\n",
      "[CV 3/3; 19/20] END colsample_bytree=0.1, learning_rate=0.05, max_depth=6, n_estimators=80;, score=-46.423 total time=   1.1s\n",
      "[CV 1/3; 20/20] START colsample_bytree=0.1, learning_rate=0.01, max_depth=6, n_estimators=55\n",
      "[CV 1/3; 20/20] END colsample_bytree=0.1, learning_rate=0.01, max_depth=6, n_estimators=55;, score=-2568.192 total time=   0.6s\n",
      "[CV 2/3; 20/20] START colsample_bytree=0.1, learning_rate=0.01, max_depth=6, n_estimators=55\n",
      "[CV 2/3; 20/20] END colsample_bytree=0.1, learning_rate=0.01, max_depth=6, n_estimators=55;, score=-2577.852 total time=   0.6s\n",
      "[CV 3/3; 20/20] START colsample_bytree=0.1, learning_rate=0.01, max_depth=6, n_estimators=55\n",
      "[CV 3/3; 20/20] END colsample_bytree=0.1, learning_rate=0.01, max_depth=6, n_estimators=55;, score=-2571.778 total time=   0.6s\n"
     ]
    },
    {
     "data": {
      "text/plain": [
       "RandomizedSearchCV(cv=3,\n",
       "                   estimator=XGBRegressor(base_score=None, booster=None,\n",
       "                                          colsample_bylevel=None,\n",
       "                                          colsample_bynode=None,\n",
       "                                          colsample_bytree=None,\n",
       "                                          enable_categorical=False, gamma=None,\n",
       "                                          gpu_id=None, importance_type=None,\n",
       "                                          interaction_constraints=None,\n",
       "                                          learning_rate=None,\n",
       "                                          max_delta_step=None, max_depth=None,\n",
       "                                          min_child_weight=None, missing=nan,\n",
       "                                          monotone_constraints=...\n",
       "                                          scale_pos_weight=None, subsample=None,\n",
       "                                          tree_method=None,\n",
       "                                          validate_parameters=None,\n",
       "                                          verbosity=None),\n",
       "                   n_iter=20,\n",
       "                   param_distributions={'colsample_bytree': [0.1, 0.3, 0.7],\n",
       "                                        'learning_rate': [0.001, 0.01, 0.05,\n",
       "                                                          0.1],\n",
       "                                        'max_depth': [2, 3, 4, 5, 6, 10],\n",
       "                                        'n_estimators': [5, 10, 15, 20, 25, 30,\n",
       "                                                         35, 40, 45, 50, 55, 60,\n",
       "                                                         65, 70, 75, 80, 85, 90,\n",
       "                                                         95, 100, 105, 110,\n",
       "                                                         115]},\n",
       "                   random_state=42, scoring='neg_mean_squared_error',\n",
       "                   verbose=10)"
      ]
     },
     "execution_count": 82,
     "metadata": {},
     "output_type": "execute_result"
    }
   ],
   "source": [
    "params = { 'max_depth': [2, 3, 4, 5, 6,10],\n",
    "           'learning_rate': [0.001, 0.01, 0.05, 0.1],\n",
    "           'n_estimators': [i for i in range(5, 120, 5)],\n",
    "           'colsample_bytree': [0.1, 0.3, 0.7]}\n",
    "\n",
    "regressor_tuned = XGBRegressor()\n",
    "\n",
    "regress = RandomizedSearchCV(estimator=regressor_tuned, \n",
    "                             param_distributions=params,\n",
    "                             scoring='neg_mean_squared_error', \n",
    "                             verbose=10,\n",
    "                             n_iter = 20,\n",
    "                             cv = 3,\n",
    "                             random_state=42)\n",
    "\n",
    "regress.fit(training_data[all_vars], Y_train)"
   ]
  },
  {
   "cell_type": "code",
   "execution_count": 83,
   "id": "9bb81809",
   "metadata": {},
   "outputs": [
    {
     "name": "stdout",
     "output_type": "stream",
     "text": [
      "Best parameters: {'n_estimators': 75, 'max_depth': 6, 'learning_rate': 0.1, 'colsample_bytree': 0.7}\n",
      "Lowest RMSE:  5.536704445420164\n",
      "explained_variance:  0.677\n",
      "r2:  0.6769\n",
      "MAE:  4.0762\n",
      "MSE:  30.551\n",
      "RMSE:  5.5273\n"
     ]
    }
   ],
   "source": [
    "print(\"Best parameters:\", regress.best_params_)\n",
    "print(\"Lowest RMSE: \", (-regress.best_score_)**(1/2.0))\n",
    "y_pred = regress.predict(test_data[all_vars])\n",
    "\n",
    "regression_results(Y_test, y_pred)"
   ]
  },
  {
   "cell_type": "code",
   "execution_count": 84,
   "id": "7224ec09",
   "metadata": {},
   "outputs": [],
   "source": [
    "best = regress.best_params_"
   ]
  },
  {
   "cell_type": "code",
   "execution_count": 85,
   "id": "7def5fd2",
   "metadata": {},
   "outputs": [],
   "source": [
    "xgb = XGBRegressor(n_estimators = best['n_estimators'], max_depth = best['max_depth'],\n",
    "                  learning_rate = best['learning_rate'], colsample_bytree = best['colsample_bytree']\n",
    "                  )\n"
   ]
  },
  {
   "cell_type": "code",
   "execution_count": 86,
   "id": "055b0417",
   "metadata": {},
   "outputs": [
    {
     "data": {
      "text/plain": [
       "XGBRegressor(base_score=0.5, booster='gbtree', colsample_bylevel=1,\n",
       "             colsample_bynode=1, colsample_bytree=0.7, enable_categorical=False,\n",
       "             gamma=0, gpu_id=-1, importance_type=None,\n",
       "             interaction_constraints='', learning_rate=0.1, max_delta_step=0,\n",
       "             max_depth=6, min_child_weight=1, missing=nan,\n",
       "             monotone_constraints='()', n_estimators=75, n_jobs=16,\n",
       "             num_parallel_tree=1, predictor='auto', random_state=0, reg_alpha=0,\n",
       "             reg_lambda=1, scale_pos_weight=1, subsample=1, tree_method='exact',\n",
       "             validate_parameters=1, verbosity=None)"
      ]
     },
     "execution_count": 86,
     "metadata": {},
     "output_type": "execute_result"
    }
   ],
   "source": [
    "xgb.fit(training_data[all_vars], training_data[y_variable])"
   ]
  },
  {
   "cell_type": "code",
   "execution_count": 87,
   "id": "0023b429",
   "metadata": {},
   "outputs": [
    {
     "name": "stdout",
     "output_type": "stream",
     "text": [
      "explained_variance:  0.7284\n",
      "r2:  0.7284\n",
      "MAE:  3.7745\n",
      "MSE:  25.2034\n",
      "RMSE:  5.0203\n"
     ]
    }
   ],
   "source": [
    "regression_results(Y_train, xgb.predict(training_data[all_vars]))"
   ]
  },
  {
   "cell_type": "code",
   "execution_count": 88,
   "id": "9c3a7a1a",
   "metadata": {},
   "outputs": [
    {
     "name": "stdout",
     "output_type": "stream",
     "text": [
      "explained_variance:  0.677\n",
      "r2:  0.6769\n",
      "MAE:  4.0762\n",
      "MSE:  30.551\n",
      "RMSE:  5.5273\n"
     ]
    }
   ],
   "source": [
    "regression_results(Y_test, xgb.predict(test_data[all_vars]))"
   ]
  },
  {
   "cell_type": "code",
   "execution_count": 89,
   "id": "e2a6525f",
   "metadata": {},
   "outputs": [
    {
     "name": "stdout",
     "output_type": "stream",
     "text": [
      "[0.01255804 0.00514598 0.01229521 0.00965409 0.00886886 0.00376771\n",
      " 0.00722946 0.06684173 0.075543   0.02962485 0.04593682 0.03472873\n",
      " 0.02433068 0.02605685 0.07389852 0.05020751 0.09739153 0.05382211\n",
      " 0.01361253 0.02182147 0.00888229 0.01169905 0.00927983 0.00671406\n",
      " 0.00594201 0.0122807  0.27186638]\n",
      "27\n"
     ]
    }
   ],
   "source": [
    "print(xgb.feature_importances_)\n",
    "print(xgb.n_features_in_)"
   ]
  },
  {
   "cell_type": "code",
   "execution_count": 90,
   "id": "0041563d",
   "metadata": {},
   "outputs": [
    {
     "data": {
      "text/plain": [
       "<bound method XGBModel.get_params of XGBRegressor(base_score=0.5, booster='gbtree', colsample_bylevel=1,\n",
       "             colsample_bynode=1, colsample_bytree=0.7, enable_categorical=False,\n",
       "             gamma=0, gpu_id=-1, importance_type=None,\n",
       "             interaction_constraints='', learning_rate=0.1, max_delta_step=0,\n",
       "             max_depth=6, min_child_weight=1, missing=nan,\n",
       "             monotone_constraints='()', n_estimators=75, n_jobs=16,\n",
       "             num_parallel_tree=1, predictor='auto', random_state=0, reg_alpha=0,\n",
       "             reg_lambda=1, scale_pos_weight=1, subsample=1, tree_method='exact',\n",
       "             validate_parameters=1, verbosity=None)>"
      ]
     },
     "execution_count": 90,
     "metadata": {},
     "output_type": "execute_result"
    }
   ],
   "source": [
    "xgb.get_params"
   ]
  },
  {
   "cell_type": "code",
   "execution_count": 91,
   "id": "def3a383",
   "metadata": {},
   "outputs": [
    {
     "name": "stdout",
     "output_type": "stream",
     "text": [
      "pct_internet\n",
      "pct_computing_device\n",
      "pct_internet_broadband_any_type\n",
      "pct_computing_device_with_broadband\n",
      "Ookla Median Download Speed (Mbps)\n",
      "pct_internet_broadband_satellite\n",
      "Wired_Provider_Count_25\n",
      "pct_hisp_latino\n",
      "pct_pop_income_gt_100k\n",
      "pct_pop_foreign_born\n",
      "ave_family_size\n",
      "log_median_house_value\n",
      "median_house_value\n",
      "pct_white\n",
      "log_median_income\n",
      "pct_pop_hs+\n",
      "median_income\n",
      "ATT_present\n",
      "employment_rate\n",
      "ave_household_size\n",
      "pct_pop_some_college\n",
      "population_density\n",
      "pct_pop_disability\n",
      "median_age_overall\n",
      "pct_ages_lt_19\n",
      "log_median_income_over_log_median_house\n",
      "pct_only_smartphone\n"
     ]
    }
   ],
   "source": [
    "for i in all_vars:\n",
    "    print(i)"
   ]
  },
  {
   "cell_type": "code",
   "execution_count": 92,
   "id": "28d30d1a",
   "metadata": {},
   "outputs": [
    {
     "name": "stdout",
     "output_type": "stream",
     "text": [
      "0.012558043\n",
      "0.0051459805\n",
      "0.0122952135\n",
      "0.009654087\n",
      "0.008868862\n",
      "0.003767705\n",
      "0.00722946\n",
      "0.06684173\n",
      "0.075543\n",
      "0.029624851\n",
      "0.04593682\n",
      "0.03472873\n",
      "0.024330685\n",
      "0.026056847\n",
      "0.07389852\n",
      "0.050207514\n",
      "0.09739153\n",
      "0.05382211\n",
      "0.013612526\n",
      "0.021821469\n",
      "0.008882291\n",
      "0.011699048\n",
      "0.009279832\n",
      "0.0067140614\n",
      "0.005942008\n",
      "0.012280703\n",
      "0.27186638\n"
     ]
    }
   ],
   "source": [
    "for i in xgb.feature_importances_:\n",
    "    print(i)"
   ]
  },
  {
   "cell_type": "code",
   "execution_count": null,
   "id": "e677539f",
   "metadata": {},
   "outputs": [],
   "source": []
  }
 ],
 "metadata": {
  "kernelspec": {
   "display_name": "Python 3",
   "language": "python",
   "name": "python3"
  },
  "language_info": {
   "codemirror_mode": {
    "name": "ipython",
    "version": 3
   },
   "file_extension": ".py",
   "mimetype": "text/x-python",
   "name": "python",
   "nbconvert_exporter": "python",
   "pygments_lexer": "ipython3",
   "version": "3.8.10"
  }
 },
 "nbformat": 4,
 "nbformat_minor": 5
}
