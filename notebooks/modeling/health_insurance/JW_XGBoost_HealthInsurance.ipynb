{
 "cells": [
  {
   "cell_type": "markdown",
   "id": "4d80f089",
   "metadata": {},
   "source": [
    "## Imports, Reading Data, Setting up tests"
   ]
  },
  {
   "cell_type": "code",
   "execution_count": 2,
   "id": "52f77ccb",
   "metadata": {},
   "outputs": [],
   "source": [
    "import pandas as pd\n",
    "import numpy as np\n",
    "import sklearn.metrics as metrics\n",
    "from xgboost import XGBRegressor\n",
    "from sklearn.model_selection import GridSearchCV\n",
    "from sklearn.model_selection import RandomizedSearchCV\n"
   ]
  },
  {
   "cell_type": "code",
   "execution_count": 36,
   "id": "69659d00",
   "metadata": {},
   "outputs": [],
   "source": [
    "training_data = pd.read_csv(\"../data/train_3.csv\")\n",
    "test_data = pd.read_csv(\"../data/test_3.csv\")"
   ]
  },
  {
   "cell_type": "code",
   "execution_count": 55,
   "id": "22daf955",
   "metadata": {},
   "outputs": [],
   "source": [
    "y_variable = 'pct_health_ins_19_64'\n",
    "\n",
    "broadband_vars3 = ['pct_internet',  'pct_only_smartphone',\n",
    "                   'pct_internet_broadband_fiber','Ookla Median Download Speed (Mbps)',\n",
    "                  'pct_no_computing_device', 'Comcast_present',\n",
    " 'ATT_present',\n",
    " 'VSAT_present',\n",
    " 'Century_Link_present',\n",
    " 'Spectrum_present',\n",
    " 'Crown_Castle_present',\n",
    " 'Etheric_present',\n",
    " 'Frontier_Communications_present',]\n",
    "\n",
    "broadband_vars = broadband_vars3"
   ]
  },
  {
   "cell_type": "code",
   "execution_count": 56,
   "id": "067d7f5a",
   "metadata": {},
   "outputs": [],
   "source": [
    "covariates = ['log_median_income', 'pct_hisp_latino', 'pct_white',\n",
    "              'log_median_income_over_log_median_house',  \n",
    "             'pct_pop_foreign_born', 'pct_pop_disability', 'employment_rate', 'median_age_overall',\n",
    "             'pct_ages_lt_19',\n",
    " 'ruca_metro',\n",
    " 'ruca_micro',\n",
    " 'ruca_small_town',\n",
    " 'ruca_rural',]"
   ]
  },
  {
   "cell_type": "code",
   "execution_count": 57,
   "id": "c1535377",
   "metadata": {},
   "outputs": [],
   "source": [
    "all_vars = broadband_vars.copy()\n",
    "all_vars.extend(covariates)"
   ]
  },
  {
   "cell_type": "markdown",
   "id": "267f61ba",
   "metadata": {},
   "source": [
    "## Modeling"
   ]
  },
  {
   "cell_type": "markdown",
   "id": "11edc941",
   "metadata": {},
   "source": [
    "### Functions"
   ]
  },
  {
   "cell_type": "code",
   "execution_count": 58,
   "id": "ebab78c0",
   "metadata": {},
   "outputs": [],
   "source": [
    "def regression_results(y_true, y_pred):\n",
    "\n",
    "    # Regression metrics\n",
    "    explained_variance=metrics.explained_variance_score(y_true, y_pred)\n",
    "    mean_absolute_error=metrics.mean_absolute_error(y_true, y_pred) \n",
    "    mse=metrics.mean_squared_error(y_true, y_pred) \n",
    "    median_absolute_error=metrics.median_absolute_error(y_true, y_pred)\n",
    "    r2=metrics.r2_score(y_true, y_pred)\n",
    "\n",
    "    print('explained_variance: ', round(explained_variance,4))    \n",
    "    print('r2: ', round(r2,4))\n",
    "    print('MAE: ', round(mean_absolute_error,4))\n",
    "    print('MSE: ', round(mse,4))\n",
    "    print('RMSE: ', round(np.sqrt(mse),4))"
   ]
  },
  {
   "cell_type": "code",
   "execution_count": 59,
   "id": "787c72cc",
   "metadata": {},
   "outputs": [],
   "source": [
    "Y_train = np.array(training_data['pct_health_ins_19_64'])\n",
    "Y_test = np.array(test_data['pct_health_ins_19_64'])\n",
    "\n",
    "def XGBoost_model(train_df, \n",
    "                          test_df, \n",
    "                          variable_list,\n",
    "                          Y_train = Y_train,  \n",
    "                          Y_test = Y_test):\n",
    "    train_variables = np.array(train_df[variable_list])\n",
    "    test_variables = np.array(test_df[variable_list])\n",
    "    \n",
    "    model = XGBRegressor().fit(train_variables, Y_train)\n",
    "    predicted = model.predict(test_variables)\n",
    "    \n",
    "    regression_results(Y_test, predicted)\n",
    "    \n",
    "    return pd.DataFrame(model.feature_importances_, \n",
    "                        index = variable_list).sort_values(by=0, ascending = False)\n"
   ]
  },
  {
   "cell_type": "markdown",
   "id": "96e5e74e",
   "metadata": {},
   "source": [
    "## Tuning the model"
   ]
  },
  {
   "cell_type": "code",
   "execution_count": 60,
   "id": "ed791899",
   "metadata": {
    "scrolled": true
   },
   "outputs": [
    {
     "name": "stdout",
     "output_type": "stream",
     "text": [
      "Fitting 3 folds for each of 20 candidates, totalling 60 fits\n",
      "[CV 1/3; 1/20] START colsample_bytree=0.7, learning_rate=0.05, max_depth=5, n_estimators=75\n",
      "[CV 1/3; 1/20] END colsample_bytree=0.7, learning_rate=0.05, max_depth=5, n_estimators=75;, score=-38.377 total time=   1.5s\n",
      "[CV 2/3; 1/20] START colsample_bytree=0.7, learning_rate=0.05, max_depth=5, n_estimators=75\n",
      "[CV 2/3; 1/20] END colsample_bytree=0.7, learning_rate=0.05, max_depth=5, n_estimators=75;, score=-38.611 total time=   1.5s\n",
      "[CV 3/3; 1/20] START colsample_bytree=0.7, learning_rate=0.05, max_depth=5, n_estimators=75\n",
      "[CV 3/3; 1/20] END colsample_bytree=0.7, learning_rate=0.05, max_depth=5, n_estimators=75;, score=-38.308 total time=   1.4s\n",
      "[CV 1/3; 2/20] START colsample_bytree=0.1, learning_rate=0.05, max_depth=10, n_estimators=115\n",
      "[CV 1/3; 2/20] END colsample_bytree=0.1, learning_rate=0.05, max_depth=10, n_estimators=115;, score=-47.327 total time=   1.7s\n",
      "[CV 2/3; 2/20] START colsample_bytree=0.1, learning_rate=0.05, max_depth=10, n_estimators=115\n",
      "[CV 2/3; 2/20] END colsample_bytree=0.1, learning_rate=0.05, max_depth=10, n_estimators=115;, score=-46.812 total time=   1.7s\n",
      "[CV 3/3; 2/20] START colsample_bytree=0.1, learning_rate=0.05, max_depth=10, n_estimators=115\n",
      "[CV 3/3; 2/20] END colsample_bytree=0.1, learning_rate=0.05, max_depth=10, n_estimators=115;, score=-46.430 total time=   1.8s\n",
      "[CV 1/3; 3/20] START colsample_bytree=0.3, learning_rate=0.05, max_depth=2, n_estimators=55\n",
      "[CV 1/3; 3/20] END colsample_bytree=0.3, learning_rate=0.05, max_depth=2, n_estimators=55;, score=-75.864 total time=   0.4s\n",
      "[CV 2/3; 3/20] START colsample_bytree=0.3, learning_rate=0.05, max_depth=2, n_estimators=55\n",
      "[CV 2/3; 3/20] END colsample_bytree=0.3, learning_rate=0.05, max_depth=2, n_estimators=55;, score=-75.253 total time=   0.5s\n",
      "[CV 3/3; 3/20] START colsample_bytree=0.3, learning_rate=0.05, max_depth=2, n_estimators=55\n",
      "[CV 3/3; 3/20] END colsample_bytree=0.3, learning_rate=0.05, max_depth=2, n_estimators=55;, score=-75.061 total time=   0.5s\n",
      "[CV 1/3; 4/20] START colsample_bytree=0.1, learning_rate=0.1, max_depth=5, n_estimators=40\n",
      "[CV 1/3; 4/20] END colsample_bytree=0.1, learning_rate=0.1, max_depth=5, n_estimators=40;, score=-51.973 total time=   0.5s\n",
      "[CV 2/3; 4/20] START colsample_bytree=0.1, learning_rate=0.1, max_depth=5, n_estimators=40\n",
      "[CV 2/3; 4/20] END colsample_bytree=0.1, learning_rate=0.1, max_depth=5, n_estimators=40;, score=-51.154 total time=   0.5s\n",
      "[CV 3/3; 4/20] START colsample_bytree=0.1, learning_rate=0.1, max_depth=5, n_estimators=40\n",
      "[CV 3/3; 4/20] END colsample_bytree=0.1, learning_rate=0.1, max_depth=5, n_estimators=40;, score=-50.757 total time=   0.4s\n",
      "[CV 1/3; 5/20] START colsample_bytree=0.7, learning_rate=0.01, max_depth=10, n_estimators=70\n",
      "[CV 1/3; 5/20] END colsample_bytree=0.7, learning_rate=0.01, max_depth=10, n_estimators=70;, score=-1902.206 total time=   2.4s\n",
      "[CV 2/3; 5/20] START colsample_bytree=0.7, learning_rate=0.01, max_depth=10, n_estimators=70\n",
      "[CV 2/3; 5/20] END colsample_bytree=0.7, learning_rate=0.01, max_depth=10, n_estimators=70;, score=-1907.230 total time=   2.4s\n",
      "[CV 3/3; 5/20] START colsample_bytree=0.7, learning_rate=0.01, max_depth=10, n_estimators=70\n",
      "[CV 3/3; 5/20] END colsample_bytree=0.7, learning_rate=0.01, max_depth=10, n_estimators=70;, score=-1904.678 total time=   2.9s\n",
      "[CV 1/3; 6/20] START colsample_bytree=0.7, learning_rate=0.1, max_depth=2, n_estimators=115\n",
      "[CV 1/3; 6/20] END colsample_bytree=0.7, learning_rate=0.1, max_depth=2, n_estimators=115;, score=-38.808 total time=   1.3s\n",
      "[CV 2/3; 6/20] START colsample_bytree=0.7, learning_rate=0.1, max_depth=2, n_estimators=115\n",
      "[CV 2/3; 6/20] END colsample_bytree=0.7, learning_rate=0.1, max_depth=2, n_estimators=115;, score=-39.184 total time=   1.8s\n",
      "[CV 3/3; 6/20] START colsample_bytree=0.7, learning_rate=0.1, max_depth=2, n_estimators=115\n",
      "[CV 3/3; 6/20] END colsample_bytree=0.7, learning_rate=0.1, max_depth=2, n_estimators=115;, score=-38.575 total time=   1.6s\n",
      "[CV 1/3; 7/20] START colsample_bytree=0.7, learning_rate=0.1, max_depth=6, n_estimators=75\n",
      "[CV 1/3; 7/20] END colsample_bytree=0.7, learning_rate=0.1, max_depth=6, n_estimators=75;, score=-32.349 total time=   2.7s\n",
      "[CV 2/3; 7/20] START colsample_bytree=0.7, learning_rate=0.1, max_depth=6, n_estimators=75\n",
      "[CV 2/3; 7/20] END colsample_bytree=0.7, learning_rate=0.1, max_depth=6, n_estimators=75;, score=-32.545 total time=   2.5s\n",
      "[CV 3/3; 7/20] START colsample_bytree=0.7, learning_rate=0.1, max_depth=6, n_estimators=75\n",
      "[CV 3/3; 7/20] END colsample_bytree=0.7, learning_rate=0.1, max_depth=6, n_estimators=75;, score=-32.433 total time=   2.5s\n",
      "[CV 1/3; 8/20] START colsample_bytree=0.1, learning_rate=0.1, max_depth=3, n_estimators=10\n",
      "[CV 1/3; 8/20] END colsample_bytree=0.1, learning_rate=0.1, max_depth=3, n_estimators=10;, score=-990.728 total time=   0.1s\n",
      "[CV 2/3; 8/20] START colsample_bytree=0.1, learning_rate=0.1, max_depth=3, n_estimators=10\n",
      "[CV 2/3; 8/20] END colsample_bytree=0.1, learning_rate=0.1, max_depth=3, n_estimators=10;, score=-995.845 total time=   0.1s\n",
      "[CV 3/3; 8/20] START colsample_bytree=0.1, learning_rate=0.1, max_depth=3, n_estimators=10\n",
      "[CV 3/3; 8/20] END colsample_bytree=0.1, learning_rate=0.1, max_depth=3, n_estimators=10;, score=-992.582 total time=   0.1s\n",
      "[CV 1/3; 9/20] START colsample_bytree=0.3, learning_rate=0.01, max_depth=3, n_estimators=40\n",
      "[CV 1/3; 9/20] END colsample_bytree=0.3, learning_rate=0.01, max_depth=3, n_estimators=40;, score=-3446.167 total time=   0.4s\n",
      "[CV 2/3; 9/20] START colsample_bytree=0.3, learning_rate=0.01, max_depth=3, n_estimators=40\n",
      "[CV 2/3; 9/20] END colsample_bytree=0.3, learning_rate=0.01, max_depth=3, n_estimators=40;, score=-3457.036 total time=   0.4s\n",
      "[CV 3/3; 9/20] START colsample_bytree=0.3, learning_rate=0.01, max_depth=3, n_estimators=40\n",
      "[CV 3/3; 9/20] END colsample_bytree=0.3, learning_rate=0.01, max_depth=3, n_estimators=40;, score=-3450.915 total time=   0.4s\n",
      "[CV 1/3; 10/20] START colsample_bytree=0.7, learning_rate=0.01, max_depth=5, n_estimators=20\n",
      "[CV 1/3; 10/20] END colsample_bytree=0.7, learning_rate=0.01, max_depth=5, n_estimators=20;, score=-5119.889 total time=   0.5s\n",
      "[CV 2/3; 10/20] START colsample_bytree=0.7, learning_rate=0.01, max_depth=5, n_estimators=20\n",
      "[CV 2/3; 10/20] END colsample_bytree=0.7, learning_rate=0.01, max_depth=5, n_estimators=20;, score=-5133.266 total time=   0.5s\n",
      "[CV 3/3; 10/20] START colsample_bytree=0.7, learning_rate=0.01, max_depth=5, n_estimators=20\n",
      "[CV 3/3; 10/20] END colsample_bytree=0.7, learning_rate=0.01, max_depth=5, n_estimators=20;, score=-5125.378 total time=   0.5s\n",
      "[CV 1/3; 11/20] START colsample_bytree=0.1, learning_rate=0.01, max_depth=10, n_estimators=90\n",
      "[CV 1/3; 11/20] END colsample_bytree=0.1, learning_rate=0.01, max_depth=10, n_estimators=90;, score=-1307.251 total time=   0.8s\n",
      "[CV 2/3; 11/20] START colsample_bytree=0.1, learning_rate=0.01, max_depth=10, n_estimators=90\n",
      "[CV 2/3; 11/20] END colsample_bytree=0.1, learning_rate=0.01, max_depth=10, n_estimators=90;, score=-1314.074 total time=   0.8s\n",
      "[CV 3/3; 11/20] START colsample_bytree=0.1, learning_rate=0.01, max_depth=10, n_estimators=90\n",
      "[CV 3/3; 11/20] END colsample_bytree=0.1, learning_rate=0.01, max_depth=10, n_estimators=90;, score=-1310.187 total time=   0.8s\n",
      "[CV 1/3; 12/20] START colsample_bytree=0.7, learning_rate=0.1, max_depth=5, n_estimators=70\n",
      "[CV 1/3; 12/20] END colsample_bytree=0.7, learning_rate=0.1, max_depth=5, n_estimators=70;, score=-33.475 total time=   2.0s\n",
      "[CV 2/3; 12/20] START colsample_bytree=0.7, learning_rate=0.1, max_depth=5, n_estimators=70\n",
      "[CV 2/3; 12/20] END colsample_bytree=0.7, learning_rate=0.1, max_depth=5, n_estimators=70;, score=-33.447 total time=   1.8s\n",
      "[CV 3/3; 12/20] START colsample_bytree=0.7, learning_rate=0.1, max_depth=5, n_estimators=70\n",
      "[CV 3/3; 12/20] END colsample_bytree=0.7, learning_rate=0.1, max_depth=5, n_estimators=70;, score=-33.158 total time=   1.9s\n",
      "[CV 1/3; 13/20] START colsample_bytree=0.3, learning_rate=0.001, max_depth=4, n_estimators=100\n",
      "[CV 1/3; 13/20] END colsample_bytree=0.3, learning_rate=0.001, max_depth=4, n_estimators=100;, score=-6255.884 total time=   1.3s\n",
      "[CV 2/3; 13/20] START colsample_bytree=0.3, learning_rate=0.001, max_depth=4, n_estimators=100\n"
     ]
    },
    {
     "name": "stdout",
     "output_type": "stream",
     "text": [
      "[CV 2/3; 13/20] END colsample_bytree=0.3, learning_rate=0.001, max_depth=4, n_estimators=100;, score=-6272.887 total time=   1.2s\n",
      "[CV 3/3; 13/20] START colsample_bytree=0.3, learning_rate=0.001, max_depth=4, n_estimators=100\n",
      "[CV 3/3; 13/20] END colsample_bytree=0.3, learning_rate=0.001, max_depth=4, n_estimators=100;, score=-6262.515 total time=   1.2s\n",
      "[CV 1/3; 14/20] START colsample_bytree=0.7, learning_rate=0.1, max_depth=5, n_estimators=60\n",
      "[CV 1/3; 14/20] END colsample_bytree=0.7, learning_rate=0.1, max_depth=5, n_estimators=60;, score=-33.837 total time=   1.5s\n",
      "[CV 2/3; 14/20] START colsample_bytree=0.7, learning_rate=0.1, max_depth=5, n_estimators=60\n",
      "[CV 2/3; 14/20] END colsample_bytree=0.7, learning_rate=0.1, max_depth=5, n_estimators=60;, score=-33.786 total time=   1.6s\n",
      "[CV 3/3; 14/20] START colsample_bytree=0.7, learning_rate=0.1, max_depth=5, n_estimators=60\n",
      "[CV 3/3; 14/20] END colsample_bytree=0.7, learning_rate=0.1, max_depth=5, n_estimators=60;, score=-33.497 total time=   1.6s\n",
      "[CV 1/3; 15/20] START colsample_bytree=0.1, learning_rate=0.01, max_depth=5, n_estimators=20\n",
      "[CV 1/3; 15/20] END colsample_bytree=0.1, learning_rate=0.01, max_depth=5, n_estimators=20;, score=-5129.247 total time=   0.2s\n",
      "[CV 2/3; 15/20] START colsample_bytree=0.1, learning_rate=0.01, max_depth=5, n_estimators=20\n",
      "[CV 2/3; 15/20] END colsample_bytree=0.1, learning_rate=0.01, max_depth=5, n_estimators=20;, score=-5145.149 total time=   0.2s\n",
      "[CV 3/3; 15/20] START colsample_bytree=0.1, learning_rate=0.01, max_depth=5, n_estimators=20\n",
      "[CV 3/3; 15/20] END colsample_bytree=0.1, learning_rate=0.01, max_depth=5, n_estimators=20;, score=-5135.268 total time=   0.2s\n",
      "[CV 1/3; 16/20] START colsample_bytree=0.7, learning_rate=0.1, max_depth=5, n_estimators=75\n",
      "[CV 1/3; 16/20] END colsample_bytree=0.7, learning_rate=0.1, max_depth=5, n_estimators=75;, score=-33.357 total time=   2.1s\n",
      "[CV 2/3; 16/20] START colsample_bytree=0.7, learning_rate=0.1, max_depth=5, n_estimators=75\n",
      "[CV 2/3; 16/20] END colsample_bytree=0.7, learning_rate=0.1, max_depth=5, n_estimators=75;, score=-33.310 total time=   2.0s\n",
      "[CV 3/3; 16/20] START colsample_bytree=0.7, learning_rate=0.1, max_depth=5, n_estimators=75\n",
      "[CV 3/3; 16/20] END colsample_bytree=0.7, learning_rate=0.1, max_depth=5, n_estimators=75;, score=-33.059 total time=   2.0s\n",
      "[CV 1/3; 17/20] START colsample_bytree=0.7, learning_rate=0.001, max_depth=3, n_estimators=80\n",
      "[CV 1/3; 17/20] END colsample_bytree=0.7, learning_rate=0.001, max_depth=3, n_estimators=80;, score=-6508.046 total time=   1.3s\n",
      "[CV 2/3; 17/20] START colsample_bytree=0.7, learning_rate=0.001, max_depth=3, n_estimators=80\n",
      "[CV 2/3; 17/20] END colsample_bytree=0.7, learning_rate=0.001, max_depth=3, n_estimators=80;, score=-6525.180 total time=   1.2s\n",
      "[CV 3/3; 17/20] START colsample_bytree=0.7, learning_rate=0.001, max_depth=3, n_estimators=80\n",
      "[CV 3/3; 17/20] END colsample_bytree=0.7, learning_rate=0.001, max_depth=3, n_estimators=80;, score=-6514.370 total time=   1.3s\n",
      "[CV 1/3; 18/20] START colsample_bytree=0.7, learning_rate=0.001, max_depth=5, n_estimators=10\n",
      "[CV 1/3; 18/20] END colsample_bytree=0.7, learning_rate=0.001, max_depth=5, n_estimators=10;, score=-7478.261 total time=   0.4s\n",
      "[CV 2/3; 18/20] START colsample_bytree=0.7, learning_rate=0.001, max_depth=5, n_estimators=10\n",
      "[CV 2/3; 18/20] END colsample_bytree=0.7, learning_rate=0.001, max_depth=5, n_estimators=10;, score=-7497.293 total time=   0.3s\n",
      "[CV 3/3; 18/20] START colsample_bytree=0.7, learning_rate=0.001, max_depth=5, n_estimators=10\n",
      "[CV 3/3; 18/20] END colsample_bytree=0.7, learning_rate=0.001, max_depth=5, n_estimators=10;, score=-7485.393 total time=   0.4s\n",
      "[CV 1/3; 19/20] START colsample_bytree=0.1, learning_rate=0.05, max_depth=6, n_estimators=80\n",
      "[CV 1/3; 19/20] END colsample_bytree=0.1, learning_rate=0.05, max_depth=6, n_estimators=80;, score=-52.731 total time=   1.1s\n",
      "[CV 2/3; 19/20] START colsample_bytree=0.1, learning_rate=0.05, max_depth=6, n_estimators=80\n",
      "[CV 2/3; 19/20] END colsample_bytree=0.1, learning_rate=0.05, max_depth=6, n_estimators=80;, score=-51.972 total time=   1.0s\n",
      "[CV 3/3; 19/20] START colsample_bytree=0.1, learning_rate=0.05, max_depth=6, n_estimators=80\n",
      "[CV 3/3; 19/20] END colsample_bytree=0.1, learning_rate=0.05, max_depth=6, n_estimators=80;, score=-51.621 total time=   1.1s\n",
      "[CV 1/3; 20/20] START colsample_bytree=0.1, learning_rate=0.01, max_depth=6, n_estimators=55\n",
      "[CV 1/3; 20/20] END colsample_bytree=0.1, learning_rate=0.01, max_depth=6, n_estimators=55;, score=-2573.951 total time=   0.6s\n",
      "[CV 2/3; 20/20] START colsample_bytree=0.1, learning_rate=0.01, max_depth=6, n_estimators=55\n",
      "[CV 2/3; 20/20] END colsample_bytree=0.1, learning_rate=0.01, max_depth=6, n_estimators=55;, score=-2584.714 total time=   0.6s\n",
      "[CV 3/3; 20/20] START colsample_bytree=0.1, learning_rate=0.01, max_depth=6, n_estimators=55\n",
      "[CV 3/3; 20/20] END colsample_bytree=0.1, learning_rate=0.01, max_depth=6, n_estimators=55;, score=-2578.431 total time=   0.6s\n"
     ]
    },
    {
     "data": {
      "text/plain": [
       "RandomizedSearchCV(cv=3,\n",
       "                   estimator=XGBRegressor(base_score=None, booster=None,\n",
       "                                          colsample_bylevel=None,\n",
       "                                          colsample_bynode=None,\n",
       "                                          colsample_bytree=None,\n",
       "                                          enable_categorical=False, gamma=None,\n",
       "                                          gpu_id=None, importance_type=None,\n",
       "                                          interaction_constraints=None,\n",
       "                                          learning_rate=None,\n",
       "                                          max_delta_step=None, max_depth=None,\n",
       "                                          min_child_weight=None, missing=nan,\n",
       "                                          monotone_constraints=...\n",
       "                                          scale_pos_weight=None, subsample=None,\n",
       "                                          tree_method=None,\n",
       "                                          validate_parameters=None,\n",
       "                                          verbosity=None),\n",
       "                   n_iter=20,\n",
       "                   param_distributions={'colsample_bytree': [0.1, 0.3, 0.7],\n",
       "                                        'learning_rate': [0.001, 0.01, 0.05,\n",
       "                                                          0.1],\n",
       "                                        'max_depth': [2, 3, 4, 5, 6, 10],\n",
       "                                        'n_estimators': [5, 10, 15, 20, 25, 30,\n",
       "                                                         35, 40, 45, 50, 55, 60,\n",
       "                                                         65, 70, 75, 80, 85, 90,\n",
       "                                                         95, 100, 105, 110,\n",
       "                                                         115]},\n",
       "                   random_state=42, scoring='neg_mean_squared_error',\n",
       "                   verbose=10)"
      ]
     },
     "execution_count": 60,
     "metadata": {},
     "output_type": "execute_result"
    }
   ],
   "source": [
    "params = { 'max_depth': [2, 3, 4, 5, 6,10],\n",
    "           'learning_rate': [0.001, 0.01, 0.05, 0.1],\n",
    "           'n_estimators': [i for i in range(5, 120, 5)],\n",
    "           'colsample_bytree': [0.1, 0.3, 0.7]}\n",
    "\n",
    "regressor_tuned = XGBRegressor()\n",
    "\n",
    "regress = RandomizedSearchCV(estimator=regressor_tuned, \n",
    "                             param_distributions=params,\n",
    "                             scoring='neg_mean_squared_error', \n",
    "                             verbose=10,\n",
    "                             n_iter = 20,\n",
    "                             cv = 3,\n",
    "                             random_state=42)\n",
    "\n",
    "regress.fit(training_data[all_vars], Y_train)"
   ]
  },
  {
   "cell_type": "code",
   "execution_count": 61,
   "id": "9bb81809",
   "metadata": {},
   "outputs": [
    {
     "name": "stdout",
     "output_type": "stream",
     "text": [
      "Best parameters: {'n_estimators': 75, 'max_depth': 6, 'learning_rate': 0.1, 'colsample_bytree': 0.7}\n",
      "Lowest RMSE:  5.695801520905957\n",
      "explained_variance:  0.6613\n",
      "r2:  0.6613\n",
      "MAE:  4.1843\n",
      "MSE:  32.0273\n",
      "RMSE:  5.6593\n"
     ]
    }
   ],
   "source": [
    "print(\"Best parameters:\", regress.best_params_)\n",
    "print(\"Lowest RMSE: \", (-regress.best_score_)**(1/2.0))\n",
    "y_pred = regress.predict(test_data[all_vars])\n",
    "\n",
    "regression_results(Y_test, y_pred)"
   ]
  },
  {
   "cell_type": "code",
   "execution_count": 62,
   "id": "7224ec09",
   "metadata": {},
   "outputs": [],
   "source": [
    "best = regress.best_params_"
   ]
  },
  {
   "cell_type": "code",
   "execution_count": 63,
   "id": "7def5fd2",
   "metadata": {},
   "outputs": [],
   "source": [
    "xgb = XGBRegressor(n_estimators = best['n_estimators'], max_depth = best['max_depth'],\n",
    "                  learning_rate = best['learning_rate'], colsample_bytree = best['colsample_bytree']\n",
    "                  )\n"
   ]
  },
  {
   "cell_type": "code",
   "execution_count": 64,
   "id": "055b0417",
   "metadata": {},
   "outputs": [
    {
     "data": {
      "text/plain": [
       "XGBRegressor(base_score=0.5, booster='gbtree', colsample_bylevel=1,\n",
       "             colsample_bynode=1, colsample_bytree=0.7, enable_categorical=False,\n",
       "             gamma=0, gpu_id=-1, importance_type=None,\n",
       "             interaction_constraints='', learning_rate=0.1, max_delta_step=0,\n",
       "             max_depth=6, min_child_weight=1, missing=nan,\n",
       "             monotone_constraints='()', n_estimators=75, n_jobs=16,\n",
       "             num_parallel_tree=1, predictor='auto', random_state=0, reg_alpha=0,\n",
       "             reg_lambda=1, scale_pos_weight=1, subsample=1, tree_method='exact',\n",
       "             validate_parameters=1, verbosity=None)"
      ]
     },
     "execution_count": 64,
     "metadata": {},
     "output_type": "execute_result"
    }
   ],
   "source": [
    "xgb.fit(training_data[all_vars], training_data[y_variable])"
   ]
  },
  {
   "cell_type": "code",
   "execution_count": 65,
   "id": "0023b429",
   "metadata": {},
   "outputs": [
    {
     "name": "stdout",
     "output_type": "stream",
     "text": [
      "explained_variance:  0.7033\n",
      "r2:  0.7033\n",
      "MAE:  3.9345\n",
      "MSE:  27.5308\n",
      "RMSE:  5.247\n"
     ]
    }
   ],
   "source": [
    "regression_results(Y_train, xgb.predict(training_data[all_vars]))"
   ]
  },
  {
   "cell_type": "code",
   "execution_count": 66,
   "id": "9c3a7a1a",
   "metadata": {},
   "outputs": [
    {
     "name": "stdout",
     "output_type": "stream",
     "text": [
      "explained_variance:  0.6613\n",
      "r2:  0.6613\n",
      "MAE:  4.1843\n",
      "MSE:  32.0273\n",
      "RMSE:  5.6593\n"
     ]
    }
   ],
   "source": [
    "regression_results(Y_test, xgb.predict(test_data[all_vars]))"
   ]
  },
  {
   "cell_type": "code",
   "execution_count": 67,
   "id": "e2a6525f",
   "metadata": {},
   "outputs": [
    {
     "name": "stdout",
     "output_type": "stream",
     "text": [
      "[0.04634965 0.21896054 0.00612713 0.01480277 0.01486708 0.0130442\n",
      " 0.0632261  0.00886104 0.00977063 0.01380458 0.03446685 0.01797052\n",
      " 0.01361689 0.18699193 0.10866741 0.05570505 0.0349374  0.04068022\n",
      " 0.01747584 0.01777751 0.01051042 0.01265442 0.01498181 0.00770484\n",
      " 0.00461967 0.01142556]\n",
      "26\n"
     ]
    }
   ],
   "source": [
    "print(xgb.feature_importances_)\n",
    "print(xgb.n_features_in_)"
   ]
  },
  {
   "cell_type": "code",
   "execution_count": 68,
   "id": "0041563d",
   "metadata": {},
   "outputs": [
    {
     "data": {
      "text/plain": [
       "<bound method XGBModel.get_params of XGBRegressor(base_score=0.5, booster='gbtree', colsample_bylevel=1,\n",
       "             colsample_bynode=1, colsample_bytree=0.7, enable_categorical=False,\n",
       "             gamma=0, gpu_id=-1, importance_type=None,\n",
       "             interaction_constraints='', learning_rate=0.1, max_delta_step=0,\n",
       "             max_depth=6, min_child_weight=1, missing=nan,\n",
       "             monotone_constraints='()', n_estimators=75, n_jobs=16,\n",
       "             num_parallel_tree=1, predictor='auto', random_state=0, reg_alpha=0,\n",
       "             reg_lambda=1, scale_pos_weight=1, subsample=1, tree_method='exact',\n",
       "             validate_parameters=1, verbosity=None)>"
      ]
     },
     "execution_count": 68,
     "metadata": {},
     "output_type": "execute_result"
    }
   ],
   "source": [
    "xgb.get_params"
   ]
  },
  {
   "cell_type": "code",
   "execution_count": 69,
   "id": "def3a383",
   "metadata": {},
   "outputs": [
    {
     "name": "stdout",
     "output_type": "stream",
     "text": [
      "pct_internet\n",
      "pct_only_smartphone\n",
      "pct_internet_broadband_fiber\n",
      "Ookla Median Download Speed (Mbps)\n",
      "pct_no_computing_device\n",
      "Comcast_present\n",
      "ATT_present\n",
      "VSAT_present\n",
      "Century_Link_present\n",
      "Spectrum_present\n",
      "Crown_Castle_present\n",
      "Etheric_present\n",
      "Frontier_Communications_present\n",
      "log_median_income\n",
      "pct_hisp_latino\n",
      "pct_white\n",
      "log_median_income_over_log_median_house\n",
      "pct_pop_foreign_born\n",
      "pct_pop_disability\n",
      "employment_rate\n",
      "median_age_overall\n",
      "pct_ages_lt_19\n",
      "ruca_metro\n",
      "ruca_micro\n",
      "ruca_small_town\n",
      "ruca_rural\n"
     ]
    }
   ],
   "source": [
    "for i in all_vars:\n",
    "    print(i)"
   ]
  },
  {
   "cell_type": "code",
   "execution_count": 70,
   "id": "28d30d1a",
   "metadata": {},
   "outputs": [
    {
     "name": "stdout",
     "output_type": "stream",
     "text": [
      "0.046349652\n",
      "0.21896054\n",
      "0.006127128\n",
      "0.014802769\n",
      "0.014867083\n",
      "0.013044201\n",
      "0.063226104\n",
      "0.008861044\n",
      "0.009770633\n",
      "0.013804577\n",
      "0.03446685\n",
      "0.017970525\n",
      "0.013616894\n",
      "0.18699193\n",
      "0.10866741\n",
      "0.055705052\n",
      "0.0349374\n",
      "0.040680222\n",
      "0.017475838\n",
      "0.01777751\n",
      "0.0105104195\n",
      "0.012654421\n",
      "0.014981815\n",
      "0.0077048354\n",
      "0.0046196715\n",
      "0.011425565\n"
     ]
    }
   ],
   "source": [
    "for i in xgb.feature_importances_:\n",
    "    print(i)"
   ]
  },
  {
   "cell_type": "code",
   "execution_count": null,
   "id": "97102f17",
   "metadata": {},
   "outputs": [],
   "source": []
  }
 ],
 "metadata": {
  "kernelspec": {
   "display_name": "Python 3",
   "language": "python",
   "name": "python3"
  },
  "language_info": {
   "codemirror_mode": {
    "name": "ipython",
    "version": 3
   },
   "file_extension": ".py",
   "mimetype": "text/x-python",
   "name": "python",
   "nbconvert_exporter": "python",
   "pygments_lexer": "ipython3",
   "version": "3.8.10"
  }
 },
 "nbformat": 4,
 "nbformat_minor": 5
}
