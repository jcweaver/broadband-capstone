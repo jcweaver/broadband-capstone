{
 "cells": [
  {
   "cell_type": "markdown",
   "metadata": {},
   "source": [
    "# Covariate Discovery Models for XGBoost & RF\n",
    "\n",
    "The majority of this code was based off MH's education model_final. This code builds models using all variables and then generates the top 20 important features in those models. These 20 variables are then used as the initial covariates in the other modelling notebooks."
   ]
  },
  {
   "cell_type": "code",
   "execution_count": 1,
   "metadata": {
    "id": "YO8rBz2Ss2JZ"
   },
   "outputs": [],
   "source": [
    "import pandas as pd\n",
    "import numpy as np\n",
    "import sys\n",
    "import missingno as msno\n",
    "import seaborn as sns\n",
    "import matplotlib.pyplot as plt\n",
    "\n",
    "from sklearn.pipeline import Pipeline\n",
    "from sklearn.compose import ColumnTransformer\n",
    "from sklearn.preprocessing import StandardScaler, OneHotEncoder\n",
    "from sklearn import metrics\n",
    "\n",
    "from sklearn.feature_selection import SelectKBest, f_regression\n",
    "from sklearn.linear_model import LinearRegression\n",
    "from sklearn.model_selection import cross_val_score, train_test_split\n",
    "from sklearn.model_selection import GridSearchCV\n",
    "from sklearn.metrics import mean_squared_error\n",
    "from sklearn.metrics import mean_absolute_error\n",
    "\n",
    "import xgboost as xgb\n",
    "from sklearn.model_selection import cross_val_score, GridSearchCV\n",
    "from sklearn.ensemble import RandomForestRegressor\n",
    "from sklearn.preprocessing import MinMaxScaler\n",
    "from matplotlib import pyplot\n",
    "from sklearn.linear_model import LinearRegression\n",
    "from sklearn.model_selection import RandomizedSearchCV\n",
    "import pickle\n",
    "\n"
   ]
  },
  {
   "cell_type": "code",
   "execution_count": 45,
   "metadata": {},
   "outputs": [],
   "source": [
    "df_broadband_tr = pd.read_csv(\"../../../data/current_data/train_3.csv\")\n",
    "test_data = pd.read_csv(\"../../../data/current_data/test_3.csv\")"
   ]
  },
  {
   "cell_type": "code",
   "execution_count": 46,
   "metadata": {},
   "outputs": [],
   "source": [
    "##drop some variables that are not numerical, highly correlated to dependent varible (bachelors degree)\n",
    "\n",
    "to_drop = ['NAME','DDI','INFA','SE','pct_internet_none', 'pct_health_ins_19_64', 'state', 'county', 'tract_geoid',\n",
    "          'pct_health_ins_children', 'tract', 'pct_health_ins_65+']\n",
    "target = ['pct_health_ins_19_64']\n",
    "\n",
    "X = df_broadband_tr.drop(to_drop, axis = 'columns', inplace=False)\n",
    "y = df_broadband_tr[target]\n",
    "\n",
    "##split into train and test 80/20 random split\n",
    "from sklearn.model_selection import train_test_split\n",
    "X_train_all, X_test_all, y_train_all, y_test_all = train_test_split(X, y, test_size = 0.2, random_state = 0)"
   ]
  },
  {
   "cell_type": "markdown",
   "metadata": {
    "id": "tCpr7Bl6LFxD"
   },
   "source": [
    "## Random Forest"
   ]
  },
  {
   "cell_type": "markdown",
   "metadata": {
    "id": "LDQe7FYu_4qg"
   },
   "source": [
    "### RF 1: Include all variables"
   ]
  },
  {
   "cell_type": "code",
   "execution_count": 47,
   "metadata": {
    "colab": {
     "base_uri": "https://localhost:8080/"
    },
    "id": "vuCGBAETQsfw",
    "outputId": "560878cf-ce91-46c5-c2be-8eb82531d222"
   },
   "outputs": [
    {
     "name": "stderr",
     "output_type": "stream",
     "text": [
      "<ipython-input-47-48da6e6f688e>:7: DataConversionWarning: A column-vector y was passed when a 1d array was expected. Please change the shape of y to (n_samples,), for example using ravel().\n",
      "  rf_rg.fit(X_train_all, y_train_all)\n"
     ]
    },
    {
     "data": {
      "text/plain": [
       "RandomForestRegressor(n_estimators=250, random_state=0)"
      ]
     },
     "execution_count": 47,
     "metadata": {},
     "output_type": "execute_result"
    }
   ],
   "source": [
    "# Fitting Random Forest Regression to the dataset\n",
    "\n",
    "# create regressor object\n",
    "rf_rg = RandomForestRegressor(n_estimators = 250, random_state = 0)\n",
    "\n",
    "# fit the regressor with x and y data\n",
    "rf_rg.fit(X_train_all, y_train_all)\n"
   ]
  },
  {
   "cell_type": "code",
   "execution_count": 48,
   "metadata": {
    "colab": {
     "base_uri": "https://localhost:8080/"
    },
    "id": "bh4py_-qP0qA",
    "outputId": "f5f2e17c-2a77-48ee-8e52-a7fdc4587137"
   },
   "outputs": [
    {
     "data": {
      "text/plain": [
       "array([83.294 , 87.3832, 93.0792, ..., 88.9636, 83.1488, 79.0464])"
      ]
     },
     "execution_count": 48,
     "metadata": {},
     "output_type": "execute_result"
    }
   ],
   "source": [
    "y_pred = rf_rg.predict(X_test_all)\n",
    "y_pred"
   ]
  },
  {
   "cell_type": "markdown",
   "metadata": {
    "id": "FurofQ7jCIX8"
   },
   "source": [
    "#### Feature importance"
   ]
  },
  {
   "cell_type": "code",
   "execution_count": 49,
   "metadata": {
    "colab": {
     "base_uri": "https://localhost:8080/",
     "height": 283
    },
    "id": "pNVFVLay32zq",
    "outputId": "327b5d74-4308-43e1-879b-7f4fe963baeb"
   },
   "outputs": [
    {
     "data": {
      "text/plain": [
       "<AxesSubplot:>"
      ]
     },
     "execution_count": 49,
     "metadata": {},
     "output_type": "execute_result"
    },
    {
     "data": {
      "image/png": "[encoded data removed]",
      "text/plain": [
       "<Figure size 432x288 with 1 Axes>"
      ]
     },
     "metadata": {
      "needs_background": "light"
     },
     "output_type": "display_data"
    }
   ],
   "source": [
    "(pd.Series(rf_rg.feature_importances_, index=X_test_all.columns)\n",
    "   .nlargest(20)[::-1]\n",
    "   .plot(kind='barh')\n",
    "   )  \n",
    "   "
   ]
  },
  {
   "cell_type": "code",
   "execution_count": 50,
   "metadata": {
    "colab": {
     "base_uri": "https://localhost:8080/"
    },
    "id": "1EeY3sUOLA5X",
    "outputId": "53679eaf-df0b-43fc-aafc-789a86706b15"
   },
   "outputs": [
    {
     "name": "stdout",
     "output_type": "stream",
     "text": [
      "pct_only_smartphone       0.237305\n",
      "pct_hisp_latino           0.116615\n",
      "pct_pop_income_gt_100k    0.041990\n",
      "pct_pop_foreign_born      0.038104\n",
      "log_median_house_value    0.024031\n",
      "ave_family_size           0.023874\n",
      "median_house_value        0.023117\n",
      "pct_white                 0.022555\n",
      "log_median_income         0.021409\n",
      "pct_pop_hs+               0.021232\n",
      "median_income             0.020665\n",
      "ATT_present               0.015429\n",
      "employment_rate           0.009676\n",
      "ave_household_size        0.009443\n",
      "pct_pop_some_college      0.008416\n",
      "pct_native                0.007619\n",
      "ALAND                     0.007381\n",
      "population_density        0.006484\n",
      "pct_desktop_or_laptop     0.006414\n",
      "dtype: float64\n"
     ]
    }
   ],
   "source": [
    "top_vars_rf = (pd.Series(rf_rg.feature_importances_, index=X_test_all.columns).nlargest(20)[:-1])\n",
    "print(top_vars_rf)"
   ]
  },
  {
   "cell_type": "code",
   "execution_count": 51,
   "metadata": {},
   "outputs": [
    {
     "data": {
      "text/plain": [
       "Index(['pct_only_smartphone', 'pct_hisp_latino', 'pct_pop_income_gt_100k',\n",
       "       'pct_pop_foreign_born', 'log_median_house_value', 'ave_family_size',\n",
       "       'median_house_value', 'pct_white', 'log_median_income', 'pct_pop_hs+',\n",
       "       'median_income', 'ATT_present', 'employment_rate', 'ave_household_size',\n",
       "       'pct_pop_some_college', 'pct_native', 'ALAND', 'population_density',\n",
       "       'pct_desktop_or_laptop'],\n",
       "      dtype='object')"
      ]
     },
     "execution_count": 51,
     "metadata": {},
     "output_type": "execute_result"
    }
   ],
   "source": [
    "top_vars_rf.index"
   ]
  },
  {
   "cell_type": "markdown",
   "metadata": {
    "id": "FHp1n5BwxKA7"
   },
   "source": [
    "## XGBoost"
   ]
  },
  {
   "cell_type": "code",
   "execution_count": 52,
   "metadata": {
    "id": "McTI6gPy5EYd"
   },
   "outputs": [],
   "source": [
    "xg_reg = xgb.XGBRegressor(objective ='reg:squarederror', colsample_bytree = 0.3, learning_rate = 0.1,\n",
    "                max_depth = 5, alpha = 10, n_estimators = 2500)"
   ]
  },
  {
   "cell_type": "code",
   "execution_count": 53,
   "metadata": {
    "id": "2CUp6tsXxROG"
   },
   "outputs": [],
   "source": [
    "## Here we will tune the below hyperparameters that are usually having a big impact on performance\n",
    "params = {\n",
    "    # Parameters that we are going to tune.\n",
    "    'max_depth':3,\n",
    "    'min_child_weight': 1,\n",
    "    'eta':.3,\n",
    "    'subsample': 1,\n",
    "    'colsample_bytree': 0.3,\n",
    "    'learning_rate' : 0.1,\n",
    "    'alpha': 10,\n",
    "    'n_estimator': 2500,\n",
    "    # Other parameters\n",
    "    'objective':'reg:squarederror',\n",
    "}"
   ]
  },
  {
   "cell_type": "code",
   "execution_count": null,
   "metadata": {
    "id": "9wT5TYRs5Xxn"
   },
   "outputs": [],
   "source": [
    "xg_reg.fit(X_train_all,y_train_all)\n",
    "y_pred = xg_reg.predict(X_test_all)"
   ]
  },
  {
   "cell_type": "markdown",
   "metadata": {
    "id": "dZA8mRDr7vjf"
   },
   "source": [
    "#### Feature Importance"
   ]
  },
  {
   "cell_type": "code",
   "execution_count": null,
   "metadata": {
    "colab": {
     "base_uri": "https://localhost:8080/",
     "height": 380
    },
    "id": "tVHwEhp1JTPq",
    "outputId": "7744fa30-7bca-45c8-a2fd-4228176963cc"
   },
   "outputs": [],
   "source": [
    "(pd.Series(xg_reg.feature_importances_, index=X_test_all.columns)\n",
    "   .nlargest(20)[::-1]\n",
    "   .plot(kind='barh',title=\"XGBOOST Feature Importance - % high school graduation\", xlabel=\"feature\")\n",
    "   )  \n"
   ]
  },
  {
   "cell_type": "code",
   "execution_count": null,
   "metadata": {},
   "outputs": [],
   "source": [
    "top_vars_xgb = (pd.Series(xg_reg.feature_importances_, index=X_test_all.columns).nlargest(20)[:-1])\n",
    "top_vars_xgb.index"
   ]
  }
 ],
 "metadata": {
  "accelerator": "GPU",
  "colab": {
   "collapsed_sections": [
    "62Ni5T55JwFW",
    "aCUMfO2JFNbW",
    "Ohd-zHjL3nDF"
   ],
   "machine_shape": "hm",
   "name": "MH_education_models3.ipynb",
   "provenance": []
  },
  "kernelspec": {
   "display_name": "Python 3",
   "language": "python",
   "name": "python3"
  },
  "language_info": {
   "codemirror_mode": {
    "name": "ipython",
    "version": 3
   },
   "file_extension": ".py",
   "mimetype": "text/x-python",
   "name": "python",
   "nbconvert_exporter": "python",
   "pygments_lexer": "ipython3",
   "version": "3.8.10"
  }
 },
 "nbformat": 4,
 "nbformat_minor": 1
}
