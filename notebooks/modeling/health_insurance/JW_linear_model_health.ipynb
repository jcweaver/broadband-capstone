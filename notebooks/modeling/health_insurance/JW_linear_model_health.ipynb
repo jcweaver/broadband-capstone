{
 "cells": [
  {
   "cell_type": "markdown",
   "id": "583a548a",
   "metadata": {},
   "source": [
    "# Joanie's modelling notebook"
   ]
  },
  {
   "cell_type": "code",
   "execution_count": 1,
   "id": "e3a6ff26",
   "metadata": {},
   "outputs": [],
   "source": [
    "# This tells matplotlib not to try opening a new window for each plot.\n",
    "%matplotlib inline\n",
    "\n",
    "# Import a bunch of libraries.\n",
    "import time\n",
    "import numpy as np\n",
    "import matplotlib.pyplot as plt\n",
    "from matplotlib.ticker import MultipleLocator\n",
    "import sklearn\n",
    "from sklearn.pipeline import Pipeline\n",
    "from sklearn.datasets import fetch_openml\n",
    "from sklearn.neighbors import KNeighborsClassifier\n",
    "from sklearn.metrics import confusion_matrix\n",
    "from sklearn.linear_model import LinearRegression\n",
    "from sklearn.naive_bayes import BernoulliNB\n",
    "from sklearn.naive_bayes import MultinomialNB\n",
    "from sklearn.naive_bayes import GaussianNB\n",
    "from sklearn.model_selection import GridSearchCV\n",
    "from sklearn.metrics import classification_report, mean_squared_error\n",
    "import pandas as pd\n",
    "import statsmodels.api as sm "
   ]
  },
  {
   "cell_type": "code",
   "execution_count": 2,
   "id": "57e7f6ab",
   "metadata": {},
   "outputs": [
    {
     "name": "stdout",
     "output_type": "stream",
     "text": [
      "1.0.2\n"
     ]
    }
   ],
   "source": [
    "print (sklearn.__version__)"
   ]
  },
  {
   "cell_type": "markdown",
   "id": "9a95d206",
   "metadata": {},
   "source": [
    "## Reading in data and some light EDA"
   ]
  },
  {
   "cell_type": "code",
   "execution_count": 3,
   "id": "60f09263",
   "metadata": {},
   "outputs": [
    {
     "data": {
      "text/plain": [
       "{' ', ',', '1', '2', '3', '{', '}'}"
      ]
     },
     "execution_count": 3,
     "metadata": {},
     "output_type": "execute_result"
    }
   ],
   "source": [
    "x = {1,2,3}\n",
    "set(str(x))"
   ]
  },
  {
   "cell_type": "code",
   "execution_count": 4,
   "id": "25e0e5ef",
   "metadata": {},
   "outputs": [],
   "source": [
    "## Reading in the data\n",
    "\n",
    "train = pd.read_csv(\"../data/train_3.csv\")\n",
    "test = pd.read_csv(\"../data/test_3.csv\")"
   ]
  },
  {
   "cell_type": "code",
   "execution_count": 5,
   "id": "5d0a7fa0",
   "metadata": {},
   "outputs": [
    {
     "data": {
      "text/plain": [
       "['Unnamed: 0',\n",
       " 'tract_geoid',\n",
       " 'All_Provider_Count',\n",
       " 'MaxAdDown',\n",
       " 'MaxAdUp',\n",
       " 'Wired_Provider_Count',\n",
       " 'Satellite_Provider_Count',\n",
       " 'Fixed_Wireless_Provider_Count',\n",
       " 'All_Provider_Count_25',\n",
       " 'All_Provider_Count_100',\n",
       " 'Fixed_Wireless_Provider_Count_25',\n",
       " 'Wired_Provider_Count_25',\n",
       " 'Satellite_Provider_Count_25',\n",
       " 'Fixed_Wireless_Provider_Count_100',\n",
       " 'Wired_Provider_Count_100',\n",
       " 'Satellite_Provider_Count_100',\n",
       " 'NAME',\n",
       " 'median_age_overall',\n",
       " 'median_age_male',\n",
       " 'median_age_female',\n",
       " 'state',\n",
       " 'county',\n",
       " 'tract',\n",
       " 'employment_rate',\n",
       " 'median_income',\n",
       " 'total_households',\n",
       " 'ave_household_size',\n",
       " 'ave_family_size',\n",
       " 'pct_health_ins_children',\n",
       " 'pct_health_ins_19_64',\n",
       " 'pct_health_ins_65+',\n",
       " 'total_population',\n",
       " 'median_house_value',\n",
       " 'pct_white',\n",
       " 'pct_hisp_latino',\n",
       " 'pct_black',\n",
       " 'pct_native',\n",
       " 'pct_asian',\n",
       " 'pct_hi_pi',\n",
       " 'pct_other_race',\n",
       " 'pct_two+_race',\n",
       " 'pct_rent_burdened',\n",
       " 'poverty_rate',\n",
       " 'pct_pop_bachelors+',\n",
       " 'pct_pop_hs+',\n",
       " 'pct_internet',\n",
       " 'pct_internet_dial_up',\n",
       " 'pct_internet_broadband_any_type',\n",
       " 'pct_internet_cellular',\n",
       " 'pct_only_cellular',\n",
       " 'pct_internet_broadband_fiber',\n",
       " 'pct_internet_broadband_satellite',\n",
       " 'pct_internet_only_satellite',\n",
       " 'pct_internet_other',\n",
       " 'pct_internet_no_subscrp',\n",
       " 'pct_internet_none',\n",
       " 'pct_computing_device',\n",
       " 'pct_computing_device_with_dialup',\n",
       " 'pct_computing_device_with_broadband',\n",
       " 'pct_computing_device_no_internet',\n",
       " 'pct_no_computing_device',\n",
       " 'ALAND',\n",
       " 'AWATER',\n",
       " 'ALAND_SQMI',\n",
       " 'AWATER_SQMI',\n",
       " 'population_density',\n",
       " 'pct_pop_ged',\n",
       " 'pct_pop_some_college',\n",
       " 'pct_pop_associates',\n",
       " 'pct_pop_ssi_households',\n",
       " 'pct_pop_lt_10k',\n",
       " 'pct_pop_10k_thru_15k',\n",
       " 'pct_pop_15k_thru_20k',\n",
       " 'pct_pop_20k_thru_25k',\n",
       " 'pct_pop_25k_thru_30k',\n",
       " 'pct_pop_30k_thru_35k',\n",
       " 'pct_pop_35k_thru_40k',\n",
       " 'pct_pop_40k_thru_45k',\n",
       " 'pct_pop_45k_thru_50k',\n",
       " 'pct_pop_50k_thru_60k',\n",
       " 'pct_pop_60k_thru_75k',\n",
       " 'pct_pop_75k_thru_100k',\n",
       " 'pct_pop_100k_thru_125k',\n",
       " 'pct_pop_125k_thru_150k',\n",
       " 'pct_pop_150k_thru_200k',\n",
       " 'pct_pop_gt_200k',\n",
       " 'pct_pop_lt_5',\n",
       " 'pct_pop_5_to_9',\n",
       " 'pct_pop_10_to_14',\n",
       " 'pct_pop_15_to_19',\n",
       " 'pct_pop_20_to_24',\n",
       " 'pct_pop_25_to_29',\n",
       " 'pct_pop_30_to_34',\n",
       " 'pct_pop_35_to_39',\n",
       " 'pct_pop_40_to_44',\n",
       " 'pct_pop_45_to_49',\n",
       " 'pct_pop_50_to_54',\n",
       " 'pct_pop_55_to_59',\n",
       " 'pct_pop_60_to_64',\n",
       " 'pct_pop_65_to_69',\n",
       " 'pct_pop_70_to_74',\n",
       " 'pct_pop_75_to_79',\n",
       " 'pct_pop_80_to_84',\n",
       " 'pct_pop_gt_85',\n",
       " 'pct_pop_disability',\n",
       " 'pct_pop_households_with_kids',\n",
       " 'pct_pop_foreign_born',\n",
       " 'Form 477 All Terrestrial Broadband: Max Advertised Consumer Download Speed (Mbps)',\n",
       " 'Form 477 All Terrestrial Broadband: Max Advertised Consumer Upload Speed (Mbps)',\n",
       " 'Ookla Median Download Speed (Mbps)',\n",
       " 'Ookla Median Upload Speed (Mbps)',\n",
       " 'Primary RUCA Code 2010',\n",
       " 'Secondary RUCA Code, 2010 (see errata)',\n",
       " '0_5_providers',\n",
       " '6_10_providers',\n",
       " '11_15_providers',\n",
       " '16_20_providers',\n",
       " '20+_providers',\n",
       " '0_25_MaxAdDown',\n",
       " '25_99_MaxAdDown',\n",
       " '99_499_MaxAdDown',\n",
       " '499_inf_MaxAdDown',\n",
       " '0_25_Ookla Median Download Speed (Mbps)',\n",
       " '25_99_Ookla Median Download Speed (Mbps)',\n",
       " '99_499_Ookla Median Download Speed (Mbps)',\n",
       " '499_inf_Ookla Median Download Speed (Mbps)',\n",
       " '0_25_Form 477 All Terrestrial Broadband: Max Advertised Consumer Download Speed (Mbps)',\n",
       " '25_99_Form 477 All Terrestrial Broadband: Max Advertised Consumer Download Speed (Mbps)',\n",
       " '99_499_Form 477 All Terrestrial Broadband: Max Advertised Consumer Download Speed (Mbps)',\n",
       " '499_inf_Form 477 All Terrestrial Broadband: Max Advertised Consumer Download Speed (Mbps)',\n",
       " 'single_provider',\n",
       " 'Primary RUCA Code - 1.0',\n",
       " 'Primary RUCA Code - 2.0',\n",
       " 'Primary RUCA Code - 4.0',\n",
       " 'Primary RUCA Code - 10.0',\n",
       " 'Primary RUCA Code - 7.0',\n",
       " 'Primary RUCA Code - 5.0',\n",
       " 'Primary RUCA Code - 8.0',\n",
       " 'Primary RUCA Code - 3.0',\n",
       " 'Primary RUCA Code - 6.0',\n",
       " 'Primary RUCA Code - 9.0',\n",
       " 'Primary RUCA Code - 99.0',\n",
       " 'Secondary RUCA Code - 1.0',\n",
       " 'Secondary RUCA Code - 2.0',\n",
       " 'Secondary RUCA Code - 4.0',\n",
       " 'Secondary RUCA Code - 10.0',\n",
       " 'Secondary RUCA Code - 7.0',\n",
       " 'Secondary RUCA Code - 5.0',\n",
       " 'Secondary RUCA Code - 1.1',\n",
       " 'Secondary RUCA Code - 8.0',\n",
       " 'Secondary RUCA Code - 3.0',\n",
       " 'Secondary RUCA Code - 6.0',\n",
       " 'Secondary RUCA Code - 9.0',\n",
       " 'Secondary RUCA Code - 4.1',\n",
       " 'Secondary RUCA Code - 99.0',\n",
       " 'Secondary RUCA Code - 7.1',\n",
       " 'Secondary RUCA Code - 10.2',\n",
       " 'Secondary RUCA Code - 2.1',\n",
       " 'Secondary RUCA Code - 10.1',\n",
       " 'Secondary RUCA Code - 10.3',\n",
       " 'Secondary RUCA Code - 7.2',\n",
       " 'Secondary RUCA Code - 5.1',\n",
       " 'Secondary RUCA Code - 8.1',\n",
       " 'Secondary RUCA Code - 8.2',\n",
       " 'SE',\n",
       " 'INFA',\n",
       " 'DDI',\n",
       " 'pct_pop_income_lt_50k',\n",
       " 'pct_pop_income_lt_30k',\n",
       " 'pct_pop_income_gt_100k',\n",
       " 'pct_ages_gt_50',\n",
       " 'pct_ages_lt_19',\n",
       " 'ruca_metro',\n",
       " 'ruca_micro',\n",
       " 'ruca_small_town',\n",
       " 'ruca_rural',\n",
       " 'Comcast_present',\n",
       " 'ATT_present',\n",
       " 'HughesNet_present',\n",
       " 'GCI_Comm_Corp_present',\n",
       " 'ViaSat_present',\n",
       " 'VSAT_present',\n",
       " 'Century_Link_present',\n",
       " 'Spectrum_present',\n",
       " 'Crown_Castle_present',\n",
       " 'Etheric_present',\n",
       " 'Frontier_Communications_present',\n",
       " 'median_rent',\n",
       " 'pct_pop_paying_lt_15_on_rent',\n",
       " 'pct_pop_paying_15_to_20_on_rent',\n",
       " 'pct_pop_paying_20_to_25_on_rent',\n",
       " 'pct_pop_paying_25_to_30_on_rent',\n",
       " 'pct_pop_paying_30_to_35_on_rent',\n",
       " 'pct_pop_paying__gt_35_on_rent',\n",
       " 'log_median_income',\n",
       " 'log_median_house_value',\n",
       " 'median_income_over_median_rent',\n",
       " 'median_income_over_median_house_value',\n",
       " 'pct_of_internet_users_with_broadband',\n",
       " 'log_median_income_over_log_median_house',\n",
       " 'pct_desktop_or_laptop',\n",
       " 'pct_smartphone',\n",
       " 'pct_only_smartphone',\n",
       " 'pct_tablet']"
      ]
     },
     "execution_count": 5,
     "metadata": {},
     "output_type": "execute_result"
    }
   ],
   "source": [
    "pd.set_option('display.max_rows', None)\n",
    "train.columns.to_list()"
   ]
  },
  {
   "cell_type": "code",
   "execution_count": 6,
   "id": "6ed4e726",
   "metadata": {},
   "outputs": [],
   "source": [
    "y_variable = 'pct_health_ins_19_64'"
   ]
  },
  {
   "cell_type": "code",
   "execution_count": 7,
   "id": "7df7f780",
   "metadata": {},
   "outputs": [],
   "source": [
    "corr = train.corr()\n",
    "health_ins_corr = corr[y_variable]"
   ]
  },
  {
   "cell_type": "code",
   "execution_count": 8,
   "id": "76185368",
   "metadata": {},
   "outputs": [
    {
     "data": {
      "text/plain": [
       "pct_only_smartphone                                                                         -0.564587\n",
       "pct_pop_income_lt_50k                                                                       -0.530694\n",
       "pct_hisp_latino                                                                             -0.488381\n",
       "pct_internet_none                                                                           -0.484630\n",
       "pct_pop_income_lt_30k                                                                       -0.467823\n",
       "pct_computing_device_no_internet                                                            -0.467325\n",
       "poverty_rate                                                                                -0.466293\n",
       "pct_pop_ssi_households                                                                      -0.441692\n",
       "DDI                                                                                         -0.441676\n",
       "pct_only_cellular                                                                           -0.409962\n",
       "INFA                                                                                        -0.398966\n",
       "ave_family_size                                                                             -0.396899\n",
       "SE                                                                                          -0.393702\n",
       "pct_no_computing_device                                                                     -0.381259\n",
       "pct_pop_20k_thru_25k                                                                        -0.374836\n",
       "pct_pop_25k_thru_30k                                                                        -0.368650\n",
       "pct_pop_15k_thru_20k                                                                        -0.365180\n",
       "pct_pop_30k_thru_35k                                                                        -0.342745\n",
       "pct_pop_10k_thru_15k                                                                        -0.328641\n",
       "pct_pop_lt_10k                                                                              -0.312977\n",
       "pct_pop_35k_thru_40k                                                                        -0.300945\n",
       "pct_pop_ged                                                                                 -0.286604\n",
       "ave_household_size                                                                          -0.267572\n",
       "pct_pop_40k_thru_45k                                                                        -0.252547\n",
       "pct_ages_lt_19                                                                              -0.250641\n",
       "pct_pop_foreign_born                                                                        -0.247624\n",
       "pct_pop_lt_5                                                                                -0.242005\n",
       "pct_pop_5_to_9                                                                              -0.216166\n",
       "ATT_present                                                                                 -0.214916\n",
       "pct_black                                                                                   -0.206162\n",
       "pct_pop_45k_thru_50k                                                                        -0.203098\n",
       "pct_pop_households_with_kids                                                                -0.197144\n",
       "pct_rent_burdened                                                                           -0.188016\n",
       "county                                                                                      -0.184544\n",
       "pct_pop_disability                                                                          -0.181976\n",
       "pct_pop_paying__gt_35_on_rent                                                               -0.181285\n",
       "pct_internet_no_subscrp                                                                     -0.179637\n",
       "pct_pop_50k_thru_60k                                                                        -0.178184\n",
       "pct_pop_10_to_14                                                                            -0.144491\n",
       "pct_native                                                                                  -0.129646\n",
       "median_income_over_median_house_value                                                       -0.123227\n",
       "pct_pop_25_to_29                                                                            -0.115953\n",
       "0_25_Ookla Median Download Speed (Mbps)                                                     -0.097529\n",
       "pct_pop_30_to_34                                                                            -0.077992\n",
       "pct_internet_only_satellite                                                                 -0.077474\n",
       "pct_pop_20_to_24                                                                            -0.073475\n",
       "99_499_MaxAdDown                                                                            -0.072173\n",
       "pct_pop_some_college                                                                        -0.063809\n",
       "Primary RUCA Code 2010                                                                      -0.062061\n",
       "Secondary RUCA Code, 2010 (see errata)                                                      -0.062013\n",
       "Form 477 All Terrestrial Broadband: Max Advertised Consumer Upload Speed (Mbps)             -0.060300\n",
       "99_499_Form 477 All Terrestrial Broadband: Max Advertised Consumer Download Speed (Mbps)    -0.058227\n",
       "log_median_income_over_log_median_house                                                     -0.057450\n",
       "pct_pop_60k_thru_75k                                                                        -0.054470\n",
       "pct_pop_15_to_19                                                                            -0.054122\n",
       "tract_geoid                                                                                 -0.053907\n",
       "pct_internet_broadband_satellite                                                            -0.053078\n",
       "state                                                                                       -0.052832\n",
       "ALAND                                                                                       -0.050237\n",
       "ALAND_SQMI                                                                                  -0.050237\n",
       "Form 477 All Terrestrial Broadband: Max Advertised Consumer Download Speed (Mbps)           -0.047538\n",
       "pct_pop_35_to_39                                                                            -0.046391\n",
       "0_25_Form 477 All Terrestrial Broadband: Max Advertised Consumer Download Speed (Mbps)      -0.043006\n",
       "AWATER_SQMI                                                                                 -0.041894\n",
       "AWATER                                                                                      -0.041894\n",
       "25_99_MaxAdDown                                                                             -0.041395\n",
       "Primary RUCA Code - 10.0                                                                    -0.040669\n",
       "ruca_rural                                                                                  -0.040669\n",
       "Spectrum_present                                                                            -0.040439\n",
       "Secondary RUCA Code - 10.0                                                                  -0.039724\n",
       "pct_internet_other                                                                          -0.035957\n",
       "ruca_micro                                                                                  -0.035792\n",
       "0_5_providers                                                                               -0.035202\n",
       "ruca_small_town                                                                             -0.034286\n",
       "Primary RUCA Code - 4.0                                                                     -0.033297\n",
       "Secondary RUCA Code - 4.0                                                                   -0.030529\n",
       "Primary RUCA Code - 7.0                                                                     -0.029792\n",
       "0_25_MaxAdDown                                                                              -0.028795\n",
       "Secondary RUCA Code - 7.0                                                                   -0.028289\n",
       "pct_pop_paying_30_to_35_on_rent                                                             -0.026655\n",
       "population_density                                                                          -0.024686\n",
       "25_99_Form 477 All Terrestrial Broadband: Max Advertised Consumer Download Speed (Mbps)     -0.022482\n",
       "VSAT_present                                                                                -0.020699\n",
       "Satellite_Provider_Count_25                                                                 -0.019542\n",
       "Fixed_Wireless_Provider_Count                                                               -0.019433\n",
       "Century_Link_present                                                                        -0.019307\n",
       "MaxAdUp                                                                                     -0.017540\n",
       "Primary RUCA Code - 8.0                                                                     -0.014136\n",
       "Secondary RUCA Code - 4.1                                                                   -0.013892\n",
       "Primary RUCA Code - 5.0                                                                     -0.013243\n",
       "Secondary RUCA Code - 8.0                                                                   -0.012715\n",
       "Secondary RUCA Code - 5.0                                                                   -0.012646\n",
       "Satellite_Provider_Count_100                                                                -0.012013\n",
       "Secondary RUCA Code - 8.1                                                                   -0.011829\n",
       "6_10_providers                                                                              -0.011228\n",
       "Satellite_Provider_Count                                                                    -0.010933\n",
       "Secondary RUCA Code - 10.2                                                                  -0.009172\n",
       "pct_pop_40_to_44                                                                            -0.008930\n",
       "Primary RUCA Code - 9.0                                                                     -0.008918\n",
       "Secondary RUCA Code - 9.0                                                                   -0.008918\n",
       "Secondary RUCA Code - 10.1                                                                  -0.008769\n",
       "Secondary RUCA Code - 7.2                                                                   -0.008746\n",
       "pct_other_race                                                                              -0.005568\n",
       "Secondary RUCA Code - 7.1                                                                   -0.005466\n",
       "Secondary RUCA Code - 5.1                                                                   -0.004806\n",
       "Secondary RUCA Code - 6.0                                                                   -0.004546\n",
       "Primary RUCA Code - 6.0                                                                     -0.004546\n",
       "25_99_Ookla Median Download Speed (Mbps)                                                    -0.003226\n",
       "Primary RUCA Code - 3.0                                                                     -0.001193\n",
       "Secondary RUCA Code - 3.0                                                                   -0.001193\n",
       "Secondary RUCA Code - 8.2                                                                    0.001970\n",
       "Unnamed: 0                                                                                   0.002267\n",
       "Secondary RUCA Code - 2.1                                                                    0.002432\n",
       "Secondary RUCA Code - 10.3                                                                   0.003184\n",
       "11_15_providers                                                                              0.003499\n",
       "Fixed_Wireless_Provider_Count_25                                                             0.009547\n",
       "tract                                                                                        0.011049\n",
       "Secondary RUCA Code - 1.1                                                                    0.012990\n",
       "pct_of_internet_users_with_broadband                                                         0.014832\n",
       "total_population                                                                             0.017381\n",
       "pct_pop_paying_25_to_30_on_rent                                                              0.017394\n",
       "16_20_providers                                                                              0.018030\n",
       "pct_hi_pi                                                                                    0.018677\n",
       "ViaSat_present                                                                               0.022313\n",
       "20+_providers                                                                                0.024800\n",
       "pct_internet_dial_up                                                                         0.025180\n",
       "pct_computing_device_with_dialup                                                             0.025912\n",
       "All_Provider_Count                                                                           0.030781\n",
       "Secondary RUCA Code - 1.0                                                                    0.032371\n",
       "Secondary RUCA Code - 2.0                                                                    0.033449\n",
       "Primary RUCA Code - 2.0                                                                      0.033528\n",
       "Primary RUCA Code - 1.0                                                                      0.036028\n",
       "Wired_Provider_Count                                                                         0.040659\n",
       "All_Provider_Count_25                                                                        0.051480\n",
       "Fixed_Wireless_Provider_Count_100                                                            0.053854\n",
       "Frontier_Communications_present                                                              0.055504\n",
       "Wired_Provider_Count_25                                                                      0.063641\n",
       "99_499_Ookla Median Download Speed (Mbps)                                                    0.064623\n",
       "ruca_metro                                                                                   0.067038\n",
       "Ookla Median Download Speed (Mbps)                                                           0.069350\n",
       "499_inf_Form 477 All Terrestrial Broadband: Max Advertised Consumer Download Speed (Mbps)    0.072033\n",
       "All_Provider_Count_100                                                                       0.072738\n",
       "Crown_Castle_present                                                                         0.073663\n",
       "Wired_Provider_Count_100                                                                     0.073712\n",
       "MaxAdDown                                                                                    0.077477\n",
       "pct_pop_paying_20_to_25_on_rent                                                              0.082822\n",
       "499_inf_MaxAdDown                                                                            0.084561\n",
       "pct_pop_45_to_49                                                                             0.090521\n",
       "Etheric_present                                                                              0.094189\n",
       "Comcast_present                                                                              0.097597\n",
       "pct_pop_paying_lt_15_on_rent                                                                 0.097811\n",
       "pct_pop_paying_15_to_20_on_rent                                                              0.107322\n",
       "pct_two+_race                                                                                0.107418\n",
       "total_households                                                                             0.108533\n",
       "pct_pop_80_to_84                                                                             0.112334\n",
       "pct_internet_broadband_fiber                                                                 0.116707\n",
       "pct_pop_75_to_79                                                                             0.118135\n",
       "Ookla Median Upload Speed (Mbps)                                                             0.121886\n",
       "pct_pop_gt_85                                                                                0.142146\n",
       "pct_pop_50_to_54                                                                             0.144911\n",
       "pct_pop_70_to_74                                                                             0.150842\n",
       "pct_asian                                                                                    0.161412\n",
       "pct_pop_associates                                                                           0.184599\n",
       "pct_pop_65_to_69                                                                             0.184955\n",
       "pct_pop_55_to_59                                                                             0.188538\n",
       "pct_pop_60_to_64                                                                             0.195008\n",
       "pct_pop_75k_thru_100k                                                                        0.204647\n",
       "employment_rate                                                                              0.206556\n",
       "pct_ages_gt_50                                                                               0.247407\n",
       "pct_smartphone                                                                               0.258489\n",
       "pct_health_ins_65+                                                                           0.261977\n",
       "median_age_female                                                                            0.263012\n",
       "median_age_male                                                                              0.273463\n",
       "median_age_overall                                                                           0.281461\n",
       "median_rent                                                                                  0.309096\n",
       "median_house_value                                                                           0.319919\n",
       "median_income_over_median_rent                                                               0.332678\n",
       "pct_pop_100k_thru_125k                                                                       0.375144\n",
       "pct_computing_device                                                                         0.381259\n",
       "pct_internet_cellular                                                                        0.395527\n",
       "log_median_house_value                                                                       0.395636\n",
       "pct_pop_gt_200k                                                                              0.410626\n",
       "pct_pop_125k_thru_150k                                                                       0.426428\n",
       "pct_white                                                                                    0.459327\n",
       "pct_pop_150k_thru_200k                                                                       0.465468\n",
       "pct_internet_broadband_any_type                                                              0.484496\n",
       "pct_computing_device_with_broadband                                                          0.486138\n",
       "pct_internet                                                                                 0.488923\n",
       "pct_health_ins_children                                                                      0.494234\n",
       "pct_tablet                                                                                   0.495401\n",
       "median_income                                                                                0.496330\n",
       "pct_pop_bachelors+                                                                           0.505563\n",
       "log_median_income                                                                            0.518700\n",
       "pct_pop_income_gt_100k                                                                       0.530307\n",
       "pct_desktop_or_laptop                                                                        0.554716\n",
       "pct_pop_hs+                                                                                  0.572022\n",
       "pct_health_ins_19_64                                                                         1.000000\n",
       "499_inf_Ookla Median Download Speed (Mbps)                                                        NaN\n",
       "single_provider                                                                                   NaN\n",
       "Primary RUCA Code - 99.0                                                                          NaN\n",
       "Secondary RUCA Code - 99.0                                                                        NaN\n",
       "HughesNet_present                                                                                 NaN\n",
       "GCI_Comm_Corp_present                                                                             NaN\n",
       "Name: pct_health_ins_19_64, dtype: float64"
      ]
     },
     "execution_count": 8,
     "metadata": {},
     "output_type": "execute_result"
    }
   ],
   "source": [
    "health_ins_corr.sort_values()"
   ]
  },
  {
   "cell_type": "code",
   "execution_count": 9,
   "id": "a00fb1f2",
   "metadata": {},
   "outputs": [
    {
     "data": {
      "text/plain": [
       "pct_internet_none                                                                           -0.965984\n",
       "pct_no_computing_device                                                                     -0.881465\n",
       "INFA                                                                                        -0.864397\n",
       "DDI                                                                                         -0.853550\n",
       "pct_computing_device_no_internet                                                            -0.809343\n",
       "pct_pop_income_lt_50k                                                                       -0.780057\n",
       "pct_pop_income_lt_30k                                                                       -0.778097\n",
       "SE                                                                                          -0.665661\n",
       "poverty_rate                                                                                -0.655268\n",
       "pct_only_smartphone                                                                         -0.646043\n",
       "pct_pop_10k_thru_15k                                                                        -0.621767\n",
       "pct_pop_lt_10k                                                                              -0.617705\n",
       "pct_pop_ssi_households                                                                      -0.602870\n",
       "pct_pop_15k_thru_20k                                                                        -0.596464\n",
       "pct_pop_disability                                                                          -0.550525\n",
       "pct_pop_20k_thru_25k                                                                        -0.518018\n",
       "pct_internet_no_subscrp                                                                     -0.454346\n",
       "pct_pop_25k_thru_30k                                                                        -0.453585\n",
       "pct_pop_ged                                                                                 -0.432566\n",
       "pct_pop_30k_thru_35k                                                                        -0.393913\n",
       "pct_only_cellular                                                                           -0.368060\n",
       "pct_black                                                                                   -0.367240\n",
       "pct_pop_35k_thru_40k                                                                        -0.318807\n",
       "Primary RUCA Code 2010                                                                      -0.288341\n",
       "Secondary RUCA Code, 2010 (see errata)                                                      -0.288045\n",
       "0_25_Ookla Median Download Speed (Mbps)                                                     -0.271145\n",
       "pct_pop_40k_thru_45k                                                                        -0.238502\n",
       "median_income_over_median_house_value                                                       -0.234196\n",
       "pct_pop_paying__gt_35_on_rent                                                               -0.204044\n",
       "pct_internet_only_satellite                                                                 -0.202034\n",
       "pct_rent_burdened                                                                           -0.198908\n",
       "pct_pop_households_with_kids                                                                -0.180681\n",
       "pct_pop_45k_thru_50k                                                                        -0.175796\n",
       "pct_native                                                                                  -0.173038\n",
       "ave_family_size                                                                             -0.171964\n",
       "99_499_MaxAdDown                                                                            -0.158257\n",
       "ruca_small_town                                                                             -0.157303\n",
       "ruca_rural                                                                                  -0.156015\n",
       "Primary RUCA Code - 10.0                                                                    -0.156015\n",
       "Secondary RUCA Code - 10.0                                                                  -0.150679\n",
       "tract                                                                                       -0.146969\n",
       "ruca_micro                                                                                  -0.144649\n",
       "pct_pop_lt_5                                                                                -0.139653\n",
       "pct_ages_lt_19                                                                              -0.138902\n",
       "99_499_Form 477 All Terrestrial Broadband: Max Advertised Consumer Download Speed (Mbps)    -0.136842\n",
       "pct_hisp_latino                                                                             -0.119147\n",
       "log_median_income_over_log_median_house                                                     -0.116200\n",
       "pct_pop_5_to_9                                                                              -0.114108\n",
       "Primary RUCA Code - 7.0                                                                     -0.112813\n",
       "Secondary RUCA Code - 7.0                                                                   -0.107281\n",
       "pct_pop_50k_thru_60k                                                                        -0.099570\n",
       "25_99_Ookla Median Download Speed (Mbps)                                                    -0.099396\n",
       "Primary RUCA Code - 5.0                                                                     -0.098021\n",
       "Secondary RUCA Code - 5.0                                                                   -0.097139\n",
       "Secondary RUCA Code - 4.0                                                                   -0.091919\n",
       "Primary RUCA Code - 4.0                                                                     -0.091846\n",
       "ATT_present                                                                                 -0.091640\n",
       "county                                                                                      -0.089680\n",
       "Primary RUCA Code - 8.0                                                                     -0.088761\n",
       "25_99_MaxAdDown                                                                             -0.086382\n",
       "Secondary RUCA Code - 8.0                                                                   -0.085817\n",
       "pct_pop_80_to_84                                                                            -0.082219\n",
       "pct_internet_dial_up                                                                        -0.078537\n",
       "0_25_Form 477 All Terrestrial Broadband: Max Advertised Consumer Download Speed (Mbps)      -0.076301\n",
       "pct_pop_some_college                                                                        -0.075088\n",
       "pct_internet_broadband_satellite                                                            -0.074076\n",
       "pct_computing_device_with_dialup                                                            -0.072532\n",
       "pct_pop_gt_85                                                                               -0.069994\n",
       "ALAND                                                                                       -0.069849\n",
       "ALAND_SQMI                                                                                  -0.069849\n",
       "pct_pop_20_to_24                                                                            -0.069541\n",
       "6_10_providers                                                                              -0.063475\n",
       "Primary RUCA Code - 9.0                                                                     -0.062630\n",
       "Secondary RUCA Code - 9.0                                                                   -0.062630\n",
       "pct_internet_other                                                                          -0.062541\n",
       "25_99_Form 477 All Terrestrial Broadband: Max Advertised Consumer Download Speed (Mbps)     -0.061245\n",
       "Primary RUCA Code - 6.0                                                                     -0.055310\n",
       "Secondary RUCA Code - 6.0                                                                   -0.055310\n",
       "pct_pop_15_to_19                                                                            -0.055121\n",
       "pct_pop_75_to_79                                                                            -0.053109\n",
       "Primary RUCA Code - 3.0                                                                     -0.050970\n",
       "Secondary RUCA Code - 3.0                                                                   -0.050970\n",
       "tract_geoid                                                                                 -0.048680\n",
       "state                                                                                       -0.048189\n",
       "Fixed_Wireless_Provider_Count                                                               -0.044951\n",
       "pct_pop_10_to_14                                                                            -0.044778\n",
       "0_5_providers                                                                               -0.039659\n",
       "Secondary RUCA Code - 2.0                                                                   -0.039597\n",
       "Primary RUCA Code - 2.0                                                                     -0.039270\n",
       "Secondary RUCA Code - 10.2                                                                  -0.028093\n",
       "Secondary RUCA Code - 7.2                                                                   -0.027305\n",
       "Secondary RUCA Code - 8.1                                                                   -0.026336\n",
       "Secondary RUCA Code - 10.1                                                                  -0.023768\n",
       "AWATER_SQMI                                                                                 -0.023712\n",
       "AWATER                                                                                      -0.023712\n",
       "Secondary RUCA Code - 7.1                                                                   -0.023461\n",
       "Secondary RUCA Code - 10.3                                                                  -0.015616\n",
       "0_25_MaxAdDown                                                                              -0.014809\n",
       "Secondary RUCA Code - 5.1                                                                   -0.012829\n",
       "Secondary RUCA Code - 4.1                                                                   -0.011098\n",
       "pct_pop_25_to_29                                                                            -0.008864\n",
       "Satellite_Provider_Count_25                                                                 -0.006435\n",
       "pct_pop_paying_lt_15_on_rent                                                                -0.003700\n",
       "Secondary RUCA Code - 8.2                                                                   -0.002949\n",
       "pct_pop_paying_30_to_35_on_rent                                                             -0.002295\n",
       "pct_pop_70_to_74                                                                            -0.001505\n",
       "Unnamed: 0                                                                                  -0.000761\n",
       "Secondary RUCA Code - 2.1                                                                    0.000225\n",
       "Satellite_Provider_Count                                                                     0.005697\n",
       "ViaSat_present                                                                               0.006305\n",
       "pct_pop_60_to_64                                                                             0.007102\n",
       "VSAT_present                                                                                 0.007708\n",
       "pct_ages_gt_50                                                                               0.008430\n",
       "Spectrum_present                                                                             0.009614\n",
       "population_density                                                                           0.012327\n",
       "Form 477 All Terrestrial Broadband: Max Advertised Consumer Download Speed (Mbps)            0.017912\n",
       "Frontier_Communications_present                                                              0.020765\n",
       "pct_pop_65_to_69                                                                             0.021539\n",
       "pct_hi_pi                                                                                    0.022598\n",
       "pct_other_race                                                                               0.031963\n",
       "Satellite_Provider_Count_100                                                                 0.034760\n",
       "11_15_providers                                                                              0.036944\n",
       "Form 477 All Terrestrial Broadband: Max Advertised Consumer Upload Speed (Mbps)              0.046119\n",
       "pct_pop_paying_25_to_30_on_rent                                                              0.046206\n",
       "16_20_providers                                                                              0.047605\n",
       "20+_providers                                                                                0.049424\n",
       "ave_household_size                                                                           0.050135\n",
       "Secondary RUCA Code - 1.1                                                                    0.050240\n",
       "Fixed_Wireless_Provider_Count_25                                                             0.054512\n",
       "pct_pop_55_to_59                                                                             0.056353\n",
       "pct_pop_60k_thru_75k                                                                         0.060058\n",
       "median_age_female                                                                            0.062707\n",
       "pct_health_ins_65+                                                                           0.066672\n",
       "Century_Link_present                                                                         0.077840\n",
       "pct_pop_30_to_34                                                                             0.077931\n",
       "Wired_Provider_Count_25                                                                      0.081615\n",
       "median_age_overall                                                                           0.095351\n",
       "All_Provider_Count_25                                                                        0.097562\n",
       "All_Provider_Count                                                                           0.099077\n",
       "Etheric_present                                                                              0.104857\n",
       "pct_pop_foreign_born                                                                         0.113350\n",
       "pct_pop_50_to_54                                                                             0.116904\n",
       "Wired_Provider_Count                                                                         0.116952\n",
       "Crown_Castle_present                                                                         0.117234\n",
       "Fixed_Wireless_Provider_Count_100                                                            0.120232\n",
       "median_age_male                                                                              0.120842\n",
       "Comcast_present                                                                              0.123903\n",
       "pct_pop_35_to_39                                                                             0.127658\n",
       "pct_pop_associates                                                                           0.128393\n",
       "pct_two+_race                                                                                0.130361\n",
       "pct_internet_broadband_fiber                                                                 0.134032\n",
       "Wired_Provider_Count_100                                                                     0.136746\n",
       "pct_pop_40_to_44                                                                             0.146797\n",
       "MaxAdUp                                                                                      0.147700\n",
       "pct_pop_paying_15_to_20_on_rent                                                              0.150695\n",
       "pct_pop_paying_20_to_25_on_rent                                                              0.155712\n",
       "pct_of_internet_users_with_broadband                                                         0.159291\n",
       "499_inf_Form 477 All Terrestrial Broadband: Max Advertised Consumer Download Speed (Mbps)    0.165401\n",
       "All_Provider_Count_100                                                                       0.168700\n",
       "499_inf_MaxAdDown                                                                            0.180029\n",
       "MaxAdDown                                                                                    0.181268\n",
       "pct_pop_45_to_49                                                                             0.181740\n",
       "pct_health_ins_children                                                                      0.198250\n",
       "Ookla Median Upload Speed (Mbps)                                                             0.220343\n",
       "total_population                                                                             0.250226\n",
       "Secondary RUCA Code - 1.0                                                                    0.257089\n",
       "total_households                                                                             0.258476\n",
       "median_income_over_median_rent                                                               0.259009\n",
       "99_499_Ookla Median Download Speed (Mbps)                                                    0.271295\n",
       "pct_asian                                                                                    0.271787\n",
       "Primary RUCA Code - 1.0                                                                      0.272937\n",
       "ruca_metro                                                                                   0.276723\n",
       "pct_white                                                                                    0.280233\n",
       "Ookla Median Download Speed (Mbps)                                                           0.326712\n",
       "pct_pop_75k_thru_100k                                                                        0.364128\n",
       "median_house_value                                                                           0.440079\n",
       "pct_health_ins_19_64                                                                         0.488923\n",
       "pct_pop_gt_200k                                                                              0.516045\n",
       "employment_rate                                                                              0.536806\n",
       "pct_pop_100k_thru_125k                                                                       0.541738\n",
       "median_rent                                                                                  0.574667\n",
       "pct_pop_125k_thru_150k                                                                       0.575756\n",
       "log_median_house_value                                                                       0.603082\n",
       "pct_pop_150k_thru_200k                                                                       0.616644\n",
       "pct_pop_bachelors+                                                                           0.634039\n",
       "pct_pop_hs+                                                                                  0.683164\n",
       "median_income                                                                                0.684270\n",
       "pct_pop_income_gt_100k                                                                       0.701274\n",
       "log_median_income                                                                            0.766770\n",
       "pct_smartphone                                                                               0.773913\n",
       "pct_tablet                                                                                   0.831241\n",
       "pct_internet_cellular                                                                        0.868073\n",
       "pct_desktop_or_laptop                                                                        0.879859\n",
       "pct_computing_device                                                                         0.881465\n",
       "pct_computing_device_with_broadband                                                          0.994798\n",
       "pct_internet_broadband_any_type                                                              0.998376\n",
       "pct_internet                                                                                 1.000000\n",
       "499_inf_Ookla Median Download Speed (Mbps)                                                        NaN\n",
       "single_provider                                                                                   NaN\n",
       "Primary RUCA Code - 99.0                                                                          NaN\n",
       "Secondary RUCA Code - 99.0                                                                        NaN\n",
       "HughesNet_present                                                                                 NaN\n",
       "GCI_Comm_Corp_present                                                                             NaN\n",
       "Name: pct_internet, dtype: float64"
      ]
     },
     "execution_count": 9,
     "metadata": {},
     "output_type": "execute_result"
    }
   ],
   "source": [
    "corr['pct_internet'].sort_values()"
   ]
  },
  {
   "cell_type": "code",
   "execution_count": 69,
   "id": "eff5b62f",
   "metadata": {},
   "outputs": [],
   "source": [
    "## what are the most important broadband vars?\n",
    "broadband_vars1 = ['pct_internet', 'pct_only_cellular', 'pct_computer_no_internet', \n",
    "                   'pct_internet_broadband_satellite', 'pct_computer_with_broadband']\n",
    "\n",
    "broadband_vars2 = ['pct_internet', 'pct_computer', 'Ookla Median Download Speed (Mbps)', \n",
    "                  'pct_of_internet_users_with_broadband', \n",
    "                  'Wired_Provider_Count']\n",
    "\n",
    "broadband_vars3 = ['pct_internet',  'pct_only_smartphone', 'pct_only_cellular', \n",
    "                   'Ookla Median Download Speed (Mbps)', 'Wired_Provider_Count_25']\n",
    "\n",
    "broadband_vars = broadband_vars3\n",
    "\n"
   ]
  },
  {
   "cell_type": "code",
   "execution_count": 70,
   "id": "8fe3d45b",
   "metadata": {},
   "outputs": [],
   "source": [
    "# covariates = [\n",
    "#     'pct_white', 'median_age_overall', 'pct_hisp_latino', 'pct_pop_income_lt_50k', 'pct_only_cellular', \n",
    "#     'pct_pop_ssi_households', 'ave_family_size', 'pct_pop_income_gt_100k', 'pct_ages_lt_9', 'pct_black', \n",
    "#     'pct_pop_disability', 'pct_rent_burdened', 'log_median_income'\n",
    "# ]\n",
    "\n",
    "covariates = [\n",
    "    'pct_white',  'pct_hisp_latino', 'pct_pop_income_lt_50k', 'pct_pop_income_gt_100k',\n",
    "    'pct_pop_hs+', 'poverty_rate'\n",
    "]\n",
    "\n",
    "covariates = ['log_median_income', 'pct_hisp_latino', 'ruca_metro', 'ruca_micro', 'ruca_small_town', 'ruca_rural',\n",
    "              'log_median_income_over_log_median_house', \n",
    "             'pct_pop_foreign_born', 'pct_pop_disability', 'median_income_over_median_rent']"
   ]
  },
  {
   "cell_type": "code",
   "execution_count": 71,
   "id": "ab642b3b",
   "metadata": {},
   "outputs": [],
   "source": [
    "all_vars = broadband_vars.copy()\n",
    "all_vars.extend(covariates)\n",
    "#all_vars = covariates"
   ]
  },
  {
   "cell_type": "markdown",
   "id": "2a0cdd9f",
   "metadata": {},
   "source": [
    "## linear regression"
   ]
  },
  {
   "cell_type": "code",
   "execution_count": 72,
   "id": "3aff8928",
   "metadata": {},
   "outputs": [],
   "source": [
    "#Creating the model\n",
    "model = LinearRegression()"
   ]
  },
  {
   "cell_type": "code",
   "execution_count": 73,
   "id": "1e5953f3",
   "metadata": {},
   "outputs": [
    {
     "data": {
      "text/plain": [
       "(55826, 15)"
      ]
     },
     "execution_count": 73,
     "metadata": {},
     "output_type": "execute_result"
    }
   ],
   "source": [
    "train[all_vars].shape"
   ]
  },
  {
   "cell_type": "code",
   "execution_count": 74,
   "id": "4931a41b",
   "metadata": {},
   "outputs": [
    {
     "data": {
      "text/plain": [
       "(55826,)"
      ]
     },
     "execution_count": 74,
     "metadata": {},
     "output_type": "execute_result"
    }
   ],
   "source": [
    "train[y_variable].shape"
   ]
  },
  {
   "cell_type": "code",
   "execution_count": 75,
   "id": "752090ce",
   "metadata": {},
   "outputs": [
    {
     "data": {
      "text/plain": [
       "count    55826.000000\n",
       "mean        87.358648\n",
       "std          9.633049\n",
       "min         20.000000\n",
       "25%         82.800000\n",
       "50%         89.900000\n",
       "75%         94.400000\n",
       "max        100.000000\n",
       "Name: pct_health_ins_19_64, dtype: float64"
      ]
     },
     "execution_count": 75,
     "metadata": {},
     "output_type": "execute_result"
    }
   ],
   "source": [
    "train[y_variable].describe()"
   ]
  },
  {
   "cell_type": "code",
   "execution_count": 76,
   "id": "a2400a2b",
   "metadata": {},
   "outputs": [
    {
     "name": "stdout",
     "output_type": "stream",
     "text": [
      "all_vars = ['pct_internet', 'pct_only_smartphone', 'pct_only_cellular', 'Ookla Median Download Speed (Mbps)', 'Wired_Provider_Count_25', 'log_median_income', 'pct_hisp_latino', 'ruca_metro', 'ruca_micro', 'ruca_small_town', 'ruca_rural', 'log_median_income_over_log_median_house', 'pct_pop_foreign_born', 'pct_pop_disability', 'median_income_over_median_rent']\n",
      "R^2 train:  0.5180775701557738\n",
      "MSE train:  44.719497745049736\n",
      "RMSE train:  6.687263845927551\n"
     ]
    }
   ],
   "source": [
    "print(\"all_vars =\", all_vars)\n",
    "model.fit(train[all_vars], train[y_variable])\n",
    "predictions_train = model.predict(train[all_vars])\n",
    "\n",
    "print(\"R^2 train: \",model.score(train[all_vars], train[y_variable]))\n",
    "print(\"MSE train: \", mean_squared_error(train[y_variable], predictions_train))\n",
    "print(\"RMSE train: \", mean_squared_error(train[y_variable], predictions_train)**.5)"
   ]
  },
  {
   "cell_type": "code",
   "execution_count": 77,
   "id": "430798b3",
   "metadata": {},
   "outputs": [
    {
     "name": "stdout",
     "output_type": "stream",
     "text": [
      "R^2 test:  0.5282506279514725\n",
      "MSE test:  44.61154902049494\n",
      "RMSE test:  6.679187751552949\n"
     ]
    }
   ],
   "source": [
    "predictions_test = model.predict(test[all_vars])\n",
    "print(\"R^2 test: \",model.score(test[all_vars], test[y_variable]))\n",
    "print(\"MSE test: \", mean_squared_error(test[y_variable], predictions_test))\n",
    "print(\"RMSE test: \", mean_squared_error(test[y_variable], predictions_test)**.5)"
   ]
  },
  {
   "cell_type": "code",
   "execution_count": 78,
   "id": "019d13f6",
   "metadata": {},
   "outputs": [
    {
     "name": "stdout",
     "output_type": "stream",
     "text": [
      "0.14559413803780355\n",
      "-0.23546938167353731\n",
      "-0.13766753023126707\n",
      "0.006784144821135854\n",
      "-0.16916895660580983\n",
      "4.53847878033213\n",
      "-0.13722266243039896\n",
      "0.35930389534816576\n",
      "0.20174998793664659\n",
      "0.35897369037114196\n",
      "-0.9200275736560104\n",
      "-43.9020716702568\n",
      "-0.1087338826088243\n",
      "0.13528801361908174\n",
      "0.021366533029811736\n",
      "pct_internet\n",
      "pct_only_smartphone\n",
      "pct_only_cellular\n",
      "Ookla Median Download Speed (Mbps)\n",
      "Wired_Provider_Count_25\n",
      "log_median_income\n",
      "pct_hisp_latino\n",
      "ruca_metro\n",
      "ruca_micro\n",
      "ruca_small_town\n",
      "ruca_rural\n",
      "log_median_income_over_log_median_house\n",
      "pct_pop_foreign_born\n",
      "pct_pop_disability\n",
      "median_income_over_median_rent\n"
     ]
    }
   ],
   "source": [
    "for i in model.coef_:\n",
    "    print(i)\n",
    "for i in model.feature_names_in_:\n",
    "    print(i)"
   ]
  },
  {
   "cell_type": "code",
   "execution_count": 68,
   "id": "d1390d4a",
   "metadata": {},
   "outputs": [
    {
     "data": {
      "text/plain": [
       "(array([5.0000e+00, 7.0000e+01, 4.0000e+02, 1.2350e+03, 2.7600e+03,\n",
       "        6.4020e+03, 1.3938e+04, 1.9607e+04, 1.0664e+04, 7.4500e+02]),\n",
       " array([ 49.27322043,  54.74628532,  60.2193502 ,  65.69241509,\n",
       "         71.16547997,  76.63854486,  82.11160974,  87.58467463,\n",
       "         93.05773951,  98.5308044 , 104.00386928]),\n",
       " <BarContainer object of 10 artists>)"
      ]
     },
     "execution_count": 68,
     "metadata": {},
     "output_type": "execute_result"
    },
    {
     "data": {
      "image/png": "[encoded data removed]",
      "text/plain": [
       "<Figure size 432x288 with 1 Axes>"
      ]
     },
     "metadata": {
      "needs_background": "light"
     },
     "output_type": "display_data"
    }
   ],
   "source": [
    "plt.hist(predictions_train)"
   ]
  },
  {
   "cell_type": "code",
   "execution_count": 35,
   "id": "9c4fc84f",
   "metadata": {},
   "outputs": [
    {
     "data": {
      "text/plain": [
       "(array([7.0000e+00, 2.9000e+01, 9.3000e+01, 2.7800e+02, 6.6500e+02,\n",
       "        1.5620e+03, 3.9390e+03, 9.1490e+03, 1.8239e+04, 2.1865e+04]),\n",
       " array([ 20.,  28.,  36.,  44.,  52.,  60.,  68.,  76.,  84.,  92., 100.]),\n",
       " <BarContainer object of 10 artists>)"
      ]
     },
     "execution_count": 35,
     "metadata": {},
     "output_type": "execute_result"
    },
    {
     "data": {
      "image/png": "[encoded data removed]",
      "text/plain": [
       "<Figure size 432x288 with 1 Axes>"
      ]
     },
     "metadata": {
      "needs_background": "light"
     },
     "output_type": "display_data"
    }
   ],
   "source": [
    "plt.hist(train[y_variable])"
   ]
  },
  {
   "cell_type": "raw",
   "id": "ed42fd7f",
   "metadata": {},
   "source": [
    "train[train[y_variable]>90]"
   ]
  },
  {
   "cell_type": "code",
   "execution_count": 36,
   "id": "db17bcf6",
   "metadata": {},
   "outputs": [],
   "source": [
    "import pickle\n",
    "\n",
    "with open('linear_model.pkl', 'wb') as file:\n",
    "    pickle.dump(model, file)"
   ]
  },
  {
   "cell_type": "markdown",
   "id": "d63b0ae9",
   "metadata": {},
   "source": [
    "## random forest"
   ]
  },
  {
   "cell_type": "code",
   "execution_count": 95,
   "id": "221f49ef",
   "metadata": {},
   "outputs": [],
   "source": [
    "from sklearn.ensemble import RandomForestRegressor\n",
    "from sklearn.datasets import make_regression"
   ]
  },
  {
   "cell_type": "code",
   "execution_count": 96,
   "id": "55b408e7",
   "metadata": {},
   "outputs": [],
   "source": [
    "y_train = train[y_variable]\n",
    "X_train = train.drop(columns=[y_variable])\n",
    "\n",
    "y_test = test[y_variable]\n",
    "X_test = test.drop(columns=[y_variable])"
   ]
  },
  {
   "cell_type": "code",
   "execution_count": 97,
   "id": "58309ba6",
   "metadata": {},
   "outputs": [],
   "source": [
    "regr = RandomForestRegressor(max_depth=10, random_state=0)"
   ]
  },
  {
   "cell_type": "code",
   "execution_count": 98,
   "id": "50cb8a56",
   "metadata": {},
   "outputs": [
    {
     "name": "stdout",
     "output_type": "stream",
     "text": [
      "R^2 train:  0.7127795397951079\n",
      "MSE train:  27.319015644663484\n",
      "RMSE train:  5.226759574025142\n"
     ]
    }
   ],
   "source": [
    "regr.fit(X_train[all_vars], y_train)\n",
    "\n",
    "predictions_train = regr.predict(train[all_vars])\n",
    "\n",
    "print(\"R^2 train: \",regr.score(train[all_vars], train[y_variable]))\n",
    "print(\"MSE train: \", mean_squared_error(train[y_variable], predictions_train))\n",
    "print(\"RMSE train: \", mean_squared_error(train[y_variable], predictions_train)**.5)"
   ]
  },
  {
   "cell_type": "code",
   "execution_count": 99,
   "id": "5217a34c",
   "metadata": {},
   "outputs": [
    {
     "name": "stdout",
     "output_type": "stream",
     "text": [
      "R^2 test:  0.6189362551269902\n",
      "MSE test:  36.234679800872684\n",
      "RMSE test:  6.019524881655751\n"
     ]
    }
   ],
   "source": [
    "predictions_test = regr.predict(test[all_vars])\n",
    "print(\"R^2 test: \",regr.score(test[all_vars], test[y_variable]))\n",
    "print(\"MSE test: \", mean_squared_error(test[y_variable], predictions_test))\n",
    "print(\"RMSE test: \", mean_squared_error(test[y_variable], predictions_test)**.5)"
   ]
  },
  {
   "cell_type": "code",
   "execution_count": 100,
   "id": "7519d5a7",
   "metadata": {},
   "outputs": [
    {
     "data": {
      "text/plain": [
       "24"
      ]
     },
     "execution_count": 100,
     "metadata": {},
     "output_type": "execute_result"
    }
   ],
   "source": [
    "regr.n_features_in_"
   ]
  },
  {
   "cell_type": "code",
   "execution_count": 104,
   "id": "66dcbae2",
   "metadata": {},
   "outputs": [
    {
     "data": {
      "text/plain": [
       "array([0.019585  , 0.00673392, 0.01896283, 0.003399  , 0.00231294,\n",
       "       0.01479682, 0.03189055, 0.00583861, 0.0064152 , 0.04654548,\n",
       "       0.4043445 , 0.00556714, 0.01252766, 0.24288548, 0.0071102 ,\n",
       "       0.02649614, 0.00892565, 0.02973795, 0.02550069, 0.0088353 ,\n",
       "       0.01119851, 0.02445672, 0.01133262, 0.02460111])"
      ]
     },
     "execution_count": 104,
     "metadata": {},
     "output_type": "execute_result"
    }
   ],
   "source": [
    "regr.feature_importances_"
   ]
  },
  {
   "cell_type": "code",
   "execution_count": 103,
   "id": "ae8f8cce",
   "metadata": {},
   "outputs": [
    {
     "data": {
      "text/plain": [
       "array(['interaction_high_income_internet', 'pct_hisp_latino'],\n",
       "      dtype='<U34')"
      ]
     },
     "execution_count": 103,
     "metadata": {},
     "output_type": "execute_result"
    }
   ],
   "source": [
    "np.array(all_vars)[regr.feature_importances_>.1]"
   ]
  },
  {
   "cell_type": "code",
   "execution_count": 80,
   "id": "29381f2a",
   "metadata": {},
   "outputs": [],
   "source": [
    "all_vars = float_vars"
   ]
  },
  {
   "cell_type": "code",
   "execution_count": 79,
   "id": "63ce840e",
   "metadata": {},
   "outputs": [
    {
     "data": {
      "text/plain": [
       "['All_Provider_Count',\n",
       " 'MaxAdDown',\n",
       " 'MaxAdUp',\n",
       " 'Wired_Provider_Count',\n",
       " 'Satellite_Provider_Count',\n",
       " 'Fixed_Wireless_Provider_Count',\n",
       " 'All_Provider_Count_25',\n",
       " 'All_Provider_Count_100',\n",
       " 'Fixed_Wireless_Provider_Count_25',\n",
       " 'Wired_Provider_Count_25',\n",
       " 'Satellite_Provider_Count_25',\n",
       " 'Fixed_Wireless_Provider_Count_100',\n",
       " 'Wired_Provider_Count_100',\n",
       " 'Satellite_Provider_Count_100',\n",
       " 'median_age_overall',\n",
       " 'median_age_male',\n",
       " 'median_age_female',\n",
       " 'employment_rate',\n",
       " 'median_income',\n",
       " 'total_households',\n",
       " 'ave_household_size',\n",
       " 'ave_family_size',\n",
       " 'total_population',\n",
       " 'median_house_value',\n",
       " 'pct_white',\n",
       " 'pct_hisp_latino',\n",
       " 'pct_black',\n",
       " 'pct_native',\n",
       " 'pct_asian',\n",
       " 'pct_hi_pi',\n",
       " 'pct_other_race',\n",
       " 'pct_two+_race',\n",
       " 'pct_rent_burdened',\n",
       " 'poverty_rate',\n",
       " 'pct_pop_bachelors+',\n",
       " 'pct_pop_hs+',\n",
       " 'pct_internet',\n",
       " 'pct_internet_dial_up',\n",
       " 'pct_internet_broadband_any_type',\n",
       " 'pct_internet_cellular',\n",
       " 'pct_only_cellular',\n",
       " 'pct_internet_broadband_fiber',\n",
       " 'pct_internet_broadband_satellite',\n",
       " 'pct_internet_only_satellite',\n",
       " 'pct_internet_other',\n",
       " 'pct_internet_no_subscrp',\n",
       " 'pct_internet_none',\n",
       " 'pct_computer',\n",
       " 'pct_computer_with_dialup',\n",
       " 'pct_computer_with_broadband',\n",
       " 'pct_computer_no_internet',\n",
       " 'pct_no_computer',\n",
       " 'ALAND',\n",
       " 'AWATER',\n",
       " 'ALAND_SQMI',\n",
       " 'AWATER_SQMI',\n",
       " 'population_density',\n",
       " 'pct_pop_ged',\n",
       " 'pct_pop_some_college',\n",
       " 'pct_pop_associates',\n",
       " 'pct_pop_foreign_born',\n",
       " 'pct_pop_ssi_households',\n",
       " 'pct_pop_lt_10k',\n",
       " 'pct_pop_10k_thru_15k',\n",
       " 'pct_pop_15k_thru_20k',\n",
       " 'pct_pop_20k_thru_25k',\n",
       " 'pct_pop_25k_thru_30k',\n",
       " 'pct_pop_30k_thru_35k',\n",
       " 'pct_pop_35k_thru_40k',\n",
       " 'pct_pop_40k_thru_45k',\n",
       " 'pct_pop_45k_thru_50k',\n",
       " 'pct_pop_50k_thru_60k',\n",
       " 'pct_pop_60k_thru_75k',\n",
       " 'pct_pop_75k_thru_100k',\n",
       " 'pct_pop_100k_thru_125k',\n",
       " 'pct_pop_125k_thru_150k',\n",
       " 'pct_pop_150k_thru_200k',\n",
       " 'pct_pop_gt_200k',\n",
       " 'pct_pop_lt_5',\n",
       " 'pct_pop_5_to_9',\n",
       " 'pct_pop_10_to_14',\n",
       " 'pct_pop_15_to_19',\n",
       " 'pct_pop_20_to_24',\n",
       " 'pct_pop_25_to_29',\n",
       " 'pct_pop_30_to_34',\n",
       " 'pct_pop_35_to_39',\n",
       " 'pct_pop_40_to_44',\n",
       " 'pct_pop_45_to_49',\n",
       " 'pct_pop_50_to_54',\n",
       " 'pct_pop_55_to_59',\n",
       " 'pct_pop_60_to_64',\n",
       " 'pct_pop_65_to_69',\n",
       " 'pct_pop_70_to_74',\n",
       " 'pct_pop_75_to_79',\n",
       " 'pct_pop_80_to_84',\n",
       " 'pct_pop_gt_85',\n",
       " 'pct_pop_disability',\n",
       " 'pct_pop_households_with_kids',\n",
       " 'Ookla Median Download Speed (Mbps)',\n",
       " 'Ookla Median Upload Speed (Mbps)',\n",
       " 'pct_pop_income_lt_50k',\n",
       " 'pct_pop_income_lt_30k',\n",
       " 'pct_pop_income_gt_100k',\n",
       " 'log_median_income',\n",
       " 'pct_ages_gt_50',\n",
       " 'pct_ages_lt_9',\n",
       " 'interaction_computer_internet',\n",
       " 'interaction_low_income_internet',\n",
       " 'interaction_high_income_internet',\n",
       " 'interaction_white_internet',\n",
       " 'Comcast_present',\n",
       " 'ATT_present',\n",
       " 'Wired_100_Bool']"
      ]
     },
     "execution_count": 79,
     "metadata": {},
     "output_type": "execute_result"
    }
   ],
   "source": [
    "float_vars = train.dtypes[train.dtypes!=object].index.to_list()\n",
    "\n",
    "for i in ['tract_geoid', 'pct_health_ins_children',\n",
    " 'pct_health_ins_19_64',\n",
    " 'pct_health_ins_65+', 'state',\n",
    " 'county',\n",
    " 'tract', 'em']:\n",
    "    float_vars.remove(i)\n",
    "    \n",
    "float_vars"
   ]
  },
  {
   "cell_type": "markdown",
   "id": "671ab5f2",
   "metadata": {},
   "source": [
    "## XGBoost"
   ]
  },
  {
   "cell_type": "code",
   "execution_count": 67,
   "id": "8ca77fbc",
   "metadata": {},
   "outputs": [],
   "source": [
    "import xgboost as xgb"
   ]
  },
  {
   "cell_type": "code",
   "execution_count": null,
   "id": "62eac64d",
   "metadata": {},
   "outputs": [],
   "source": []
  }
 ],
 "metadata": {
  "kernelspec": {
   "display_name": "Python 3",
   "language": "python",
   "name": "python3"
  },
  "language_info": {
   "codemirror_mode": {
    "name": "ipython",
    "version": 3
   },
   "file_extension": ".py",
   "mimetype": "text/x-python",
   "name": "python",
   "nbconvert_exporter": "python",
   "pygments_lexer": "ipython3",
   "version": "3.8.10"
  }
 },
 "nbformat": 4,
 "nbformat_minor": 5
}
