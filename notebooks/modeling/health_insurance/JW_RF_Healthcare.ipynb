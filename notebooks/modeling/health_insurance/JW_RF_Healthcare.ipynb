{
 "cells": [
  {
   "cell_type": "markdown",
   "id": "632676a4",
   "metadata": {},
   "source": [
    "## Imports, Reading Data, Setting up tests\n",
    "\n",
    "\n",
    "NOte: The majority of this notebook was copied from SE_RandomForest/HealthCare"
   ]
  },
  {
   "cell_type": "code",
   "execution_count": 163,
   "id": "c819fc35",
   "metadata": {},
   "outputs": [],
   "source": [
    "import pandas as pd\n",
    "import numpy as np\n",
    "import pickle\n",
    "\n",
    "from sklearn.ensemble import RandomForestRegressor\n",
    "import sklearn.metrics as metrics\n",
    "from pprint import pprint\n",
    "from sklearn.model_selection import RandomizedSearchCV\n"
   ]
  },
  {
   "cell_type": "code",
   "execution_count": 164,
   "id": "d3027d5f",
   "metadata": {},
   "outputs": [],
   "source": [
    "training_data = pd.read_csv(\"../data/train_3.csv\")\n",
    "test_data = pd.read_csv(\"../data/test_3.csv\")"
   ]
  },
  {
   "cell_type": "code",
   "execution_count": 186,
   "id": "aefe7b38",
   "metadata": {},
   "outputs": [
    {
     "data": {
      "text/plain": [
       "['Unnamed: 0',\n",
       " 'tract_geoid',\n",
       " 'All_Provider_Count',\n",
       " 'MaxAdDown',\n",
       " 'MaxAdUp',\n",
       " 'Wired_Provider_Count',\n",
       " 'Satellite_Provider_Count',\n",
       " 'Fixed_Wireless_Provider_Count',\n",
       " 'All_Provider_Count_25',\n",
       " 'All_Provider_Count_100',\n",
       " 'Fixed_Wireless_Provider_Count_25',\n",
       " 'Wired_Provider_Count_25',\n",
       " 'Satellite_Provider_Count_25',\n",
       " 'Fixed_Wireless_Provider_Count_100',\n",
       " 'Wired_Provider_Count_100',\n",
       " 'Satellite_Provider_Count_100',\n",
       " 'NAME',\n",
       " 'median_age_overall',\n",
       " 'median_age_male',\n",
       " 'median_age_female',\n",
       " 'state',\n",
       " 'county',\n",
       " 'tract',\n",
       " 'employment_rate',\n",
       " 'median_income',\n",
       " 'total_households',\n",
       " 'ave_household_size',\n",
       " 'ave_family_size',\n",
       " 'pct_health_ins_children',\n",
       " 'pct_health_ins_19_64',\n",
       " 'pct_health_ins_65+',\n",
       " 'total_population',\n",
       " 'median_house_value',\n",
       " 'pct_white',\n",
       " 'pct_hisp_latino',\n",
       " 'pct_black',\n",
       " 'pct_native',\n",
       " 'pct_asian',\n",
       " 'pct_hi_pi',\n",
       " 'pct_other_race',\n",
       " 'pct_two+_race',\n",
       " 'pct_rent_burdened',\n",
       " 'poverty_rate',\n",
       " 'pct_pop_bachelors+',\n",
       " 'pct_pop_hs+',\n",
       " 'pct_internet',\n",
       " 'pct_internet_dial_up',\n",
       " 'pct_internet_broadband_any_type',\n",
       " 'pct_internet_cellular',\n",
       " 'pct_only_cellular',\n",
       " 'pct_internet_broadband_fiber',\n",
       " 'pct_internet_broadband_satellite',\n",
       " 'pct_internet_only_satellite',\n",
       " 'pct_internet_other',\n",
       " 'pct_internet_no_subscrp',\n",
       " 'pct_internet_none',\n",
       " 'pct_computing_device',\n",
       " 'pct_computing_device_with_dialup',\n",
       " 'pct_computing_device_with_broadband',\n",
       " 'pct_computing_device_no_internet',\n",
       " 'pct_no_computing_device',\n",
       " 'ALAND',\n",
       " 'AWATER',\n",
       " 'ALAND_SQMI',\n",
       " 'AWATER_SQMI',\n",
       " 'population_density',\n",
       " 'pct_pop_ged',\n",
       " 'pct_pop_some_college',\n",
       " 'pct_pop_associates',\n",
       " 'pct_pop_ssi_households',\n",
       " 'pct_pop_lt_10k',\n",
       " 'pct_pop_10k_thru_15k',\n",
       " 'pct_pop_15k_thru_20k',\n",
       " 'pct_pop_20k_thru_25k',\n",
       " 'pct_pop_25k_thru_30k',\n",
       " 'pct_pop_30k_thru_35k',\n",
       " 'pct_pop_35k_thru_40k',\n",
       " 'pct_pop_40k_thru_45k',\n",
       " 'pct_pop_45k_thru_50k',\n",
       " 'pct_pop_50k_thru_60k',\n",
       " 'pct_pop_60k_thru_75k',\n",
       " 'pct_pop_75k_thru_100k',\n",
       " 'pct_pop_100k_thru_125k',\n",
       " 'pct_pop_125k_thru_150k',\n",
       " 'pct_pop_150k_thru_200k',\n",
       " 'pct_pop_gt_200k',\n",
       " 'pct_pop_lt_5',\n",
       " 'pct_pop_5_to_9',\n",
       " 'pct_pop_10_to_14',\n",
       " 'pct_pop_15_to_19',\n",
       " 'pct_pop_20_to_24',\n",
       " 'pct_pop_25_to_29',\n",
       " 'pct_pop_30_to_34',\n",
       " 'pct_pop_35_to_39',\n",
       " 'pct_pop_40_to_44',\n",
       " 'pct_pop_45_to_49',\n",
       " 'pct_pop_50_to_54',\n",
       " 'pct_pop_55_to_59',\n",
       " 'pct_pop_60_to_64',\n",
       " 'pct_pop_65_to_69',\n",
       " 'pct_pop_70_to_74',\n",
       " 'pct_pop_75_to_79',\n",
       " 'pct_pop_80_to_84',\n",
       " 'pct_pop_gt_85',\n",
       " 'pct_pop_disability',\n",
       " 'pct_pop_households_with_kids',\n",
       " 'pct_pop_foreign_born',\n",
       " 'Form 477 All Terrestrial Broadband: Max Advertised Consumer Download Speed (Mbps)',\n",
       " 'Form 477 All Terrestrial Broadband: Max Advertised Consumer Upload Speed (Mbps)',\n",
       " 'Ookla Median Download Speed (Mbps)',\n",
       " 'Ookla Median Upload Speed (Mbps)',\n",
       " 'Primary RUCA Code 2010',\n",
       " 'Secondary RUCA Code, 2010 (see errata)',\n",
       " '0_5_providers',\n",
       " '6_10_providers',\n",
       " '11_15_providers',\n",
       " '16_20_providers',\n",
       " '20+_providers',\n",
       " '0_25_MaxAdDown',\n",
       " '25_99_MaxAdDown',\n",
       " '99_499_MaxAdDown',\n",
       " '499_inf_MaxAdDown',\n",
       " '0_25_Ookla Median Download Speed (Mbps)',\n",
       " '25_99_Ookla Median Download Speed (Mbps)',\n",
       " '99_499_Ookla Median Download Speed (Mbps)',\n",
       " '499_inf_Ookla Median Download Speed (Mbps)',\n",
       " '0_25_Form 477 All Terrestrial Broadband: Max Advertised Consumer Download Speed (Mbps)',\n",
       " '25_99_Form 477 All Terrestrial Broadband: Max Advertised Consumer Download Speed (Mbps)',\n",
       " '99_499_Form 477 All Terrestrial Broadband: Max Advertised Consumer Download Speed (Mbps)',\n",
       " '499_inf_Form 477 All Terrestrial Broadband: Max Advertised Consumer Download Speed (Mbps)',\n",
       " 'single_provider',\n",
       " 'Primary RUCA Code - 1.0',\n",
       " 'Primary RUCA Code - 2.0',\n",
       " 'Primary RUCA Code - 4.0',\n",
       " 'Primary RUCA Code - 10.0',\n",
       " 'Primary RUCA Code - 7.0',\n",
       " 'Primary RUCA Code - 5.0',\n",
       " 'Primary RUCA Code - 8.0',\n",
       " 'Primary RUCA Code - 3.0',\n",
       " 'Primary RUCA Code - 6.0',\n",
       " 'Primary RUCA Code - 9.0',\n",
       " 'Primary RUCA Code - 99.0',\n",
       " 'Secondary RUCA Code - 1.0',\n",
       " 'Secondary RUCA Code - 2.0',\n",
       " 'Secondary RUCA Code - 4.0',\n",
       " 'Secondary RUCA Code - 10.0',\n",
       " 'Secondary RUCA Code - 7.0',\n",
       " 'Secondary RUCA Code - 5.0',\n",
       " 'Secondary RUCA Code - 1.1',\n",
       " 'Secondary RUCA Code - 8.0',\n",
       " 'Secondary RUCA Code - 3.0',\n",
       " 'Secondary RUCA Code - 6.0',\n",
       " 'Secondary RUCA Code - 9.0',\n",
       " 'Secondary RUCA Code - 4.1',\n",
       " 'Secondary RUCA Code - 99.0',\n",
       " 'Secondary RUCA Code - 7.1',\n",
       " 'Secondary RUCA Code - 10.2',\n",
       " 'Secondary RUCA Code - 2.1',\n",
       " 'Secondary RUCA Code - 10.1',\n",
       " 'Secondary RUCA Code - 10.3',\n",
       " 'Secondary RUCA Code - 7.2',\n",
       " 'Secondary RUCA Code - 5.1',\n",
       " 'Secondary RUCA Code - 8.1',\n",
       " 'Secondary RUCA Code - 8.2',\n",
       " 'SE',\n",
       " 'INFA',\n",
       " 'DDI',\n",
       " 'pct_pop_income_lt_50k',\n",
       " 'pct_pop_income_lt_30k',\n",
       " 'pct_pop_income_gt_100k',\n",
       " 'pct_ages_gt_50',\n",
       " 'pct_ages_lt_19',\n",
       " 'ruca_metro',\n",
       " 'ruca_micro',\n",
       " 'ruca_small_town',\n",
       " 'ruca_rural',\n",
       " 'Comcast_present',\n",
       " 'ATT_present',\n",
       " 'HughesNet_present',\n",
       " 'GCI_Comm_Corp_present',\n",
       " 'ViaSat_present',\n",
       " 'VSAT_present',\n",
       " 'Century_Link_present',\n",
       " 'Spectrum_present',\n",
       " 'Crown_Castle_present',\n",
       " 'Etheric_present',\n",
       " 'Frontier_Communications_present',\n",
       " 'median_rent',\n",
       " 'pct_pop_paying_lt_15_on_rent',\n",
       " 'pct_pop_paying_15_to_20_on_rent',\n",
       " 'pct_pop_paying_20_to_25_on_rent',\n",
       " 'pct_pop_paying_25_to_30_on_rent',\n",
       " 'pct_pop_paying_30_to_35_on_rent',\n",
       " 'pct_pop_paying__gt_35_on_rent',\n",
       " 'log_median_income',\n",
       " 'log_median_house_value',\n",
       " 'median_income_over_median_rent',\n",
       " 'median_income_over_median_house_value',\n",
       " 'pct_of_internet_users_with_broadband',\n",
       " 'log_median_income_over_log_median_house',\n",
       " 'pct_desktop_or_laptop',\n",
       " 'pct_smartphone',\n",
       " 'pct_only_smartphone',\n",
       " 'pct_tablet']"
      ]
     },
     "execution_count": 186,
     "metadata": {},
     "output_type": "execute_result"
    }
   ],
   "source": [
    "pd.set_option('display.max_rows', None)\n",
    "training_data.columns.to_list()"
   ]
  },
  {
   "cell_type": "code",
   "execution_count": 247,
   "id": "9eaed329",
   "metadata": {},
   "outputs": [],
   "source": [
    "y_variable = 'pct_health_ins_19_64'\n",
    "\n",
    "broadband_vars3 = ['pct_internet',  'pct_only_smartphone', 'pct_internet_broadband_any_type',\n",
    "                   'pct_internet_broadband_fiber','Ookla Median Download Speed (Mbps)']\n",
    "\n",
    "broadband_vars = broadband_vars3"
   ]
  },
  {
   "cell_type": "code",
   "execution_count": 258,
   "id": "02c21c3d",
   "metadata": {},
   "outputs": [],
   "source": [
    "covariates = ['log_median_income', 'pct_hisp_latino', 'pct_white',\n",
    "              'log_median_income_over_log_median_house',  'median_income_over_median_rent',\n",
    "             'pct_pop_foreign_born', 'pct_pop_disability', 'employment_rate', 'median_age_overall',\n",
    "             'pct_ages_lt_19',\n",
    " 'ruca_metro',\n",
    " 'ruca_micro',\n",
    " 'ruca_small_town',\n",
    " 'ruca_rural',]"
   ]
  },
  {
   "cell_type": "code",
   "execution_count": 259,
   "id": "a7a5989d",
   "metadata": {},
   "outputs": [],
   "source": [
    "all_vars = broadband_vars.copy()\n",
    "all_vars.extend(covariates)"
   ]
  },
  {
   "cell_type": "markdown",
   "id": "8a20a3ca",
   "metadata": {},
   "source": [
    "## Modeling"
   ]
  },
  {
   "cell_type": "markdown",
   "id": "c78997d4",
   "metadata": {},
   "source": [
    "### Functions"
   ]
  },
  {
   "cell_type": "code",
   "execution_count": 260,
   "id": "fe825085",
   "metadata": {},
   "outputs": [],
   "source": [
    "def regression_results(y_true, y_pred):\n",
    "\n",
    "    # Regression metrics\n",
    "    explained_variance=metrics.explained_variance_score(y_true, y_pred)\n",
    "    mean_absolute_error=metrics.mean_absolute_error(y_true, y_pred) \n",
    "    mse=metrics.mean_squared_error(y_true, y_pred) \n",
    "    median_absolute_error=metrics.median_absolute_error(y_true, y_pred)\n",
    "    r2=metrics.r2_score(y_true, y_pred)\n",
    "\n",
    "    print('explained_variance: ', round(explained_variance,4))    \n",
    "    print('r2: ', round(r2,4))\n",
    "    print('MAE: ', round(mean_absolute_error,4))\n",
    "    print('MSE: ', round(mse,4))\n",
    "    print('RMSE: ', round(np.sqrt(mse),4))"
   ]
  },
  {
   "cell_type": "code",
   "execution_count": 261,
   "id": "2ffe554c",
   "metadata": {},
   "outputs": [],
   "source": [
    "Y_train = np.array(training_data[y_variable])\n",
    "Y_test = np.array(test_data[y_variable])\n",
    "\n",
    "def RF_model(train_df, \n",
    "             test_df, \n",
    "             variable_list,\n",
    "             Y_train = Y_train,  \n",
    "             Y_test = Y_test):\n",
    "    train_variables = np.array(train_df[variable_list])\n",
    "    test_variables = np.array(test_df[variable_list])\n",
    "    \n",
    "    model = RandomForestRegressor(n_estimators = 100, random_state = 42).fit(train_variables, Y_train)\n",
    "    predicted = model.predict(test_variables)\n",
    "    \n",
    "    regression_results(Y_test, predicted)\n",
    "    \n",
    "    return pd.DataFrame(model.feature_importances_, \n",
    "                        index = variable_list).sort_values(by=0, ascending = False)\n"
   ]
  },
  {
   "cell_type": "markdown",
   "id": "3a3c7f36",
   "metadata": {},
   "source": [
    "## Use Grid Search to find best hyperparameters"
   ]
  },
  {
   "cell_type": "code",
   "execution_count": 262,
   "id": "77a4f097",
   "metadata": {},
   "outputs": [
    {
     "data": {
      "text/plain": [
       "[200, 400, 600, 800, 1000, 1200, 1400, 1600, 1800, 2000]"
      ]
     },
     "execution_count": 262,
     "metadata": {},
     "output_type": "execute_result"
    }
   ],
   "source": [
    "[int(x) for x in np.linspace(start = 200, stop = 2000, num = 10)]"
   ]
  },
  {
   "cell_type": "code",
   "execution_count": 263,
   "id": "b890e695",
   "metadata": {},
   "outputs": [
    {
     "name": "stdout",
     "output_type": "stream",
     "text": [
      "{'bootstrap': [True, False],\n",
      " 'max_depth': [5, 10, 15, 20, 25, None],\n",
      " 'max_features': ['auto', 'sqrt'],\n",
      " 'min_samples_leaf': [1, 2, 3, 4, 5],\n",
      " 'min_samples_split': [2, 3, 4, 5, 6],\n",
      " 'n_estimators': [5,\n",
      "                  10,\n",
      "                  15,\n",
      "                  20,\n",
      "                  25,\n",
      "                  30,\n",
      "                  35,\n",
      "                  40,\n",
      "                  45,\n",
      "                  50,\n",
      "                  55,\n",
      "                  60,\n",
      "                  65,\n",
      "                  70,\n",
      "                  75,\n",
      "                  80,\n",
      "                  85,\n",
      "                  90,\n",
      "                  95,\n",
      "                  100,\n",
      "                  105,\n",
      "                  110,\n",
      "                  115]}\n"
     ]
    }
   ],
   "source": [
    "# Number of trees in random forest\n",
    "n_estimators = [i for i in range(5, 120, 5)]\n",
    "# Number of features to consider at every split\n",
    "max_features = ['auto', 'sqrt']\n",
    "# Maximum number of levels in tree\n",
    "max_depth = [int(x) for x in range(5, 30, 5)]\n",
    "max_depth.append(None)\n",
    "# Minimum number of samples required to split a node\n",
    "min_samples_split = [2, 3, 4, 5, 6]\n",
    "# Minimum number of samples required at each leaf node\n",
    "min_samples_leaf = [1, 2, 3, 4, 5]\n",
    "# Method of selecting samples for training each tree\n",
    "bootstrap = [True, False]\n",
    "# Create the random grid\n",
    "random_grid = {'n_estimators': n_estimators,\n",
    "               'max_features': max_features,\n",
    "               'max_depth': max_depth,\n",
    "               'min_samples_split': min_samples_split,\n",
    "               'min_samples_leaf': min_samples_leaf,\n",
    "               'bootstrap': bootstrap}\n",
    "pprint(random_grid)"
   ]
  },
  {
   "cell_type": "code",
   "execution_count": 264,
   "id": "32ceb330",
   "metadata": {},
   "outputs": [],
   "source": [
    "# Use the random grid to search for best hyperparameters\n",
    "# First create the base model to tune\n",
    "rf = RandomForestRegressor()\n",
    "# Random search of parameters, using 3 fold cross validation, \n",
    "# search across 20 different combinations, and us\n",
    "\n",
    "rf_random = RandomizedSearchCV(estimator = rf, \n",
    "                               param_distributions = random_grid, \n",
    "                               n_iter = 20, \n",
    "                               cv = 3, \n",
    "                               verbose=10, \n",
    "                               random_state=42, \n",
    "                               n_jobs = -1)"
   ]
  },
  {
   "cell_type": "code",
   "execution_count": 265,
   "id": "7ef89445",
   "metadata": {},
   "outputs": [
    {
     "name": "stdout",
     "output_type": "stream",
     "text": [
      "Fitting 3 folds for each of 20 candidates, totalling 60 fits\n"
     ]
    },
    {
     "data": {
      "text/plain": [
       "RandomizedSearchCV(cv=3, estimator=RandomForestRegressor(), n_iter=20,\n",
       "                   n_jobs=-1,\n",
       "                   param_distributions={'bootstrap': [True, False],\n",
       "                                        'max_depth': [5, 10, 15, 20, 25, None],\n",
       "                                        'max_features': ['auto', 'sqrt'],\n",
       "                                        'min_samples_leaf': [1, 2, 3, 4, 5],\n",
       "                                        'min_samples_split': [2, 3, 4, 5, 6],\n",
       "                                        'n_estimators': [5, 10, 15, 20, 25, 30,\n",
       "                                                         35, 40, 45, 50, 55, 60,\n",
       "                                                         65, 70, 75, 80, 85, 90,\n",
       "                                                         95, 100, 105, 110,\n",
       "                                                         115]},\n",
       "                   random_state=42, verbose=10)"
      ]
     },
     "execution_count": 265,
     "metadata": {},
     "output_type": "execute_result"
    }
   ],
   "source": [
    "# Fit the random search model\n",
    "rf_random.fit(training_data[all_vars], Y_train)"
   ]
  },
  {
   "cell_type": "code",
   "execution_count": 266,
   "id": "a738dea3",
   "metadata": {},
   "outputs": [
    {
     "data": {
      "text/plain": [
       "{'n_estimators': 75,\n",
       " 'min_samples_split': 2,\n",
       " 'min_samples_leaf': 4,\n",
       " 'max_features': 'sqrt',\n",
       " 'max_depth': 20,\n",
       " 'bootstrap': False}"
      ]
     },
     "execution_count": 266,
     "metadata": {},
     "output_type": "execute_result"
    }
   ],
   "source": [
    "best = rf_random.best_params_\n",
    "best"
   ]
  },
  {
   "cell_type": "code",
   "execution_count": 267,
   "id": "e3d50708",
   "metadata": {},
   "outputs": [],
   "source": [
    "predictions = rf_random.predict(test_data[all_vars])"
   ]
  },
  {
   "cell_type": "code",
   "execution_count": 268,
   "id": "790f44af",
   "metadata": {},
   "outputs": [
    {
     "name": "stdout",
     "output_type": "stream",
     "text": [
      "explained_variance:  0.9241\n",
      "r2:  0.9241\n",
      "MAE:  1.9064\n",
      "MSE:  7.0394\n",
      "RMSE:  2.6532\n"
     ]
    }
   ],
   "source": [
    "regression_results(Y_train, rf_random.predict(training_data[all_vars]))"
   ]
  },
  {
   "cell_type": "code",
   "execution_count": 269,
   "id": "ed34f7b5",
   "metadata": {},
   "outputs": [
    {
     "name": "stdout",
     "output_type": "stream",
     "text": [
      "explained_variance:  0.6348\n",
      "r2:  0.6348\n",
      "MAE:  4.3434\n",
      "MSE:  34.534\n",
      "RMSE:  5.8766\n"
     ]
    }
   ],
   "source": [
    "regression_results(Y_test, predictions)"
   ]
  },
  {
   "cell_type": "code",
   "execution_count": 270,
   "id": "df9a34c4",
   "metadata": {},
   "outputs": [],
   "source": [
    "#Now use these \"best\" parameters in a new model\n",
    "\n",
    "rf = RandomForestRegressor(n_estimators = best['n_estimators'], min_samples_split = best['min_samples_split'],\n",
    "                           min_samples_leaf = best['min_samples_leaf'], max_features= best['max_features'], \n",
    "                           max_depth = best['max_depth'], bootstrap = best['bootstrap'])\n",
    "\n"
   ]
  },
  {
   "cell_type": "code",
   "execution_count": 271,
   "id": "85b600a4",
   "metadata": {},
   "outputs": [
    {
     "data": {
      "text/plain": [
       "RandomForestRegressor(bootstrap=False, max_depth=20, max_features='sqrt',\n",
       "                      min_samples_leaf=4, n_estimators=75)"
      ]
     },
     "execution_count": 271,
     "metadata": {},
     "output_type": "execute_result"
    }
   ],
   "source": [
    "rf.fit(training_data[all_vars], training_data[y_variable])"
   ]
  },
  {
   "cell_type": "code",
   "execution_count": 272,
   "id": "41ea46cc",
   "metadata": {},
   "outputs": [
    {
     "name": "stdout",
     "output_type": "stream",
     "text": [
      "explained_variance:  0.9245\n",
      "r2:  0.9245\n",
      "MAE:  1.9015\n",
      "MSE:  7.0022\n",
      "RMSE:  2.6462\n"
     ]
    }
   ],
   "source": [
    "regression_results(Y_train, rf.predict(training_data[all_vars]))"
   ]
  },
  {
   "cell_type": "code",
   "execution_count": 273,
   "id": "90412787",
   "metadata": {},
   "outputs": [
    {
     "name": "stdout",
     "output_type": "stream",
     "text": [
      "explained_variance:  0.6339\n",
      "r2:  0.6338\n",
      "MAE:  4.3501\n",
      "MSE:  34.6257\n",
      "RMSE:  5.8844\n"
     ]
    }
   ],
   "source": [
    "regression_results(Y_test, rf.predict(test_data[all_vars]))"
   ]
  },
  {
   "cell_type": "code",
   "execution_count": 274,
   "id": "e43fb3e1",
   "metadata": {},
   "outputs": [
    {
     "name": "stdout",
     "output_type": "stream",
     "text": [
      "[0.06752524 0.14465718 0.06069021 0.02206698 0.02855254 0.13683936\n",
      " 0.13816946 0.09522695 0.05896423 0.0404487  0.05901829 0.03503248\n",
      " 0.03311241 0.03821097 0.03546767 0.00316834 0.00109738 0.00041114\n",
      " 0.00134048]\n",
      "['pct_internet' 'pct_only_smartphone' 'pct_internet_broadband_any_type'\n",
      " 'pct_internet_broadband_fiber' 'Ookla Median Download Speed (Mbps)'\n",
      " 'log_median_income' 'pct_hisp_latino' 'pct_white'\n",
      " 'log_median_income_over_log_median_house'\n",
      " 'median_income_over_median_rent' 'pct_pop_foreign_born'\n",
      " 'pct_pop_disability' 'employment_rate' 'median_age_overall'\n",
      " 'pct_ages_lt_19' 'ruca_metro' 'ruca_micro' 'ruca_small_town' 'ruca_rural']\n"
     ]
    }
   ],
   "source": [
    "print(rf.feature_importances_)\n",
    "print(rf.feature_names_in_)"
   ]
  },
  {
   "cell_type": "code",
   "execution_count": 275,
   "id": "890d192d",
   "metadata": {},
   "outputs": [
    {
     "name": "stdout",
     "output_type": "stream",
     "text": [
      "0.06752523935097983\n",
      "0.14465718091457966\n",
      "0.06069021172126821\n",
      "0.022066981228236558\n",
      "0.028552539021217266\n",
      "0.1368393598646889\n",
      "0.13816946335819083\n",
      "0.09522695199043292\n",
      "0.058964227504565925\n",
      "0.040448696961471714\n",
      "0.05901828582216558\n",
      "0.03503247952910599\n",
      "0.033112408294957055\n",
      "0.03821097442049578\n",
      "0.03546766857291562\n",
      "0.0031683371537359365\n",
      "0.0010973802816873243\n",
      "0.00041113592003863976\n",
      "0.0013404780892661613\n"
     ]
    }
   ],
   "source": [
    "for i in rf.feature_importances_:\n",
    "    print(i)"
   ]
  },
  {
   "cell_type": "code",
   "execution_count": 276,
   "id": "e25e19e3",
   "metadata": {},
   "outputs": [
    {
     "name": "stdout",
     "output_type": "stream",
     "text": [
      "pct_internet\n",
      "pct_only_smartphone\n",
      "pct_internet_broadband_any_type\n",
      "pct_internet_broadband_fiber\n",
      "Ookla Median Download Speed (Mbps)\n",
      "log_median_income\n",
      "pct_hisp_latino\n",
      "pct_white\n",
      "log_median_income_over_log_median_house\n",
      "median_income_over_median_rent\n",
      "pct_pop_foreign_born\n",
      "pct_pop_disability\n",
      "employment_rate\n",
      "median_age_overall\n",
      "pct_ages_lt_19\n",
      "ruca_metro\n",
      "ruca_micro\n",
      "ruca_small_town\n",
      "ruca_rural\n"
     ]
    }
   ],
   "source": [
    "for i in rf.feature_names_in_:\n",
    "    print(i)"
   ]
  },
  {
   "cell_type": "code",
   "execution_count": null,
   "id": "9ecc98bd",
   "metadata": {},
   "outputs": [],
   "source": []
  },
  {
   "cell_type": "code",
   "execution_count": null,
   "id": "c3536a47",
   "metadata": {},
   "outputs": [],
   "source": []
  },
  {
   "cell_type": "code",
   "execution_count": null,
   "id": "c0e2dd74",
   "metadata": {},
   "outputs": [],
   "source": []
  },
  {
   "cell_type": "code",
   "execution_count": null,
   "id": "58d97c70",
   "metadata": {},
   "outputs": [],
   "source": []
  }
 ],
 "metadata": {
  "kernelspec": {
   "display_name": "Python 3",
   "language": "python",
   "name": "python3"
  },
  "language_info": {
   "codemirror_mode": {
    "name": "ipython",
    "version": 3
   },
   "file_extension": ".py",
   "mimetype": "text/x-python",
   "name": "python",
   "nbconvert_exporter": "python",
   "pygments_lexer": "ipython3",
   "version": "3.8.10"
  }
 },
 "nbformat": 4,
 "nbformat_minor": 5
}
