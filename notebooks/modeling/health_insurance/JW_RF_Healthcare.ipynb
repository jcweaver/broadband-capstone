{
 "cells": [
  {
   "cell_type": "markdown",
   "id": "632676a4",
   "metadata": {},
   "source": [
    "## Imports, Reading Data, Setting up tests\n",
    "\n",
    "\n",
    "NOte: The majority of this notebook was copied from SE_RandomForest/HealthCare"
   ]
  },
  {
   "cell_type": "code",
   "execution_count": 119,
   "id": "c819fc35",
   "metadata": {},
   "outputs": [],
   "source": [
    "import pandas as pd\n",
    "import numpy as np\n",
    "import pickle\n",
    "\n",
    "from sklearn.ensemble import RandomForestRegressor\n",
    "import sklearn.metrics as metrics\n",
    "from pprint import pprint\n",
    "from sklearn.model_selection import RandomizedSearchCV\n",
    "from sklearn.preprocessing import OneHotEncoder\n"
   ]
  },
  {
   "cell_type": "code",
   "execution_count": 120,
   "id": "d3027d5f",
   "metadata": {},
   "outputs": [],
   "source": [
    "training_data = pd.read_csv(\"../../../data/current_data/train_3.csv\", converters= {\"state\" : lambda x: str(x)})\n",
    "test_data = pd.read_csv(\"../../../data/current_data/test_3.csv\", converters= {\"state\" : lambda x: str(x)})"
   ]
  },
  {
   "cell_type": "code",
   "execution_count": 121,
   "id": "9eaed329",
   "metadata": {},
   "outputs": [],
   "source": [
    "y_variable = 'pct_health_ins_19_64'\n",
    "\n",
    "broadband_vars3 = ['pct_internet',  'pct_only_smartphone', 'pct_internet_broadband_any_type',\n",
    "                   'pct_internet_broadband_fiber','Ookla Median Download Speed (Mbps)', 'Wired_Count_100']\n",
    "\n",
    "broadband_vars_group = ['pct_only_cellular', 'pct_internet_broadband_fiber', 'pct_computing_device_with_broadband', \n",
    "                        'pct_internet_broadband_satellite', 'pct_computing_device',\n",
    "                        'Ookla Median Download Speed (Mbps)','pct_internet_broadband_any_type', 'pct_internet',\n",
    "                        'Wired_Provider_Count_100', 'pct_only_smartphone']\n",
    "\n",
    "broadband_vars = broadband_vars_group"
   ]
  },
  {
   "cell_type": "markdown",
   "id": "54c9db93",
   "metadata": {},
   "source": [
    "pct_only_cellular\n",
    "pct_internet_broadband_fiber\n",
    "pct_computing_device_with_broadband\n",
    "pct_internet_broadband_satellite\n",
    "pct_computing_device\n",
    "Ookla Median Download Speed (Mbps)\n",
    "pct_internet_broadband_any_type\n",
    "pct_internet\n",
    "Wired_Provider_Count_100\n",
    "pct_only_smartphone\n",
    "pct_hisp_latino\n",
    "pct_pop_income_gt_100k\n",
    "pct_pop_foreign_born\n",
    "ave_family_size\n",
    "log_median_house_value\n",
    "median_house_value\n",
    "pct_white\n",
    "log_median_income\n",
    "pct_pop_hs+\n",
    "median_income\n",
    "ATT_present\n",
    "employment_rate\n",
    "ave_household_size\n",
    "pct_pop_some_college\n",
    "population_density"
   ]
  },
  {
   "cell_type": "code",
   "execution_count": 122,
   "id": "02c21c3d",
   "metadata": {},
   "outputs": [],
   "source": [
    "covariates = ['log_median_income', 'pct_hisp_latino', 'pct_white',\n",
    "              'log_median_income_over_log_median_house',  'median_income_over_median_rent',\n",
    "             'pct_pop_foreign_born', 'pct_pop_disability', 'employment_rate', 'median_age_overall',\n",
    "             'pct_ages_lt_19',\n",
    " 'ruca_metro',\n",
    " 'ruca_micro',\n",
    " 'ruca_small_town',\n",
    " 'ruca_rural', 'state']\n",
    "\n",
    "#Top vars from the all vars feature importance list\n",
    "covariates = [ 'pct_hisp_latino', 'pct_pop_income_gt_100k',\n",
    "       'pct_pop_foreign_born', 'ave_family_size', 'log_median_house_value',\n",
    "       'median_house_value', 'pct_white', 'log_median_income', 'pct_pop_hs+',\n",
    "       'median_income', 'ATT_present', 'employment_rate', 'ave_household_size',\n",
    "       'pct_pop_some_college', 'population_density']"
   ]
  },
  {
   "cell_type": "code",
   "execution_count": 143,
   "id": "a7a5989d",
   "metadata": {},
   "outputs": [],
   "source": [
    "all_vars = broadband_vars.copy()\n",
    "all_vars.extend(covariates)"
   ]
  },
  {
   "cell_type": "code",
   "execution_count": 144,
   "id": "eee9d7a6",
   "metadata": {},
   "outputs": [],
   "source": [
    "def get_state(name):\n",
    "    state = name.split(\", \")[2]\n",
    "    return state\n",
    "\n",
    "training_data[\"State_Name\"] = training_data.NAME.apply(get_state)\n",
    "test_data[\"State_Name\"] = test_data.NAME.apply(get_state)"
   ]
  },
  {
   "cell_type": "code",
   "execution_count": 145,
   "id": "eea520de",
   "metadata": {},
   "outputs": [],
   "source": [
    "dummies = pd.get_dummies(training_data['State_Name'], prefix = \"state\")\n",
    "dummies_test = pd.get_dummies(test_data['State_Name'], prefix = \"state\")"
   ]
  },
  {
   "cell_type": "code",
   "execution_count": 146,
   "id": "de499ad7",
   "metadata": {},
   "outputs": [
    {
     "data": {
      "text/html": [
       "<div>\n",
       "<style scoped>\n",
       "    .dataframe tbody tr th:only-of-type {\n",
       "        vertical-align: middle;\n",
       "    }\n",
       "\n",
       "    .dataframe tbody tr th {\n",
       "        vertical-align: top;\n",
       "    }\n",
       "\n",
       "    .dataframe thead th {\n",
       "        text-align: right;\n",
       "    }\n",
       "</style>\n",
       "<table border=\"1\" class=\"dataframe\">\n",
       "  <thead>\n",
       "    <tr style=\"text-align: right;\">\n",
       "      <th></th>\n",
       "      <th>state_Alabama</th>\n",
       "      <th>state_Alaska</th>\n",
       "      <th>state_Arizona</th>\n",
       "      <th>state_Arkansas</th>\n",
       "      <th>state_California</th>\n",
       "      <th>state_Colorado</th>\n",
       "      <th>state_Connecticut</th>\n",
       "      <th>state_Delaware</th>\n",
       "      <th>state_District of Columbia</th>\n",
       "      <th>state_Florida</th>\n",
       "      <th>...</th>\n",
       "      <th>state_South Dakota</th>\n",
       "      <th>state_Tennessee</th>\n",
       "      <th>state_Texas</th>\n",
       "      <th>state_Utah</th>\n",
       "      <th>state_Vermont</th>\n",
       "      <th>state_Virginia</th>\n",
       "      <th>state_Washington</th>\n",
       "      <th>state_West Virginia</th>\n",
       "      <th>state_Wisconsin</th>\n",
       "      <th>state_Wyoming</th>\n",
       "    </tr>\n",
       "  </thead>\n",
       "  <tbody>\n",
       "    <tr>\n",
       "      <th>0</th>\n",
       "      <td>0</td>\n",
       "      <td>0</td>\n",
       "      <td>0</td>\n",
       "      <td>0</td>\n",
       "      <td>1</td>\n",
       "      <td>0</td>\n",
       "      <td>0</td>\n",
       "      <td>0</td>\n",
       "      <td>0</td>\n",
       "      <td>0</td>\n",
       "      <td>...</td>\n",
       "      <td>0</td>\n",
       "      <td>0</td>\n",
       "      <td>0</td>\n",
       "      <td>0</td>\n",
       "      <td>0</td>\n",
       "      <td>0</td>\n",
       "      <td>0</td>\n",
       "      <td>0</td>\n",
       "      <td>0</td>\n",
       "      <td>0</td>\n",
       "    </tr>\n",
       "    <tr>\n",
       "      <th>1</th>\n",
       "      <td>0</td>\n",
       "      <td>0</td>\n",
       "      <td>0</td>\n",
       "      <td>0</td>\n",
       "      <td>0</td>\n",
       "      <td>0</td>\n",
       "      <td>0</td>\n",
       "      <td>0</td>\n",
       "      <td>0</td>\n",
       "      <td>0</td>\n",
       "      <td>...</td>\n",
       "      <td>0</td>\n",
       "      <td>1</td>\n",
       "      <td>0</td>\n",
       "      <td>0</td>\n",
       "      <td>0</td>\n",
       "      <td>0</td>\n",
       "      <td>0</td>\n",
       "      <td>0</td>\n",
       "      <td>0</td>\n",
       "      <td>0</td>\n",
       "    </tr>\n",
       "    <tr>\n",
       "      <th>2</th>\n",
       "      <td>0</td>\n",
       "      <td>0</td>\n",
       "      <td>0</td>\n",
       "      <td>0</td>\n",
       "      <td>0</td>\n",
       "      <td>0</td>\n",
       "      <td>0</td>\n",
       "      <td>0</td>\n",
       "      <td>0</td>\n",
       "      <td>0</td>\n",
       "      <td>...</td>\n",
       "      <td>0</td>\n",
       "      <td>0</td>\n",
       "      <td>0</td>\n",
       "      <td>0</td>\n",
       "      <td>0</td>\n",
       "      <td>0</td>\n",
       "      <td>0</td>\n",
       "      <td>0</td>\n",
       "      <td>0</td>\n",
       "      <td>0</td>\n",
       "    </tr>\n",
       "    <tr>\n",
       "      <th>3</th>\n",
       "      <td>0</td>\n",
       "      <td>0</td>\n",
       "      <td>0</td>\n",
       "      <td>0</td>\n",
       "      <td>0</td>\n",
       "      <td>0</td>\n",
       "      <td>0</td>\n",
       "      <td>0</td>\n",
       "      <td>0</td>\n",
       "      <td>0</td>\n",
       "      <td>...</td>\n",
       "      <td>0</td>\n",
       "      <td>0</td>\n",
       "      <td>0</td>\n",
       "      <td>0</td>\n",
       "      <td>0</td>\n",
       "      <td>0</td>\n",
       "      <td>0</td>\n",
       "      <td>0</td>\n",
       "      <td>0</td>\n",
       "      <td>0</td>\n",
       "    </tr>\n",
       "    <tr>\n",
       "      <th>4</th>\n",
       "      <td>0</td>\n",
       "      <td>0</td>\n",
       "      <td>0</td>\n",
       "      <td>0</td>\n",
       "      <td>0</td>\n",
       "      <td>0</td>\n",
       "      <td>0</td>\n",
       "      <td>0</td>\n",
       "      <td>0</td>\n",
       "      <td>0</td>\n",
       "      <td>...</td>\n",
       "      <td>0</td>\n",
       "      <td>0</td>\n",
       "      <td>0</td>\n",
       "      <td>0</td>\n",
       "      <td>0</td>\n",
       "      <td>0</td>\n",
       "      <td>0</td>\n",
       "      <td>0</td>\n",
       "      <td>0</td>\n",
       "      <td>0</td>\n",
       "    </tr>\n",
       "  </tbody>\n",
       "</table>\n",
       "<p>5 rows × 51 columns</p>\n",
       "</div>"
      ],
      "text/plain": [
       "   state_Alabama  state_Alaska  state_Arizona  state_Arkansas  \\\n",
       "0              0             0              0               0   \n",
       "1              0             0              0               0   \n",
       "2              0             0              0               0   \n",
       "3              0             0              0               0   \n",
       "4              0             0              0               0   \n",
       "\n",
       "   state_California  state_Colorado  state_Connecticut  state_Delaware  \\\n",
       "0                 1               0                  0               0   \n",
       "1                 0               0                  0               0   \n",
       "2                 0               0                  0               0   \n",
       "3                 0               0                  0               0   \n",
       "4                 0               0                  0               0   \n",
       "\n",
       "   state_District of Columbia  state_Florida  ...  state_South Dakota  \\\n",
       "0                           0              0  ...                   0   \n",
       "1                           0              0  ...                   0   \n",
       "2                           0              0  ...                   0   \n",
       "3                           0              0  ...                   0   \n",
       "4                           0              0  ...                   0   \n",
       "\n",
       "   state_Tennessee  state_Texas  state_Utah  state_Vermont  state_Virginia  \\\n",
       "0                0            0           0              0               0   \n",
       "1                1            0           0              0               0   \n",
       "2                0            0           0              0               0   \n",
       "3                0            0           0              0               0   \n",
       "4                0            0           0              0               0   \n",
       "\n",
       "   state_Washington  state_West Virginia  state_Wisconsin  state_Wyoming  \n",
       "0                 0                    0                0              0  \n",
       "1                 0                    0                0              0  \n",
       "2                 0                    0                0              0  \n",
       "3                 0                    0                0              0  \n",
       "4                 0                    0                0              0  \n",
       "\n",
       "[5 rows x 51 columns]"
      ]
     },
     "execution_count": 146,
     "metadata": {},
     "output_type": "execute_result"
    }
   ],
   "source": [
    "dummies.head()"
   ]
  },
  {
   "cell_type": "code",
   "execution_count": 147,
   "id": "381c0f73",
   "metadata": {},
   "outputs": [],
   "source": [
    "data_train = training_data[all_vars].join(dummies)"
   ]
  },
  {
   "cell_type": "code",
   "execution_count": 148,
   "id": "6b9b4256",
   "metadata": {},
   "outputs": [],
   "source": [
    "data_test = test_data[all_vars].join(dummies_test)"
   ]
  },
  {
   "cell_type": "markdown",
   "id": "8a20a3ca",
   "metadata": {},
   "source": [
    "## Modeling"
   ]
  },
  {
   "cell_type": "markdown",
   "id": "c78997d4",
   "metadata": {},
   "source": [
    "### Functions"
   ]
  },
  {
   "cell_type": "code",
   "execution_count": 149,
   "id": "fe825085",
   "metadata": {},
   "outputs": [],
   "source": [
    "def regression_results(y_true, y_pred):\n",
    "\n",
    "    # Regression metrics\n",
    "    explained_variance=metrics.explained_variance_score(y_true, y_pred)\n",
    "    mean_absolute_error=metrics.mean_absolute_error(y_true, y_pred) \n",
    "    mse=metrics.mean_squared_error(y_true, y_pred) \n",
    "    median_absolute_error=metrics.median_absolute_error(y_true, y_pred)\n",
    "    r2=metrics.r2_score(y_true, y_pred)\n",
    "\n",
    "    print('explained_variance: ', round(explained_variance,4))    \n",
    "    print('r2: ', round(r2,4))\n",
    "    print('MAE: ', round(mean_absolute_error,4))\n",
    "    print('MSE: ', round(mse,4))\n",
    "    print('RMSE: ', round(np.sqrt(mse),4))"
   ]
  },
  {
   "cell_type": "code",
   "execution_count": 150,
   "id": "2ffe554c",
   "metadata": {},
   "outputs": [],
   "source": [
    "Y_train = np.array(training_data[y_variable])\n",
    "Y_test = np.array(test_data[y_variable])\n",
    "\n",
    "def RF_model(train_df, \n",
    "             test_df, \n",
    "             variable_list,\n",
    "             Y_train = Y_train,  \n",
    "             Y_test = Y_test):\n",
    "    train_variables = np.array(train_df[variable_list])\n",
    "    test_variables = np.array(test_df[variable_list])\n",
    "    \n",
    "    model = RandomForestRegressor(n_estimators = 100, random_state = 42).fit(train_variables, Y_train)\n",
    "    predicted = model.predict(test_variables)\n",
    "    \n",
    "    regression_results(Y_test, predicted)\n",
    "    \n",
    "    return pd.DataFrame(model.feature_importances_, \n",
    "                        index = variable_list).sort_values(by=0, ascending = False)\n"
   ]
  },
  {
   "cell_type": "markdown",
   "id": "3a3c7f36",
   "metadata": {},
   "source": [
    "## Use Grid Search to find best hyperparameters"
   ]
  },
  {
   "cell_type": "code",
   "execution_count": 151,
   "id": "77a4f097",
   "metadata": {},
   "outputs": [
    {
     "data": {
      "text/plain": [
       "[200, 400, 600, 800, 1000, 1200, 1400, 1600, 1800, 2000]"
      ]
     },
     "execution_count": 151,
     "metadata": {},
     "output_type": "execute_result"
    }
   ],
   "source": [
    "[int(x) for x in np.linspace(start = 200, stop = 2000, num = 10)]"
   ]
  },
  {
   "cell_type": "code",
   "execution_count": 152,
   "id": "b890e695",
   "metadata": {},
   "outputs": [
    {
     "name": "stdout",
     "output_type": "stream",
     "text": [
      "{'bootstrap': [True, False],\n",
      " 'max_depth': [5, 10, 15, 20, 25, None],\n",
      " 'max_features': ['auto', 'sqrt'],\n",
      " 'min_samples_leaf': [1, 2, 3, 4, 5],\n",
      " 'min_samples_split': [2, 3, 4, 5, 6],\n",
      " 'n_estimators': [5,\n",
      "                  10,\n",
      "                  15,\n",
      "                  20,\n",
      "                  25,\n",
      "                  30,\n",
      "                  35,\n",
      "                  40,\n",
      "                  45,\n",
      "                  50,\n",
      "                  55,\n",
      "                  60,\n",
      "                  65,\n",
      "                  70,\n",
      "                  75,\n",
      "                  80,\n",
      "                  85,\n",
      "                  90,\n",
      "                  95,\n",
      "                  100,\n",
      "                  105,\n",
      "                  110,\n",
      "                  115]}\n"
     ]
    }
   ],
   "source": [
    "# Number of trees in random forest\n",
    "n_estimators = [i for i in range(5, 120, 5)]\n",
    "# Number of features to consider at every split\n",
    "max_features = ['auto', 'sqrt']\n",
    "# Maximum number of levels in tree\n",
    "max_depth = [int(x) for x in range(5, 30, 5)]\n",
    "max_depth.append(None)\n",
    "# Minimum number of samples required to split a node\n",
    "min_samples_split = [2, 3, 4, 5, 6]\n",
    "# Minimum number of samples required at each leaf node\n",
    "min_samples_leaf = [1, 2, 3, 4, 5]\n",
    "# Method of selecting samples for training each tree\n",
    "bootstrap = [True, False]\n",
    "# Create the random grid\n",
    "random_grid = {'n_estimators': n_estimators,\n",
    "               'max_features': max_features,\n",
    "               'max_depth': max_depth,\n",
    "               'min_samples_split': min_samples_split,\n",
    "               'min_samples_leaf': min_samples_leaf,\n",
    "               'bootstrap': bootstrap}\n",
    "pprint(random_grid)"
   ]
  },
  {
   "cell_type": "code",
   "execution_count": 153,
   "id": "32ceb330",
   "metadata": {},
   "outputs": [],
   "source": [
    "# Use the random grid to search for best hyperparameters\n",
    "# First create the base model to tune\n",
    "rf = RandomForestRegressor()\n",
    "# Random search of parameters, using 3 fold cross validation, \n",
    "# search across 20 different combinations, and us\n",
    "\n",
    "rf_random = RandomizedSearchCV(estimator = rf, \n",
    "                               param_distributions = random_grid, \n",
    "                               n_iter = 20, \n",
    "                               cv = 3, \n",
    "                               verbose=10, \n",
    "                               random_state=42, \n",
    "                               n_jobs = -1)"
   ]
  },
  {
   "cell_type": "code",
   "execution_count": 154,
   "id": "7ef89445",
   "metadata": {},
   "outputs": [
    {
     "name": "stdout",
     "output_type": "stream",
     "text": [
      "Fitting 3 folds for each of 20 candidates, totalling 60 fits\n"
     ]
    },
    {
     "data": {
      "text/plain": [
       "RandomizedSearchCV(cv=3, estimator=RandomForestRegressor(), n_iter=20,\n",
       "                   n_jobs=-1,\n",
       "                   param_distributions={'bootstrap': [True, False],\n",
       "                                        'max_depth': [5, 10, 15, 20, 25, None],\n",
       "                                        'max_features': ['auto', 'sqrt'],\n",
       "                                        'min_samples_leaf': [1, 2, 3, 4, 5],\n",
       "                                        'min_samples_split': [2, 3, 4, 5, 6],\n",
       "                                        'n_estimators': [5, 10, 15, 20, 25, 30,\n",
       "                                                         35, 40, 45, 50, 55, 60,\n",
       "                                                         65, 70, 75, 80, 85, 90,\n",
       "                                                         95, 100, 105, 110,\n",
       "                                                         115]},\n",
       "                   random_state=42, verbose=10)"
      ]
     },
     "execution_count": 154,
     "metadata": {},
     "output_type": "execute_result"
    }
   ],
   "source": [
    "# Fit the random search model\n",
    "rf_random.fit(data_train, Y_train)"
   ]
  },
  {
   "cell_type": "code",
   "execution_count": 155,
   "id": "a738dea3",
   "metadata": {},
   "outputs": [
    {
     "data": {
      "text/plain": [
       "{'n_estimators': 50,\n",
       " 'min_samples_split': 4,\n",
       " 'min_samples_leaf': 5,\n",
       " 'max_features': 'auto',\n",
       " 'max_depth': None,\n",
       " 'bootstrap': True}"
      ]
     },
     "execution_count": 155,
     "metadata": {},
     "output_type": "execute_result"
    }
   ],
   "source": [
    "best = rf_random.best_params_\n",
    "best"
   ]
  },
  {
   "cell_type": "code",
   "execution_count": 156,
   "id": "e3d50708",
   "metadata": {},
   "outputs": [],
   "source": [
    "predictions = rf_random.predict(data_test)"
   ]
  },
  {
   "cell_type": "code",
   "execution_count": 157,
   "id": "790f44af",
   "metadata": {},
   "outputs": [
    {
     "name": "stdout",
     "output_type": "stream",
     "text": [
      "explained_variance:  0.9061\n",
      "r2:  0.9061\n",
      "MAE:  2.1044\n",
      "MSE:  8.7104\n",
      "RMSE:  2.9513\n"
     ]
    }
   ],
   "source": [
    "regression_results(Y_train, rf_random.predict(data_train))"
   ]
  },
  {
   "cell_type": "code",
   "execution_count": 158,
   "id": "ed34f7b5",
   "metadata": {},
   "outputs": [
    {
     "name": "stdout",
     "output_type": "stream",
     "text": [
      "explained_variance:  0.7451\n",
      "r2:  0.7451\n",
      "MAE:  3.6113\n",
      "MSE:  24.1044\n",
      "RMSE:  4.9096\n"
     ]
    }
   ],
   "source": [
    "regression_results(Y_test, predictions)"
   ]
  },
  {
   "cell_type": "code",
   "execution_count": 159,
   "id": "df9a34c4",
   "metadata": {},
   "outputs": [],
   "source": [
    "#Now use these \"best\" parameters in a new model\n",
    "\n",
    "rf = RandomForestRegressor(n_estimators = best['n_estimators'], min_samples_split = best['min_samples_split'],\n",
    "                           min_samples_leaf = best['min_samples_leaf'], max_features= best['max_features'], \n",
    "                           max_depth = best['max_depth'], bootstrap = best['bootstrap'])\n",
    "\n"
   ]
  },
  {
   "cell_type": "code",
   "execution_count": 160,
   "id": "85b600a4",
   "metadata": {},
   "outputs": [
    {
     "data": {
      "text/plain": [
       "RandomForestRegressor(min_samples_leaf=5, min_samples_split=4, n_estimators=50)"
      ]
     },
     "execution_count": 160,
     "metadata": {},
     "output_type": "execute_result"
    }
   ],
   "source": [
    "rf.fit(data_train, Y_train)"
   ]
  },
  {
   "cell_type": "code",
   "execution_count": 161,
   "id": "41ea46cc",
   "metadata": {},
   "outputs": [
    {
     "name": "stdout",
     "output_type": "stream",
     "text": [
      "explained_variance:  0.906\n",
      "r2:  0.906\n",
      "MAE:  2.1069\n",
      "MSE:  8.7183\n",
      "RMSE:  2.9527\n"
     ]
    }
   ],
   "source": [
    "regression_results(Y_train, rf.predict(data_train))"
   ]
  },
  {
   "cell_type": "code",
   "execution_count": 162,
   "id": "90412787",
   "metadata": {},
   "outputs": [
    {
     "name": "stdout",
     "output_type": "stream",
     "text": [
      "explained_variance:  0.7442\n",
      "r2:  0.7442\n",
      "MAE:  3.6211\n",
      "MSE:  24.1879\n",
      "RMSE:  4.9181\n"
     ]
    }
   ],
   "source": [
    "regression_results(Y_test, rf.predict(data_test))"
   ]
  },
  {
   "cell_type": "code",
   "execution_count": 163,
   "id": "e43fb3e1",
   "metadata": {},
   "outputs": [
    {
     "name": "stdout",
     "output_type": "stream",
     "text": [
      "[1.15228145e-02 1.00349033e-02 6.98069727e-03 1.01342833e-02\n",
      " 1.09100226e-02 1.23943878e-02 5.25687830e-03 6.20593083e-03\n",
      " 1.85429406e-03 2.60561264e-01 4.72432846e-02 5.83779950e-02\n",
      " 4.57630308e-02 3.49920881e-02 6.95206196e-03 7.09258055e-03\n",
      " 2.40539312e-02 2.79793803e-02 9.62108019e-02 3.41494336e-02\n",
      " 4.33081214e-03 1.87647688e-02 1.52703355e-02 1.13588407e-02\n",
      " 1.77886404e-02 1.47321076e-03 1.08847670e-03 3.23217476e-04\n",
      " 3.73918825e-04 7.86591102e-03 7.23549870e-05 1.25207789e-04\n",
      " 2.02913242e-05 1.58908908e-05 2.61094933e-02 1.68003928e-02\n",
      " 5.03916792e-05 8.23808875e-04 3.79475819e-04 4.13828377e-04\n",
      " 1.06133268e-04 6.87105313e-04 7.12842056e-04 5.61337087e-04\n",
      " 6.26278700e-04 1.35838755e-04 5.22158482e-03 1.71686530e-03\n",
      " 1.01855665e-04 1.98053887e-03 3.87821628e-03 1.46898638e-04\n",
      " 1.08330771e-04 6.63867022e-05 2.37585649e-04 3.94365592e-04\n",
      " 4.04761784e-05 3.55586060e-03 8.74367706e-03 1.77966013e-05\n",
      " 1.00649677e-03 8.07558689e-03 2.01904999e-05 8.75649221e-04\n",
      " 4.65026179e-05 2.38328587e-03 5.66221629e-04 2.12188390e-03\n",
      " 1.11224512e-01 8.73931231e-05 1.23063321e-06 2.01934693e-03\n",
      " 5.13230408e-05 2.80710369e-05 1.66077168e-04 1.66922604e-04]\n",
      "['pct_only_cellular' 'pct_internet_broadband_fiber'\n",
      " 'pct_computing_device_with_broadband' 'pct_internet_broadband_satellite'\n",
      " 'pct_computing_device' 'Ookla Median Download Speed (Mbps)'\n",
      " 'pct_internet_broadband_any_type' 'pct_internet'\n",
      " 'Wired_Provider_Count_100' 'pct_only_smartphone' 'pct_hisp_latino'\n",
      " 'pct_pop_income_gt_100k' 'pct_pop_foreign_born' 'ave_family_size'\n",
      " 'log_median_house_value' 'median_house_value' 'pct_white'\n",
      " 'log_median_income' 'pct_pop_hs+' 'median_income' 'ATT_present'\n",
      " 'employment_rate' 'ave_household_size' 'pct_pop_some_college'\n",
      " 'population_density' 'state_Alabama' 'state_Alaska' 'state_Arizona'\n",
      " 'state_Arkansas' 'state_California' 'state_Colorado' 'state_Connecticut'\n",
      " 'state_Delaware' 'state_District of Columbia' 'state_Florida'\n",
      " 'state_Georgia' 'state_Hawaii' 'state_Idaho' 'state_Illinois'\n",
      " 'state_Indiana' 'state_Iowa' 'state_Kansas' 'state_Kentucky'\n",
      " 'state_Louisiana' 'state_Maine' 'state_Maryland' 'state_Massachusetts'\n",
      " 'state_Michigan' 'state_Minnesota' 'state_Mississippi' 'state_Missouri'\n",
      " 'state_Montana' 'state_Nebraska' 'state_Nevada' 'state_New Hampshire'\n",
      " 'state_New Jersey' 'state_New Mexico' 'state_New York'\n",
      " 'state_North Carolina' 'state_North Dakota' 'state_Ohio' 'state_Oklahoma'\n",
      " 'state_Oregon' 'state_Pennsylvania' 'state_Rhode Island'\n",
      " 'state_South Carolina' 'state_South Dakota' 'state_Tennessee'\n",
      " 'state_Texas' 'state_Utah' 'state_Vermont' 'state_Virginia'\n",
      " 'state_Washington' 'state_West Virginia' 'state_Wisconsin'\n",
      " 'state_Wyoming']\n"
     ]
    }
   ],
   "source": [
    "print(rf.feature_importances_)\n",
    "print(rf.feature_names_in_)"
   ]
  },
  {
   "cell_type": "code",
   "execution_count": 164,
   "id": "890d192d",
   "metadata": {},
   "outputs": [
    {
     "name": "stdout",
     "output_type": "stream",
     "text": [
      "0.011522814504032468\n",
      "0.010034903298893668\n",
      "0.006980697272891882\n",
      "0.010134283347575684\n",
      "0.01091002257886105\n",
      "0.012394387829080242\n",
      "0.005256878298054609\n",
      "0.006205930830971133\n",
      "0.0018542940609332084\n",
      "0.2605612640251185\n",
      "0.04724328462573063\n",
      "0.05837799499336872\n",
      "0.0457630307680319\n",
      "0.034992088146665844\n",
      "0.006952061963709633\n",
      "0.0070925805477734015\n",
      "0.024053931207752968\n",
      "0.02797938031395236\n",
      "0.09621080185866639\n",
      "0.03414943358763536\n",
      "0.004330812142398764\n",
      "0.01876476884352638\n",
      "0.015270335477322856\n",
      "0.011358840653872793\n",
      "0.017788640446025693\n",
      "0.0014732107641672204\n",
      "0.0010884766974640257\n",
      "0.00032321747565297967\n",
      "0.0003739188250042748\n",
      "0.00786591102366396\n",
      "7.235498701036689e-05\n",
      "0.0001252077886979284\n",
      "2.0291324187276077e-05\n",
      "1.589089076479041e-05\n",
      "0.026109493263310673\n",
      "0.016800392828273527\n",
      "5.0391679184139105e-05\n",
      "0.0008238088754611942\n",
      "0.00037947581931004233\n",
      "0.0004138283770997019\n",
      "0.00010613326849758389\n",
      "0.0006871053130220439\n",
      "0.0007128420555989339\n",
      "0.0005613370871853434\n",
      "0.0006262787000720568\n",
      "0.00013583875469057712\n",
      "0.005221584824207034\n",
      "0.0017168653012740792\n",
      "0.00010185566455572659\n",
      "0.0019805388721809702\n",
      "0.0038782162836994774\n",
      "0.0001468986382683944\n",
      "0.00010833077134963956\n",
      "6.638670222486282e-05\n",
      "0.00023758564905732192\n",
      "0.0003943655916593602\n",
      "4.047617841372989e-05\n",
      "0.0035558606033107565\n",
      "0.008743677058370003\n",
      "1.7796601308199617e-05\n",
      "0.0010064967671698276\n",
      "0.008075586885926462\n",
      "2.019049985964033e-05\n",
      "0.0008756492208802477\n",
      "4.650261787045166e-05\n",
      "0.0023832858671190243\n",
      "0.0005662216290469955\n",
      "0.0021218839014882185\n",
      "0.11122451190892586\n",
      "8.739312306565865e-05\n",
      "1.230633213611685e-06\n",
      "0.0020193469339662754\n",
      "5.132304083511713e-05\n",
      "2.8071036927012595e-05\n",
      "0.00016607716836369017\n",
      "0.0001669226042977712\n"
     ]
    }
   ],
   "source": [
    "for i in rf.feature_importances_:\n",
    "    print(i)"
   ]
  },
  {
   "cell_type": "code",
   "execution_count": 165,
   "id": "e25e19e3",
   "metadata": {},
   "outputs": [
    {
     "name": "stdout",
     "output_type": "stream",
     "text": [
      "pct_only_cellular\n",
      "pct_internet_broadband_fiber\n",
      "pct_computing_device_with_broadband\n",
      "pct_internet_broadband_satellite\n",
      "pct_computing_device\n",
      "Ookla Median Download Speed (Mbps)\n",
      "pct_internet_broadband_any_type\n",
      "pct_internet\n",
      "Wired_Provider_Count_100\n",
      "pct_only_smartphone\n",
      "pct_hisp_latino\n",
      "pct_pop_income_gt_100k\n",
      "pct_pop_foreign_born\n",
      "ave_family_size\n",
      "log_median_house_value\n",
      "median_house_value\n",
      "pct_white\n",
      "log_median_income\n",
      "pct_pop_hs+\n",
      "median_income\n",
      "ATT_present\n",
      "employment_rate\n",
      "ave_household_size\n",
      "pct_pop_some_college\n",
      "population_density\n",
      "state_Alabama\n",
      "state_Alaska\n",
      "state_Arizona\n",
      "state_Arkansas\n",
      "state_California\n",
      "state_Colorado\n",
      "state_Connecticut\n",
      "state_Delaware\n",
      "state_District of Columbia\n",
      "state_Florida\n",
      "state_Georgia\n",
      "state_Hawaii\n",
      "state_Idaho\n",
      "state_Illinois\n",
      "state_Indiana\n",
      "state_Iowa\n",
      "state_Kansas\n",
      "state_Kentucky\n",
      "state_Louisiana\n",
      "state_Maine\n",
      "state_Maryland\n",
      "state_Massachusetts\n",
      "state_Michigan\n",
      "state_Minnesota\n",
      "state_Mississippi\n",
      "state_Missouri\n",
      "state_Montana\n",
      "state_Nebraska\n",
      "state_Nevada\n",
      "state_New Hampshire\n",
      "state_New Jersey\n",
      "state_New Mexico\n",
      "state_New York\n",
      "state_North Carolina\n",
      "state_North Dakota\n",
      "state_Ohio\n",
      "state_Oklahoma\n",
      "state_Oregon\n",
      "state_Pennsylvania\n",
      "state_Rhode Island\n",
      "state_South Carolina\n",
      "state_South Dakota\n",
      "state_Tennessee\n",
      "state_Texas\n",
      "state_Utah\n",
      "state_Vermont\n",
      "state_Virginia\n",
      "state_Washington\n",
      "state_West Virginia\n",
      "state_Wisconsin\n",
      "state_Wyoming\n"
     ]
    }
   ],
   "source": [
    "for i in rf.feature_names_in_:\n",
    "    print(i)"
   ]
  },
  {
   "cell_type": "code",
   "execution_count": 166,
   "id": "35640bae",
   "metadata": {},
   "outputs": [],
   "source": [
    "import pickle\n",
    "with open('../../../web_app2/flaskapp/static/rf_hi_model_states.pkl', 'wb') as file:\n",
    "    pickle.dump(rf, file)"
   ]
  },
  {
   "cell_type": "code",
   "execution_count": null,
   "id": "fd2b830e",
   "metadata": {},
   "outputs": [],
   "source": []
  }
 ],
 "metadata": {
  "kernelspec": {
   "display_name": "Python 3",
   "language": "python",
   "name": "python3"
  },
  "language_info": {
   "codemirror_mode": {
    "name": "ipython",
    "version": 3
   },
   "file_extension": ".py",
   "mimetype": "text/x-python",
   "name": "python",
   "nbconvert_exporter": "python",
   "pygments_lexer": "ipython3",
   "version": "3.8.10"
  }
 },
 "nbformat": 4,
 "nbformat_minor": 5
}
