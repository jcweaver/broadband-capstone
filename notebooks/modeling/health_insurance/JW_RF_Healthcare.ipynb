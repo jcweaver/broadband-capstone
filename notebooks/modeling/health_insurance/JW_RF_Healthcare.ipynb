{
 "cells": [
  {
   "cell_type": "markdown",
   "id": "632676a4",
   "metadata": {},
   "source": [
    "## Imports, Reading Data, Setting up tests\n",
    "\n",
    "\n",
    "NOte: The majority of this notebook was copied from SE_RandomForest/HealthCare"
   ]
  },
  {
   "cell_type": "code",
   "execution_count": 3,
   "id": "c819fc35",
   "metadata": {},
   "outputs": [],
   "source": [
    "import pandas as pd\n",
    "import numpy as np\n",
    "import pickle\n",
    "\n",
    "from sklearn.ensemble import RandomForestRegressor\n",
    "import sklearn.metrics as metrics\n",
    "from pprint import pprint\n",
    "from sklearn.model_selection import RandomizedSearchCV\n"
   ]
  },
  {
   "cell_type": "code",
   "execution_count": 4,
   "id": "d3027d5f",
   "metadata": {},
   "outputs": [],
   "source": [
    "training_data = pd.read_csv(\"../../../data/current_data/train_3.csv\")\n",
    "test_data = pd.read_csv(\"../../../data/current_data/test_3.csv\")"
   ]
  },
  {
   "cell_type": "code",
   "execution_count": 7,
   "id": "aefe7b38",
   "metadata": {},
   "outputs": [
    {
     "data": {
      "text/plain": [
       "['Unnamed: 0',\n",
       " 'tract_geoid',\n",
       " 'All_Provider_Count',\n",
       " 'MaxAdDown',\n",
       " 'MaxAdUp',\n",
       " 'Wired_Provider_Count',\n",
       " 'Satellite_Provider_Count',\n",
       " 'Fixed_Wireless_Provider_Count',\n",
       " 'All_Provider_Count_25',\n",
       " 'All_Provider_Count_100',\n",
       " 'Fixed_Wireless_Provider_Count_25',\n",
       " 'Wired_Provider_Count_25',\n",
       " 'Satellite_Provider_Count_25',\n",
       " 'Fixed_Wireless_Provider_Count_100',\n",
       " 'Wired_Provider_Count_100',\n",
       " 'Satellite_Provider_Count_100',\n",
       " 'NAME',\n",
       " 'median_age_overall',\n",
       " 'median_age_male',\n",
       " 'median_age_female',\n",
       " 'state',\n",
       " 'county',\n",
       " 'tract',\n",
       " 'employment_rate',\n",
       " 'median_income',\n",
       " 'total_households',\n",
       " 'ave_household_size',\n",
       " 'ave_family_size',\n",
       " 'pct_health_ins_children',\n",
       " 'pct_health_ins_19_64',\n",
       " 'pct_health_ins_65+',\n",
       " 'total_population',\n",
       " 'median_house_value',\n",
       " 'pct_white',\n",
       " 'pct_hisp_latino',\n",
       " 'pct_black',\n",
       " 'pct_native',\n",
       " 'pct_asian',\n",
       " 'pct_hi_pi',\n",
       " 'pct_other_race',\n",
       " 'pct_two+_race',\n",
       " 'pct_rent_burdened',\n",
       " 'poverty_rate',\n",
       " 'pct_pop_bachelors+',\n",
       " 'pct_pop_hs+',\n",
       " 'pct_internet',\n",
       " 'pct_internet_dial_up',\n",
       " 'pct_internet_broadband_any_type',\n",
       " 'pct_internet_cellular',\n",
       " 'pct_only_cellular',\n",
       " 'pct_internet_broadband_fiber',\n",
       " 'pct_internet_broadband_satellite',\n",
       " 'pct_internet_only_satellite',\n",
       " 'pct_internet_other',\n",
       " 'pct_internet_no_subscrp',\n",
       " 'pct_internet_none',\n",
       " 'pct_computing_device',\n",
       " 'pct_computing_device_with_dialup',\n",
       " 'pct_computing_device_with_broadband',\n",
       " 'pct_computing_device_no_internet',\n",
       " 'pct_no_computing_device',\n",
       " 'ALAND',\n",
       " 'AWATER',\n",
       " 'ALAND_SQMI',\n",
       " 'AWATER_SQMI',\n",
       " 'population_density',\n",
       " 'pct_pop_ged',\n",
       " 'pct_pop_some_college',\n",
       " 'pct_pop_associates',\n",
       " 'pct_pop_ssi_households',\n",
       " 'pct_pop_lt_10k',\n",
       " 'pct_pop_10k_thru_15k',\n",
       " 'pct_pop_15k_thru_20k',\n",
       " 'pct_pop_20k_thru_25k',\n",
       " 'pct_pop_25k_thru_30k',\n",
       " 'pct_pop_30k_thru_35k',\n",
       " 'pct_pop_35k_thru_40k',\n",
       " 'pct_pop_40k_thru_45k',\n",
       " 'pct_pop_45k_thru_50k',\n",
       " 'pct_pop_50k_thru_60k',\n",
       " 'pct_pop_60k_thru_75k',\n",
       " 'pct_pop_75k_thru_100k',\n",
       " 'pct_pop_100k_thru_125k',\n",
       " 'pct_pop_125k_thru_150k',\n",
       " 'pct_pop_150k_thru_200k',\n",
       " 'pct_pop_gt_200k',\n",
       " 'pct_pop_lt_5',\n",
       " 'pct_pop_5_to_9',\n",
       " 'pct_pop_10_to_14',\n",
       " 'pct_pop_15_to_19',\n",
       " 'pct_pop_20_to_24',\n",
       " 'pct_pop_25_to_29',\n",
       " 'pct_pop_30_to_34',\n",
       " 'pct_pop_35_to_39',\n",
       " 'pct_pop_40_to_44',\n",
       " 'pct_pop_45_to_49',\n",
       " 'pct_pop_50_to_54',\n",
       " 'pct_pop_55_to_59',\n",
       " 'pct_pop_60_to_64',\n",
       " 'pct_pop_65_to_69',\n",
       " 'pct_pop_70_to_74',\n",
       " 'pct_pop_75_to_79',\n",
       " 'pct_pop_80_to_84',\n",
       " 'pct_pop_gt_85',\n",
       " 'pct_pop_disability',\n",
       " 'pct_pop_households_with_kids',\n",
       " 'pct_pop_foreign_born',\n",
       " 'Form 477 All Terrestrial Broadband: Max Advertised Consumer Download Speed (Mbps)',\n",
       " 'Form 477 All Terrestrial Broadband: Max Advertised Consumer Upload Speed (Mbps)',\n",
       " 'Ookla Median Download Speed (Mbps)',\n",
       " 'Ookla Median Upload Speed (Mbps)',\n",
       " 'Primary RUCA Code 2010',\n",
       " 'Secondary RUCA Code, 2010 (see errata)',\n",
       " '0_5_providers',\n",
       " '6_10_providers',\n",
       " '11_15_providers',\n",
       " '16_20_providers',\n",
       " '20+_providers',\n",
       " '0_25_MaxAdDown',\n",
       " '25_99_MaxAdDown',\n",
       " '99_499_MaxAdDown',\n",
       " '499_inf_MaxAdDown',\n",
       " '0_25_Ookla Median Download Speed (Mbps)',\n",
       " '25_99_Ookla Median Download Speed (Mbps)',\n",
       " '99_499_Ookla Median Download Speed (Mbps)',\n",
       " '499_inf_Ookla Median Download Speed (Mbps)',\n",
       " '0_25_Form 477 All Terrestrial Broadband: Max Advertised Consumer Download Speed (Mbps)',\n",
       " '25_99_Form 477 All Terrestrial Broadband: Max Advertised Consumer Download Speed (Mbps)',\n",
       " '99_499_Form 477 All Terrestrial Broadband: Max Advertised Consumer Download Speed (Mbps)',\n",
       " '499_inf_Form 477 All Terrestrial Broadband: Max Advertised Consumer Download Speed (Mbps)',\n",
       " 'single_provider',\n",
       " 'Primary RUCA Code - 1.0',\n",
       " 'Primary RUCA Code - 2.0',\n",
       " 'Primary RUCA Code - 4.0',\n",
       " 'Primary RUCA Code - 10.0',\n",
       " 'Primary RUCA Code - 7.0',\n",
       " 'Primary RUCA Code - 5.0',\n",
       " 'Primary RUCA Code - 8.0',\n",
       " 'Primary RUCA Code - 3.0',\n",
       " 'Primary RUCA Code - 6.0',\n",
       " 'Primary RUCA Code - 9.0',\n",
       " 'Primary RUCA Code - 99.0',\n",
       " 'Secondary RUCA Code - 1.0',\n",
       " 'Secondary RUCA Code - 2.0',\n",
       " 'Secondary RUCA Code - 4.0',\n",
       " 'Secondary RUCA Code - 10.0',\n",
       " 'Secondary RUCA Code - 7.0',\n",
       " 'Secondary RUCA Code - 5.0',\n",
       " 'Secondary RUCA Code - 1.1',\n",
       " 'Secondary RUCA Code - 8.0',\n",
       " 'Secondary RUCA Code - 3.0',\n",
       " 'Secondary RUCA Code - 6.0',\n",
       " 'Secondary RUCA Code - 9.0',\n",
       " 'Secondary RUCA Code - 4.1',\n",
       " 'Secondary RUCA Code - 99.0',\n",
       " 'Secondary RUCA Code - 7.1',\n",
       " 'Secondary RUCA Code - 10.2',\n",
       " 'Secondary RUCA Code - 2.1',\n",
       " 'Secondary RUCA Code - 10.1',\n",
       " 'Secondary RUCA Code - 10.3',\n",
       " 'Secondary RUCA Code - 7.2',\n",
       " 'Secondary RUCA Code - 5.1',\n",
       " 'Secondary RUCA Code - 8.1',\n",
       " 'Secondary RUCA Code - 8.2',\n",
       " 'SE',\n",
       " 'INFA',\n",
       " 'DDI',\n",
       " 'pct_pop_income_lt_50k',\n",
       " 'pct_pop_income_lt_30k',\n",
       " 'pct_pop_income_gt_100k',\n",
       " 'pct_ages_gt_50',\n",
       " 'pct_ages_lt_19',\n",
       " 'ruca_metro',\n",
       " 'ruca_micro',\n",
       " 'ruca_small_town',\n",
       " 'ruca_rural',\n",
       " 'Comcast_present',\n",
       " 'ATT_present',\n",
       " 'HughesNet_present',\n",
       " 'GCI_Comm_Corp_present',\n",
       " 'ViaSat_present',\n",
       " 'VSAT_present',\n",
       " 'Century_Link_present',\n",
       " 'Spectrum_present',\n",
       " 'Crown_Castle_present',\n",
       " 'Etheric_present',\n",
       " 'Frontier_Communications_present',\n",
       " 'median_rent',\n",
       " 'pct_pop_paying_lt_15_on_rent',\n",
       " 'pct_pop_paying_15_to_20_on_rent',\n",
       " 'pct_pop_paying_20_to_25_on_rent',\n",
       " 'pct_pop_paying_25_to_30_on_rent',\n",
       " 'pct_pop_paying_30_to_35_on_rent',\n",
       " 'pct_pop_paying__gt_35_on_rent',\n",
       " 'log_median_income',\n",
       " 'log_median_house_value',\n",
       " 'median_income_over_median_rent',\n",
       " 'median_income_over_median_house_value',\n",
       " 'pct_of_internet_users_with_broadband',\n",
       " 'log_median_income_over_log_median_house',\n",
       " 'pct_desktop_or_laptop',\n",
       " 'pct_smartphone',\n",
       " 'pct_only_smartphone',\n",
       " 'pct_tablet']"
      ]
     },
     "execution_count": 7,
     "metadata": {},
     "output_type": "execute_result"
    }
   ],
   "source": [
    "pd.set_option('display.max_rows', None)\n",
    "training_data.columns.to_list()"
   ]
  },
  {
   "cell_type": "code",
   "execution_count": 132,
   "id": "9eaed329",
   "metadata": {},
   "outputs": [],
   "source": [
    "y_variable = 'pct_health_ins_19_64'\n",
    "\n",
    "broadband_vars3 = ['pct_internet',  'pct_only_smartphone', 'pct_internet_broadband_any_type',\n",
    "                   'pct_internet_broadband_fiber','Ookla Median Download Speed (Mbps)', 'Wired_Count_100']\n",
    "\n",
    "broadband_vars_group = ['pct_only_cellular', 'pct_internet_broadband_fiber', 'pct_computing_device_with_broadband', \n",
    "                        'pct_internet_broadband_satellite', 'pct_computing_device',\n",
    "                        'Ookla Median Download Speed (Mbps)','pct_internet_broadband_any_type', 'pct_internet',\n",
    "                        'Wired_Provider_Count_25']\n",
    "\n",
    "broadband_vars = broadband_vars_group"
   ]
  },
  {
   "cell_type": "code",
   "execution_count": null,
   "id": "02c21c3d",
   "metadata": {},
   "outputs": [],
   "source": [
    "covariates = ['log_median_income', 'pct_hisp_latino', 'pct_white',\n",
    "              'log_median_income_over_log_median_house',  'median_income_over_median_rent',\n",
    "             'pct_pop_foreign_born', 'pct_pop_disability', 'employment_rate', 'median_age_overall',\n",
    "             'pct_ages_lt_19',\n",
    " 'ruca_metro',\n",
    " 'ruca_micro',\n",
    " 'ruca_small_town',\n",
    " 'ruca_rural',]\n",
    "\n",
    "#Top vars from the all vars feature importance list\n",
    "covariates = ['pct_only_smartphone', 'pct_hisp_latino', 'pct_pop_income_gt_100k',\n",
    "       'pct_pop_foreign_born', 'ave_family_size', 'log_median_house_value',\n",
    "       'median_house_value', 'pct_white', 'log_median_income', 'pct_pop_hs+',\n",
    "       'median_income', 'ATT_present', 'employment_rate', 'ave_household_size',\n",
    "       'pct_pop_some_college', 'population_density']"
   ]
  },
  {
   "cell_type": "code",
   "execution_count": 114,
   "id": "a7a5989d",
   "metadata": {},
   "outputs": [],
   "source": [
    "all_vars = broadband_vars.copy()\n",
    "all_vars.extend(covariates)"
   ]
  },
  {
   "cell_type": "markdown",
   "id": "8a20a3ca",
   "metadata": {},
   "source": [
    "## Modeling"
   ]
  },
  {
   "cell_type": "markdown",
   "id": "c78997d4",
   "metadata": {},
   "source": [
    "### Functions"
   ]
  },
  {
   "cell_type": "code",
   "execution_count": 115,
   "id": "fe825085",
   "metadata": {},
   "outputs": [],
   "source": [
    "def regression_results(y_true, y_pred):\n",
    "\n",
    "    # Regression metrics\n",
    "    explained_variance=metrics.explained_variance_score(y_true, y_pred)\n",
    "    mean_absolute_error=metrics.mean_absolute_error(y_true, y_pred) \n",
    "    mse=metrics.mean_squared_error(y_true, y_pred) \n",
    "    median_absolute_error=metrics.median_absolute_error(y_true, y_pred)\n",
    "    r2=metrics.r2_score(y_true, y_pred)\n",
    "\n",
    "    print('explained_variance: ', round(explained_variance,4))    \n",
    "    print('r2: ', round(r2,4))\n",
    "    print('MAE: ', round(mean_absolute_error,4))\n",
    "    print('MSE: ', round(mse,4))\n",
    "    print('RMSE: ', round(np.sqrt(mse),4))"
   ]
  },
  {
   "cell_type": "code",
   "execution_count": 116,
   "id": "2ffe554c",
   "metadata": {},
   "outputs": [],
   "source": [
    "Y_train = np.array(training_data[y_variable])\n",
    "Y_test = np.array(test_data[y_variable])\n",
    "\n",
    "def RF_model(train_df, \n",
    "             test_df, \n",
    "             variable_list,\n",
    "             Y_train = Y_train,  \n",
    "             Y_test = Y_test):\n",
    "    train_variables = np.array(train_df[variable_list])\n",
    "    test_variables = np.array(test_df[variable_list])\n",
    "    \n",
    "    model = RandomForestRegressor(n_estimators = 100, random_state = 42).fit(train_variables, Y_train)\n",
    "    predicted = model.predict(test_variables)\n",
    "    \n",
    "    regression_results(Y_test, predicted)\n",
    "    \n",
    "    return pd.DataFrame(model.feature_importances_, \n",
    "                        index = variable_list).sort_values(by=0, ascending = False)\n"
   ]
  },
  {
   "cell_type": "markdown",
   "id": "3a3c7f36",
   "metadata": {},
   "source": [
    "## Use Grid Search to find best hyperparameters"
   ]
  },
  {
   "cell_type": "code",
   "execution_count": 117,
   "id": "77a4f097",
   "metadata": {},
   "outputs": [
    {
     "data": {
      "text/plain": [
       "[200, 400, 600, 800, 1000, 1200, 1400, 1600, 1800, 2000]"
      ]
     },
     "execution_count": 117,
     "metadata": {},
     "output_type": "execute_result"
    }
   ],
   "source": [
    "[int(x) for x in np.linspace(start = 200, stop = 2000, num = 10)]"
   ]
  },
  {
   "cell_type": "code",
   "execution_count": 118,
   "id": "b890e695",
   "metadata": {},
   "outputs": [
    {
     "name": "stdout",
     "output_type": "stream",
     "text": [
      "{'bootstrap': [True, False],\n",
      " 'max_depth': [5, 10, 15, 20, 25, None],\n",
      " 'max_features': ['auto', 'sqrt'],\n",
      " 'min_samples_leaf': [1, 2, 3, 4, 5],\n",
      " 'min_samples_split': [2, 3, 4, 5, 6],\n",
      " 'n_estimators': [5,\n",
      "                  10,\n",
      "                  15,\n",
      "                  20,\n",
      "                  25,\n",
      "                  30,\n",
      "                  35,\n",
      "                  40,\n",
      "                  45,\n",
      "                  50,\n",
      "                  55,\n",
      "                  60,\n",
      "                  65,\n",
      "                  70,\n",
      "                  75,\n",
      "                  80,\n",
      "                  85,\n",
      "                  90,\n",
      "                  95,\n",
      "                  100,\n",
      "                  105,\n",
      "                  110,\n",
      "                  115]}\n"
     ]
    }
   ],
   "source": [
    "# Number of trees in random forest\n",
    "n_estimators = [i for i in range(5, 120, 5)]\n",
    "# Number of features to consider at every split\n",
    "max_features = ['auto', 'sqrt']\n",
    "# Maximum number of levels in tree\n",
    "max_depth = [int(x) for x in range(5, 30, 5)]\n",
    "max_depth.append(None)\n",
    "# Minimum number of samples required to split a node\n",
    "min_samples_split = [2, 3, 4, 5, 6]\n",
    "# Minimum number of samples required at each leaf node\n",
    "min_samples_leaf = [1, 2, 3, 4, 5]\n",
    "# Method of selecting samples for training each tree\n",
    "bootstrap = [True, False]\n",
    "# Create the random grid\n",
    "random_grid = {'n_estimators': n_estimators,\n",
    "               'max_features': max_features,\n",
    "               'max_depth': max_depth,\n",
    "               'min_samples_split': min_samples_split,\n",
    "               'min_samples_leaf': min_samples_leaf,\n",
    "               'bootstrap': bootstrap}\n",
    "pprint(random_grid)"
   ]
  },
  {
   "cell_type": "code",
   "execution_count": 119,
   "id": "32ceb330",
   "metadata": {},
   "outputs": [],
   "source": [
    "# Use the random grid to search for best hyperparameters\n",
    "# First create the base model to tune\n",
    "rf = RandomForestRegressor()\n",
    "# Random search of parameters, using 3 fold cross validation, \n",
    "# search across 20 different combinations, and us\n",
    "\n",
    "rf_random = RandomizedSearchCV(estimator = rf, \n",
    "                               param_distributions = random_grid, \n",
    "                               n_iter = 20, \n",
    "                               cv = 3, \n",
    "                               verbose=10, \n",
    "                               random_state=42, \n",
    "                               n_jobs = -1)"
   ]
  },
  {
   "cell_type": "code",
   "execution_count": 120,
   "id": "7ef89445",
   "metadata": {},
   "outputs": [
    {
     "name": "stdout",
     "output_type": "stream",
     "text": [
      "Fitting 3 folds for each of 20 candidates, totalling 60 fits\n"
     ]
    },
    {
     "data": {
      "text/plain": [
       "RandomizedSearchCV(cv=3, estimator=RandomForestRegressor(), n_iter=20,\n",
       "                   n_jobs=-1,\n",
       "                   param_distributions={'bootstrap': [True, False],\n",
       "                                        'max_depth': [5, 10, 15, 20, 25, None],\n",
       "                                        'max_features': ['auto', 'sqrt'],\n",
       "                                        'min_samples_leaf': [1, 2, 3, 4, 5],\n",
       "                                        'min_samples_split': [2, 3, 4, 5, 6],\n",
       "                                        'n_estimators': [5, 10, 15, 20, 25, 30,\n",
       "                                                         35, 40, 45, 50, 55, 60,\n",
       "                                                         65, 70, 75, 80, 85, 90,\n",
       "                                                         95, 100, 105, 110,\n",
       "                                                         115]},\n",
       "                   random_state=42, verbose=10)"
      ]
     },
     "execution_count": 120,
     "metadata": {},
     "output_type": "execute_result"
    }
   ],
   "source": [
    "# Fit the random search model\n",
    "rf_random.fit(training_data[all_vars], Y_train)"
   ]
  },
  {
   "cell_type": "code",
   "execution_count": 121,
   "id": "a738dea3",
   "metadata": {},
   "outputs": [
    {
     "data": {
      "text/plain": [
       "{'n_estimators': 75,\n",
       " 'min_samples_split': 2,\n",
       " 'min_samples_leaf': 4,\n",
       " 'max_features': 'sqrt',\n",
       " 'max_depth': 20,\n",
       " 'bootstrap': False}"
      ]
     },
     "execution_count": 121,
     "metadata": {},
     "output_type": "execute_result"
    }
   ],
   "source": [
    "best = rf_random.best_params_\n",
    "best"
   ]
  },
  {
   "cell_type": "code",
   "execution_count": 122,
   "id": "e3d50708",
   "metadata": {},
   "outputs": [],
   "source": [
    "predictions = rf_random.predict(test_data[all_vars])"
   ]
  },
  {
   "cell_type": "code",
   "execution_count": 123,
   "id": "790f44af",
   "metadata": {},
   "outputs": [
    {
     "name": "stdout",
     "output_type": "stream",
     "text": [
      "explained_variance:  0.9467\n",
      "r2:  0.9467\n",
      "MAE:  1.5726\n",
      "MSE:  4.9439\n",
      "RMSE:  2.2235\n"
     ]
    }
   ],
   "source": [
    "regression_results(Y_train, rf_random.predict(training_data[all_vars]))"
   ]
  },
  {
   "cell_type": "code",
   "execution_count": 124,
   "id": "ed34f7b5",
   "metadata": {},
   "outputs": [
    {
     "name": "stdout",
     "output_type": "stream",
     "text": [
      "explained_variance:  0.6749\n",
      "r2:  0.6749\n",
      "MAE:  4.0847\n",
      "MSE:  30.7395\n",
      "RMSE:  5.5443\n"
     ]
    }
   ],
   "source": [
    "regression_results(Y_test, predictions)"
   ]
  },
  {
   "cell_type": "code",
   "execution_count": 125,
   "id": "df9a34c4",
   "metadata": {},
   "outputs": [],
   "source": [
    "#Now use these \"best\" parameters in a new model\n",
    "\n",
    "rf = RandomForestRegressor(n_estimators = best['n_estimators'], min_samples_split = best['min_samples_split'],\n",
    "                           min_samples_leaf = best['min_samples_leaf'], max_features= best['max_features'], \n",
    "                           max_depth = best['max_depth'], bootstrap = best['bootstrap'])\n",
    "\n"
   ]
  },
  {
   "cell_type": "code",
   "execution_count": 126,
   "id": "85b600a4",
   "metadata": {},
   "outputs": [
    {
     "data": {
      "text/plain": [
       "RandomForestRegressor(bootstrap=False, max_depth=20, max_features='sqrt',\n",
       "                      min_samples_leaf=4, n_estimators=75)"
      ]
     },
     "execution_count": 126,
     "metadata": {},
     "output_type": "execute_result"
    }
   ],
   "source": [
    "rf.fit(training_data[all_vars], training_data[y_variable])"
   ]
  },
  {
   "cell_type": "code",
   "execution_count": 127,
   "id": "41ea46cc",
   "metadata": {},
   "outputs": [
    {
     "name": "stdout",
     "output_type": "stream",
     "text": [
      "explained_variance:  0.9467\n",
      "r2:  0.9467\n",
      "MAE:  1.5737\n",
      "MSE:  4.9456\n",
      "RMSE:  2.2239\n"
     ]
    }
   ],
   "source": [
    "regression_results(Y_train, rf.predict(training_data[all_vars]))"
   ]
  },
  {
   "cell_type": "code",
   "execution_count": 128,
   "id": "90412787",
   "metadata": {},
   "outputs": [
    {
     "name": "stdout",
     "output_type": "stream",
     "text": [
      "explained_variance:  0.6767\n",
      "r2:  0.6767\n",
      "MAE:  4.0828\n",
      "MSE:  30.5759\n",
      "RMSE:  5.5296\n"
     ]
    }
   ],
   "source": [
    "regression_results(Y_test, rf.predict(test_data[all_vars]))"
   ]
  },
  {
   "cell_type": "code",
   "execution_count": 129,
   "id": "e43fb3e1",
   "metadata": {},
   "outputs": [
    {
     "name": "stdout",
     "output_type": "stream",
     "text": [
      "[0.01644935 0.01236166 0.0195313  0.01220692 0.01342668 0.01617829\n",
      " 0.0203502  0.02661637 0.00359594 0.10543019 0.11002846 0.0793264\n",
      " 0.04918959 0.04327788 0.03228048 0.03822495 0.05891536 0.07744798\n",
      " 0.05960183 0.07941697 0.01852849 0.02505449 0.03630967 0.02104764\n",
      " 0.0252029 ]\n",
      "['pct_only_cellular' 'pct_internet_broadband_fiber'\n",
      " 'pct_computing_device_with_broadband' 'pct_internet_broadband_satellite'\n",
      " 'pct_computing_device' 'Ookla Median Download Speed (Mbps)'\n",
      " 'pct_internet_broadband_any_type' 'pct_internet'\n",
      " 'Wired_Provider_Count_100' 'pct_only_smartphone' 'pct_hisp_latino'\n",
      " 'pct_pop_income_gt_100k' 'pct_pop_foreign_born' 'ave_family_size'\n",
      " 'log_median_house_value' 'median_house_value' 'pct_white'\n",
      " 'log_median_income' 'pct_pop_hs+' 'median_income' 'ATT_present'\n",
      " 'employment_rate' 'ave_household_size' 'pct_pop_some_college'\n",
      " 'population_density']\n"
     ]
    }
   ],
   "source": [
    "print(rf.feature_importances_)\n",
    "print(rf.feature_names_in_)"
   ]
  },
  {
   "cell_type": "code",
   "execution_count": 130,
   "id": "890d192d",
   "metadata": {},
   "outputs": [
    {
     "name": "stdout",
     "output_type": "stream",
     "text": [
      "0.01644934706630692\n",
      "0.012361656495057492\n",
      "0.01953130160935779\n",
      "0.012206915838953825\n",
      "0.013426681319587595\n",
      "0.01617829439812445\n",
      "0.020350204970148004\n",
      "0.026616372007287108\n",
      "0.003595936432607385\n",
      "0.10543019090389144\n",
      "0.1100284551179577\n",
      "0.07932640319505602\n",
      "0.04918959357330891\n",
      "0.04327788314229213\n",
      "0.032280483310593584\n",
      "0.03822494828332262\n",
      "0.05891536102635197\n",
      "0.07744797520217904\n",
      "0.05960183096658747\n",
      "0.0794169678634357\n",
      "0.018528494185250214\n",
      "0.025054491435612433\n",
      "0.03630967150349502\n",
      "0.0210476397739332\n",
      "0.02520290037930196\n"
     ]
    }
   ],
   "source": [
    "for i in rf.feature_importances_:\n",
    "    print(i)"
   ]
  },
  {
   "cell_type": "code",
   "execution_count": 131,
   "id": "e25e19e3",
   "metadata": {},
   "outputs": [
    {
     "name": "stdout",
     "output_type": "stream",
     "text": [
      "pct_only_cellular\n",
      "pct_internet_broadband_fiber\n",
      "pct_computing_device_with_broadband\n",
      "pct_internet_broadband_satellite\n",
      "pct_computing_device\n",
      "Ookla Median Download Speed (Mbps)\n",
      "pct_internet_broadband_any_type\n",
      "pct_internet\n",
      "Wired_Provider_Count_100\n",
      "pct_only_smartphone\n",
      "pct_hisp_latino\n",
      "pct_pop_income_gt_100k\n",
      "pct_pop_foreign_born\n",
      "ave_family_size\n",
      "log_median_house_value\n",
      "median_house_value\n",
      "pct_white\n",
      "log_median_income\n",
      "pct_pop_hs+\n",
      "median_income\n",
      "ATT_present\n",
      "employment_rate\n",
      "ave_household_size\n",
      "pct_pop_some_college\n",
      "population_density\n"
     ]
    }
   ],
   "source": [
    "for i in rf.feature_names_in_:\n",
    "    print(i)"
   ]
  },
  {
   "cell_type": "code",
   "execution_count": null,
   "id": "a2b4de13",
   "metadata": {},
   "outputs": [],
   "source": []
  },
  {
   "cell_type": "code",
   "execution_count": null,
   "id": "d68a3182",
   "metadata": {},
   "outputs": [],
   "source": []
  },
  {
   "cell_type": "code",
   "execution_count": null,
   "id": "62c1d1a3",
   "metadata": {},
   "outputs": [],
   "source": []
  }
 ],
 "metadata": {
  "kernelspec": {
   "display_name": "Python 3",
   "language": "python",
   "name": "python3"
  },
  "language_info": {
   "codemirror_mode": {
    "name": "ipython",
    "version": 3
   },
   "file_extension": ".py",
   "mimetype": "text/x-python",
   "name": "python",
   "nbconvert_exporter": "python",
   "pygments_lexer": "ipython3",
   "version": "3.8.10"
  }
 },
 "nbformat": 4,
 "nbformat_minor": 5
}
