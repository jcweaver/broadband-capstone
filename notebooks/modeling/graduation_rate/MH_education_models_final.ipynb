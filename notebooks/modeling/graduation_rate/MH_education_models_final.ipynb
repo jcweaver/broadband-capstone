{
  "cells": [
    {
      "cell_type": "code",
      "execution_count": 1,
      "metadata": {
        "id": "YO8rBz2Ss2JZ"
      },
      "outputs": [],
      "source": [
        "import pandas as pd\n",
        "import numpy as np\n",
        "import sys\n",
        "import missingno as msno\n",
        "import seaborn as sns\n",
        "import matplotlib.pyplot as plt\n",
        "\n",
        "from sklearn.pipeline import Pipeline\n",
        "from sklearn.compose import ColumnTransformer\n",
        "from sklearn.preprocessing import StandardScaler, OneHotEncoder\n",
        "from sklearn import metrics\n",
        "\n",
        "from sklearn.feature_selection import SelectKBest, f_regression\n",
        "from sklearn.linear_model import LinearRegression\n",
        "from sklearn.model_selection import cross_val_score, train_test_split\n",
        "from sklearn.model_selection import GridSearchCV\n",
        "from sklearn.metrics import mean_squared_error\n",
        "from sklearn.metrics import mean_absolute_error\n",
        "\n",
        "import xgboost as xgb\n",
        "from sklearn.model_selection import cross_val_score, GridSearchCV\n",
        "from sklearn.ensemble import RandomForestRegressor\n",
        "from sklearn.preprocessing import MinMaxScaler\n",
        "from matplotlib import pyplot\n",
        "from sklearn.linear_model import LinearRegression\n",
        "from sklearn.model_selection import RandomizedSearchCV\n",
        "import pickle\n",
        "\n"
      ]
    },
    {
      "cell_type": "code",
      "execution_count": 2,
      "metadata": {
        "colab": {
          "base_uri": "https://localhost:8080/"
        },
        "id": "RWzXXobipySq",
        "outputId": "d6a2472f-02e6-4b6b-b013-36f8aa5cc318"
      },
      "outputs": [
        {
          "output_type": "stream",
          "name": "stdout",
          "text": [
            "Mounted at /content/drive\n"
          ]
        }
      ],
      "source": [
        "##setup google drive\n",
        "from google.colab import drive\n",
        "drive.mount('/content/drive')"
      ]
    },
    {
      "cell_type": "code",
      "execution_count": 3,
      "metadata": {
        "id": "w78pV_3ns2sN"
      },
      "outputs": [],
      "source": [
        "##setup path\n",
        "root_path = '/content/drive/MyDrive/W210 - Capstone Project/data'"
      ]
    },
    {
      "cell_type": "code",
      "execution_count": 4,
      "metadata": {
        "id": "pFs6vJUStKxm"
      },
      "outputs": [],
      "source": [
        "##import dataset\n",
        "df_broadband_tr = pd.read_csv('/content/drive/MyDrive/W210 - Capstone Project/data/train_3.csv', encoding = 'ISO-8859-1')\n",
        "df_broadband_test = pd.read_csv('/content/drive/MyDrive/W210 - Capstone Project/data/test_3.csv', encoding = 'ISO-8859-1')\n"
      ]
    },
    {
      "cell_type": "markdown",
      "metadata": {
        "id": "eCIQkx0wxT6G"
      },
      "source": [
        "## Machine Learning Model for Broadband training dataset\n",
        "\n"
      ]
    },
    {
      "cell_type": "code",
      "source": [
        "df_broadband_tr = df_broadband_tr.set_index('tract_geoid')\n",
        "df_broadband_test = df_broadband_test.set_index('tract_geoid')"
      ],
      "metadata": {
        "id": "3bkQHMX61UeV"
      },
      "execution_count": 5,
      "outputs": []
    },
    {
      "cell_type": "code",
      "execution_count": 6,
      "metadata": {
        "colab": {
          "base_uri": "https://localhost:8080/",
          "height": 0
        },
        "id": "HYN-aDB8tZuu",
        "outputId": "8f1d7fb2-ca55-420c-fc37-f97e99d67d44"
      },
      "outputs": [
        {
          "output_type": "execute_result",
          "data": {
            "text/plain": [
              "             Unnamed: 0  All_Provider_Count  MaxAdDown  MaxAdUp  \\\n",
              "tract_geoid                                                       \n",
              "6099000201            0                  11     1000.0   1000.0   \n",
              "47125102002           1                   7     1000.0   1000.0   \n",
              "22019001300           2                   8     1000.0   1000.0   \n",
              "18083955400           3                  11     1000.0   1000.0   \n",
              "39085206600           4                   7     1000.0   1000.0   \n",
              "\n",
              "             Wired_Provider_Count  Satellite_Provider_Count  \\\n",
              "tract_geoid                                                   \n",
              "6099000201                    4.0                         4   \n",
              "47125102002                   3.0                         4   \n",
              "22019001300                   3.0                         4   \n",
              "18083955400                   5.0                         4   \n",
              "39085206600                   3.0                         4   \n",
              "\n",
              "             Fixed_Wireless_Provider_Count  All_Provider_Count_25  \\\n",
              "tract_geoid                                                         \n",
              "6099000201                             4.0                    7.0   \n",
              "47125102002                            0.0                    5.0   \n",
              "22019001300                            2.0                    4.0   \n",
              "18083955400                            3.0                    6.0   \n",
              "39085206600                            0.0                    4.0   \n",
              "\n",
              "             All_Provider_Count_100  Fixed_Wireless_Provider_Count_25  ...  \\\n",
              "tract_geoid                                                            ...   \n",
              "6099000201                      3.0                               3.0  ...   \n",
              "47125102002                     4.0                               0.0  ...   \n",
              "22019001300                     2.0                               0.0  ...   \n",
              "18083955400                     3.0                               1.0  ...   \n",
              "39085206600                     2.0                               0.0  ...   \n",
              "\n",
              "             log_median_income  log_median_house_value  \\\n",
              "tract_geoid                                              \n",
              "6099000201           11.172546               12.667918   \n",
              "47125102002          11.113224               12.048249   \n",
              "22019001300          11.162147               12.062779   \n",
              "18083955400          10.388995               11.202316   \n",
              "39085206600          10.900178               11.663928   \n",
              "\n",
              "             median_income_over_median_rent  \\\n",
              "tract_geoid                                   \n",
              "6099000201                        59.341118   \n",
              "47125102002                       51.697764   \n",
              "22019001300                       66.303202   \n",
              "18083955400                       50.940439   \n",
              "39085206600                       51.507605   \n",
              "\n",
              "             median_income_over_median_house_value  \\\n",
              "tract_geoid                                          \n",
              "6099000201                                0.224165   \n",
              "47125102002                               0.392576   \n",
              "22019001300                               0.406313   \n",
              "18083955400                               0.443383   \n",
              "39085206600                               0.465916   \n",
              "\n",
              "             pct_of_internet_users_with_broadband  \\\n",
              "tract_geoid                                         \n",
              "6099000201                             100.000000   \n",
              "47125102002                             99.164439   \n",
              "22019001300                            100.000000   \n",
              "18083955400                            100.000000   \n",
              "39085206600                             98.464164   \n",
              "\n",
              "            log_median_income_over_log_median_house  pct_desktop_or_laptop  \\\n",
              "tract_geoid                                                                  \n",
              "6099000201                                 0.881956              68.284076   \n",
              "47125102002                                0.922393              96.990074   \n",
              "22019001300                                0.925338              84.889780   \n",
              "18083955400                                0.927397              65.481172   \n",
              "39085206600                                0.934520              74.532020   \n",
              "\n",
              "             pct_smartphone  pct_only_smartphone  pct_tablet  \n",
              "tract_geoid                                                   \n",
              "6099000201        80.811645            14.292016   54.741950  \n",
              "47125102002       93.948127             1.953250   79.090618  \n",
              "22019001300       85.611222             6.012024   68.777555  \n",
              "18083955400       75.418410            10.564854   52.301255  \n",
              "39085206600       67.980296             2.463054   52.216749  \n",
              "\n",
              "[5 rows x 203 columns]"
            ],
            "text/html": [
              "\n",
              "  <div id=\"df-34b7dc0f-4374-4342-8c14-6e6c2686ab2e\">\n",
              "    <div class=\"colab-df-container\">\n",
              "      <div>\n",
              "<style scoped>\n",
              "    .dataframe tbody tr th:only-of-type {\n",
              "        vertical-align: middle;\n",
              "    }\n",
              "\n",
              "    .dataframe tbody tr th {\n",
              "        vertical-align: top;\n",
              "    }\n",
              "\n",
              "    .dataframe thead th {\n",
              "        text-align: right;\n",
              "    }\n",
              "</style>\n",
              "<table border=\"1\" class=\"dataframe\">\n",
              "  <thead>\n",
              "    <tr style=\"text-align: right;\">\n",
              "      <th></th>\n",
              "      <th>Unnamed: 0</th>\n",
              "      <th>All_Provider_Count</th>\n",
              "      <th>MaxAdDown</th>\n",
              "      <th>MaxAdUp</th>\n",
              "      <th>Wired_Provider_Count</th>\n",
              "      <th>Satellite_Provider_Count</th>\n",
              "      <th>Fixed_Wireless_Provider_Count</th>\n",
              "      <th>All_Provider_Count_25</th>\n",
              "      <th>All_Provider_Count_100</th>\n",
              "      <th>Fixed_Wireless_Provider_Count_25</th>\n",
              "      <th>...</th>\n",
              "      <th>log_median_income</th>\n",
              "      <th>log_median_house_value</th>\n",
              "      <th>median_income_over_median_rent</th>\n",
              "      <th>median_income_over_median_house_value</th>\n",
              "      <th>pct_of_internet_users_with_broadband</th>\n",
              "      <th>log_median_income_over_log_median_house</th>\n",
              "      <th>pct_desktop_or_laptop</th>\n",
              "      <th>pct_smartphone</th>\n",
              "      <th>pct_only_smartphone</th>\n",
              "      <th>pct_tablet</th>\n",
              "    </tr>\n",
              "    <tr>\n",
              "      <th>tract_geoid</th>\n",
              "      <th></th>\n",
              "      <th></th>\n",
              "      <th></th>\n",
              "      <th></th>\n",
              "      <th></th>\n",
              "      <th></th>\n",
              "      <th></th>\n",
              "      <th></th>\n",
              "      <th></th>\n",
              "      <th></th>\n",
              "      <th></th>\n",
              "      <th></th>\n",
              "      <th></th>\n",
              "      <th></th>\n",
              "      <th></th>\n",
              "      <th></th>\n",
              "      <th></th>\n",
              "      <th></th>\n",
              "      <th></th>\n",
              "      <th></th>\n",
              "      <th></th>\n",
              "    </tr>\n",
              "  </thead>\n",
              "  <tbody>\n",
              "    <tr>\n",
              "      <th>6099000201</th>\n",
              "      <td>0</td>\n",
              "      <td>11</td>\n",
              "      <td>1000.0</td>\n",
              "      <td>1000.0</td>\n",
              "      <td>4.0</td>\n",
              "      <td>4</td>\n",
              "      <td>4.0</td>\n",
              "      <td>7.0</td>\n",
              "      <td>3.0</td>\n",
              "      <td>3.0</td>\n",
              "      <td>...</td>\n",
              "      <td>11.172546</td>\n",
              "      <td>12.667918</td>\n",
              "      <td>59.341118</td>\n",
              "      <td>0.224165</td>\n",
              "      <td>100.000000</td>\n",
              "      <td>0.881956</td>\n",
              "      <td>68.284076</td>\n",
              "      <td>80.811645</td>\n",
              "      <td>14.292016</td>\n",
              "      <td>54.741950</td>\n",
              "    </tr>\n",
              "    <tr>\n",
              "      <th>47125102002</th>\n",
              "      <td>1</td>\n",
              "      <td>7</td>\n",
              "      <td>1000.0</td>\n",
              "      <td>1000.0</td>\n",
              "      <td>3.0</td>\n",
              "      <td>4</td>\n",
              "      <td>0.0</td>\n",
              "      <td>5.0</td>\n",
              "      <td>4.0</td>\n",
              "      <td>0.0</td>\n",
              "      <td>...</td>\n",
              "      <td>11.113224</td>\n",
              "      <td>12.048249</td>\n",
              "      <td>51.697764</td>\n",
              "      <td>0.392576</td>\n",
              "      <td>99.164439</td>\n",
              "      <td>0.922393</td>\n",
              "      <td>96.990074</td>\n",
              "      <td>93.948127</td>\n",
              "      <td>1.953250</td>\n",
              "      <td>79.090618</td>\n",
              "    </tr>\n",
              "    <tr>\n",
              "      <th>22019001300</th>\n",
              "      <td>2</td>\n",
              "      <td>8</td>\n",
              "      <td>1000.0</td>\n",
              "      <td>1000.0</td>\n",
              "      <td>3.0</td>\n",
              "      <td>4</td>\n",
              "      <td>2.0</td>\n",
              "      <td>4.0</td>\n",
              "      <td>2.0</td>\n",
              "      <td>0.0</td>\n",
              "      <td>...</td>\n",
              "      <td>11.162147</td>\n",
              "      <td>12.062779</td>\n",
              "      <td>66.303202</td>\n",
              "      <td>0.406313</td>\n",
              "      <td>100.000000</td>\n",
              "      <td>0.925338</td>\n",
              "      <td>84.889780</td>\n",
              "      <td>85.611222</td>\n",
              "      <td>6.012024</td>\n",
              "      <td>68.777555</td>\n",
              "    </tr>\n",
              "    <tr>\n",
              "      <th>18083955400</th>\n",
              "      <td>3</td>\n",
              "      <td>11</td>\n",
              "      <td>1000.0</td>\n",
              "      <td>1000.0</td>\n",
              "      <td>5.0</td>\n",
              "      <td>4</td>\n",
              "      <td>3.0</td>\n",
              "      <td>6.0</td>\n",
              "      <td>3.0</td>\n",
              "      <td>1.0</td>\n",
              "      <td>...</td>\n",
              "      <td>10.388995</td>\n",
              "      <td>11.202316</td>\n",
              "      <td>50.940439</td>\n",
              "      <td>0.443383</td>\n",
              "      <td>100.000000</td>\n",
              "      <td>0.927397</td>\n",
              "      <td>65.481172</td>\n",
              "      <td>75.418410</td>\n",
              "      <td>10.564854</td>\n",
              "      <td>52.301255</td>\n",
              "    </tr>\n",
              "    <tr>\n",
              "      <th>39085206600</th>\n",
              "      <td>4</td>\n",
              "      <td>7</td>\n",
              "      <td>1000.0</td>\n",
              "      <td>1000.0</td>\n",
              "      <td>3.0</td>\n",
              "      <td>4</td>\n",
              "      <td>0.0</td>\n",
              "      <td>4.0</td>\n",
              "      <td>2.0</td>\n",
              "      <td>0.0</td>\n",
              "      <td>...</td>\n",
              "      <td>10.900178</td>\n",
              "      <td>11.663928</td>\n",
              "      <td>51.507605</td>\n",
              "      <td>0.465916</td>\n",
              "      <td>98.464164</td>\n",
              "      <td>0.934520</td>\n",
              "      <td>74.532020</td>\n",
              "      <td>67.980296</td>\n",
              "      <td>2.463054</td>\n",
              "      <td>52.216749</td>\n",
              "    </tr>\n",
              "  </tbody>\n",
              "</table>\n",
              "<p>5 rows × 203 columns</p>\n",
              "</div>\n",
              "      <button class=\"colab-df-convert\" onclick=\"convertToInteractive('df-34b7dc0f-4374-4342-8c14-6e6c2686ab2e')\"\n",
              "              title=\"Convert this dataframe to an interactive table.\"\n",
              "              style=\"display:none;\">\n",
              "        \n",
              "  <svg xmlns=\"http://www.w3.org/2000/svg\" height=\"24px\"viewBox=\"0 0 24 24\"\n",
              "       width=\"24px\">\n",
              "    <path d=\"M0 0h24v24H0V0z\" fill=\"none\"/>\n",
              "    <path d=\"M18.56 5.44l.94 2.06.94-2.06 2.06-.94-2.06-.94-.94-2.06-.94 2.06-2.06.94zm-11 1L8.5 8.5l.94-2.06 2.06-.94-2.06-.94L8.5 2.5l-.94 2.06-2.06.94zm10 10l.94 2.06.94-2.06 2.06-.94-2.06-.94-.94-2.06-.94 2.06-2.06.94z\"/><path d=\"M17.41 7.96l-1.37-1.37c-.4-.4-.92-.59-1.43-.59-.52 0-1.04.2-1.43.59L10.3 9.45l-7.72 7.72c-.78.78-.78 2.05 0 2.83L4 21.41c.39.39.9.59 1.41.59.51 0 1.02-.2 1.41-.59l7.78-7.78 2.81-2.81c.8-.78.8-2.07 0-2.86zM5.41 20L4 18.59l7.72-7.72 1.47 1.35L5.41 20z\"/>\n",
              "  </svg>\n",
              "      </button>\n",
              "      \n",
              "  <style>\n",
              "    .colab-df-container {\n",
              "      display:flex;\n",
              "      flex-wrap:wrap;\n",
              "      gap: 12px;\n",
              "    }\n",
              "\n",
              "    .colab-df-convert {\n",
              "      background-color: #E8F0FE;\n",
              "      border: none;\n",
              "      border-radius: 50%;\n",
              "      cursor: pointer;\n",
              "      display: none;\n",
              "      fill: #1967D2;\n",
              "      height: 32px;\n",
              "      padding: 0 0 0 0;\n",
              "      width: 32px;\n",
              "    }\n",
              "\n",
              "    .colab-df-convert:hover {\n",
              "      background-color: #E2EBFA;\n",
              "      box-shadow: 0px 1px 2px rgba(60, 64, 67, 0.3), 0px 1px 3px 1px rgba(60, 64, 67, 0.15);\n",
              "      fill: #174EA6;\n",
              "    }\n",
              "\n",
              "    [theme=dark] .colab-df-convert {\n",
              "      background-color: #3B4455;\n",
              "      fill: #D2E3FC;\n",
              "    }\n",
              "\n",
              "    [theme=dark] .colab-df-convert:hover {\n",
              "      background-color: #434B5C;\n",
              "      box-shadow: 0px 1px 3px 1px rgba(0, 0, 0, 0.15);\n",
              "      filter: drop-shadow(0px 1px 2px rgba(0, 0, 0, 0.3));\n",
              "      fill: #FFFFFF;\n",
              "    }\n",
              "  </style>\n",
              "\n",
              "      <script>\n",
              "        const buttonEl =\n",
              "          document.querySelector('#df-34b7dc0f-4374-4342-8c14-6e6c2686ab2e button.colab-df-convert');\n",
              "        buttonEl.style.display =\n",
              "          google.colab.kernel.accessAllowed ? 'block' : 'none';\n",
              "\n",
              "        async function convertToInteractive(key) {\n",
              "          const element = document.querySelector('#df-34b7dc0f-4374-4342-8c14-6e6c2686ab2e');\n",
              "          const dataTable =\n",
              "            await google.colab.kernel.invokeFunction('convertToInteractive',\n",
              "                                                     [key], {});\n",
              "          if (!dataTable) return;\n",
              "\n",
              "          const docLinkHtml = 'Like what you see? Visit the ' +\n",
              "            '<a target=\"_blank\" href=https://colab.research.google.com/notebooks/data_table.ipynb>data table notebook</a>'\n",
              "            + ' to learn more about interactive tables.';\n",
              "          element.innerHTML = '';\n",
              "          dataTable['output_type'] = 'display_data';\n",
              "          await google.colab.output.renderOutput(dataTable, element);\n",
              "          const docLink = document.createElement('div');\n",
              "          docLink.innerHTML = docLinkHtml;\n",
              "          element.appendChild(docLink);\n",
              "        }\n",
              "      </script>\n",
              "    </div>\n",
              "  </div>\n",
              "  "
            ]
          },
          "metadata": {},
          "execution_count": 6
        }
      ],
      "source": [
        "df_broadband_tr.head()"
      ]
    },
    {
      "cell_type": "code",
      "execution_count": 7,
      "metadata": {
        "colab": {
          "base_uri": "https://localhost:8080/"
        },
        "id": "UPVLpuRVbJ0-",
        "outputId": "29de864d-1e53-454f-b4f5-863fce0c40c2"
      },
      "outputs": [
        {
          "output_type": "execute_result",
          "data": {
            "text/plain": [
              "(55826, 203)"
            ]
          },
          "metadata": {},
          "execution_count": 7
        }
      ],
      "source": [
        "df_broadband_tr.shape\n"
      ]
    },
    {
      "cell_type": "code",
      "source": [
        "df_broadband_test.shape"
      ],
      "metadata": {
        "colab": {
          "base_uri": "https://localhost:8080/"
        },
        "id": "s6sqcoKqsBlK",
        "outputId": "d96c3ec0-1107-4d89-fbfa-a9df404fc07c"
      },
      "execution_count": 8,
      "outputs": [
        {
          "output_type": "execute_result",
          "data": {
            "text/plain": [
              "(13947, 203)"
            ]
          },
          "metadata": {},
          "execution_count": 8
        }
      ]
    },
    {
      "cell_type": "code",
      "execution_count": 9,
      "metadata": {
        "colab": {
          "base_uri": "https://localhost:8080/",
          "height": 0
        },
        "id": "U6sENte-ubEd",
        "outputId": "eb1d4290-9f12-46d1-ba5b-fafdffe39924"
      },
      "outputs": [
        {
          "output_type": "execute_result",
          "data": {
            "text/plain": [
              "         Unnamed: 0  All_Provider_Count     MaxAdDown       MaxAdUp  \\\n",
              "count  55826.000000        55826.000000  55826.000000  55826.000000   \n",
              "mean   27912.500000           10.656719    957.897019    629.729030   \n",
              "std    16115.722401            3.058830    152.595259    438.285021   \n",
              "min        0.000000            3.000000      2.000000      0.512000   \n",
              "25%    13956.250000            8.000000    987.000000     50.000000   \n",
              "50%    27912.500000           10.000000   1000.000000    940.000000   \n",
              "75%    41868.750000           12.000000   1000.000000   1000.000000   \n",
              "max    55825.000000           38.000000   1000.000000   1000.000000   \n",
              "\n",
              "       Wired_Provider_Count  Satellite_Provider_Count  \\\n",
              "count          55826.000000              55826.000000   \n",
              "mean               5.527424                  3.996417   \n",
              "std                2.677041                  0.068151   \n",
              "min                0.000000                  2.000000   \n",
              "25%                4.000000                  4.000000   \n",
              "50%                5.000000                  4.000000   \n",
              "75%                7.000000                  4.000000   \n",
              "max               29.000000                  5.000000   \n",
              "\n",
              "       Fixed_Wireless_Provider_Count  All_Provider_Count_25  \\\n",
              "count                   55826.000000           55826.000000   \n",
              "mean                        1.333554               5.085337   \n",
              "std                         1.444999               1.390270   \n",
              "min                         0.000000               0.000000   \n",
              "25%                         0.000000               4.000000   \n",
              "50%                         1.000000               5.000000   \n",
              "75%                         2.000000               6.000000   \n",
              "max                        17.000000              16.000000   \n",
              "\n",
              "       All_Provider_Count_100  Fixed_Wireless_Provider_Count_25  ...  \\\n",
              "count            55826.000000                      55826.000000  ...   \n",
              "mean                 2.999893                          0.655573  ...   \n",
              "std                  1.188782                          0.929290  ...   \n",
              "min                  0.000000                          0.000000  ...   \n",
              "25%                  2.000000                          0.000000  ...   \n",
              "50%                  3.000000                          0.000000  ...   \n",
              "75%                  4.000000                          1.000000  ...   \n",
              "max                 11.000000                          8.000000  ...   \n",
              "\n",
              "       log_median_income  log_median_house_value  \\\n",
              "count       55826.000000            55826.000000   \n",
              "mean           10.999802               12.221700   \n",
              "std             0.461022                0.740413   \n",
              "min             8.325791                9.210240   \n",
              "25%            10.702435               11.704372   \n",
              "50%            10.993580               12.161598   \n",
              "75%            11.302621               12.718597   \n",
              "max            12.429220               14.508658   \n",
              "\n",
              "       median_income_over_median_rent  median_income_over_median_house_value  \\\n",
              "count                    55826.000000                           55826.000000   \n",
              "mean                        60.508040                               0.332359   \n",
              "std                         21.704515                               0.165234   \n",
              "min                          5.894772                               0.014433   \n",
              "25%                         45.899438                               0.222456   \n",
              "50%                         57.336393                               0.321160   \n",
              "75%                         71.797508                               0.417278   \n",
              "max                        707.617647                               5.813081   \n",
              "\n",
              "       pct_of_internet_users_with_broadband  \\\n",
              "count                          55826.000000   \n",
              "mean                              99.516694   \n",
              "std                                0.890079   \n",
              "min                               72.222222   \n",
              "25%                               99.256813   \n",
              "50%                              100.000000   \n",
              "75%                              100.000000   \n",
              "max                              100.000000   \n",
              "\n",
              "       log_median_income_over_log_median_house  pct_desktop_or_laptop  \\\n",
              "count                             55826.000000           55826.000000   \n",
              "mean                                  0.901661              75.911962   \n",
              "std                                   0.037318              14.286054   \n",
              "min                                   0.685061               2.603369   \n",
              "25%                                   0.880425              67.133688   \n",
              "50%                                   0.906645              77.999462   \n",
              "75%                                   0.926328              87.088051   \n",
              "max                                   1.191104             100.000000   \n",
              "\n",
              "       pct_smartphone  pct_only_smartphone    pct_tablet  \n",
              "count    55826.000000         55826.000000  55826.000000  \n",
              "mean        78.749925             7.615102     57.937991  \n",
              "std          9.791230             6.136955     12.524106  \n",
              "min         10.483871             0.000000      6.317411  \n",
              "25%         72.638049             2.963984     49.611084  \n",
              "50%         79.719145             6.208054     58.320951  \n",
              "75%         86.081764            10.781179     67.021646  \n",
              "max        100.000000            45.263560     92.727273  \n",
              "\n",
              "[8 rows x 202 columns]"
            ],
            "text/html": [
              "\n",
              "  <div id=\"df-2a7841d9-6690-4661-bd81-f1cacd3b3656\">\n",
              "    <div class=\"colab-df-container\">\n",
              "      <div>\n",
              "<style scoped>\n",
              "    .dataframe tbody tr th:only-of-type {\n",
              "        vertical-align: middle;\n",
              "    }\n",
              "\n",
              "    .dataframe tbody tr th {\n",
              "        vertical-align: top;\n",
              "    }\n",
              "\n",
              "    .dataframe thead th {\n",
              "        text-align: right;\n",
              "    }\n",
              "</style>\n",
              "<table border=\"1\" class=\"dataframe\">\n",
              "  <thead>\n",
              "    <tr style=\"text-align: right;\">\n",
              "      <th></th>\n",
              "      <th>Unnamed: 0</th>\n",
              "      <th>All_Provider_Count</th>\n",
              "      <th>MaxAdDown</th>\n",
              "      <th>MaxAdUp</th>\n",
              "      <th>Wired_Provider_Count</th>\n",
              "      <th>Satellite_Provider_Count</th>\n",
              "      <th>Fixed_Wireless_Provider_Count</th>\n",
              "      <th>All_Provider_Count_25</th>\n",
              "      <th>All_Provider_Count_100</th>\n",
              "      <th>Fixed_Wireless_Provider_Count_25</th>\n",
              "      <th>...</th>\n",
              "      <th>log_median_income</th>\n",
              "      <th>log_median_house_value</th>\n",
              "      <th>median_income_over_median_rent</th>\n",
              "      <th>median_income_over_median_house_value</th>\n",
              "      <th>pct_of_internet_users_with_broadband</th>\n",
              "      <th>log_median_income_over_log_median_house</th>\n",
              "      <th>pct_desktop_or_laptop</th>\n",
              "      <th>pct_smartphone</th>\n",
              "      <th>pct_only_smartphone</th>\n",
              "      <th>pct_tablet</th>\n",
              "    </tr>\n",
              "  </thead>\n",
              "  <tbody>\n",
              "    <tr>\n",
              "      <th>count</th>\n",
              "      <td>55826.000000</td>\n",
              "      <td>55826.000000</td>\n",
              "      <td>55826.000000</td>\n",
              "      <td>55826.000000</td>\n",
              "      <td>55826.000000</td>\n",
              "      <td>55826.000000</td>\n",
              "      <td>55826.000000</td>\n",
              "      <td>55826.000000</td>\n",
              "      <td>55826.000000</td>\n",
              "      <td>55826.000000</td>\n",
              "      <td>...</td>\n",
              "      <td>55826.000000</td>\n",
              "      <td>55826.000000</td>\n",
              "      <td>55826.000000</td>\n",
              "      <td>55826.000000</td>\n",
              "      <td>55826.000000</td>\n",
              "      <td>55826.000000</td>\n",
              "      <td>55826.000000</td>\n",
              "      <td>55826.000000</td>\n",
              "      <td>55826.000000</td>\n",
              "      <td>55826.000000</td>\n",
              "    </tr>\n",
              "    <tr>\n",
              "      <th>mean</th>\n",
              "      <td>27912.500000</td>\n",
              "      <td>10.656719</td>\n",
              "      <td>957.897019</td>\n",
              "      <td>629.729030</td>\n",
              "      <td>5.527424</td>\n",
              "      <td>3.996417</td>\n",
              "      <td>1.333554</td>\n",
              "      <td>5.085337</td>\n",
              "      <td>2.999893</td>\n",
              "      <td>0.655573</td>\n",
              "      <td>...</td>\n",
              "      <td>10.999802</td>\n",
              "      <td>12.221700</td>\n",
              "      <td>60.508040</td>\n",
              "      <td>0.332359</td>\n",
              "      <td>99.516694</td>\n",
              "      <td>0.901661</td>\n",
              "      <td>75.911962</td>\n",
              "      <td>78.749925</td>\n",
              "      <td>7.615102</td>\n",
              "      <td>57.937991</td>\n",
              "    </tr>\n",
              "    <tr>\n",
              "      <th>std</th>\n",
              "      <td>16115.722401</td>\n",
              "      <td>3.058830</td>\n",
              "      <td>152.595259</td>\n",
              "      <td>438.285021</td>\n",
              "      <td>2.677041</td>\n",
              "      <td>0.068151</td>\n",
              "      <td>1.444999</td>\n",
              "      <td>1.390270</td>\n",
              "      <td>1.188782</td>\n",
              "      <td>0.929290</td>\n",
              "      <td>...</td>\n",
              "      <td>0.461022</td>\n",
              "      <td>0.740413</td>\n",
              "      <td>21.704515</td>\n",
              "      <td>0.165234</td>\n",
              "      <td>0.890079</td>\n",
              "      <td>0.037318</td>\n",
              "      <td>14.286054</td>\n",
              "      <td>9.791230</td>\n",
              "      <td>6.136955</td>\n",
              "      <td>12.524106</td>\n",
              "    </tr>\n",
              "    <tr>\n",
              "      <th>min</th>\n",
              "      <td>0.000000</td>\n",
              "      <td>3.000000</td>\n",
              "      <td>2.000000</td>\n",
              "      <td>0.512000</td>\n",
              "      <td>0.000000</td>\n",
              "      <td>2.000000</td>\n",
              "      <td>0.000000</td>\n",
              "      <td>0.000000</td>\n",
              "      <td>0.000000</td>\n",
              "      <td>0.000000</td>\n",
              "      <td>...</td>\n",
              "      <td>8.325791</td>\n",
              "      <td>9.210240</td>\n",
              "      <td>5.894772</td>\n",
              "      <td>0.014433</td>\n",
              "      <td>72.222222</td>\n",
              "      <td>0.685061</td>\n",
              "      <td>2.603369</td>\n",
              "      <td>10.483871</td>\n",
              "      <td>0.000000</td>\n",
              "      <td>6.317411</td>\n",
              "    </tr>\n",
              "    <tr>\n",
              "      <th>25%</th>\n",
              "      <td>13956.250000</td>\n",
              "      <td>8.000000</td>\n",
              "      <td>987.000000</td>\n",
              "      <td>50.000000</td>\n",
              "      <td>4.000000</td>\n",
              "      <td>4.000000</td>\n",
              "      <td>0.000000</td>\n",
              "      <td>4.000000</td>\n",
              "      <td>2.000000</td>\n",
              "      <td>0.000000</td>\n",
              "      <td>...</td>\n",
              "      <td>10.702435</td>\n",
              "      <td>11.704372</td>\n",
              "      <td>45.899438</td>\n",
              "      <td>0.222456</td>\n",
              "      <td>99.256813</td>\n",
              "      <td>0.880425</td>\n",
              "      <td>67.133688</td>\n",
              "      <td>72.638049</td>\n",
              "      <td>2.963984</td>\n",
              "      <td>49.611084</td>\n",
              "    </tr>\n",
              "    <tr>\n",
              "      <th>50%</th>\n",
              "      <td>27912.500000</td>\n",
              "      <td>10.000000</td>\n",
              "      <td>1000.000000</td>\n",
              "      <td>940.000000</td>\n",
              "      <td>5.000000</td>\n",
              "      <td>4.000000</td>\n",
              "      <td>1.000000</td>\n",
              "      <td>5.000000</td>\n",
              "      <td>3.000000</td>\n",
              "      <td>0.000000</td>\n",
              "      <td>...</td>\n",
              "      <td>10.993580</td>\n",
              "      <td>12.161598</td>\n",
              "      <td>57.336393</td>\n",
              "      <td>0.321160</td>\n",
              "      <td>100.000000</td>\n",
              "      <td>0.906645</td>\n",
              "      <td>77.999462</td>\n",
              "      <td>79.719145</td>\n",
              "      <td>6.208054</td>\n",
              "      <td>58.320951</td>\n",
              "    </tr>\n",
              "    <tr>\n",
              "      <th>75%</th>\n",
              "      <td>41868.750000</td>\n",
              "      <td>12.000000</td>\n",
              "      <td>1000.000000</td>\n",
              "      <td>1000.000000</td>\n",
              "      <td>7.000000</td>\n",
              "      <td>4.000000</td>\n",
              "      <td>2.000000</td>\n",
              "      <td>6.000000</td>\n",
              "      <td>4.000000</td>\n",
              "      <td>1.000000</td>\n",
              "      <td>...</td>\n",
              "      <td>11.302621</td>\n",
              "      <td>12.718597</td>\n",
              "      <td>71.797508</td>\n",
              "      <td>0.417278</td>\n",
              "      <td>100.000000</td>\n",
              "      <td>0.926328</td>\n",
              "      <td>87.088051</td>\n",
              "      <td>86.081764</td>\n",
              "      <td>10.781179</td>\n",
              "      <td>67.021646</td>\n",
              "    </tr>\n",
              "    <tr>\n",
              "      <th>max</th>\n",
              "      <td>55825.000000</td>\n",
              "      <td>38.000000</td>\n",
              "      <td>1000.000000</td>\n",
              "      <td>1000.000000</td>\n",
              "      <td>29.000000</td>\n",
              "      <td>5.000000</td>\n",
              "      <td>17.000000</td>\n",
              "      <td>16.000000</td>\n",
              "      <td>11.000000</td>\n",
              "      <td>8.000000</td>\n",
              "      <td>...</td>\n",
              "      <td>12.429220</td>\n",
              "      <td>14.508658</td>\n",
              "      <td>707.617647</td>\n",
              "      <td>5.813081</td>\n",
              "      <td>100.000000</td>\n",
              "      <td>1.191104</td>\n",
              "      <td>100.000000</td>\n",
              "      <td>100.000000</td>\n",
              "      <td>45.263560</td>\n",
              "      <td>92.727273</td>\n",
              "    </tr>\n",
              "  </tbody>\n",
              "</table>\n",
              "<p>8 rows × 202 columns</p>\n",
              "</div>\n",
              "      <button class=\"colab-df-convert\" onclick=\"convertToInteractive('df-2a7841d9-6690-4661-bd81-f1cacd3b3656')\"\n",
              "              title=\"Convert this dataframe to an interactive table.\"\n",
              "              style=\"display:none;\">\n",
              "        \n",
              "  <svg xmlns=\"http://www.w3.org/2000/svg\" height=\"24px\"viewBox=\"0 0 24 24\"\n",
              "       width=\"24px\">\n",
              "    <path d=\"M0 0h24v24H0V0z\" fill=\"none\"/>\n",
              "    <path d=\"M18.56 5.44l.94 2.06.94-2.06 2.06-.94-2.06-.94-.94-2.06-.94 2.06-2.06.94zm-11 1L8.5 8.5l.94-2.06 2.06-.94-2.06-.94L8.5 2.5l-.94 2.06-2.06.94zm10 10l.94 2.06.94-2.06 2.06-.94-2.06-.94-.94-2.06-.94 2.06-2.06.94z\"/><path d=\"M17.41 7.96l-1.37-1.37c-.4-.4-.92-.59-1.43-.59-.52 0-1.04.2-1.43.59L10.3 9.45l-7.72 7.72c-.78.78-.78 2.05 0 2.83L4 21.41c.39.39.9.59 1.41.59.51 0 1.02-.2 1.41-.59l7.78-7.78 2.81-2.81c.8-.78.8-2.07 0-2.86zM5.41 20L4 18.59l7.72-7.72 1.47 1.35L5.41 20z\"/>\n",
              "  </svg>\n",
              "      </button>\n",
              "      \n",
              "  <style>\n",
              "    .colab-df-container {\n",
              "      display:flex;\n",
              "      flex-wrap:wrap;\n",
              "      gap: 12px;\n",
              "    }\n",
              "\n",
              "    .colab-df-convert {\n",
              "      background-color: #E8F0FE;\n",
              "      border: none;\n",
              "      border-radius: 50%;\n",
              "      cursor: pointer;\n",
              "      display: none;\n",
              "      fill: #1967D2;\n",
              "      height: 32px;\n",
              "      padding: 0 0 0 0;\n",
              "      width: 32px;\n",
              "    }\n",
              "\n",
              "    .colab-df-convert:hover {\n",
              "      background-color: #E2EBFA;\n",
              "      box-shadow: 0px 1px 2px rgba(60, 64, 67, 0.3), 0px 1px 3px 1px rgba(60, 64, 67, 0.15);\n",
              "      fill: #174EA6;\n",
              "    }\n",
              "\n",
              "    [theme=dark] .colab-df-convert {\n",
              "      background-color: #3B4455;\n",
              "      fill: #D2E3FC;\n",
              "    }\n",
              "\n",
              "    [theme=dark] .colab-df-convert:hover {\n",
              "      background-color: #434B5C;\n",
              "      box-shadow: 0px 1px 3px 1px rgba(0, 0, 0, 0.15);\n",
              "      filter: drop-shadow(0px 1px 2px rgba(0, 0, 0, 0.3));\n",
              "      fill: #FFFFFF;\n",
              "    }\n",
              "  </style>\n",
              "\n",
              "      <script>\n",
              "        const buttonEl =\n",
              "          document.querySelector('#df-2a7841d9-6690-4661-bd81-f1cacd3b3656 button.colab-df-convert');\n",
              "        buttonEl.style.display =\n",
              "          google.colab.kernel.accessAllowed ? 'block' : 'none';\n",
              "\n",
              "        async function convertToInteractive(key) {\n",
              "          const element = document.querySelector('#df-2a7841d9-6690-4661-bd81-f1cacd3b3656');\n",
              "          const dataTable =\n",
              "            await google.colab.kernel.invokeFunction('convertToInteractive',\n",
              "                                                     [key], {});\n",
              "          if (!dataTable) return;\n",
              "\n",
              "          const docLinkHtml = 'Like what you see? Visit the ' +\n",
              "            '<a target=\"_blank\" href=https://colab.research.google.com/notebooks/data_table.ipynb>data table notebook</a>'\n",
              "            + ' to learn more about interactive tables.';\n",
              "          element.innerHTML = '';\n",
              "          dataTable['output_type'] = 'display_data';\n",
              "          await google.colab.output.renderOutput(dataTable, element);\n",
              "          const docLink = document.createElement('div');\n",
              "          docLink.innerHTML = docLinkHtml;\n",
              "          element.appendChild(docLink);\n",
              "        }\n",
              "      </script>\n",
              "    </div>\n",
              "  </div>\n",
              "  "
            ]
          },
          "metadata": {},
          "execution_count": 9
        }
      ],
      "source": [
        "df_broadband_tr.describe()"
      ]
    },
    {
      "cell_type": "code",
      "execution_count": 10,
      "metadata": {
        "colab": {
          "base_uri": "https://localhost:8080/"
        },
        "id": "SjZxjEWIua92",
        "outputId": "62210b7c-b69e-4b2e-b658-90edaec5149b"
      },
      "outputs": [
        {
          "output_type": "stream",
          "name": "stdout",
          "text": [
            "<class 'pandas.core.frame.DataFrame'>\n",
            "Int64Index: 55826 entries, 6099000201 to 26125131800\n",
            "Columns: 203 entries, Unnamed: 0 to pct_tablet\n",
            "dtypes: float64(130), int64(72), object(1)\n",
            "memory usage: 86.9+ MB\n"
          ]
        }
      ],
      "source": [
        "df_broadband_tr.info()"
      ]
    },
    {
      "cell_type": "markdown",
      "source": [
        "### Broadband Variables exploration"
      ],
      "metadata": {
        "id": "En8NpZKzXOlk"
      }
    },
    {
      "cell_type": "code",
      "source": [
        "broadband_vars = ['MaxAdDown',\n",
        "                 'MaxAdUp',\n",
        "                 'Wired_Provider_Count',\n",
        "                 'Satellite_Provider_Count',\n",
        "                 'Fixed_Wireless_Provider_Count',\n",
        "                 'All_Provider_Count_25',\n",
        "                 'All_Provider_Count_100',\n",
        "                 'Fixed_Wireless_Provider_Count_25',\n",
        "                 'Wired_Provider_Count_25',\n",
        "                 'Satellite_Provider_Count_25',\n",
        "                 'Fixed_Wireless_Provider_Count_100',\n",
        "                 'Wired_Provider_Count_100',\n",
        "                 'Satellite_Provider_Count_100',\n",
        "                 'pct_internet',\n",
        "                 'pct_internet_dial_up',\n",
        "                 'pct_internet_broadband_any_type',\n",
        "                 'pct_internet_cellular',\n",
        "                 'pct_only_cellular',\n",
        "                 'pct_internet_broadband_fiber',\n",
        "                 'pct_internet_broadband_satellite',\n",
        "                 'pct_internet_only_satellite',\n",
        "                 'pct_internet_other',\n",
        "                 'pct_internet_no_subscrp',\n",
        "                 'pct_internet_none',\n",
        "                 'pct_computer',\n",
        "                 'pct_computer_with_dialup',\n",
        "                 'pct_computer_with_broadband',\n",
        "                 'pct_computer_no_internet',\n",
        "                 'pct_no_computer',\n",
        "                 'Form 477 All Terrestrial Broadband: Max Advertised Consumer Download Speed (Mbps)',\n",
        "                 'Form 477 All Terrestrial Broadband: Max Advertised Consumer Upload Speed (Mbps)',\n",
        "                 'Ookla Median Download Speed (Mbps)',\n",
        "                 'Ookla Median Upload Speed (Mbps)',\n",
        "                 '0_5_providers',\n",
        "                 '6_10_providers',\n",
        "                 '11_15_providers',\n",
        "                 '16_20_providers',\n",
        "                 '20+_providers',\n",
        "                 '0_25_MaxAdDown',\n",
        "                 '25_99_MaxAdDown',\n",
        "                 '99_499_MaxAdDown',\n",
        "                 '499_inf_MaxAdDown',\n",
        "                 '0_25_Ookla Median Download Speed (Mbps)',\n",
        "                 '25_99_Ookla Median Download Speed (Mbps)',\n",
        "                 '99_499_Ookla Median Download Speed (Mbps)',\n",
        "                 '499_inf_Ookla Median Download Speed (Mbps)',\n",
        "                 '0_25_Form 477 All Terrestrial Broadband: Max Advertised Consumer Download Speed (Mbps)',\n",
        "                 '25_99_Form 477 All Terrestrial Broadband: Max Advertised Consumer Download Speed (Mbps)',\n",
        "                 '99_499_Form 477 All Terrestrial Broadband: Max Advertised Consumer Download Speed (Mbps)',\n",
        "                 '499_inf_Form 477 All Terrestrial Broadband: Max Advertised Consumer Download Speed (Mbps)',\n",
        "                 'single_provider',\n",
        "                 'SE',\n",
        "                 'INFA',\n",
        "                 'DDI',\n",
        "                 'ruca_metro',\n",
        "                 'ruca_micro',\n",
        "                 'ruca_small_town',\n",
        "                 'ruca_rural',\n",
        "                 'Comcast_present',\n",
        "                 'ATT_present',\n",
        "                 'HughesNet_present',\n",
        "                 'GCI_Comm_Corp_present',\n",
        "                 'ViaSat_present',\n",
        "                 'VSAT_present',\n",
        "                 'Century_Link_present',\n",
        "                 'Spectrum_present',\n",
        "                 'Crown_Castle_present',\n",
        "                 'Etheric_present',\n",
        "                 'Frontier_Communications_present']"
      ],
      "metadata": {
        "id": "A5TIu8wJJpBJ"
      },
      "execution_count": 11,
      "outputs": []
    },
    {
      "cell_type": "code",
      "execution_count": 12,
      "metadata": {
        "colab": {
          "base_uri": "https://localhost:8080/"
        },
        "id": "NMGlRvqAeiqy",
        "outputId": "02afd532-a14f-424d-d50d-73ed9208c673"
      },
      "outputs": [
        {
          "output_type": "execute_result",
          "data": {
            "text/plain": [
              "['MaxAdDown',\n",
              " 'MaxAdUp',\n",
              " 'Wired_Provider_Count',\n",
              " 'Fixed_Wireless_Provider_Count',\n",
              " 'All_Provider_Count_25',\n",
              " 'All_Provider_Count_100',\n",
              " 'Fixed_Wireless_Provider_Count_25',\n",
              " 'Wired_Provider_Count_25',\n",
              " 'Satellite_Provider_Count_25',\n",
              " 'Fixed_Wireless_Provider_Count_100',\n",
              " 'Wired_Provider_Count_100',\n",
              " 'Satellite_Provider_Count_100',\n",
              " 'median_age_overall',\n",
              " 'median_age_male',\n",
              " 'median_age_female',\n",
              " 'state',\n",
              " 'county',\n",
              " 'tract',\n",
              " 'employment_rate',\n",
              " 'median_income',\n",
              " 'total_households',\n",
              " 'ave_household_size',\n",
              " 'ave_family_size',\n",
              " 'pct_health_ins_children',\n",
              " 'pct_health_ins_19_64',\n",
              " 'pct_health_ins_65+',\n",
              " 'total_population',\n",
              " 'median_house_value',\n",
              " 'pct_white',\n",
              " 'pct_hisp_latino',\n",
              " 'pct_black',\n",
              " 'pct_native',\n",
              " 'pct_asian',\n",
              " 'pct_hi_pi',\n",
              " 'pct_other_race',\n",
              " 'pct_two+_race',\n",
              " 'pct_rent_burdened',\n",
              " 'poverty_rate',\n",
              " 'pct_pop_bachelors+',\n",
              " 'pct_pop_hs+',\n",
              " 'pct_internet',\n",
              " 'pct_internet_dial_up',\n",
              " 'pct_internet_broadband_any_type',\n",
              " 'pct_internet_cellular',\n",
              " 'pct_only_cellular',\n",
              " 'pct_internet_broadband_fiber',\n",
              " 'pct_internet_broadband_satellite',\n",
              " 'pct_internet_only_satellite',\n",
              " 'pct_internet_other',\n",
              " 'pct_internet_no_subscrp',\n",
              " 'pct_internet_none',\n",
              " 'pct_computing_device',\n",
              " 'pct_computing_device_with_dialup',\n",
              " 'pct_computing_device_with_broadband',\n",
              " 'pct_computing_device_no_internet',\n",
              " 'pct_no_computing_device',\n",
              " 'ALAND_SQMI',\n",
              " 'AWATER_SQMI',\n",
              " 'population_density',\n",
              " 'pct_pop_ged',\n",
              " 'pct_pop_some_college',\n",
              " 'pct_pop_associates',\n",
              " 'pct_pop_ssi_households',\n",
              " 'pct_pop_lt_10k',\n",
              " 'pct_pop_10k_thru_15k',\n",
              " 'pct_pop_15k_thru_20k',\n",
              " 'pct_pop_20k_thru_25k',\n",
              " 'pct_pop_25k_thru_30k',\n",
              " 'pct_pop_30k_thru_35k',\n",
              " 'pct_pop_35k_thru_40k',\n",
              " 'pct_pop_40k_thru_45k',\n",
              " 'pct_pop_45k_thru_50k',\n",
              " 'pct_pop_50k_thru_60k',\n",
              " 'pct_pop_60k_thru_75k',\n",
              " 'pct_pop_75k_thru_100k',\n",
              " 'pct_pop_100k_thru_125k',\n",
              " 'pct_pop_125k_thru_150k',\n",
              " 'pct_pop_150k_thru_200k',\n",
              " 'pct_pop_gt_200k',\n",
              " 'pct_pop_lt_5',\n",
              " 'pct_pop_5_to_9',\n",
              " 'pct_pop_10_to_14',\n",
              " 'pct_pop_15_to_19',\n",
              " 'pct_pop_20_to_24',\n",
              " 'pct_pop_25_to_29',\n",
              " 'pct_pop_30_to_34',\n",
              " 'pct_pop_35_to_39',\n",
              " 'pct_pop_40_to_44',\n",
              " 'pct_pop_45_to_49',\n",
              " 'pct_pop_50_to_54',\n",
              " 'pct_pop_55_to_59',\n",
              " 'pct_pop_60_to_64',\n",
              " 'pct_pop_65_to_69',\n",
              " 'pct_pop_70_to_74',\n",
              " 'pct_pop_75_to_79',\n",
              " 'pct_pop_80_to_84',\n",
              " 'pct_pop_gt_85',\n",
              " 'pct_pop_disability',\n",
              " 'pct_pop_households_with_kids',\n",
              " 'pct_pop_foreign_born',\n",
              " 'Form 477 All Terrestrial Broadband: Max Advertised Consumer Download Speed (Mbps)',\n",
              " 'Form 477 All Terrestrial Broadband: Max Advertised Consumer Upload Speed (Mbps)',\n",
              " 'Ookla Median Download Speed (Mbps)',\n",
              " 'Ookla Median Upload Speed (Mbps)',\n",
              " 'Primary RUCA Code 2010',\n",
              " 'Secondary RUCA Code, 2010 (see errata)',\n",
              " 'SE',\n",
              " 'INFA',\n",
              " 'DDI',\n",
              " 'pct_pop_income_lt_50k',\n",
              " 'pct_pop_income_lt_30k',\n",
              " 'pct_pop_income_gt_100k',\n",
              " 'pct_ages_gt_50',\n",
              " 'pct_ages_lt_19',\n",
              " 'pct_pop_paying_lt_15_on_rent',\n",
              " 'pct_pop_paying_15_to_20_on_rent',\n",
              " 'pct_pop_paying_20_to_25_on_rent',\n",
              " 'pct_pop_paying_25_to_30_on_rent',\n",
              " 'pct_pop_paying_30_to_35_on_rent',\n",
              " 'pct_pop_paying__gt_35_on_rent',\n",
              " 'log_median_income',\n",
              " 'log_median_house_value',\n",
              " 'median_income_over_median_rent',\n",
              " 'median_income_over_median_house_value',\n",
              " 'pct_of_internet_users_with_broadband',\n",
              " 'log_median_income_over_log_median_house',\n",
              " 'pct_desktop_or_laptop',\n",
              " 'pct_smartphone',\n",
              " 'pct_only_smartphone',\n",
              " 'pct_tablet']"
            ]
          },
          "metadata": {},
          "execution_count": 12
        }
      ],
      "source": [
        "## get a list of numerical feature\n",
        "numeric_feats = df_broadband_tr.dtypes[df_broadband_tr.dtypes == \"float64\"].index.values.tolist()\n",
        "numeric_feats"
      ]
    },
    {
      "cell_type": "code",
      "execution_count": 13,
      "metadata": {
        "colab": {
          "base_uri": "https://localhost:8080/"
        },
        "id": "fTgKIO2NOvao",
        "outputId": "1e47e7cc-19bb-4ded-85b5-41b97e2855f0"
      },
      "outputs": [
        {
          "output_type": "execute_result",
          "data": {
            "text/plain": [
              "['Unnamed: 0',\n",
              " 'All_Provider_Count',\n",
              " 'Satellite_Provider_Count',\n",
              " 'NAME',\n",
              " 'ALAND',\n",
              " 'AWATER',\n",
              " '0_5_providers',\n",
              " '6_10_providers',\n",
              " '11_15_providers',\n",
              " '16_20_providers',\n",
              " '20+_providers',\n",
              " '0_25_MaxAdDown',\n",
              " '25_99_MaxAdDown',\n",
              " '99_499_MaxAdDown',\n",
              " '499_inf_MaxAdDown',\n",
              " '0_25_Ookla Median Download Speed (Mbps)',\n",
              " '25_99_Ookla Median Download Speed (Mbps)',\n",
              " '99_499_Ookla Median Download Speed (Mbps)',\n",
              " '499_inf_Ookla Median Download Speed (Mbps)',\n",
              " '0_25_Form 477 All Terrestrial Broadband: Max Advertised Consumer Download Speed (Mbps)',\n",
              " '25_99_Form 477 All Terrestrial Broadband: Max Advertised Consumer Download Speed (Mbps)',\n",
              " '99_499_Form 477 All Terrestrial Broadband: Max Advertised Consumer Download Speed (Mbps)',\n",
              " '499_inf_Form 477 All Terrestrial Broadband: Max Advertised Consumer Download Speed (Mbps)',\n",
              " 'single_provider',\n",
              " 'Primary RUCA Code - 1.0',\n",
              " 'Primary RUCA Code - 2.0',\n",
              " 'Primary RUCA Code - 4.0',\n",
              " 'Primary RUCA Code - 10.0',\n",
              " 'Primary RUCA Code - 7.0',\n",
              " 'Primary RUCA Code - 5.0',\n",
              " 'Primary RUCA Code - 8.0',\n",
              " 'Primary RUCA Code - 3.0',\n",
              " 'Primary RUCA Code - 6.0',\n",
              " 'Primary RUCA Code - 9.0',\n",
              " 'Primary RUCA Code - 99.0',\n",
              " 'Secondary RUCA Code - 1.0',\n",
              " 'Secondary RUCA Code - 2.0',\n",
              " 'Secondary RUCA Code - 4.0',\n",
              " 'Secondary RUCA Code - 10.0',\n",
              " 'Secondary RUCA Code - 7.0',\n",
              " 'Secondary RUCA Code - 5.0',\n",
              " 'Secondary RUCA Code - 1.1',\n",
              " 'Secondary RUCA Code - 8.0',\n",
              " 'Secondary RUCA Code - 3.0',\n",
              " 'Secondary RUCA Code - 6.0',\n",
              " 'Secondary RUCA Code - 9.0',\n",
              " 'Secondary RUCA Code - 4.1',\n",
              " 'Secondary RUCA Code - 99.0',\n",
              " 'Secondary RUCA Code - 7.1',\n",
              " 'Secondary RUCA Code - 10.2',\n",
              " 'Secondary RUCA Code - 2.1',\n",
              " 'Secondary RUCA Code - 10.1',\n",
              " 'Secondary RUCA Code - 10.3',\n",
              " 'Secondary RUCA Code - 7.2',\n",
              " 'Secondary RUCA Code - 5.1',\n",
              " 'Secondary RUCA Code - 8.1',\n",
              " 'Secondary RUCA Code - 8.2',\n",
              " 'ruca_metro',\n",
              " 'ruca_micro',\n",
              " 'ruca_small_town',\n",
              " 'ruca_rural',\n",
              " 'Comcast_present',\n",
              " 'ATT_present',\n",
              " 'HughesNet_present',\n",
              " 'GCI_Comm_Corp_present',\n",
              " 'ViaSat_present',\n",
              " 'VSAT_present',\n",
              " 'Century_Link_present',\n",
              " 'Spectrum_present',\n",
              " 'Crown_Castle_present',\n",
              " 'Etheric_present',\n",
              " 'Frontier_Communications_present',\n",
              " 'median_rent']"
            ]
          },
          "metadata": {},
          "execution_count": 13
        }
      ],
      "source": [
        "other_feats = df_broadband_tr.dtypes[df_broadband_tr.dtypes != \"float64\"].index.values.tolist()\n",
        "other_feats"
      ]
    },
    {
      "cell_type": "markdown",
      "metadata": {
        "id": "XI0nMC9abT2o"
      },
      "source": [
        "### Train test split\n",
        "linear regression on target variable = pct of high school degree + "
      ]
    },
    {
      "cell_type": "code",
      "execution_count": 14,
      "metadata": {
        "id": "cnCiTnsibl01"
      },
      "outputs": [],
      "source": [
        "##drop some variables that are not numerical, highly correlated to dependent varible (bachelors degree)\n",
        "\n",
        "to_drop = ['pct_pop_hs+','pct_pop_bachelors+', 'NAME','DDI','INFA','SE','pct_pop_some_college','pct_internet_none'\t]\n",
        "target = ['pct_pop_hs+']\n",
        "\n",
        "X = df_broadband_tr.drop(to_drop, axis = 'columns', inplace=False)\n",
        "y = df_broadband_tr[target]\n",
        "\n",
        "##split into train and test 80/20 random split\n",
        "from sklearn.model_selection import train_test_split\n",
        "X_train_all, X_test_all, y_train_all, y_test_all = train_test_split(X, y, test_size = 0.2, random_state = 0)"
      ]
    },
    {
      "cell_type": "code",
      "execution_count": 15,
      "metadata": {
        "id": "Nz6nm57Gb6xn"
      },
      "outputs": [],
      "source": [
        "# from sklearn.preprocessing import StandardScaler\n",
        "\n",
        "# sc = StandardScaler()\n",
        "# X_train = sc.fit_transform(X_train)\n",
        "# X_test = sc.transform(X_test)"
      ]
    },
    {
      "cell_type": "code",
      "execution_count": 16,
      "metadata": {
        "colab": {
          "base_uri": "https://localhost:8080/"
        },
        "id": "swbtyDXhcO6-",
        "outputId": "8da52476-7202-43df-92c0-564c7d887c93"
      },
      "outputs": [
        {
          "output_type": "execute_result",
          "data": {
            "text/plain": [
              "(44660, 195)"
            ]
          },
          "metadata": {},
          "execution_count": 16
        }
      ],
      "source": [
        "X_train_all.shape"
      ]
    },
    {
      "cell_type": "markdown",
      "source": [
        "### Broadband Variables Set 1&2"
      ],
      "metadata": {
        "id": "NCK6Jcq9Cn5L"
      }
    },
    {
      "cell_type": "code",
      "source": [
        "br_important_vars = ['pct_internet',\n",
        "'pct_only_cellular',\n",
        "'pct_computing_device_no_internet',\n",
        "'pct_internet_broadband_satellite',\n",
        "'pct_computing_device_with_broadband']\n"
      ],
      "metadata": {
        "id": "GI7OjhnigbsJ"
      },
      "execution_count": 17,
      "outputs": []
    },
    {
      "cell_type": "code",
      "source": [
        "br_interest_vars = ['pct_internet',\n",
        "  'All_Provider_Count_25',\n",
        "  'All_Provider_Count_100',\n",
        "  'Ookla Median Download Speed (Mbps)',\n",
        "  'pct_computing_device',\n",
        "  'pct_internet_broadband_any_type']\n"
      ],
      "metadata": {
        "id": "Ca6GkWmBtzvs"
      },
      "execution_count": 18,
      "outputs": []
    },
    {
      "cell_type": "code",
      "source": [
        "important_cov = ['log_median_income', \n",
        "                 'pct_hisp_latino',\n",
        "                 'ruca_metro',\n",
        "                 'ruca_micro',\n",
        "                 'ruca_small_town',\n",
        "                 'ruca_rural',\n",
        "                 'log_median_income_over_log_median_house',\n",
        "                 'pct_pop_foreign_born',\n",
        "                 'pct_pop_disability']"
      ],
      "metadata": {
        "id": "KKae559HSJK_"
      },
      "execution_count": 19,
      "outputs": []
    },
    {
      "cell_type": "code",
      "source": [
        "def regression_results(y_test, y_pred):\n",
        "\n",
        "    # Regression metrics\n",
        "    explained_variance=metrics.explained_variance_score(y_test, y_pred)\n",
        "    mae=metrics.mean_absolute_error(y_test, y_pred) \n",
        "    mse=metrics.mean_squared_error(y_test, y_pred) \n",
        "    r2=metrics.r2_score(y_test, y_pred)\n",
        "    adj_r2 = 1 - ( 1-r2 ) * ( len(y_test) - 1 ) / ( len(y_test) - X.shape[1] - 1 )\n",
        "\n",
        "\n",
        "    print(\"The model performance for testing set\")\n",
        "    print(\"--------------------------------------\")\n",
        "    print('MAE is {}'.format(mae))\n",
        "    print('MSE is {}'.format(mse))\n",
        "    print('RMSE is {}'.format(mse**(1/2.0)))\n",
        "    print('R2 score is {}'.format(r2))\n",
        "    print('Adj R2 score is {}'.format(adj_r2))"
      ],
      "metadata": {
        "id": "IlsV9ZfYPpGH"
      },
      "execution_count": 20,
      "outputs": []
    },
    {
      "cell_type": "code",
      "source": [
        ""
      ],
      "metadata": {
        "id": "GqOr2jb5Dl28"
      },
      "execution_count": 20,
      "outputs": []
    },
    {
      "cell_type": "markdown",
      "source": [
        "### Baseline Model - log(median income)"
      ],
      "metadata": {
        "id": "62Ni5T55JwFW"
      }
    },
    {
      "cell_type": "code",
      "source": [
        "#limit the dataset to only log(median income)\n",
        "\n",
        "ind_var = ['log_median_income']\n",
        "target = ['pct_pop_hs+']\n",
        "\n",
        "X_train = X_train_all[ind_var]\n",
        "X_test = X_test_all[ind_var]\n",
        "y_train = y_train_all[target]\n",
        "y_test = y_test_all[target]\n"
      ],
      "metadata": {
        "id": "PDIUQTaDNSKY"
      },
      "execution_count": 21,
      "outputs": []
    },
    {
      "cell_type": "code",
      "source": [
        "## linear regression model using sklearn\n",
        "lr = LinearRegression()\n",
        "lr.fit(X_train, y_train)\n",
        "## predict on x test \n",
        "y_pred = lr.predict(X_test)"
      ],
      "metadata": {
        "id": "CKyO0z1rK963"
      },
      "execution_count": 22,
      "outputs": []
    },
    {
      "cell_type": "code",
      "source": [
        "# model evaluation for testing set\n",
        "regression_results(y_test, y_pred)"
      ],
      "metadata": {
        "colab": {
          "base_uri": "https://localhost:8080/"
        },
        "id": "cb3Q4PGZPD6l",
        "outputId": "ad0248a5-f97a-4ce0-a053-8e3bbb20776d"
      },
      "execution_count": 23,
      "outputs": [
        {
          "output_type": "stream",
          "name": "stdout",
          "text": [
            "The model performance for testing set\n",
            "--------------------------------------\n",
            "MAE is 8.94802099331186\n",
            "MSE is 132.4111115283205\n",
            "RMSE is 11.507002716968502\n",
            "R2 score is 0.4630529011595057\n",
            "Adj R2 score is 0.4535082626659873\n"
          ]
        }
      ]
    },
    {
      "cell_type": "markdown",
      "metadata": {
        "id": "_NbhyMNTyQi_"
      },
      "source": [
        "### LR 1: Include all variables (except the ones dropped earlier)"
      ]
    },
    {
      "cell_type": "code",
      "execution_count": 24,
      "metadata": {
        "id": "X_kkH1OSeU0o"
      },
      "outputs": [],
      "source": [
        "## linear regression model using sklearn\n",
        "lr = LinearRegression()\n",
        "lr.fit(X_train_all, y_train_all)\n",
        "## predict on x test \n",
        "y_pred = lr.predict(X_test_all)"
      ]
    },
    {
      "cell_type": "code",
      "execution_count": 25,
      "metadata": {
        "colab": {
          "base_uri": "https://localhost:8080/",
          "height": 0
        },
        "id": "Skn86nV1AeZA",
        "outputId": "f61dcabc-6740-4b40-a90f-1f663754351a"
      },
      "outputs": [
        {
          "output_type": "execute_result",
          "data": {
            "text/plain": [
              "                                     Feature  Coefficients\n",
              "0                                 Unnamed: 0 -8.427085e-07\n",
              "1                         All_Provider_Count  4.185857e-01\n",
              "2                                  MaxAdDown  2.599617e-03\n",
              "3                                    MaxAdUp -1.698877e-05\n",
              "4                       Wired_Provider_Count -6.208141e-01\n",
              "..                                       ...           ...\n",
              "190  log_median_income_over_log_median_house -3.694351e+00\n",
              "191                    pct_desktop_or_laptop  4.121476e-01\n",
              "192                           pct_smartphone  1.490142e-01\n",
              "193                      pct_only_smartphone  5.149481e-02\n",
              "194                               pct_tablet  6.798378e-02\n",
              "\n",
              "[195 rows x 2 columns]"
            ],
            "text/html": [
              "\n",
              "  <div id=\"df-65468b7b-91a3-4a6c-8793-7cff38dfd5f8\">\n",
              "    <div class=\"colab-df-container\">\n",
              "      <div>\n",
              "<style scoped>\n",
              "    .dataframe tbody tr th:only-of-type {\n",
              "        vertical-align: middle;\n",
              "    }\n",
              "\n",
              "    .dataframe tbody tr th {\n",
              "        vertical-align: top;\n",
              "    }\n",
              "\n",
              "    .dataframe thead th {\n",
              "        text-align: right;\n",
              "    }\n",
              "</style>\n",
              "<table border=\"1\" class=\"dataframe\">\n",
              "  <thead>\n",
              "    <tr style=\"text-align: right;\">\n",
              "      <th></th>\n",
              "      <th>Feature</th>\n",
              "      <th>Coefficients</th>\n",
              "    </tr>\n",
              "  </thead>\n",
              "  <tbody>\n",
              "    <tr>\n",
              "      <th>0</th>\n",
              "      <td>Unnamed: 0</td>\n",
              "      <td>-8.427085e-07</td>\n",
              "    </tr>\n",
              "    <tr>\n",
              "      <th>1</th>\n",
              "      <td>All_Provider_Count</td>\n",
              "      <td>4.185857e-01</td>\n",
              "    </tr>\n",
              "    <tr>\n",
              "      <th>2</th>\n",
              "      <td>MaxAdDown</td>\n",
              "      <td>2.599617e-03</td>\n",
              "    </tr>\n",
              "    <tr>\n",
              "      <th>3</th>\n",
              "      <td>MaxAdUp</td>\n",
              "      <td>-1.698877e-05</td>\n",
              "    </tr>\n",
              "    <tr>\n",
              "      <th>4</th>\n",
              "      <td>Wired_Provider_Count</td>\n",
              "      <td>-6.208141e-01</td>\n",
              "    </tr>\n",
              "    <tr>\n",
              "      <th>...</th>\n",
              "      <td>...</td>\n",
              "      <td>...</td>\n",
              "    </tr>\n",
              "    <tr>\n",
              "      <th>190</th>\n",
              "      <td>log_median_income_over_log_median_house</td>\n",
              "      <td>-3.694351e+00</td>\n",
              "    </tr>\n",
              "    <tr>\n",
              "      <th>191</th>\n",
              "      <td>pct_desktop_or_laptop</td>\n",
              "      <td>4.121476e-01</td>\n",
              "    </tr>\n",
              "    <tr>\n",
              "      <th>192</th>\n",
              "      <td>pct_smartphone</td>\n",
              "      <td>1.490142e-01</td>\n",
              "    </tr>\n",
              "    <tr>\n",
              "      <th>193</th>\n",
              "      <td>pct_only_smartphone</td>\n",
              "      <td>5.149481e-02</td>\n",
              "    </tr>\n",
              "    <tr>\n",
              "      <th>194</th>\n",
              "      <td>pct_tablet</td>\n",
              "      <td>6.798378e-02</td>\n",
              "    </tr>\n",
              "  </tbody>\n",
              "</table>\n",
              "<p>195 rows × 2 columns</p>\n",
              "</div>\n",
              "      <button class=\"colab-df-convert\" onclick=\"convertToInteractive('df-65468b7b-91a3-4a6c-8793-7cff38dfd5f8')\"\n",
              "              title=\"Convert this dataframe to an interactive table.\"\n",
              "              style=\"display:none;\">\n",
              "        \n",
              "  <svg xmlns=\"http://www.w3.org/2000/svg\" height=\"24px\"viewBox=\"0 0 24 24\"\n",
              "       width=\"24px\">\n",
              "    <path d=\"M0 0h24v24H0V0z\" fill=\"none\"/>\n",
              "    <path d=\"M18.56 5.44l.94 2.06.94-2.06 2.06-.94-2.06-.94-.94-2.06-.94 2.06-2.06.94zm-11 1L8.5 8.5l.94-2.06 2.06-.94-2.06-.94L8.5 2.5l-.94 2.06-2.06.94zm10 10l.94 2.06.94-2.06 2.06-.94-2.06-.94-.94-2.06-.94 2.06-2.06.94z\"/><path d=\"M17.41 7.96l-1.37-1.37c-.4-.4-.92-.59-1.43-.59-.52 0-1.04.2-1.43.59L10.3 9.45l-7.72 7.72c-.78.78-.78 2.05 0 2.83L4 21.41c.39.39.9.59 1.41.59.51 0 1.02-.2 1.41-.59l7.78-7.78 2.81-2.81c.8-.78.8-2.07 0-2.86zM5.41 20L4 18.59l7.72-7.72 1.47 1.35L5.41 20z\"/>\n",
              "  </svg>\n",
              "      </button>\n",
              "      \n",
              "  <style>\n",
              "    .colab-df-container {\n",
              "      display:flex;\n",
              "      flex-wrap:wrap;\n",
              "      gap: 12px;\n",
              "    }\n",
              "\n",
              "    .colab-df-convert {\n",
              "      background-color: #E8F0FE;\n",
              "      border: none;\n",
              "      border-radius: 50%;\n",
              "      cursor: pointer;\n",
              "      display: none;\n",
              "      fill: #1967D2;\n",
              "      height: 32px;\n",
              "      padding: 0 0 0 0;\n",
              "      width: 32px;\n",
              "    }\n",
              "\n",
              "    .colab-df-convert:hover {\n",
              "      background-color: #E2EBFA;\n",
              "      box-shadow: 0px 1px 2px rgba(60, 64, 67, 0.3), 0px 1px 3px 1px rgba(60, 64, 67, 0.15);\n",
              "      fill: #174EA6;\n",
              "    }\n",
              "\n",
              "    [theme=dark] .colab-df-convert {\n",
              "      background-color: #3B4455;\n",
              "      fill: #D2E3FC;\n",
              "    }\n",
              "\n",
              "    [theme=dark] .colab-df-convert:hover {\n",
              "      background-color: #434B5C;\n",
              "      box-shadow: 0px 1px 3px 1px rgba(0, 0, 0, 0.15);\n",
              "      filter: drop-shadow(0px 1px 2px rgba(0, 0, 0, 0.3));\n",
              "      fill: #FFFFFF;\n",
              "    }\n",
              "  </style>\n",
              "\n",
              "      <script>\n",
              "        const buttonEl =\n",
              "          document.querySelector('#df-65468b7b-91a3-4a6c-8793-7cff38dfd5f8 button.colab-df-convert');\n",
              "        buttonEl.style.display =\n",
              "          google.colab.kernel.accessAllowed ? 'block' : 'none';\n",
              "\n",
              "        async function convertToInteractive(key) {\n",
              "          const element = document.querySelector('#df-65468b7b-91a3-4a6c-8793-7cff38dfd5f8');\n",
              "          const dataTable =\n",
              "            await google.colab.kernel.invokeFunction('convertToInteractive',\n",
              "                                                     [key], {});\n",
              "          if (!dataTable) return;\n",
              "\n",
              "          const docLinkHtml = 'Like what you see? Visit the ' +\n",
              "            '<a target=\"_blank\" href=https://colab.research.google.com/notebooks/data_table.ipynb>data table notebook</a>'\n",
              "            + ' to learn more about interactive tables.';\n",
              "          element.innerHTML = '';\n",
              "          dataTable['output_type'] = 'display_data';\n",
              "          await google.colab.output.renderOutput(dataTable, element);\n",
              "          const docLink = document.createElement('div');\n",
              "          docLink.innerHTML = docLinkHtml;\n",
              "          element.appendChild(docLink);\n",
              "        }\n",
              "      </script>\n",
              "    </div>\n",
              "  </div>\n",
              "  "
            ]
          },
          "metadata": {},
          "execution_count": 25
        }
      ],
      "source": [
        "## look at coeffcients\n",
        "pd.DataFrame({\"Feature\":X.columns.tolist(),\"Coefficients\":lr.coef_[0]})"
      ]
    },
    {
      "cell_type": "code",
      "execution_count": 26,
      "metadata": {
        "colab": {
          "base_uri": "https://localhost:8080/"
        },
        "id": "svF_eAhzfzuB",
        "outputId": "ba3ac9dd-b4e5-4f77-c3e0-15038284c4ce"
      },
      "outputs": [
        {
          "output_type": "execute_result",
          "data": {
            "text/plain": [
              "0.8503546478038394"
            ]
          },
          "metadata": {},
          "execution_count": 26
        }
      ],
      "source": [
        "lr.score(X_test_all,y_test_all)"
      ]
    },
    {
      "cell_type": "code",
      "execution_count": 27,
      "metadata": {
        "colab": {
          "base_uri": "https://localhost:8080/",
          "height": 0
        },
        "id": "9MIPnk81CwNu",
        "outputId": "888c963e-4938-46e3-f248-06f7344d8434"
      },
      "outputs": [
        {
          "output_type": "display_data",
          "data": {
            "text/plain": [
              "<Figure size 432x288 with 1 Axes>"
            ],
            "image/png": "[encoded data removed]"
          },
          "metadata": {
            "needs_background": "light"
          }
        }
      ],
      "source": [
        "fig, ax = plt.subplots()\n",
        "ax.scatter(y_pred, y_test_all, edgecolors=(0, 0, 1))\n",
        "ax.plot([y_test_all.min(), y_test_all.max()], [y_test_all.min(), y_test_all.max()], 'r--', lw=3)\n",
        "ax.set_xlabel('Predicted')\n",
        "ax.set_ylabel('Actual')\n",
        "plt.show()\n"
      ]
    },
    {
      "cell_type": "markdown",
      "metadata": {
        "id": "EJiw2x_DDScR"
      },
      "source": [
        "#### LR 1: Model evaluation metrics"
      ]
    },
    {
      "cell_type": "code",
      "execution_count": 28,
      "metadata": {
        "colab": {
          "base_uri": "https://localhost:8080/"
        },
        "id": "OrjwOxJzDBbU",
        "outputId": "55109a6d-6e1c-443c-a5cf-5930593e8fa1"
      },
      "outputs": [
        {
          "output_type": "stream",
          "name": "stdout",
          "text": [
            "The model performance for testing set\n",
            "--------------------------------------\n",
            "MAE is 4.7758417372521444\n",
            "MSE is 36.902531854868606\n",
            "RMSE is 6.074745414819341\n",
            "R2 score is 0.8503546478038394\n",
            "Adj R2 score is 0.8476945891276086\n"
          ]
        }
      ],
      "source": [
        "# model evaluation for testing set\n",
        "regression_results(y_test, y_pred)"
      ]
    },
    {
      "cell_type": "markdown",
      "metadata": {
        "id": "_94uhK8BGGMJ"
      },
      "source": [
        "### LR 2: Model with high correlation variables (corr > |0.5|)"
      ]
    },
    {
      "cell_type": "code",
      "execution_count": 29,
      "metadata": {
        "id": "kcwvfvGAFTOg"
      },
      "outputs": [],
      "source": [
        "corr = df_broadband_tr.corr()\n",
        "edu_corr = corr['pct_pop_hs+']"
      ]
    },
    {
      "cell_type": "code",
      "execution_count": 30,
      "metadata": {
        "cellView": "code",
        "colab": {
          "base_uri": "https://localhost:8080/"
        },
        "id": "z8ENi2uuGQkz",
        "outputId": "e2a08696-b8f3-465d-f4d5-905ec256090b"
      },
      "outputs": [
        {
          "output_type": "execute_result",
          "data": {
            "text/plain": [
              "pct_pop_hs+                            1.000000\n",
              "pct_pop_bachelors+                     0.888712\n",
              "pct_desktop_or_laptop                  0.776303\n",
              "pct_pop_income_gt_100k                 0.710661\n",
              "pct_tablet                             0.698570\n",
              "pct_computing_device_with_broadband    0.689616\n",
              "log_median_income                      0.684769\n",
              "pct_internet_broadband_any_type        0.683735\n",
              "pct_internet                           0.683164\n",
              "median_income                          0.676618\n",
              "pct_internet_cellular                  0.639092\n",
              "pct_computing_device                   0.638943\n",
              "pct_pop_gt_200k                        0.636543\n",
              "pct_pop_150k_thru_200k                 0.608908\n",
              "log_median_house_value                 0.578137\n",
              "pct_smartphone                         0.577029\n",
              "pct_health_ins_19_64                   0.572022\n",
              "median_rent                            0.512943\n",
              "pct_pop_125k_thru_150k                 0.503278\n",
              "pct_computing_device_no_internet      -0.521311\n",
              "poverty_rate                          -0.541658\n",
              "pct_pop_ssi_households                -0.599580\n",
              "pct_pop_income_lt_30k                 -0.602974\n",
              "SE                                    -0.612764\n",
              "INFA                                  -0.623722\n",
              "pct_no_computing_device               -0.638943\n",
              "pct_only_smartphone                   -0.653797\n",
              "pct_pop_income_lt_50k                 -0.672507\n",
              "DDI                                   -0.688987\n",
              "pct_internet_none                     -0.696098\n",
              "Name: pct_pop_hs+, dtype: float64"
            ]
          },
          "metadata": {},
          "execution_count": 30
        }
      ],
      "source": [
        "## find variables with |correlation| > 0.5 \n",
        "high_corr =edu_corr[abs(edu_corr)>0.5]\n",
        "high_corr.sort_values(ascending=False)"
      ]
    },
    {
      "cell_type": "code",
      "execution_count": 31,
      "metadata": {
        "colab": {
          "base_uri": "https://localhost:8080/"
        },
        "id": "JKiFuhxsHAs-",
        "outputId": "f78c7cd6-07b0-4512-a664-adbcd8560189"
      },
      "outputs": [
        {
          "output_type": "stream",
          "name": "stdout",
          "text": [
            "['median_income', 'pct_health_ins_19_64', 'poverty_rate', 'pct_pop_bachelors+', 'pct_pop_hs+', 'pct_internet', 'pct_internet_broadband_any_type', 'pct_internet_cellular', 'pct_internet_none', 'pct_computing_device', 'pct_computing_device_with_broadband', 'pct_computing_device_no_internet', 'pct_no_computing_device', 'pct_pop_ssi_households', 'pct_pop_125k_thru_150k', 'pct_pop_150k_thru_200k', 'pct_pop_gt_200k', 'SE', 'INFA', 'DDI', 'pct_pop_income_lt_50k', 'pct_pop_income_lt_30k', 'pct_pop_income_gt_100k', 'median_rent', 'log_median_income', 'log_median_house_value', 'pct_desktop_or_laptop', 'pct_smartphone', 'pct_only_smartphone', 'pct_tablet']\n"
          ]
        }
      ],
      "source": [
        "#combine both positively and negatively correlated variables with corr >0.5\n",
        "var_high_corr = high_corr.index.tolist()\n",
        "print(var_high_corr)"
      ]
    },
    {
      "cell_type": "code",
      "execution_count": 32,
      "metadata": {
        "id": "8YL6zNWjKnTo"
      },
      "outputs": [],
      "source": [
        "#limit the dataset to only the relevant variables\n",
        "\n",
        "ind_var = [e for e in var_high_corr if e not in to_drop]\n",
        "\n",
        "target = ['pct_pop_hs+']\n",
        "\n",
        "X_train = X_train_all[ind_var]\n",
        "X_test = X_test_all[ind_var]\n",
        "y_train = y_train_all[target]\n",
        "y_test = y_test_all[target]"
      ]
    },
    {
      "cell_type": "code",
      "execution_count": 33,
      "metadata": {
        "colab": {
          "base_uri": "https://localhost:8080/"
        },
        "id": "unPyB4kVLI9m",
        "outputId": "3706a464-e922-4e17-d296-89d63d30fd57"
      },
      "outputs": [
        {
          "output_type": "execute_result",
          "data": {
            "text/plain": [
              "LinearRegression()"
            ]
          },
          "metadata": {},
          "execution_count": 33
        }
      ],
      "source": [
        "lr_2 = LinearRegression()\n",
        "lr_2.fit(X_train, y_train)"
      ]
    },
    {
      "cell_type": "code",
      "execution_count": 34,
      "metadata": {
        "colab": {
          "base_uri": "https://localhost:8080/"
        },
        "id": "L-s6ETqMLNmn",
        "outputId": "e0c99fbd-dc11-4ff1-e2de-db02afbbf1a2"
      },
      "outputs": [
        {
          "output_type": "execute_result",
          "data": {
            "text/plain": [
              "array([[54.92531191],\n",
              "       [51.71708133],\n",
              "       [60.69185313],\n",
              "       ...,\n",
              "       [52.68924513],\n",
              "       [44.19223803],\n",
              "       [53.30435121]])"
            ]
          },
          "metadata": {},
          "execution_count": 34
        }
      ],
      "source": [
        "y_pred = lr_2.predict(X_test)\n",
        "\n",
        "y_pred"
      ]
    },
    {
      "cell_type": "code",
      "execution_count": 35,
      "metadata": {
        "colab": {
          "base_uri": "https://localhost:8080/",
          "height": 0
        },
        "id": "M4r71i14LR80",
        "outputId": "cedd24d2-1529-45f1-fcac-01555ed5924c"
      },
      "outputs": [
        {
          "output_type": "execute_result",
          "data": {
            "text/plain": [
              "                                Feature  Coefficients\n",
              "0                         median_income     -0.000154\n",
              "1                  pct_health_ins_19_64      0.278909\n",
              "2                          poverty_rate     -0.075842\n",
              "3                          pct_internet      0.171341\n",
              "4       pct_internet_broadband_any_type     -0.264481\n",
              "5                 pct_internet_cellular      0.150283\n",
              "6                  pct_computing_device     -0.408473\n",
              "7   pct_computing_device_with_broadband      0.649400\n",
              "8      pct_computing_device_no_internet      0.673379\n",
              "9               pct_no_computing_device      0.408473\n",
              "10               pct_pop_ssi_households     -0.088382\n",
              "11               pct_pop_125k_thru_150k      0.104692\n",
              "12               pct_pop_150k_thru_200k      0.201499\n",
              "13                      pct_pop_gt_200k      0.726493\n",
              "14                pct_pop_income_lt_50k     -0.004030\n",
              "15                pct_pop_income_lt_30k      0.273346\n",
              "16               pct_pop_income_gt_100k      0.067778\n",
              "17                          median_rent     -0.001790\n",
              "18                    log_median_income      1.903931\n",
              "19               log_median_house_value     -1.737103\n",
              "20                pct_desktop_or_laptop      0.690339\n",
              "21                       pct_smartphone      0.201847\n",
              "22                  pct_only_smartphone     -0.008429\n",
              "23                           pct_tablet      0.006147"
            ],
            "text/html": [
              "\n",
              "  <div id=\"df-96cfc06c-852c-42ca-a48d-38c4ab3d9bc0\">\n",
              "    <div class=\"colab-df-container\">\n",
              "      <div>\n",
              "<style scoped>\n",
              "    .dataframe tbody tr th:only-of-type {\n",
              "        vertical-align: middle;\n",
              "    }\n",
              "\n",
              "    .dataframe tbody tr th {\n",
              "        vertical-align: top;\n",
              "    }\n",
              "\n",
              "    .dataframe thead th {\n",
              "        text-align: right;\n",
              "    }\n",
              "</style>\n",
              "<table border=\"1\" class=\"dataframe\">\n",
              "  <thead>\n",
              "    <tr style=\"text-align: right;\">\n",
              "      <th></th>\n",
              "      <th>Feature</th>\n",
              "      <th>Coefficients</th>\n",
              "    </tr>\n",
              "  </thead>\n",
              "  <tbody>\n",
              "    <tr>\n",
              "      <th>0</th>\n",
              "      <td>median_income</td>\n",
              "      <td>-0.000154</td>\n",
              "    </tr>\n",
              "    <tr>\n",
              "      <th>1</th>\n",
              "      <td>pct_health_ins_19_64</td>\n",
              "      <td>0.278909</td>\n",
              "    </tr>\n",
              "    <tr>\n",
              "      <th>2</th>\n",
              "      <td>poverty_rate</td>\n",
              "      <td>-0.075842</td>\n",
              "    </tr>\n",
              "    <tr>\n",
              "      <th>3</th>\n",
              "      <td>pct_internet</td>\n",
              "      <td>0.171341</td>\n",
              "    </tr>\n",
              "    <tr>\n",
              "      <th>4</th>\n",
              "      <td>pct_internet_broadband_any_type</td>\n",
              "      <td>-0.264481</td>\n",
              "    </tr>\n",
              "    <tr>\n",
              "      <th>5</th>\n",
              "      <td>pct_internet_cellular</td>\n",
              "      <td>0.150283</td>\n",
              "    </tr>\n",
              "    <tr>\n",
              "      <th>6</th>\n",
              "      <td>pct_computing_device</td>\n",
              "      <td>-0.408473</td>\n",
              "    </tr>\n",
              "    <tr>\n",
              "      <th>7</th>\n",
              "      <td>pct_computing_device_with_broadband</td>\n",
              "      <td>0.649400</td>\n",
              "    </tr>\n",
              "    <tr>\n",
              "      <th>8</th>\n",
              "      <td>pct_computing_device_no_internet</td>\n",
              "      <td>0.673379</td>\n",
              "    </tr>\n",
              "    <tr>\n",
              "      <th>9</th>\n",
              "      <td>pct_no_computing_device</td>\n",
              "      <td>0.408473</td>\n",
              "    </tr>\n",
              "    <tr>\n",
              "      <th>10</th>\n",
              "      <td>pct_pop_ssi_households</td>\n",
              "      <td>-0.088382</td>\n",
              "    </tr>\n",
              "    <tr>\n",
              "      <th>11</th>\n",
              "      <td>pct_pop_125k_thru_150k</td>\n",
              "      <td>0.104692</td>\n",
              "    </tr>\n",
              "    <tr>\n",
              "      <th>12</th>\n",
              "      <td>pct_pop_150k_thru_200k</td>\n",
              "      <td>0.201499</td>\n",
              "    </tr>\n",
              "    <tr>\n",
              "      <th>13</th>\n",
              "      <td>pct_pop_gt_200k</td>\n",
              "      <td>0.726493</td>\n",
              "    </tr>\n",
              "    <tr>\n",
              "      <th>14</th>\n",
              "      <td>pct_pop_income_lt_50k</td>\n",
              "      <td>-0.004030</td>\n",
              "    </tr>\n",
              "    <tr>\n",
              "      <th>15</th>\n",
              "      <td>pct_pop_income_lt_30k</td>\n",
              "      <td>0.273346</td>\n",
              "    </tr>\n",
              "    <tr>\n",
              "      <th>16</th>\n",
              "      <td>pct_pop_income_gt_100k</td>\n",
              "      <td>0.067778</td>\n",
              "    </tr>\n",
              "    <tr>\n",
              "      <th>17</th>\n",
              "      <td>median_rent</td>\n",
              "      <td>-0.001790</td>\n",
              "    </tr>\n",
              "    <tr>\n",
              "      <th>18</th>\n",
              "      <td>log_median_income</td>\n",
              "      <td>1.903931</td>\n",
              "    </tr>\n",
              "    <tr>\n",
              "      <th>19</th>\n",
              "      <td>log_median_house_value</td>\n",
              "      <td>-1.737103</td>\n",
              "    </tr>\n",
              "    <tr>\n",
              "      <th>20</th>\n",
              "      <td>pct_desktop_or_laptop</td>\n",
              "      <td>0.690339</td>\n",
              "    </tr>\n",
              "    <tr>\n",
              "      <th>21</th>\n",
              "      <td>pct_smartphone</td>\n",
              "      <td>0.201847</td>\n",
              "    </tr>\n",
              "    <tr>\n",
              "      <th>22</th>\n",
              "      <td>pct_only_smartphone</td>\n",
              "      <td>-0.008429</td>\n",
              "    </tr>\n",
              "    <tr>\n",
              "      <th>23</th>\n",
              "      <td>pct_tablet</td>\n",
              "      <td>0.006147</td>\n",
              "    </tr>\n",
              "  </tbody>\n",
              "</table>\n",
              "</div>\n",
              "      <button class=\"colab-df-convert\" onclick=\"convertToInteractive('df-96cfc06c-852c-42ca-a48d-38c4ab3d9bc0')\"\n",
              "              title=\"Convert this dataframe to an interactive table.\"\n",
              "              style=\"display:none;\">\n",
              "        \n",
              "  <svg xmlns=\"http://www.w3.org/2000/svg\" height=\"24px\"viewBox=\"0 0 24 24\"\n",
              "       width=\"24px\">\n",
              "    <path d=\"M0 0h24v24H0V0z\" fill=\"none\"/>\n",
              "    <path d=\"M18.56 5.44l.94 2.06.94-2.06 2.06-.94-2.06-.94-.94-2.06-.94 2.06-2.06.94zm-11 1L8.5 8.5l.94-2.06 2.06-.94-2.06-.94L8.5 2.5l-.94 2.06-2.06.94zm10 10l.94 2.06.94-2.06 2.06-.94-2.06-.94-.94-2.06-.94 2.06-2.06.94z\"/><path d=\"M17.41 7.96l-1.37-1.37c-.4-.4-.92-.59-1.43-.59-.52 0-1.04.2-1.43.59L10.3 9.45l-7.72 7.72c-.78.78-.78 2.05 0 2.83L4 21.41c.39.39.9.59 1.41.59.51 0 1.02-.2 1.41-.59l7.78-7.78 2.81-2.81c.8-.78.8-2.07 0-2.86zM5.41 20L4 18.59l7.72-7.72 1.47 1.35L5.41 20z\"/>\n",
              "  </svg>\n",
              "      </button>\n",
              "      \n",
              "  <style>\n",
              "    .colab-df-container {\n",
              "      display:flex;\n",
              "      flex-wrap:wrap;\n",
              "      gap: 12px;\n",
              "    }\n",
              "\n",
              "    .colab-df-convert {\n",
              "      background-color: #E8F0FE;\n",
              "      border: none;\n",
              "      border-radius: 50%;\n",
              "      cursor: pointer;\n",
              "      display: none;\n",
              "      fill: #1967D2;\n",
              "      height: 32px;\n",
              "      padding: 0 0 0 0;\n",
              "      width: 32px;\n",
              "    }\n",
              "\n",
              "    .colab-df-convert:hover {\n",
              "      background-color: #E2EBFA;\n",
              "      box-shadow: 0px 1px 2px rgba(60, 64, 67, 0.3), 0px 1px 3px 1px rgba(60, 64, 67, 0.15);\n",
              "      fill: #174EA6;\n",
              "    }\n",
              "\n",
              "    [theme=dark] .colab-df-convert {\n",
              "      background-color: #3B4455;\n",
              "      fill: #D2E3FC;\n",
              "    }\n",
              "\n",
              "    [theme=dark] .colab-df-convert:hover {\n",
              "      background-color: #434B5C;\n",
              "      box-shadow: 0px 1px 3px 1px rgba(0, 0, 0, 0.15);\n",
              "      filter: drop-shadow(0px 1px 2px rgba(0, 0, 0, 0.3));\n",
              "      fill: #FFFFFF;\n",
              "    }\n",
              "  </style>\n",
              "\n",
              "      <script>\n",
              "        const buttonEl =\n",
              "          document.querySelector('#df-96cfc06c-852c-42ca-a48d-38c4ab3d9bc0 button.colab-df-convert');\n",
              "        buttonEl.style.display =\n",
              "          google.colab.kernel.accessAllowed ? 'block' : 'none';\n",
              "\n",
              "        async function convertToInteractive(key) {\n",
              "          const element = document.querySelector('#df-96cfc06c-852c-42ca-a48d-38c4ab3d9bc0');\n",
              "          const dataTable =\n",
              "            await google.colab.kernel.invokeFunction('convertToInteractive',\n",
              "                                                     [key], {});\n",
              "          if (!dataTable) return;\n",
              "\n",
              "          const docLinkHtml = 'Like what you see? Visit the ' +\n",
              "            '<a target=\"_blank\" href=https://colab.research.google.com/notebooks/data_table.ipynb>data table notebook</a>'\n",
              "            + ' to learn more about interactive tables.';\n",
              "          element.innerHTML = '';\n",
              "          dataTable['output_type'] = 'display_data';\n",
              "          await google.colab.output.renderOutput(dataTable, element);\n",
              "          const docLink = document.createElement('div');\n",
              "          docLink.innerHTML = docLinkHtml;\n",
              "          element.appendChild(docLink);\n",
              "        }\n",
              "      </script>\n",
              "    </div>\n",
              "  </div>\n",
              "  "
            ]
          },
          "metadata": {},
          "execution_count": 35
        }
      ],
      "source": [
        "pd.DataFrame({\"Feature\":X_train.columns.tolist(),\"Coefficients\":lr_2.coef_[0]})"
      ]
    },
    {
      "cell_type": "markdown",
      "metadata": {
        "id": "gHlX-TPGE-In"
      },
      "source": [
        "#### LR 2: Model evaluation metrics"
      ]
    },
    {
      "cell_type": "code",
      "execution_count": 36,
      "metadata": {
        "colab": {
          "base_uri": "https://localhost:8080/"
        },
        "id": "B4kp9eRdLnrJ",
        "outputId": "9ef2a680-bce0-4296-b6f2-ad2e6ee8ea6e"
      },
      "outputs": [
        {
          "output_type": "stream",
          "name": "stdout",
          "text": [
            "The model performance for testing set\n",
            "--------------------------------------\n",
            "MAE is 6.652276038003812\n",
            "MSE is 71.14360096536953\n",
            "RMSE is 8.434666618507784\n",
            "R2 score is 0.7115019298720218\n",
            "Adj R2 score is 0.7063736597102208\n"
          ]
        }
      ],
      "source": [
        "# model evaluation for testing set\n",
        "regression_results(y_test, y_pred)"
      ]
    },
    {
      "cell_type": "markdown",
      "metadata": {
        "id": "IoGljVobFHXA"
      },
      "source": [
        "we can see that the metrics dropped pretty significantly."
      ]
    },
    {
      "cell_type": "markdown",
      "metadata": {
        "id": "XJ9S0zmAwkV7"
      },
      "source": [
        "### LR 3: Adding all broadband-related variables in addition to the above high correlation variables"
      ]
    },
    {
      "cell_type": "code",
      "execution_count": 37,
      "metadata": {
        "id": "B1HvWgZCwt1I"
      },
      "outputs": [],
      "source": [
        "#limit the dataset to only the relevant variables\n",
        "\n",
        "for word in br_important_vars:\n",
        "    if word not in ind_var:\n",
        "        ind_var.append(word)\n",
        "\n",
        "target = ['pct_pop_hs+']\n",
        "\n",
        "X_train = X_train_all[ind_var]\n",
        "X_test = X_test_all[ind_var]\n",
        "y_train = y_train_all[target]\n",
        "y_test = y_test_all[target]"
      ]
    },
    {
      "cell_type": "code",
      "source": [
        "ind_var"
      ],
      "metadata": {
        "colab": {
          "base_uri": "https://localhost:8080/"
        },
        "id": "Gqgs-y7kkeX_",
        "outputId": "a8ee5911-96e5-4676-87cf-2c653ec24dd9"
      },
      "execution_count": 38,
      "outputs": [
        {
          "output_type": "execute_result",
          "data": {
            "text/plain": [
              "['median_income',\n",
              " 'pct_health_ins_19_64',\n",
              " 'poverty_rate',\n",
              " 'pct_internet',\n",
              " 'pct_internet_broadband_any_type',\n",
              " 'pct_internet_cellular',\n",
              " 'pct_computing_device',\n",
              " 'pct_computing_device_with_broadband',\n",
              " 'pct_computing_device_no_internet',\n",
              " 'pct_no_computing_device',\n",
              " 'pct_pop_ssi_households',\n",
              " 'pct_pop_125k_thru_150k',\n",
              " 'pct_pop_150k_thru_200k',\n",
              " 'pct_pop_gt_200k',\n",
              " 'pct_pop_income_lt_50k',\n",
              " 'pct_pop_income_lt_30k',\n",
              " 'pct_pop_income_gt_100k',\n",
              " 'median_rent',\n",
              " 'log_median_income',\n",
              " 'log_median_house_value',\n",
              " 'pct_desktop_or_laptop',\n",
              " 'pct_smartphone',\n",
              " 'pct_only_smartphone',\n",
              " 'pct_tablet',\n",
              " 'pct_only_cellular',\n",
              " 'pct_internet_broadband_satellite']"
            ]
          },
          "metadata": {},
          "execution_count": 38
        }
      ]
    },
    {
      "cell_type": "code",
      "execution_count": 39,
      "metadata": {
        "colab": {
          "base_uri": "https://localhost:8080/",
          "height": 0
        },
        "id": "N7iDrOsoxV67",
        "outputId": "eb7f50ca-e238-42c5-ef57-0f0e45e3c6e1"
      },
      "outputs": [
        {
          "output_type": "execute_result",
          "data": {
            "text/plain": [
              "                                Feature  Coefficients\n",
              "0                         median_income     -0.000154\n",
              "1                  pct_health_ins_19_64      0.268932\n",
              "2                          poverty_rate     -0.075397\n",
              "3                          pct_internet      0.210841\n",
              "4       pct_internet_broadband_any_type     -0.332307\n",
              "5                 pct_internet_cellular      0.171590\n",
              "6                  pct_computing_device     -0.341737\n",
              "7   pct_computing_device_with_broadband      0.559411\n",
              "8      pct_computing_device_no_internet      0.566274\n",
              "9               pct_no_computing_device      0.341737\n",
              "10               pct_pop_ssi_households     -0.091270\n",
              "11               pct_pop_125k_thru_150k      0.097504\n",
              "12               pct_pop_150k_thru_200k      0.184770\n",
              "13                      pct_pop_gt_200k      0.715977\n",
              "14                pct_pop_income_lt_50k     -0.012326\n",
              "15                pct_pop_income_lt_30k      0.263385\n",
              "16               pct_pop_income_gt_100k      0.067861\n",
              "17                          median_rent     -0.002146\n",
              "18                    log_median_income      2.184295\n",
              "19               log_median_house_value     -1.775885\n",
              "20                pct_desktop_or_laptop      0.660170\n",
              "21                       pct_smartphone      0.194031\n",
              "22                  pct_only_smartphone      0.014582\n",
              "23                           pct_tablet     -0.003179\n",
              "24                    pct_only_cellular     -0.100623\n",
              "25     pct_internet_broadband_satellite     -0.147600"
            ],
            "text/html": [
              "\n",
              "  <div id=\"df-659d347e-fe6c-44d8-af3c-2ffa464380cf\">\n",
              "    <div class=\"colab-df-container\">\n",
              "      <div>\n",
              "<style scoped>\n",
              "    .dataframe tbody tr th:only-of-type {\n",
              "        vertical-align: middle;\n",
              "    }\n",
              "\n",
              "    .dataframe tbody tr th {\n",
              "        vertical-align: top;\n",
              "    }\n",
              "\n",
              "    .dataframe thead th {\n",
              "        text-align: right;\n",
              "    }\n",
              "</style>\n",
              "<table border=\"1\" class=\"dataframe\">\n",
              "  <thead>\n",
              "    <tr style=\"text-align: right;\">\n",
              "      <th></th>\n",
              "      <th>Feature</th>\n",
              "      <th>Coefficients</th>\n",
              "    </tr>\n",
              "  </thead>\n",
              "  <tbody>\n",
              "    <tr>\n",
              "      <th>0</th>\n",
              "      <td>median_income</td>\n",
              "      <td>-0.000154</td>\n",
              "    </tr>\n",
              "    <tr>\n",
              "      <th>1</th>\n",
              "      <td>pct_health_ins_19_64</td>\n",
              "      <td>0.268932</td>\n",
              "    </tr>\n",
              "    <tr>\n",
              "      <th>2</th>\n",
              "      <td>poverty_rate</td>\n",
              "      <td>-0.075397</td>\n",
              "    </tr>\n",
              "    <tr>\n",
              "      <th>3</th>\n",
              "      <td>pct_internet</td>\n",
              "      <td>0.210841</td>\n",
              "    </tr>\n",
              "    <tr>\n",
              "      <th>4</th>\n",
              "      <td>pct_internet_broadband_any_type</td>\n",
              "      <td>-0.332307</td>\n",
              "    </tr>\n",
              "    <tr>\n",
              "      <th>5</th>\n",
              "      <td>pct_internet_cellular</td>\n",
              "      <td>0.171590</td>\n",
              "    </tr>\n",
              "    <tr>\n",
              "      <th>6</th>\n",
              "      <td>pct_computing_device</td>\n",
              "      <td>-0.341737</td>\n",
              "    </tr>\n",
              "    <tr>\n",
              "      <th>7</th>\n",
              "      <td>pct_computing_device_with_broadband</td>\n",
              "      <td>0.559411</td>\n",
              "    </tr>\n",
              "    <tr>\n",
              "      <th>8</th>\n",
              "      <td>pct_computing_device_no_internet</td>\n",
              "      <td>0.566274</td>\n",
              "    </tr>\n",
              "    <tr>\n",
              "      <th>9</th>\n",
              "      <td>pct_no_computing_device</td>\n",
              "      <td>0.341737</td>\n",
              "    </tr>\n",
              "    <tr>\n",
              "      <th>10</th>\n",
              "      <td>pct_pop_ssi_households</td>\n",
              "      <td>-0.091270</td>\n",
              "    </tr>\n",
              "    <tr>\n",
              "      <th>11</th>\n",
              "      <td>pct_pop_125k_thru_150k</td>\n",
              "      <td>0.097504</td>\n",
              "    </tr>\n",
              "    <tr>\n",
              "      <th>12</th>\n",
              "      <td>pct_pop_150k_thru_200k</td>\n",
              "      <td>0.184770</td>\n",
              "    </tr>\n",
              "    <tr>\n",
              "      <th>13</th>\n",
              "      <td>pct_pop_gt_200k</td>\n",
              "      <td>0.715977</td>\n",
              "    </tr>\n",
              "    <tr>\n",
              "      <th>14</th>\n",
              "      <td>pct_pop_income_lt_50k</td>\n",
              "      <td>-0.012326</td>\n",
              "    </tr>\n",
              "    <tr>\n",
              "      <th>15</th>\n",
              "      <td>pct_pop_income_lt_30k</td>\n",
              "      <td>0.263385</td>\n",
              "    </tr>\n",
              "    <tr>\n",
              "      <th>16</th>\n",
              "      <td>pct_pop_income_gt_100k</td>\n",
              "      <td>0.067861</td>\n",
              "    </tr>\n",
              "    <tr>\n",
              "      <th>17</th>\n",
              "      <td>median_rent</td>\n",
              "      <td>-0.002146</td>\n",
              "    </tr>\n",
              "    <tr>\n",
              "      <th>18</th>\n",
              "      <td>log_median_income</td>\n",
              "      <td>2.184295</td>\n",
              "    </tr>\n",
              "    <tr>\n",
              "      <th>19</th>\n",
              "      <td>log_median_house_value</td>\n",
              "      <td>-1.775885</td>\n",
              "    </tr>\n",
              "    <tr>\n",
              "      <th>20</th>\n",
              "      <td>pct_desktop_or_laptop</td>\n",
              "      <td>0.660170</td>\n",
              "    </tr>\n",
              "    <tr>\n",
              "      <th>21</th>\n",
              "      <td>pct_smartphone</td>\n",
              "      <td>0.194031</td>\n",
              "    </tr>\n",
              "    <tr>\n",
              "      <th>22</th>\n",
              "      <td>pct_only_smartphone</td>\n",
              "      <td>0.014582</td>\n",
              "    </tr>\n",
              "    <tr>\n",
              "      <th>23</th>\n",
              "      <td>pct_tablet</td>\n",
              "      <td>-0.003179</td>\n",
              "    </tr>\n",
              "    <tr>\n",
              "      <th>24</th>\n",
              "      <td>pct_only_cellular</td>\n",
              "      <td>-0.100623</td>\n",
              "    </tr>\n",
              "    <tr>\n",
              "      <th>25</th>\n",
              "      <td>pct_internet_broadband_satellite</td>\n",
              "      <td>-0.147600</td>\n",
              "    </tr>\n",
              "  </tbody>\n",
              "</table>\n",
              "</div>\n",
              "      <button class=\"colab-df-convert\" onclick=\"convertToInteractive('df-659d347e-fe6c-44d8-af3c-2ffa464380cf')\"\n",
              "              title=\"Convert this dataframe to an interactive table.\"\n",
              "              style=\"display:none;\">\n",
              "        \n",
              "  <svg xmlns=\"http://www.w3.org/2000/svg\" height=\"24px\"viewBox=\"0 0 24 24\"\n",
              "       width=\"24px\">\n",
              "    <path d=\"M0 0h24v24H0V0z\" fill=\"none\"/>\n",
              "    <path d=\"M18.56 5.44l.94 2.06.94-2.06 2.06-.94-2.06-.94-.94-2.06-.94 2.06-2.06.94zm-11 1L8.5 8.5l.94-2.06 2.06-.94-2.06-.94L8.5 2.5l-.94 2.06-2.06.94zm10 10l.94 2.06.94-2.06 2.06-.94-2.06-.94-.94-2.06-.94 2.06-2.06.94z\"/><path d=\"M17.41 7.96l-1.37-1.37c-.4-.4-.92-.59-1.43-.59-.52 0-1.04.2-1.43.59L10.3 9.45l-7.72 7.72c-.78.78-.78 2.05 0 2.83L4 21.41c.39.39.9.59 1.41.59.51 0 1.02-.2 1.41-.59l7.78-7.78 2.81-2.81c.8-.78.8-2.07 0-2.86zM5.41 20L4 18.59l7.72-7.72 1.47 1.35L5.41 20z\"/>\n",
              "  </svg>\n",
              "      </button>\n",
              "      \n",
              "  <style>\n",
              "    .colab-df-container {\n",
              "      display:flex;\n",
              "      flex-wrap:wrap;\n",
              "      gap: 12px;\n",
              "    }\n",
              "\n",
              "    .colab-df-convert {\n",
              "      background-color: #E8F0FE;\n",
              "      border: none;\n",
              "      border-radius: 50%;\n",
              "      cursor: pointer;\n",
              "      display: none;\n",
              "      fill: #1967D2;\n",
              "      height: 32px;\n",
              "      padding: 0 0 0 0;\n",
              "      width: 32px;\n",
              "    }\n",
              "\n",
              "    .colab-df-convert:hover {\n",
              "      background-color: #E2EBFA;\n",
              "      box-shadow: 0px 1px 2px rgba(60, 64, 67, 0.3), 0px 1px 3px 1px rgba(60, 64, 67, 0.15);\n",
              "      fill: #174EA6;\n",
              "    }\n",
              "\n",
              "    [theme=dark] .colab-df-convert {\n",
              "      background-color: #3B4455;\n",
              "      fill: #D2E3FC;\n",
              "    }\n",
              "\n",
              "    [theme=dark] .colab-df-convert:hover {\n",
              "      background-color: #434B5C;\n",
              "      box-shadow: 0px 1px 3px 1px rgba(0, 0, 0, 0.15);\n",
              "      filter: drop-shadow(0px 1px 2px rgba(0, 0, 0, 0.3));\n",
              "      fill: #FFFFFF;\n",
              "    }\n",
              "  </style>\n",
              "\n",
              "      <script>\n",
              "        const buttonEl =\n",
              "          document.querySelector('#df-659d347e-fe6c-44d8-af3c-2ffa464380cf button.colab-df-convert');\n",
              "        buttonEl.style.display =\n",
              "          google.colab.kernel.accessAllowed ? 'block' : 'none';\n",
              "\n",
              "        async function convertToInteractive(key) {\n",
              "          const element = document.querySelector('#df-659d347e-fe6c-44d8-af3c-2ffa464380cf');\n",
              "          const dataTable =\n",
              "            await google.colab.kernel.invokeFunction('convertToInteractive',\n",
              "                                                     [key], {});\n",
              "          if (!dataTable) return;\n",
              "\n",
              "          const docLinkHtml = 'Like what you see? Visit the ' +\n",
              "            '<a target=\"_blank\" href=https://colab.research.google.com/notebooks/data_table.ipynb>data table notebook</a>'\n",
              "            + ' to learn more about interactive tables.';\n",
              "          element.innerHTML = '';\n",
              "          dataTable['output_type'] = 'display_data';\n",
              "          await google.colab.output.renderOutput(dataTable, element);\n",
              "          const docLink = document.createElement('div');\n",
              "          docLink.innerHTML = docLinkHtml;\n",
              "          element.appendChild(docLink);\n",
              "        }\n",
              "      </script>\n",
              "    </div>\n",
              "  </div>\n",
              "  "
            ]
          },
          "metadata": {},
          "execution_count": 39
        }
      ],
      "source": [
        "lr_3 = LinearRegression()\n",
        "lr_3.fit(X_train, y_train)\n",
        "y_pred = lr_3.predict(X_test)\n",
        "pd.DataFrame({\"Feature\":X_train.columns.tolist(),\"Coefficients\":lr_3.coef_[0]})"
      ]
    },
    {
      "cell_type": "markdown",
      "metadata": {
        "id": "c0MBHWufx6Z3"
      },
      "source": [
        "#### LR3: Model evaluation metrics"
      ]
    },
    {
      "cell_type": "code",
      "execution_count": 40,
      "metadata": {
        "colab": {
          "base_uri": "https://localhost:8080/"
        },
        "id": "oorFrcoVxngY",
        "outputId": "be628c9b-4678-4428-a2a8-cd68b22210bd"
      },
      "outputs": [
        {
          "output_type": "stream",
          "name": "stdout",
          "text": [
            "The model performance for testing set\n",
            "--------------------------------------\n",
            "MAE is 6.620094885045002\n",
            "MSE is 70.34384249362928\n",
            "RMSE is 8.387123612635579\n",
            "R2 score is 0.7147450715254484\n",
            "Adj R2 score is 0.7096744506455452\n"
          ]
        }
      ],
      "source": [
        "# model evaluation for testing set\n",
        "regression_results(y_test, y_pred)"
      ]
    },
    {
      "cell_type": "markdown",
      "metadata": {
        "id": "_za8aO2sxsgc"
      },
      "source": [
        "As expected, these newly added boradband variables are not adding much improvement to the model."
      ]
    },
    {
      "cell_type": "markdown",
      "source": [
        "### LR 4: Adding interesting broadband vars"
      ],
      "metadata": {
        "id": "8uNNT5pAvpbK"
      }
    },
    {
      "cell_type": "code",
      "source": [
        "#limit the dataset to only the relevant variables\n",
        "\n",
        "for word in br_interest_vars:\n",
        "    if word not in ind_var:\n",
        "        ind_var.append(word)\n",
        "\n",
        "target = ['pct_pop_hs+']\n",
        "\n",
        "X_train = X_train_all[ind_var]\n",
        "X_test = X_test_all[ind_var]\n",
        "y_train = y_train_all[target]\n",
        "y_test = y_test_all[target]"
      ],
      "metadata": {
        "id": "Wrt0-BKxvzsF"
      },
      "execution_count": 41,
      "outputs": []
    },
    {
      "cell_type": "code",
      "source": [
        "lr_4 = LinearRegression()\n",
        "lr_4.fit(X_train, y_train)\n",
        "y_pred = lr_4.predict(X_test)\n",
        "pd.DataFrame({\"Feature\":X_train.columns.tolist(),\"Coefficients\":lr_4.coef_[0]})"
      ],
      "metadata": {
        "colab": {
          "base_uri": "https://localhost:8080/",
          "height": 0
        },
        "id": "pmu2pzp9wG1I",
        "outputId": "38cefe9e-16f8-4ec9-fe14-2ec8517b1fd4"
      },
      "execution_count": 42,
      "outputs": [
        {
          "output_type": "execute_result",
          "data": {
            "text/plain": [
              "                                Feature  Coefficients\n",
              "0                         median_income     -0.000153\n",
              "1                  pct_health_ins_19_64      0.260819\n",
              "2                          poverty_rate     -0.078104\n",
              "3                          pct_internet      0.131695\n",
              "4       pct_internet_broadband_any_type     -0.187035\n",
              "5                 pct_internet_cellular      0.165848\n",
              "6                  pct_computing_device     -0.356044\n",
              "7   pct_computing_device_with_broadband      0.547555\n",
              "8      pct_computing_device_no_internet      0.593027\n",
              "9               pct_no_computing_device      0.356044\n",
              "10               pct_pop_ssi_households     -0.085666\n",
              "11               pct_pop_125k_thru_150k      0.105438\n",
              "12               pct_pop_150k_thru_200k      0.192439\n",
              "13                      pct_pop_gt_200k      0.688680\n",
              "14                pct_pop_income_lt_50k     -0.010979\n",
              "15                pct_pop_income_lt_30k      0.265716\n",
              "16               pct_pop_income_gt_100k      0.066719\n",
              "17                          median_rent     -0.001491\n",
              "18                    log_median_income      2.193844\n",
              "19               log_median_house_value     -1.556952\n",
              "20                pct_desktop_or_laptop      0.635656\n",
              "21                       pct_smartphone      0.209308\n",
              "22                  pct_only_smartphone      0.008370\n",
              "23                           pct_tablet     -0.004643\n",
              "24                    pct_only_cellular     -0.127392\n",
              "25     pct_internet_broadband_satellite     -0.217334\n",
              "26                All_Provider_Count_25     -0.081861\n",
              "27               All_Provider_Count_100      0.667900\n",
              "28   Ookla Median Download Speed (Mbps)     -0.024071"
            ],
            "text/html": [
              "\n",
              "  <div id=\"df-6a94de2d-2b0d-4848-aaaa-6c53cead62e3\">\n",
              "    <div class=\"colab-df-container\">\n",
              "      <div>\n",
              "<style scoped>\n",
              "    .dataframe tbody tr th:only-of-type {\n",
              "        vertical-align: middle;\n",
              "    }\n",
              "\n",
              "    .dataframe tbody tr th {\n",
              "        vertical-align: top;\n",
              "    }\n",
              "\n",
              "    .dataframe thead th {\n",
              "        text-align: right;\n",
              "    }\n",
              "</style>\n",
              "<table border=\"1\" class=\"dataframe\">\n",
              "  <thead>\n",
              "    <tr style=\"text-align: right;\">\n",
              "      <th></th>\n",
              "      <th>Feature</th>\n",
              "      <th>Coefficients</th>\n",
              "    </tr>\n",
              "  </thead>\n",
              "  <tbody>\n",
              "    <tr>\n",
              "      <th>0</th>\n",
              "      <td>median_income</td>\n",
              "      <td>-0.000153</td>\n",
              "    </tr>\n",
              "    <tr>\n",
              "      <th>1</th>\n",
              "      <td>pct_health_ins_19_64</td>\n",
              "      <td>0.260819</td>\n",
              "    </tr>\n",
              "    <tr>\n",
              "      <th>2</th>\n",
              "      <td>poverty_rate</td>\n",
              "      <td>-0.078104</td>\n",
              "    </tr>\n",
              "    <tr>\n",
              "      <th>3</th>\n",
              "      <td>pct_internet</td>\n",
              "      <td>0.131695</td>\n",
              "    </tr>\n",
              "    <tr>\n",
              "      <th>4</th>\n",
              "      <td>pct_internet_broadband_any_type</td>\n",
              "      <td>-0.187035</td>\n",
              "    </tr>\n",
              "    <tr>\n",
              "      <th>5</th>\n",
              "      <td>pct_internet_cellular</td>\n",
              "      <td>0.165848</td>\n",
              "    </tr>\n",
              "    <tr>\n",
              "      <th>6</th>\n",
              "      <td>pct_computing_device</td>\n",
              "      <td>-0.356044</td>\n",
              "    </tr>\n",
              "    <tr>\n",
              "      <th>7</th>\n",
              "      <td>pct_computing_device_with_broadband</td>\n",
              "      <td>0.547555</td>\n",
              "    </tr>\n",
              "    <tr>\n",
              "      <th>8</th>\n",
              "      <td>pct_computing_device_no_internet</td>\n",
              "      <td>0.593027</td>\n",
              "    </tr>\n",
              "    <tr>\n",
              "      <th>9</th>\n",
              "      <td>pct_no_computing_device</td>\n",
              "      <td>0.356044</td>\n",
              "    </tr>\n",
              "    <tr>\n",
              "      <th>10</th>\n",
              "      <td>pct_pop_ssi_households</td>\n",
              "      <td>-0.085666</td>\n",
              "    </tr>\n",
              "    <tr>\n",
              "      <th>11</th>\n",
              "      <td>pct_pop_125k_thru_150k</td>\n",
              "      <td>0.105438</td>\n",
              "    </tr>\n",
              "    <tr>\n",
              "      <th>12</th>\n",
              "      <td>pct_pop_150k_thru_200k</td>\n",
              "      <td>0.192439</td>\n",
              "    </tr>\n",
              "    <tr>\n",
              "      <th>13</th>\n",
              "      <td>pct_pop_gt_200k</td>\n",
              "      <td>0.688680</td>\n",
              "    </tr>\n",
              "    <tr>\n",
              "      <th>14</th>\n",
              "      <td>pct_pop_income_lt_50k</td>\n",
              "      <td>-0.010979</td>\n",
              "    </tr>\n",
              "    <tr>\n",
              "      <th>15</th>\n",
              "      <td>pct_pop_income_lt_30k</td>\n",
              "      <td>0.265716</td>\n",
              "    </tr>\n",
              "    <tr>\n",
              "      <th>16</th>\n",
              "      <td>pct_pop_income_gt_100k</td>\n",
              "      <td>0.066719</td>\n",
              "    </tr>\n",
              "    <tr>\n",
              "      <th>17</th>\n",
              "      <td>median_rent</td>\n",
              "      <td>-0.001491</td>\n",
              "    </tr>\n",
              "    <tr>\n",
              "      <th>18</th>\n",
              "      <td>log_median_income</td>\n",
              "      <td>2.193844</td>\n",
              "    </tr>\n",
              "    <tr>\n",
              "      <th>19</th>\n",
              "      <td>log_median_house_value</td>\n",
              "      <td>-1.556952</td>\n",
              "    </tr>\n",
              "    <tr>\n",
              "      <th>20</th>\n",
              "      <td>pct_desktop_or_laptop</td>\n",
              "      <td>0.635656</td>\n",
              "    </tr>\n",
              "    <tr>\n",
              "      <th>21</th>\n",
              "      <td>pct_smartphone</td>\n",
              "      <td>0.209308</td>\n",
              "    </tr>\n",
              "    <tr>\n",
              "      <th>22</th>\n",
              "      <td>pct_only_smartphone</td>\n",
              "      <td>0.008370</td>\n",
              "    </tr>\n",
              "    <tr>\n",
              "      <th>23</th>\n",
              "      <td>pct_tablet</td>\n",
              "      <td>-0.004643</td>\n",
              "    </tr>\n",
              "    <tr>\n",
              "      <th>24</th>\n",
              "      <td>pct_only_cellular</td>\n",
              "      <td>-0.127392</td>\n",
              "    </tr>\n",
              "    <tr>\n",
              "      <th>25</th>\n",
              "      <td>pct_internet_broadband_satellite</td>\n",
              "      <td>-0.217334</td>\n",
              "    </tr>\n",
              "    <tr>\n",
              "      <th>26</th>\n",
              "      <td>All_Provider_Count_25</td>\n",
              "      <td>-0.081861</td>\n",
              "    </tr>\n",
              "    <tr>\n",
              "      <th>27</th>\n",
              "      <td>All_Provider_Count_100</td>\n",
              "      <td>0.667900</td>\n",
              "    </tr>\n",
              "    <tr>\n",
              "      <th>28</th>\n",
              "      <td>Ookla Median Download Speed (Mbps)</td>\n",
              "      <td>-0.024071</td>\n",
              "    </tr>\n",
              "  </tbody>\n",
              "</table>\n",
              "</div>\n",
              "      <button class=\"colab-df-convert\" onclick=\"convertToInteractive('df-6a94de2d-2b0d-4848-aaaa-6c53cead62e3')\"\n",
              "              title=\"Convert this dataframe to an interactive table.\"\n",
              "              style=\"display:none;\">\n",
              "        \n",
              "  <svg xmlns=\"http://www.w3.org/2000/svg\" height=\"24px\"viewBox=\"0 0 24 24\"\n",
              "       width=\"24px\">\n",
              "    <path d=\"M0 0h24v24H0V0z\" fill=\"none\"/>\n",
              "    <path d=\"M18.56 5.44l.94 2.06.94-2.06 2.06-.94-2.06-.94-.94-2.06-.94 2.06-2.06.94zm-11 1L8.5 8.5l.94-2.06 2.06-.94-2.06-.94L8.5 2.5l-.94 2.06-2.06.94zm10 10l.94 2.06.94-2.06 2.06-.94-2.06-.94-.94-2.06-.94 2.06-2.06.94z\"/><path d=\"M17.41 7.96l-1.37-1.37c-.4-.4-.92-.59-1.43-.59-.52 0-1.04.2-1.43.59L10.3 9.45l-7.72 7.72c-.78.78-.78 2.05 0 2.83L4 21.41c.39.39.9.59 1.41.59.51 0 1.02-.2 1.41-.59l7.78-7.78 2.81-2.81c.8-.78.8-2.07 0-2.86zM5.41 20L4 18.59l7.72-7.72 1.47 1.35L5.41 20z\"/>\n",
              "  </svg>\n",
              "      </button>\n",
              "      \n",
              "  <style>\n",
              "    .colab-df-container {\n",
              "      display:flex;\n",
              "      flex-wrap:wrap;\n",
              "      gap: 12px;\n",
              "    }\n",
              "\n",
              "    .colab-df-convert {\n",
              "      background-color: #E8F0FE;\n",
              "      border: none;\n",
              "      border-radius: 50%;\n",
              "      cursor: pointer;\n",
              "      display: none;\n",
              "      fill: #1967D2;\n",
              "      height: 32px;\n",
              "      padding: 0 0 0 0;\n",
              "      width: 32px;\n",
              "    }\n",
              "\n",
              "    .colab-df-convert:hover {\n",
              "      background-color: #E2EBFA;\n",
              "      box-shadow: 0px 1px 2px rgba(60, 64, 67, 0.3), 0px 1px 3px 1px rgba(60, 64, 67, 0.15);\n",
              "      fill: #174EA6;\n",
              "    }\n",
              "\n",
              "    [theme=dark] .colab-df-convert {\n",
              "      background-color: #3B4455;\n",
              "      fill: #D2E3FC;\n",
              "    }\n",
              "\n",
              "    [theme=dark] .colab-df-convert:hover {\n",
              "      background-color: #434B5C;\n",
              "      box-shadow: 0px 1px 3px 1px rgba(0, 0, 0, 0.15);\n",
              "      filter: drop-shadow(0px 1px 2px rgba(0, 0, 0, 0.3));\n",
              "      fill: #FFFFFF;\n",
              "    }\n",
              "  </style>\n",
              "\n",
              "      <script>\n",
              "        const buttonEl =\n",
              "          document.querySelector('#df-6a94de2d-2b0d-4848-aaaa-6c53cead62e3 button.colab-df-convert');\n",
              "        buttonEl.style.display =\n",
              "          google.colab.kernel.accessAllowed ? 'block' : 'none';\n",
              "\n",
              "        async function convertToInteractive(key) {\n",
              "          const element = document.querySelector('#df-6a94de2d-2b0d-4848-aaaa-6c53cead62e3');\n",
              "          const dataTable =\n",
              "            await google.colab.kernel.invokeFunction('convertToInteractive',\n",
              "                                                     [key], {});\n",
              "          if (!dataTable) return;\n",
              "\n",
              "          const docLinkHtml = 'Like what you see? Visit the ' +\n",
              "            '<a target=\"_blank\" href=https://colab.research.google.com/notebooks/data_table.ipynb>data table notebook</a>'\n",
              "            + ' to learn more about interactive tables.';\n",
              "          element.innerHTML = '';\n",
              "          dataTable['output_type'] = 'display_data';\n",
              "          await google.colab.output.renderOutput(dataTable, element);\n",
              "          const docLink = document.createElement('div');\n",
              "          docLink.innerHTML = docLinkHtml;\n",
              "          element.appendChild(docLink);\n",
              "        }\n",
              "      </script>\n",
              "    </div>\n",
              "  </div>\n",
              "  "
            ]
          },
          "metadata": {},
          "execution_count": 42
        }
      ]
    },
    {
      "cell_type": "code",
      "source": [
        "# model evaluation for testing set\n",
        "regression_results(y_test, y_pred)"
      ],
      "metadata": {
        "colab": {
          "base_uri": "https://localhost:8080/"
        },
        "id": "kfhVjsUe34Jk",
        "outputId": "9f3097f6-160d-42a3-c1f9-56421a6387be"
      },
      "execution_count": 43,
      "outputs": [
        {
          "output_type": "stream",
          "name": "stdout",
          "text": [
            "The model performance for testing set\n",
            "--------------------------------------\n",
            "MAE is 6.5713698591163885\n",
            "MSE is 69.34203517345486\n",
            "RMSE is 8.327186510067783\n",
            "R2 score is 0.7188075518411565\n",
            "Adj R2 score is 0.7138091446040576\n"
          ]
        }
      ]
    },
    {
      "cell_type": "markdown",
      "source": [
        "### Use Cross-Validation to evaluate model performance"
      ],
      "metadata": {
        "id": "ZbupVYCBZg37"
      }
    },
    {
      "cell_type": "code",
      "source": [
        "from sklearn.utils import shuffle\n",
        "X_shuffle, y_shuffle = shuffle(X_train, y_train, random_state=42)\n",
        "\n",
        "from sklearn.model_selection import cross_val_score\n",
        "scores = cross_val_score(lr_4, X_shuffle, y_shuffle,\n",
        "                         scoring=\"neg_mean_squared_error\",\n",
        "                         cv=5, n_jobs=1)\n",
        "rmse = np.sqrt(-scores)\n",
        "print(\"RMSE values: \", np.round(rmse, 2))\n",
        "print(\"RMSE average: \", np.mean(rmse))\n"
      ],
      "metadata": {
        "colab": {
          "base_uri": "https://localhost:8080/"
        },
        "id": "abk2yzOhZgkr",
        "outputId": "a9a219cf-452f-49aa-fc20-5c8674dccf46"
      },
      "execution_count": 44,
      "outputs": [
        {
          "output_type": "stream",
          "name": "stdout",
          "text": [
            "RMSE values:  [8.4  8.36 8.37 8.42 8.4 ]\n",
            "RMSE average:  8.390106210680138\n"
          ]
        }
      ]
    },
    {
      "cell_type": "markdown",
      "metadata": {
        "id": "tCpr7Bl6LFxD"
      },
      "source": [
        "## Random Forest"
      ]
    },
    {
      "cell_type": "markdown",
      "source": [
        "### RF 1: Include all variables"
      ],
      "metadata": {
        "id": "LDQe7FYu_4qg"
      }
    },
    {
      "cell_type": "code",
      "execution_count": 99,
      "metadata": {
        "colab": {
          "base_uri": "https://localhost:8080/"
        },
        "id": "vuCGBAETQsfw",
        "outputId": "560878cf-ce91-46c5-c2be-8eb82531d222"
      },
      "outputs": [
        {
          "metadata": {
            "tags": null
          },
          "name": "stderr",
          "output_type": "stream",
          "text": [
            "/usr/local/lib/python3.7/dist-packages/ipykernel_launcher.py:7: DataConversionWarning: A column-vector y was passed when a 1d array was expected. Please change the shape of y to (n_samples,), for example using ravel().\n",
            "  import sys\n"
          ]
        },
        {
          "output_type": "execute_result",
          "data": {
            "text/plain": [
              "RandomForestRegressor(n_estimators=250, random_state=0)"
            ]
          },
          "metadata": {},
          "execution_count": 99
        }
      ],
      "source": [
        "# Fitting Random Forest Regression to the dataset\n",
        "\n",
        "# create regressor object\n",
        "rf_rg = RandomForestRegressor(n_estimators = 250, random_state = 0)\n",
        "\n",
        "# fit the regressor with x and y data\n",
        "rf_rg.fit(X_train_all, y_train_all)\n"
      ]
    },
    {
      "cell_type": "code",
      "execution_count": 100,
      "metadata": {
        "id": "bh4py_-qP0qA",
        "colab": {
          "base_uri": "https://localhost:8080/"
        },
        "outputId": "f5f2e17c-2a77-48ee-8e52-a7fdc4587137"
      },
      "outputs": [
        {
          "output_type": "execute_result",
          "data": {
            "text/plain": [
              "array([59.34173292, 49.92979449, 59.49057903, ..., 48.38987646,\n",
              "       49.84626736, 57.13793928])"
            ]
          },
          "metadata": {},
          "execution_count": 100
        }
      ],
      "source": [
        "y_pred = rf_rg.predict(X_test_all)\n",
        "y_pred"
      ]
    },
    {
      "cell_type": "code",
      "source": [
        "# model evaluation for testing set\n",
        "regression_results(y_test, y_pred)"
      ],
      "metadata": {
        "id": "5L1wSlzs9qVo",
        "colab": {
          "base_uri": "https://localhost:8080/"
        },
        "outputId": "6beb5532-985a-4fa0-ca97-a999fa5f9a79"
      },
      "execution_count": 101,
      "outputs": [
        {
          "output_type": "stream",
          "name": "stdout",
          "text": [
            "The model performance for testing set\n",
            "--------------------------------------\n",
            "MAE is 4.644292889322016\n",
            "MSE is 35.132178474298506\n",
            "RMSE is 5.927240375950557\n",
            "R2 score is 0.8575336987206974\n",
            "Adj R2 score is 0.8550012530735266\n"
          ]
        }
      ]
    },
    {
      "cell_type": "markdown",
      "metadata": {
        "id": "FurofQ7jCIX8"
      },
      "source": [
        "#### Feature importance"
      ]
    },
    {
      "cell_type": "code",
      "execution_count": 103,
      "metadata": {
        "id": "pNVFVLay32zq",
        "colab": {
          "base_uri": "https://localhost:8080/",
          "height": 283
        },
        "outputId": "327b5d74-4308-43e1-879b-7f4fe963baeb"
      },
      "outputs": [
        {
          "output_type": "execute_result",
          "data": {
            "text/plain": [
              "<matplotlib.axes._subplots.AxesSubplot at 0x7f1e7381bfd0>"
            ]
          },
          "metadata": {},
          "execution_count": 103
        },
        {
          "output_type": "display_data",
          "data": {
            "text/plain": [
              "<Figure size 432x288 with 1 Axes>"
            ],
            "image/png": "[encoded data removed]"
          },
          "metadata": {
            "needs_background": "light"
          }
        }
      ],
      "source": [
        "(pd.Series(rf_rg.feature_importances_, index=X_test_all.columns)\n",
        "   .nlargest(15)[::-1]\n",
        "   .plot(kind='barh')\n",
        "   )  \n",
        "   "
      ]
    },
    {
      "cell_type": "code",
      "source": [
        "top_vars_rf = (pd.Series(rf_rg.feature_importances_, index=X_test_all.columns).nlargest(15)[:-1])\n",
        "print(top_vars_rf)"
      ],
      "metadata": {
        "id": "1EeY3sUOLA5X",
        "colab": {
          "base_uri": "https://localhost:8080/"
        },
        "outputId": "53679eaf-df0b-43fc-aafc-789a86706b15"
      },
      "execution_count": 104,
      "outputs": [
        {
          "output_type": "stream",
          "name": "stdout",
          "text": [
            "pct_desktop_or_laptop     0.582478\n",
            "ave_household_size        0.082850\n",
            "pct_pop_gt_200k           0.069829\n",
            "pct_hisp_latino           0.033384\n",
            "pct_pop_associates        0.025102\n",
            "pct_smartphone            0.009010\n",
            "pct_pop_ged               0.008345\n",
            "pct_pop_foreign_born      0.007505\n",
            "pct_white                 0.005731\n",
            "ave_family_size           0.005119\n",
            "pct_pop_income_gt_100k    0.004806\n",
            "pct_tablet                0.004698\n",
            "log_median_house_value    0.004446\n",
            "median_house_value        0.004329\n",
            "dtype: float64\n"
          ]
        }
      ]
    },
    {
      "cell_type": "markdown",
      "source": [
        "### RF 2: Only the top 10 features + broadband var set 1"
      ],
      "metadata": {
        "id": "zV7nDm-_KVHT"
      }
    },
    {
      "cell_type": "code",
      "source": [
        "top_vars_rf_list = top_vars_rf.index.tolist()\n",
        "print(top_vars_rf_list)"
      ],
      "metadata": {
        "id": "eYU9z-jLLmxu",
        "colab": {
          "base_uri": "https://localhost:8080/"
        },
        "outputId": "f8b70e17-4004-46a6-f923-ab2e8eb38cda"
      },
      "execution_count": 105,
      "outputs": [
        {
          "output_type": "stream",
          "name": "stdout",
          "text": [
            "['pct_desktop_or_laptop', 'ave_household_size', 'pct_pop_gt_200k', 'pct_hisp_latino', 'pct_pop_associates', 'pct_smartphone', 'pct_pop_ged', 'pct_pop_foreign_born', 'pct_white', 'ave_family_size', 'pct_pop_income_gt_100k', 'pct_tablet', 'log_median_house_value', 'median_house_value']\n"
          ]
        }
      ]
    },
    {
      "cell_type": "code",
      "source": [
        "#limit the dataset to only the relevant variables\n",
        "\n",
        "ind_var = [e for e in top_vars_rf_list if e not in ('pct_pop_hs+','pct_pop_bachelors+')]\n",
        "for word in br_important_vars:\n",
        "    if word not in ind_var:\n",
        "        ind_var.append(word)\n",
        "\n",
        "for word in important_cov:\n",
        "    if word not in ind_var:\n",
        "        ind_var.append(word)\n",
        "\n",
        "target = ['pct_pop_hs+']\n",
        "\n",
        "X_train = X_train_all[ind_var]\n",
        "X_test = X_test_all[ind_var]\n",
        "y_train = y_train_all[target]\n",
        "y_test = y_test_all[target]"
      ],
      "metadata": {
        "id": "nzQMn7_BLx5Z"
      },
      "execution_count": 106,
      "outputs": []
    },
    {
      "cell_type": "code",
      "source": [
        "ind_var"
      ],
      "metadata": {
        "id": "OauZN33ZI2aE",
        "colab": {
          "base_uri": "https://localhost:8080/"
        },
        "outputId": "aab563f8-bd8c-470a-a803-6fa703b934fc"
      },
      "execution_count": 107,
      "outputs": [
        {
          "output_type": "execute_result",
          "data": {
            "text/plain": [
              "['pct_desktop_or_laptop',\n",
              " 'ave_household_size',\n",
              " 'pct_pop_gt_200k',\n",
              " 'pct_hisp_latino',\n",
              " 'pct_pop_associates',\n",
              " 'pct_smartphone',\n",
              " 'pct_pop_ged',\n",
              " 'pct_pop_foreign_born',\n",
              " 'pct_white',\n",
              " 'ave_family_size',\n",
              " 'pct_pop_income_gt_100k',\n",
              " 'pct_tablet',\n",
              " 'log_median_house_value',\n",
              " 'median_house_value',\n",
              " 'pct_internet',\n",
              " 'pct_only_cellular',\n",
              " 'pct_computing_device_no_internet',\n",
              " 'pct_internet_broadband_satellite',\n",
              " 'pct_computing_device_with_broadband',\n",
              " 'log_median_income',\n",
              " 'ruca_metro',\n",
              " 'ruca_micro',\n",
              " 'ruca_small_town',\n",
              " 'ruca_rural',\n",
              " 'log_median_income_over_log_median_house',\n",
              " 'pct_pop_disability']"
            ]
          },
          "metadata": {},
          "execution_count": 107
        }
      ]
    },
    {
      "cell_type": "code",
      "source": [
        "# Fitting Random Forest Regression to the dataset\n",
        "\n",
        "# create regressor object\n",
        "rf_rg2 = RandomForestRegressor(n_estimators = 250, random_state = 0)\n",
        "\n",
        "# fit the regressor with x and y data\n",
        "rf_rg2.fit(X_train, y_train)\n"
      ],
      "metadata": {
        "id": "cScWwRSDINm5",
        "colab": {
          "base_uri": "https://localhost:8080/"
        },
        "outputId": "703629cf-7b94-439d-adbf-9bedf996371f"
      },
      "execution_count": 109,
      "outputs": [
        {
          "output_type": "stream",
          "name": "stderr",
          "text": [
            "/usr/local/lib/python3.7/dist-packages/ipykernel_launcher.py:7: DataConversionWarning: A column-vector y was passed when a 1d array was expected. Please change the shape of y to (n_samples,), for example using ravel().\n",
            "  import sys\n"
          ]
        },
        {
          "output_type": "execute_result",
          "data": {
            "text/plain": [
              "RandomForestRegressor(n_estimators=250, random_state=0)"
            ]
          },
          "metadata": {},
          "execution_count": 109
        }
      ]
    },
    {
      "cell_type": "code",
      "source": [
        "y_pred = rf_rg2.predict(X_test)\n",
        "y_pred"
      ],
      "metadata": {
        "id": "f7XjgEmaOSmN",
        "colab": {
          "base_uri": "https://localhost:8080/"
        },
        "outputId": "20521e78-8701-451e-b49e-c200e9db0cc6"
      },
      "execution_count": 110,
      "outputs": [
        {
          "output_type": "execute_result",
          "data": {
            "text/plain": [
              "array([59.53326832, 50.16464564, 56.00256048, ..., 48.79890725,\n",
              "       51.27357262, 57.20446566])"
            ]
          },
          "metadata": {},
          "execution_count": 110
        }
      ]
    },
    {
      "cell_type": "code",
      "source": [
        "# model evaluation for testing set\n",
        "regression_results(y_test, y_pred)"
      ],
      "metadata": {
        "id": "k1vaXb27MlQL",
        "colab": {
          "base_uri": "https://localhost:8080/"
        },
        "outputId": "c6ce7956-1287-417c-ad6a-d9000420ee17"
      },
      "execution_count": 111,
      "outputs": [
        {
          "output_type": "stream",
          "name": "stdout",
          "text": [
            "The model performance for testing set\n",
            "--------------------------------------\n",
            "MAE is 4.76355498974902\n",
            "MSE is 36.95822547680205\n",
            "RMSE is 6.079327715858231\n",
            "R2 score is 0.8501288017371769\n",
            "Adj R2 score is 0.8474647284772634\n"
          ]
        }
      ]
    },
    {
      "cell_type": "code",
      "source": [
        "top_vars_rf2 = (pd.Series(rf_rg2.feature_importances_, index=X_test.columns).nlargest(35)[:-1])\n",
        "print(top_vars_rf2)"
      ],
      "metadata": {
        "colab": {
          "base_uri": "https://localhost:8080/"
        },
        "id": "fyFOylAHxINA",
        "outputId": "abaed8b9-71f6-4575-f889-81ea1ed2792c"
      },
      "execution_count": 112,
      "outputs": [
        {
          "output_type": "stream",
          "name": "stdout",
          "text": [
            "pct_desktop_or_laptop                      0.589378\n",
            "ave_household_size                         0.091138\n",
            "pct_pop_gt_200k                            0.075341\n",
            "pct_hisp_latino                            0.039514\n",
            "pct_pop_associates                         0.033234\n",
            "pct_smartphone                             0.018886\n",
            "pct_pop_ged                                0.015464\n",
            "pct_pop_foreign_born                       0.014766\n",
            "pct_white                                  0.014549\n",
            "pct_tablet                                 0.011547\n",
            "pct_pop_disability                         0.010819\n",
            "ave_family_size                            0.010808\n",
            "pct_pop_income_gt_100k                     0.010654\n",
            "log_median_income                          0.009314\n",
            "pct_internet_broadband_satellite           0.007637\n",
            "log_median_income_over_log_median_house    0.007422\n",
            "log_median_house_value                     0.007366\n",
            "median_house_value                         0.007345\n",
            "pct_only_cellular                          0.007187\n",
            "pct_computing_device_no_internet           0.006132\n",
            "pct_computing_device_with_broadband        0.005293\n",
            "pct_internet                               0.004980\n",
            "ruca_metro                                 0.000458\n",
            "ruca_micro                                 0.000354\n",
            "ruca_small_town                            0.000209\n",
            "dtype: float64\n"
          ]
        }
      ]
    },
    {
      "cell_type": "code",
      "source": [
        "pd.DataFrame({'Variables':top_vars_rf2.index, 'Importance':top_vars_rf2.values})\n"
      ],
      "metadata": {
        "colab": {
          "base_uri": "https://localhost:8080/",
          "height": 833
        },
        "id": "Kiozru5sxNhA",
        "outputId": "f6db0102-f283-4554-e3b9-4323d576a3d3"
      },
      "execution_count": 113,
      "outputs": [
        {
          "output_type": "execute_result",
          "data": {
            "text/plain": [
              "                                  Variables  Importance\n",
              "0                     pct_desktop_or_laptop    0.589378\n",
              "1                        ave_household_size    0.091138\n",
              "2                           pct_pop_gt_200k    0.075341\n",
              "3                           pct_hisp_latino    0.039514\n",
              "4                        pct_pop_associates    0.033234\n",
              "5                            pct_smartphone    0.018886\n",
              "6                               pct_pop_ged    0.015464\n",
              "7                      pct_pop_foreign_born    0.014766\n",
              "8                                 pct_white    0.014549\n",
              "9                                pct_tablet    0.011547\n",
              "10                       pct_pop_disability    0.010819\n",
              "11                          ave_family_size    0.010808\n",
              "12                   pct_pop_income_gt_100k    0.010654\n",
              "13                        log_median_income    0.009314\n",
              "14         pct_internet_broadband_satellite    0.007637\n",
              "15  log_median_income_over_log_median_house    0.007422\n",
              "16                   log_median_house_value    0.007366\n",
              "17                       median_house_value    0.007345\n",
              "18                        pct_only_cellular    0.007187\n",
              "19         pct_computing_device_no_internet    0.006132\n",
              "20      pct_computing_device_with_broadband    0.005293\n",
              "21                             pct_internet    0.004980\n",
              "22                               ruca_metro    0.000458\n",
              "23                               ruca_micro    0.000354\n",
              "24                          ruca_small_town    0.000209"
            ],
            "text/html": [
              "\n",
              "  <div id=\"df-871037c1-a9f7-49a0-9f80-81373eefb98d\">\n",
              "    <div class=\"colab-df-container\">\n",
              "      <div>\n",
              "<style scoped>\n",
              "    .dataframe tbody tr th:only-of-type {\n",
              "        vertical-align: middle;\n",
              "    }\n",
              "\n",
              "    .dataframe tbody tr th {\n",
              "        vertical-align: top;\n",
              "    }\n",
              "\n",
              "    .dataframe thead th {\n",
              "        text-align: right;\n",
              "    }\n",
              "</style>\n",
              "<table border=\"1\" class=\"dataframe\">\n",
              "  <thead>\n",
              "    <tr style=\"text-align: right;\">\n",
              "      <th></th>\n",
              "      <th>Variables</th>\n",
              "      <th>Importance</th>\n",
              "    </tr>\n",
              "  </thead>\n",
              "  <tbody>\n",
              "    <tr>\n",
              "      <th>0</th>\n",
              "      <td>pct_desktop_or_laptop</td>\n",
              "      <td>0.589378</td>\n",
              "    </tr>\n",
              "    <tr>\n",
              "      <th>1</th>\n",
              "      <td>ave_household_size</td>\n",
              "      <td>0.091138</td>\n",
              "    </tr>\n",
              "    <tr>\n",
              "      <th>2</th>\n",
              "      <td>pct_pop_gt_200k</td>\n",
              "      <td>0.075341</td>\n",
              "    </tr>\n",
              "    <tr>\n",
              "      <th>3</th>\n",
              "      <td>pct_hisp_latino</td>\n",
              "      <td>0.039514</td>\n",
              "    </tr>\n",
              "    <tr>\n",
              "      <th>4</th>\n",
              "      <td>pct_pop_associates</td>\n",
              "      <td>0.033234</td>\n",
              "    </tr>\n",
              "    <tr>\n",
              "      <th>5</th>\n",
              "      <td>pct_smartphone</td>\n",
              "      <td>0.018886</td>\n",
              "    </tr>\n",
              "    <tr>\n",
              "      <th>6</th>\n",
              "      <td>pct_pop_ged</td>\n",
              "      <td>0.015464</td>\n",
              "    </tr>\n",
              "    <tr>\n",
              "      <th>7</th>\n",
              "      <td>pct_pop_foreign_born</td>\n",
              "      <td>0.014766</td>\n",
              "    </tr>\n",
              "    <tr>\n",
              "      <th>8</th>\n",
              "      <td>pct_white</td>\n",
              "      <td>0.014549</td>\n",
              "    </tr>\n",
              "    <tr>\n",
              "      <th>9</th>\n",
              "      <td>pct_tablet</td>\n",
              "      <td>0.011547</td>\n",
              "    </tr>\n",
              "    <tr>\n",
              "      <th>10</th>\n",
              "      <td>pct_pop_disability</td>\n",
              "      <td>0.010819</td>\n",
              "    </tr>\n",
              "    <tr>\n",
              "      <th>11</th>\n",
              "      <td>ave_family_size</td>\n",
              "      <td>0.010808</td>\n",
              "    </tr>\n",
              "    <tr>\n",
              "      <th>12</th>\n",
              "      <td>pct_pop_income_gt_100k</td>\n",
              "      <td>0.010654</td>\n",
              "    </tr>\n",
              "    <tr>\n",
              "      <th>13</th>\n",
              "      <td>log_median_income</td>\n",
              "      <td>0.009314</td>\n",
              "    </tr>\n",
              "    <tr>\n",
              "      <th>14</th>\n",
              "      <td>pct_internet_broadband_satellite</td>\n",
              "      <td>0.007637</td>\n",
              "    </tr>\n",
              "    <tr>\n",
              "      <th>15</th>\n",
              "      <td>log_median_income_over_log_median_house</td>\n",
              "      <td>0.007422</td>\n",
              "    </tr>\n",
              "    <tr>\n",
              "      <th>16</th>\n",
              "      <td>log_median_house_value</td>\n",
              "      <td>0.007366</td>\n",
              "    </tr>\n",
              "    <tr>\n",
              "      <th>17</th>\n",
              "      <td>median_house_value</td>\n",
              "      <td>0.007345</td>\n",
              "    </tr>\n",
              "    <tr>\n",
              "      <th>18</th>\n",
              "      <td>pct_only_cellular</td>\n",
              "      <td>0.007187</td>\n",
              "    </tr>\n",
              "    <tr>\n",
              "      <th>19</th>\n",
              "      <td>pct_computing_device_no_internet</td>\n",
              "      <td>0.006132</td>\n",
              "    </tr>\n",
              "    <tr>\n",
              "      <th>20</th>\n",
              "      <td>pct_computing_device_with_broadband</td>\n",
              "      <td>0.005293</td>\n",
              "    </tr>\n",
              "    <tr>\n",
              "      <th>21</th>\n",
              "      <td>pct_internet</td>\n",
              "      <td>0.004980</td>\n",
              "    </tr>\n",
              "    <tr>\n",
              "      <th>22</th>\n",
              "      <td>ruca_metro</td>\n",
              "      <td>0.000458</td>\n",
              "    </tr>\n",
              "    <tr>\n",
              "      <th>23</th>\n",
              "      <td>ruca_micro</td>\n",
              "      <td>0.000354</td>\n",
              "    </tr>\n",
              "    <tr>\n",
              "      <th>24</th>\n",
              "      <td>ruca_small_town</td>\n",
              "      <td>0.000209</td>\n",
              "    </tr>\n",
              "  </tbody>\n",
              "</table>\n",
              "</div>\n",
              "      <button class=\"colab-df-convert\" onclick=\"convertToInteractive('df-871037c1-a9f7-49a0-9f80-81373eefb98d')\"\n",
              "              title=\"Convert this dataframe to an interactive table.\"\n",
              "              style=\"display:none;\">\n",
              "        \n",
              "  <svg xmlns=\"http://www.w3.org/2000/svg\" height=\"24px\"viewBox=\"0 0 24 24\"\n",
              "       width=\"24px\">\n",
              "    <path d=\"M0 0h24v24H0V0z\" fill=\"none\"/>\n",
              "    <path d=\"M18.56 5.44l.94 2.06.94-2.06 2.06-.94-2.06-.94-.94-2.06-.94 2.06-2.06.94zm-11 1L8.5 8.5l.94-2.06 2.06-.94-2.06-.94L8.5 2.5l-.94 2.06-2.06.94zm10 10l.94 2.06.94-2.06 2.06-.94-2.06-.94-.94-2.06-.94 2.06-2.06.94z\"/><path d=\"M17.41 7.96l-1.37-1.37c-.4-.4-.92-.59-1.43-.59-.52 0-1.04.2-1.43.59L10.3 9.45l-7.72 7.72c-.78.78-.78 2.05 0 2.83L4 21.41c.39.39.9.59 1.41.59.51 0 1.02-.2 1.41-.59l7.78-7.78 2.81-2.81c.8-.78.8-2.07 0-2.86zM5.41 20L4 18.59l7.72-7.72 1.47 1.35L5.41 20z\"/>\n",
              "  </svg>\n",
              "      </button>\n",
              "      \n",
              "  <style>\n",
              "    .colab-df-container {\n",
              "      display:flex;\n",
              "      flex-wrap:wrap;\n",
              "      gap: 12px;\n",
              "    }\n",
              "\n",
              "    .colab-df-convert {\n",
              "      background-color: #E8F0FE;\n",
              "      border: none;\n",
              "      border-radius: 50%;\n",
              "      cursor: pointer;\n",
              "      display: none;\n",
              "      fill: #1967D2;\n",
              "      height: 32px;\n",
              "      padding: 0 0 0 0;\n",
              "      width: 32px;\n",
              "    }\n",
              "\n",
              "    .colab-df-convert:hover {\n",
              "      background-color: #E2EBFA;\n",
              "      box-shadow: 0px 1px 2px rgba(60, 64, 67, 0.3), 0px 1px 3px 1px rgba(60, 64, 67, 0.15);\n",
              "      fill: #174EA6;\n",
              "    }\n",
              "\n",
              "    [theme=dark] .colab-df-convert {\n",
              "      background-color: #3B4455;\n",
              "      fill: #D2E3FC;\n",
              "    }\n",
              "\n",
              "    [theme=dark] .colab-df-convert:hover {\n",
              "      background-color: #434B5C;\n",
              "      box-shadow: 0px 1px 3px 1px rgba(0, 0, 0, 0.15);\n",
              "      filter: drop-shadow(0px 1px 2px rgba(0, 0, 0, 0.3));\n",
              "      fill: #FFFFFF;\n",
              "    }\n",
              "  </style>\n",
              "\n",
              "      <script>\n",
              "        const buttonEl =\n",
              "          document.querySelector('#df-871037c1-a9f7-49a0-9f80-81373eefb98d button.colab-df-convert');\n",
              "        buttonEl.style.display =\n",
              "          google.colab.kernel.accessAllowed ? 'block' : 'none';\n",
              "\n",
              "        async function convertToInteractive(key) {\n",
              "          const element = document.querySelector('#df-871037c1-a9f7-49a0-9f80-81373eefb98d');\n",
              "          const dataTable =\n",
              "            await google.colab.kernel.invokeFunction('convertToInteractive',\n",
              "                                                     [key], {});\n",
              "          if (!dataTable) return;\n",
              "\n",
              "          const docLinkHtml = 'Like what you see? Visit the ' +\n",
              "            '<a target=\"_blank\" href=https://colab.research.google.com/notebooks/data_table.ipynb>data table notebook</a>'\n",
              "            + ' to learn more about interactive tables.';\n",
              "          element.innerHTML = '';\n",
              "          dataTable['output_type'] = 'display_data';\n",
              "          await google.colab.output.renderOutput(dataTable, element);\n",
              "          const docLink = document.createElement('div');\n",
              "          docLink.innerHTML = docLinkHtml;\n",
              "          element.appendChild(docLink);\n",
              "        }\n",
              "      </script>\n",
              "    </div>\n",
              "  </div>\n",
              "  "
            ]
          },
          "metadata": {},
          "execution_count": 113
        }
      ]
    },
    {
      "cell_type": "markdown",
      "source": [
        "### RF 3: Only the top 10 features + broadband var set 2"
      ],
      "metadata": {
        "id": "lHfKOmmAMs_M"
      }
    },
    {
      "cell_type": "code",
      "source": [
        "#limit the dataset to only the relevant variables\n",
        "\n",
        "ind_var_rf3 = [e for e in top_vars_rf_list if e not in ('pct_pop_hs+','pct_pop_bachelors+')]\n",
        "for word in br_interest_vars:\n",
        "    if word not in ind_var_rf3:\n",
        "        ind_var_rf3.append(word)\n",
        "\n",
        "for word in important_cov:\n",
        "    if word not in ind_var_rf3:\n",
        "        ind_var_rf3.append(word)\n",
        "        \n",
        "target = ['pct_pop_hs+']\n",
        "\n",
        "X_train = X_train_all[ind_var_rf3]\n",
        "X_test = X_test_all[ind_var_rf3]\n",
        "y_train = y_train_all[target]\n",
        "y_test = y_test_all[target]"
      ],
      "metadata": {
        "id": "LSZaJozNO_EO"
      },
      "execution_count": 114,
      "outputs": []
    },
    {
      "cell_type": "code",
      "source": [
        "ind_var_rf3"
      ],
      "metadata": {
        "id": "HXxtyit2PPP8",
        "colab": {
          "base_uri": "https://localhost:8080/"
        },
        "outputId": "56b9767a-9d76-4f8b-eb47-7b7569dd0b1c"
      },
      "execution_count": 115,
      "outputs": [
        {
          "output_type": "execute_result",
          "data": {
            "text/plain": [
              "['pct_desktop_or_laptop',\n",
              " 'ave_household_size',\n",
              " 'pct_pop_gt_200k',\n",
              " 'pct_hisp_latino',\n",
              " 'pct_pop_associates',\n",
              " 'pct_smartphone',\n",
              " 'pct_pop_ged',\n",
              " 'pct_pop_foreign_born',\n",
              " 'pct_white',\n",
              " 'ave_family_size',\n",
              " 'pct_pop_income_gt_100k',\n",
              " 'pct_tablet',\n",
              " 'log_median_house_value',\n",
              " 'median_house_value',\n",
              " 'pct_internet',\n",
              " 'All_Provider_Count_25',\n",
              " 'All_Provider_Count_100',\n",
              " 'Ookla Median Download Speed (Mbps)',\n",
              " 'pct_computing_device',\n",
              " 'pct_internet_broadband_any_type',\n",
              " 'log_median_income',\n",
              " 'ruca_metro',\n",
              " 'ruca_micro',\n",
              " 'ruca_small_town',\n",
              " 'ruca_rural',\n",
              " 'log_median_income_over_log_median_house',\n",
              " 'pct_pop_disability']"
            ]
          },
          "metadata": {},
          "execution_count": 115
        }
      ]
    },
    {
      "cell_type": "code",
      "source": [
        "# Fitting Random Forest Regression to the dataset\n",
        "\n",
        "# create regressor object\n",
        "rf_rg3 = RandomForestRegressor(n_estimators = 250, random_state = 0)\n",
        "\n",
        "# fit the regressor with x and y data\n",
        "rf_rg3.fit(X_train, y_train)\n"
      ],
      "metadata": {
        "id": "ayDzllSrPIQQ",
        "colab": {
          "base_uri": "https://localhost:8080/"
        },
        "outputId": "367dd588-70ad-4904-e6e7-8e2ce1d25ca0"
      },
      "execution_count": 116,
      "outputs": [
        {
          "output_type": "stream",
          "name": "stderr",
          "text": [
            "/usr/local/lib/python3.7/dist-packages/ipykernel_launcher.py:7: DataConversionWarning: A column-vector y was passed when a 1d array was expected. Please change the shape of y to (n_samples,), for example using ravel().\n",
            "  import sys\n"
          ]
        },
        {
          "output_type": "execute_result",
          "data": {
            "text/plain": [
              "RandomForestRegressor(n_estimators=250, random_state=0)"
            ]
          },
          "metadata": {},
          "execution_count": 116
        }
      ]
    },
    {
      "cell_type": "code",
      "source": [
        "y_pred = rf_rg3.predict(X_test)\n",
        "y_pred"
      ],
      "metadata": {
        "id": "4DUSwLGUPVLh",
        "colab": {
          "base_uri": "https://localhost:8080/"
        },
        "outputId": "68e301b5-8bba-4be9-fc51-f9ab3a6916e8"
      },
      "execution_count": 117,
      "outputs": [
        {
          "output_type": "execute_result",
          "data": {
            "text/plain": [
              "array([59.57644391, 48.88676599, 56.4366159 , ..., 48.59227293,\n",
              "       51.75877378, 57.33986621])"
            ]
          },
          "metadata": {},
          "execution_count": 117
        }
      ]
    },
    {
      "cell_type": "code",
      "source": [
        "# model evaluation for testing set\n",
        "regression_results(y_test, y_pred)"
      ],
      "metadata": {
        "id": "dH9Wa_42PXnk",
        "colab": {
          "base_uri": "https://localhost:8080/"
        },
        "outputId": "84e77472-d060-486f-a733-65aba0883217"
      },
      "execution_count": 118,
      "outputs": [
        {
          "output_type": "stream",
          "name": "stdout",
          "text": [
            "The model performance for testing set\n",
            "--------------------------------------\n",
            "MAE is 4.748044626332708\n",
            "MSE is 36.642652077117006\n",
            "RMSE is 6.05331744394072\n",
            "R2 score is 0.8514084996377256\n",
            "Adj R2 score is 0.8487671739703926\n"
          ]
        }
      ]
    },
    {
      "cell_type": "code",
      "source": [
        "top_vars_rf3 = (pd.Series(rf_rg3.feature_importances_, index=X_test.columns).nlargest(25)[:-1])\n",
        "print(top_vars_rf3)"
      ],
      "metadata": {
        "colab": {
          "base_uri": "https://localhost:8080/"
        },
        "id": "ywn-4yZIvgUi",
        "outputId": "887327df-5d1f-40d9-b3b0-92d0adeb388d"
      },
      "execution_count": 119,
      "outputs": [
        {
          "output_type": "stream",
          "name": "stdout",
          "text": [
            "pct_desktop_or_laptop                      0.589349\n",
            "ave_household_size                         0.091234\n",
            "pct_pop_gt_200k                            0.075459\n",
            "pct_hisp_latino                            0.039623\n",
            "pct_pop_associates                         0.033370\n",
            "pct_smartphone                             0.018090\n",
            "pct_pop_ged                                0.015618\n",
            "pct_pop_foreign_born                       0.014803\n",
            "pct_white                                  0.014658\n",
            "pct_tablet                                 0.011638\n",
            "pct_pop_disability                         0.010911\n",
            "ave_family_size                            0.010888\n",
            "pct_pop_income_gt_100k                     0.010857\n",
            "log_median_income                          0.009469\n",
            "Ookla Median Download Speed (Mbps)         0.007902\n",
            "median_house_value                         0.007554\n",
            "log_median_income_over_log_median_house    0.007528\n",
            "log_median_house_value                     0.007316\n",
            "pct_computing_device                       0.007256\n",
            "pct_internet_broadband_any_type            0.004989\n",
            "pct_internet                               0.004772\n",
            "All_Provider_Count_25                      0.002750\n",
            "All_Provider_Count_100                     0.002749\n",
            "ruca_metro                                 0.000439\n",
            "dtype: float64\n"
          ]
        }
      ]
    },
    {
      "cell_type": "code",
      "source": [
        "pd.DataFrame({'Variables':top_vars_rf3.index, 'Importance':top_vars_rf3.values})\n"
      ],
      "metadata": {
        "colab": {
          "base_uri": "https://localhost:8080/",
          "height": 802
        },
        "id": "XIB-OXg_wYlV",
        "outputId": "fe9dcb0c-f370-46c8-d128-18269df1904f"
      },
      "execution_count": 97,
      "outputs": [
        {
          "output_type": "execute_result",
          "data": {
            "text/plain": [
              "                                  Variables  Importance\n",
              "0                     pct_desktop_or_laptop    0.589414\n",
              "1                        ave_household_size    0.091468\n",
              "2                           pct_pop_gt_200k    0.075185\n",
              "3                           pct_hisp_latino    0.039426\n",
              "4                        pct_pop_associates    0.033318\n",
              "5                            pct_smartphone    0.018203\n",
              "6                               pct_pop_ged    0.015573\n",
              "7                      pct_pop_foreign_born    0.014750\n",
              "8                                 pct_white    0.014620\n",
              "9                                pct_tablet    0.011621\n",
              "10                          ave_family_size    0.010959\n",
              "11                   pct_pop_income_gt_100k    0.010932\n",
              "12                       pct_pop_disability    0.010845\n",
              "13                        log_median_income    0.009458\n",
              "14       Ookla Median Download Speed (Mbps)    0.007925\n",
              "15  log_median_income_over_log_median_house    0.007565\n",
              "16                       median_house_value    0.007539\n",
              "17                   log_median_house_value    0.007387\n",
              "18                     pct_computing_device    0.007334\n",
              "19          pct_internet_broadband_any_type    0.005004\n",
              "20                             pct_internet    0.004776\n",
              "21                   All_Provider_Count_100    0.002752\n",
              "22                    All_Provider_Count_25    0.002738\n",
              "23                               ruca_metro    0.000441"
            ],
            "text/html": [
              "\n",
              "  <div id=\"df-f7d9f663-b67d-478f-98c0-e009f2975319\">\n",
              "    <div class=\"colab-df-container\">\n",
              "      <div>\n",
              "<style scoped>\n",
              "    .dataframe tbody tr th:only-of-type {\n",
              "        vertical-align: middle;\n",
              "    }\n",
              "\n",
              "    .dataframe tbody tr th {\n",
              "        vertical-align: top;\n",
              "    }\n",
              "\n",
              "    .dataframe thead th {\n",
              "        text-align: right;\n",
              "    }\n",
              "</style>\n",
              "<table border=\"1\" class=\"dataframe\">\n",
              "  <thead>\n",
              "    <tr style=\"text-align: right;\">\n",
              "      <th></th>\n",
              "      <th>Variables</th>\n",
              "      <th>Importance</th>\n",
              "    </tr>\n",
              "  </thead>\n",
              "  <tbody>\n",
              "    <tr>\n",
              "      <th>0</th>\n",
              "      <td>pct_desktop_or_laptop</td>\n",
              "      <td>0.589414</td>\n",
              "    </tr>\n",
              "    <tr>\n",
              "      <th>1</th>\n",
              "      <td>ave_household_size</td>\n",
              "      <td>0.091468</td>\n",
              "    </tr>\n",
              "    <tr>\n",
              "      <th>2</th>\n",
              "      <td>pct_pop_gt_200k</td>\n",
              "      <td>0.075185</td>\n",
              "    </tr>\n",
              "    <tr>\n",
              "      <th>3</th>\n",
              "      <td>pct_hisp_latino</td>\n",
              "      <td>0.039426</td>\n",
              "    </tr>\n",
              "    <tr>\n",
              "      <th>4</th>\n",
              "      <td>pct_pop_associates</td>\n",
              "      <td>0.033318</td>\n",
              "    </tr>\n",
              "    <tr>\n",
              "      <th>5</th>\n",
              "      <td>pct_smartphone</td>\n",
              "      <td>0.018203</td>\n",
              "    </tr>\n",
              "    <tr>\n",
              "      <th>6</th>\n",
              "      <td>pct_pop_ged</td>\n",
              "      <td>0.015573</td>\n",
              "    </tr>\n",
              "    <tr>\n",
              "      <th>7</th>\n",
              "      <td>pct_pop_foreign_born</td>\n",
              "      <td>0.014750</td>\n",
              "    </tr>\n",
              "    <tr>\n",
              "      <th>8</th>\n",
              "      <td>pct_white</td>\n",
              "      <td>0.014620</td>\n",
              "    </tr>\n",
              "    <tr>\n",
              "      <th>9</th>\n",
              "      <td>pct_tablet</td>\n",
              "      <td>0.011621</td>\n",
              "    </tr>\n",
              "    <tr>\n",
              "      <th>10</th>\n",
              "      <td>ave_family_size</td>\n",
              "      <td>0.010959</td>\n",
              "    </tr>\n",
              "    <tr>\n",
              "      <th>11</th>\n",
              "      <td>pct_pop_income_gt_100k</td>\n",
              "      <td>0.010932</td>\n",
              "    </tr>\n",
              "    <tr>\n",
              "      <th>12</th>\n",
              "      <td>pct_pop_disability</td>\n",
              "      <td>0.010845</td>\n",
              "    </tr>\n",
              "    <tr>\n",
              "      <th>13</th>\n",
              "      <td>log_median_income</td>\n",
              "      <td>0.009458</td>\n",
              "    </tr>\n",
              "    <tr>\n",
              "      <th>14</th>\n",
              "      <td>Ookla Median Download Speed (Mbps)</td>\n",
              "      <td>0.007925</td>\n",
              "    </tr>\n",
              "    <tr>\n",
              "      <th>15</th>\n",
              "      <td>log_median_income_over_log_median_house</td>\n",
              "      <td>0.007565</td>\n",
              "    </tr>\n",
              "    <tr>\n",
              "      <th>16</th>\n",
              "      <td>median_house_value</td>\n",
              "      <td>0.007539</td>\n",
              "    </tr>\n",
              "    <tr>\n",
              "      <th>17</th>\n",
              "      <td>log_median_house_value</td>\n",
              "      <td>0.007387</td>\n",
              "    </tr>\n",
              "    <tr>\n",
              "      <th>18</th>\n",
              "      <td>pct_computing_device</td>\n",
              "      <td>0.007334</td>\n",
              "    </tr>\n",
              "    <tr>\n",
              "      <th>19</th>\n",
              "      <td>pct_internet_broadband_any_type</td>\n",
              "      <td>0.005004</td>\n",
              "    </tr>\n",
              "    <tr>\n",
              "      <th>20</th>\n",
              "      <td>pct_internet</td>\n",
              "      <td>0.004776</td>\n",
              "    </tr>\n",
              "    <tr>\n",
              "      <th>21</th>\n",
              "      <td>All_Provider_Count_100</td>\n",
              "      <td>0.002752</td>\n",
              "    </tr>\n",
              "    <tr>\n",
              "      <th>22</th>\n",
              "      <td>All_Provider_Count_25</td>\n",
              "      <td>0.002738</td>\n",
              "    </tr>\n",
              "    <tr>\n",
              "      <th>23</th>\n",
              "      <td>ruca_metro</td>\n",
              "      <td>0.000441</td>\n",
              "    </tr>\n",
              "  </tbody>\n",
              "</table>\n",
              "</div>\n",
              "      <button class=\"colab-df-convert\" onclick=\"convertToInteractive('df-f7d9f663-b67d-478f-98c0-e009f2975319')\"\n",
              "              title=\"Convert this dataframe to an interactive table.\"\n",
              "              style=\"display:none;\">\n",
              "        \n",
              "  <svg xmlns=\"http://www.w3.org/2000/svg\" height=\"24px\"viewBox=\"0 0 24 24\"\n",
              "       width=\"24px\">\n",
              "    <path d=\"M0 0h24v24H0V0z\" fill=\"none\"/>\n",
              "    <path d=\"M18.56 5.44l.94 2.06.94-2.06 2.06-.94-2.06-.94-.94-2.06-.94 2.06-2.06.94zm-11 1L8.5 8.5l.94-2.06 2.06-.94-2.06-.94L8.5 2.5l-.94 2.06-2.06.94zm10 10l.94 2.06.94-2.06 2.06-.94-2.06-.94-.94-2.06-.94 2.06-2.06.94z\"/><path d=\"M17.41 7.96l-1.37-1.37c-.4-.4-.92-.59-1.43-.59-.52 0-1.04.2-1.43.59L10.3 9.45l-7.72 7.72c-.78.78-.78 2.05 0 2.83L4 21.41c.39.39.9.59 1.41.59.51 0 1.02-.2 1.41-.59l7.78-7.78 2.81-2.81c.8-.78.8-2.07 0-2.86zM5.41 20L4 18.59l7.72-7.72 1.47 1.35L5.41 20z\"/>\n",
              "  </svg>\n",
              "      </button>\n",
              "      \n",
              "  <style>\n",
              "    .colab-df-container {\n",
              "      display:flex;\n",
              "      flex-wrap:wrap;\n",
              "      gap: 12px;\n",
              "    }\n",
              "\n",
              "    .colab-df-convert {\n",
              "      background-color: #E8F0FE;\n",
              "      border: none;\n",
              "      border-radius: 50%;\n",
              "      cursor: pointer;\n",
              "      display: none;\n",
              "      fill: #1967D2;\n",
              "      height: 32px;\n",
              "      padding: 0 0 0 0;\n",
              "      width: 32px;\n",
              "    }\n",
              "\n",
              "    .colab-df-convert:hover {\n",
              "      background-color: #E2EBFA;\n",
              "      box-shadow: 0px 1px 2px rgba(60, 64, 67, 0.3), 0px 1px 3px 1px rgba(60, 64, 67, 0.15);\n",
              "      fill: #174EA6;\n",
              "    }\n",
              "\n",
              "    [theme=dark] .colab-df-convert {\n",
              "      background-color: #3B4455;\n",
              "      fill: #D2E3FC;\n",
              "    }\n",
              "\n",
              "    [theme=dark] .colab-df-convert:hover {\n",
              "      background-color: #434B5C;\n",
              "      box-shadow: 0px 1px 3px 1px rgba(0, 0, 0, 0.15);\n",
              "      filter: drop-shadow(0px 1px 2px rgba(0, 0, 0, 0.3));\n",
              "      fill: #FFFFFF;\n",
              "    }\n",
              "  </style>\n",
              "\n",
              "      <script>\n",
              "        const buttonEl =\n",
              "          document.querySelector('#df-f7d9f663-b67d-478f-98c0-e009f2975319 button.colab-df-convert');\n",
              "        buttonEl.style.display =\n",
              "          google.colab.kernel.accessAllowed ? 'block' : 'none';\n",
              "\n",
              "        async function convertToInteractive(key) {\n",
              "          const element = document.querySelector('#df-f7d9f663-b67d-478f-98c0-e009f2975319');\n",
              "          const dataTable =\n",
              "            await google.colab.kernel.invokeFunction('convertToInteractive',\n",
              "                                                     [key], {});\n",
              "          if (!dataTable) return;\n",
              "\n",
              "          const docLinkHtml = 'Like what you see? Visit the ' +\n",
              "            '<a target=\"_blank\" href=https://colab.research.google.com/notebooks/data_table.ipynb>data table notebook</a>'\n",
              "            + ' to learn more about interactive tables.';\n",
              "          element.innerHTML = '';\n",
              "          dataTable['output_type'] = 'display_data';\n",
              "          await google.colab.output.renderOutput(dataTable, element);\n",
              "          const docLink = document.createElement('div');\n",
              "          docLink.innerHTML = docLinkHtml;\n",
              "          element.appendChild(docLink);\n",
              "        }\n",
              "      </script>\n",
              "    </div>\n",
              "  </div>\n",
              "  "
            ]
          },
          "metadata": {},
          "execution_count": 97
        }
      ]
    },
    {
      "cell_type": "code",
      "source": [
        "(pd.Series(rf_rg3.feature_importances_, index=X_test.columns)\n",
        "   .nlargest(30)[::-1]\n",
        "   .plot(kind='barh')\n",
        "   )  "
      ],
      "metadata": {
        "colab": {
          "base_uri": "https://localhost:8080/",
          "height": 283
        },
        "id": "ocJxqr9UYikl",
        "outputId": "949f07dd-c2b7-489c-ede4-0a1382e3d832"
      },
      "execution_count": 120,
      "outputs": [
        {
          "output_type": "execute_result",
          "data": {
            "text/plain": [
              "<matplotlib.axes._subplots.AxesSubplot at 0x7f1e7369b290>"
            ]
          },
          "metadata": {},
          "execution_count": 120
        },
        {
          "output_type": "display_data",
          "data": {
            "text/plain": [
              "<Figure size 432x288 with 1 Axes>"
            ],
            "image/png": "[encoded data removed]"
          },
          "metadata": {
            "needs_background": "light"
          }
        }
      ]
    },
    {
      "cell_type": "markdown",
      "metadata": {
        "id": "YBFMUqvCjErw"
      },
      "source": [
        "#### Hyperparameter Tuning"
      ]
    },
    {
      "cell_type": "code",
      "execution_count": null,
      "metadata": {
        "id": "HWoEe_m7vgB1"
      },
      "outputs": [],
      "source": [
        "from pprint import pprint\n",
        "# Look at parameters used by our current forest\n",
        "print('Parameters currently in use:\\n')\n",
        "pprint(rf_rg3.get_params())"
      ]
    },
    {
      "cell_type": "code",
      "execution_count": null,
      "metadata": {
        "id": "MIpW4zXYi5I8"
      },
      "outputs": [],
      "source": [
        "random_forest_tuning = RandomForestRegressor(random_state = 0)"
      ]
    },
    {
      "cell_type": "code",
      "execution_count": null,
      "metadata": {
        "id": "W0TgIikXjLgm"
      },
      "outputs": [],
      "source": [
        "param_grid = { \n",
        "    'n_estimators': [200, 500],\n",
        "    'max_features': ['auto'],\n",
        "    'max_depth' : [2,5,10],\n",
        "    'criterion' :['squared_error']\n",
        "}"
      ]
    },
    {
      "cell_type": "code",
      "execution_count": null,
      "metadata": {
        "id": "DANa1aoFjaC8"
      },
      "outputs": [],
      "source": [
        "GSCV = GridSearchCV(estimator=random_forest_tuning, param_grid=param_grid, cv=5)\n",
        "GSCV.fit(X_train, y_train)"
      ]
    },
    {
      "cell_type": "code",
      "execution_count": null,
      "metadata": {
        "id": "m_fRy6hUjkvL"
      },
      "outputs": [],
      "source": [
        "GSCV.best_params_"
      ]
    },
    {
      "cell_type": "code",
      "execution_count": null,
      "metadata": {
        "id": "CDbcnBP5jnWw"
      },
      "outputs": [],
      "source": [
        "random_forest_tuned = RandomForestRegressor(criterion= 'squared_error',max_depth= 10,max_features= 'auto',n_estimators =500,random_state = 0)\n",
        "random_forest_tuned.fit(X_train, y_train)\n",
        "y_pred = random_forest_tuned.predict(X_test)"
      ]
    },
    {
      "cell_type": "code",
      "execution_count": null,
      "metadata": {
        "id": "OxXGsRJrpjC2"
      },
      "outputs": [],
      "source": [
        "# model evaluation for testing set\n",
        "regression_results(y_test, y_pred)"
      ]
    },
    {
      "cell_type": "markdown",
      "metadata": {
        "id": "FHp1n5BwxKA7"
      },
      "source": [
        "## XGBoost"
      ]
    },
    {
      "cell_type": "markdown",
      "source": [
        "### XGB 1: Include all variables"
      ],
      "metadata": {
        "id": "us6QiTtR7o6u"
      }
    },
    {
      "cell_type": "code",
      "execution_count": 167,
      "metadata": {
        "id": "McTI6gPy5EYd"
      },
      "outputs": [],
      "source": [
        "xg_reg = xgb.XGBRegressor(objective ='reg:squarederror', colsample_bytree = 0.3, learning_rate = 0.1,\n",
        "                max_depth = 5, alpha = 10, n_estimators = 2500)"
      ]
    },
    {
      "cell_type": "code",
      "source": [
        "## Here we will tune the below hyperparameters that are usually having a big impact on performance\n",
        "params = {\n",
        "    # Parameters that we are going to tune.\n",
        "    'max_depth':3,\n",
        "    'min_child_weight': 1,\n",
        "    'eta':.3,\n",
        "    'subsample': 1,\n",
        "    'colsample_bytree': 0.3,\n",
        "    'learning_rate' : 0.1,\n",
        "    'alpha': 10,\n",
        "    'n_estimator': 2500,\n",
        "    # Other parameters\n",
        "    'objective':'reg:squarederror',\n",
        "}"
      ],
      "metadata": {
        "id": "2CUp6tsXxROG"
      },
      "execution_count": 47,
      "outputs": []
    },
    {
      "cell_type": "code",
      "execution_count": 178,
      "metadata": {
        "id": "9wT5TYRs5Xxn"
      },
      "outputs": [],
      "source": [
        "xg_reg.fit(X_train_all,y_train_all)\n",
        "y_pred = xg_reg.predict(X_test_all)"
      ]
    },
    {
      "cell_type": "code",
      "execution_count": 179,
      "metadata": {
        "colab": {
          "base_uri": "https://localhost:8080/"
        },
        "id": "UROIgHxv5be_",
        "outputId": "461ccf4c-1c81-4562-8d8c-bef0bca22677"
      },
      "outputs": [
        {
          "output_type": "stream",
          "name": "stdout",
          "text": [
            "The model performance for testing set\n",
            "--------------------------------------\n",
            "MAE is 3.963994999452852\n",
            "MSE is 25.51455848133247\n",
            "RMSE is 5.0511937679456\n",
            "R2 score is 0.8965346035040465\n",
            "Adj R2 score is 0.894695428270071\n"
          ]
        }
      ],
      "source": [
        "# model evaluation for testing set\n",
        "regression_results(y_test_all, y_pred)"
      ]
    },
    {
      "cell_type": "markdown",
      "source": [
        "#### Feature Importance"
      ],
      "metadata": {
        "id": "dZA8mRDr7vjf"
      }
    },
    {
      "cell_type": "code",
      "source": [
        "(pd.Series(xg_reg.feature_importances_, index=X_test_all.columns)\n",
        "   .nlargest(20)[::-1]\n",
        "   .plot(kind='barh',title=\"XGBOOST Feature Importance - % high school graduation\", xlabel=\"feature\")\n",
        "   )  \n"
      ],
      "metadata": {
        "colab": {
          "base_uri": "https://localhost:8080/",
          "height": 380
        },
        "id": "tVHwEhp1JTPq",
        "outputId": "7744fa30-7bca-45c8-a2fd-4228176963cc"
      },
      "execution_count": 180,
      "outputs": [
        {
          "output_type": "execute_result",
          "data": {
            "text/plain": [
              "<matplotlib.axes._subplots.AxesSubplot at 0x7f1e71f0e4d0>"
            ]
          },
          "metadata": {},
          "execution_count": 180
        },
        {
          "output_type": "display_data",
          "data": {
            "text/plain": [
              "<Figure size 576x396 with 1 Axes>"
            ],
            "image/png": "[encoded data removed]"
          },
          "metadata": {}
        }
      ]
    },
    {
      "cell_type": "markdown",
      "source": [
        "### XGB 2: Only the top 15 features + broadband var set 1"
      ],
      "metadata": {
        "id": "i9Kj65Yn1ohH"
      }
    },
    {
      "cell_type": "code",
      "source": [
        "top_vars = (pd.Series(xg_reg.feature_importances_, index=X_test_all.columns).nlargest(20)[:-1])\n",
        "print(top_vars)"
      ],
      "metadata": {
        "colab": {
          "base_uri": "https://localhost:8080/"
        },
        "id": "RdE6PChi1yf4",
        "outputId": "be2f5898-93b5-4565-d4cc-fbf2ace6ab7d"
      },
      "execution_count": 181,
      "outputs": [
        {
          "output_type": "stream",
          "name": "stdout",
          "text": [
            "pct_desktop_or_laptop                  0.194114\n",
            "pct_internet_broadband_any_type        0.088726\n",
            "pct_pop_gt_200k                        0.084749\n",
            "pct_pop_income_gt_100k                 0.074614\n",
            "pct_internet                           0.038819\n",
            "log_median_income                      0.037811\n",
            "ave_household_size                     0.035961\n",
            "Secondary RUCA Code - 1.0              0.031867\n",
            "pct_computing_device_with_broadband    0.022845\n",
            "pct_hisp_latino                        0.022080\n",
            "pct_only_smartphone                    0.019007\n",
            "pct_computing_device                   0.017474\n",
            "pct_tablet                             0.017080\n",
            "pct_white                              0.013387\n",
            "pct_pop_associates                     0.013262\n",
            "pct_pop_ssi_households                 0.012639\n",
            "pct_pop_ged                            0.010479\n",
            "ave_family_size                        0.010439\n",
            "pct_pop_foreign_born                   0.010405\n",
            "dtype: float32\n"
          ]
        }
      ]
    },
    {
      "cell_type": "code",
      "source": [
        "top_vars_list_xg = top_vars.index.tolist()\n",
        "print(top_vars_list_xg)"
      ],
      "metadata": {
        "colab": {
          "base_uri": "https://localhost:8080/"
        },
        "id": "KqDJvgWM2cSF",
        "outputId": "097c427a-61d1-496e-a868-c0fd804244c3"
      },
      "execution_count": 182,
      "outputs": [
        {
          "output_type": "stream",
          "name": "stdout",
          "text": [
            "['pct_desktop_or_laptop', 'pct_internet_broadband_any_type', 'pct_pop_gt_200k', 'pct_pop_income_gt_100k', 'pct_internet', 'log_median_income', 'ave_household_size', 'Secondary RUCA Code - 1.0', 'pct_computing_device_with_broadband', 'pct_hisp_latino', 'pct_only_smartphone', 'pct_computing_device', 'pct_tablet', 'pct_white', 'pct_pop_associates', 'pct_pop_ssi_households', 'pct_pop_ged', 'ave_family_size', 'pct_pop_foreign_born']\n"
          ]
        }
      ]
    },
    {
      "cell_type": "code",
      "source": [
        "#limit the dataset to only the relevant variables\n",
        "\n",
        "ind_var = [e for e in top_vars_list_xg if e not in to_drop]\n",
        "for word in br_important_vars:\n",
        "    if word not in ind_var:\n",
        "        ind_var.append(word)\n",
        "\n",
        "for word in important_cov:\n",
        "    if word not in ind_var:\n",
        "        ind_var.append(word)\n",
        "\n",
        "target = ['pct_pop_hs+']\n",
        "\n",
        "X_train = X_train_all[ind_var]\n",
        "X_test = X_test_all[ind_var]\n",
        "y_train = y_train_all[target]\n",
        "y_test = y_test_all[target]"
      ],
      "metadata": {
        "id": "iAGuJK-b2iX2"
      },
      "execution_count": 183,
      "outputs": []
    },
    {
      "cell_type": "code",
      "source": [
        "ind_var"
      ],
      "metadata": {
        "colab": {
          "base_uri": "https://localhost:8080/"
        },
        "id": "19RqS1n52rO9",
        "outputId": "66a81601-7058-46b5-e73e-5dc07ad3d554"
      },
      "execution_count": 184,
      "outputs": [
        {
          "output_type": "execute_result",
          "data": {
            "text/plain": [
              "['pct_desktop_or_laptop',\n",
              " 'pct_internet_broadband_any_type',\n",
              " 'pct_pop_gt_200k',\n",
              " 'pct_pop_income_gt_100k',\n",
              " 'pct_internet',\n",
              " 'log_median_income',\n",
              " 'ave_household_size',\n",
              " 'Secondary RUCA Code - 1.0',\n",
              " 'pct_computing_device_with_broadband',\n",
              " 'pct_hisp_latino',\n",
              " 'pct_only_smartphone',\n",
              " 'pct_computing_device',\n",
              " 'pct_tablet',\n",
              " 'pct_white',\n",
              " 'pct_pop_associates',\n",
              " 'pct_pop_ssi_households',\n",
              " 'pct_pop_ged',\n",
              " 'ave_family_size',\n",
              " 'pct_pop_foreign_born',\n",
              " 'pct_only_cellular',\n",
              " 'pct_computing_device_no_internet',\n",
              " 'pct_internet_broadband_satellite',\n",
              " 'ruca_metro',\n",
              " 'ruca_micro',\n",
              " 'ruca_small_town',\n",
              " 'ruca_rural',\n",
              " 'log_median_income_over_log_median_house',\n",
              " 'pct_pop_disability']"
            ]
          },
          "metadata": {},
          "execution_count": 184
        }
      ]
    },
    {
      "cell_type": "code",
      "source": [
        "xg_reg.fit(X_train,y_train)\n",
        "y_pred = xg_reg.predict(X_test)"
      ],
      "metadata": {
        "id": "bkQheQf23cA5"
      },
      "execution_count": 185,
      "outputs": []
    },
    {
      "cell_type": "code",
      "source": [
        "regression_results(y_test, y_pred)"
      ],
      "metadata": {
        "colab": {
          "base_uri": "https://localhost:8080/"
        },
        "id": "I1Sxsu3Z3jDq",
        "outputId": "170bb1f7-9423-41f1-9fd7-91af2ddba7f9"
      },
      "execution_count": 186,
      "outputs": [
        {
          "output_type": "stream",
          "name": "stdout",
          "text": [
            "The model performance for testing set\n",
            "--------------------------------------\n",
            "MAE is 4.709789170517244\n",
            "MSE is 36.20593923699337\n",
            "RMSE is 6.017137129648399\n",
            "R2 score is 0.8531794363047789\n",
            "Adj R2 score is 0.8505695903685375\n"
          ]
        }
      ]
    },
    {
      "cell_type": "code",
      "source": [
        "(pd.Series(xg_reg.feature_importances_, index=X_test.columns)\n",
        "   .nlargest(50)[::-1]\n",
        "   .plot(kind='barh',title=\"XGBOOST Feature Importance - % high school graduation\", xlabel=\"feature\")\n",
        "   ) "
      ],
      "metadata": {
        "colab": {
          "base_uri": "https://localhost:8080/",
          "height": 380
        },
        "id": "JDJ9RnOw6Fdx",
        "outputId": "594a48e2-2b32-4a02-90f0-a29bc9089e89"
      },
      "execution_count": 187,
      "outputs": [
        {
          "output_type": "execute_result",
          "data": {
            "text/plain": [
              "<matplotlib.axes._subplots.AxesSubplot at 0x7f1e718ffbd0>"
            ]
          },
          "metadata": {},
          "execution_count": 187
        },
        {
          "output_type": "display_data",
          "data": {
            "text/plain": [
              "<Figure size 576x396 with 1 Axes>"
            ],
            "image/png": "[encoded data removed]"
          },
          "metadata": {}
        }
      ]
    },
    {
      "cell_type": "code",
      "source": [
        "top_vars = pd.Series(xg_reg.feature_importances_, index=X_test.columns).nlargest(50)[:-1]\n",
        "pd.DataFrame({'Variables':top_vars.index, 'Importance':top_vars.values})\n"
      ],
      "metadata": {
        "colab": {
          "base_uri": "https://localhost:8080/",
          "height": 896
        },
        "id": "893K8B_D5nVj",
        "outputId": "8a525ab8-9c71-49c1-aa00-e6e0d13f4505"
      },
      "execution_count": 188,
      "outputs": [
        {
          "output_type": "execute_result",
          "data": {
            "text/plain": [
              "                                  Variables  Importance\n",
              "0                     pct_desktop_or_laptop    0.271306\n",
              "1                         log_median_income    0.085417\n",
              "2                 Secondary RUCA Code - 1.0    0.077505\n",
              "3                        ave_household_size    0.074046\n",
              "4                           ave_family_size    0.064317\n",
              "5                           pct_pop_gt_200k    0.056078\n",
              "6                    pct_pop_income_gt_100k    0.050447\n",
              "7       pct_computing_device_with_broadband    0.045081\n",
              "8                           pct_hisp_latino    0.036372\n",
              "9                                pct_tablet    0.031180\n",
              "10                       pct_pop_associates    0.028058\n",
              "11                              pct_pop_ged    0.022131\n",
              "12                                pct_white    0.019356\n",
              "13                     pct_pop_foreign_born    0.018109\n",
              "14                     pct_computing_device    0.015205\n",
              "15                      pct_only_smartphone    0.015156\n",
              "16                             pct_internet    0.014254\n",
              "17  log_median_income_over_log_median_house    0.012630\n",
              "18                               ruca_metro    0.009395\n",
              "19                       pct_pop_disability    0.009130\n",
              "20                   pct_pop_ssi_households    0.009073\n",
              "21                               ruca_micro    0.006405\n",
              "22                               ruca_rural    0.005420\n",
              "23         pct_internet_broadband_satellite    0.005382\n",
              "24         pct_computing_device_no_internet    0.004771\n",
              "25          pct_internet_broadband_any_type    0.004692\n",
              "26                        pct_only_cellular    0.004618"
            ],
            "text/html": [
              "\n",
              "  <div id=\"df-7e7caa89-d417-4a72-bfed-0e84b3771216\">\n",
              "    <div class=\"colab-df-container\">\n",
              "      <div>\n",
              "<style scoped>\n",
              "    .dataframe tbody tr th:only-of-type {\n",
              "        vertical-align: middle;\n",
              "    }\n",
              "\n",
              "    .dataframe tbody tr th {\n",
              "        vertical-align: top;\n",
              "    }\n",
              "\n",
              "    .dataframe thead th {\n",
              "        text-align: right;\n",
              "    }\n",
              "</style>\n",
              "<table border=\"1\" class=\"dataframe\">\n",
              "  <thead>\n",
              "    <tr style=\"text-align: right;\">\n",
              "      <th></th>\n",
              "      <th>Variables</th>\n",
              "      <th>Importance</th>\n",
              "    </tr>\n",
              "  </thead>\n",
              "  <tbody>\n",
              "    <tr>\n",
              "      <th>0</th>\n",
              "      <td>pct_desktop_or_laptop</td>\n",
              "      <td>0.271306</td>\n",
              "    </tr>\n",
              "    <tr>\n",
              "      <th>1</th>\n",
              "      <td>log_median_income</td>\n",
              "      <td>0.085417</td>\n",
              "    </tr>\n",
              "    <tr>\n",
              "      <th>2</th>\n",
              "      <td>Secondary RUCA Code - 1.0</td>\n",
              "      <td>0.077505</td>\n",
              "    </tr>\n",
              "    <tr>\n",
              "      <th>3</th>\n",
              "      <td>ave_household_size</td>\n",
              "      <td>0.074046</td>\n",
              "    </tr>\n",
              "    <tr>\n",
              "      <th>4</th>\n",
              "      <td>ave_family_size</td>\n",
              "      <td>0.064317</td>\n",
              "    </tr>\n",
              "    <tr>\n",
              "      <th>5</th>\n",
              "      <td>pct_pop_gt_200k</td>\n",
              "      <td>0.056078</td>\n",
              "    </tr>\n",
              "    <tr>\n",
              "      <th>6</th>\n",
              "      <td>pct_pop_income_gt_100k</td>\n",
              "      <td>0.050447</td>\n",
              "    </tr>\n",
              "    <tr>\n",
              "      <th>7</th>\n",
              "      <td>pct_computing_device_with_broadband</td>\n",
              "      <td>0.045081</td>\n",
              "    </tr>\n",
              "    <tr>\n",
              "      <th>8</th>\n",
              "      <td>pct_hisp_latino</td>\n",
              "      <td>0.036372</td>\n",
              "    </tr>\n",
              "    <tr>\n",
              "      <th>9</th>\n",
              "      <td>pct_tablet</td>\n",
              "      <td>0.031180</td>\n",
              "    </tr>\n",
              "    <tr>\n",
              "      <th>10</th>\n",
              "      <td>pct_pop_associates</td>\n",
              "      <td>0.028058</td>\n",
              "    </tr>\n",
              "    <tr>\n",
              "      <th>11</th>\n",
              "      <td>pct_pop_ged</td>\n",
              "      <td>0.022131</td>\n",
              "    </tr>\n",
              "    <tr>\n",
              "      <th>12</th>\n",
              "      <td>pct_white</td>\n",
              "      <td>0.019356</td>\n",
              "    </tr>\n",
              "    <tr>\n",
              "      <th>13</th>\n",
              "      <td>pct_pop_foreign_born</td>\n",
              "      <td>0.018109</td>\n",
              "    </tr>\n",
              "    <tr>\n",
              "      <th>14</th>\n",
              "      <td>pct_computing_device</td>\n",
              "      <td>0.015205</td>\n",
              "    </tr>\n",
              "    <tr>\n",
              "      <th>15</th>\n",
              "      <td>pct_only_smartphone</td>\n",
              "      <td>0.015156</td>\n",
              "    </tr>\n",
              "    <tr>\n",
              "      <th>16</th>\n",
              "      <td>pct_internet</td>\n",
              "      <td>0.014254</td>\n",
              "    </tr>\n",
              "    <tr>\n",
              "      <th>17</th>\n",
              "      <td>log_median_income_over_log_median_house</td>\n",
              "      <td>0.012630</td>\n",
              "    </tr>\n",
              "    <tr>\n",
              "      <th>18</th>\n",
              "      <td>ruca_metro</td>\n",
              "      <td>0.009395</td>\n",
              "    </tr>\n",
              "    <tr>\n",
              "      <th>19</th>\n",
              "      <td>pct_pop_disability</td>\n",
              "      <td>0.009130</td>\n",
              "    </tr>\n",
              "    <tr>\n",
              "      <th>20</th>\n",
              "      <td>pct_pop_ssi_households</td>\n",
              "      <td>0.009073</td>\n",
              "    </tr>\n",
              "    <tr>\n",
              "      <th>21</th>\n",
              "      <td>ruca_micro</td>\n",
              "      <td>0.006405</td>\n",
              "    </tr>\n",
              "    <tr>\n",
              "      <th>22</th>\n",
              "      <td>ruca_rural</td>\n",
              "      <td>0.005420</td>\n",
              "    </tr>\n",
              "    <tr>\n",
              "      <th>23</th>\n",
              "      <td>pct_internet_broadband_satellite</td>\n",
              "      <td>0.005382</td>\n",
              "    </tr>\n",
              "    <tr>\n",
              "      <th>24</th>\n",
              "      <td>pct_computing_device_no_internet</td>\n",
              "      <td>0.004771</td>\n",
              "    </tr>\n",
              "    <tr>\n",
              "      <th>25</th>\n",
              "      <td>pct_internet_broadband_any_type</td>\n",
              "      <td>0.004692</td>\n",
              "    </tr>\n",
              "    <tr>\n",
              "      <th>26</th>\n",
              "      <td>pct_only_cellular</td>\n",
              "      <td>0.004618</td>\n",
              "    </tr>\n",
              "  </tbody>\n",
              "</table>\n",
              "</div>\n",
              "      <button class=\"colab-df-convert\" onclick=\"convertToInteractive('df-7e7caa89-d417-4a72-bfed-0e84b3771216')\"\n",
              "              title=\"Convert this dataframe to an interactive table.\"\n",
              "              style=\"display:none;\">\n",
              "        \n",
              "  <svg xmlns=\"http://www.w3.org/2000/svg\" height=\"24px\"viewBox=\"0 0 24 24\"\n",
              "       width=\"24px\">\n",
              "    <path d=\"M0 0h24v24H0V0z\" fill=\"none\"/>\n",
              "    <path d=\"M18.56 5.44l.94 2.06.94-2.06 2.06-.94-2.06-.94-.94-2.06-.94 2.06-2.06.94zm-11 1L8.5 8.5l.94-2.06 2.06-.94-2.06-.94L8.5 2.5l-.94 2.06-2.06.94zm10 10l.94 2.06.94-2.06 2.06-.94-2.06-.94-.94-2.06-.94 2.06-2.06.94z\"/><path d=\"M17.41 7.96l-1.37-1.37c-.4-.4-.92-.59-1.43-.59-.52 0-1.04.2-1.43.59L10.3 9.45l-7.72 7.72c-.78.78-.78 2.05 0 2.83L4 21.41c.39.39.9.59 1.41.59.51 0 1.02-.2 1.41-.59l7.78-7.78 2.81-2.81c.8-.78.8-2.07 0-2.86zM5.41 20L4 18.59l7.72-7.72 1.47 1.35L5.41 20z\"/>\n",
              "  </svg>\n",
              "      </button>\n",
              "      \n",
              "  <style>\n",
              "    .colab-df-container {\n",
              "      display:flex;\n",
              "      flex-wrap:wrap;\n",
              "      gap: 12px;\n",
              "    }\n",
              "\n",
              "    .colab-df-convert {\n",
              "      background-color: #E8F0FE;\n",
              "      border: none;\n",
              "      border-radius: 50%;\n",
              "      cursor: pointer;\n",
              "      display: none;\n",
              "      fill: #1967D2;\n",
              "      height: 32px;\n",
              "      padding: 0 0 0 0;\n",
              "      width: 32px;\n",
              "    }\n",
              "\n",
              "    .colab-df-convert:hover {\n",
              "      background-color: #E2EBFA;\n",
              "      box-shadow: 0px 1px 2px rgba(60, 64, 67, 0.3), 0px 1px 3px 1px rgba(60, 64, 67, 0.15);\n",
              "      fill: #174EA6;\n",
              "    }\n",
              "\n",
              "    [theme=dark] .colab-df-convert {\n",
              "      background-color: #3B4455;\n",
              "      fill: #D2E3FC;\n",
              "    }\n",
              "\n",
              "    [theme=dark] .colab-df-convert:hover {\n",
              "      background-color: #434B5C;\n",
              "      box-shadow: 0px 1px 3px 1px rgba(0, 0, 0, 0.15);\n",
              "      filter: drop-shadow(0px 1px 2px rgba(0, 0, 0, 0.3));\n",
              "      fill: #FFFFFF;\n",
              "    }\n",
              "  </style>\n",
              "\n",
              "      <script>\n",
              "        const buttonEl =\n",
              "          document.querySelector('#df-7e7caa89-d417-4a72-bfed-0e84b3771216 button.colab-df-convert');\n",
              "        buttonEl.style.display =\n",
              "          google.colab.kernel.accessAllowed ? 'block' : 'none';\n",
              "\n",
              "        async function convertToInteractive(key) {\n",
              "          const element = document.querySelector('#df-7e7caa89-d417-4a72-bfed-0e84b3771216');\n",
              "          const dataTable =\n",
              "            await google.colab.kernel.invokeFunction('convertToInteractive',\n",
              "                                                     [key], {});\n",
              "          if (!dataTable) return;\n",
              "\n",
              "          const docLinkHtml = 'Like what you see? Visit the ' +\n",
              "            '<a target=\"_blank\" href=https://colab.research.google.com/notebooks/data_table.ipynb>data table notebook</a>'\n",
              "            + ' to learn more about interactive tables.';\n",
              "          element.innerHTML = '';\n",
              "          dataTable['output_type'] = 'display_data';\n",
              "          await google.colab.output.renderOutput(dataTable, element);\n",
              "          const docLink = document.createElement('div');\n",
              "          docLink.innerHTML = docLinkHtml;\n",
              "          element.appendChild(docLink);\n",
              "        }\n",
              "      </script>\n",
              "    </div>\n",
              "  </div>\n",
              "  "
            ]
          },
          "metadata": {},
          "execution_count": 188
        }
      ]
    },
    {
      "cell_type": "markdown",
      "source": [
        "### XGB3: Only the top 10 features + broadband var set 2"
      ],
      "metadata": {
        "id": "lVgbdsCX1-xB"
      }
    },
    {
      "cell_type": "code",
      "source": [
        "#limit the dataset to only the relevant variables\n",
        "\n",
        "ind_var = [e for e in top_vars_list_xg if e not in to_drop]\n",
        "for word in br_interest_vars:\n",
        "    if word not in ind_var:\n",
        "        ind_var.append(word)\n",
        "\n",
        "for word in important_cov:\n",
        "    if word not in ind_var:\n",
        "        ind_var.append(word)\n",
        "        \n",
        "target = ['pct_pop_hs+']\n",
        "\n",
        "X_train = X_train_all[ind_var]\n",
        "X_test = X_test_all[ind_var]\n",
        "y_train = y_train_all[target]\n",
        "y_test = y_test_all[target]"
      ],
      "metadata": {
        "id": "pu-xyVcp4Gwg"
      },
      "execution_count": 189,
      "outputs": []
    },
    {
      "cell_type": "code",
      "source": [
        "ind_var"
      ],
      "metadata": {
        "colab": {
          "base_uri": "https://localhost:8080/"
        },
        "id": "syowPHA24tXF",
        "outputId": "db656e00-d811-4159-ed24-1bdfaae21ebb"
      },
      "execution_count": 190,
      "outputs": [
        {
          "output_type": "execute_result",
          "data": {
            "text/plain": [
              "['pct_desktop_or_laptop',\n",
              " 'pct_internet_broadband_any_type',\n",
              " 'pct_pop_gt_200k',\n",
              " 'pct_pop_income_gt_100k',\n",
              " 'pct_internet',\n",
              " 'log_median_income',\n",
              " 'ave_household_size',\n",
              " 'Secondary RUCA Code - 1.0',\n",
              " 'pct_computing_device_with_broadband',\n",
              " 'pct_hisp_latino',\n",
              " 'pct_only_smartphone',\n",
              " 'pct_computing_device',\n",
              " 'pct_tablet',\n",
              " 'pct_white',\n",
              " 'pct_pop_associates',\n",
              " 'pct_pop_ssi_households',\n",
              " 'pct_pop_ged',\n",
              " 'ave_family_size',\n",
              " 'pct_pop_foreign_born',\n",
              " 'All_Provider_Count_25',\n",
              " 'All_Provider_Count_100',\n",
              " 'Ookla Median Download Speed (Mbps)',\n",
              " 'ruca_metro',\n",
              " 'ruca_micro',\n",
              " 'ruca_small_town',\n",
              " 'ruca_rural',\n",
              " 'log_median_income_over_log_median_house',\n",
              " 'pct_pop_disability']"
            ]
          },
          "metadata": {},
          "execution_count": 190
        }
      ]
    },
    {
      "cell_type": "code",
      "source": [
        "xg_reg.fit(X_train,y_train)\n",
        "y_pred = xg_reg.predict(X_test)"
      ],
      "metadata": {
        "id": "lnNQlT-r4vKh"
      },
      "execution_count": 191,
      "outputs": []
    },
    {
      "cell_type": "code",
      "source": [
        "regression_results(y_test, y_pred)"
      ],
      "metadata": {
        "id": "YTkUdSVL4wgk",
        "colab": {
          "base_uri": "https://localhost:8080/"
        },
        "outputId": "6d7ea402-2b92-4124-8107-762225400668"
      },
      "execution_count": 192,
      "outputs": [
        {
          "output_type": "stream",
          "name": "stdout",
          "text": [
            "The model performance for testing set\n",
            "--------------------------------------\n",
            "MAE is 4.64906981759142\n",
            "MSE is 35.102884012404395\n",
            "RMSE is 5.924768688514717\n",
            "R2 score is 0.857652492197654\n",
            "Adj R2 score is 0.8551221581938748\n"
          ]
        }
      ]
    },
    {
      "cell_type": "code",
      "source": [
        "(pd.Series(xg_reg.feature_importances_, index=X_test.columns)\n",
        "   .nlargest(90)[::-1]\n",
        "   .plot(kind='barh',title=\"XGBOOST Feature Importance - % high school graduation\", xlabel=\"feature\")\n",
        "   ) "
      ],
      "metadata": {
        "id": "RM_0dm-i6Kw0",
        "colab": {
          "base_uri": "https://localhost:8080/",
          "height": 380
        },
        "outputId": "3579c51e-8120-4bc2-fefd-ae63954814a8"
      },
      "execution_count": 193,
      "outputs": [
        {
          "output_type": "execute_result",
          "data": {
            "text/plain": [
              "<matplotlib.axes._subplots.AxesSubplot at 0x7f1e70739250>"
            ]
          },
          "metadata": {},
          "execution_count": 193
        },
        {
          "output_type": "display_data",
          "data": {
            "text/plain": [
              "<Figure size 576x396 with 1 Axes>"
            ],
            "image/png": "[encoded data removed]"
          },
          "metadata": {}
        }
      ]
    },
    {
      "cell_type": "code",
      "source": [
        "top_vars = pd.Series(xg_reg.feature_importances_, index=X_test.columns).nlargest(50)[:-1]\n",
        "pd.DataFrame({'Variables':top_vars.index, 'Importance':top_vars.values})"
      ],
      "metadata": {
        "id": "nxOPeaHm6O9-",
        "colab": {
          "base_uri": "https://localhost:8080/",
          "height": 896
        },
        "outputId": "c39f0b11-87f3-42d5-f7c8-e3c71d16606e"
      },
      "execution_count": 195,
      "outputs": [
        {
          "output_type": "execute_result",
          "data": {
            "text/plain": [
              "                                  Variables  Importance\n",
              "0                     pct_desktop_or_laptop    0.278462\n",
              "1                         log_median_income    0.078832\n",
              "2                        ave_household_size    0.076203\n",
              "3                 Secondary RUCA Code - 1.0    0.074543\n",
              "4                           ave_family_size    0.061827\n",
              "5                           pct_pop_gt_200k    0.054456\n",
              "6                    pct_pop_income_gt_100k    0.049721\n",
              "7       pct_computing_device_with_broadband    0.044609\n",
              "8                           pct_hisp_latino    0.034456\n",
              "9                                pct_tablet    0.030722\n",
              "10                       pct_pop_associates    0.028619\n",
              "11                              pct_pop_ged    0.021460\n",
              "12                                pct_white    0.019547\n",
              "13                     pct_pop_foreign_born    0.017203\n",
              "14                      pct_only_smartphone    0.014541\n",
              "15                     pct_computing_device    0.014182\n",
              "16                             pct_internet    0.014070\n",
              "17  log_median_income_over_log_median_house    0.013182\n",
              "18                   All_Provider_Count_100    0.011150\n",
              "19                               ruca_metro    0.009934\n",
              "20                   pct_pop_ssi_households    0.009224\n",
              "21                       pct_pop_disability    0.008775\n",
              "22                    All_Provider_Count_25    0.008665\n",
              "23       Ookla Median Download Speed (Mbps)    0.006545\n",
              "24                               ruca_micro    0.006435\n",
              "25          pct_internet_broadband_any_type    0.004948\n",
              "26                               ruca_rural    0.004400"
            ],
            "text/html": [
              "\n",
              "  <div id=\"df-0bc07fd3-a060-478d-9326-6250e7715788\">\n",
              "    <div class=\"colab-df-container\">\n",
              "      <div>\n",
              "<style scoped>\n",
              "    .dataframe tbody tr th:only-of-type {\n",
              "        vertical-align: middle;\n",
              "    }\n",
              "\n",
              "    .dataframe tbody tr th {\n",
              "        vertical-align: top;\n",
              "    }\n",
              "\n",
              "    .dataframe thead th {\n",
              "        text-align: right;\n",
              "    }\n",
              "</style>\n",
              "<table border=\"1\" class=\"dataframe\">\n",
              "  <thead>\n",
              "    <tr style=\"text-align: right;\">\n",
              "      <th></th>\n",
              "      <th>Variables</th>\n",
              "      <th>Importance</th>\n",
              "    </tr>\n",
              "  </thead>\n",
              "  <tbody>\n",
              "    <tr>\n",
              "      <th>0</th>\n",
              "      <td>pct_desktop_or_laptop</td>\n",
              "      <td>0.278462</td>\n",
              "    </tr>\n",
              "    <tr>\n",
              "      <th>1</th>\n",
              "      <td>log_median_income</td>\n",
              "      <td>0.078832</td>\n",
              "    </tr>\n",
              "    <tr>\n",
              "      <th>2</th>\n",
              "      <td>ave_household_size</td>\n",
              "      <td>0.076203</td>\n",
              "    </tr>\n",
              "    <tr>\n",
              "      <th>3</th>\n",
              "      <td>Secondary RUCA Code - 1.0</td>\n",
              "      <td>0.074543</td>\n",
              "    </tr>\n",
              "    <tr>\n",
              "      <th>4</th>\n",
              "      <td>ave_family_size</td>\n",
              "      <td>0.061827</td>\n",
              "    </tr>\n",
              "    <tr>\n",
              "      <th>5</th>\n",
              "      <td>pct_pop_gt_200k</td>\n",
              "      <td>0.054456</td>\n",
              "    </tr>\n",
              "    <tr>\n",
              "      <th>6</th>\n",
              "      <td>pct_pop_income_gt_100k</td>\n",
              "      <td>0.049721</td>\n",
              "    </tr>\n",
              "    <tr>\n",
              "      <th>7</th>\n",
              "      <td>pct_computing_device_with_broadband</td>\n",
              "      <td>0.044609</td>\n",
              "    </tr>\n",
              "    <tr>\n",
              "      <th>8</th>\n",
              "      <td>pct_hisp_latino</td>\n",
              "      <td>0.034456</td>\n",
              "    </tr>\n",
              "    <tr>\n",
              "      <th>9</th>\n",
              "      <td>pct_tablet</td>\n",
              "      <td>0.030722</td>\n",
              "    </tr>\n",
              "    <tr>\n",
              "      <th>10</th>\n",
              "      <td>pct_pop_associates</td>\n",
              "      <td>0.028619</td>\n",
              "    </tr>\n",
              "    <tr>\n",
              "      <th>11</th>\n",
              "      <td>pct_pop_ged</td>\n",
              "      <td>0.021460</td>\n",
              "    </tr>\n",
              "    <tr>\n",
              "      <th>12</th>\n",
              "      <td>pct_white</td>\n",
              "      <td>0.019547</td>\n",
              "    </tr>\n",
              "    <tr>\n",
              "      <th>13</th>\n",
              "      <td>pct_pop_foreign_born</td>\n",
              "      <td>0.017203</td>\n",
              "    </tr>\n",
              "    <tr>\n",
              "      <th>14</th>\n",
              "      <td>pct_only_smartphone</td>\n",
              "      <td>0.014541</td>\n",
              "    </tr>\n",
              "    <tr>\n",
              "      <th>15</th>\n",
              "      <td>pct_computing_device</td>\n",
              "      <td>0.014182</td>\n",
              "    </tr>\n",
              "    <tr>\n",
              "      <th>16</th>\n",
              "      <td>pct_internet</td>\n",
              "      <td>0.014070</td>\n",
              "    </tr>\n",
              "    <tr>\n",
              "      <th>17</th>\n",
              "      <td>log_median_income_over_log_median_house</td>\n",
              "      <td>0.013182</td>\n",
              "    </tr>\n",
              "    <tr>\n",
              "      <th>18</th>\n",
              "      <td>All_Provider_Count_100</td>\n",
              "      <td>0.011150</td>\n",
              "    </tr>\n",
              "    <tr>\n",
              "      <th>19</th>\n",
              "      <td>ruca_metro</td>\n",
              "      <td>0.009934</td>\n",
              "    </tr>\n",
              "    <tr>\n",
              "      <th>20</th>\n",
              "      <td>pct_pop_ssi_households</td>\n",
              "      <td>0.009224</td>\n",
              "    </tr>\n",
              "    <tr>\n",
              "      <th>21</th>\n",
              "      <td>pct_pop_disability</td>\n",
              "      <td>0.008775</td>\n",
              "    </tr>\n",
              "    <tr>\n",
              "      <th>22</th>\n",
              "      <td>All_Provider_Count_25</td>\n",
              "      <td>0.008665</td>\n",
              "    </tr>\n",
              "    <tr>\n",
              "      <th>23</th>\n",
              "      <td>Ookla Median Download Speed (Mbps)</td>\n",
              "      <td>0.006545</td>\n",
              "    </tr>\n",
              "    <tr>\n",
              "      <th>24</th>\n",
              "      <td>ruca_micro</td>\n",
              "      <td>0.006435</td>\n",
              "    </tr>\n",
              "    <tr>\n",
              "      <th>25</th>\n",
              "      <td>pct_internet_broadband_any_type</td>\n",
              "      <td>0.004948</td>\n",
              "    </tr>\n",
              "    <tr>\n",
              "      <th>26</th>\n",
              "      <td>ruca_rural</td>\n",
              "      <td>0.004400</td>\n",
              "    </tr>\n",
              "  </tbody>\n",
              "</table>\n",
              "</div>\n",
              "      <button class=\"colab-df-convert\" onclick=\"convertToInteractive('df-0bc07fd3-a060-478d-9326-6250e7715788')\"\n",
              "              title=\"Convert this dataframe to an interactive table.\"\n",
              "              style=\"display:none;\">\n",
              "        \n",
              "  <svg xmlns=\"http://www.w3.org/2000/svg\" height=\"24px\"viewBox=\"0 0 24 24\"\n",
              "       width=\"24px\">\n",
              "    <path d=\"M0 0h24v24H0V0z\" fill=\"none\"/>\n",
              "    <path d=\"M18.56 5.44l.94 2.06.94-2.06 2.06-.94-2.06-.94-.94-2.06-.94 2.06-2.06.94zm-11 1L8.5 8.5l.94-2.06 2.06-.94-2.06-.94L8.5 2.5l-.94 2.06-2.06.94zm10 10l.94 2.06.94-2.06 2.06-.94-2.06-.94-.94-2.06-.94 2.06-2.06.94z\"/><path d=\"M17.41 7.96l-1.37-1.37c-.4-.4-.92-.59-1.43-.59-.52 0-1.04.2-1.43.59L10.3 9.45l-7.72 7.72c-.78.78-.78 2.05 0 2.83L4 21.41c.39.39.9.59 1.41.59.51 0 1.02-.2 1.41-.59l7.78-7.78 2.81-2.81c.8-.78.8-2.07 0-2.86zM5.41 20L4 18.59l7.72-7.72 1.47 1.35L5.41 20z\"/>\n",
              "  </svg>\n",
              "      </button>\n",
              "      \n",
              "  <style>\n",
              "    .colab-df-container {\n",
              "      display:flex;\n",
              "      flex-wrap:wrap;\n",
              "      gap: 12px;\n",
              "    }\n",
              "\n",
              "    .colab-df-convert {\n",
              "      background-color: #E8F0FE;\n",
              "      border: none;\n",
              "      border-radius: 50%;\n",
              "      cursor: pointer;\n",
              "      display: none;\n",
              "      fill: #1967D2;\n",
              "      height: 32px;\n",
              "      padding: 0 0 0 0;\n",
              "      width: 32px;\n",
              "    }\n",
              "\n",
              "    .colab-df-convert:hover {\n",
              "      background-color: #E2EBFA;\n",
              "      box-shadow: 0px 1px 2px rgba(60, 64, 67, 0.3), 0px 1px 3px 1px rgba(60, 64, 67, 0.15);\n",
              "      fill: #174EA6;\n",
              "    }\n",
              "\n",
              "    [theme=dark] .colab-df-convert {\n",
              "      background-color: #3B4455;\n",
              "      fill: #D2E3FC;\n",
              "    }\n",
              "\n",
              "    [theme=dark] .colab-df-convert:hover {\n",
              "      background-color: #434B5C;\n",
              "      box-shadow: 0px 1px 3px 1px rgba(0, 0, 0, 0.15);\n",
              "      filter: drop-shadow(0px 1px 2px rgba(0, 0, 0, 0.3));\n",
              "      fill: #FFFFFF;\n",
              "    }\n",
              "  </style>\n",
              "\n",
              "      <script>\n",
              "        const buttonEl =\n",
              "          document.querySelector('#df-0bc07fd3-a060-478d-9326-6250e7715788 button.colab-df-convert');\n",
              "        buttonEl.style.display =\n",
              "          google.colab.kernel.accessAllowed ? 'block' : 'none';\n",
              "\n",
              "        async function convertToInteractive(key) {\n",
              "          const element = document.querySelector('#df-0bc07fd3-a060-478d-9326-6250e7715788');\n",
              "          const dataTable =\n",
              "            await google.colab.kernel.invokeFunction('convertToInteractive',\n",
              "                                                     [key], {});\n",
              "          if (!dataTable) return;\n",
              "\n",
              "          const docLinkHtml = 'Like what you see? Visit the ' +\n",
              "            '<a target=\"_blank\" href=https://colab.research.google.com/notebooks/data_table.ipynb>data table notebook</a>'\n",
              "            + ' to learn more about interactive tables.';\n",
              "          element.innerHTML = '';\n",
              "          dataTable['output_type'] = 'display_data';\n",
              "          await google.colab.output.renderOutput(dataTable, element);\n",
              "          const docLink = document.createElement('div');\n",
              "          docLink.innerHTML = docLinkHtml;\n",
              "          element.appendChild(docLink);\n",
              "        }\n",
              "      </script>\n",
              "    </div>\n",
              "  </div>\n",
              "  "
            ]
          },
          "metadata": {},
          "execution_count": 195
        }
      ]
    },
    {
      "cell_type": "markdown",
      "metadata": {
        "id": "Jy8Cbi4iah8k"
      },
      "source": [
        "#### Hyperparameter Tuning"
      ]
    },
    {
      "cell_type": "code",
      "source": [
        "params = { 'max_depth': [5, 10],\n",
        "           'learning_rate': [0.1,0.5],\n",
        "           'n_estimators': [2500,3000],\n",
        "           'colsample_bytree': [0.3, 0.7]}\n",
        "\n",
        "regressor_tuned = xgb.XGBRegressor()\n",
        "\n",
        "regress = RandomizedSearchCV(estimator=regressor_tuned, \n",
        "                             param_distributions=params,\n",
        "                             scoring='neg_mean_squared_error', \n",
        "                             verbose=10,\n",
        "                             n_iter = 20,\n",
        "                             cv = 3,\n",
        "                             random_state=42)\n",
        "\n",
        "regress.fit(X_train, y_train)"
      ],
      "metadata": {
        "id": "WOw0GLsMkKEh",
        "colab": {
          "base_uri": "https://localhost:8080/"
        },
        "outputId": "a3e233b0-6bc7-42e3-cd0e-445949bd78cf"
      },
      "execution_count": 70,
      "outputs": [
        {
          "output_type": "stream",
          "name": "stderr",
          "text": [
            "/usr/local/lib/python3.7/dist-packages/sklearn/model_selection/_search.py:296: UserWarning: The total space of parameters 16 is smaller than n_iter=20. Running 16 iterations. For exhaustive searches, use GridSearchCV.\n",
            "  UserWarning,\n"
          ]
        },
        {
          "output_type": "stream",
          "name": "stdout",
          "text": [
            "Fitting 3 folds for each of 16 candidates, totalling 48 fits\n",
            "[CV 1/3; 1/16] START colsample_bytree=0.3, learning_rate=0.1, max_depth=5, n_estimators=2500\n",
            "[15:21:30] WARNING: /workspace/src/objective/regression_obj.cu:152: reg:linear is now deprecated in favor of reg:squarederror.\n",
            "[CV 1/3; 1/16] END colsample_bytree=0.3, learning_rate=0.1, max_depth=5, n_estimators=2500;, score=-42.300 total time=  56.8s\n",
            "[CV 2/3; 1/16] START colsample_bytree=0.3, learning_rate=0.1, max_depth=5, n_estimators=2500\n",
            "[15:22:27] WARNING: /workspace/src/objective/regression_obj.cu:152: reg:linear is now deprecated in favor of reg:squarederror.\n",
            "[CV 2/3; 1/16] END colsample_bytree=0.3, learning_rate=0.1, max_depth=5, n_estimators=2500;, score=-41.445 total time=  57.2s\n",
            "[CV 3/3; 1/16] START colsample_bytree=0.3, learning_rate=0.1, max_depth=5, n_estimators=2500\n",
            "[15:23:24] WARNING: /workspace/src/objective/regression_obj.cu:152: reg:linear is now deprecated in favor of reg:squarederror.\n",
            "[CV 3/3; 1/16] END colsample_bytree=0.3, learning_rate=0.1, max_depth=5, n_estimators=2500;, score=-42.255 total time=  57.0s\n",
            "[CV 1/3; 2/16] START colsample_bytree=0.3, learning_rate=0.1, max_depth=5, n_estimators=3000\n",
            "[15:24:21] WARNING: /workspace/src/objective/regression_obj.cu:152: reg:linear is now deprecated in favor of reg:squarederror.\n",
            "[CV 1/3; 2/16] END colsample_bytree=0.3, learning_rate=0.1, max_depth=5, n_estimators=3000;, score=-42.512 total time= 1.1min\n",
            "[CV 2/3; 2/16] START colsample_bytree=0.3, learning_rate=0.1, max_depth=5, n_estimators=3000\n",
            "[15:25:30] WARNING: /workspace/src/objective/regression_obj.cu:152: reg:linear is now deprecated in favor of reg:squarederror.\n",
            "[CV 2/3; 2/16] END colsample_bytree=0.3, learning_rate=0.1, max_depth=5, n_estimators=3000;, score=-41.682 total time= 1.1min\n",
            "[CV 3/3; 2/16] START colsample_bytree=0.3, learning_rate=0.1, max_depth=5, n_estimators=3000\n",
            "[15:26:38] WARNING: /workspace/src/objective/regression_obj.cu:152: reg:linear is now deprecated in favor of reg:squarederror.\n",
            "[CV 3/3; 2/16] END colsample_bytree=0.3, learning_rate=0.1, max_depth=5, n_estimators=3000;, score=-42.521 total time= 1.1min\n",
            "[CV 1/3; 3/16] START colsample_bytree=0.3, learning_rate=0.1, max_depth=10, n_estimators=2500\n",
            "[15:27:46] WARNING: /workspace/src/objective/regression_obj.cu:152: reg:linear is now deprecated in favor of reg:squarederror.\n",
            "[CV 1/3; 3/16] END colsample_bytree=0.3, learning_rate=0.1, max_depth=10, n_estimators=2500;, score=-43.259 total time= 2.0min\n",
            "[CV 2/3; 3/16] START colsample_bytree=0.3, learning_rate=0.1, max_depth=10, n_estimators=2500\n",
            "[15:29:47] WARNING: /workspace/src/objective/regression_obj.cu:152: reg:linear is now deprecated in favor of reg:squarederror.\n",
            "[CV 2/3; 3/16] END colsample_bytree=0.3, learning_rate=0.1, max_depth=10, n_estimators=2500;, score=-42.589 total time= 2.0min\n",
            "[CV 3/3; 3/16] START colsample_bytree=0.3, learning_rate=0.1, max_depth=10, n_estimators=2500\n",
            "[15:31:46] WARNING: /workspace/src/objective/regression_obj.cu:152: reg:linear is now deprecated in favor of reg:squarederror.\n",
            "[CV 3/3; 3/16] END colsample_bytree=0.3, learning_rate=0.1, max_depth=10, n_estimators=2500;, score=-43.048 total time= 2.0min\n",
            "[CV 1/3; 4/16] START colsample_bytree=0.3, learning_rate=0.1, max_depth=10, n_estimators=3000\n",
            "[15:33:45] WARNING: /workspace/src/objective/regression_obj.cu:152: reg:linear is now deprecated in favor of reg:squarederror.\n",
            "[CV 1/3; 4/16] END colsample_bytree=0.3, learning_rate=0.1, max_depth=10, n_estimators=3000;, score=-43.260 total time= 2.4min\n",
            "[CV 2/3; 4/16] START colsample_bytree=0.3, learning_rate=0.1, max_depth=10, n_estimators=3000\n",
            "[15:36:09] WARNING: /workspace/src/objective/regression_obj.cu:152: reg:linear is now deprecated in favor of reg:squarederror.\n",
            "[CV 2/3; 4/16] END colsample_bytree=0.3, learning_rate=0.1, max_depth=10, n_estimators=3000;, score=-42.589 total time= 2.4min\n",
            "[CV 3/3; 4/16] START colsample_bytree=0.3, learning_rate=0.1, max_depth=10, n_estimators=3000\n",
            "[15:38:31] WARNING: /workspace/src/objective/regression_obj.cu:152: reg:linear is now deprecated in favor of reg:squarederror.\n",
            "[CV 3/3; 4/16] END colsample_bytree=0.3, learning_rate=0.1, max_depth=10, n_estimators=3000;, score=-43.049 total time= 2.4min\n",
            "[CV 1/3; 5/16] START colsample_bytree=0.3, learning_rate=0.5, max_depth=5, n_estimators=2500\n",
            "[15:40:55] WARNING: /workspace/src/objective/regression_obj.cu:152: reg:linear is now deprecated in favor of reg:squarederror.\n",
            "[CV 1/3; 5/16] END colsample_bytree=0.3, learning_rate=0.5, max_depth=5, n_estimators=2500;, score=-53.639 total time=  56.2s\n",
            "[CV 2/3; 5/16] START colsample_bytree=0.3, learning_rate=0.5, max_depth=5, n_estimators=2500\n",
            "[15:41:51] WARNING: /workspace/src/objective/regression_obj.cu:152: reg:linear is now deprecated in favor of reg:squarederror.\n",
            "[CV 2/3; 5/16] END colsample_bytree=0.3, learning_rate=0.5, max_depth=5, n_estimators=2500;, score=-52.833 total time=  56.4s\n",
            "[CV 3/3; 5/16] START colsample_bytree=0.3, learning_rate=0.5, max_depth=5, n_estimators=2500\n",
            "[15:42:47] WARNING: /workspace/src/objective/regression_obj.cu:152: reg:linear is now deprecated in favor of reg:squarederror.\n",
            "[CV 3/3; 5/16] END colsample_bytree=0.3, learning_rate=0.5, max_depth=5, n_estimators=2500;, score=-53.285 total time=  56.1s\n",
            "[CV 1/3; 6/16] START colsample_bytree=0.3, learning_rate=0.5, max_depth=5, n_estimators=3000\n",
            "[15:43:43] WARNING: /workspace/src/objective/regression_obj.cu:152: reg:linear is now deprecated in favor of reg:squarederror.\n",
            "[CV 1/3; 6/16] END colsample_bytree=0.3, learning_rate=0.5, max_depth=5, n_estimators=3000;, score=-53.714 total time= 1.1min\n",
            "[CV 2/3; 6/16] START colsample_bytree=0.3, learning_rate=0.5, max_depth=5, n_estimators=3000\n",
            "[15:44:50] WARNING: /workspace/src/objective/regression_obj.cu:152: reg:linear is now deprecated in favor of reg:squarederror.\n",
            "[CV 2/3; 6/16] END colsample_bytree=0.3, learning_rate=0.5, max_depth=5, n_estimators=3000;, score=-52.921 total time= 1.1min\n",
            "[CV 3/3; 6/16] START colsample_bytree=0.3, learning_rate=0.5, max_depth=5, n_estimators=3000\n",
            "[15:45:57] WARNING: /workspace/src/objective/regression_obj.cu:152: reg:linear is now deprecated in favor of reg:squarederror.\n",
            "[CV 3/3; 6/16] END colsample_bytree=0.3, learning_rate=0.5, max_depth=5, n_estimators=3000;, score=-53.351 total time= 1.1min\n",
            "[CV 1/3; 7/16] START colsample_bytree=0.3, learning_rate=0.5, max_depth=10, n_estimators=2500\n",
            "[15:47:03] WARNING: /workspace/src/objective/regression_obj.cu:152: reg:linear is now deprecated in favor of reg:squarederror.\n",
            "[CV 1/3; 7/16] END colsample_bytree=0.3, learning_rate=0.5, max_depth=10, n_estimators=2500;, score=-55.956 total time=  51.3s\n",
            "[CV 2/3; 7/16] START colsample_bytree=0.3, learning_rate=0.5, max_depth=10, n_estimators=2500\n",
            "[15:47:55] WARNING: /workspace/src/objective/regression_obj.cu:152: reg:linear is now deprecated in favor of reg:squarederror.\n",
            "[CV 2/3; 7/16] END colsample_bytree=0.3, learning_rate=0.5, max_depth=10, n_estimators=2500;, score=-55.273 total time=  51.4s\n",
            "[CV 3/3; 7/16] START colsample_bytree=0.3, learning_rate=0.5, max_depth=10, n_estimators=2500\n",
            "[15:48:46] WARNING: /workspace/src/objective/regression_obj.cu:152: reg:linear is now deprecated in favor of reg:squarederror.\n",
            "[CV 3/3; 7/16] END colsample_bytree=0.3, learning_rate=0.5, max_depth=10, n_estimators=2500;, score=-56.264 total time=  50.4s\n",
            "[CV 1/3; 8/16] START colsample_bytree=0.3, learning_rate=0.5, max_depth=10, n_estimators=3000\n",
            "[15:49:36] WARNING: /workspace/src/objective/regression_obj.cu:152: reg:linear is now deprecated in favor of reg:squarederror.\n",
            "[CV 1/3; 8/16] END colsample_bytree=0.3, learning_rate=0.5, max_depth=10, n_estimators=3000;, score=-55.956 total time=  57.3s\n",
            "[CV 2/3; 8/16] START colsample_bytree=0.3, learning_rate=0.5, max_depth=10, n_estimators=3000\n",
            "[15:50:34] WARNING: /workspace/src/objective/regression_obj.cu:152: reg:linear is now deprecated in favor of reg:squarederror.\n",
            "[CV 2/3; 8/16] END colsample_bytree=0.3, learning_rate=0.5, max_depth=10, n_estimators=3000;, score=-55.273 total time=  54.8s\n",
            "[CV 3/3; 8/16] START colsample_bytree=0.3, learning_rate=0.5, max_depth=10, n_estimators=3000\n",
            "[15:51:28] WARNING: /workspace/src/objective/regression_obj.cu:152: reg:linear is now deprecated in favor of reg:squarederror.\n",
            "[CV 3/3; 8/16] END colsample_bytree=0.3, learning_rate=0.5, max_depth=10, n_estimators=3000;, score=-56.264 total time=  53.5s\n",
            "[CV 1/3; 9/16] START colsample_bytree=0.7, learning_rate=0.1, max_depth=5, n_estimators=2500\n",
            "[15:52:22] WARNING: /workspace/src/objective/regression_obj.cu:152: reg:linear is now deprecated in favor of reg:squarederror.\n",
            "[CV 1/3; 9/16] END colsample_bytree=0.7, learning_rate=0.1, max_depth=5, n_estimators=2500;, score=-42.556 total time= 1.7min\n",
            "[CV 2/3; 9/16] START colsample_bytree=0.7, learning_rate=0.1, max_depth=5, n_estimators=2500\n",
            "[15:54:04] WARNING: /workspace/src/objective/regression_obj.cu:152: reg:linear is now deprecated in favor of reg:squarederror.\n",
            "[CV 2/3; 9/16] END colsample_bytree=0.7, learning_rate=0.1, max_depth=5, n_estimators=2500;, score=-41.500 total time= 1.7min\n",
            "[CV 3/3; 9/16] START colsample_bytree=0.7, learning_rate=0.1, max_depth=5, n_estimators=2500\n",
            "[15:55:46] WARNING: /workspace/src/objective/regression_obj.cu:152: reg:linear is now deprecated in favor of reg:squarederror.\n",
            "[CV 3/3; 9/16] END colsample_bytree=0.7, learning_rate=0.1, max_depth=5, n_estimators=2500;, score=-42.581 total time= 1.7min\n",
            "[CV 1/3; 10/16] START colsample_bytree=0.7, learning_rate=0.1, max_depth=5, n_estimators=3000\n",
            "[15:57:28] WARNING: /workspace/src/objective/regression_obj.cu:152: reg:linear is now deprecated in favor of reg:squarederror.\n",
            "[CV 1/3; 10/16] END colsample_bytree=0.7, learning_rate=0.1, max_depth=5, n_estimators=3000;, score=-42.790 total time= 2.0min\n",
            "[CV 2/3; 10/16] START colsample_bytree=0.7, learning_rate=0.1, max_depth=5, n_estimators=3000\n",
            "[15:59:31] WARNING: /workspace/src/objective/regression_obj.cu:152: reg:linear is now deprecated in favor of reg:squarederror.\n",
            "[CV 2/3; 10/16] END colsample_bytree=0.7, learning_rate=0.1, max_depth=5, n_estimators=3000;, score=-41.746 total time= 2.0min\n",
            "[CV 3/3; 10/16] START colsample_bytree=0.7, learning_rate=0.1, max_depth=5, n_estimators=3000\n",
            "[16:01:33] WARNING: /workspace/src/objective/regression_obj.cu:152: reg:linear is now deprecated in favor of reg:squarederror.\n",
            "[CV 3/3; 10/16] END colsample_bytree=0.7, learning_rate=0.1, max_depth=5, n_estimators=3000;, score=-42.791 total time= 2.1min\n",
            "[CV 1/3; 11/16] START colsample_bytree=0.7, learning_rate=0.1, max_depth=10, n_estimators=2500\n",
            "[16:03:37] WARNING: /workspace/src/objective/regression_obj.cu:152: reg:linear is now deprecated in favor of reg:squarederror.\n",
            "[CV 1/3; 11/16] END colsample_bytree=0.7, learning_rate=0.1, max_depth=10, n_estimators=2500;, score=-42.634 total time= 3.9min\n",
            "[CV 2/3; 11/16] START colsample_bytree=0.7, learning_rate=0.1, max_depth=10, n_estimators=2500\n",
            "[16:07:29] WARNING: /workspace/src/objective/regression_obj.cu:152: reg:linear is now deprecated in favor of reg:squarederror.\n",
            "[CV 2/3; 11/16] END colsample_bytree=0.7, learning_rate=0.1, max_depth=10, n_estimators=2500;, score=-41.385 total time= 3.9min\n",
            "[CV 3/3; 11/16] START colsample_bytree=0.7, learning_rate=0.1, max_depth=10, n_estimators=2500\n",
            "[16:11:20] WARNING: /workspace/src/objective/regression_obj.cu:152: reg:linear is now deprecated in favor of reg:squarederror.\n",
            "[CV 3/3; 11/16] END colsample_bytree=0.7, learning_rate=0.1, max_depth=10, n_estimators=2500;, score=-42.433 total time= 3.9min\n",
            "[CV 1/3; 12/16] START colsample_bytree=0.7, learning_rate=0.1, max_depth=10, n_estimators=3000\n",
            "[16:15:12] WARNING: /workspace/src/objective/regression_obj.cu:152: reg:linear is now deprecated in favor of reg:squarederror.\n",
            "[CV 1/3; 12/16] END colsample_bytree=0.7, learning_rate=0.1, max_depth=10, n_estimators=3000;, score=-42.636 total time= 4.6min\n",
            "[CV 2/3; 12/16] START colsample_bytree=0.7, learning_rate=0.1, max_depth=10, n_estimators=3000\n",
            "[16:19:48] WARNING: /workspace/src/objective/regression_obj.cu:152: reg:linear is now deprecated in favor of reg:squarederror.\n",
            "[CV 2/3; 12/16] END colsample_bytree=0.7, learning_rate=0.1, max_depth=10, n_estimators=3000;, score=-41.387 total time= 4.6min\n",
            "[CV 3/3; 12/16] START colsample_bytree=0.7, learning_rate=0.1, max_depth=10, n_estimators=3000\n",
            "[16:24:25] WARNING: /workspace/src/objective/regression_obj.cu:152: reg:linear is now deprecated in favor of reg:squarederror.\n",
            "[CV 3/3; 12/16] END colsample_bytree=0.7, learning_rate=0.1, max_depth=10, n_estimators=3000;, score=-42.434 total time= 4.6min\n",
            "[CV 1/3; 13/16] START colsample_bytree=0.7, learning_rate=0.5, max_depth=5, n_estimators=2500\n",
            "[16:29:03] WARNING: /workspace/src/objective/regression_obj.cu:152: reg:linear is now deprecated in favor of reg:squarederror.\n",
            "[CV 1/3; 13/16] END colsample_bytree=0.7, learning_rate=0.5, max_depth=5, n_estimators=2500;, score=-53.513 total time= 1.7min\n",
            "[CV 2/3; 13/16] START colsample_bytree=0.7, learning_rate=0.5, max_depth=5, n_estimators=2500\n",
            "[16:30:46] WARNING: /workspace/src/objective/regression_obj.cu:152: reg:linear is now deprecated in favor of reg:squarederror.\n",
            "[CV 2/3; 13/16] END colsample_bytree=0.7, learning_rate=0.5, max_depth=5, n_estimators=2500;, score=-52.293 total time= 1.7min\n",
            "[CV 3/3; 13/16] START colsample_bytree=0.7, learning_rate=0.5, max_depth=5, n_estimators=2500\n",
            "[16:32:29] WARNING: /workspace/src/objective/regression_obj.cu:152: reg:linear is now deprecated in favor of reg:squarederror.\n",
            "[CV 3/3; 13/16] END colsample_bytree=0.7, learning_rate=0.5, max_depth=5, n_estimators=2500;, score=-52.725 total time= 1.7min\n",
            "[CV 1/3; 14/16] START colsample_bytree=0.7, learning_rate=0.5, max_depth=5, n_estimators=3000\n",
            "[16:34:12] WARNING: /workspace/src/objective/regression_obj.cu:152: reg:linear is now deprecated in favor of reg:squarederror.\n",
            "[CV 1/3; 14/16] END colsample_bytree=0.7, learning_rate=0.5, max_depth=5, n_estimators=3000;, score=-53.520 total time= 2.1min\n",
            "[CV 2/3; 14/16] START colsample_bytree=0.7, learning_rate=0.5, max_depth=5, n_estimators=3000\n",
            "[16:36:16] WARNING: /workspace/src/objective/regression_obj.cu:152: reg:linear is now deprecated in favor of reg:squarederror.\n",
            "[CV 2/3; 14/16] END colsample_bytree=0.7, learning_rate=0.5, max_depth=5, n_estimators=3000;, score=-52.307 total time= 2.1min\n",
            "[CV 3/3; 14/16] START colsample_bytree=0.7, learning_rate=0.5, max_depth=5, n_estimators=3000\n",
            "[16:38:19] WARNING: /workspace/src/objective/regression_obj.cu:152: reg:linear is now deprecated in favor of reg:squarederror.\n",
            "[CV 3/3; 14/16] END colsample_bytree=0.7, learning_rate=0.5, max_depth=5, n_estimators=3000;, score=-52.762 total time= 2.1min\n",
            "[CV 1/3; 15/16] START colsample_bytree=0.7, learning_rate=0.5, max_depth=10, n_estimators=2500\n",
            "[16:40:24] WARNING: /workspace/src/objective/regression_obj.cu:152: reg:linear is now deprecated in favor of reg:squarederror.\n",
            "[CV 1/3; 15/16] END colsample_bytree=0.7, learning_rate=0.5, max_depth=10, n_estimators=2500;, score=-54.571 total time= 1.4min\n",
            "[CV 2/3; 15/16] START colsample_bytree=0.7, learning_rate=0.5, max_depth=10, n_estimators=2500\n",
            "[16:41:47] WARNING: /workspace/src/objective/regression_obj.cu:152: reg:linear is now deprecated in favor of reg:squarederror.\n",
            "[CV 2/3; 15/16] END colsample_bytree=0.7, learning_rate=0.5, max_depth=10, n_estimators=2500;, score=-53.310 total time= 1.4min\n",
            "[CV 3/3; 15/16] START colsample_bytree=0.7, learning_rate=0.5, max_depth=10, n_estimators=2500\n",
            "[16:43:13] WARNING: /workspace/src/objective/regression_obj.cu:152: reg:linear is now deprecated in favor of reg:squarederror.\n",
            "[CV 3/3; 15/16] END colsample_bytree=0.7, learning_rate=0.5, max_depth=10, n_estimators=2500;, score=-55.100 total time= 1.4min\n",
            "[CV 1/3; 16/16] START colsample_bytree=0.7, learning_rate=0.5, max_depth=10, n_estimators=3000\n",
            "[16:44:37] WARNING: /workspace/src/objective/regression_obj.cu:152: reg:linear is now deprecated in favor of reg:squarederror.\n",
            "[CV 1/3; 16/16] END colsample_bytree=0.7, learning_rate=0.5, max_depth=10, n_estimators=3000;, score=-54.571 total time= 1.5min\n",
            "[CV 2/3; 16/16] START colsample_bytree=0.7, learning_rate=0.5, max_depth=10, n_estimators=3000\n",
            "[16:46:05] WARNING: /workspace/src/objective/regression_obj.cu:152: reg:linear is now deprecated in favor of reg:squarederror.\n",
            "[CV 2/3; 16/16] END colsample_bytree=0.7, learning_rate=0.5, max_depth=10, n_estimators=3000;, score=-53.310 total time= 1.5min\n",
            "[CV 3/3; 16/16] START colsample_bytree=0.7, learning_rate=0.5, max_depth=10, n_estimators=3000\n",
            "[16:47:35] WARNING: /workspace/src/objective/regression_obj.cu:152: reg:linear is now deprecated in favor of reg:squarederror.\n",
            "[CV 3/3; 16/16] END colsample_bytree=0.7, learning_rate=0.5, max_depth=10, n_estimators=3000;, score=-55.100 total time= 1.5min\n",
            "[16:49:04] WARNING: /workspace/src/objective/regression_obj.cu:152: reg:linear is now deprecated in favor of reg:squarederror.\n"
          ]
        },
        {
          "output_type": "execute_result",
          "data": {
            "text/plain": [
              "RandomizedSearchCV(cv=3, estimator=XGBRegressor(), n_iter=20,\n",
              "                   param_distributions={'colsample_bytree': [0.3, 0.7],\n",
              "                                        'learning_rate': [0.1, 0.5],\n",
              "                                        'max_depth': [5, 10],\n",
              "                                        'n_estimators': [2500, 3000]},\n",
              "                   random_state=42, scoring='neg_mean_squared_error',\n",
              "                   verbose=10)"
            ]
          },
          "metadata": {},
          "execution_count": 70
        }
      ]
    },
    {
      "cell_type": "code",
      "source": [
        "print(\"Best parameters:\", regress.best_params_)\n",
        "print(\"Lowest RMSE: \", (-regress.best_score_)**(1/2.0))\n",
        "y_pred = regress.predict(X_test)\n",
        "\n",
        "regression_results(y_test, y_pred)"
      ],
      "metadata": {
        "id": "zm6g-CLLlD6Y",
        "colab": {
          "base_uri": "https://localhost:8080/"
        },
        "outputId": "bb1231a7-c817-4d8c-bfbe-1b0530c645a9"
      },
      "execution_count": 71,
      "outputs": [
        {
          "output_type": "stream",
          "name": "stdout",
          "text": [
            "Best parameters: {'n_estimators': 2500, 'max_depth': 5, 'learning_rate': 0.1, 'colsample_bytree': 0.3}\n",
            "Lowest RMSE:  6.480722261737316\n",
            "The model performance for testing set\n",
            "--------------------------------------\n",
            "MAE is 5.007187550008043\n",
            "MSE is 40.65796410944728\n",
            "RMSE is 6.376359785131896\n",
            "R2 score is 0.8351258015936273\n",
            "Adj R2 score is 0.8321950387231403\n"
          ]
        }
      ]
    },
    {
      "cell_type": "markdown",
      "source": [
        "#Best Model"
      ],
      "metadata": {
        "id": "ZvNYt0qutdbR"
      }
    },
    {
      "cell_type": "markdown",
      "source": [
        "### So far, best model is XGB with broadband set 2\n",
        "\n"
      ],
      "metadata": {
        "id": "sbvMn4d_tjH1"
      }
    },
    {
      "cell_type": "code",
      "source": [
        "## using actual test dataset\n",
        "\n",
        "X_test= df_broadband_test[ind_var]\n",
        "y_test= df_broadband_test[target]"
      ],
      "metadata": {
        "id": "2y8Bw0xqtfQw"
      },
      "execution_count": 196,
      "outputs": []
    },
    {
      "cell_type": "code",
      "source": [
        "xg_reg.fit(X_train,y_train)\n",
        "y_pred = xg_reg.predict(X_test)"
      ],
      "metadata": {
        "id": "CYtyGfrCEO5V"
      },
      "execution_count": 197,
      "outputs": []
    },
    {
      "cell_type": "code",
      "source": [
        "# model evaluation for testing set\n",
        "regression_results(y_test, y_pred)"
      ],
      "metadata": {
        "colab": {
          "base_uri": "https://localhost:8080/"
        },
        "outputId": "1e00e6d0-7dfe-4f74-b55a-fe9cc54d5f12",
        "id": "6EIqstYkwR3Q"
      },
      "execution_count": 198,
      "outputs": [
        {
          "output_type": "stream",
          "name": "stdout",
          "text": [
            "The model performance for testing set\n",
            "--------------------------------------\n",
            "MAE is 4.60918435661917\n",
            "MSE is 34.61040257416187\n",
            "RMSE is 5.883060646819976\n",
            "R2 score is 0.8618421636294153\n",
            "Adj R2 score is 0.8598829767999292\n"
          ]
        }
      ]
    },
    {
      "cell_type": "code",
      "source": [
        "with open('education_xgb_model.pkl', 'wb') as file:\n",
        "    pickle.dump(xg_reg, file)"
      ],
      "metadata": {
        "id": "0S8d1Ge90FUO"
      },
      "execution_count": 199,
      "outputs": []
    },
    {
      "cell_type": "markdown",
      "source": [
        "# Error Analysis"
      ],
      "metadata": {
        "id": "69yaA4McGL1S"
      }
    },
    {
      "cell_type": "code",
      "source": [
        "## transfer to np array for error analysis\n",
        "\n",
        "X_train_1 = np.squeeze(np.asarray(X_train))\n",
        "y_train_1 = np.squeeze(np.asarray(y_train))\n",
        "X_test_1 = np.squeeze(np.asarray(X_test))\n",
        "y_test_1 = np.squeeze(np.asarray(y_test))"
      ],
      "metadata": {
        "id": "4kK3Mb2FDeKn"
      },
      "execution_count": 200,
      "outputs": []
    },
    {
      "cell_type": "code",
      "source": [
        "xg_reg.fit(X_train_1,y_train_1)\n",
        "y_pred_1 = xg_reg.predict(X_test_1)"
      ],
      "metadata": {
        "id": "qw6ERTvQpvn_"
      },
      "execution_count": 201,
      "outputs": []
    },
    {
      "cell_type": "code",
      "source": [
        "# model evaluation for testing set\n",
        "regression_results(y_test_1, y_pred_1)"
      ],
      "metadata": {
        "colab": {
          "base_uri": "https://localhost:8080/"
        },
        "id": "KWgsTTZyLMUO",
        "outputId": "037deeb2-f443-47cb-a745-6891c4df83a0"
      },
      "execution_count": 202,
      "outputs": [
        {
          "output_type": "stream",
          "name": "stdout",
          "text": [
            "The model performance for testing set\n",
            "--------------------------------------\n",
            "MAE is 4.60918435661917\n",
            "MSE is 34.61040257416187\n",
            "RMSE is 5.883060646819976\n",
            "R2 score is 0.8618421636294153\n",
            "Adj R2 score is 0.8598829767999292\n"
          ]
        }
      ]
    },
    {
      "cell_type": "code",
      "source": [
        "## import error analysis library\n",
        "from yellowbrick.regressor import residuals_plot\n",
        "from yellowbrick.regressor import prediction_error\n",
        "from yellowbrick.regressor import ResidualsPlot\n",
        "from yellowbrick.regressor import cooks_distance\n",
        "import scipy.stats as stats"
      ],
      "metadata": {
        "id": "GdkdKZ6y4dYk"
      },
      "execution_count": 203,
      "outputs": []
    },
    {
      "cell_type": "markdown",
      "source": [
        "## Residual plot"
      ],
      "metadata": {
        "id": "adjzPWKcGlpy"
      }
    },
    {
      "cell_type": "markdown",
      "source": [
        "The residuals plot shows the difference between residuals on the vertical axis and the dependent variable on the horizontal axis, allowing you to detect regions within the target that may be susceptible to more or less error."
      ],
      "metadata": {
        "id": "0Qh9QJhBL1-l"
      }
    },
    {
      "cell_type": "code",
      "source": [
        "visualizer = ResidualsPlot(xg_reg)\n",
        "\n",
        "visualizer.fit(X_train_1, y_train_1)  # Fit the training data to the visualizer\n",
        "visualizer.score(X_test_1, y_test_1)  # Evaluate the model on the test data\n",
        "visualizer.show()  "
      ],
      "metadata": {
        "colab": {
          "base_uri": "https://localhost:8080/",
          "height": 394
        },
        "id": "ZIbv1d8O6CZQ",
        "outputId": "2fbbfa59-5964-4426-e86f-66311b23b707"
      },
      "execution_count": 204,
      "outputs": [
        {
          "output_type": "display_data",
          "data": {
            "text/plain": [
              "<Figure size 576x396 with 2 Axes>"
            ],
            "image/png": "[encoded data removed]"
          },
          "metadata": {}
        },
        {
          "output_type": "execute_result",
          "data": {
            "text/plain": [
              "<matplotlib.axes._subplots.AxesSubplot at 0x7f1e705f6c90>"
            ]
          },
          "metadata": {},
          "execution_count": 204
        }
      ]
    },
    {
      "cell_type": "markdown",
      "source": [
        "### Interpretations"
      ],
      "metadata": {
        "id": "d5fiUwLwL5FM"
      }
    },
    {
      "cell_type": "markdown",
      "source": [
        "In the case above, we see a fairly random, uniform distribution of the residuals against the target in two dimensions. This seems to indicate that our model is performing well. We can also see from the histogram that our error is normally distributed around zero, which also generally indicates a well fitted model."
      ],
      "metadata": {
        "id": "L1pj4NJUL7hd"
      }
    },
    {
      "cell_type": "markdown",
      "source": [
        "## Prediction Error Plot"
      ],
      "metadata": {
        "id": "FQcmqc7wLl7d"
      }
    },
    {
      "cell_type": "markdown",
      "source": [
        "A prediction error plot shows the actual targets from the dataset against the predicted values generated by our model. This allows us to see how much variance is in the model. Data scientists can diagnose regression models using this plot by comparing against the 45 degree line, where the prediction exactly matches the model."
      ],
      "metadata": {
        "id": "ZF9XgpLjLokO"
      }
    },
    {
      "cell_type": "code",
      "source": [
        "# Making the Prediction Error Plot\n",
        "print(\"\\nPrediction Error Plot\")\n",
        "print(prediction_error(xg_reg, X_train_1, y_train_1, X_test_1, y_test_1))\n"
      ],
      "metadata": {
        "colab": {
          "base_uri": "https://localhost:8080/",
          "height": 485
        },
        "id": "NvYGwicO21th",
        "outputId": "0551222a-742f-45d9-a367-77319736d8a2"
      },
      "execution_count": 205,
      "outputs": [
        {
          "output_type": "stream",
          "name": "stdout",
          "text": [
            "\n",
            "Prediction Error Plot\n"
          ]
        },
        {
          "output_type": "display_data",
          "data": {
            "text/plain": [
              "<Figure size 576x396 with 1 Axes>"
            ],
            "image/png": "[encoded data removed]"
          },
          "metadata": {}
        },
        {
          "output_type": "stream",
          "name": "stdout",
          "text": [
            "PredictionError(ax=<matplotlib.axes._subplots.AxesSubplot object at 0x7f1e70522e90>,\n",
            "                estimator=XGBRegressor(alpha=10, colsample_bytree=0.3,\n",
            "                                       max_depth=5, n_estimators=2500,\n",
            "                                       objective='reg:squarederror'))\n"
          ]
        }
      ]
    },
    {
      "cell_type": "markdown",
      "source": [
        "### Interpretations"
      ],
      "metadata": {
        "id": "GiVkDaJvMdVe"
      }
    },
    {
      "cell_type": "markdown",
      "source": [
        "We can see that most of the points are on a straight line. We can compare this plot against the 45-degree line, where the prediction exactly matches the model. In general, the predictions follow the actualS."
      ],
      "metadata": {
        "id": "mSxRPWctMfWP"
      }
    },
    {
      "cell_type": "markdown",
      "source": [
        "## Cook's distance"
      ],
      "metadata": {
        "id": "fRvzaVECMy5u"
      }
    },
    {
      "cell_type": "markdown",
      "source": [
        "Cook’s Distance is a measure of how influential an instance is to the computation of a regression, e.g. if the instance is removed would the estimated coeficients of the underlying model be substantially changed? Because of this, Cook’s Distance is generally used to detect outliers in standard, OLS regression. In fact, a general rule of thumb is that D(i) > 4/n is a good threshold for determining highly influential points as outliers and this visualizer can report the percentage of data that is above that threshold."
      ],
      "metadata": {
        "id": "PYG_N-6fM-P9"
      }
    },
    {
      "cell_type": "code",
      "source": [
        "cooks_distance(\n",
        "    X_train_1, y_train_1,\n",
        "    draw_threshold=True,\n",
        "    linefmt=\"C0-\", markerfmt=\",\"\n",
        ")"
      ],
      "metadata": {
        "colab": {
          "base_uri": "https://localhost:8080/",
          "height": 394
        },
        "id": "Z7kbuZ5aChOs",
        "outputId": "c7a30000-978e-4199-e188-dec6d8f0ec17"
      },
      "execution_count": 208,
      "outputs": [
        {
          "output_type": "display_data",
          "data": {
            "text/plain": [
              "<Figure size 576x396 with 1 Axes>"
            ],
            "image/png": "[encoded data removed]"
          },
          "metadata": {}
        },
        {
          "output_type": "execute_result",
          "data": {
            "text/plain": [
              "CooksDistance(ax=<matplotlib.axes._subplots.AxesSubplot object at 0x7f1e701c6250>)"
            ]
          },
          "metadata": {},
          "execution_count": 208
        }
      ]
    },
    {
      "cell_type": "markdown",
      "source": [
        "In particular, there are several (5.76%）of the observations with Cook’s distance values that are relatively higher than the others."
      ],
      "metadata": {
        "id": "kg6UjDlsRY-H"
      }
    },
    {
      "cell_type": "markdown",
      "source": [
        "## Q-Q plot"
      ],
      "metadata": {
        "id": "tMskxVdcMrhF"
      }
    },
    {
      "cell_type": "markdown",
      "source": [
        "To check the assumption of the normality of the data generating process, we can use Q-Q plot of the normalized residuals."
      ],
      "metadata": {
        "id": "ZpyxpvQSPVt1"
      }
    },
    {
      "cell_type": "code",
      "source": [
        "residuals = y_test[\"pct_pop_hs+\"] - y_pred.reshape(-1)\n",
        "residuals\n",
        "\n",
        "plt.figure(figsize=(7,7))\n",
        "stats.probplot(residuals, dist=\"norm\", plot=plt)\n",
        "plt.title(\"Normal Q-Q Plot\")"
      ],
      "metadata": {
        "id": "ORzHDUok5jUI",
        "colab": {
          "base_uri": "https://localhost:8080/",
          "height": 475
        },
        "outputId": "f437a9df-ec8d-489f-fc4e-36822f9add51"
      },
      "execution_count": 209,
      "outputs": [
        {
          "output_type": "execute_result",
          "data": {
            "text/plain": [
              "Text(0.5, 1.0, 'Normal Q-Q Plot')"
            ]
          },
          "metadata": {},
          "execution_count": 209
        },
        {
          "output_type": "display_data",
          "data": {
            "text/plain": [
              "<Figure size 504x504 with 1 Axes>"
            ],
            "image/png": "[encoded data removed]"
          },
          "metadata": {}
        }
      ]
    },
    {
      "cell_type": "markdown",
      "source": [
        "## Interpretations"
      ],
      "metadata": {
        "id": "4sMYuOxmPkS5"
      }
    },
    {
      "cell_type": "markdown",
      "source": [
        "We can see that the residuals are fitted to the line, although there are some outliers found at both end"
      ],
      "metadata": {
        "id": "MDKC60bXPn6O"
      }
    },
    {
      "cell_type": "code",
      "source": [
        ""
      ],
      "metadata": {
        "id": "4pdMaUa71bnh"
      },
      "execution_count": null,
      "outputs": []
    }
  ],
  "metadata": {
    "colab": {
      "collapsed_sections": [
        "62Ni5T55JwFW",
        "aCUMfO2JFNbW",
        "Ohd-zHjL3nDF"
      ],
      "name": "MH_education_models3.ipynb",
      "provenance": [],
      "machine_shape": "hm"
    },
    "kernelspec": {
      "display_name": "Python 3",
      "name": "python3"
    },
    "language_info": {
      "name": "python"
    },
    "accelerator": "GPU"
  },
  "nbformat": 4,
  "nbformat_minor": 0
}