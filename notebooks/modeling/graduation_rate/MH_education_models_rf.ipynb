{
  "cells": [
    {
      "cell_type": "code",
      "execution_count": null,
      "metadata": {
        "id": "YO8rBz2Ss2JZ"
      },
      "outputs": [],
      "source": [
        "import pandas as pd\n",
        "import numpy as np\n",
        "import sys\n",
        "import missingno as msno\n",
        "import seaborn as sns\n",
        "import matplotlib.pyplot as plt\n",
        "\n",
        "from sklearn.pipeline import Pipeline\n",
        "from sklearn.compose import ColumnTransformer\n",
        "from sklearn.preprocessing import StandardScaler, OneHotEncoder\n",
        "from sklearn import metrics\n",
        "\n",
        "from sklearn.feature_selection import SelectKBest, f_regression\n",
        "from sklearn.linear_model import LinearRegression\n",
        "from sklearn.model_selection import cross_val_score, train_test_split\n",
        "from sklearn.model_selection import GridSearchCV\n",
        "from sklearn.metrics import mean_squared_error\n",
        "from sklearn.metrics import mean_absolute_error\n",
        "\n",
        "import xgboost as xgb\n",
        "from sklearn.model_selection import cross_val_score, GridSearchCV\n",
        "from sklearn.ensemble import RandomForestRegressor\n",
        "from sklearn.preprocessing import MinMaxScaler\n",
        "from matplotlib import pyplot\n",
        "from sklearn.linear_model import LinearRegression\n",
        "from sklearn.model_selection import RandomizedSearchCV\n",
        "import pickle\n",
        "from xgboost import XGBRegressor\n",
        "\n"
      ]
    },
    {
      "cell_type": "code",
      "source": [
        "# pip install scikit-learn==1.0.2 xgboost==1.5.1 pandas==1.3.4"
      ],
      "metadata": {
        "colab": {
          "base_uri": "https://localhost:8080/",
          "height": 553
        },
        "id": "KTtV5XHh57G6",
        "outputId": "e181c371-33a4-49f8-9516-dbe99e88e8cd"
      },
      "execution_count": null,
      "outputs": [
        {
          "output_type": "stream",
          "name": "stdout",
          "text": [
            "Requirement already satisfied: scikit-learn==1.0.2 in /usr/local/lib/python3.7/dist-packages (1.0.2)\n",
            "Collecting xgboost==1.5.1\n",
            "  Downloading xgboost-1.5.1-py3-none-manylinux2014_x86_64.whl (173.5 MB)\n",
            "\u001b[K     |████████████████████████████████| 173.5 MB 12 kB/s \n",
            "\u001b[?25hCollecting pandas==1.3.4\n",
            "  Downloading pandas-1.3.4-cp37-cp37m-manylinux_2_17_x86_64.manylinux2014_x86_64.whl (11.3 MB)\n",
            "\u001b[K     |████████████████████████████████| 11.3 MB 85.5 MB/s \n",
            "\u001b[?25hRequirement already satisfied: threadpoolctl>=2.0.0 in /usr/local/lib/python3.7/dist-packages (from scikit-learn==1.0.2) (3.1.0)\n",
            "Requirement already satisfied: scipy>=1.1.0 in /usr/local/lib/python3.7/dist-packages (from scikit-learn==1.0.2) (1.4.1)\n",
            "Requirement already satisfied: joblib>=0.11 in /usr/local/lib/python3.7/dist-packages (from scikit-learn==1.0.2) (1.1.0)\n",
            "Requirement already satisfied: numpy>=1.14.6 in /usr/local/lib/python3.7/dist-packages (from scikit-learn==1.0.2) (1.21.5)\n",
            "Requirement already satisfied: python-dateutil>=2.7.3 in /usr/local/lib/python3.7/dist-packages (from pandas==1.3.4) (2.8.2)\n",
            "Requirement already satisfied: pytz>=2017.3 in /usr/local/lib/python3.7/dist-packages (from pandas==1.3.4) (2018.9)\n",
            "Requirement already satisfied: six>=1.5 in /usr/local/lib/python3.7/dist-packages (from python-dateutil>=2.7.3->pandas==1.3.4) (1.15.0)\n",
            "Installing collected packages: xgboost, pandas\n",
            "  Attempting uninstall: xgboost\n",
            "    Found existing installation: xgboost 0.90\n",
            "    Uninstalling xgboost-0.90:\n",
            "      Successfully uninstalled xgboost-0.90\n",
            "  Attempting uninstall: pandas\n",
            "    Found existing installation: pandas 1.3.5\n",
            "    Uninstalling pandas-1.3.5:\n",
            "      Successfully uninstalled pandas-1.3.5\n",
            "Successfully installed pandas-1.3.4 xgboost-1.5.1\n"
          ]
        },
        {
          "output_type": "display_data",
          "data": {
            "application/vnd.colab-display-data+json": {
              "pip_warning": {
                "packages": [
                  "pandas",
                  "xgboost"
                ]
              }
            }
          },
          "metadata": {}
        }
      ]
    },
    {
      "cell_type": "code",
      "execution_count": null,
      "metadata": {
        "colab": {
          "base_uri": "https://localhost:8080/"
        },
        "id": "RWzXXobipySq",
        "outputId": "4cdd9920-2e91-43ab-dc1a-1880546d35aa"
      },
      "outputs": [
        {
          "output_type": "stream",
          "name": "stdout",
          "text": [
            "Mounted at /content/drive\n"
          ]
        }
      ],
      "source": [
        "##setup google drive\n",
        "from google.colab import drive\n",
        "drive.mount('/content/drive')"
      ]
    },
    {
      "cell_type": "code",
      "execution_count": null,
      "metadata": {
        "id": "w78pV_3ns2sN"
      },
      "outputs": [],
      "source": [
        "##setup path\n",
        "root_path = '/content/drive/MyDrive/W210 - Capstone Project/data'"
      ]
    },
    {
      "cell_type": "code",
      "execution_count": null,
      "metadata": {
        "id": "pFs6vJUStKxm"
      },
      "outputs": [],
      "source": [
        "##import dataset\n",
        "df_broadband_tr = pd.read_csv('/content/drive/MyDrive/W210 - Capstone Project/data/train_3.csv', encoding = 'ISO-8859-1')\n",
        "df_broadband_test = pd.read_csv('/content/drive/MyDrive/W210 - Capstone Project/data/test_3.csv', encoding = 'ISO-8859-1')\n"
      ]
    },
    {
      "cell_type": "markdown",
      "metadata": {
        "id": "eCIQkx0wxT6G"
      },
      "source": [
        "## Machine Learning Model for Broadband training dataset\n",
        "\n"
      ]
    },
    {
      "cell_type": "code",
      "source": [
        "df_broadband_tr = df_broadband_tr.set_index('tract_geoid')\n",
        "df_broadband_test = df_broadband_test.set_index('tract_geoid')"
      ],
      "metadata": {
        "id": "3bkQHMX61UeV"
      },
      "execution_count": null,
      "outputs": []
    },
    {
      "cell_type": "code",
      "execution_count": null,
      "metadata": {
        "colab": {
          "base_uri": "https://localhost:8080/"
        },
        "id": "HYN-aDB8tZuu",
        "outputId": "380cb684-2fa6-468a-8003-e39323ea9c91"
      },
      "outputs": [
        {
          "output_type": "execute_result",
          "data": {
            "text/plain": [
              "             Unnamed: 0  All_Provider_Count  MaxAdDown  MaxAdUp  \\\n",
              "tract_geoid                                                       \n",
              "6099000201            0                  11     1000.0   1000.0   \n",
              "47125102002           1                   7     1000.0   1000.0   \n",
              "22019001300           2                   8     1000.0   1000.0   \n",
              "18083955400           3                  11     1000.0   1000.0   \n",
              "39085206600           4                   7     1000.0   1000.0   \n",
              "\n",
              "             Wired_Provider_Count  Satellite_Provider_Count  \\\n",
              "tract_geoid                                                   \n",
              "6099000201                    4.0                         4   \n",
              "47125102002                   3.0                         4   \n",
              "22019001300                   3.0                         4   \n",
              "18083955400                   5.0                         4   \n",
              "39085206600                   3.0                         4   \n",
              "\n",
              "             Fixed_Wireless_Provider_Count  All_Provider_Count_25  \\\n",
              "tract_geoid                                                         \n",
              "6099000201                             4.0                    7.0   \n",
              "47125102002                            0.0                    5.0   \n",
              "22019001300                            2.0                    4.0   \n",
              "18083955400                            3.0                    6.0   \n",
              "39085206600                            0.0                    4.0   \n",
              "\n",
              "             All_Provider_Count_100  Fixed_Wireless_Provider_Count_25  ...  \\\n",
              "tract_geoid                                                            ...   \n",
              "6099000201                      3.0                               3.0  ...   \n",
              "47125102002                     4.0                               0.0  ...   \n",
              "22019001300                     2.0                               0.0  ...   \n",
              "18083955400                     3.0                               1.0  ...   \n",
              "39085206600                     2.0                               0.0  ...   \n",
              "\n",
              "             log_median_income  log_median_house_value  \\\n",
              "tract_geoid                                              \n",
              "6099000201           11.172546               12.667918   \n",
              "47125102002          11.113224               12.048249   \n",
              "22019001300          11.162147               12.062779   \n",
              "18083955400          10.388995               11.202316   \n",
              "39085206600          10.900178               11.663928   \n",
              "\n",
              "             median_income_over_median_rent  \\\n",
              "tract_geoid                                   \n",
              "6099000201                        59.341118   \n",
              "47125102002                       51.697764   \n",
              "22019001300                       66.303202   \n",
              "18083955400                       50.940439   \n",
              "39085206600                       51.507605   \n",
              "\n",
              "             median_income_over_median_house_value  \\\n",
              "tract_geoid                                          \n",
              "6099000201                                0.224165   \n",
              "47125102002                               0.392576   \n",
              "22019001300                               0.406313   \n",
              "18083955400                               0.443383   \n",
              "39085206600                               0.465916   \n",
              "\n",
              "             pct_of_internet_users_with_broadband  \\\n",
              "tract_geoid                                         \n",
              "6099000201                             100.000000   \n",
              "47125102002                             99.164439   \n",
              "22019001300                            100.000000   \n",
              "18083955400                            100.000000   \n",
              "39085206600                             98.464164   \n",
              "\n",
              "            log_median_income_over_log_median_house  pct_desktop_or_laptop  \\\n",
              "tract_geoid                                                                  \n",
              "6099000201                                 0.881956              68.284076   \n",
              "47125102002                                0.922393              96.990074   \n",
              "22019001300                                0.925338              84.889780   \n",
              "18083955400                                0.927397              65.481172   \n",
              "39085206600                                0.934520              74.532020   \n",
              "\n",
              "             pct_smartphone  pct_only_smartphone  pct_tablet  \n",
              "tract_geoid                                                   \n",
              "6099000201        80.811645            14.292016   54.741950  \n",
              "47125102002       93.948127             1.953250   79.090618  \n",
              "22019001300       85.611222             6.012024   68.777555  \n",
              "18083955400       75.418410            10.564854   52.301255  \n",
              "39085206600       67.980296             2.463054   52.216749  \n",
              "\n",
              "[5 rows x 203 columns]"
            ],
            "text/html": [
              "\n",
              "  <div id=\"df-3150357a-7aa1-4fb0-8064-124e1dbb8718\">\n",
              "    <div class=\"colab-df-container\">\n",
              "      <div>\n",
              "<style scoped>\n",
              "    .dataframe tbody tr th:only-of-type {\n",
              "        vertical-align: middle;\n",
              "    }\n",
              "\n",
              "    .dataframe tbody tr th {\n",
              "        vertical-align: top;\n",
              "    }\n",
              "\n",
              "    .dataframe thead th {\n",
              "        text-align: right;\n",
              "    }\n",
              "</style>\n",
              "<table border=\"1\" class=\"dataframe\">\n",
              "  <thead>\n",
              "    <tr style=\"text-align: right;\">\n",
              "      <th></th>\n",
              "      <th>Unnamed: 0</th>\n",
              "      <th>All_Provider_Count</th>\n",
              "      <th>MaxAdDown</th>\n",
              "      <th>MaxAdUp</th>\n",
              "      <th>Wired_Provider_Count</th>\n",
              "      <th>Satellite_Provider_Count</th>\n",
              "      <th>Fixed_Wireless_Provider_Count</th>\n",
              "      <th>All_Provider_Count_25</th>\n",
              "      <th>All_Provider_Count_100</th>\n",
              "      <th>Fixed_Wireless_Provider_Count_25</th>\n",
              "      <th>...</th>\n",
              "      <th>log_median_income</th>\n",
              "      <th>log_median_house_value</th>\n",
              "      <th>median_income_over_median_rent</th>\n",
              "      <th>median_income_over_median_house_value</th>\n",
              "      <th>pct_of_internet_users_with_broadband</th>\n",
              "      <th>log_median_income_over_log_median_house</th>\n",
              "      <th>pct_desktop_or_laptop</th>\n",
              "      <th>pct_smartphone</th>\n",
              "      <th>pct_only_smartphone</th>\n",
              "      <th>pct_tablet</th>\n",
              "    </tr>\n",
              "    <tr>\n",
              "      <th>tract_geoid</th>\n",
              "      <th></th>\n",
              "      <th></th>\n",
              "      <th></th>\n",
              "      <th></th>\n",
              "      <th></th>\n",
              "      <th></th>\n",
              "      <th></th>\n",
              "      <th></th>\n",
              "      <th></th>\n",
              "      <th></th>\n",
              "      <th></th>\n",
              "      <th></th>\n",
              "      <th></th>\n",
              "      <th></th>\n",
              "      <th></th>\n",
              "      <th></th>\n",
              "      <th></th>\n",
              "      <th></th>\n",
              "      <th></th>\n",
              "      <th></th>\n",
              "      <th></th>\n",
              "    </tr>\n",
              "  </thead>\n",
              "  <tbody>\n",
              "    <tr>\n",
              "      <th>6099000201</th>\n",
              "      <td>0</td>\n",
              "      <td>11</td>\n",
              "      <td>1000.0</td>\n",
              "      <td>1000.0</td>\n",
              "      <td>4.0</td>\n",
              "      <td>4</td>\n",
              "      <td>4.0</td>\n",
              "      <td>7.0</td>\n",
              "      <td>3.0</td>\n",
              "      <td>3.0</td>\n",
              "      <td>...</td>\n",
              "      <td>11.172546</td>\n",
              "      <td>12.667918</td>\n",
              "      <td>59.341118</td>\n",
              "      <td>0.224165</td>\n",
              "      <td>100.000000</td>\n",
              "      <td>0.881956</td>\n",
              "      <td>68.284076</td>\n",
              "      <td>80.811645</td>\n",
              "      <td>14.292016</td>\n",
              "      <td>54.741950</td>\n",
              "    </tr>\n",
              "    <tr>\n",
              "      <th>47125102002</th>\n",
              "      <td>1</td>\n",
              "      <td>7</td>\n",
              "      <td>1000.0</td>\n",
              "      <td>1000.0</td>\n",
              "      <td>3.0</td>\n",
              "      <td>4</td>\n",
              "      <td>0.0</td>\n",
              "      <td>5.0</td>\n",
              "      <td>4.0</td>\n",
              "      <td>0.0</td>\n",
              "      <td>...</td>\n",
              "      <td>11.113224</td>\n",
              "      <td>12.048249</td>\n",
              "      <td>51.697764</td>\n",
              "      <td>0.392576</td>\n",
              "      <td>99.164439</td>\n",
              "      <td>0.922393</td>\n",
              "      <td>96.990074</td>\n",
              "      <td>93.948127</td>\n",
              "      <td>1.953250</td>\n",
              "      <td>79.090618</td>\n",
              "    </tr>\n",
              "    <tr>\n",
              "      <th>22019001300</th>\n",
              "      <td>2</td>\n",
              "      <td>8</td>\n",
              "      <td>1000.0</td>\n",
              "      <td>1000.0</td>\n",
              "      <td>3.0</td>\n",
              "      <td>4</td>\n",
              "      <td>2.0</td>\n",
              "      <td>4.0</td>\n",
              "      <td>2.0</td>\n",
              "      <td>0.0</td>\n",
              "      <td>...</td>\n",
              "      <td>11.162147</td>\n",
              "      <td>12.062779</td>\n",
              "      <td>66.303202</td>\n",
              "      <td>0.406313</td>\n",
              "      <td>100.000000</td>\n",
              "      <td>0.925338</td>\n",
              "      <td>84.889780</td>\n",
              "      <td>85.611222</td>\n",
              "      <td>6.012024</td>\n",
              "      <td>68.777555</td>\n",
              "    </tr>\n",
              "    <tr>\n",
              "      <th>18083955400</th>\n",
              "      <td>3</td>\n",
              "      <td>11</td>\n",
              "      <td>1000.0</td>\n",
              "      <td>1000.0</td>\n",
              "      <td>5.0</td>\n",
              "      <td>4</td>\n",
              "      <td>3.0</td>\n",
              "      <td>6.0</td>\n",
              "      <td>3.0</td>\n",
              "      <td>1.0</td>\n",
              "      <td>...</td>\n",
              "      <td>10.388995</td>\n",
              "      <td>11.202316</td>\n",
              "      <td>50.940439</td>\n",
              "      <td>0.443383</td>\n",
              "      <td>100.000000</td>\n",
              "      <td>0.927397</td>\n",
              "      <td>65.481172</td>\n",
              "      <td>75.418410</td>\n",
              "      <td>10.564854</td>\n",
              "      <td>52.301255</td>\n",
              "    </tr>\n",
              "    <tr>\n",
              "      <th>39085206600</th>\n",
              "      <td>4</td>\n",
              "      <td>7</td>\n",
              "      <td>1000.0</td>\n",
              "      <td>1000.0</td>\n",
              "      <td>3.0</td>\n",
              "      <td>4</td>\n",
              "      <td>0.0</td>\n",
              "      <td>4.0</td>\n",
              "      <td>2.0</td>\n",
              "      <td>0.0</td>\n",
              "      <td>...</td>\n",
              "      <td>10.900178</td>\n",
              "      <td>11.663928</td>\n",
              "      <td>51.507605</td>\n",
              "      <td>0.465916</td>\n",
              "      <td>98.464164</td>\n",
              "      <td>0.934520</td>\n",
              "      <td>74.532020</td>\n",
              "      <td>67.980296</td>\n",
              "      <td>2.463054</td>\n",
              "      <td>52.216749</td>\n",
              "    </tr>\n",
              "  </tbody>\n",
              "</table>\n",
              "<p>5 rows × 203 columns</p>\n",
              "</div>\n",
              "      <button class=\"colab-df-convert\" onclick=\"convertToInteractive('df-3150357a-7aa1-4fb0-8064-124e1dbb8718')\"\n",
              "              title=\"Convert this dataframe to an interactive table.\"\n",
              "              style=\"display:none;\">\n",
              "        \n",
              "  <svg xmlns=\"http://www.w3.org/2000/svg\" height=\"24px\"viewBox=\"0 0 24 24\"\n",
              "       width=\"24px\">\n",
              "    <path d=\"M0 0h24v24H0V0z\" fill=\"none\"/>\n",
              "    <path d=\"M18.56 5.44l.94 2.06.94-2.06 2.06-.94-2.06-.94-.94-2.06-.94 2.06-2.06.94zm-11 1L8.5 8.5l.94-2.06 2.06-.94-2.06-.94L8.5 2.5l-.94 2.06-2.06.94zm10 10l.94 2.06.94-2.06 2.06-.94-2.06-.94-.94-2.06-.94 2.06-2.06.94z\"/><path d=\"M17.41 7.96l-1.37-1.37c-.4-.4-.92-.59-1.43-.59-.52 0-1.04.2-1.43.59L10.3 9.45l-7.72 7.72c-.78.78-.78 2.05 0 2.83L4 21.41c.39.39.9.59 1.41.59.51 0 1.02-.2 1.41-.59l7.78-7.78 2.81-2.81c.8-.78.8-2.07 0-2.86zM5.41 20L4 18.59l7.72-7.72 1.47 1.35L5.41 20z\"/>\n",
              "  </svg>\n",
              "      </button>\n",
              "      \n",
              "  <style>\n",
              "    .colab-df-container {\n",
              "      display:flex;\n",
              "      flex-wrap:wrap;\n",
              "      gap: 12px;\n",
              "    }\n",
              "\n",
              "    .colab-df-convert {\n",
              "      background-color: #E8F0FE;\n",
              "      border: none;\n",
              "      border-radius: 50%;\n",
              "      cursor: pointer;\n",
              "      display: none;\n",
              "      fill: #1967D2;\n",
              "      height: 32px;\n",
              "      padding: 0 0 0 0;\n",
              "      width: 32px;\n",
              "    }\n",
              "\n",
              "    .colab-df-convert:hover {\n",
              "      background-color: #E2EBFA;\n",
              "      box-shadow: 0px 1px 2px rgba(60, 64, 67, 0.3), 0px 1px 3px 1px rgba(60, 64, 67, 0.15);\n",
              "      fill: #174EA6;\n",
              "    }\n",
              "\n",
              "    [theme=dark] .colab-df-convert {\n",
              "      background-color: #3B4455;\n",
              "      fill: #D2E3FC;\n",
              "    }\n",
              "\n",
              "    [theme=dark] .colab-df-convert:hover {\n",
              "      background-color: #434B5C;\n",
              "      box-shadow: 0px 1px 3px 1px rgba(0, 0, 0, 0.15);\n",
              "      filter: drop-shadow(0px 1px 2px rgba(0, 0, 0, 0.3));\n",
              "      fill: #FFFFFF;\n",
              "    }\n",
              "  </style>\n",
              "\n",
              "      <script>\n",
              "        const buttonEl =\n",
              "          document.querySelector('#df-3150357a-7aa1-4fb0-8064-124e1dbb8718 button.colab-df-convert');\n",
              "        buttonEl.style.display =\n",
              "          google.colab.kernel.accessAllowed ? 'block' : 'none';\n",
              "\n",
              "        async function convertToInteractive(key) {\n",
              "          const element = document.querySelector('#df-3150357a-7aa1-4fb0-8064-124e1dbb8718');\n",
              "          const dataTable =\n",
              "            await google.colab.kernel.invokeFunction('convertToInteractive',\n",
              "                                                     [key], {});\n",
              "          if (!dataTable) return;\n",
              "\n",
              "          const docLinkHtml = 'Like what you see? Visit the ' +\n",
              "            '<a target=\"_blank\" href=https://colab.research.google.com/notebooks/data_table.ipynb>data table notebook</a>'\n",
              "            + ' to learn more about interactive tables.';\n",
              "          element.innerHTML = '';\n",
              "          dataTable['output_type'] = 'display_data';\n",
              "          await google.colab.output.renderOutput(dataTable, element);\n",
              "          const docLink = document.createElement('div');\n",
              "          docLink.innerHTML = docLinkHtml;\n",
              "          element.appendChild(docLink);\n",
              "        }\n",
              "      </script>\n",
              "    </div>\n",
              "  </div>\n",
              "  "
            ]
          },
          "metadata": {},
          "execution_count": 6
        }
      ],
      "source": [
        "df_broadband_tr.head()"
      ]
    },
    {
      "cell_type": "code",
      "execution_count": null,
      "metadata": {
        "colab": {
          "base_uri": "https://localhost:8080/"
        },
        "id": "UPVLpuRVbJ0-",
        "outputId": "3298e049-2d0d-4dc7-a2ba-a3d9a98b04b7"
      },
      "outputs": [
        {
          "output_type": "execute_result",
          "data": {
            "text/plain": [
              "(55826, 203)"
            ]
          },
          "metadata": {},
          "execution_count": 7
        }
      ],
      "source": [
        "df_broadband_tr.shape\n"
      ]
    },
    {
      "cell_type": "code",
      "source": [
        "df_broadband_test.shape"
      ],
      "metadata": {
        "colab": {
          "base_uri": "https://localhost:8080/"
        },
        "id": "s6sqcoKqsBlK",
        "outputId": "a526f515-e117-4508-b7e2-c21e9787af5b"
      },
      "execution_count": null,
      "outputs": [
        {
          "output_type": "execute_result",
          "data": {
            "text/plain": [
              "(13947, 203)"
            ]
          },
          "metadata": {},
          "execution_count": 8
        }
      ]
    },
    {
      "cell_type": "code",
      "execution_count": null,
      "metadata": {
        "colab": {
          "base_uri": "https://localhost:8080/"
        },
        "id": "U6sENte-ubEd",
        "outputId": "79cb2bac-4ed8-43bd-cd76-0caf4208bd98"
      },
      "outputs": [
        {
          "output_type": "execute_result",
          "data": {
            "text/plain": [
              "         Unnamed: 0  All_Provider_Count     MaxAdDown       MaxAdUp  \\\n",
              "count  55826.000000        55826.000000  55826.000000  55826.000000   \n",
              "mean   27912.500000           10.656719    957.897019    629.729030   \n",
              "std    16115.722401            3.058830    152.595259    438.285021   \n",
              "min        0.000000            3.000000      2.000000      0.512000   \n",
              "25%    13956.250000            8.000000    987.000000     50.000000   \n",
              "50%    27912.500000           10.000000   1000.000000    940.000000   \n",
              "75%    41868.750000           12.000000   1000.000000   1000.000000   \n",
              "max    55825.000000           38.000000   1000.000000   1000.000000   \n",
              "\n",
              "       Wired_Provider_Count  Satellite_Provider_Count  \\\n",
              "count          55826.000000              55826.000000   \n",
              "mean               5.527424                  3.996417   \n",
              "std                2.677041                  0.068151   \n",
              "min                0.000000                  2.000000   \n",
              "25%                4.000000                  4.000000   \n",
              "50%                5.000000                  4.000000   \n",
              "75%                7.000000                  4.000000   \n",
              "max               29.000000                  5.000000   \n",
              "\n",
              "       Fixed_Wireless_Provider_Count  All_Provider_Count_25  \\\n",
              "count                   55826.000000           55826.000000   \n",
              "mean                        1.333554               5.085337   \n",
              "std                         1.444999               1.390270   \n",
              "min                         0.000000               0.000000   \n",
              "25%                         0.000000               4.000000   \n",
              "50%                         1.000000               5.000000   \n",
              "75%                         2.000000               6.000000   \n",
              "max                        17.000000              16.000000   \n",
              "\n",
              "       All_Provider_Count_100  Fixed_Wireless_Provider_Count_25  ...  \\\n",
              "count            55826.000000                      55826.000000  ...   \n",
              "mean                 2.999893                          0.655573  ...   \n",
              "std                  1.188782                          0.929290  ...   \n",
              "min                  0.000000                          0.000000  ...   \n",
              "25%                  2.000000                          0.000000  ...   \n",
              "50%                  3.000000                          0.000000  ...   \n",
              "75%                  4.000000                          1.000000  ...   \n",
              "max                 11.000000                          8.000000  ...   \n",
              "\n",
              "       log_median_income  log_median_house_value  \\\n",
              "count       55826.000000            55826.000000   \n",
              "mean           10.999802               12.221700   \n",
              "std             0.461022                0.740413   \n",
              "min             8.325791                9.210240   \n",
              "25%            10.702435               11.704372   \n",
              "50%            10.993580               12.161598   \n",
              "75%            11.302621               12.718597   \n",
              "max            12.429220               14.508658   \n",
              "\n",
              "       median_income_over_median_rent  median_income_over_median_house_value  \\\n",
              "count                    55826.000000                           55826.000000   \n",
              "mean                        60.508040                               0.332359   \n",
              "std                         21.704515                               0.165234   \n",
              "min                          5.894772                               0.014433   \n",
              "25%                         45.899438                               0.222456   \n",
              "50%                         57.336393                               0.321160   \n",
              "75%                         71.797508                               0.417278   \n",
              "max                        707.617647                               5.813081   \n",
              "\n",
              "       pct_of_internet_users_with_broadband  \\\n",
              "count                          55826.000000   \n",
              "mean                              99.516694   \n",
              "std                                0.890079   \n",
              "min                               72.222222   \n",
              "25%                               99.256813   \n",
              "50%                              100.000000   \n",
              "75%                              100.000000   \n",
              "max                              100.000000   \n",
              "\n",
              "       log_median_income_over_log_median_house  pct_desktop_or_laptop  \\\n",
              "count                             55826.000000           55826.000000   \n",
              "mean                                  0.901661              75.911962   \n",
              "std                                   0.037318              14.286054   \n",
              "min                                   0.685061               2.603369   \n",
              "25%                                   0.880425              67.133688   \n",
              "50%                                   0.906645              77.999462   \n",
              "75%                                   0.926328              87.088051   \n",
              "max                                   1.191104             100.000000   \n",
              "\n",
              "       pct_smartphone  pct_only_smartphone    pct_tablet  \n",
              "count    55826.000000         55826.000000  55826.000000  \n",
              "mean        78.749925             7.615102     57.937991  \n",
              "std          9.791230             6.136955     12.524106  \n",
              "min         10.483871             0.000000      6.317411  \n",
              "25%         72.638049             2.963984     49.611084  \n",
              "50%         79.719145             6.208054     58.320951  \n",
              "75%         86.081764            10.781179     67.021646  \n",
              "max        100.000000            45.263560     92.727273  \n",
              "\n",
              "[8 rows x 202 columns]"
            ],
            "text/html": [
              "\n",
              "  <div id=\"df-39b9a691-5058-4e81-9727-12045ca6b167\">\n",
              "    <div class=\"colab-df-container\">\n",
              "      <div>\n",
              "<style scoped>\n",
              "    .dataframe tbody tr th:only-of-type {\n",
              "        vertical-align: middle;\n",
              "    }\n",
              "\n",
              "    .dataframe tbody tr th {\n",
              "        vertical-align: top;\n",
              "    }\n",
              "\n",
              "    .dataframe thead th {\n",
              "        text-align: right;\n",
              "    }\n",
              "</style>\n",
              "<table border=\"1\" class=\"dataframe\">\n",
              "  <thead>\n",
              "    <tr style=\"text-align: right;\">\n",
              "      <th></th>\n",
              "      <th>Unnamed: 0</th>\n",
              "      <th>All_Provider_Count</th>\n",
              "      <th>MaxAdDown</th>\n",
              "      <th>MaxAdUp</th>\n",
              "      <th>Wired_Provider_Count</th>\n",
              "      <th>Satellite_Provider_Count</th>\n",
              "      <th>Fixed_Wireless_Provider_Count</th>\n",
              "      <th>All_Provider_Count_25</th>\n",
              "      <th>All_Provider_Count_100</th>\n",
              "      <th>Fixed_Wireless_Provider_Count_25</th>\n",
              "      <th>...</th>\n",
              "      <th>log_median_income</th>\n",
              "      <th>log_median_house_value</th>\n",
              "      <th>median_income_over_median_rent</th>\n",
              "      <th>median_income_over_median_house_value</th>\n",
              "      <th>pct_of_internet_users_with_broadband</th>\n",
              "      <th>log_median_income_over_log_median_house</th>\n",
              "      <th>pct_desktop_or_laptop</th>\n",
              "      <th>pct_smartphone</th>\n",
              "      <th>pct_only_smartphone</th>\n",
              "      <th>pct_tablet</th>\n",
              "    </tr>\n",
              "  </thead>\n",
              "  <tbody>\n",
              "    <tr>\n",
              "      <th>count</th>\n",
              "      <td>55826.000000</td>\n",
              "      <td>55826.000000</td>\n",
              "      <td>55826.000000</td>\n",
              "      <td>55826.000000</td>\n",
              "      <td>55826.000000</td>\n",
              "      <td>55826.000000</td>\n",
              "      <td>55826.000000</td>\n",
              "      <td>55826.000000</td>\n",
              "      <td>55826.000000</td>\n",
              "      <td>55826.000000</td>\n",
              "      <td>...</td>\n",
              "      <td>55826.000000</td>\n",
              "      <td>55826.000000</td>\n",
              "      <td>55826.000000</td>\n",
              "      <td>55826.000000</td>\n",
              "      <td>55826.000000</td>\n",
              "      <td>55826.000000</td>\n",
              "      <td>55826.000000</td>\n",
              "      <td>55826.000000</td>\n",
              "      <td>55826.000000</td>\n",
              "      <td>55826.000000</td>\n",
              "    </tr>\n",
              "    <tr>\n",
              "      <th>mean</th>\n",
              "      <td>27912.500000</td>\n",
              "      <td>10.656719</td>\n",
              "      <td>957.897019</td>\n",
              "      <td>629.729030</td>\n",
              "      <td>5.527424</td>\n",
              "      <td>3.996417</td>\n",
              "      <td>1.333554</td>\n",
              "      <td>5.085337</td>\n",
              "      <td>2.999893</td>\n",
              "      <td>0.655573</td>\n",
              "      <td>...</td>\n",
              "      <td>10.999802</td>\n",
              "      <td>12.221700</td>\n",
              "      <td>60.508040</td>\n",
              "      <td>0.332359</td>\n",
              "      <td>99.516694</td>\n",
              "      <td>0.901661</td>\n",
              "      <td>75.911962</td>\n",
              "      <td>78.749925</td>\n",
              "      <td>7.615102</td>\n",
              "      <td>57.937991</td>\n",
              "    </tr>\n",
              "    <tr>\n",
              "      <th>std</th>\n",
              "      <td>16115.722401</td>\n",
              "      <td>3.058830</td>\n",
              "      <td>152.595259</td>\n",
              "      <td>438.285021</td>\n",
              "      <td>2.677041</td>\n",
              "      <td>0.068151</td>\n",
              "      <td>1.444999</td>\n",
              "      <td>1.390270</td>\n",
              "      <td>1.188782</td>\n",
              "      <td>0.929290</td>\n",
              "      <td>...</td>\n",
              "      <td>0.461022</td>\n",
              "      <td>0.740413</td>\n",
              "      <td>21.704515</td>\n",
              "      <td>0.165234</td>\n",
              "      <td>0.890079</td>\n",
              "      <td>0.037318</td>\n",
              "      <td>14.286054</td>\n",
              "      <td>9.791230</td>\n",
              "      <td>6.136955</td>\n",
              "      <td>12.524106</td>\n",
              "    </tr>\n",
              "    <tr>\n",
              "      <th>min</th>\n",
              "      <td>0.000000</td>\n",
              "      <td>3.000000</td>\n",
              "      <td>2.000000</td>\n",
              "      <td>0.512000</td>\n",
              "      <td>0.000000</td>\n",
              "      <td>2.000000</td>\n",
              "      <td>0.000000</td>\n",
              "      <td>0.000000</td>\n",
              "      <td>0.000000</td>\n",
              "      <td>0.000000</td>\n",
              "      <td>...</td>\n",
              "      <td>8.325791</td>\n",
              "      <td>9.210240</td>\n",
              "      <td>5.894772</td>\n",
              "      <td>0.014433</td>\n",
              "      <td>72.222222</td>\n",
              "      <td>0.685061</td>\n",
              "      <td>2.603369</td>\n",
              "      <td>10.483871</td>\n",
              "      <td>0.000000</td>\n",
              "      <td>6.317411</td>\n",
              "    </tr>\n",
              "    <tr>\n",
              "      <th>25%</th>\n",
              "      <td>13956.250000</td>\n",
              "      <td>8.000000</td>\n",
              "      <td>987.000000</td>\n",
              "      <td>50.000000</td>\n",
              "      <td>4.000000</td>\n",
              "      <td>4.000000</td>\n",
              "      <td>0.000000</td>\n",
              "      <td>4.000000</td>\n",
              "      <td>2.000000</td>\n",
              "      <td>0.000000</td>\n",
              "      <td>...</td>\n",
              "      <td>10.702435</td>\n",
              "      <td>11.704372</td>\n",
              "      <td>45.899438</td>\n",
              "      <td>0.222456</td>\n",
              "      <td>99.256813</td>\n",
              "      <td>0.880425</td>\n",
              "      <td>67.133688</td>\n",
              "      <td>72.638049</td>\n",
              "      <td>2.963984</td>\n",
              "      <td>49.611084</td>\n",
              "    </tr>\n",
              "    <tr>\n",
              "      <th>50%</th>\n",
              "      <td>27912.500000</td>\n",
              "      <td>10.000000</td>\n",
              "      <td>1000.000000</td>\n",
              "      <td>940.000000</td>\n",
              "      <td>5.000000</td>\n",
              "      <td>4.000000</td>\n",
              "      <td>1.000000</td>\n",
              "      <td>5.000000</td>\n",
              "      <td>3.000000</td>\n",
              "      <td>0.000000</td>\n",
              "      <td>...</td>\n",
              "      <td>10.993580</td>\n",
              "      <td>12.161598</td>\n",
              "      <td>57.336393</td>\n",
              "      <td>0.321160</td>\n",
              "      <td>100.000000</td>\n",
              "      <td>0.906645</td>\n",
              "      <td>77.999462</td>\n",
              "      <td>79.719145</td>\n",
              "      <td>6.208054</td>\n",
              "      <td>58.320951</td>\n",
              "    </tr>\n",
              "    <tr>\n",
              "      <th>75%</th>\n",
              "      <td>41868.750000</td>\n",
              "      <td>12.000000</td>\n",
              "      <td>1000.000000</td>\n",
              "      <td>1000.000000</td>\n",
              "      <td>7.000000</td>\n",
              "      <td>4.000000</td>\n",
              "      <td>2.000000</td>\n",
              "      <td>6.000000</td>\n",
              "      <td>4.000000</td>\n",
              "      <td>1.000000</td>\n",
              "      <td>...</td>\n",
              "      <td>11.302621</td>\n",
              "      <td>12.718597</td>\n",
              "      <td>71.797508</td>\n",
              "      <td>0.417278</td>\n",
              "      <td>100.000000</td>\n",
              "      <td>0.926328</td>\n",
              "      <td>87.088051</td>\n",
              "      <td>86.081764</td>\n",
              "      <td>10.781179</td>\n",
              "      <td>67.021646</td>\n",
              "    </tr>\n",
              "    <tr>\n",
              "      <th>max</th>\n",
              "      <td>55825.000000</td>\n",
              "      <td>38.000000</td>\n",
              "      <td>1000.000000</td>\n",
              "      <td>1000.000000</td>\n",
              "      <td>29.000000</td>\n",
              "      <td>5.000000</td>\n",
              "      <td>17.000000</td>\n",
              "      <td>16.000000</td>\n",
              "      <td>11.000000</td>\n",
              "      <td>8.000000</td>\n",
              "      <td>...</td>\n",
              "      <td>12.429220</td>\n",
              "      <td>14.508658</td>\n",
              "      <td>707.617647</td>\n",
              "      <td>5.813081</td>\n",
              "      <td>100.000000</td>\n",
              "      <td>1.191104</td>\n",
              "      <td>100.000000</td>\n",
              "      <td>100.000000</td>\n",
              "      <td>45.263560</td>\n",
              "      <td>92.727273</td>\n",
              "    </tr>\n",
              "  </tbody>\n",
              "</table>\n",
              "<p>8 rows × 202 columns</p>\n",
              "</div>\n",
              "      <button class=\"colab-df-convert\" onclick=\"convertToInteractive('df-39b9a691-5058-4e81-9727-12045ca6b167')\"\n",
              "              title=\"Convert this dataframe to an interactive table.\"\n",
              "              style=\"display:none;\">\n",
              "        \n",
              "  <svg xmlns=\"http://www.w3.org/2000/svg\" height=\"24px\"viewBox=\"0 0 24 24\"\n",
              "       width=\"24px\">\n",
              "    <path d=\"M0 0h24v24H0V0z\" fill=\"none\"/>\n",
              "    <path d=\"M18.56 5.44l.94 2.06.94-2.06 2.06-.94-2.06-.94-.94-2.06-.94 2.06-2.06.94zm-11 1L8.5 8.5l.94-2.06 2.06-.94-2.06-.94L8.5 2.5l-.94 2.06-2.06.94zm10 10l.94 2.06.94-2.06 2.06-.94-2.06-.94-.94-2.06-.94 2.06-2.06.94z\"/><path d=\"M17.41 7.96l-1.37-1.37c-.4-.4-.92-.59-1.43-.59-.52 0-1.04.2-1.43.59L10.3 9.45l-7.72 7.72c-.78.78-.78 2.05 0 2.83L4 21.41c.39.39.9.59 1.41.59.51 0 1.02-.2 1.41-.59l7.78-7.78 2.81-2.81c.8-.78.8-2.07 0-2.86zM5.41 20L4 18.59l7.72-7.72 1.47 1.35L5.41 20z\"/>\n",
              "  </svg>\n",
              "      </button>\n",
              "      \n",
              "  <style>\n",
              "    .colab-df-container {\n",
              "      display:flex;\n",
              "      flex-wrap:wrap;\n",
              "      gap: 12px;\n",
              "    }\n",
              "\n",
              "    .colab-df-convert {\n",
              "      background-color: #E8F0FE;\n",
              "      border: none;\n",
              "      border-radius: 50%;\n",
              "      cursor: pointer;\n",
              "      display: none;\n",
              "      fill: #1967D2;\n",
              "      height: 32px;\n",
              "      padding: 0 0 0 0;\n",
              "      width: 32px;\n",
              "    }\n",
              "\n",
              "    .colab-df-convert:hover {\n",
              "      background-color: #E2EBFA;\n",
              "      box-shadow: 0px 1px 2px rgba(60, 64, 67, 0.3), 0px 1px 3px 1px rgba(60, 64, 67, 0.15);\n",
              "      fill: #174EA6;\n",
              "    }\n",
              "\n",
              "    [theme=dark] .colab-df-convert {\n",
              "      background-color: #3B4455;\n",
              "      fill: #D2E3FC;\n",
              "    }\n",
              "\n",
              "    [theme=dark] .colab-df-convert:hover {\n",
              "      background-color: #434B5C;\n",
              "      box-shadow: 0px 1px 3px 1px rgba(0, 0, 0, 0.15);\n",
              "      filter: drop-shadow(0px 1px 2px rgba(0, 0, 0, 0.3));\n",
              "      fill: #FFFFFF;\n",
              "    }\n",
              "  </style>\n",
              "\n",
              "      <script>\n",
              "        const buttonEl =\n",
              "          document.querySelector('#df-39b9a691-5058-4e81-9727-12045ca6b167 button.colab-df-convert');\n",
              "        buttonEl.style.display =\n",
              "          google.colab.kernel.accessAllowed ? 'block' : 'none';\n",
              "\n",
              "        async function convertToInteractive(key) {\n",
              "          const element = document.querySelector('#df-39b9a691-5058-4e81-9727-12045ca6b167');\n",
              "          const dataTable =\n",
              "            await google.colab.kernel.invokeFunction('convertToInteractive',\n",
              "                                                     [key], {});\n",
              "          if (!dataTable) return;\n",
              "\n",
              "          const docLinkHtml = 'Like what you see? Visit the ' +\n",
              "            '<a target=\"_blank\" href=https://colab.research.google.com/notebooks/data_table.ipynb>data table notebook</a>'\n",
              "            + ' to learn more about interactive tables.';\n",
              "          element.innerHTML = '';\n",
              "          dataTable['output_type'] = 'display_data';\n",
              "          await google.colab.output.renderOutput(dataTable, element);\n",
              "          const docLink = document.createElement('div');\n",
              "          docLink.innerHTML = docLinkHtml;\n",
              "          element.appendChild(docLink);\n",
              "        }\n",
              "      </script>\n",
              "    </div>\n",
              "  </div>\n",
              "  "
            ]
          },
          "metadata": {},
          "execution_count": 9
        }
      ],
      "source": [
        "df_broadband_tr.describe()"
      ]
    },
    {
      "cell_type": "code",
      "execution_count": null,
      "metadata": {
        "colab": {
          "base_uri": "https://localhost:8080/"
        },
        "id": "SjZxjEWIua92",
        "outputId": "aec1ad31-9609-48e4-b2bb-930824b9eac0"
      },
      "outputs": [
        {
          "output_type": "stream",
          "name": "stdout",
          "text": [
            "<class 'pandas.core.frame.DataFrame'>\n",
            "Int64Index: 55826 entries, 6099000201 to 26125131800\n",
            "Columns: 203 entries, Unnamed: 0 to pct_tablet\n",
            "dtypes: float64(130), int64(72), object(1)\n",
            "memory usage: 86.9+ MB\n"
          ]
        }
      ],
      "source": [
        "df_broadband_tr.info()"
      ]
    },
    {
      "cell_type": "markdown",
      "source": [
        "### Broadband Variables exploration"
      ],
      "metadata": {
        "id": "En8NpZKzXOlk"
      }
    },
    {
      "cell_type": "code",
      "source": [
        "broadband_vars = ['MaxAdDown',\n",
        "                 'MaxAdUp',\n",
        "                 'Wired_Provider_Count',\n",
        "                 'Satellite_Provider_Count',\n",
        "                 'Fixed_Wireless_Provider_Count',\n",
        "                 'All_Provider_Count_25',\n",
        "                 'All_Provider_Count_100',\n",
        "                 'Fixed_Wireless_Provider_Count_25',\n",
        "                 'Wired_Provider_Count_25',\n",
        "                 'Satellite_Provider_Count_25',\n",
        "                 'Fixed_Wireless_Provider_Count_100',\n",
        "                 'Wired_Provider_Count_100',\n",
        "                 'Satellite_Provider_Count_100',\n",
        "                 'pct_internet',\n",
        "                 'pct_internet_dial_up',\n",
        "                 'pct_internet_broadband_any_type',\n",
        "                 'pct_internet_cellular',\n",
        "                 'pct_only_cellular',\n",
        "                 'pct_internet_broadband_fiber',\n",
        "                 'pct_internet_broadband_satellite',\n",
        "                 'pct_internet_only_satellite',\n",
        "                 'pct_internet_other',\n",
        "                 'pct_internet_no_subscrp',\n",
        "                 'pct_internet_none',\n",
        "                 'pct_computer',\n",
        "                 'pct_computer_with_dialup',\n",
        "                 'pct_computer_with_broadband',\n",
        "                 'pct_computer_no_internet',\n",
        "                 'pct_no_computer',\n",
        "                 'Form 477 All Terrestrial Broadband: Max Advertised Consumer Download Speed (Mbps)',\n",
        "                 'Form 477 All Terrestrial Broadband: Max Advertised Consumer Upload Speed (Mbps)',\n",
        "                 'Ookla Median Download Speed (Mbps)',\n",
        "                 'Ookla Median Upload Speed (Mbps)',\n",
        "                 '0_5_providers',\n",
        "                 '6_10_providers',\n",
        "                 '11_15_providers',\n",
        "                 '16_20_providers',\n",
        "                 '20+_providers',\n",
        "                 '0_25_MaxAdDown',\n",
        "                 '25_99_MaxAdDown',\n",
        "                 '99_499_MaxAdDown',\n",
        "                 '499_inf_MaxAdDown',\n",
        "                 '0_25_Ookla Median Download Speed (Mbps)',\n",
        "                 '25_99_Ookla Median Download Speed (Mbps)',\n",
        "                 '99_499_Ookla Median Download Speed (Mbps)',\n",
        "                 '499_inf_Ookla Median Download Speed (Mbps)',\n",
        "                 '0_25_Form 477 All Terrestrial Broadband: Max Advertised Consumer Download Speed (Mbps)',\n",
        "                 '25_99_Form 477 All Terrestrial Broadband: Max Advertised Consumer Download Speed (Mbps)',\n",
        "                 '99_499_Form 477 All Terrestrial Broadband: Max Advertised Consumer Download Speed (Mbps)',\n",
        "                 '499_inf_Form 477 All Terrestrial Broadband: Max Advertised Consumer Download Speed (Mbps)',\n",
        "                 'single_provider',\n",
        "                 'SE',\n",
        "                 'INFA',\n",
        "                 'DDI',\n",
        "                 'ruca_metro',\n",
        "                 'ruca_micro',\n",
        "                 'ruca_small_town',\n",
        "                 'ruca_rural',\n",
        "                 'Comcast_present',\n",
        "                 'ATT_present',\n",
        "                 'HughesNet_present',\n",
        "                 'GCI_Comm_Corp_present',\n",
        "                 'ViaSat_present',\n",
        "                 'VSAT_present',\n",
        "                 'Century_Link_present',\n",
        "                 'Spectrum_present',\n",
        "                 'Crown_Castle_present',\n",
        "                 'Etheric_present',\n",
        "                 'Frontier_Communications_present']"
      ],
      "metadata": {
        "id": "A5TIu8wJJpBJ"
      },
      "execution_count": null,
      "outputs": []
    },
    {
      "cell_type": "code",
      "execution_count": null,
      "metadata": {
        "colab": {
          "base_uri": "https://localhost:8080/"
        },
        "id": "NMGlRvqAeiqy",
        "outputId": "6d196900-c74d-4fb0-c8f3-06f57af626a8"
      },
      "outputs": [
        {
          "output_type": "execute_result",
          "data": {
            "text/plain": [
              "['MaxAdDown',\n",
              " 'MaxAdUp',\n",
              " 'Wired_Provider_Count',\n",
              " 'Fixed_Wireless_Provider_Count',\n",
              " 'All_Provider_Count_25',\n",
              " 'All_Provider_Count_100',\n",
              " 'Fixed_Wireless_Provider_Count_25',\n",
              " 'Wired_Provider_Count_25',\n",
              " 'Satellite_Provider_Count_25',\n",
              " 'Fixed_Wireless_Provider_Count_100',\n",
              " 'Wired_Provider_Count_100',\n",
              " 'Satellite_Provider_Count_100',\n",
              " 'median_age_overall',\n",
              " 'median_age_male',\n",
              " 'median_age_female',\n",
              " 'state',\n",
              " 'county',\n",
              " 'tract',\n",
              " 'employment_rate',\n",
              " 'median_income',\n",
              " 'total_households',\n",
              " 'ave_household_size',\n",
              " 'ave_family_size',\n",
              " 'pct_health_ins_children',\n",
              " 'pct_health_ins_19_64',\n",
              " 'pct_health_ins_65+',\n",
              " 'total_population',\n",
              " 'median_house_value',\n",
              " 'pct_white',\n",
              " 'pct_hisp_latino',\n",
              " 'pct_black',\n",
              " 'pct_native',\n",
              " 'pct_asian',\n",
              " 'pct_hi_pi',\n",
              " 'pct_other_race',\n",
              " 'pct_two+_race',\n",
              " 'pct_rent_burdened',\n",
              " 'poverty_rate',\n",
              " 'pct_pop_bachelors+',\n",
              " 'pct_pop_hs+',\n",
              " 'pct_internet',\n",
              " 'pct_internet_dial_up',\n",
              " 'pct_internet_broadband_any_type',\n",
              " 'pct_internet_cellular',\n",
              " 'pct_only_cellular',\n",
              " 'pct_internet_broadband_fiber',\n",
              " 'pct_internet_broadband_satellite',\n",
              " 'pct_internet_only_satellite',\n",
              " 'pct_internet_other',\n",
              " 'pct_internet_no_subscrp',\n",
              " 'pct_internet_none',\n",
              " 'pct_computing_device',\n",
              " 'pct_computing_device_with_dialup',\n",
              " 'pct_computing_device_with_broadband',\n",
              " 'pct_computing_device_no_internet',\n",
              " 'pct_no_computing_device',\n",
              " 'ALAND_SQMI',\n",
              " 'AWATER_SQMI',\n",
              " 'population_density',\n",
              " 'pct_pop_ged',\n",
              " 'pct_pop_some_college',\n",
              " 'pct_pop_associates',\n",
              " 'pct_pop_ssi_households',\n",
              " 'pct_pop_lt_10k',\n",
              " 'pct_pop_10k_thru_15k',\n",
              " 'pct_pop_15k_thru_20k',\n",
              " 'pct_pop_20k_thru_25k',\n",
              " 'pct_pop_25k_thru_30k',\n",
              " 'pct_pop_30k_thru_35k',\n",
              " 'pct_pop_35k_thru_40k',\n",
              " 'pct_pop_40k_thru_45k',\n",
              " 'pct_pop_45k_thru_50k',\n",
              " 'pct_pop_50k_thru_60k',\n",
              " 'pct_pop_60k_thru_75k',\n",
              " 'pct_pop_75k_thru_100k',\n",
              " 'pct_pop_100k_thru_125k',\n",
              " 'pct_pop_125k_thru_150k',\n",
              " 'pct_pop_150k_thru_200k',\n",
              " 'pct_pop_gt_200k',\n",
              " 'pct_pop_lt_5',\n",
              " 'pct_pop_5_to_9',\n",
              " 'pct_pop_10_to_14',\n",
              " 'pct_pop_15_to_19',\n",
              " 'pct_pop_20_to_24',\n",
              " 'pct_pop_25_to_29',\n",
              " 'pct_pop_30_to_34',\n",
              " 'pct_pop_35_to_39',\n",
              " 'pct_pop_40_to_44',\n",
              " 'pct_pop_45_to_49',\n",
              " 'pct_pop_50_to_54',\n",
              " 'pct_pop_55_to_59',\n",
              " 'pct_pop_60_to_64',\n",
              " 'pct_pop_65_to_69',\n",
              " 'pct_pop_70_to_74',\n",
              " 'pct_pop_75_to_79',\n",
              " 'pct_pop_80_to_84',\n",
              " 'pct_pop_gt_85',\n",
              " 'pct_pop_disability',\n",
              " 'pct_pop_households_with_kids',\n",
              " 'pct_pop_foreign_born',\n",
              " 'Form 477 All Terrestrial Broadband: Max Advertised Consumer Download Speed (Mbps)',\n",
              " 'Form 477 All Terrestrial Broadband: Max Advertised Consumer Upload Speed (Mbps)',\n",
              " 'Ookla Median Download Speed (Mbps)',\n",
              " 'Ookla Median Upload Speed (Mbps)',\n",
              " 'Primary RUCA Code 2010',\n",
              " 'Secondary RUCA Code, 2010 (see errata)',\n",
              " 'SE',\n",
              " 'INFA',\n",
              " 'DDI',\n",
              " 'pct_pop_income_lt_50k',\n",
              " 'pct_pop_income_lt_30k',\n",
              " 'pct_pop_income_gt_100k',\n",
              " 'pct_ages_gt_50',\n",
              " 'pct_ages_lt_19',\n",
              " 'pct_pop_paying_lt_15_on_rent',\n",
              " 'pct_pop_paying_15_to_20_on_rent',\n",
              " 'pct_pop_paying_20_to_25_on_rent',\n",
              " 'pct_pop_paying_25_to_30_on_rent',\n",
              " 'pct_pop_paying_30_to_35_on_rent',\n",
              " 'pct_pop_paying__gt_35_on_rent',\n",
              " 'log_median_income',\n",
              " 'log_median_house_value',\n",
              " 'median_income_over_median_rent',\n",
              " 'median_income_over_median_house_value',\n",
              " 'pct_of_internet_users_with_broadband',\n",
              " 'log_median_income_over_log_median_house',\n",
              " 'pct_desktop_or_laptop',\n",
              " 'pct_smartphone',\n",
              " 'pct_only_smartphone',\n",
              " 'pct_tablet']"
            ]
          },
          "metadata": {},
          "execution_count": 12
        }
      ],
      "source": [
        "## get a list of numerical feature\n",
        "numeric_feats = df_broadband_tr.dtypes[df_broadband_tr.dtypes == \"float64\"].index.values.tolist()\n",
        "numeric_feats"
      ]
    },
    {
      "cell_type": "code",
      "execution_count": null,
      "metadata": {
        "colab": {
          "base_uri": "https://localhost:8080/"
        },
        "id": "fTgKIO2NOvao",
        "outputId": "a4ad9f09-9523-4c5a-e014-fa14e05000b2"
      },
      "outputs": [
        {
          "output_type": "execute_result",
          "data": {
            "text/plain": [
              "['Unnamed: 0',\n",
              " 'All_Provider_Count',\n",
              " 'Satellite_Provider_Count',\n",
              " 'NAME',\n",
              " 'ALAND',\n",
              " 'AWATER',\n",
              " '0_5_providers',\n",
              " '6_10_providers',\n",
              " '11_15_providers',\n",
              " '16_20_providers',\n",
              " '20+_providers',\n",
              " '0_25_MaxAdDown',\n",
              " '25_99_MaxAdDown',\n",
              " '99_499_MaxAdDown',\n",
              " '499_inf_MaxAdDown',\n",
              " '0_25_Ookla Median Download Speed (Mbps)',\n",
              " '25_99_Ookla Median Download Speed (Mbps)',\n",
              " '99_499_Ookla Median Download Speed (Mbps)',\n",
              " '499_inf_Ookla Median Download Speed (Mbps)',\n",
              " '0_25_Form 477 All Terrestrial Broadband: Max Advertised Consumer Download Speed (Mbps)',\n",
              " '25_99_Form 477 All Terrestrial Broadband: Max Advertised Consumer Download Speed (Mbps)',\n",
              " '99_499_Form 477 All Terrestrial Broadband: Max Advertised Consumer Download Speed (Mbps)',\n",
              " '499_inf_Form 477 All Terrestrial Broadband: Max Advertised Consumer Download Speed (Mbps)',\n",
              " 'single_provider',\n",
              " 'Primary RUCA Code - 1.0',\n",
              " 'Primary RUCA Code - 2.0',\n",
              " 'Primary RUCA Code - 4.0',\n",
              " 'Primary RUCA Code - 10.0',\n",
              " 'Primary RUCA Code - 7.0',\n",
              " 'Primary RUCA Code - 5.0',\n",
              " 'Primary RUCA Code - 8.0',\n",
              " 'Primary RUCA Code - 3.0',\n",
              " 'Primary RUCA Code - 6.0',\n",
              " 'Primary RUCA Code - 9.0',\n",
              " 'Primary RUCA Code - 99.0',\n",
              " 'Secondary RUCA Code - 1.0',\n",
              " 'Secondary RUCA Code - 2.0',\n",
              " 'Secondary RUCA Code - 4.0',\n",
              " 'Secondary RUCA Code - 10.0',\n",
              " 'Secondary RUCA Code - 7.0',\n",
              " 'Secondary RUCA Code - 5.0',\n",
              " 'Secondary RUCA Code - 1.1',\n",
              " 'Secondary RUCA Code - 8.0',\n",
              " 'Secondary RUCA Code - 3.0',\n",
              " 'Secondary RUCA Code - 6.0',\n",
              " 'Secondary RUCA Code - 9.0',\n",
              " 'Secondary RUCA Code - 4.1',\n",
              " 'Secondary RUCA Code - 99.0',\n",
              " 'Secondary RUCA Code - 7.1',\n",
              " 'Secondary RUCA Code - 10.2',\n",
              " 'Secondary RUCA Code - 2.1',\n",
              " 'Secondary RUCA Code - 10.1',\n",
              " 'Secondary RUCA Code - 10.3',\n",
              " 'Secondary RUCA Code - 7.2',\n",
              " 'Secondary RUCA Code - 5.1',\n",
              " 'Secondary RUCA Code - 8.1',\n",
              " 'Secondary RUCA Code - 8.2',\n",
              " 'ruca_metro',\n",
              " 'ruca_micro',\n",
              " 'ruca_small_town',\n",
              " 'ruca_rural',\n",
              " 'Comcast_present',\n",
              " 'ATT_present',\n",
              " 'HughesNet_present',\n",
              " 'GCI_Comm_Corp_present',\n",
              " 'ViaSat_present',\n",
              " 'VSAT_present',\n",
              " 'Century_Link_present',\n",
              " 'Spectrum_present',\n",
              " 'Crown_Castle_present',\n",
              " 'Etheric_present',\n",
              " 'Frontier_Communications_present',\n",
              " 'median_rent']"
            ]
          },
          "metadata": {},
          "execution_count": 13
        }
      ],
      "source": [
        "other_feats = df_broadband_tr.dtypes[df_broadband_tr.dtypes != \"float64\"].index.values.tolist()\n",
        "other_feats"
      ]
    },
    {
      "cell_type": "markdown",
      "metadata": {
        "id": "XI0nMC9abT2o"
      },
      "source": [
        "### Train test split\n",
        "linear regression on target variable = pct of high school degree + "
      ]
    },
    {
      "cell_type": "code",
      "execution_count": null,
      "metadata": {
        "id": "cnCiTnsibl01"
      },
      "outputs": [],
      "source": [
        "##drop some variables that are not numerical, highly correlated to dependent varible (bachelors degree)\n",
        "\n",
        "to_drop = ['pct_pop_hs+','pct_pop_bachelors+', 'NAME','DDI','INFA','SE',\n",
        "           'pct_pop_some_college','pct_internet_none', 'pct_pop_associates', 'pct_pop_ged'\t]\n",
        "target = ['pct_pop_hs+']\n",
        "\n",
        "X = df_broadband_tr.drop(to_drop, axis = 'columns', inplace=False)\n",
        "y = df_broadband_tr[target]\n",
        "\n",
        "##split into train and test 80/20 random split\n",
        "from sklearn.model_selection import train_test_split\n",
        "X_train_all, X_test_all, y_train_all, y_test_all = train_test_split(X, y, test_size = 0.2, random_state = 0)"
      ]
    },
    {
      "cell_type": "code",
      "execution_count": null,
      "metadata": {
        "id": "Nz6nm57Gb6xn"
      },
      "outputs": [],
      "source": [
        "# from sklearn.preprocessing import StandardScaler\n",
        "\n",
        "# sc = StandardScaler()\n",
        "# X_train = sc.fit_transform(X_train)\n",
        "# X_test = sc.transform(X_test)"
      ]
    },
    {
      "cell_type": "code",
      "execution_count": null,
      "metadata": {
        "colab": {
          "base_uri": "https://localhost:8080/"
        },
        "id": "swbtyDXhcO6-",
        "outputId": "61bd6ba7-7311-4b2a-8427-d1641a968a6b"
      },
      "outputs": [
        {
          "output_type": "execute_result",
          "data": {
            "text/plain": [
              "(44660, 193)"
            ]
          },
          "metadata": {},
          "execution_count": 16
        }
      ],
      "source": [
        "X_train_all.shape"
      ]
    },
    {
      "cell_type": "markdown",
      "source": [
        "### Broadband Variables Set 1&2"
      ],
      "metadata": {
        "id": "NCK6Jcq9Cn5L"
      }
    },
    {
      "cell_type": "code",
      "source": [
        "br_important_vars = ['pct_internet',\n",
        "'pct_only_cellular',\n",
        "'pct_computing_device_no_internet',\n",
        "'pct_internet_broadband_satellite',\n",
        "'pct_computing_device_with_broadband']\n"
      ],
      "metadata": {
        "id": "GI7OjhnigbsJ"
      },
      "execution_count": null,
      "outputs": []
    },
    {
      "cell_type": "code",
      "source": [
        "br_interest_vars = ['pct_internet',\n",
        "  'All_Provider_Count_25',\n",
        "  'All_Provider_Count_100',\n",
        "  'Ookla Median Download Speed (Mbps)',\n",
        "  'pct_computing_device',\n",
        "  'pct_internet_broadband_any_type',\n",
        "  'pct_computing_device_with_broadband']\n"
      ],
      "metadata": {
        "id": "Ca6GkWmBtzvs"
      },
      "execution_count": null,
      "outputs": []
    },
    {
      "cell_type": "code",
      "source": [
        "important_cov = ['log_median_income', \n",
        "                 'ruca_metro',\n",
        "                 'ruca_rural',\n",
        "                 'log_median_income_over_log_median_house',\n",
        "                 'pct_pop_foreign_born',\n",
        "                 'pct_pop_disability']"
      ],
      "metadata": {
        "id": "KKae559HSJK_"
      },
      "execution_count": null,
      "outputs": []
    },
    {
      "cell_type": "code",
      "source": [
        "def regression_results(y_test, y_pred):\n",
        "\n",
        "    # Regression metrics\n",
        "    explained_variance=metrics.explained_variance_score(y_test, y_pred)\n",
        "    mae=metrics.mean_absolute_error(y_test, y_pred) \n",
        "    mse=metrics.mean_squared_error(y_test, y_pred) \n",
        "    r2=metrics.r2_score(y_test, y_pred)\n",
        "    adj_r2 = 1 - ( 1-r2 ) * ( len(y_test) - 1 ) / ( len(y_test) - X.shape[1] - 1 )\n",
        "\n",
        "\n",
        "    print(\"The model performance for testing set\")\n",
        "    print(\"--------------------------------------\")\n",
        "    print('MAE is {}'.format(mae))\n",
        "    print('MSE is {}'.format(mse))\n",
        "    print('RMSE is {}'.format(mse**(1/2.0)))\n",
        "    print('R2 score is {}'.format(r2))\n",
        "    print('Adj R2 score is {}'.format(adj_r2))"
      ],
      "metadata": {
        "id": "IlsV9ZfYPpGH"
      },
      "execution_count": null,
      "outputs": []
    },
    {
      "cell_type": "markdown",
      "source": [
        "### Baseline Model - log(median income)"
      ],
      "metadata": {
        "id": "62Ni5T55JwFW"
      }
    },
    {
      "cell_type": "code",
      "source": [
        "#limit the dataset to only log(median income)\n",
        "\n",
        "ind_var = ['log_median_income']\n",
        "target = ['pct_pop_hs+']\n",
        "\n",
        "X_train = X_train_all[ind_var]\n",
        "X_test = X_test_all[ind_var]\n",
        "y_train = y_train_all[target]\n",
        "y_test = y_test_all[target]\n"
      ],
      "metadata": {
        "id": "PDIUQTaDNSKY"
      },
      "execution_count": null,
      "outputs": []
    },
    {
      "cell_type": "code",
      "source": [
        "## linear regression model using sklearn\n",
        "lr = LinearRegression()\n",
        "lr.fit(X_train, y_train)\n",
        "## predict on x test \n",
        "y_pred = lr.predict(X_test)"
      ],
      "metadata": {
        "id": "CKyO0z1rK963"
      },
      "execution_count": null,
      "outputs": []
    },
    {
      "cell_type": "code",
      "source": [
        "# model evaluation for testing set\n",
        "regression_results(y_test, y_pred)"
      ],
      "metadata": {
        "colab": {
          "base_uri": "https://localhost:8080/"
        },
        "id": "cb3Q4PGZPD6l",
        "outputId": "6767cd54-abb6-4492-9749-f88baeed75e6"
      },
      "execution_count": null,
      "outputs": [
        {
          "output_type": "stream",
          "name": "stdout",
          "text": [
            "The model performance for testing set\n",
            "--------------------------------------\n",
            "MAE is 8.94802099331186\n",
            "MSE is 132.4111115283205\n",
            "RMSE is 11.507002716968502\n",
            "R2 score is 0.4630529011595057\n",
            "Adj R2 score is 0.4536078783672878\n"
          ]
        }
      ]
    },
    {
      "cell_type": "markdown",
      "metadata": {
        "id": "tCpr7Bl6LFxD"
      },
      "source": [
        "## Random Forest"
      ]
    },
    {
      "cell_type": "code",
      "source": [
        "top_vars_rf_list = ['pct_desktop_or_laptop', 'ave_household_size', 'pct_pop_gt_200k', 'pct_hisp_latino', 'pct_pop_foreign_born', 'pct_smartphone', 'pct_pop_income_gt_100k', 'pct_white', 'pct_tablet']\n"
      ],
      "metadata": {
        "id": "vP0y5Th_2VyO"
      },
      "execution_count": null,
      "outputs": []
    },
    {
      "cell_type": "markdown",
      "source": [
        "### RF 3: Only the top 10 features + broadband var set 2"
      ],
      "metadata": {
        "id": "lHfKOmmAMs_M"
      }
    },
    {
      "cell_type": "code",
      "source": [
        "#limit the dataset to only the relevant variables\n",
        "\n",
        "ind_var_rf3 = [e for e in top_vars_rf_list if e not in ('pct_pop_hs+','pct_pop_bachelors+')]\n",
        "for word in br_interest_vars:\n",
        "    if word not in ind_var_rf3:\n",
        "        ind_var_rf3.append(word)\n",
        "\n",
        "for word in important_cov:\n",
        "    if word not in ind_var_rf3:\n",
        "        ind_var_rf3.append(word)\n",
        "        \n",
        "target = ['pct_pop_hs+']\n",
        "\n",
        "X_train = X_train_all[ind_var_rf3]\n",
        "X_test = X_test_all[ind_var_rf3]\n",
        "y_train = y_train_all[target]\n",
        "y_test = y_test_all[target]"
      ],
      "metadata": {
        "id": "LSZaJozNO_EO"
      },
      "execution_count": null,
      "outputs": []
    },
    {
      "cell_type": "code",
      "source": [
        "ind_var_rf3 = ['pct_computing_device_with_broadband',\n",
        "               'pct_desktop_or_laptop',\n",
        " 'ave_household_size',\n",
        " 'pct_pop_gt_200k',\n",
        " 'pct_hisp_latino',\n",
        " 'pct_pop_foreign_born',\n",
        " 'pct_smartphone',\n",
        " 'pct_pop_income_gt_100k',\n",
        " 'pct_white',\n",
        " 'pct_tablet',\n",
        " 'pct_internet',\n",
        " 'All_Provider_Count_25',\n",
        " 'All_Provider_Count_100',\n",
        " 'Ookla Median Download Speed (Mbps)',\n",
        " 'pct_computing_device',\n",
        " 'pct_internet_broadband_any_type',\n",
        " 'log_median_income',\n",
        " 'ruca_metro',\n",
        " 'ruca_rural',\n",
        " 'log_median_income_over_log_median_house',\n",
        " 'pct_pop_disability']"
      ],
      "metadata": {
        "id": "HXxtyit2PPP8"
      },
      "execution_count": null,
      "outputs": []
    },
    {
      "cell_type": "code",
      "source": [
        "# Fitting Random Forest Regression to the dataset\n",
        "\n",
        "# create regressor object\n",
        "rf_rg3 = RandomForestRegressor(n_estimators = 100, random_state = 0)\n",
        "\n",
        "# fit the regressor with x and y data\n",
        "rf_rg3.fit(X_train, y_train)\n"
      ],
      "metadata": {
        "id": "ayDzllSrPIQQ",
        "colab": {
          "base_uri": "https://localhost:8080/"
        },
        "outputId": "b20c5d0e-8335-4149-ddea-1b53d1e524c1"
      },
      "execution_count": null,
      "outputs": [
        {
          "output_type": "stream",
          "name": "stderr",
          "text": [
            "/usr/local/lib/python3.7/dist-packages/ipykernel_launcher.py:7: DataConversionWarning: A column-vector y was passed when a 1d array was expected. Please change the shape of y to (n_samples,), for example using ravel().\n",
            "  import sys\n"
          ]
        },
        {
          "output_type": "execute_result",
          "data": {
            "text/plain": [
              "RandomForestRegressor(random_state=0)"
            ]
          },
          "metadata": {},
          "execution_count": 48
        }
      ]
    },
    {
      "cell_type": "code",
      "source": [
        "y_pred = rf_rg3.predict(X_test)\n",
        "y_pred"
      ],
      "metadata": {
        "id": "4DUSwLGUPVLh",
        "colab": {
          "base_uri": "https://localhost:8080/"
        },
        "outputId": "f64b5142-ccc6-4b91-d34b-a80dc6cbb789"
      },
      "execution_count": null,
      "outputs": [
        {
          "output_type": "execute_result",
          "data": {
            "text/plain": [
              "array([56.95991672, 49.74765692, 58.32592158, ..., 49.33944684,\n",
              "       49.73025475, 55.24699112])"
            ]
          },
          "metadata": {},
          "execution_count": 49
        }
      ]
    },
    {
      "cell_type": "code",
      "source": [
        "# model evaluation for testing set\n",
        "regression_results(y_test, y_pred)"
      ],
      "metadata": {
        "id": "dH9Wa_42PXnk",
        "colab": {
          "base_uri": "https://localhost:8080/"
        },
        "outputId": "4900226f-ca44-4e66-fa4d-ddecf7576f78"
      },
      "execution_count": null,
      "outputs": [
        {
          "output_type": "stream",
          "name": "stdout",
          "text": [
            "The model performance for testing set\n",
            "--------------------------------------\n",
            "MAE is 4.98743956020404\n",
            "MSE is 40.46575543513253\n",
            "RMSE is 6.361269954587097\n",
            "R2 score is 0.8359052368604569\n",
            "Adj R2 score is 0.8330187722882794\n"
          ]
        }
      ]
    },
    {
      "cell_type": "code",
      "source": [
        "top_vars_rf3 = (pd.Series(rf_rg3.feature_importances_, index=X_test.columns).nlargest(25)[:-1])\n",
        "print(top_vars_rf3)"
      ],
      "metadata": {
        "colab": {
          "base_uri": "https://localhost:8080/"
        },
        "id": "ywn-4yZIvgUi",
        "outputId": "ff2fdb06-ef3f-4a30-e54f-c6df909591dc"
      },
      "execution_count": null,
      "outputs": [
        {
          "output_type": "stream",
          "name": "stdout",
          "text": [
            "pct_desktop_or_laptop                      0.597771\n",
            "ave_household_size                         0.102054\n",
            "pct_pop_gt_200k                            0.080649\n",
            "pct_hisp_latino                            0.042841\n",
            "pct_smartphone                             0.021825\n",
            "pct_pop_foreign_born                       0.020280\n",
            "pct_white                                  0.016959\n",
            "pct_pop_income_gt_100k                     0.015590\n",
            "pct_pop_disability                         0.015178\n",
            "log_median_income_over_log_median_house    0.014776\n",
            "pct_tablet                                 0.014703\n",
            "log_median_income                          0.013157\n",
            "Ookla Median Download Speed (Mbps)         0.010434\n",
            "pct_computing_device                       0.009465\n",
            "pct_computing_device_with_broadband        0.006113\n",
            "pct_internet                               0.005207\n",
            "pct_internet_broadband_any_type            0.004821\n",
            "All_Provider_Count_25                      0.003662\n",
            "All_Provider_Count_100                     0.003489\n",
            "ruca_metro                                 0.000743\n",
            "dtype: float64\n"
          ]
        }
      ]
    },
    {
      "cell_type": "code",
      "source": [
        "pd.DataFrame({'Variables':top_vars_rf3.index, 'Importance':top_vars_rf3.values})\n"
      ],
      "metadata": {
        "colab": {
          "base_uri": "https://localhost:8080/",
          "height": 676
        },
        "id": "XIB-OXg_wYlV",
        "outputId": "4db89a80-1c77-482e-c366-8aacdd708ae6"
      },
      "execution_count": null,
      "outputs": [
        {
          "output_type": "execute_result",
          "data": {
            "text/plain": [
              "                                  Variables  Importance\n",
              "0                     pct_desktop_or_laptop    0.597771\n",
              "1                        ave_household_size    0.102054\n",
              "2                           pct_pop_gt_200k    0.080649\n",
              "3                           pct_hisp_latino    0.042841\n",
              "4                            pct_smartphone    0.021825\n",
              "5                      pct_pop_foreign_born    0.020280\n",
              "6                                 pct_white    0.016959\n",
              "7                    pct_pop_income_gt_100k    0.015590\n",
              "8                        pct_pop_disability    0.015178\n",
              "9   log_median_income_over_log_median_house    0.014776\n",
              "10                               pct_tablet    0.014703\n",
              "11                        log_median_income    0.013157\n",
              "12       Ookla Median Download Speed (Mbps)    0.010434\n",
              "13                     pct_computing_device    0.009465\n",
              "14      pct_computing_device_with_broadband    0.006113\n",
              "15                             pct_internet    0.005207\n",
              "16          pct_internet_broadband_any_type    0.004821\n",
              "17                    All_Provider_Count_25    0.003662\n",
              "18                   All_Provider_Count_100    0.003489\n",
              "19                               ruca_metro    0.000743"
            ],
            "text/html": [
              "\n",
              "  <div id=\"df-9bca8ebf-abd1-4c3a-9409-30497bd9ee3e\">\n",
              "    <div class=\"colab-df-container\">\n",
              "      <div>\n",
              "<style scoped>\n",
              "    .dataframe tbody tr th:only-of-type {\n",
              "        vertical-align: middle;\n",
              "    }\n",
              "\n",
              "    .dataframe tbody tr th {\n",
              "        vertical-align: top;\n",
              "    }\n",
              "\n",
              "    .dataframe thead th {\n",
              "        text-align: right;\n",
              "    }\n",
              "</style>\n",
              "<table border=\"1\" class=\"dataframe\">\n",
              "  <thead>\n",
              "    <tr style=\"text-align: right;\">\n",
              "      <th></th>\n",
              "      <th>Variables</th>\n",
              "      <th>Importance</th>\n",
              "    </tr>\n",
              "  </thead>\n",
              "  <tbody>\n",
              "    <tr>\n",
              "      <th>0</th>\n",
              "      <td>pct_desktop_or_laptop</td>\n",
              "      <td>0.597771</td>\n",
              "    </tr>\n",
              "    <tr>\n",
              "      <th>1</th>\n",
              "      <td>ave_household_size</td>\n",
              "      <td>0.102054</td>\n",
              "    </tr>\n",
              "    <tr>\n",
              "      <th>2</th>\n",
              "      <td>pct_pop_gt_200k</td>\n",
              "      <td>0.080649</td>\n",
              "    </tr>\n",
              "    <tr>\n",
              "      <th>3</th>\n",
              "      <td>pct_hisp_latino</td>\n",
              "      <td>0.042841</td>\n",
              "    </tr>\n",
              "    <tr>\n",
              "      <th>4</th>\n",
              "      <td>pct_smartphone</td>\n",
              "      <td>0.021825</td>\n",
              "    </tr>\n",
              "    <tr>\n",
              "      <th>5</th>\n",
              "      <td>pct_pop_foreign_born</td>\n",
              "      <td>0.020280</td>\n",
              "    </tr>\n",
              "    <tr>\n",
              "      <th>6</th>\n",
              "      <td>pct_white</td>\n",
              "      <td>0.016959</td>\n",
              "    </tr>\n",
              "    <tr>\n",
              "      <th>7</th>\n",
              "      <td>pct_pop_income_gt_100k</td>\n",
              "      <td>0.015590</td>\n",
              "    </tr>\n",
              "    <tr>\n",
              "      <th>8</th>\n",
              "      <td>pct_pop_disability</td>\n",
              "      <td>0.015178</td>\n",
              "    </tr>\n",
              "    <tr>\n",
              "      <th>9</th>\n",
              "      <td>log_median_income_over_log_median_house</td>\n",
              "      <td>0.014776</td>\n",
              "    </tr>\n",
              "    <tr>\n",
              "      <th>10</th>\n",
              "      <td>pct_tablet</td>\n",
              "      <td>0.014703</td>\n",
              "    </tr>\n",
              "    <tr>\n",
              "      <th>11</th>\n",
              "      <td>log_median_income</td>\n",
              "      <td>0.013157</td>\n",
              "    </tr>\n",
              "    <tr>\n",
              "      <th>12</th>\n",
              "      <td>Ookla Median Download Speed (Mbps)</td>\n",
              "      <td>0.010434</td>\n",
              "    </tr>\n",
              "    <tr>\n",
              "      <th>13</th>\n",
              "      <td>pct_computing_device</td>\n",
              "      <td>0.009465</td>\n",
              "    </tr>\n",
              "    <tr>\n",
              "      <th>14</th>\n",
              "      <td>pct_computing_device_with_broadband</td>\n",
              "      <td>0.006113</td>\n",
              "    </tr>\n",
              "    <tr>\n",
              "      <th>15</th>\n",
              "      <td>pct_internet</td>\n",
              "      <td>0.005207</td>\n",
              "    </tr>\n",
              "    <tr>\n",
              "      <th>16</th>\n",
              "      <td>pct_internet_broadband_any_type</td>\n",
              "      <td>0.004821</td>\n",
              "    </tr>\n",
              "    <tr>\n",
              "      <th>17</th>\n",
              "      <td>All_Provider_Count_25</td>\n",
              "      <td>0.003662</td>\n",
              "    </tr>\n",
              "    <tr>\n",
              "      <th>18</th>\n",
              "      <td>All_Provider_Count_100</td>\n",
              "      <td>0.003489</td>\n",
              "    </tr>\n",
              "    <tr>\n",
              "      <th>19</th>\n",
              "      <td>ruca_metro</td>\n",
              "      <td>0.000743</td>\n",
              "    </tr>\n",
              "  </tbody>\n",
              "</table>\n",
              "</div>\n",
              "      <button class=\"colab-df-convert\" onclick=\"convertToInteractive('df-9bca8ebf-abd1-4c3a-9409-30497bd9ee3e')\"\n",
              "              title=\"Convert this dataframe to an interactive table.\"\n",
              "              style=\"display:none;\">\n",
              "        \n",
              "  <svg xmlns=\"http://www.w3.org/2000/svg\" height=\"24px\"viewBox=\"0 0 24 24\"\n",
              "       width=\"24px\">\n",
              "    <path d=\"M0 0h24v24H0V0z\" fill=\"none\"/>\n",
              "    <path d=\"M18.56 5.44l.94 2.06.94-2.06 2.06-.94-2.06-.94-.94-2.06-.94 2.06-2.06.94zm-11 1L8.5 8.5l.94-2.06 2.06-.94-2.06-.94L8.5 2.5l-.94 2.06-2.06.94zm10 10l.94 2.06.94-2.06 2.06-.94-2.06-.94-.94-2.06-.94 2.06-2.06.94z\"/><path d=\"M17.41 7.96l-1.37-1.37c-.4-.4-.92-.59-1.43-.59-.52 0-1.04.2-1.43.59L10.3 9.45l-7.72 7.72c-.78.78-.78 2.05 0 2.83L4 21.41c.39.39.9.59 1.41.59.51 0 1.02-.2 1.41-.59l7.78-7.78 2.81-2.81c.8-.78.8-2.07 0-2.86zM5.41 20L4 18.59l7.72-7.72 1.47 1.35L5.41 20z\"/>\n",
              "  </svg>\n",
              "      </button>\n",
              "      \n",
              "  <style>\n",
              "    .colab-df-container {\n",
              "      display:flex;\n",
              "      flex-wrap:wrap;\n",
              "      gap: 12px;\n",
              "    }\n",
              "\n",
              "    .colab-df-convert {\n",
              "      background-color: #E8F0FE;\n",
              "      border: none;\n",
              "      border-radius: 50%;\n",
              "      cursor: pointer;\n",
              "      display: none;\n",
              "      fill: #1967D2;\n",
              "      height: 32px;\n",
              "      padding: 0 0 0 0;\n",
              "      width: 32px;\n",
              "    }\n",
              "\n",
              "    .colab-df-convert:hover {\n",
              "      background-color: #E2EBFA;\n",
              "      box-shadow: 0px 1px 2px rgba(60, 64, 67, 0.3), 0px 1px 3px 1px rgba(60, 64, 67, 0.15);\n",
              "      fill: #174EA6;\n",
              "    }\n",
              "\n",
              "    [theme=dark] .colab-df-convert {\n",
              "      background-color: #3B4455;\n",
              "      fill: #D2E3FC;\n",
              "    }\n",
              "\n",
              "    [theme=dark] .colab-df-convert:hover {\n",
              "      background-color: #434B5C;\n",
              "      box-shadow: 0px 1px 3px 1px rgba(0, 0, 0, 0.15);\n",
              "      filter: drop-shadow(0px 1px 2px rgba(0, 0, 0, 0.3));\n",
              "      fill: #FFFFFF;\n",
              "    }\n",
              "  </style>\n",
              "\n",
              "      <script>\n",
              "        const buttonEl =\n",
              "          document.querySelector('#df-9bca8ebf-abd1-4c3a-9409-30497bd9ee3e button.colab-df-convert');\n",
              "        buttonEl.style.display =\n",
              "          google.colab.kernel.accessAllowed ? 'block' : 'none';\n",
              "\n",
              "        async function convertToInteractive(key) {\n",
              "          const element = document.querySelector('#df-9bca8ebf-abd1-4c3a-9409-30497bd9ee3e');\n",
              "          const dataTable =\n",
              "            await google.colab.kernel.invokeFunction('convertToInteractive',\n",
              "                                                     [key], {});\n",
              "          if (!dataTable) return;\n",
              "\n",
              "          const docLinkHtml = 'Like what you see? Visit the ' +\n",
              "            '<a target=\"_blank\" href=https://colab.research.google.com/notebooks/data_table.ipynb>data table notebook</a>'\n",
              "            + ' to learn more about interactive tables.';\n",
              "          element.innerHTML = '';\n",
              "          dataTable['output_type'] = 'display_data';\n",
              "          await google.colab.output.renderOutput(dataTable, element);\n",
              "          const docLink = document.createElement('div');\n",
              "          docLink.innerHTML = docLinkHtml;\n",
              "          element.appendChild(docLink);\n",
              "        }\n",
              "      </script>\n",
              "    </div>\n",
              "  </div>\n",
              "  "
            ]
          },
          "metadata": {},
          "execution_count": 52
        }
      ]
    },
    {
      "cell_type": "code",
      "source": [
        "(pd.Series(rf_rg3.feature_importances_, index=X_test.columns)\n",
        "   .nlargest(30)[::-1]\n",
        "   .plot(kind='barh')\n",
        "   )  "
      ],
      "metadata": {
        "colab": {
          "base_uri": "https://localhost:8080/",
          "height": 283
        },
        "id": "ocJxqr9UYikl",
        "outputId": "be9e4568-8f8c-452f-c508-1aef7bdfffba"
      },
      "execution_count": null,
      "outputs": [
        {
          "output_type": "execute_result",
          "data": {
            "text/plain": [
              "<matplotlib.axes._subplots.AxesSubplot at 0x7ff24c8ab890>"
            ]
          },
          "metadata": {},
          "execution_count": 53
        },
        {
          "output_type": "display_data",
          "data": {
            "text/plain": [
              "<Figure size 432x288 with 1 Axes>"
            ],
            "image/png": "[encoded data removed]"
          },
          "metadata": {
            "needs_background": "light"
          }
        }
      ]
    },
    {
      "cell_type": "markdown",
      "source": [
        "#Best Model"
      ],
      "metadata": {
        "id": "ZvNYt0qutdbR"
      }
    },
    {
      "cell_type": "markdown",
      "source": [
        "### So far, best model is XGB with broadband set 2\n",
        "\n"
      ],
      "metadata": {
        "id": "sbvMn4d_tjH1"
      }
    },
    {
      "cell_type": "code",
      "source": [
        "with open('education_rf_model.pkl', 'wb') as file:\n",
        "    pickle.dump(rf_rg3, file)"
      ],
      "metadata": {
        "id": "lxGJ97dW3tkI"
      },
      "execution_count": null,
      "outputs": []
    }
  ],
  "metadata": {
    "colab": {
      "collapsed_sections": [
        "62Ni5T55JwFW",
        "aCUMfO2JFNbW",
        "Ohd-zHjL3nDF"
      ],
      "name": "MH_education_models_rf.ipynb",
      "provenance": [],
      "machine_shape": "hm",
      "toc_visible": true
    },
    "kernelspec": {
      "display_name": "Python 3",
      "name": "python3"
    },
    "language_info": {
      "name": "python"
    },
    "accelerator": "GPU"
  },
  "nbformat": 4,
  "nbformat_minor": 0
}