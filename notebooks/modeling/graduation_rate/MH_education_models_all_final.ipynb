{
  "cells": [
    {
      "cell_type": "code",
      "execution_count": 322,
      "metadata": {
        "id": "YO8rBz2Ss2JZ"
      },
      "outputs": [],
      "source": [
        "import pandas as pd\n",
        "import numpy as np\n",
        "import sys\n",
        "import missingno as msno\n",
        "import seaborn as sns\n",
        "import matplotlib.pyplot as plt\n",
        "\n",
        "from sklearn.pipeline import Pipeline\n",
        "from sklearn.compose import ColumnTransformer\n",
        "from sklearn.preprocessing import StandardScaler, OneHotEncoder\n",
        "from sklearn import metrics\n",
        "\n",
        "from sklearn.feature_selection import SelectKBest, f_regression\n",
        "from sklearn.linear_model import LinearRegression\n",
        "from sklearn.model_selection import cross_val_score, train_test_split\n",
        "from sklearn.model_selection import GridSearchCV\n",
        "from sklearn.metrics import mean_squared_error\n",
        "from sklearn.metrics import mean_absolute_error\n",
        "\n",
        "import xgboost as xgb\n",
        "from sklearn.model_selection import cross_val_score, GridSearchCV\n",
        "from sklearn.ensemble import RandomForestRegressor\n",
        "from sklearn.preprocessing import MinMaxScaler\n",
        "from matplotlib import pyplot\n",
        "from sklearn.linear_model import LinearRegression\n",
        "from sklearn.model_selection import RandomizedSearchCV\n",
        "import pickle\n",
        "from xgboost import XGBRegressor\n",
        "\n"
      ]
    },
    {
      "cell_type": "code",
      "source": [
        "pip install scikit-learn==1.0 xgboost==1.5.1 pandas==1.3.4"
      ],
      "metadata": {
        "colab": {
          "base_uri": "https://localhost:8080/"
        },
        "id": "KTtV5XHh57G6",
        "outputId": "2f9d65a5-d5f8-47eb-ae49-d00c4239dae4"
      },
      "execution_count": 323,
      "outputs": [
        {
          "output_type": "stream",
          "name": "stdout",
          "text": [
            "Requirement already satisfied: scikit-learn==1.0 in /usr/local/lib/python3.7/dist-packages (1.0)\n",
            "Requirement already satisfied: xgboost==1.5.1 in /usr/local/lib/python3.7/dist-packages (1.5.1)\n",
            "Requirement already satisfied: pandas==1.3.4 in /usr/local/lib/python3.7/dist-packages (1.3.4)\n",
            "Requirement already satisfied: joblib>=0.11 in /usr/local/lib/python3.7/dist-packages (from scikit-learn==1.0) (1.1.0)\n",
            "Requirement already satisfied: numpy>=1.14.6 in /usr/local/lib/python3.7/dist-packages (from scikit-learn==1.0) (1.21.5)\n",
            "Requirement already satisfied: scipy>=1.1.0 in /usr/local/lib/python3.7/dist-packages (from scikit-learn==1.0) (1.4.1)\n",
            "Requirement already satisfied: threadpoolctl>=2.0.0 in /usr/local/lib/python3.7/dist-packages (from scikit-learn==1.0) (3.1.0)\n",
            "Requirement already satisfied: pytz>=2017.3 in /usr/local/lib/python3.7/dist-packages (from pandas==1.3.4) (2018.9)\n",
            "Requirement already satisfied: python-dateutil>=2.7.3 in /usr/local/lib/python3.7/dist-packages (from pandas==1.3.4) (2.8.2)\n",
            "Requirement already satisfied: six>=1.5 in /usr/local/lib/python3.7/dist-packages (from python-dateutil>=2.7.3->pandas==1.3.4) (1.15.0)\n"
          ]
        }
      ]
    },
    {
      "cell_type": "code",
      "execution_count": 324,
      "metadata": {
        "colab": {
          "base_uri": "https://localhost:8080/"
        },
        "id": "RWzXXobipySq",
        "outputId": "8125fe96-ed46-4167-f131-20d71a32dbd5"
      },
      "outputs": [
        {
          "output_type": "stream",
          "name": "stdout",
          "text": [
            "Drive already mounted at /content/drive; to attempt to forcibly remount, call drive.mount(\"/content/drive\", force_remount=True).\n"
          ]
        }
      ],
      "source": [
        "##setup google drive\n",
        "from google.colab import drive\n",
        "drive.mount('/content/drive')"
      ]
    },
    {
      "cell_type": "code",
      "execution_count": 5,
      "metadata": {
        "id": "w78pV_3ns2sN"
      },
      "outputs": [],
      "source": [
        "##setup path\n",
        "root_path = '/content/drive/MyDrive/W210 - Capstone Project/data'"
      ]
    },
    {
      "cell_type": "code",
      "execution_count": 482,
      "metadata": {
        "id": "pFs6vJUStKxm"
      },
      "outputs": [],
      "source": [
        "##import dataset\n",
        "df_broadband_tr = pd.read_csv('/content/drive/MyDrive/W210 - Capstone Project/data/train_3.csv', encoding = 'ISO-8859-1')\n",
        "df_broadband_test = pd.read_csv('/content/drive/MyDrive/W210 - Capstone Project/data/test_3.csv', encoding = 'ISO-8859-1')\n"
      ]
    },
    {
      "cell_type": "markdown",
      "metadata": {
        "id": "eCIQkx0wxT6G"
      },
      "source": [
        "## Machine Learning Model for Broadband training dataset\n",
        "\n"
      ]
    },
    {
      "cell_type": "code",
      "source": [
        "df_broadband_tr = df_broadband_tr.set_index('tract_geoid')\n",
        "df_broadband_test = df_broadband_test.set_index('tract_geoid')"
      ],
      "metadata": {
        "id": "3bkQHMX61UeV"
      },
      "execution_count": 483,
      "outputs": []
    },
    {
      "cell_type": "code",
      "execution_count": 484,
      "metadata": {
        "colab": {
          "base_uri": "https://localhost:8080/",
          "height": 0
        },
        "id": "HYN-aDB8tZuu",
        "outputId": "bd7c4914-e7dc-4d6c-c427-97e1fd5309b3"
      },
      "outputs": [
        {
          "output_type": "execute_result",
          "data": {
            "text/plain": [
              "             Unnamed: 0  All_Provider_Count  MaxAdDown  MaxAdUp  \\\n",
              "tract_geoid                                                       \n",
              "6099000201            0                  11     1000.0   1000.0   \n",
              "47125102002           1                   7     1000.0   1000.0   \n",
              "22019001300           2                   8     1000.0   1000.0   \n",
              "18083955400           3                  11     1000.0   1000.0   \n",
              "39085206600           4                   7     1000.0   1000.0   \n",
              "\n",
              "             Wired_Provider_Count  Satellite_Provider_Count  \\\n",
              "tract_geoid                                                   \n",
              "6099000201                    4.0                         4   \n",
              "47125102002                   3.0                         4   \n",
              "22019001300                   3.0                         4   \n",
              "18083955400                   5.0                         4   \n",
              "39085206600                   3.0                         4   \n",
              "\n",
              "             Fixed_Wireless_Provider_Count  All_Provider_Count_25  \\\n",
              "tract_geoid                                                         \n",
              "6099000201                             4.0                    7.0   \n",
              "47125102002                            0.0                    5.0   \n",
              "22019001300                            2.0                    4.0   \n",
              "18083955400                            3.0                    6.0   \n",
              "39085206600                            0.0                    4.0   \n",
              "\n",
              "             All_Provider_Count_100  Fixed_Wireless_Provider_Count_25  ...  \\\n",
              "tract_geoid                                                            ...   \n",
              "6099000201                      3.0                               3.0  ...   \n",
              "47125102002                     4.0                               0.0  ...   \n",
              "22019001300                     2.0                               0.0  ...   \n",
              "18083955400                     3.0                               1.0  ...   \n",
              "39085206600                     2.0                               0.0  ...   \n",
              "\n",
              "             log_median_income  log_median_house_value  \\\n",
              "tract_geoid                                              \n",
              "6099000201           11.172546               12.667918   \n",
              "47125102002          11.113224               12.048249   \n",
              "22019001300          11.162147               12.062779   \n",
              "18083955400          10.388995               11.202316   \n",
              "39085206600          10.900178               11.663928   \n",
              "\n",
              "             median_income_over_median_rent  \\\n",
              "tract_geoid                                   \n",
              "6099000201                        59.341118   \n",
              "47125102002                       51.697764   \n",
              "22019001300                       66.303202   \n",
              "18083955400                       50.940439   \n",
              "39085206600                       51.507605   \n",
              "\n",
              "             median_income_over_median_house_value  \\\n",
              "tract_geoid                                          \n",
              "6099000201                                0.224165   \n",
              "47125102002                               0.392576   \n",
              "22019001300                               0.406313   \n",
              "18083955400                               0.443383   \n",
              "39085206600                               0.465916   \n",
              "\n",
              "             pct_of_internet_users_with_broadband  \\\n",
              "tract_geoid                                         \n",
              "6099000201                             100.000000   \n",
              "47125102002                             99.164439   \n",
              "22019001300                            100.000000   \n",
              "18083955400                            100.000000   \n",
              "39085206600                             98.464164   \n",
              "\n",
              "            log_median_income_over_log_median_house  pct_desktop_or_laptop  \\\n",
              "tract_geoid                                                                  \n",
              "6099000201                                 0.881956              68.284076   \n",
              "47125102002                                0.922393              96.990074   \n",
              "22019001300                                0.925338              84.889780   \n",
              "18083955400                                0.927397              65.481172   \n",
              "39085206600                                0.934520              74.532020   \n",
              "\n",
              "             pct_smartphone  pct_only_smartphone  pct_tablet  \n",
              "tract_geoid                                                   \n",
              "6099000201        80.811645            14.292016   54.741950  \n",
              "47125102002       93.948127             1.953250   79.090618  \n",
              "22019001300       85.611222             6.012024   68.777555  \n",
              "18083955400       75.418410            10.564854   52.301255  \n",
              "39085206600       67.980296             2.463054   52.216749  \n",
              "\n",
              "[5 rows x 203 columns]"
            ],
            "text/html": [
              "\n",
              "  <div id=\"df-260e5d5e-5dc5-4e62-94fe-8395cf0a9a3d\">\n",
              "    <div class=\"colab-df-container\">\n",
              "      <div>\n",
              "<style scoped>\n",
              "    .dataframe tbody tr th:only-of-type {\n",
              "        vertical-align: middle;\n",
              "    }\n",
              "\n",
              "    .dataframe tbody tr th {\n",
              "        vertical-align: top;\n",
              "    }\n",
              "\n",
              "    .dataframe thead th {\n",
              "        text-align: right;\n",
              "    }\n",
              "</style>\n",
              "<table border=\"1\" class=\"dataframe\">\n",
              "  <thead>\n",
              "    <tr style=\"text-align: right;\">\n",
              "      <th></th>\n",
              "      <th>Unnamed: 0</th>\n",
              "      <th>All_Provider_Count</th>\n",
              "      <th>MaxAdDown</th>\n",
              "      <th>MaxAdUp</th>\n",
              "      <th>Wired_Provider_Count</th>\n",
              "      <th>Satellite_Provider_Count</th>\n",
              "      <th>Fixed_Wireless_Provider_Count</th>\n",
              "      <th>All_Provider_Count_25</th>\n",
              "      <th>All_Provider_Count_100</th>\n",
              "      <th>Fixed_Wireless_Provider_Count_25</th>\n",
              "      <th>...</th>\n",
              "      <th>log_median_income</th>\n",
              "      <th>log_median_house_value</th>\n",
              "      <th>median_income_over_median_rent</th>\n",
              "      <th>median_income_over_median_house_value</th>\n",
              "      <th>pct_of_internet_users_with_broadband</th>\n",
              "      <th>log_median_income_over_log_median_house</th>\n",
              "      <th>pct_desktop_or_laptop</th>\n",
              "      <th>pct_smartphone</th>\n",
              "      <th>pct_only_smartphone</th>\n",
              "      <th>pct_tablet</th>\n",
              "    </tr>\n",
              "    <tr>\n",
              "      <th>tract_geoid</th>\n",
              "      <th></th>\n",
              "      <th></th>\n",
              "      <th></th>\n",
              "      <th></th>\n",
              "      <th></th>\n",
              "      <th></th>\n",
              "      <th></th>\n",
              "      <th></th>\n",
              "      <th></th>\n",
              "      <th></th>\n",
              "      <th></th>\n",
              "      <th></th>\n",
              "      <th></th>\n",
              "      <th></th>\n",
              "      <th></th>\n",
              "      <th></th>\n",
              "      <th></th>\n",
              "      <th></th>\n",
              "      <th></th>\n",
              "      <th></th>\n",
              "      <th></th>\n",
              "    </tr>\n",
              "  </thead>\n",
              "  <tbody>\n",
              "    <tr>\n",
              "      <th>6099000201</th>\n",
              "      <td>0</td>\n",
              "      <td>11</td>\n",
              "      <td>1000.0</td>\n",
              "      <td>1000.0</td>\n",
              "      <td>4.0</td>\n",
              "      <td>4</td>\n",
              "      <td>4.0</td>\n",
              "      <td>7.0</td>\n",
              "      <td>3.0</td>\n",
              "      <td>3.0</td>\n",
              "      <td>...</td>\n",
              "      <td>11.172546</td>\n",
              "      <td>12.667918</td>\n",
              "      <td>59.341118</td>\n",
              "      <td>0.224165</td>\n",
              "      <td>100.000000</td>\n",
              "      <td>0.881956</td>\n",
              "      <td>68.284076</td>\n",
              "      <td>80.811645</td>\n",
              "      <td>14.292016</td>\n",
              "      <td>54.741950</td>\n",
              "    </tr>\n",
              "    <tr>\n",
              "      <th>47125102002</th>\n",
              "      <td>1</td>\n",
              "      <td>7</td>\n",
              "      <td>1000.0</td>\n",
              "      <td>1000.0</td>\n",
              "      <td>3.0</td>\n",
              "      <td>4</td>\n",
              "      <td>0.0</td>\n",
              "      <td>5.0</td>\n",
              "      <td>4.0</td>\n",
              "      <td>0.0</td>\n",
              "      <td>...</td>\n",
              "      <td>11.113224</td>\n",
              "      <td>12.048249</td>\n",
              "      <td>51.697764</td>\n",
              "      <td>0.392576</td>\n",
              "      <td>99.164439</td>\n",
              "      <td>0.922393</td>\n",
              "      <td>96.990074</td>\n",
              "      <td>93.948127</td>\n",
              "      <td>1.953250</td>\n",
              "      <td>79.090618</td>\n",
              "    </tr>\n",
              "    <tr>\n",
              "      <th>22019001300</th>\n",
              "      <td>2</td>\n",
              "      <td>8</td>\n",
              "      <td>1000.0</td>\n",
              "      <td>1000.0</td>\n",
              "      <td>3.0</td>\n",
              "      <td>4</td>\n",
              "      <td>2.0</td>\n",
              "      <td>4.0</td>\n",
              "      <td>2.0</td>\n",
              "      <td>0.0</td>\n",
              "      <td>...</td>\n",
              "      <td>11.162147</td>\n",
              "      <td>12.062779</td>\n",
              "      <td>66.303202</td>\n",
              "      <td>0.406313</td>\n",
              "      <td>100.000000</td>\n",
              "      <td>0.925338</td>\n",
              "      <td>84.889780</td>\n",
              "      <td>85.611222</td>\n",
              "      <td>6.012024</td>\n",
              "      <td>68.777555</td>\n",
              "    </tr>\n",
              "    <tr>\n",
              "      <th>18083955400</th>\n",
              "      <td>3</td>\n",
              "      <td>11</td>\n",
              "      <td>1000.0</td>\n",
              "      <td>1000.0</td>\n",
              "      <td>5.0</td>\n",
              "      <td>4</td>\n",
              "      <td>3.0</td>\n",
              "      <td>6.0</td>\n",
              "      <td>3.0</td>\n",
              "      <td>1.0</td>\n",
              "      <td>...</td>\n",
              "      <td>10.388995</td>\n",
              "      <td>11.202316</td>\n",
              "      <td>50.940439</td>\n",
              "      <td>0.443383</td>\n",
              "      <td>100.000000</td>\n",
              "      <td>0.927397</td>\n",
              "      <td>65.481172</td>\n",
              "      <td>75.418410</td>\n",
              "      <td>10.564854</td>\n",
              "      <td>52.301255</td>\n",
              "    </tr>\n",
              "    <tr>\n",
              "      <th>39085206600</th>\n",
              "      <td>4</td>\n",
              "      <td>7</td>\n",
              "      <td>1000.0</td>\n",
              "      <td>1000.0</td>\n",
              "      <td>3.0</td>\n",
              "      <td>4</td>\n",
              "      <td>0.0</td>\n",
              "      <td>4.0</td>\n",
              "      <td>2.0</td>\n",
              "      <td>0.0</td>\n",
              "      <td>...</td>\n",
              "      <td>10.900178</td>\n",
              "      <td>11.663928</td>\n",
              "      <td>51.507605</td>\n",
              "      <td>0.465916</td>\n",
              "      <td>98.464164</td>\n",
              "      <td>0.934520</td>\n",
              "      <td>74.532020</td>\n",
              "      <td>67.980296</td>\n",
              "      <td>2.463054</td>\n",
              "      <td>52.216749</td>\n",
              "    </tr>\n",
              "  </tbody>\n",
              "</table>\n",
              "<p>5 rows × 203 columns</p>\n",
              "</div>\n",
              "      <button class=\"colab-df-convert\" onclick=\"convertToInteractive('df-260e5d5e-5dc5-4e62-94fe-8395cf0a9a3d')\"\n",
              "              title=\"Convert this dataframe to an interactive table.\"\n",
              "              style=\"display:none;\">\n",
              "        \n",
              "  <svg xmlns=\"http://www.w3.org/2000/svg\" height=\"24px\"viewBox=\"0 0 24 24\"\n",
              "       width=\"24px\">\n",
              "    <path d=\"M0 0h24v24H0V0z\" fill=\"none\"/>\n",
              "    <path d=\"M18.56 5.44l.94 2.06.94-2.06 2.06-.94-2.06-.94-.94-2.06-.94 2.06-2.06.94zm-11 1L8.5 8.5l.94-2.06 2.06-.94-2.06-.94L8.5 2.5l-.94 2.06-2.06.94zm10 10l.94 2.06.94-2.06 2.06-.94-2.06-.94-.94-2.06-.94 2.06-2.06.94z\"/><path d=\"M17.41 7.96l-1.37-1.37c-.4-.4-.92-.59-1.43-.59-.52 0-1.04.2-1.43.59L10.3 9.45l-7.72 7.72c-.78.78-.78 2.05 0 2.83L4 21.41c.39.39.9.59 1.41.59.51 0 1.02-.2 1.41-.59l7.78-7.78 2.81-2.81c.8-.78.8-2.07 0-2.86zM5.41 20L4 18.59l7.72-7.72 1.47 1.35L5.41 20z\"/>\n",
              "  </svg>\n",
              "      </button>\n",
              "      \n",
              "  <style>\n",
              "    .colab-df-container {\n",
              "      display:flex;\n",
              "      flex-wrap:wrap;\n",
              "      gap: 12px;\n",
              "    }\n",
              "\n",
              "    .colab-df-convert {\n",
              "      background-color: #E8F0FE;\n",
              "      border: none;\n",
              "      border-radius: 50%;\n",
              "      cursor: pointer;\n",
              "      display: none;\n",
              "      fill: #1967D2;\n",
              "      height: 32px;\n",
              "      padding: 0 0 0 0;\n",
              "      width: 32px;\n",
              "    }\n",
              "\n",
              "    .colab-df-convert:hover {\n",
              "      background-color: #E2EBFA;\n",
              "      box-shadow: 0px 1px 2px rgba(60, 64, 67, 0.3), 0px 1px 3px 1px rgba(60, 64, 67, 0.15);\n",
              "      fill: #174EA6;\n",
              "    }\n",
              "\n",
              "    [theme=dark] .colab-df-convert {\n",
              "      background-color: #3B4455;\n",
              "      fill: #D2E3FC;\n",
              "    }\n",
              "\n",
              "    [theme=dark] .colab-df-convert:hover {\n",
              "      background-color: #434B5C;\n",
              "      box-shadow: 0px 1px 3px 1px rgba(0, 0, 0, 0.15);\n",
              "      filter: drop-shadow(0px 1px 2px rgba(0, 0, 0, 0.3));\n",
              "      fill: #FFFFFF;\n",
              "    }\n",
              "  </style>\n",
              "\n",
              "      <script>\n",
              "        const buttonEl =\n",
              "          document.querySelector('#df-260e5d5e-5dc5-4e62-94fe-8395cf0a9a3d button.colab-df-convert');\n",
              "        buttonEl.style.display =\n",
              "          google.colab.kernel.accessAllowed ? 'block' : 'none';\n",
              "\n",
              "        async function convertToInteractive(key) {\n",
              "          const element = document.querySelector('#df-260e5d5e-5dc5-4e62-94fe-8395cf0a9a3d');\n",
              "          const dataTable =\n",
              "            await google.colab.kernel.invokeFunction('convertToInteractive',\n",
              "                                                     [key], {});\n",
              "          if (!dataTable) return;\n",
              "\n",
              "          const docLinkHtml = 'Like what you see? Visit the ' +\n",
              "            '<a target=\"_blank\" href=https://colab.research.google.com/notebooks/data_table.ipynb>data table notebook</a>'\n",
              "            + ' to learn more about interactive tables.';\n",
              "          element.innerHTML = '';\n",
              "          dataTable['output_type'] = 'display_data';\n",
              "          await google.colab.output.renderOutput(dataTable, element);\n",
              "          const docLink = document.createElement('div');\n",
              "          docLink.innerHTML = docLinkHtml;\n",
              "          element.appendChild(docLink);\n",
              "        }\n",
              "      </script>\n",
              "    </div>\n",
              "  </div>\n",
              "  "
            ]
          },
          "metadata": {},
          "execution_count": 484
        }
      ],
      "source": [
        "df_broadband_tr.head()"
      ]
    },
    {
      "cell_type": "code",
      "execution_count": 485,
      "metadata": {
        "colab": {
          "base_uri": "https://localhost:8080/"
        },
        "id": "UPVLpuRVbJ0-",
        "outputId": "f837206f-5e60-4811-89ea-9ad877c704f6"
      },
      "outputs": [
        {
          "output_type": "execute_result",
          "data": {
            "text/plain": [
              "(55826, 203)"
            ]
          },
          "metadata": {},
          "execution_count": 485
        }
      ],
      "source": [
        "df_broadband_tr.shape\n"
      ]
    },
    {
      "cell_type": "code",
      "source": [
        "df_broadband_test.shape"
      ],
      "metadata": {
        "colab": {
          "base_uri": "https://localhost:8080/"
        },
        "id": "s6sqcoKqsBlK",
        "outputId": "41bdb262-d9d6-48ec-8e95-101b34065a8c"
      },
      "execution_count": 486,
      "outputs": [
        {
          "output_type": "execute_result",
          "data": {
            "text/plain": [
              "(13947, 203)"
            ]
          },
          "metadata": {},
          "execution_count": 486
        }
      ]
    },
    {
      "cell_type": "code",
      "execution_count": 487,
      "metadata": {
        "colab": {
          "base_uri": "https://localhost:8080/",
          "height": 0
        },
        "id": "U6sENte-ubEd",
        "outputId": "4f58b469-aa37-490b-95d0-eea387413c6e"
      },
      "outputs": [
        {
          "output_type": "execute_result",
          "data": {
            "text/plain": [
              "         Unnamed: 0  All_Provider_Count     MaxAdDown       MaxAdUp  \\\n",
              "count  55826.000000        55826.000000  55826.000000  55826.000000   \n",
              "mean   27912.500000           10.656719    957.897019    629.729030   \n",
              "std    16115.722401            3.058830    152.595259    438.285021   \n",
              "min        0.000000            3.000000      2.000000      0.512000   \n",
              "25%    13956.250000            8.000000    987.000000     50.000000   \n",
              "50%    27912.500000           10.000000   1000.000000    940.000000   \n",
              "75%    41868.750000           12.000000   1000.000000   1000.000000   \n",
              "max    55825.000000           38.000000   1000.000000   1000.000000   \n",
              "\n",
              "       Wired_Provider_Count  Satellite_Provider_Count  \\\n",
              "count          55826.000000              55826.000000   \n",
              "mean               5.527424                  3.996417   \n",
              "std                2.677041                  0.068151   \n",
              "min                0.000000                  2.000000   \n",
              "25%                4.000000                  4.000000   \n",
              "50%                5.000000                  4.000000   \n",
              "75%                7.000000                  4.000000   \n",
              "max               29.000000                  5.000000   \n",
              "\n",
              "       Fixed_Wireless_Provider_Count  All_Provider_Count_25  \\\n",
              "count                   55826.000000           55826.000000   \n",
              "mean                        1.333554               5.085337   \n",
              "std                         1.444999               1.390270   \n",
              "min                         0.000000               0.000000   \n",
              "25%                         0.000000               4.000000   \n",
              "50%                         1.000000               5.000000   \n",
              "75%                         2.000000               6.000000   \n",
              "max                        17.000000              16.000000   \n",
              "\n",
              "       All_Provider_Count_100  Fixed_Wireless_Provider_Count_25  ...  \\\n",
              "count            55826.000000                      55826.000000  ...   \n",
              "mean                 2.999893                          0.655573  ...   \n",
              "std                  1.188782                          0.929290  ...   \n",
              "min                  0.000000                          0.000000  ...   \n",
              "25%                  2.000000                          0.000000  ...   \n",
              "50%                  3.000000                          0.000000  ...   \n",
              "75%                  4.000000                          1.000000  ...   \n",
              "max                 11.000000                          8.000000  ...   \n",
              "\n",
              "       log_median_income  log_median_house_value  \\\n",
              "count       55826.000000            55826.000000   \n",
              "mean           10.999802               12.221700   \n",
              "std             0.461022                0.740413   \n",
              "min             8.325791                9.210240   \n",
              "25%            10.702435               11.704372   \n",
              "50%            10.993580               12.161598   \n",
              "75%            11.302621               12.718597   \n",
              "max            12.429220               14.508658   \n",
              "\n",
              "       median_income_over_median_rent  median_income_over_median_house_value  \\\n",
              "count                    55826.000000                           55826.000000   \n",
              "mean                        60.508040                               0.332359   \n",
              "std                         21.704515                               0.165234   \n",
              "min                          5.894772                               0.014433   \n",
              "25%                         45.899438                               0.222456   \n",
              "50%                         57.336393                               0.321160   \n",
              "75%                         71.797508                               0.417278   \n",
              "max                        707.617647                               5.813081   \n",
              "\n",
              "       pct_of_internet_users_with_broadband  \\\n",
              "count                          55826.000000   \n",
              "mean                              99.516694   \n",
              "std                                0.890079   \n",
              "min                               72.222222   \n",
              "25%                               99.256813   \n",
              "50%                              100.000000   \n",
              "75%                              100.000000   \n",
              "max                              100.000000   \n",
              "\n",
              "       log_median_income_over_log_median_house  pct_desktop_or_laptop  \\\n",
              "count                             55826.000000           55826.000000   \n",
              "mean                                  0.901661              75.911962   \n",
              "std                                   0.037318              14.286054   \n",
              "min                                   0.685061               2.603369   \n",
              "25%                                   0.880425              67.133688   \n",
              "50%                                   0.906645              77.999462   \n",
              "75%                                   0.926328              87.088051   \n",
              "max                                   1.191104             100.000000   \n",
              "\n",
              "       pct_smartphone  pct_only_smartphone    pct_tablet  \n",
              "count    55826.000000         55826.000000  55826.000000  \n",
              "mean        78.749925             7.615102     57.937991  \n",
              "std          9.791230             6.136955     12.524106  \n",
              "min         10.483871             0.000000      6.317411  \n",
              "25%         72.638049             2.963984     49.611084  \n",
              "50%         79.719145             6.208054     58.320951  \n",
              "75%         86.081764            10.781179     67.021646  \n",
              "max        100.000000            45.263560     92.727273  \n",
              "\n",
              "[8 rows x 202 columns]"
            ],
            "text/html": [
              "\n",
              "  <div id=\"df-7a62e748-4039-425e-8ba3-61adab0dafdb\">\n",
              "    <div class=\"colab-df-container\">\n",
              "      <div>\n",
              "<style scoped>\n",
              "    .dataframe tbody tr th:only-of-type {\n",
              "        vertical-align: middle;\n",
              "    }\n",
              "\n",
              "    .dataframe tbody tr th {\n",
              "        vertical-align: top;\n",
              "    }\n",
              "\n",
              "    .dataframe thead th {\n",
              "        text-align: right;\n",
              "    }\n",
              "</style>\n",
              "<table border=\"1\" class=\"dataframe\">\n",
              "  <thead>\n",
              "    <tr style=\"text-align: right;\">\n",
              "      <th></th>\n",
              "      <th>Unnamed: 0</th>\n",
              "      <th>All_Provider_Count</th>\n",
              "      <th>MaxAdDown</th>\n",
              "      <th>MaxAdUp</th>\n",
              "      <th>Wired_Provider_Count</th>\n",
              "      <th>Satellite_Provider_Count</th>\n",
              "      <th>Fixed_Wireless_Provider_Count</th>\n",
              "      <th>All_Provider_Count_25</th>\n",
              "      <th>All_Provider_Count_100</th>\n",
              "      <th>Fixed_Wireless_Provider_Count_25</th>\n",
              "      <th>...</th>\n",
              "      <th>log_median_income</th>\n",
              "      <th>log_median_house_value</th>\n",
              "      <th>median_income_over_median_rent</th>\n",
              "      <th>median_income_over_median_house_value</th>\n",
              "      <th>pct_of_internet_users_with_broadband</th>\n",
              "      <th>log_median_income_over_log_median_house</th>\n",
              "      <th>pct_desktop_or_laptop</th>\n",
              "      <th>pct_smartphone</th>\n",
              "      <th>pct_only_smartphone</th>\n",
              "      <th>pct_tablet</th>\n",
              "    </tr>\n",
              "  </thead>\n",
              "  <tbody>\n",
              "    <tr>\n",
              "      <th>count</th>\n",
              "      <td>55826.000000</td>\n",
              "      <td>55826.000000</td>\n",
              "      <td>55826.000000</td>\n",
              "      <td>55826.000000</td>\n",
              "      <td>55826.000000</td>\n",
              "      <td>55826.000000</td>\n",
              "      <td>55826.000000</td>\n",
              "      <td>55826.000000</td>\n",
              "      <td>55826.000000</td>\n",
              "      <td>55826.000000</td>\n",
              "      <td>...</td>\n",
              "      <td>55826.000000</td>\n",
              "      <td>55826.000000</td>\n",
              "      <td>55826.000000</td>\n",
              "      <td>55826.000000</td>\n",
              "      <td>55826.000000</td>\n",
              "      <td>55826.000000</td>\n",
              "      <td>55826.000000</td>\n",
              "      <td>55826.000000</td>\n",
              "      <td>55826.000000</td>\n",
              "      <td>55826.000000</td>\n",
              "    </tr>\n",
              "    <tr>\n",
              "      <th>mean</th>\n",
              "      <td>27912.500000</td>\n",
              "      <td>10.656719</td>\n",
              "      <td>957.897019</td>\n",
              "      <td>629.729030</td>\n",
              "      <td>5.527424</td>\n",
              "      <td>3.996417</td>\n",
              "      <td>1.333554</td>\n",
              "      <td>5.085337</td>\n",
              "      <td>2.999893</td>\n",
              "      <td>0.655573</td>\n",
              "      <td>...</td>\n",
              "      <td>10.999802</td>\n",
              "      <td>12.221700</td>\n",
              "      <td>60.508040</td>\n",
              "      <td>0.332359</td>\n",
              "      <td>99.516694</td>\n",
              "      <td>0.901661</td>\n",
              "      <td>75.911962</td>\n",
              "      <td>78.749925</td>\n",
              "      <td>7.615102</td>\n",
              "      <td>57.937991</td>\n",
              "    </tr>\n",
              "    <tr>\n",
              "      <th>std</th>\n",
              "      <td>16115.722401</td>\n",
              "      <td>3.058830</td>\n",
              "      <td>152.595259</td>\n",
              "      <td>438.285021</td>\n",
              "      <td>2.677041</td>\n",
              "      <td>0.068151</td>\n",
              "      <td>1.444999</td>\n",
              "      <td>1.390270</td>\n",
              "      <td>1.188782</td>\n",
              "      <td>0.929290</td>\n",
              "      <td>...</td>\n",
              "      <td>0.461022</td>\n",
              "      <td>0.740413</td>\n",
              "      <td>21.704515</td>\n",
              "      <td>0.165234</td>\n",
              "      <td>0.890079</td>\n",
              "      <td>0.037318</td>\n",
              "      <td>14.286054</td>\n",
              "      <td>9.791230</td>\n",
              "      <td>6.136955</td>\n",
              "      <td>12.524106</td>\n",
              "    </tr>\n",
              "    <tr>\n",
              "      <th>min</th>\n",
              "      <td>0.000000</td>\n",
              "      <td>3.000000</td>\n",
              "      <td>2.000000</td>\n",
              "      <td>0.512000</td>\n",
              "      <td>0.000000</td>\n",
              "      <td>2.000000</td>\n",
              "      <td>0.000000</td>\n",
              "      <td>0.000000</td>\n",
              "      <td>0.000000</td>\n",
              "      <td>0.000000</td>\n",
              "      <td>...</td>\n",
              "      <td>8.325791</td>\n",
              "      <td>9.210240</td>\n",
              "      <td>5.894772</td>\n",
              "      <td>0.014433</td>\n",
              "      <td>72.222222</td>\n",
              "      <td>0.685061</td>\n",
              "      <td>2.603369</td>\n",
              "      <td>10.483871</td>\n",
              "      <td>0.000000</td>\n",
              "      <td>6.317411</td>\n",
              "    </tr>\n",
              "    <tr>\n",
              "      <th>25%</th>\n",
              "      <td>13956.250000</td>\n",
              "      <td>8.000000</td>\n",
              "      <td>987.000000</td>\n",
              "      <td>50.000000</td>\n",
              "      <td>4.000000</td>\n",
              "      <td>4.000000</td>\n",
              "      <td>0.000000</td>\n",
              "      <td>4.000000</td>\n",
              "      <td>2.000000</td>\n",
              "      <td>0.000000</td>\n",
              "      <td>...</td>\n",
              "      <td>10.702435</td>\n",
              "      <td>11.704372</td>\n",
              "      <td>45.899438</td>\n",
              "      <td>0.222456</td>\n",
              "      <td>99.256813</td>\n",
              "      <td>0.880425</td>\n",
              "      <td>67.133688</td>\n",
              "      <td>72.638049</td>\n",
              "      <td>2.963984</td>\n",
              "      <td>49.611084</td>\n",
              "    </tr>\n",
              "    <tr>\n",
              "      <th>50%</th>\n",
              "      <td>27912.500000</td>\n",
              "      <td>10.000000</td>\n",
              "      <td>1000.000000</td>\n",
              "      <td>940.000000</td>\n",
              "      <td>5.000000</td>\n",
              "      <td>4.000000</td>\n",
              "      <td>1.000000</td>\n",
              "      <td>5.000000</td>\n",
              "      <td>3.000000</td>\n",
              "      <td>0.000000</td>\n",
              "      <td>...</td>\n",
              "      <td>10.993580</td>\n",
              "      <td>12.161598</td>\n",
              "      <td>57.336393</td>\n",
              "      <td>0.321160</td>\n",
              "      <td>100.000000</td>\n",
              "      <td>0.906645</td>\n",
              "      <td>77.999462</td>\n",
              "      <td>79.719145</td>\n",
              "      <td>6.208054</td>\n",
              "      <td>58.320951</td>\n",
              "    </tr>\n",
              "    <tr>\n",
              "      <th>75%</th>\n",
              "      <td>41868.750000</td>\n",
              "      <td>12.000000</td>\n",
              "      <td>1000.000000</td>\n",
              "      <td>1000.000000</td>\n",
              "      <td>7.000000</td>\n",
              "      <td>4.000000</td>\n",
              "      <td>2.000000</td>\n",
              "      <td>6.000000</td>\n",
              "      <td>4.000000</td>\n",
              "      <td>1.000000</td>\n",
              "      <td>...</td>\n",
              "      <td>11.302621</td>\n",
              "      <td>12.718597</td>\n",
              "      <td>71.797508</td>\n",
              "      <td>0.417278</td>\n",
              "      <td>100.000000</td>\n",
              "      <td>0.926328</td>\n",
              "      <td>87.088051</td>\n",
              "      <td>86.081764</td>\n",
              "      <td>10.781179</td>\n",
              "      <td>67.021646</td>\n",
              "    </tr>\n",
              "    <tr>\n",
              "      <th>max</th>\n",
              "      <td>55825.000000</td>\n",
              "      <td>38.000000</td>\n",
              "      <td>1000.000000</td>\n",
              "      <td>1000.000000</td>\n",
              "      <td>29.000000</td>\n",
              "      <td>5.000000</td>\n",
              "      <td>17.000000</td>\n",
              "      <td>16.000000</td>\n",
              "      <td>11.000000</td>\n",
              "      <td>8.000000</td>\n",
              "      <td>...</td>\n",
              "      <td>12.429220</td>\n",
              "      <td>14.508658</td>\n",
              "      <td>707.617647</td>\n",
              "      <td>5.813081</td>\n",
              "      <td>100.000000</td>\n",
              "      <td>1.191104</td>\n",
              "      <td>100.000000</td>\n",
              "      <td>100.000000</td>\n",
              "      <td>45.263560</td>\n",
              "      <td>92.727273</td>\n",
              "    </tr>\n",
              "  </tbody>\n",
              "</table>\n",
              "<p>8 rows × 202 columns</p>\n",
              "</div>\n",
              "      <button class=\"colab-df-convert\" onclick=\"convertToInteractive('df-7a62e748-4039-425e-8ba3-61adab0dafdb')\"\n",
              "              title=\"Convert this dataframe to an interactive table.\"\n",
              "              style=\"display:none;\">\n",
              "        \n",
              "  <svg xmlns=\"http://www.w3.org/2000/svg\" height=\"24px\"viewBox=\"0 0 24 24\"\n",
              "       width=\"24px\">\n",
              "    <path d=\"M0 0h24v24H0V0z\" fill=\"none\"/>\n",
              "    <path d=\"M18.56 5.44l.94 2.06.94-2.06 2.06-.94-2.06-.94-.94-2.06-.94 2.06-2.06.94zm-11 1L8.5 8.5l.94-2.06 2.06-.94-2.06-.94L8.5 2.5l-.94 2.06-2.06.94zm10 10l.94 2.06.94-2.06 2.06-.94-2.06-.94-.94-2.06-.94 2.06-2.06.94z\"/><path d=\"M17.41 7.96l-1.37-1.37c-.4-.4-.92-.59-1.43-.59-.52 0-1.04.2-1.43.59L10.3 9.45l-7.72 7.72c-.78.78-.78 2.05 0 2.83L4 21.41c.39.39.9.59 1.41.59.51 0 1.02-.2 1.41-.59l7.78-7.78 2.81-2.81c.8-.78.8-2.07 0-2.86zM5.41 20L4 18.59l7.72-7.72 1.47 1.35L5.41 20z\"/>\n",
              "  </svg>\n",
              "      </button>\n",
              "      \n",
              "  <style>\n",
              "    .colab-df-container {\n",
              "      display:flex;\n",
              "      flex-wrap:wrap;\n",
              "      gap: 12px;\n",
              "    }\n",
              "\n",
              "    .colab-df-convert {\n",
              "      background-color: #E8F0FE;\n",
              "      border: none;\n",
              "      border-radius: 50%;\n",
              "      cursor: pointer;\n",
              "      display: none;\n",
              "      fill: #1967D2;\n",
              "      height: 32px;\n",
              "      padding: 0 0 0 0;\n",
              "      width: 32px;\n",
              "    }\n",
              "\n",
              "    .colab-df-convert:hover {\n",
              "      background-color: #E2EBFA;\n",
              "      box-shadow: 0px 1px 2px rgba(60, 64, 67, 0.3), 0px 1px 3px 1px rgba(60, 64, 67, 0.15);\n",
              "      fill: #174EA6;\n",
              "    }\n",
              "\n",
              "    [theme=dark] .colab-df-convert {\n",
              "      background-color: #3B4455;\n",
              "      fill: #D2E3FC;\n",
              "    }\n",
              "\n",
              "    [theme=dark] .colab-df-convert:hover {\n",
              "      background-color: #434B5C;\n",
              "      box-shadow: 0px 1px 3px 1px rgba(0, 0, 0, 0.15);\n",
              "      filter: drop-shadow(0px 1px 2px rgba(0, 0, 0, 0.3));\n",
              "      fill: #FFFFFF;\n",
              "    }\n",
              "  </style>\n",
              "\n",
              "      <script>\n",
              "        const buttonEl =\n",
              "          document.querySelector('#df-7a62e748-4039-425e-8ba3-61adab0dafdb button.colab-df-convert');\n",
              "        buttonEl.style.display =\n",
              "          google.colab.kernel.accessAllowed ? 'block' : 'none';\n",
              "\n",
              "        async function convertToInteractive(key) {\n",
              "          const element = document.querySelector('#df-7a62e748-4039-425e-8ba3-61adab0dafdb');\n",
              "          const dataTable =\n",
              "            await google.colab.kernel.invokeFunction('convertToInteractive',\n",
              "                                                     [key], {});\n",
              "          if (!dataTable) return;\n",
              "\n",
              "          const docLinkHtml = 'Like what you see? Visit the ' +\n",
              "            '<a target=\"_blank\" href=https://colab.research.google.com/notebooks/data_table.ipynb>data table notebook</a>'\n",
              "            + ' to learn more about interactive tables.';\n",
              "          element.innerHTML = '';\n",
              "          dataTable['output_type'] = 'display_data';\n",
              "          await google.colab.output.renderOutput(dataTable, element);\n",
              "          const docLink = document.createElement('div');\n",
              "          docLink.innerHTML = docLinkHtml;\n",
              "          element.appendChild(docLink);\n",
              "        }\n",
              "      </script>\n",
              "    </div>\n",
              "  </div>\n",
              "  "
            ]
          },
          "metadata": {},
          "execution_count": 487
        }
      ],
      "source": [
        "df_broadband_tr.describe()"
      ]
    },
    {
      "cell_type": "code",
      "execution_count": 488,
      "metadata": {
        "colab": {
          "base_uri": "https://localhost:8080/"
        },
        "id": "SjZxjEWIua92",
        "outputId": "f0dce86b-bf09-4e73-8504-230f906765b8"
      },
      "outputs": [
        {
          "output_type": "stream",
          "name": "stdout",
          "text": [
            "<class 'pandas.core.frame.DataFrame'>\n",
            "Int64Index: 55826 entries, 6099000201 to 26125131800\n",
            "Columns: 203 entries, Unnamed: 0 to pct_tablet\n",
            "dtypes: float64(130), int64(72), object(1)\n",
            "memory usage: 86.9+ MB\n"
          ]
        }
      ],
      "source": [
        "df_broadband_tr.info()"
      ]
    },
    {
      "cell_type": "markdown",
      "source": [
        "### Broadband Variables exploration"
      ],
      "metadata": {
        "id": "En8NpZKzXOlk"
      }
    },
    {
      "cell_type": "code",
      "source": [
        "broadband_vars = ['MaxAdDown',\n",
        "                 'MaxAdUp',\n",
        "                 'Wired_Provider_Count',\n",
        "                 'Satellite_Provider_Count',\n",
        "                 'Fixed_Wireless_Provider_Count',\n",
        "                 'All_Provider_Count_25',\n",
        "                 'All_Provider_Count_100',\n",
        "                 'Fixed_Wireless_Provider_Count_25',\n",
        "                 'Wired_Provider_Count_25',\n",
        "                 'Satellite_Provider_Count_25',\n",
        "                 'Fixed_Wireless_Provider_Count_100',\n",
        "                 'Wired_Provider_Count_100',\n",
        "                 'Satellite_Provider_Count_100',\n",
        "                 'pct_internet',\n",
        "                 'pct_internet_dial_up',\n",
        "                 'pct_internet_broadband_any_type',\n",
        "                 'pct_internet_cellular',\n",
        "                 'pct_only_cellular',\n",
        "                 'pct_internet_broadband_fiber',\n",
        "                 'pct_internet_broadband_satellite',\n",
        "                 'pct_internet_only_satellite',\n",
        "                 'pct_internet_other',\n",
        "                 'pct_internet_no_subscrp',\n",
        "                 'pct_internet_none',\n",
        "                 'pct_computer',\n",
        "                 'pct_computer_with_dialup',\n",
        "                 'pct_computer_with_broadband',\n",
        "                 'pct_computer_no_internet',\n",
        "                 'pct_no_computer',\n",
        "                 'Form 477 All Terrestrial Broadband: Max Advertised Consumer Download Speed (Mbps)',\n",
        "                 'Form 477 All Terrestrial Broadband: Max Advertised Consumer Upload Speed (Mbps)',\n",
        "                 'Ookla Median Download Speed (Mbps)',\n",
        "                 'Ookla Median Upload Speed (Mbps)',\n",
        "                 '0_5_providers',\n",
        "                 '6_10_providers',\n",
        "                 '11_15_providers',\n",
        "                 '16_20_providers',\n",
        "                 '20+_providers',\n",
        "                 '0_25_MaxAdDown',\n",
        "                 '25_99_MaxAdDown',\n",
        "                 '99_499_MaxAdDown',\n",
        "                 '499_inf_MaxAdDown',\n",
        "                 '0_25_Ookla Median Download Speed (Mbps)',\n",
        "                 '25_99_Ookla Median Download Speed (Mbps)',\n",
        "                 '99_499_Ookla Median Download Speed (Mbps)',\n",
        "                 '499_inf_Ookla Median Download Speed (Mbps)',\n",
        "                 '0_25_Form 477 All Terrestrial Broadband: Max Advertised Consumer Download Speed (Mbps)',\n",
        "                 '25_99_Form 477 All Terrestrial Broadband: Max Advertised Consumer Download Speed (Mbps)',\n",
        "                 '99_499_Form 477 All Terrestrial Broadband: Max Advertised Consumer Download Speed (Mbps)',\n",
        "                 '499_inf_Form 477 All Terrestrial Broadband: Max Advertised Consumer Download Speed (Mbps)',\n",
        "                 'single_provider',\n",
        "                 'SE',\n",
        "                 'INFA',\n",
        "                 'DDI',\n",
        "                 'ruca_metro',\n",
        "                 'ruca_micro',\n",
        "                 'ruca_small_town',\n",
        "                 'ruca_rural',\n",
        "                 'Comcast_present',\n",
        "                 'ATT_present',\n",
        "                 'HughesNet_present',\n",
        "                 'GCI_Comm_Corp_present',\n",
        "                 'ViaSat_present',\n",
        "                 'VSAT_present',\n",
        "                 'Century_Link_present',\n",
        "                 'Spectrum_present',\n",
        "                 'Crown_Castle_present',\n",
        "                 'Etheric_present',\n",
        "                 'Frontier_Communications_present']"
      ],
      "metadata": {
        "id": "A5TIu8wJJpBJ"
      },
      "execution_count": 489,
      "outputs": []
    },
    {
      "cell_type": "code",
      "execution_count": 490,
      "metadata": {
        "colab": {
          "base_uri": "https://localhost:8080/"
        },
        "id": "NMGlRvqAeiqy",
        "outputId": "fd1fd5e6-8a02-40f4-ccaa-314788928e3e"
      },
      "outputs": [
        {
          "output_type": "execute_result",
          "data": {
            "text/plain": [
              "['MaxAdDown',\n",
              " 'MaxAdUp',\n",
              " 'Wired_Provider_Count',\n",
              " 'Fixed_Wireless_Provider_Count',\n",
              " 'All_Provider_Count_25',\n",
              " 'All_Provider_Count_100',\n",
              " 'Fixed_Wireless_Provider_Count_25',\n",
              " 'Wired_Provider_Count_25',\n",
              " 'Satellite_Provider_Count_25',\n",
              " 'Fixed_Wireless_Provider_Count_100',\n",
              " 'Wired_Provider_Count_100',\n",
              " 'Satellite_Provider_Count_100',\n",
              " 'median_age_overall',\n",
              " 'median_age_male',\n",
              " 'median_age_female',\n",
              " 'state',\n",
              " 'county',\n",
              " 'tract',\n",
              " 'employment_rate',\n",
              " 'median_income',\n",
              " 'total_households',\n",
              " 'ave_household_size',\n",
              " 'ave_family_size',\n",
              " 'pct_health_ins_children',\n",
              " 'pct_health_ins_19_64',\n",
              " 'pct_health_ins_65+',\n",
              " 'total_population',\n",
              " 'median_house_value',\n",
              " 'pct_white',\n",
              " 'pct_hisp_latino',\n",
              " 'pct_black',\n",
              " 'pct_native',\n",
              " 'pct_asian',\n",
              " 'pct_hi_pi',\n",
              " 'pct_other_race',\n",
              " 'pct_two+_race',\n",
              " 'pct_rent_burdened',\n",
              " 'poverty_rate',\n",
              " 'pct_pop_bachelors+',\n",
              " 'pct_pop_hs+',\n",
              " 'pct_internet',\n",
              " 'pct_internet_dial_up',\n",
              " 'pct_internet_broadband_any_type',\n",
              " 'pct_internet_cellular',\n",
              " 'pct_only_cellular',\n",
              " 'pct_internet_broadband_fiber',\n",
              " 'pct_internet_broadband_satellite',\n",
              " 'pct_internet_only_satellite',\n",
              " 'pct_internet_other',\n",
              " 'pct_internet_no_subscrp',\n",
              " 'pct_internet_none',\n",
              " 'pct_computing_device',\n",
              " 'pct_computing_device_with_dialup',\n",
              " 'pct_computing_device_with_broadband',\n",
              " 'pct_computing_device_no_internet',\n",
              " 'pct_no_computing_device',\n",
              " 'ALAND_SQMI',\n",
              " 'AWATER_SQMI',\n",
              " 'population_density',\n",
              " 'pct_pop_ged',\n",
              " 'pct_pop_some_college',\n",
              " 'pct_pop_associates',\n",
              " 'pct_pop_ssi_households',\n",
              " 'pct_pop_lt_10k',\n",
              " 'pct_pop_10k_thru_15k',\n",
              " 'pct_pop_15k_thru_20k',\n",
              " 'pct_pop_20k_thru_25k',\n",
              " 'pct_pop_25k_thru_30k',\n",
              " 'pct_pop_30k_thru_35k',\n",
              " 'pct_pop_35k_thru_40k',\n",
              " 'pct_pop_40k_thru_45k',\n",
              " 'pct_pop_45k_thru_50k',\n",
              " 'pct_pop_50k_thru_60k',\n",
              " 'pct_pop_60k_thru_75k',\n",
              " 'pct_pop_75k_thru_100k',\n",
              " 'pct_pop_100k_thru_125k',\n",
              " 'pct_pop_125k_thru_150k',\n",
              " 'pct_pop_150k_thru_200k',\n",
              " 'pct_pop_gt_200k',\n",
              " 'pct_pop_lt_5',\n",
              " 'pct_pop_5_to_9',\n",
              " 'pct_pop_10_to_14',\n",
              " 'pct_pop_15_to_19',\n",
              " 'pct_pop_20_to_24',\n",
              " 'pct_pop_25_to_29',\n",
              " 'pct_pop_30_to_34',\n",
              " 'pct_pop_35_to_39',\n",
              " 'pct_pop_40_to_44',\n",
              " 'pct_pop_45_to_49',\n",
              " 'pct_pop_50_to_54',\n",
              " 'pct_pop_55_to_59',\n",
              " 'pct_pop_60_to_64',\n",
              " 'pct_pop_65_to_69',\n",
              " 'pct_pop_70_to_74',\n",
              " 'pct_pop_75_to_79',\n",
              " 'pct_pop_80_to_84',\n",
              " 'pct_pop_gt_85',\n",
              " 'pct_pop_disability',\n",
              " 'pct_pop_households_with_kids',\n",
              " 'pct_pop_foreign_born',\n",
              " 'Form 477 All Terrestrial Broadband: Max Advertised Consumer Download Speed (Mbps)',\n",
              " 'Form 477 All Terrestrial Broadband: Max Advertised Consumer Upload Speed (Mbps)',\n",
              " 'Ookla Median Download Speed (Mbps)',\n",
              " 'Ookla Median Upload Speed (Mbps)',\n",
              " 'Primary RUCA Code 2010',\n",
              " 'Secondary RUCA Code, 2010 (see errata)',\n",
              " 'SE',\n",
              " 'INFA',\n",
              " 'DDI',\n",
              " 'pct_pop_income_lt_50k',\n",
              " 'pct_pop_income_lt_30k',\n",
              " 'pct_pop_income_gt_100k',\n",
              " 'pct_ages_gt_50',\n",
              " 'pct_ages_lt_19',\n",
              " 'pct_pop_paying_lt_15_on_rent',\n",
              " 'pct_pop_paying_15_to_20_on_rent',\n",
              " 'pct_pop_paying_20_to_25_on_rent',\n",
              " 'pct_pop_paying_25_to_30_on_rent',\n",
              " 'pct_pop_paying_30_to_35_on_rent',\n",
              " 'pct_pop_paying__gt_35_on_rent',\n",
              " 'log_median_income',\n",
              " 'log_median_house_value',\n",
              " 'median_income_over_median_rent',\n",
              " 'median_income_over_median_house_value',\n",
              " 'pct_of_internet_users_with_broadband',\n",
              " 'log_median_income_over_log_median_house',\n",
              " 'pct_desktop_or_laptop',\n",
              " 'pct_smartphone',\n",
              " 'pct_only_smartphone',\n",
              " 'pct_tablet']"
            ]
          },
          "metadata": {},
          "execution_count": 490
        }
      ],
      "source": [
        "## get a list of numerical feature\n",
        "numeric_feats = df_broadband_tr.dtypes[df_broadband_tr.dtypes == \"float64\"].index.values.tolist()\n",
        "numeric_feats"
      ]
    },
    {
      "cell_type": "code",
      "execution_count": 491,
      "metadata": {
        "colab": {
          "base_uri": "https://localhost:8080/"
        },
        "id": "fTgKIO2NOvao",
        "outputId": "2a853cb6-f5d5-45af-8706-19a5cf42e92a"
      },
      "outputs": [
        {
          "output_type": "execute_result",
          "data": {
            "text/plain": [
              "['Unnamed: 0',\n",
              " 'All_Provider_Count',\n",
              " 'Satellite_Provider_Count',\n",
              " 'NAME',\n",
              " 'ALAND',\n",
              " 'AWATER',\n",
              " '0_5_providers',\n",
              " '6_10_providers',\n",
              " '11_15_providers',\n",
              " '16_20_providers',\n",
              " '20+_providers',\n",
              " '0_25_MaxAdDown',\n",
              " '25_99_MaxAdDown',\n",
              " '99_499_MaxAdDown',\n",
              " '499_inf_MaxAdDown',\n",
              " '0_25_Ookla Median Download Speed (Mbps)',\n",
              " '25_99_Ookla Median Download Speed (Mbps)',\n",
              " '99_499_Ookla Median Download Speed (Mbps)',\n",
              " '499_inf_Ookla Median Download Speed (Mbps)',\n",
              " '0_25_Form 477 All Terrestrial Broadband: Max Advertised Consumer Download Speed (Mbps)',\n",
              " '25_99_Form 477 All Terrestrial Broadband: Max Advertised Consumer Download Speed (Mbps)',\n",
              " '99_499_Form 477 All Terrestrial Broadband: Max Advertised Consumer Download Speed (Mbps)',\n",
              " '499_inf_Form 477 All Terrestrial Broadband: Max Advertised Consumer Download Speed (Mbps)',\n",
              " 'single_provider',\n",
              " 'Primary RUCA Code - 1.0',\n",
              " 'Primary RUCA Code - 2.0',\n",
              " 'Primary RUCA Code - 4.0',\n",
              " 'Primary RUCA Code - 10.0',\n",
              " 'Primary RUCA Code - 7.0',\n",
              " 'Primary RUCA Code - 5.0',\n",
              " 'Primary RUCA Code - 8.0',\n",
              " 'Primary RUCA Code - 3.0',\n",
              " 'Primary RUCA Code - 6.0',\n",
              " 'Primary RUCA Code - 9.0',\n",
              " 'Primary RUCA Code - 99.0',\n",
              " 'Secondary RUCA Code - 1.0',\n",
              " 'Secondary RUCA Code - 2.0',\n",
              " 'Secondary RUCA Code - 4.0',\n",
              " 'Secondary RUCA Code - 10.0',\n",
              " 'Secondary RUCA Code - 7.0',\n",
              " 'Secondary RUCA Code - 5.0',\n",
              " 'Secondary RUCA Code - 1.1',\n",
              " 'Secondary RUCA Code - 8.0',\n",
              " 'Secondary RUCA Code - 3.0',\n",
              " 'Secondary RUCA Code - 6.0',\n",
              " 'Secondary RUCA Code - 9.0',\n",
              " 'Secondary RUCA Code - 4.1',\n",
              " 'Secondary RUCA Code - 99.0',\n",
              " 'Secondary RUCA Code - 7.1',\n",
              " 'Secondary RUCA Code - 10.2',\n",
              " 'Secondary RUCA Code - 2.1',\n",
              " 'Secondary RUCA Code - 10.1',\n",
              " 'Secondary RUCA Code - 10.3',\n",
              " 'Secondary RUCA Code - 7.2',\n",
              " 'Secondary RUCA Code - 5.1',\n",
              " 'Secondary RUCA Code - 8.1',\n",
              " 'Secondary RUCA Code - 8.2',\n",
              " 'ruca_metro',\n",
              " 'ruca_micro',\n",
              " 'ruca_small_town',\n",
              " 'ruca_rural',\n",
              " 'Comcast_present',\n",
              " 'ATT_present',\n",
              " 'HughesNet_present',\n",
              " 'GCI_Comm_Corp_present',\n",
              " 'ViaSat_present',\n",
              " 'VSAT_present',\n",
              " 'Century_Link_present',\n",
              " 'Spectrum_present',\n",
              " 'Crown_Castle_present',\n",
              " 'Etheric_present',\n",
              " 'Frontier_Communications_present',\n",
              " 'median_rent']"
            ]
          },
          "metadata": {},
          "execution_count": 491
        }
      ],
      "source": [
        "other_feats = df_broadband_tr.dtypes[df_broadband_tr.dtypes != \"float64\"].index.values.tolist()\n",
        "other_feats"
      ]
    },
    {
      "cell_type": "markdown",
      "metadata": {
        "id": "XI0nMC9abT2o"
      },
      "source": [
        "### Train test split\n",
        "linear regression on target variable = pct of high school degree + "
      ]
    },
    {
      "cell_type": "code",
      "execution_count": 492,
      "metadata": {
        "id": "cnCiTnsibl01"
      },
      "outputs": [],
      "source": [
        "##drop some variables that are not numerical, highly correlated to dependent varible (bachelors degree)\n",
        "\n",
        "to_drop = ['pct_pop_hs+','pct_pop_bachelors+', 'NAME','DDI','INFA','SE',\n",
        "           'pct_pop_some_college','pct_internet_none', 'pct_pop_associates', 'pct_pop_ged'\t]\n",
        "target = ['pct_pop_hs+']\n",
        "\n",
        "X = df_broadband_tr.drop(to_drop, axis = 'columns', inplace=False)\n",
        "y = df_broadband_tr[target]\n",
        "\n",
        "##split into train and test 80/20 random split\n",
        "from sklearn.model_selection import train_test_split\n",
        "X_train_all, X_test_all, y_train_all, y_test_all = train_test_split(X, y, test_size = 0.2, random_state = 0)"
      ]
    },
    {
      "cell_type": "code",
      "execution_count": 493,
      "metadata": {
        "id": "Nz6nm57Gb6xn"
      },
      "outputs": [],
      "source": [
        "# from sklearn.preprocessing import StandardScaler\n",
        "\n",
        "# sc = StandardScaler()\n",
        "# X_train = sc.fit_transform(X_train)\n",
        "# X_test = sc.transform(X_test)"
      ]
    },
    {
      "cell_type": "code",
      "execution_count": 494,
      "metadata": {
        "colab": {
          "base_uri": "https://localhost:8080/"
        },
        "id": "swbtyDXhcO6-",
        "outputId": "7c5bb277-0d61-478e-b1e3-626017594919"
      },
      "outputs": [
        {
          "output_type": "execute_result",
          "data": {
            "text/plain": [
              "(44660, 193)"
            ]
          },
          "metadata": {},
          "execution_count": 494
        }
      ],
      "source": [
        "X_train_all.shape"
      ]
    },
    {
      "cell_type": "markdown",
      "source": [
        "### Broadband Variables Set 1&2"
      ],
      "metadata": {
        "id": "NCK6Jcq9Cn5L"
      }
    },
    {
      "cell_type": "code",
      "source": [
        "br_important_vars = ['pct_internet',\n",
        "'pct_only_cellular',\n",
        "'pct_computing_device_no_internet',\n",
        "'pct_internet_broadband_satellite',\n",
        "'pct_computing_device_with_broadband']\n"
      ],
      "metadata": {
        "id": "GI7OjhnigbsJ"
      },
      "execution_count": 495,
      "outputs": []
    },
    {
      "cell_type": "code",
      "source": [
        "br_interest_vars = ['pct_internet',\n",
        "  'All_Provider_Count_25',\n",
        "  'All_Provider_Count_100',\n",
        "  'Ookla Median Download Speed (Mbps)',\n",
        "  'pct_computing_device',\n",
        "  'pct_internet_broadband_any_type']\n"
      ],
      "metadata": {
        "id": "Ca6GkWmBtzvs"
      },
      "execution_count": 496,
      "outputs": []
    },
    {
      "cell_type": "code",
      "source": [
        "important_cov = ['log_median_income', \n",
        "                 'ruca_metro',\n",
        "                 'ruca_rural',\n",
        "                 'log_median_income_over_log_median_house',\n",
        "                 'pct_pop_foreign_born',\n",
        "                 'pct_pop_disability']"
      ],
      "metadata": {
        "id": "KKae559HSJK_"
      },
      "execution_count": 497,
      "outputs": []
    },
    {
      "cell_type": "code",
      "source": [
        "def regression_results(y_test, y_pred):\n",
        "\n",
        "    # Regression metrics\n",
        "    explained_variance=metrics.explained_variance_score(y_test, y_pred)\n",
        "    mae=metrics.mean_absolute_error(y_test, y_pred) \n",
        "    mse=metrics.mean_squared_error(y_test, y_pred) \n",
        "    r2=metrics.r2_score(y_test, y_pred)\n",
        "    adj_r2 = 1 - ( 1-r2 ) * ( len(y_test) - 1 ) / ( len(y_test) - X.shape[1] - 1 )\n",
        "\n",
        "\n",
        "    print(\"The model performance for testing set\")\n",
        "    print(\"--------------------------------------\")\n",
        "    print('MAE is {}'.format(mae))\n",
        "    print('MSE is {}'.format(mse))\n",
        "    print('RMSE is {}'.format(mse**(1/2.0)))\n",
        "    print('R2 score is {}'.format(r2))\n",
        "    print('Adj R2 score is {}'.format(adj_r2))"
      ],
      "metadata": {
        "id": "IlsV9ZfYPpGH"
      },
      "execution_count": 498,
      "outputs": []
    },
    {
      "cell_type": "markdown",
      "source": [
        "### Baseline Model - log(median income)"
      ],
      "metadata": {
        "id": "62Ni5T55JwFW"
      }
    },
    {
      "cell_type": "code",
      "source": [
        "#limit the dataset to only log(median income)\n",
        "\n",
        "ind_var = ['log_median_income']\n",
        "target = ['pct_pop_hs+']\n",
        "\n",
        "X_train = X_train_all[ind_var]\n",
        "X_test = X_test_all[ind_var]\n",
        "y_train = y_train_all[target]\n",
        "y_test = y_test_all[target]\n"
      ],
      "metadata": {
        "id": "PDIUQTaDNSKY"
      },
      "execution_count": 499,
      "outputs": []
    },
    {
      "cell_type": "code",
      "source": [
        "## linear regression model using sklearn\n",
        "lr = LinearRegression()\n",
        "lr.fit(X_train, y_train)\n",
        "## predict on x test \n",
        "y_pred = lr.predict(X_test)"
      ],
      "metadata": {
        "id": "CKyO0z1rK963"
      },
      "execution_count": 500,
      "outputs": []
    },
    {
      "cell_type": "code",
      "source": [
        "# model evaluation for testing set\n",
        "regression_results(y_test, y_pred)"
      ],
      "metadata": {
        "colab": {
          "base_uri": "https://localhost:8080/"
        },
        "id": "cb3Q4PGZPD6l",
        "outputId": "9b54f451-1d38-4cb8-c41e-446025ef19c8"
      },
      "execution_count": 501,
      "outputs": [
        {
          "output_type": "stream",
          "name": "stdout",
          "text": [
            "The model performance for testing set\n",
            "--------------------------------------\n",
            "MAE is 8.94802099331186\n",
            "MSE is 132.4111115283205\n",
            "RMSE is 11.507002716968502\n",
            "R2 score is 0.4630529011595057\n",
            "Adj R2 score is 0.4536078783672878\n"
          ]
        }
      ]
    },
    {
      "cell_type": "markdown",
      "metadata": {
        "id": "_NbhyMNTyQi_"
      },
      "source": [
        "### LR 1: Include all variables (except the ones dropped earlier)"
      ]
    },
    {
      "cell_type": "code",
      "execution_count": 502,
      "metadata": {
        "id": "X_kkH1OSeU0o"
      },
      "outputs": [],
      "source": [
        "## linear regression model using sklearn\n",
        "lr = LinearRegression()\n",
        "lr.fit(X_train_all, y_train_all)\n",
        "## predict on x test \n",
        "y_pred = lr.predict(X_test_all)"
      ]
    },
    {
      "cell_type": "code",
      "execution_count": 503,
      "metadata": {
        "colab": {
          "base_uri": "https://localhost:8080/",
          "height": 0
        },
        "id": "Skn86nV1AeZA",
        "outputId": "43c7a7ab-89e0-4487-8786-182ac5f967b8"
      },
      "outputs": [
        {
          "output_type": "execute_result",
          "data": {
            "text/plain": [
              "                                     Feature  Coefficients\n",
              "0                                 Unnamed: 0 -8.938807e-07\n",
              "1                         All_Provider_Count  2.752363e-01\n",
              "2                                  MaxAdDown  2.082550e-03\n",
              "3                                    MaxAdUp -6.239967e-05\n",
              "4                       Wired_Provider_Count -5.058904e-01\n",
              "..                                       ...           ...\n",
              "188  log_median_income_over_log_median_house -1.616291e+01\n",
              "189                    pct_desktop_or_laptop  4.298435e-01\n",
              "190                           pct_smartphone  1.417968e-01\n",
              "191                      pct_only_smartphone  5.410880e-02\n",
              "192                               pct_tablet  7.913033e-02\n",
              "\n",
              "[193 rows x 2 columns]"
            ],
            "text/html": [
              "\n",
              "  <div id=\"df-dc525a70-c243-45d6-a8fa-ecf81d7558ff\">\n",
              "    <div class=\"colab-df-container\">\n",
              "      <div>\n",
              "<style scoped>\n",
              "    .dataframe tbody tr th:only-of-type {\n",
              "        vertical-align: middle;\n",
              "    }\n",
              "\n",
              "    .dataframe tbody tr th {\n",
              "        vertical-align: top;\n",
              "    }\n",
              "\n",
              "    .dataframe thead th {\n",
              "        text-align: right;\n",
              "    }\n",
              "</style>\n",
              "<table border=\"1\" class=\"dataframe\">\n",
              "  <thead>\n",
              "    <tr style=\"text-align: right;\">\n",
              "      <th></th>\n",
              "      <th>Feature</th>\n",
              "      <th>Coefficients</th>\n",
              "    </tr>\n",
              "  </thead>\n",
              "  <tbody>\n",
              "    <tr>\n",
              "      <th>0</th>\n",
              "      <td>Unnamed: 0</td>\n",
              "      <td>-8.938807e-07</td>\n",
              "    </tr>\n",
              "    <tr>\n",
              "      <th>1</th>\n",
              "      <td>All_Provider_Count</td>\n",
              "      <td>2.752363e-01</td>\n",
              "    </tr>\n",
              "    <tr>\n",
              "      <th>2</th>\n",
              "      <td>MaxAdDown</td>\n",
              "      <td>2.082550e-03</td>\n",
              "    </tr>\n",
              "    <tr>\n",
              "      <th>3</th>\n",
              "      <td>MaxAdUp</td>\n",
              "      <td>-6.239967e-05</td>\n",
              "    </tr>\n",
              "    <tr>\n",
              "      <th>4</th>\n",
              "      <td>Wired_Provider_Count</td>\n",
              "      <td>-5.058904e-01</td>\n",
              "    </tr>\n",
              "    <tr>\n",
              "      <th>...</th>\n",
              "      <td>...</td>\n",
              "      <td>...</td>\n",
              "    </tr>\n",
              "    <tr>\n",
              "      <th>188</th>\n",
              "      <td>log_median_income_over_log_median_house</td>\n",
              "      <td>-1.616291e+01</td>\n",
              "    </tr>\n",
              "    <tr>\n",
              "      <th>189</th>\n",
              "      <td>pct_desktop_or_laptop</td>\n",
              "      <td>4.298435e-01</td>\n",
              "    </tr>\n",
              "    <tr>\n",
              "      <th>190</th>\n",
              "      <td>pct_smartphone</td>\n",
              "      <td>1.417968e-01</td>\n",
              "    </tr>\n",
              "    <tr>\n",
              "      <th>191</th>\n",
              "      <td>pct_only_smartphone</td>\n",
              "      <td>5.410880e-02</td>\n",
              "    </tr>\n",
              "    <tr>\n",
              "      <th>192</th>\n",
              "      <td>pct_tablet</td>\n",
              "      <td>7.913033e-02</td>\n",
              "    </tr>\n",
              "  </tbody>\n",
              "</table>\n",
              "<p>193 rows × 2 columns</p>\n",
              "</div>\n",
              "      <button class=\"colab-df-convert\" onclick=\"convertToInteractive('df-dc525a70-c243-45d6-a8fa-ecf81d7558ff')\"\n",
              "              title=\"Convert this dataframe to an interactive table.\"\n",
              "              style=\"display:none;\">\n",
              "        \n",
              "  <svg xmlns=\"http://www.w3.org/2000/svg\" height=\"24px\"viewBox=\"0 0 24 24\"\n",
              "       width=\"24px\">\n",
              "    <path d=\"M0 0h24v24H0V0z\" fill=\"none\"/>\n",
              "    <path d=\"M18.56 5.44l.94 2.06.94-2.06 2.06-.94-2.06-.94-.94-2.06-.94 2.06-2.06.94zm-11 1L8.5 8.5l.94-2.06 2.06-.94-2.06-.94L8.5 2.5l-.94 2.06-2.06.94zm10 10l.94 2.06.94-2.06 2.06-.94-2.06-.94-.94-2.06-.94 2.06-2.06.94z\"/><path d=\"M17.41 7.96l-1.37-1.37c-.4-.4-.92-.59-1.43-.59-.52 0-1.04.2-1.43.59L10.3 9.45l-7.72 7.72c-.78.78-.78 2.05 0 2.83L4 21.41c.39.39.9.59 1.41.59.51 0 1.02-.2 1.41-.59l7.78-7.78 2.81-2.81c.8-.78.8-2.07 0-2.86zM5.41 20L4 18.59l7.72-7.72 1.47 1.35L5.41 20z\"/>\n",
              "  </svg>\n",
              "      </button>\n",
              "      \n",
              "  <style>\n",
              "    .colab-df-container {\n",
              "      display:flex;\n",
              "      flex-wrap:wrap;\n",
              "      gap: 12px;\n",
              "    }\n",
              "\n",
              "    .colab-df-convert {\n",
              "      background-color: #E8F0FE;\n",
              "      border: none;\n",
              "      border-radius: 50%;\n",
              "      cursor: pointer;\n",
              "      display: none;\n",
              "      fill: #1967D2;\n",
              "      height: 32px;\n",
              "      padding: 0 0 0 0;\n",
              "      width: 32px;\n",
              "    }\n",
              "\n",
              "    .colab-df-convert:hover {\n",
              "      background-color: #E2EBFA;\n",
              "      box-shadow: 0px 1px 2px rgba(60, 64, 67, 0.3), 0px 1px 3px 1px rgba(60, 64, 67, 0.15);\n",
              "      fill: #174EA6;\n",
              "    }\n",
              "\n",
              "    [theme=dark] .colab-df-convert {\n",
              "      background-color: #3B4455;\n",
              "      fill: #D2E3FC;\n",
              "    }\n",
              "\n",
              "    [theme=dark] .colab-df-convert:hover {\n",
              "      background-color: #434B5C;\n",
              "      box-shadow: 0px 1px 3px 1px rgba(0, 0, 0, 0.15);\n",
              "      filter: drop-shadow(0px 1px 2px rgba(0, 0, 0, 0.3));\n",
              "      fill: #FFFFFF;\n",
              "    }\n",
              "  </style>\n",
              "\n",
              "      <script>\n",
              "        const buttonEl =\n",
              "          document.querySelector('#df-dc525a70-c243-45d6-a8fa-ecf81d7558ff button.colab-df-convert');\n",
              "        buttonEl.style.display =\n",
              "          google.colab.kernel.accessAllowed ? 'block' : 'none';\n",
              "\n",
              "        async function convertToInteractive(key) {\n",
              "          const element = document.querySelector('#df-dc525a70-c243-45d6-a8fa-ecf81d7558ff');\n",
              "          const dataTable =\n",
              "            await google.colab.kernel.invokeFunction('convertToInteractive',\n",
              "                                                     [key], {});\n",
              "          if (!dataTable) return;\n",
              "\n",
              "          const docLinkHtml = 'Like what you see? Visit the ' +\n",
              "            '<a target=\"_blank\" href=https://colab.research.google.com/notebooks/data_table.ipynb>data table notebook</a>'\n",
              "            + ' to learn more about interactive tables.';\n",
              "          element.innerHTML = '';\n",
              "          dataTable['output_type'] = 'display_data';\n",
              "          await google.colab.output.renderOutput(dataTable, element);\n",
              "          const docLink = document.createElement('div');\n",
              "          docLink.innerHTML = docLinkHtml;\n",
              "          element.appendChild(docLink);\n",
              "        }\n",
              "      </script>\n",
              "    </div>\n",
              "  </div>\n",
              "  "
            ]
          },
          "metadata": {},
          "execution_count": 503
        }
      ],
      "source": [
        "## look at coeffcients\n",
        "pd.DataFrame({\"Feature\":X.columns.tolist(),\"Coefficients\":lr.coef_[0]})"
      ]
    },
    {
      "cell_type": "code",
      "execution_count": 504,
      "metadata": {
        "colab": {
          "base_uri": "https://localhost:8080/"
        },
        "id": "svF_eAhzfzuB",
        "outputId": "c76147e3-c9d6-4b8a-bffe-3e2c5e092dda"
      },
      "outputs": [
        {
          "output_type": "execute_result",
          "data": {
            "text/plain": [
              "0.842362756688285"
            ]
          },
          "metadata": {},
          "execution_count": 504
        }
      ],
      "source": [
        "lr.score(X_test_all,y_test_all)"
      ]
    },
    {
      "cell_type": "code",
      "execution_count": 505,
      "metadata": {
        "colab": {
          "base_uri": "https://localhost:8080/",
          "height": 0
        },
        "id": "9MIPnk81CwNu",
        "outputId": "cb8d8da7-b097-4a42-cc9b-e8386cb6e2f2"
      },
      "outputs": [
        {
          "output_type": "display_data",
          "data": {
            "text/plain": [
              "<Figure size 576x396 with 1 Axes>"
            ],
            "image/png": "[encoded data removed]"
          },
          "metadata": {}
        }
      ],
      "source": [
        "fig, ax = plt.subplots()\n",
        "ax.scatter(y_pred, y_test_all, edgecolors=(0, 0, 1))\n",
        "ax.plot([y_test_all.min(), y_test_all.max()], [y_test_all.min(), y_test_all.max()], 'r--', lw=3)\n",
        "ax.set_xlabel('Predicted')\n",
        "ax.set_ylabel('Actual')\n",
        "plt.show()\n"
      ]
    },
    {
      "cell_type": "markdown",
      "metadata": {
        "id": "EJiw2x_DDScR"
      },
      "source": [
        "#### LR 1: Model evaluation metrics"
      ]
    },
    {
      "cell_type": "code",
      "execution_count": 506,
      "metadata": {
        "colab": {
          "base_uri": "https://localhost:8080/"
        },
        "id": "OrjwOxJzDBbU",
        "outputId": "23b8e946-e033-48fc-f465-d43cbe8f298c"
      },
      "outputs": [
        {
          "output_type": "stream",
          "name": "stdout",
          "text": [
            "The model performance for testing set\n",
            "--------------------------------------\n",
            "MAE is 4.892285786802766\n",
            "MSE is 38.87333156327383\n",
            "RMSE is 6.234848158798563\n",
            "R2 score is 0.842362756688285\n",
            "Adj R2 score is 0.8395898813730133\n"
          ]
        }
      ],
      "source": [
        "# model evaluation for testing set\n",
        "regression_results(y_test, y_pred)"
      ]
    },
    {
      "cell_type": "markdown",
      "metadata": {
        "id": "_94uhK8BGGMJ"
      },
      "source": [
        "### LR 2: Model with high correlation variables (corr > |0.5|)"
      ]
    },
    {
      "cell_type": "code",
      "execution_count": 507,
      "metadata": {
        "id": "kcwvfvGAFTOg"
      },
      "outputs": [],
      "source": [
        "corr = df_broadband_tr.corr()\n",
        "edu_corr = corr['pct_pop_hs+']"
      ]
    },
    {
      "cell_type": "code",
      "execution_count": 508,
      "metadata": {
        "cellView": "code",
        "colab": {
          "base_uri": "https://localhost:8080/"
        },
        "id": "z8ENi2uuGQkz",
        "outputId": "0cf2434d-4159-4e02-f8f5-5971582efaf3"
      },
      "outputs": [
        {
          "output_type": "execute_result",
          "data": {
            "text/plain": [
              "pct_pop_hs+                            1.000000\n",
              "pct_pop_bachelors+                     0.888712\n",
              "pct_desktop_or_laptop                  0.776303\n",
              "pct_pop_income_gt_100k                 0.710661\n",
              "pct_tablet                             0.698570\n",
              "pct_computing_device_with_broadband    0.689616\n",
              "log_median_income                      0.684769\n",
              "pct_internet_broadband_any_type        0.683735\n",
              "pct_internet                           0.683164\n",
              "median_income                          0.676618\n",
              "pct_internet_cellular                  0.639092\n",
              "pct_computing_device                   0.638943\n",
              "pct_pop_gt_200k                        0.636543\n",
              "pct_pop_150k_thru_200k                 0.608908\n",
              "log_median_house_value                 0.578137\n",
              "pct_smartphone                         0.577029\n",
              "pct_health_ins_19_64                   0.572022\n",
              "median_rent                            0.512943\n",
              "pct_pop_125k_thru_150k                 0.503278\n",
              "pct_computing_device_no_internet      -0.521311\n",
              "poverty_rate                          -0.541658\n",
              "pct_pop_ssi_households                -0.599580\n",
              "pct_pop_income_lt_30k                 -0.602974\n",
              "SE                                    -0.612764\n",
              "INFA                                  -0.623722\n",
              "pct_no_computing_device               -0.638943\n",
              "pct_only_smartphone                   -0.653797\n",
              "pct_pop_income_lt_50k                 -0.672507\n",
              "DDI                                   -0.688987\n",
              "pct_internet_none                     -0.696098\n",
              "Name: pct_pop_hs+, dtype: float64"
            ]
          },
          "metadata": {},
          "execution_count": 508
        }
      ],
      "source": [
        "## find variables with |correlation| > 0.5 \n",
        "high_corr =edu_corr[abs(edu_corr)>0.5]\n",
        "high_corr.sort_values(ascending=False)"
      ]
    },
    {
      "cell_type": "code",
      "execution_count": 509,
      "metadata": {
        "colab": {
          "base_uri": "https://localhost:8080/"
        },
        "id": "JKiFuhxsHAs-",
        "outputId": "23617b99-bc9f-4d43-8f24-750a694a4029"
      },
      "outputs": [
        {
          "output_type": "stream",
          "name": "stdout",
          "text": [
            "['median_income', 'pct_health_ins_19_64', 'poverty_rate', 'pct_pop_bachelors+', 'pct_pop_hs+', 'pct_internet', 'pct_internet_broadband_any_type', 'pct_internet_cellular', 'pct_internet_none', 'pct_computing_device', 'pct_computing_device_with_broadband', 'pct_computing_device_no_internet', 'pct_no_computing_device', 'pct_pop_ssi_households', 'pct_pop_125k_thru_150k', 'pct_pop_150k_thru_200k', 'pct_pop_gt_200k', 'SE', 'INFA', 'DDI', 'pct_pop_income_lt_50k', 'pct_pop_income_lt_30k', 'pct_pop_income_gt_100k', 'median_rent', 'log_median_income', 'log_median_house_value', 'pct_desktop_or_laptop', 'pct_smartphone', 'pct_only_smartphone', 'pct_tablet']\n"
          ]
        }
      ],
      "source": [
        "#combine both positively and negatively correlated variables with corr >0.5\n",
        "var_high_corr = high_corr.index.tolist()\n",
        "print(var_high_corr)"
      ]
    },
    {
      "cell_type": "code",
      "execution_count": 510,
      "metadata": {
        "id": "8YL6zNWjKnTo"
      },
      "outputs": [],
      "source": [
        "#limit the dataset to only the relevant variables\n",
        "\n",
        "ind_var = [e for e in var_high_corr if e not in to_drop]\n",
        "\n",
        "target = ['pct_pop_hs+']\n",
        "\n",
        "X_train = X_train_all[ind_var]\n",
        "X_test = X_test_all[ind_var]\n",
        "y_train = y_train_all[target]\n",
        "y_test = y_test_all[target]"
      ]
    },
    {
      "cell_type": "code",
      "execution_count": 511,
      "metadata": {
        "colab": {
          "base_uri": "https://localhost:8080/"
        },
        "id": "unPyB4kVLI9m",
        "outputId": "f9286d68-617a-4e58-e939-72cc0cff5407"
      },
      "outputs": [
        {
          "output_type": "execute_result",
          "data": {
            "text/plain": [
              "LinearRegression()"
            ]
          },
          "metadata": {},
          "execution_count": 511
        }
      ],
      "source": [
        "lr_2 = LinearRegression()\n",
        "lr_2.fit(X_train, y_train)"
      ]
    },
    {
      "cell_type": "code",
      "execution_count": 512,
      "metadata": {
        "colab": {
          "base_uri": "https://localhost:8080/"
        },
        "id": "L-s6ETqMLNmn",
        "outputId": "4cbbdbe5-e61e-42fa-841f-d0cd076c6203"
      },
      "outputs": [
        {
          "output_type": "execute_result",
          "data": {
            "text/plain": [
              "array([[54.92531191],\n",
              "       [51.71708133],\n",
              "       [60.69185313],\n",
              "       ...,\n",
              "       [52.68924513],\n",
              "       [44.19223803],\n",
              "       [53.30435121]])"
            ]
          },
          "metadata": {},
          "execution_count": 512
        }
      ],
      "source": [
        "y_pred = lr_2.predict(X_test)\n",
        "\n",
        "y_pred"
      ]
    },
    {
      "cell_type": "code",
      "execution_count": 513,
      "metadata": {
        "colab": {
          "base_uri": "https://localhost:8080/",
          "height": 0
        },
        "id": "M4r71i14LR80",
        "outputId": "7cbe8e17-d44d-4d12-fef0-b21e3cd6fb75"
      },
      "outputs": [
        {
          "output_type": "execute_result",
          "data": {
            "text/plain": [
              "                                Feature  Coefficients\n",
              "0                         median_income     -0.000154\n",
              "1                  pct_health_ins_19_64      0.278909\n",
              "2                          poverty_rate     -0.075842\n",
              "3                          pct_internet      0.171341\n",
              "4       pct_internet_broadband_any_type     -0.264481\n",
              "5                 pct_internet_cellular      0.150283\n",
              "6                  pct_computing_device     -0.408473\n",
              "7   pct_computing_device_with_broadband      0.649400\n",
              "8      pct_computing_device_no_internet      0.673379\n",
              "9               pct_no_computing_device      0.408473\n",
              "10               pct_pop_ssi_households     -0.088382\n",
              "11               pct_pop_125k_thru_150k      0.104692\n",
              "12               pct_pop_150k_thru_200k      0.201499\n",
              "13                      pct_pop_gt_200k      0.726493\n",
              "14                pct_pop_income_lt_50k     -0.004030\n",
              "15                pct_pop_income_lt_30k      0.273346\n",
              "16               pct_pop_income_gt_100k      0.067778\n",
              "17                          median_rent     -0.001790\n",
              "18                    log_median_income      1.903931\n",
              "19               log_median_house_value     -1.737103\n",
              "20                pct_desktop_or_laptop      0.690339\n",
              "21                       pct_smartphone      0.201847\n",
              "22                  pct_only_smartphone     -0.008429\n",
              "23                           pct_tablet      0.006147"
            ],
            "text/html": [
              "\n",
              "  <div id=\"df-ec317525-740b-4ced-b192-2d0d63254c83\">\n",
              "    <div class=\"colab-df-container\">\n",
              "      <div>\n",
              "<style scoped>\n",
              "    .dataframe tbody tr th:only-of-type {\n",
              "        vertical-align: middle;\n",
              "    }\n",
              "\n",
              "    .dataframe tbody tr th {\n",
              "        vertical-align: top;\n",
              "    }\n",
              "\n",
              "    .dataframe thead th {\n",
              "        text-align: right;\n",
              "    }\n",
              "</style>\n",
              "<table border=\"1\" class=\"dataframe\">\n",
              "  <thead>\n",
              "    <tr style=\"text-align: right;\">\n",
              "      <th></th>\n",
              "      <th>Feature</th>\n",
              "      <th>Coefficients</th>\n",
              "    </tr>\n",
              "  </thead>\n",
              "  <tbody>\n",
              "    <tr>\n",
              "      <th>0</th>\n",
              "      <td>median_income</td>\n",
              "      <td>-0.000154</td>\n",
              "    </tr>\n",
              "    <tr>\n",
              "      <th>1</th>\n",
              "      <td>pct_health_ins_19_64</td>\n",
              "      <td>0.278909</td>\n",
              "    </tr>\n",
              "    <tr>\n",
              "      <th>2</th>\n",
              "      <td>poverty_rate</td>\n",
              "      <td>-0.075842</td>\n",
              "    </tr>\n",
              "    <tr>\n",
              "      <th>3</th>\n",
              "      <td>pct_internet</td>\n",
              "      <td>0.171341</td>\n",
              "    </tr>\n",
              "    <tr>\n",
              "      <th>4</th>\n",
              "      <td>pct_internet_broadband_any_type</td>\n",
              "      <td>-0.264481</td>\n",
              "    </tr>\n",
              "    <tr>\n",
              "      <th>5</th>\n",
              "      <td>pct_internet_cellular</td>\n",
              "      <td>0.150283</td>\n",
              "    </tr>\n",
              "    <tr>\n",
              "      <th>6</th>\n",
              "      <td>pct_computing_device</td>\n",
              "      <td>-0.408473</td>\n",
              "    </tr>\n",
              "    <tr>\n",
              "      <th>7</th>\n",
              "      <td>pct_computing_device_with_broadband</td>\n",
              "      <td>0.649400</td>\n",
              "    </tr>\n",
              "    <tr>\n",
              "      <th>8</th>\n",
              "      <td>pct_computing_device_no_internet</td>\n",
              "      <td>0.673379</td>\n",
              "    </tr>\n",
              "    <tr>\n",
              "      <th>9</th>\n",
              "      <td>pct_no_computing_device</td>\n",
              "      <td>0.408473</td>\n",
              "    </tr>\n",
              "    <tr>\n",
              "      <th>10</th>\n",
              "      <td>pct_pop_ssi_households</td>\n",
              "      <td>-0.088382</td>\n",
              "    </tr>\n",
              "    <tr>\n",
              "      <th>11</th>\n",
              "      <td>pct_pop_125k_thru_150k</td>\n",
              "      <td>0.104692</td>\n",
              "    </tr>\n",
              "    <tr>\n",
              "      <th>12</th>\n",
              "      <td>pct_pop_150k_thru_200k</td>\n",
              "      <td>0.201499</td>\n",
              "    </tr>\n",
              "    <tr>\n",
              "      <th>13</th>\n",
              "      <td>pct_pop_gt_200k</td>\n",
              "      <td>0.726493</td>\n",
              "    </tr>\n",
              "    <tr>\n",
              "      <th>14</th>\n",
              "      <td>pct_pop_income_lt_50k</td>\n",
              "      <td>-0.004030</td>\n",
              "    </tr>\n",
              "    <tr>\n",
              "      <th>15</th>\n",
              "      <td>pct_pop_income_lt_30k</td>\n",
              "      <td>0.273346</td>\n",
              "    </tr>\n",
              "    <tr>\n",
              "      <th>16</th>\n",
              "      <td>pct_pop_income_gt_100k</td>\n",
              "      <td>0.067778</td>\n",
              "    </tr>\n",
              "    <tr>\n",
              "      <th>17</th>\n",
              "      <td>median_rent</td>\n",
              "      <td>-0.001790</td>\n",
              "    </tr>\n",
              "    <tr>\n",
              "      <th>18</th>\n",
              "      <td>log_median_income</td>\n",
              "      <td>1.903931</td>\n",
              "    </tr>\n",
              "    <tr>\n",
              "      <th>19</th>\n",
              "      <td>log_median_house_value</td>\n",
              "      <td>-1.737103</td>\n",
              "    </tr>\n",
              "    <tr>\n",
              "      <th>20</th>\n",
              "      <td>pct_desktop_or_laptop</td>\n",
              "      <td>0.690339</td>\n",
              "    </tr>\n",
              "    <tr>\n",
              "      <th>21</th>\n",
              "      <td>pct_smartphone</td>\n",
              "      <td>0.201847</td>\n",
              "    </tr>\n",
              "    <tr>\n",
              "      <th>22</th>\n",
              "      <td>pct_only_smartphone</td>\n",
              "      <td>-0.008429</td>\n",
              "    </tr>\n",
              "    <tr>\n",
              "      <th>23</th>\n",
              "      <td>pct_tablet</td>\n",
              "      <td>0.006147</td>\n",
              "    </tr>\n",
              "  </tbody>\n",
              "</table>\n",
              "</div>\n",
              "      <button class=\"colab-df-convert\" onclick=\"convertToInteractive('df-ec317525-740b-4ced-b192-2d0d63254c83')\"\n",
              "              title=\"Convert this dataframe to an interactive table.\"\n",
              "              style=\"display:none;\">\n",
              "        \n",
              "  <svg xmlns=\"http://www.w3.org/2000/svg\" height=\"24px\"viewBox=\"0 0 24 24\"\n",
              "       width=\"24px\">\n",
              "    <path d=\"M0 0h24v24H0V0z\" fill=\"none\"/>\n",
              "    <path d=\"M18.56 5.44l.94 2.06.94-2.06 2.06-.94-2.06-.94-.94-2.06-.94 2.06-2.06.94zm-11 1L8.5 8.5l.94-2.06 2.06-.94-2.06-.94L8.5 2.5l-.94 2.06-2.06.94zm10 10l.94 2.06.94-2.06 2.06-.94-2.06-.94-.94-2.06-.94 2.06-2.06.94z\"/><path d=\"M17.41 7.96l-1.37-1.37c-.4-.4-.92-.59-1.43-.59-.52 0-1.04.2-1.43.59L10.3 9.45l-7.72 7.72c-.78.78-.78 2.05 0 2.83L4 21.41c.39.39.9.59 1.41.59.51 0 1.02-.2 1.41-.59l7.78-7.78 2.81-2.81c.8-.78.8-2.07 0-2.86zM5.41 20L4 18.59l7.72-7.72 1.47 1.35L5.41 20z\"/>\n",
              "  </svg>\n",
              "      </button>\n",
              "      \n",
              "  <style>\n",
              "    .colab-df-container {\n",
              "      display:flex;\n",
              "      flex-wrap:wrap;\n",
              "      gap: 12px;\n",
              "    }\n",
              "\n",
              "    .colab-df-convert {\n",
              "      background-color: #E8F0FE;\n",
              "      border: none;\n",
              "      border-radius: 50%;\n",
              "      cursor: pointer;\n",
              "      display: none;\n",
              "      fill: #1967D2;\n",
              "      height: 32px;\n",
              "      padding: 0 0 0 0;\n",
              "      width: 32px;\n",
              "    }\n",
              "\n",
              "    .colab-df-convert:hover {\n",
              "      background-color: #E2EBFA;\n",
              "      box-shadow: 0px 1px 2px rgba(60, 64, 67, 0.3), 0px 1px 3px 1px rgba(60, 64, 67, 0.15);\n",
              "      fill: #174EA6;\n",
              "    }\n",
              "\n",
              "    [theme=dark] .colab-df-convert {\n",
              "      background-color: #3B4455;\n",
              "      fill: #D2E3FC;\n",
              "    }\n",
              "\n",
              "    [theme=dark] .colab-df-convert:hover {\n",
              "      background-color: #434B5C;\n",
              "      box-shadow: 0px 1px 3px 1px rgba(0, 0, 0, 0.15);\n",
              "      filter: drop-shadow(0px 1px 2px rgba(0, 0, 0, 0.3));\n",
              "      fill: #FFFFFF;\n",
              "    }\n",
              "  </style>\n",
              "\n",
              "      <script>\n",
              "        const buttonEl =\n",
              "          document.querySelector('#df-ec317525-740b-4ced-b192-2d0d63254c83 button.colab-df-convert');\n",
              "        buttonEl.style.display =\n",
              "          google.colab.kernel.accessAllowed ? 'block' : 'none';\n",
              "\n",
              "        async function convertToInteractive(key) {\n",
              "          const element = document.querySelector('#df-ec317525-740b-4ced-b192-2d0d63254c83');\n",
              "          const dataTable =\n",
              "            await google.colab.kernel.invokeFunction('convertToInteractive',\n",
              "                                                     [key], {});\n",
              "          if (!dataTable) return;\n",
              "\n",
              "          const docLinkHtml = 'Like what you see? Visit the ' +\n",
              "            '<a target=\"_blank\" href=https://colab.research.google.com/notebooks/data_table.ipynb>data table notebook</a>'\n",
              "            + ' to learn more about interactive tables.';\n",
              "          element.innerHTML = '';\n",
              "          dataTable['output_type'] = 'display_data';\n",
              "          await google.colab.output.renderOutput(dataTable, element);\n",
              "          const docLink = document.createElement('div');\n",
              "          docLink.innerHTML = docLinkHtml;\n",
              "          element.appendChild(docLink);\n",
              "        }\n",
              "      </script>\n",
              "    </div>\n",
              "  </div>\n",
              "  "
            ]
          },
          "metadata": {},
          "execution_count": 513
        }
      ],
      "source": [
        "pd.DataFrame({\"Feature\":X_train.columns.tolist(),\"Coefficients\":lr_2.coef_[0]})"
      ]
    },
    {
      "cell_type": "markdown",
      "metadata": {
        "id": "gHlX-TPGE-In"
      },
      "source": [
        "#### LR 2: Model evaluation metrics"
      ]
    },
    {
      "cell_type": "code",
      "execution_count": 514,
      "metadata": {
        "colab": {
          "base_uri": "https://localhost:8080/"
        },
        "id": "B4kp9eRdLnrJ",
        "outputId": "a56d9f63-ce61-49fa-d5b5-387426797e7a"
      },
      "outputs": [
        {
          "output_type": "stream",
          "name": "stdout",
          "text": [
            "The model performance for testing set\n",
            "--------------------------------------\n",
            "MAE is 6.652276038003812\n",
            "MSE is 71.14360096536953\n",
            "RMSE is 8.434666618507784\n",
            "R2 score is 0.7115019298720218\n",
            "Adj R2 score is 0.7064271825575212\n"
          ]
        }
      ],
      "source": [
        "# model evaluation for testing set\n",
        "regression_results(y_test, y_pred)"
      ]
    },
    {
      "cell_type": "markdown",
      "metadata": {
        "id": "IoGljVobFHXA"
      },
      "source": [
        "we can see that the metrics dropped pretty significantly."
      ]
    },
    {
      "cell_type": "markdown",
      "metadata": {
        "id": "XJ9S0zmAwkV7"
      },
      "source": [
        "### LR 3: Adding all broadband-related variables in addition to the above high correlation variables"
      ]
    },
    {
      "cell_type": "code",
      "execution_count": 515,
      "metadata": {
        "id": "B1HvWgZCwt1I"
      },
      "outputs": [],
      "source": [
        "#limit the dataset to only the relevant variables\n",
        "\n",
        "for word in br_important_vars:\n",
        "    if word not in ind_var:\n",
        "        ind_var.append(word)\n",
        "\n",
        "target = ['pct_pop_hs+']\n",
        "\n",
        "X_train = X_train_all[ind_var]\n",
        "X_test = X_test_all[ind_var]\n",
        "y_train = y_train_all[target]\n",
        "y_test = y_test_all[target]"
      ]
    },
    {
      "cell_type": "code",
      "source": [
        "ind_var"
      ],
      "metadata": {
        "colab": {
          "base_uri": "https://localhost:8080/"
        },
        "id": "Gqgs-y7kkeX_",
        "outputId": "13c0abd3-2d0a-49be-b875-23cd09e12df2"
      },
      "execution_count": 516,
      "outputs": [
        {
          "output_type": "execute_result",
          "data": {
            "text/plain": [
              "['median_income',\n",
              " 'pct_health_ins_19_64',\n",
              " 'poverty_rate',\n",
              " 'pct_internet',\n",
              " 'pct_internet_broadband_any_type',\n",
              " 'pct_internet_cellular',\n",
              " 'pct_computing_device',\n",
              " 'pct_computing_device_with_broadband',\n",
              " 'pct_computing_device_no_internet',\n",
              " 'pct_no_computing_device',\n",
              " 'pct_pop_ssi_households',\n",
              " 'pct_pop_125k_thru_150k',\n",
              " 'pct_pop_150k_thru_200k',\n",
              " 'pct_pop_gt_200k',\n",
              " 'pct_pop_income_lt_50k',\n",
              " 'pct_pop_income_lt_30k',\n",
              " 'pct_pop_income_gt_100k',\n",
              " 'median_rent',\n",
              " 'log_median_income',\n",
              " 'log_median_house_value',\n",
              " 'pct_desktop_or_laptop',\n",
              " 'pct_smartphone',\n",
              " 'pct_only_smartphone',\n",
              " 'pct_tablet',\n",
              " 'pct_only_cellular',\n",
              " 'pct_internet_broadband_satellite']"
            ]
          },
          "metadata": {},
          "execution_count": 516
        }
      ]
    },
    {
      "cell_type": "code",
      "execution_count": 517,
      "metadata": {
        "colab": {
          "base_uri": "https://localhost:8080/",
          "height": 0
        },
        "id": "N7iDrOsoxV67",
        "outputId": "499e2ea9-217b-47af-8e7e-a4fc55c6d29e"
      },
      "outputs": [
        {
          "output_type": "execute_result",
          "data": {
            "text/plain": [
              "                                Feature  Coefficients\n",
              "0                         median_income     -0.000154\n",
              "1                  pct_health_ins_19_64      0.268932\n",
              "2                          poverty_rate     -0.075397\n",
              "3                          pct_internet      0.210841\n",
              "4       pct_internet_broadband_any_type     -0.332307\n",
              "5                 pct_internet_cellular      0.171590\n",
              "6                  pct_computing_device     -0.341737\n",
              "7   pct_computing_device_with_broadband      0.559411\n",
              "8      pct_computing_device_no_internet      0.566274\n",
              "9               pct_no_computing_device      0.341737\n",
              "10               pct_pop_ssi_households     -0.091270\n",
              "11               pct_pop_125k_thru_150k      0.097504\n",
              "12               pct_pop_150k_thru_200k      0.184770\n",
              "13                      pct_pop_gt_200k      0.715977\n",
              "14                pct_pop_income_lt_50k     -0.012326\n",
              "15                pct_pop_income_lt_30k      0.263385\n",
              "16               pct_pop_income_gt_100k      0.067861\n",
              "17                          median_rent     -0.002146\n",
              "18                    log_median_income      2.184295\n",
              "19               log_median_house_value     -1.775885\n",
              "20                pct_desktop_or_laptop      0.660170\n",
              "21                       pct_smartphone      0.194031\n",
              "22                  pct_only_smartphone      0.014582\n",
              "23                           pct_tablet     -0.003179\n",
              "24                    pct_only_cellular     -0.100623\n",
              "25     pct_internet_broadband_satellite     -0.147600"
            ],
            "text/html": [
              "\n",
              "  <div id=\"df-611e4384-2d18-4145-8a8e-52c7a81a13e9\">\n",
              "    <div class=\"colab-df-container\">\n",
              "      <div>\n",
              "<style scoped>\n",
              "    .dataframe tbody tr th:only-of-type {\n",
              "        vertical-align: middle;\n",
              "    }\n",
              "\n",
              "    .dataframe tbody tr th {\n",
              "        vertical-align: top;\n",
              "    }\n",
              "\n",
              "    .dataframe thead th {\n",
              "        text-align: right;\n",
              "    }\n",
              "</style>\n",
              "<table border=\"1\" class=\"dataframe\">\n",
              "  <thead>\n",
              "    <tr style=\"text-align: right;\">\n",
              "      <th></th>\n",
              "      <th>Feature</th>\n",
              "      <th>Coefficients</th>\n",
              "    </tr>\n",
              "  </thead>\n",
              "  <tbody>\n",
              "    <tr>\n",
              "      <th>0</th>\n",
              "      <td>median_income</td>\n",
              "      <td>-0.000154</td>\n",
              "    </tr>\n",
              "    <tr>\n",
              "      <th>1</th>\n",
              "      <td>pct_health_ins_19_64</td>\n",
              "      <td>0.268932</td>\n",
              "    </tr>\n",
              "    <tr>\n",
              "      <th>2</th>\n",
              "      <td>poverty_rate</td>\n",
              "      <td>-0.075397</td>\n",
              "    </tr>\n",
              "    <tr>\n",
              "      <th>3</th>\n",
              "      <td>pct_internet</td>\n",
              "      <td>0.210841</td>\n",
              "    </tr>\n",
              "    <tr>\n",
              "      <th>4</th>\n",
              "      <td>pct_internet_broadband_any_type</td>\n",
              "      <td>-0.332307</td>\n",
              "    </tr>\n",
              "    <tr>\n",
              "      <th>5</th>\n",
              "      <td>pct_internet_cellular</td>\n",
              "      <td>0.171590</td>\n",
              "    </tr>\n",
              "    <tr>\n",
              "      <th>6</th>\n",
              "      <td>pct_computing_device</td>\n",
              "      <td>-0.341737</td>\n",
              "    </tr>\n",
              "    <tr>\n",
              "      <th>7</th>\n",
              "      <td>pct_computing_device_with_broadband</td>\n",
              "      <td>0.559411</td>\n",
              "    </tr>\n",
              "    <tr>\n",
              "      <th>8</th>\n",
              "      <td>pct_computing_device_no_internet</td>\n",
              "      <td>0.566274</td>\n",
              "    </tr>\n",
              "    <tr>\n",
              "      <th>9</th>\n",
              "      <td>pct_no_computing_device</td>\n",
              "      <td>0.341737</td>\n",
              "    </tr>\n",
              "    <tr>\n",
              "      <th>10</th>\n",
              "      <td>pct_pop_ssi_households</td>\n",
              "      <td>-0.091270</td>\n",
              "    </tr>\n",
              "    <tr>\n",
              "      <th>11</th>\n",
              "      <td>pct_pop_125k_thru_150k</td>\n",
              "      <td>0.097504</td>\n",
              "    </tr>\n",
              "    <tr>\n",
              "      <th>12</th>\n",
              "      <td>pct_pop_150k_thru_200k</td>\n",
              "      <td>0.184770</td>\n",
              "    </tr>\n",
              "    <tr>\n",
              "      <th>13</th>\n",
              "      <td>pct_pop_gt_200k</td>\n",
              "      <td>0.715977</td>\n",
              "    </tr>\n",
              "    <tr>\n",
              "      <th>14</th>\n",
              "      <td>pct_pop_income_lt_50k</td>\n",
              "      <td>-0.012326</td>\n",
              "    </tr>\n",
              "    <tr>\n",
              "      <th>15</th>\n",
              "      <td>pct_pop_income_lt_30k</td>\n",
              "      <td>0.263385</td>\n",
              "    </tr>\n",
              "    <tr>\n",
              "      <th>16</th>\n",
              "      <td>pct_pop_income_gt_100k</td>\n",
              "      <td>0.067861</td>\n",
              "    </tr>\n",
              "    <tr>\n",
              "      <th>17</th>\n",
              "      <td>median_rent</td>\n",
              "      <td>-0.002146</td>\n",
              "    </tr>\n",
              "    <tr>\n",
              "      <th>18</th>\n",
              "      <td>log_median_income</td>\n",
              "      <td>2.184295</td>\n",
              "    </tr>\n",
              "    <tr>\n",
              "      <th>19</th>\n",
              "      <td>log_median_house_value</td>\n",
              "      <td>-1.775885</td>\n",
              "    </tr>\n",
              "    <tr>\n",
              "      <th>20</th>\n",
              "      <td>pct_desktop_or_laptop</td>\n",
              "      <td>0.660170</td>\n",
              "    </tr>\n",
              "    <tr>\n",
              "      <th>21</th>\n",
              "      <td>pct_smartphone</td>\n",
              "      <td>0.194031</td>\n",
              "    </tr>\n",
              "    <tr>\n",
              "      <th>22</th>\n",
              "      <td>pct_only_smartphone</td>\n",
              "      <td>0.014582</td>\n",
              "    </tr>\n",
              "    <tr>\n",
              "      <th>23</th>\n",
              "      <td>pct_tablet</td>\n",
              "      <td>-0.003179</td>\n",
              "    </tr>\n",
              "    <tr>\n",
              "      <th>24</th>\n",
              "      <td>pct_only_cellular</td>\n",
              "      <td>-0.100623</td>\n",
              "    </tr>\n",
              "    <tr>\n",
              "      <th>25</th>\n",
              "      <td>pct_internet_broadband_satellite</td>\n",
              "      <td>-0.147600</td>\n",
              "    </tr>\n",
              "  </tbody>\n",
              "</table>\n",
              "</div>\n",
              "      <button class=\"colab-df-convert\" onclick=\"convertToInteractive('df-611e4384-2d18-4145-8a8e-52c7a81a13e9')\"\n",
              "              title=\"Convert this dataframe to an interactive table.\"\n",
              "              style=\"display:none;\">\n",
              "        \n",
              "  <svg xmlns=\"http://www.w3.org/2000/svg\" height=\"24px\"viewBox=\"0 0 24 24\"\n",
              "       width=\"24px\">\n",
              "    <path d=\"M0 0h24v24H0V0z\" fill=\"none\"/>\n",
              "    <path d=\"M18.56 5.44l.94 2.06.94-2.06 2.06-.94-2.06-.94-.94-2.06-.94 2.06-2.06.94zm-11 1L8.5 8.5l.94-2.06 2.06-.94-2.06-.94L8.5 2.5l-.94 2.06-2.06.94zm10 10l.94 2.06.94-2.06 2.06-.94-2.06-.94-.94-2.06-.94 2.06-2.06.94z\"/><path d=\"M17.41 7.96l-1.37-1.37c-.4-.4-.92-.59-1.43-.59-.52 0-1.04.2-1.43.59L10.3 9.45l-7.72 7.72c-.78.78-.78 2.05 0 2.83L4 21.41c.39.39.9.59 1.41.59.51 0 1.02-.2 1.41-.59l7.78-7.78 2.81-2.81c.8-.78.8-2.07 0-2.86zM5.41 20L4 18.59l7.72-7.72 1.47 1.35L5.41 20z\"/>\n",
              "  </svg>\n",
              "      </button>\n",
              "      \n",
              "  <style>\n",
              "    .colab-df-container {\n",
              "      display:flex;\n",
              "      flex-wrap:wrap;\n",
              "      gap: 12px;\n",
              "    }\n",
              "\n",
              "    .colab-df-convert {\n",
              "      background-color: #E8F0FE;\n",
              "      border: none;\n",
              "      border-radius: 50%;\n",
              "      cursor: pointer;\n",
              "      display: none;\n",
              "      fill: #1967D2;\n",
              "      height: 32px;\n",
              "      padding: 0 0 0 0;\n",
              "      width: 32px;\n",
              "    }\n",
              "\n",
              "    .colab-df-convert:hover {\n",
              "      background-color: #E2EBFA;\n",
              "      box-shadow: 0px 1px 2px rgba(60, 64, 67, 0.3), 0px 1px 3px 1px rgba(60, 64, 67, 0.15);\n",
              "      fill: #174EA6;\n",
              "    }\n",
              "\n",
              "    [theme=dark] .colab-df-convert {\n",
              "      background-color: #3B4455;\n",
              "      fill: #D2E3FC;\n",
              "    }\n",
              "\n",
              "    [theme=dark] .colab-df-convert:hover {\n",
              "      background-color: #434B5C;\n",
              "      box-shadow: 0px 1px 3px 1px rgba(0, 0, 0, 0.15);\n",
              "      filter: drop-shadow(0px 1px 2px rgba(0, 0, 0, 0.3));\n",
              "      fill: #FFFFFF;\n",
              "    }\n",
              "  </style>\n",
              "\n",
              "      <script>\n",
              "        const buttonEl =\n",
              "          document.querySelector('#df-611e4384-2d18-4145-8a8e-52c7a81a13e9 button.colab-df-convert');\n",
              "        buttonEl.style.display =\n",
              "          google.colab.kernel.accessAllowed ? 'block' : 'none';\n",
              "\n",
              "        async function convertToInteractive(key) {\n",
              "          const element = document.querySelector('#df-611e4384-2d18-4145-8a8e-52c7a81a13e9');\n",
              "          const dataTable =\n",
              "            await google.colab.kernel.invokeFunction('convertToInteractive',\n",
              "                                                     [key], {});\n",
              "          if (!dataTable) return;\n",
              "\n",
              "          const docLinkHtml = 'Like what you see? Visit the ' +\n",
              "            '<a target=\"_blank\" href=https://colab.research.google.com/notebooks/data_table.ipynb>data table notebook</a>'\n",
              "            + ' to learn more about interactive tables.';\n",
              "          element.innerHTML = '';\n",
              "          dataTable['output_type'] = 'display_data';\n",
              "          await google.colab.output.renderOutput(dataTable, element);\n",
              "          const docLink = document.createElement('div');\n",
              "          docLink.innerHTML = docLinkHtml;\n",
              "          element.appendChild(docLink);\n",
              "        }\n",
              "      </script>\n",
              "    </div>\n",
              "  </div>\n",
              "  "
            ]
          },
          "metadata": {},
          "execution_count": 517
        }
      ],
      "source": [
        "lr_3 = LinearRegression()\n",
        "lr_3.fit(X_train, y_train)\n",
        "y_pred = lr_3.predict(X_test)\n",
        "pd.DataFrame({\"Feature\":X_train.columns.tolist(),\"Coefficients\":lr_3.coef_[0]})"
      ]
    },
    {
      "cell_type": "markdown",
      "metadata": {
        "id": "c0MBHWufx6Z3"
      },
      "source": [
        "#### LR3: Model evaluation metrics"
      ]
    },
    {
      "cell_type": "code",
      "execution_count": 518,
      "metadata": {
        "colab": {
          "base_uri": "https://localhost:8080/"
        },
        "id": "oorFrcoVxngY",
        "outputId": "f2d5f857-f370-4744-ba95-2d3b7615a04e"
      },
      "outputs": [
        {
          "output_type": "stream",
          "name": "stdout",
          "text": [
            "The model performance for testing set\n",
            "--------------------------------------\n",
            "MAE is 6.620094885045002\n",
            "MSE is 70.34384249362928\n",
            "RMSE is 8.387123612635579\n",
            "R2 score is 0.7147450715254484\n",
            "Adj R2 score is 0.7097273718175019\n"
          ]
        }
      ],
      "source": [
        "# model evaluation for testing set\n",
        "regression_results(y_test, y_pred)"
      ]
    },
    {
      "cell_type": "markdown",
      "metadata": {
        "id": "_za8aO2sxsgc"
      },
      "source": [
        "As expected, these newly added boradband variables are not adding much improvement to the model."
      ]
    },
    {
      "cell_type": "markdown",
      "source": [
        "### LR 4: Adding interesting broadband vars"
      ],
      "metadata": {
        "id": "8uNNT5pAvpbK"
      }
    },
    {
      "cell_type": "code",
      "source": [
        "#limit the dataset to only the relevant variables\n",
        "\n",
        "for word in br_interest_vars:\n",
        "    if word not in ind_var:\n",
        "        ind_var.append(word)\n",
        "\n",
        "target = ['pct_pop_hs+']\n",
        "\n",
        "X_train = X_train_all[ind_var]\n",
        "X_test = X_test_all[ind_var]\n",
        "y_train = y_train_all[target]\n",
        "y_test = y_test_all[target]"
      ],
      "metadata": {
        "id": "Wrt0-BKxvzsF"
      },
      "execution_count": 519,
      "outputs": []
    },
    {
      "cell_type": "code",
      "source": [
        "lr_4 = LinearRegression()\n",
        "lr_4.fit(X_train, y_train)\n",
        "y_pred = lr_4.predict(X_test)\n",
        "pd.DataFrame({\"Feature\":X_train.columns.tolist(),\"Coefficients\":lr_4.coef_[0]})"
      ],
      "metadata": {
        "colab": {
          "base_uri": "https://localhost:8080/",
          "height": 0
        },
        "id": "pmu2pzp9wG1I",
        "outputId": "05782ecd-4d78-4170-f3e5-de3c6f7d4623"
      },
      "execution_count": 520,
      "outputs": [
        {
          "output_type": "execute_result",
          "data": {
            "text/plain": [
              "                                Feature  Coefficients\n",
              "0                         median_income     -0.000153\n",
              "1                  pct_health_ins_19_64      0.260819\n",
              "2                          poverty_rate     -0.078104\n",
              "3                          pct_internet      0.131695\n",
              "4       pct_internet_broadband_any_type     -0.187035\n",
              "5                 pct_internet_cellular      0.165848\n",
              "6                  pct_computing_device     -0.356044\n",
              "7   pct_computing_device_with_broadband      0.547555\n",
              "8      pct_computing_device_no_internet      0.593027\n",
              "9               pct_no_computing_device      0.356044\n",
              "10               pct_pop_ssi_households     -0.085666\n",
              "11               pct_pop_125k_thru_150k      0.105438\n",
              "12               pct_pop_150k_thru_200k      0.192439\n",
              "13                      pct_pop_gt_200k      0.688680\n",
              "14                pct_pop_income_lt_50k     -0.010979\n",
              "15                pct_pop_income_lt_30k      0.265716\n",
              "16               pct_pop_income_gt_100k      0.066719\n",
              "17                          median_rent     -0.001491\n",
              "18                    log_median_income      2.193844\n",
              "19               log_median_house_value     -1.556952\n",
              "20                pct_desktop_or_laptop      0.635656\n",
              "21                       pct_smartphone      0.209308\n",
              "22                  pct_only_smartphone      0.008370\n",
              "23                           pct_tablet     -0.004643\n",
              "24                    pct_only_cellular     -0.127392\n",
              "25     pct_internet_broadband_satellite     -0.217334\n",
              "26                All_Provider_Count_25     -0.081861\n",
              "27               All_Provider_Count_100      0.667900\n",
              "28   Ookla Median Download Speed (Mbps)     -0.024071"
            ],
            "text/html": [
              "\n",
              "  <div id=\"df-ee85477f-b719-4bba-907b-d15591648a29\">\n",
              "    <div class=\"colab-df-container\">\n",
              "      <div>\n",
              "<style scoped>\n",
              "    .dataframe tbody tr th:only-of-type {\n",
              "        vertical-align: middle;\n",
              "    }\n",
              "\n",
              "    .dataframe tbody tr th {\n",
              "        vertical-align: top;\n",
              "    }\n",
              "\n",
              "    .dataframe thead th {\n",
              "        text-align: right;\n",
              "    }\n",
              "</style>\n",
              "<table border=\"1\" class=\"dataframe\">\n",
              "  <thead>\n",
              "    <tr style=\"text-align: right;\">\n",
              "      <th></th>\n",
              "      <th>Feature</th>\n",
              "      <th>Coefficients</th>\n",
              "    </tr>\n",
              "  </thead>\n",
              "  <tbody>\n",
              "    <tr>\n",
              "      <th>0</th>\n",
              "      <td>median_income</td>\n",
              "      <td>-0.000153</td>\n",
              "    </tr>\n",
              "    <tr>\n",
              "      <th>1</th>\n",
              "      <td>pct_health_ins_19_64</td>\n",
              "      <td>0.260819</td>\n",
              "    </tr>\n",
              "    <tr>\n",
              "      <th>2</th>\n",
              "      <td>poverty_rate</td>\n",
              "      <td>-0.078104</td>\n",
              "    </tr>\n",
              "    <tr>\n",
              "      <th>3</th>\n",
              "      <td>pct_internet</td>\n",
              "      <td>0.131695</td>\n",
              "    </tr>\n",
              "    <tr>\n",
              "      <th>4</th>\n",
              "      <td>pct_internet_broadband_any_type</td>\n",
              "      <td>-0.187035</td>\n",
              "    </tr>\n",
              "    <tr>\n",
              "      <th>5</th>\n",
              "      <td>pct_internet_cellular</td>\n",
              "      <td>0.165848</td>\n",
              "    </tr>\n",
              "    <tr>\n",
              "      <th>6</th>\n",
              "      <td>pct_computing_device</td>\n",
              "      <td>-0.356044</td>\n",
              "    </tr>\n",
              "    <tr>\n",
              "      <th>7</th>\n",
              "      <td>pct_computing_device_with_broadband</td>\n",
              "      <td>0.547555</td>\n",
              "    </tr>\n",
              "    <tr>\n",
              "      <th>8</th>\n",
              "      <td>pct_computing_device_no_internet</td>\n",
              "      <td>0.593027</td>\n",
              "    </tr>\n",
              "    <tr>\n",
              "      <th>9</th>\n",
              "      <td>pct_no_computing_device</td>\n",
              "      <td>0.356044</td>\n",
              "    </tr>\n",
              "    <tr>\n",
              "      <th>10</th>\n",
              "      <td>pct_pop_ssi_households</td>\n",
              "      <td>-0.085666</td>\n",
              "    </tr>\n",
              "    <tr>\n",
              "      <th>11</th>\n",
              "      <td>pct_pop_125k_thru_150k</td>\n",
              "      <td>0.105438</td>\n",
              "    </tr>\n",
              "    <tr>\n",
              "      <th>12</th>\n",
              "      <td>pct_pop_150k_thru_200k</td>\n",
              "      <td>0.192439</td>\n",
              "    </tr>\n",
              "    <tr>\n",
              "      <th>13</th>\n",
              "      <td>pct_pop_gt_200k</td>\n",
              "      <td>0.688680</td>\n",
              "    </tr>\n",
              "    <tr>\n",
              "      <th>14</th>\n",
              "      <td>pct_pop_income_lt_50k</td>\n",
              "      <td>-0.010979</td>\n",
              "    </tr>\n",
              "    <tr>\n",
              "      <th>15</th>\n",
              "      <td>pct_pop_income_lt_30k</td>\n",
              "      <td>0.265716</td>\n",
              "    </tr>\n",
              "    <tr>\n",
              "      <th>16</th>\n",
              "      <td>pct_pop_income_gt_100k</td>\n",
              "      <td>0.066719</td>\n",
              "    </tr>\n",
              "    <tr>\n",
              "      <th>17</th>\n",
              "      <td>median_rent</td>\n",
              "      <td>-0.001491</td>\n",
              "    </tr>\n",
              "    <tr>\n",
              "      <th>18</th>\n",
              "      <td>log_median_income</td>\n",
              "      <td>2.193844</td>\n",
              "    </tr>\n",
              "    <tr>\n",
              "      <th>19</th>\n",
              "      <td>log_median_house_value</td>\n",
              "      <td>-1.556952</td>\n",
              "    </tr>\n",
              "    <tr>\n",
              "      <th>20</th>\n",
              "      <td>pct_desktop_or_laptop</td>\n",
              "      <td>0.635656</td>\n",
              "    </tr>\n",
              "    <tr>\n",
              "      <th>21</th>\n",
              "      <td>pct_smartphone</td>\n",
              "      <td>0.209308</td>\n",
              "    </tr>\n",
              "    <tr>\n",
              "      <th>22</th>\n",
              "      <td>pct_only_smartphone</td>\n",
              "      <td>0.008370</td>\n",
              "    </tr>\n",
              "    <tr>\n",
              "      <th>23</th>\n",
              "      <td>pct_tablet</td>\n",
              "      <td>-0.004643</td>\n",
              "    </tr>\n",
              "    <tr>\n",
              "      <th>24</th>\n",
              "      <td>pct_only_cellular</td>\n",
              "      <td>-0.127392</td>\n",
              "    </tr>\n",
              "    <tr>\n",
              "      <th>25</th>\n",
              "      <td>pct_internet_broadband_satellite</td>\n",
              "      <td>-0.217334</td>\n",
              "    </tr>\n",
              "    <tr>\n",
              "      <th>26</th>\n",
              "      <td>All_Provider_Count_25</td>\n",
              "      <td>-0.081861</td>\n",
              "    </tr>\n",
              "    <tr>\n",
              "      <th>27</th>\n",
              "      <td>All_Provider_Count_100</td>\n",
              "      <td>0.667900</td>\n",
              "    </tr>\n",
              "    <tr>\n",
              "      <th>28</th>\n",
              "      <td>Ookla Median Download Speed (Mbps)</td>\n",
              "      <td>-0.024071</td>\n",
              "    </tr>\n",
              "  </tbody>\n",
              "</table>\n",
              "</div>\n",
              "      <button class=\"colab-df-convert\" onclick=\"convertToInteractive('df-ee85477f-b719-4bba-907b-d15591648a29')\"\n",
              "              title=\"Convert this dataframe to an interactive table.\"\n",
              "              style=\"display:none;\">\n",
              "        \n",
              "  <svg xmlns=\"http://www.w3.org/2000/svg\" height=\"24px\"viewBox=\"0 0 24 24\"\n",
              "       width=\"24px\">\n",
              "    <path d=\"M0 0h24v24H0V0z\" fill=\"none\"/>\n",
              "    <path d=\"M18.56 5.44l.94 2.06.94-2.06 2.06-.94-2.06-.94-.94-2.06-.94 2.06-2.06.94zm-11 1L8.5 8.5l.94-2.06 2.06-.94-2.06-.94L8.5 2.5l-.94 2.06-2.06.94zm10 10l.94 2.06.94-2.06 2.06-.94-2.06-.94-.94-2.06-.94 2.06-2.06.94z\"/><path d=\"M17.41 7.96l-1.37-1.37c-.4-.4-.92-.59-1.43-.59-.52 0-1.04.2-1.43.59L10.3 9.45l-7.72 7.72c-.78.78-.78 2.05 0 2.83L4 21.41c.39.39.9.59 1.41.59.51 0 1.02-.2 1.41-.59l7.78-7.78 2.81-2.81c.8-.78.8-2.07 0-2.86zM5.41 20L4 18.59l7.72-7.72 1.47 1.35L5.41 20z\"/>\n",
              "  </svg>\n",
              "      </button>\n",
              "      \n",
              "  <style>\n",
              "    .colab-df-container {\n",
              "      display:flex;\n",
              "      flex-wrap:wrap;\n",
              "      gap: 12px;\n",
              "    }\n",
              "\n",
              "    .colab-df-convert {\n",
              "      background-color: #E8F0FE;\n",
              "      border: none;\n",
              "      border-radius: 50%;\n",
              "      cursor: pointer;\n",
              "      display: none;\n",
              "      fill: #1967D2;\n",
              "      height: 32px;\n",
              "      padding: 0 0 0 0;\n",
              "      width: 32px;\n",
              "    }\n",
              "\n",
              "    .colab-df-convert:hover {\n",
              "      background-color: #E2EBFA;\n",
              "      box-shadow: 0px 1px 2px rgba(60, 64, 67, 0.3), 0px 1px 3px 1px rgba(60, 64, 67, 0.15);\n",
              "      fill: #174EA6;\n",
              "    }\n",
              "\n",
              "    [theme=dark] .colab-df-convert {\n",
              "      background-color: #3B4455;\n",
              "      fill: #D2E3FC;\n",
              "    }\n",
              "\n",
              "    [theme=dark] .colab-df-convert:hover {\n",
              "      background-color: #434B5C;\n",
              "      box-shadow: 0px 1px 3px 1px rgba(0, 0, 0, 0.15);\n",
              "      filter: drop-shadow(0px 1px 2px rgba(0, 0, 0, 0.3));\n",
              "      fill: #FFFFFF;\n",
              "    }\n",
              "  </style>\n",
              "\n",
              "      <script>\n",
              "        const buttonEl =\n",
              "          document.querySelector('#df-ee85477f-b719-4bba-907b-d15591648a29 button.colab-df-convert');\n",
              "        buttonEl.style.display =\n",
              "          google.colab.kernel.accessAllowed ? 'block' : 'none';\n",
              "\n",
              "        async function convertToInteractive(key) {\n",
              "          const element = document.querySelector('#df-ee85477f-b719-4bba-907b-d15591648a29');\n",
              "          const dataTable =\n",
              "            await google.colab.kernel.invokeFunction('convertToInteractive',\n",
              "                                                     [key], {});\n",
              "          if (!dataTable) return;\n",
              "\n",
              "          const docLinkHtml = 'Like what you see? Visit the ' +\n",
              "            '<a target=\"_blank\" href=https://colab.research.google.com/notebooks/data_table.ipynb>data table notebook</a>'\n",
              "            + ' to learn more about interactive tables.';\n",
              "          element.innerHTML = '';\n",
              "          dataTable['output_type'] = 'display_data';\n",
              "          await google.colab.output.renderOutput(dataTable, element);\n",
              "          const docLink = document.createElement('div');\n",
              "          docLink.innerHTML = docLinkHtml;\n",
              "          element.appendChild(docLink);\n",
              "        }\n",
              "      </script>\n",
              "    </div>\n",
              "  </div>\n",
              "  "
            ]
          },
          "metadata": {},
          "execution_count": 520
        }
      ]
    },
    {
      "cell_type": "code",
      "source": [
        "# model evaluation for testing set\n",
        "regression_results(y_test, y_pred)"
      ],
      "metadata": {
        "colab": {
          "base_uri": "https://localhost:8080/"
        },
        "id": "kfhVjsUe34Jk",
        "outputId": "c07f24ad-05d0-40ff-cc9d-b92c3533ac44"
      },
      "execution_count": 521,
      "outputs": [
        {
          "output_type": "stream",
          "name": "stdout",
          "text": [
            "The model performance for testing set\n",
            "--------------------------------------\n",
            "MAE is 6.5713698591163885\n",
            "MSE is 69.34203517345486\n",
            "RMSE is 8.327186510067783\n",
            "R2 score is 0.7188075518411565\n",
            "Adj R2 score is 0.7138613120950157\n"
          ]
        }
      ]
    },
    {
      "cell_type": "markdown",
      "source": [
        "### Use Cross-Validation to evaluate model performance"
      ],
      "metadata": {
        "id": "ZbupVYCBZg37"
      }
    },
    {
      "cell_type": "code",
      "source": [
        "from sklearn.utils import shuffle\n",
        "X_shuffle, y_shuffle = shuffle(X_train, y_train, random_state=42)\n",
        "\n",
        "from sklearn.model_selection import cross_val_score\n",
        "scores = cross_val_score(lr_4, X_shuffle, y_shuffle,\n",
        "                         scoring=\"neg_mean_squared_error\",\n",
        "                         cv=5, n_jobs=1)\n",
        "rmse = np.sqrt(-scores)\n",
        "print(\"RMSE values: \", np.round(rmse, 2))\n",
        "print(\"RMSE average: \", np.mean(rmse))\n"
      ],
      "metadata": {
        "colab": {
          "base_uri": "https://localhost:8080/"
        },
        "id": "abk2yzOhZgkr",
        "outputId": "068283f0-84f6-4f9c-a419-7a1584512bf0"
      },
      "execution_count": 522,
      "outputs": [
        {
          "output_type": "stream",
          "name": "stdout",
          "text": [
            "RMSE values:  [8.4  8.36 8.37 8.42 8.4 ]\n",
            "RMSE average:  8.390106210680138\n"
          ]
        }
      ]
    },
    {
      "cell_type": "markdown",
      "metadata": {
        "id": "tCpr7Bl6LFxD"
      },
      "source": [
        "## Random Forest"
      ]
    },
    {
      "cell_type": "markdown",
      "source": [
        "### RF 1: Include all variables"
      ],
      "metadata": {
        "id": "LDQe7FYu_4qg"
      }
    },
    {
      "cell_type": "code",
      "execution_count": 523,
      "metadata": {
        "colab": {
          "base_uri": "https://localhost:8080/"
        },
        "id": "vuCGBAETQsfw",
        "outputId": "606bab76-361a-4ef2-b6e9-a22bd5dee87f"
      },
      "outputs": [
        {
          "output_type": "stream",
          "name": "stderr",
          "text": [
            "/usr/local/lib/python3.7/dist-packages/ipykernel_launcher.py:7: DataConversionWarning: A column-vector y was passed when a 1d array was expected. Please change the shape of y to (n_samples,), for example using ravel().\n",
            "  import sys\n"
          ]
        },
        {
          "output_type": "execute_result",
          "data": {
            "text/plain": [
              "RandomForestRegressor(random_state=0)"
            ]
          },
          "metadata": {},
          "execution_count": 523
        }
      ],
      "source": [
        "# Fitting Random Forest Regression to the dataset\n",
        "\n",
        "# create regressor object\n",
        "rf_rg = RandomForestRegressor(n_estimators = 100, random_state = 0)\n",
        "\n",
        "# fit the regressor with x and y data\n",
        "rf_rg.fit(X_train_all, y_train_all)\n"
      ]
    },
    {
      "cell_type": "code",
      "execution_count": 524,
      "metadata": {
        "id": "bh4py_-qP0qA",
        "colab": {
          "base_uri": "https://localhost:8080/"
        },
        "outputId": "67347b3b-aeca-4054-9cc0-81a89f8d9d4a"
      },
      "outputs": [
        {
          "output_type": "execute_result",
          "data": {
            "text/plain": [
              "array([57.51800587, 51.52537253, 59.27785322, ..., 47.95306448,\n",
              "       47.26413028, 56.70961526])"
            ]
          },
          "metadata": {},
          "execution_count": 524
        }
      ],
      "source": [
        "y_pred = rf_rg.predict(X_test_all)\n",
        "y_pred"
      ]
    },
    {
      "cell_type": "code",
      "source": [
        "# model evaluation for testing set\n",
        "regression_results(y_test, y_pred)"
      ],
      "metadata": {
        "id": "5L1wSlzs9qVo",
        "colab": {
          "base_uri": "https://localhost:8080/"
        },
        "outputId": "7ff8016c-9e87-46f1-d775-267dcd5b71cc"
      },
      "execution_count": 525,
      "outputs": [
        {
          "output_type": "stream",
          "name": "stdout",
          "text": [
            "The model performance for testing set\n",
            "--------------------------------------\n",
            "MAE is 4.798563900813413\n",
            "MSE is 37.41515772242122\n",
            "RMSE is 6.11679309135279\n",
            "R2 score is 0.8482758723204533\n",
            "Adj R2 score is 0.8456070100672495\n"
          ]
        }
      ]
    },
    {
      "cell_type": "markdown",
      "metadata": {
        "id": "FurofQ7jCIX8"
      },
      "source": [
        "#### Feature importance"
      ]
    },
    {
      "cell_type": "code",
      "execution_count": 526,
      "metadata": {
        "id": "pNVFVLay32zq",
        "colab": {
          "base_uri": "https://localhost:8080/",
          "height": 0
        },
        "outputId": "203b697b-84d7-4f1c-f4bc-ff7f119b7db4"
      },
      "outputs": [
        {
          "output_type": "execute_result",
          "data": {
            "text/plain": [
              "<matplotlib.axes._subplots.AxesSubplot at 0x7ff2cdb63990>"
            ]
          },
          "metadata": {},
          "execution_count": 526
        },
        {
          "output_type": "display_data",
          "data": {
            "text/plain": [
              "<Figure size 576x396 with 1 Axes>"
            ],
            "image/png": "[encoded data removed]"
          },
          "metadata": {}
        }
      ],
      "source": [
        "(pd.Series(rf_rg.feature_importances_, index=X_test_all.columns)\n",
        "   .nlargest(15)[::-1]\n",
        "   .plot(kind='barh')\n",
        "   )  \n",
        "   "
      ]
    },
    {
      "cell_type": "code",
      "source": [
        "top_vars_rf = (pd.Series(rf_rg.feature_importances_, index=X_test_all.columns).nlargest(10)[:-1])\n",
        "print(top_vars_rf)"
      ],
      "metadata": {
        "id": "1EeY3sUOLA5X",
        "colab": {
          "base_uri": "https://localhost:8080/"
        },
        "outputId": "3e4f010b-9e6a-4b38-8d71-475a47b30ce2"
      },
      "execution_count": 527,
      "outputs": [
        {
          "output_type": "stream",
          "name": "stdout",
          "text": [
            "pct_desktop_or_laptop     0.587839\n",
            "ave_household_size        0.087732\n",
            "pct_pop_gt_200k           0.070868\n",
            "pct_hisp_latino           0.034301\n",
            "pct_pop_foreign_born      0.010583\n",
            "pct_smartphone            0.009667\n",
            "pct_pop_income_gt_100k    0.005572\n",
            "pct_white                 0.005373\n",
            "pct_tablet                0.005295\n",
            "dtype: float64\n"
          ]
        }
      ]
    },
    {
      "cell_type": "markdown",
      "source": [
        "### RF 2: Only the top 10 features + broadband var set 1"
      ],
      "metadata": {
        "id": "zV7nDm-_KVHT"
      }
    },
    {
      "cell_type": "code",
      "source": [
        "top_vars_rf_list = top_vars_rf.index.tolist()\n",
        "print(top_vars_rf_list)"
      ],
      "metadata": {
        "id": "eYU9z-jLLmxu",
        "colab": {
          "base_uri": "https://localhost:8080/"
        },
        "outputId": "a216f72d-7497-43bc-c869-0b01410a9901"
      },
      "execution_count": 528,
      "outputs": [
        {
          "output_type": "stream",
          "name": "stdout",
          "text": [
            "['pct_desktop_or_laptop', 'ave_household_size', 'pct_pop_gt_200k', 'pct_hisp_latino', 'pct_pop_foreign_born', 'pct_smartphone', 'pct_pop_income_gt_100k', 'pct_white', 'pct_tablet']\n"
          ]
        }
      ]
    },
    {
      "cell_type": "code",
      "source": [
        "#limit the dataset to only the relevant variables\n",
        "\n",
        "ind_var = [e for e in top_vars_rf_list if e not in ('pct_pop_hs+','pct_pop_bachelors+')]\n",
        "for word in br_important_vars:\n",
        "    if word not in ind_var:\n",
        "        ind_var.append(word)\n",
        "\n",
        "for word in important_cov:\n",
        "    if word not in ind_var:\n",
        "        ind_var.append(word)\n",
        "\n",
        "target = ['pct_pop_hs+']\n",
        "\n",
        "X_train = X_train_all[ind_var]\n",
        "X_test = X_test_all[ind_var]\n",
        "y_train = y_train_all[target]\n",
        "y_test = y_test_all[target]"
      ],
      "metadata": {
        "id": "nzQMn7_BLx5Z"
      },
      "execution_count": 529,
      "outputs": []
    },
    {
      "cell_type": "code",
      "source": [
        "ind_var"
      ],
      "metadata": {
        "id": "OauZN33ZI2aE",
        "colab": {
          "base_uri": "https://localhost:8080/"
        },
        "outputId": "84c33de9-ce11-4d35-8d5e-9165a03be54e"
      },
      "execution_count": 530,
      "outputs": [
        {
          "output_type": "execute_result",
          "data": {
            "text/plain": [
              "['pct_desktop_or_laptop',\n",
              " 'ave_household_size',\n",
              " 'pct_pop_gt_200k',\n",
              " 'pct_hisp_latino',\n",
              " 'pct_pop_foreign_born',\n",
              " 'pct_smartphone',\n",
              " 'pct_pop_income_gt_100k',\n",
              " 'pct_white',\n",
              " 'pct_tablet',\n",
              " 'pct_internet',\n",
              " 'pct_only_cellular',\n",
              " 'pct_computing_device_no_internet',\n",
              " 'pct_internet_broadband_satellite',\n",
              " 'pct_computing_device_with_broadband',\n",
              " 'log_median_income',\n",
              " 'ruca_metro',\n",
              " 'ruca_rural',\n",
              " 'log_median_income_over_log_median_house',\n",
              " 'pct_pop_disability']"
            ]
          },
          "metadata": {},
          "execution_count": 530
        }
      ]
    },
    {
      "cell_type": "code",
      "source": [
        "# Fitting Random Forest Regression to the dataset\n",
        "\n",
        "# create regressor object\n",
        "rf_rg2 = RandomForestRegressor(n_estimators = 100, random_state = 0)\n",
        "\n",
        "# fit the regressor with x and y data\n",
        "rf_rg2.fit(X_train, y_train)\n"
      ],
      "metadata": {
        "id": "cScWwRSDINm5",
        "colab": {
          "base_uri": "https://localhost:8080/"
        },
        "outputId": "d74999e7-9c26-4f99-8942-f2ea4a452290"
      },
      "execution_count": 531,
      "outputs": [
        {
          "output_type": "stream",
          "name": "stderr",
          "text": [
            "/usr/local/lib/python3.7/dist-packages/ipykernel_launcher.py:7: DataConversionWarning: A column-vector y was passed when a 1d array was expected. Please change the shape of y to (n_samples,), for example using ravel().\n",
            "  import sys\n"
          ]
        },
        {
          "output_type": "execute_result",
          "data": {
            "text/plain": [
              "RandomForestRegressor(random_state=0)"
            ]
          },
          "metadata": {},
          "execution_count": 531
        }
      ]
    },
    {
      "cell_type": "code",
      "source": [
        "y_pred = rf_rg2.predict(X_test)\n",
        "y_pred"
      ],
      "metadata": {
        "id": "f7XjgEmaOSmN",
        "colab": {
          "base_uri": "https://localhost:8080/"
        },
        "outputId": "a8e3ee14-21e9-4d69-c2ee-d64a3cd450ea"
      },
      "execution_count": 532,
      "outputs": [
        {
          "output_type": "execute_result",
          "data": {
            "text/plain": [
              "array([57.7424631 , 50.42329824, 59.37156758, ..., 48.27416241,\n",
              "       49.64930116, 55.83184522])"
            ]
          },
          "metadata": {},
          "execution_count": 532
        }
      ]
    },
    {
      "cell_type": "code",
      "source": [
        "# model evaluation for testing set\n",
        "regression_results(y_test, y_pred)"
      ],
      "metadata": {
        "id": "k1vaXb27MlQL",
        "colab": {
          "base_uri": "https://localhost:8080/"
        },
        "outputId": "3a5c944a-435a-4922-fc64-91f7e4bd6f80"
      },
      "execution_count": 533,
      "outputs": [
        {
          "output_type": "stream",
          "name": "stdout",
          "text": [
            "The model performance for testing set\n",
            "--------------------------------------\n",
            "MAE is 5.025090503604424\n",
            "MSE is 40.96658401395071\n",
            "RMSE is 6.4005143554210315\n",
            "R2 score is 0.833874301168513\n",
            "Adj R2 score is 0.8309521119710579\n"
          ]
        }
      ]
    },
    {
      "cell_type": "code",
      "source": [
        "top_vars_rf2 = (pd.Series(rf_rg2.feature_importances_, index=X_test.columns).nlargest(35)[:-1])\n",
        "print(top_vars_rf2)"
      ],
      "metadata": {
        "colab": {
          "base_uri": "https://localhost:8080/"
        },
        "id": "fyFOylAHxINA",
        "outputId": "7176f674-0860-478b-8caf-93edb39d03e9"
      },
      "execution_count": 534,
      "outputs": [
        {
          "output_type": "stream",
          "name": "stdout",
          "text": [
            "pct_desktop_or_laptop                      0.598044\n",
            "ave_household_size                         0.102022\n",
            "pct_pop_gt_200k                            0.080562\n",
            "pct_hisp_latino                            0.042874\n",
            "pct_smartphone                             0.022881\n",
            "pct_pop_foreign_born                       0.020500\n",
            "pct_white                                  0.016933\n",
            "pct_pop_income_gt_100k                     0.015471\n",
            "pct_pop_disability                         0.015170\n",
            "pct_tablet                                 0.014818\n",
            "log_median_income_over_log_median_house    0.014769\n",
            "log_median_income                          0.012991\n",
            "pct_internet_broadband_satellite           0.010322\n",
            "pct_only_cellular                          0.009845\n",
            "pct_computing_device_no_internet           0.008295\n",
            "pct_computing_device_with_broadband        0.006848\n",
            "pct_internet                               0.006567\n",
            "ruca_metro                                 0.000786\n",
            "dtype: float64\n"
          ]
        }
      ]
    },
    {
      "cell_type": "code",
      "source": [
        "pd.DataFrame({'Variables':top_vars_rf2.index, 'Importance':top_vars_rf2.values})\n"
      ],
      "metadata": {
        "colab": {
          "base_uri": "https://localhost:8080/",
          "height": 0
        },
        "id": "Kiozru5sxNhA",
        "outputId": "f51814c2-c9ae-4de1-a5c8-0eabe491d03b"
      },
      "execution_count": 535,
      "outputs": [
        {
          "output_type": "execute_result",
          "data": {
            "text/plain": [
              "                                  Variables  Importance\n",
              "0                     pct_desktop_or_laptop    0.598044\n",
              "1                        ave_household_size    0.102022\n",
              "2                           pct_pop_gt_200k    0.080562\n",
              "3                           pct_hisp_latino    0.042874\n",
              "4                            pct_smartphone    0.022881\n",
              "5                      pct_pop_foreign_born    0.020500\n",
              "6                                 pct_white    0.016933\n",
              "7                    pct_pop_income_gt_100k    0.015471\n",
              "8                        pct_pop_disability    0.015170\n",
              "9                                pct_tablet    0.014818\n",
              "10  log_median_income_over_log_median_house    0.014769\n",
              "11                        log_median_income    0.012991\n",
              "12         pct_internet_broadband_satellite    0.010322\n",
              "13                        pct_only_cellular    0.009845\n",
              "14         pct_computing_device_no_internet    0.008295\n",
              "15      pct_computing_device_with_broadband    0.006848\n",
              "16                             pct_internet    0.006567\n",
              "17                               ruca_metro    0.000786"
            ],
            "text/html": [
              "\n",
              "  <div id=\"df-6f19ae6e-c9ca-4064-963e-8d3fc3413058\">\n",
              "    <div class=\"colab-df-container\">\n",
              "      <div>\n",
              "<style scoped>\n",
              "    .dataframe tbody tr th:only-of-type {\n",
              "        vertical-align: middle;\n",
              "    }\n",
              "\n",
              "    .dataframe tbody tr th {\n",
              "        vertical-align: top;\n",
              "    }\n",
              "\n",
              "    .dataframe thead th {\n",
              "        text-align: right;\n",
              "    }\n",
              "</style>\n",
              "<table border=\"1\" class=\"dataframe\">\n",
              "  <thead>\n",
              "    <tr style=\"text-align: right;\">\n",
              "      <th></th>\n",
              "      <th>Variables</th>\n",
              "      <th>Importance</th>\n",
              "    </tr>\n",
              "  </thead>\n",
              "  <tbody>\n",
              "    <tr>\n",
              "      <th>0</th>\n",
              "      <td>pct_desktop_or_laptop</td>\n",
              "      <td>0.598044</td>\n",
              "    </tr>\n",
              "    <tr>\n",
              "      <th>1</th>\n",
              "      <td>ave_household_size</td>\n",
              "      <td>0.102022</td>\n",
              "    </tr>\n",
              "    <tr>\n",
              "      <th>2</th>\n",
              "      <td>pct_pop_gt_200k</td>\n",
              "      <td>0.080562</td>\n",
              "    </tr>\n",
              "    <tr>\n",
              "      <th>3</th>\n",
              "      <td>pct_hisp_latino</td>\n",
              "      <td>0.042874</td>\n",
              "    </tr>\n",
              "    <tr>\n",
              "      <th>4</th>\n",
              "      <td>pct_smartphone</td>\n",
              "      <td>0.022881</td>\n",
              "    </tr>\n",
              "    <tr>\n",
              "      <th>5</th>\n",
              "      <td>pct_pop_foreign_born</td>\n",
              "      <td>0.020500</td>\n",
              "    </tr>\n",
              "    <tr>\n",
              "      <th>6</th>\n",
              "      <td>pct_white</td>\n",
              "      <td>0.016933</td>\n",
              "    </tr>\n",
              "    <tr>\n",
              "      <th>7</th>\n",
              "      <td>pct_pop_income_gt_100k</td>\n",
              "      <td>0.015471</td>\n",
              "    </tr>\n",
              "    <tr>\n",
              "      <th>8</th>\n",
              "      <td>pct_pop_disability</td>\n",
              "      <td>0.015170</td>\n",
              "    </tr>\n",
              "    <tr>\n",
              "      <th>9</th>\n",
              "      <td>pct_tablet</td>\n",
              "      <td>0.014818</td>\n",
              "    </tr>\n",
              "    <tr>\n",
              "      <th>10</th>\n",
              "      <td>log_median_income_over_log_median_house</td>\n",
              "      <td>0.014769</td>\n",
              "    </tr>\n",
              "    <tr>\n",
              "      <th>11</th>\n",
              "      <td>log_median_income</td>\n",
              "      <td>0.012991</td>\n",
              "    </tr>\n",
              "    <tr>\n",
              "      <th>12</th>\n",
              "      <td>pct_internet_broadband_satellite</td>\n",
              "      <td>0.010322</td>\n",
              "    </tr>\n",
              "    <tr>\n",
              "      <th>13</th>\n",
              "      <td>pct_only_cellular</td>\n",
              "      <td>0.009845</td>\n",
              "    </tr>\n",
              "    <tr>\n",
              "      <th>14</th>\n",
              "      <td>pct_computing_device_no_internet</td>\n",
              "      <td>0.008295</td>\n",
              "    </tr>\n",
              "    <tr>\n",
              "      <th>15</th>\n",
              "      <td>pct_computing_device_with_broadband</td>\n",
              "      <td>0.006848</td>\n",
              "    </tr>\n",
              "    <tr>\n",
              "      <th>16</th>\n",
              "      <td>pct_internet</td>\n",
              "      <td>0.006567</td>\n",
              "    </tr>\n",
              "    <tr>\n",
              "      <th>17</th>\n",
              "      <td>ruca_metro</td>\n",
              "      <td>0.000786</td>\n",
              "    </tr>\n",
              "  </tbody>\n",
              "</table>\n",
              "</div>\n",
              "      <button class=\"colab-df-convert\" onclick=\"convertToInteractive('df-6f19ae6e-c9ca-4064-963e-8d3fc3413058')\"\n",
              "              title=\"Convert this dataframe to an interactive table.\"\n",
              "              style=\"display:none;\">\n",
              "        \n",
              "  <svg xmlns=\"http://www.w3.org/2000/svg\" height=\"24px\"viewBox=\"0 0 24 24\"\n",
              "       width=\"24px\">\n",
              "    <path d=\"M0 0h24v24H0V0z\" fill=\"none\"/>\n",
              "    <path d=\"M18.56 5.44l.94 2.06.94-2.06 2.06-.94-2.06-.94-.94-2.06-.94 2.06-2.06.94zm-11 1L8.5 8.5l.94-2.06 2.06-.94-2.06-.94L8.5 2.5l-.94 2.06-2.06.94zm10 10l.94 2.06.94-2.06 2.06-.94-2.06-.94-.94-2.06-.94 2.06-2.06.94z\"/><path d=\"M17.41 7.96l-1.37-1.37c-.4-.4-.92-.59-1.43-.59-.52 0-1.04.2-1.43.59L10.3 9.45l-7.72 7.72c-.78.78-.78 2.05 0 2.83L4 21.41c.39.39.9.59 1.41.59.51 0 1.02-.2 1.41-.59l7.78-7.78 2.81-2.81c.8-.78.8-2.07 0-2.86zM5.41 20L4 18.59l7.72-7.72 1.47 1.35L5.41 20z\"/>\n",
              "  </svg>\n",
              "      </button>\n",
              "      \n",
              "  <style>\n",
              "    .colab-df-container {\n",
              "      display:flex;\n",
              "      flex-wrap:wrap;\n",
              "      gap: 12px;\n",
              "    }\n",
              "\n",
              "    .colab-df-convert {\n",
              "      background-color: #E8F0FE;\n",
              "      border: none;\n",
              "      border-radius: 50%;\n",
              "      cursor: pointer;\n",
              "      display: none;\n",
              "      fill: #1967D2;\n",
              "      height: 32px;\n",
              "      padding: 0 0 0 0;\n",
              "      width: 32px;\n",
              "    }\n",
              "\n",
              "    .colab-df-convert:hover {\n",
              "      background-color: #E2EBFA;\n",
              "      box-shadow: 0px 1px 2px rgba(60, 64, 67, 0.3), 0px 1px 3px 1px rgba(60, 64, 67, 0.15);\n",
              "      fill: #174EA6;\n",
              "    }\n",
              "\n",
              "    [theme=dark] .colab-df-convert {\n",
              "      background-color: #3B4455;\n",
              "      fill: #D2E3FC;\n",
              "    }\n",
              "\n",
              "    [theme=dark] .colab-df-convert:hover {\n",
              "      background-color: #434B5C;\n",
              "      box-shadow: 0px 1px 3px 1px rgba(0, 0, 0, 0.15);\n",
              "      filter: drop-shadow(0px 1px 2px rgba(0, 0, 0, 0.3));\n",
              "      fill: #FFFFFF;\n",
              "    }\n",
              "  </style>\n",
              "\n",
              "      <script>\n",
              "        const buttonEl =\n",
              "          document.querySelector('#df-6f19ae6e-c9ca-4064-963e-8d3fc3413058 button.colab-df-convert');\n",
              "        buttonEl.style.display =\n",
              "          google.colab.kernel.accessAllowed ? 'block' : 'none';\n",
              "\n",
              "        async function convertToInteractive(key) {\n",
              "          const element = document.querySelector('#df-6f19ae6e-c9ca-4064-963e-8d3fc3413058');\n",
              "          const dataTable =\n",
              "            await google.colab.kernel.invokeFunction('convertToInteractive',\n",
              "                                                     [key], {});\n",
              "          if (!dataTable) return;\n",
              "\n",
              "          const docLinkHtml = 'Like what you see? Visit the ' +\n",
              "            '<a target=\"_blank\" href=https://colab.research.google.com/notebooks/data_table.ipynb>data table notebook</a>'\n",
              "            + ' to learn more about interactive tables.';\n",
              "          element.innerHTML = '';\n",
              "          dataTable['output_type'] = 'display_data';\n",
              "          await google.colab.output.renderOutput(dataTable, element);\n",
              "          const docLink = document.createElement('div');\n",
              "          docLink.innerHTML = docLinkHtml;\n",
              "          element.appendChild(docLink);\n",
              "        }\n",
              "      </script>\n",
              "    </div>\n",
              "  </div>\n",
              "  "
            ]
          },
          "metadata": {},
          "execution_count": 535
        }
      ]
    },
    {
      "cell_type": "markdown",
      "source": [
        "### RF 3: Only the top 10 features + broadband var set 2"
      ],
      "metadata": {
        "id": "lHfKOmmAMs_M"
      }
    },
    {
      "cell_type": "code",
      "source": [
        "#limit the dataset to only the relevant variables\n",
        "\n",
        "ind_var_rf3 = [e for e in top_vars_rf_list if e not in ('pct_pop_hs+','pct_pop_bachelors+')]\n",
        "for word in br_interest_vars:\n",
        "    if word not in ind_var_rf3:\n",
        "        ind_var_rf3.append(word)\n",
        "\n",
        "for word in important_cov:\n",
        "    if word not in ind_var_rf3:\n",
        "        ind_var_rf3.append(word)\n",
        "        \n",
        "target = ['pct_pop_hs+']\n",
        "\n",
        "X_train = X_train_all[ind_var_rf3]\n",
        "X_test = X_test_all[ind_var_rf3]\n",
        "y_train = y_train_all[target]\n",
        "y_test = y_test_all[target]"
      ],
      "metadata": {
        "id": "LSZaJozNO_EO"
      },
      "execution_count": 536,
      "outputs": []
    },
    {
      "cell_type": "code",
      "source": [
        "ind_var_rf3"
      ],
      "metadata": {
        "id": "HXxtyit2PPP8",
        "colab": {
          "base_uri": "https://localhost:8080/"
        },
        "outputId": "8a11a52f-1795-443f-947c-c93902af449e"
      },
      "execution_count": 537,
      "outputs": [
        {
          "output_type": "execute_result",
          "data": {
            "text/plain": [
              "['pct_desktop_or_laptop',\n",
              " 'ave_household_size',\n",
              " 'pct_pop_gt_200k',\n",
              " 'pct_hisp_latino',\n",
              " 'pct_pop_foreign_born',\n",
              " 'pct_smartphone',\n",
              " 'pct_pop_income_gt_100k',\n",
              " 'pct_white',\n",
              " 'pct_tablet',\n",
              " 'pct_internet',\n",
              " 'All_Provider_Count_25',\n",
              " 'All_Provider_Count_100',\n",
              " 'Ookla Median Download Speed (Mbps)',\n",
              " 'pct_computing_device',\n",
              " 'pct_internet_broadband_any_type',\n",
              " 'log_median_income',\n",
              " 'ruca_metro',\n",
              " 'ruca_rural',\n",
              " 'log_median_income_over_log_median_house',\n",
              " 'pct_pop_disability']"
            ]
          },
          "metadata": {},
          "execution_count": 537
        }
      ]
    },
    {
      "cell_type": "code",
      "source": [
        "# Fitting Random Forest Regression to the dataset\n",
        "\n",
        "# create regressor object\n",
        "rf_rg3 = RandomForestRegressor(n_estimators = 100, random_state = 0)\n",
        "\n",
        "# fit the regressor with x and y data\n",
        "rf_rg3.fit(X_train, y_train)\n"
      ],
      "metadata": {
        "id": "ayDzllSrPIQQ",
        "colab": {
          "base_uri": "https://localhost:8080/"
        },
        "outputId": "91e47003-0285-4fb0-905b-457dba75ecfd"
      },
      "execution_count": 538,
      "outputs": [
        {
          "output_type": "stream",
          "name": "stderr",
          "text": [
            "/usr/local/lib/python3.7/dist-packages/ipykernel_launcher.py:7: DataConversionWarning: A column-vector y was passed when a 1d array was expected. Please change the shape of y to (n_samples,), for example using ravel().\n",
            "  import sys\n"
          ]
        },
        {
          "output_type": "execute_result",
          "data": {
            "text/plain": [
              "RandomForestRegressor(random_state=0)"
            ]
          },
          "metadata": {},
          "execution_count": 538
        }
      ]
    },
    {
      "cell_type": "code",
      "source": [
        "y_pred = rf_rg3.predict(X_test)\n",
        "y_pred"
      ],
      "metadata": {
        "id": "4DUSwLGUPVLh",
        "colab": {
          "base_uri": "https://localhost:8080/"
        },
        "outputId": "9b0510e8-492e-4317-ba57-ed7e6b5d6aa6"
      },
      "execution_count": 539,
      "outputs": [
        {
          "output_type": "execute_result",
          "data": {
            "text/plain": [
              "array([56.81344413, 49.54715081, 58.4782814 , ..., 49.04613206,\n",
              "       49.68532081, 55.01069621])"
            ]
          },
          "metadata": {},
          "execution_count": 539
        }
      ]
    },
    {
      "cell_type": "code",
      "source": [
        "# model evaluation for testing set\n",
        "regression_results(y_test, y_pred)"
      ],
      "metadata": {
        "id": "dH9Wa_42PXnk",
        "colab": {
          "base_uri": "https://localhost:8080/"
        },
        "outputId": "301b8737-9f54-42a9-fbac-8c9e7b8098e4"
      },
      "execution_count": 540,
      "outputs": [
        {
          "output_type": "stream",
          "name": "stdout",
          "text": [
            "The model performance for testing set\n",
            "--------------------------------------\n",
            "MAE is 4.988647922432882\n",
            "MSE is 40.42839210993324\n",
            "RMSE is 6.358332494446421\n",
            "R2 score is 0.8360567507994099\n",
            "Adj R2 score is 0.8331729513922176\n"
          ]
        }
      ]
    },
    {
      "cell_type": "code",
      "source": [
        "top_vars_rf3 = (pd.Series(rf_rg3.feature_importances_, index=X_test.columns).nlargest(25)[:-1])\n",
        "print(top_vars_rf3)"
      ],
      "metadata": {
        "colab": {
          "base_uri": "https://localhost:8080/"
        },
        "id": "ywn-4yZIvgUi",
        "outputId": "f1c51040-1bb1-4c42-f07b-927bea3a7554"
      },
      "execution_count": 541,
      "outputs": [
        {
          "output_type": "stream",
          "name": "stdout",
          "text": [
            "pct_desktop_or_laptop                      0.598024\n",
            "ave_household_size                         0.102209\n",
            "pct_pop_gt_200k                            0.080772\n",
            "pct_hisp_latino                            0.043047\n",
            "pct_smartphone                             0.022173\n",
            "pct_pop_foreign_born                       0.020445\n",
            "pct_white                                  0.017110\n",
            "pct_pop_income_gt_100k                     0.015800\n",
            "pct_pop_disability                         0.015394\n",
            "pct_tablet                                 0.014977\n",
            "log_median_income_over_log_median_house    0.014972\n",
            "log_median_income                          0.013352\n",
            "Ookla Median Download Speed (Mbps)         0.010669\n",
            "pct_computing_device                       0.009736\n",
            "pct_internet_broadband_any_type            0.006600\n",
            "pct_internet                               0.006372\n",
            "All_Provider_Count_25                      0.003767\n",
            "All_Provider_Count_100                     0.003529\n",
            "ruca_metro                                 0.000766\n",
            "dtype: float64\n"
          ]
        }
      ]
    },
    {
      "cell_type": "code",
      "source": [
        "pd.DataFrame({'Variables':top_vars_rf3.index, 'Importance':top_vars_rf3.values})\n"
      ],
      "metadata": {
        "colab": {
          "base_uri": "https://localhost:8080/",
          "height": 645
        },
        "id": "XIB-OXg_wYlV",
        "outputId": "77143d08-3d7e-406d-d6ca-165b6339e526"
      },
      "execution_count": 542,
      "outputs": [
        {
          "output_type": "execute_result",
          "data": {
            "text/plain": [
              "                                  Variables  Importance\n",
              "0                     pct_desktop_or_laptop    0.598024\n",
              "1                        ave_household_size    0.102209\n",
              "2                           pct_pop_gt_200k    0.080772\n",
              "3                           pct_hisp_latino    0.043047\n",
              "4                            pct_smartphone    0.022173\n",
              "5                      pct_pop_foreign_born    0.020445\n",
              "6                                 pct_white    0.017110\n",
              "7                    pct_pop_income_gt_100k    0.015800\n",
              "8                        pct_pop_disability    0.015394\n",
              "9                                pct_tablet    0.014977\n",
              "10  log_median_income_over_log_median_house    0.014972\n",
              "11                        log_median_income    0.013352\n",
              "12       Ookla Median Download Speed (Mbps)    0.010669\n",
              "13                     pct_computing_device    0.009736\n",
              "14          pct_internet_broadband_any_type    0.006600\n",
              "15                             pct_internet    0.006372\n",
              "16                    All_Provider_Count_25    0.003767\n",
              "17                   All_Provider_Count_100    0.003529\n",
              "18                               ruca_metro    0.000766"
            ],
            "text/html": [
              "\n",
              "  <div id=\"df-55967831-8c13-46e1-a36d-0f5e309e8945\">\n",
              "    <div class=\"colab-df-container\">\n",
              "      <div>\n",
              "<style scoped>\n",
              "    .dataframe tbody tr th:only-of-type {\n",
              "        vertical-align: middle;\n",
              "    }\n",
              "\n",
              "    .dataframe tbody tr th {\n",
              "        vertical-align: top;\n",
              "    }\n",
              "\n",
              "    .dataframe thead th {\n",
              "        text-align: right;\n",
              "    }\n",
              "</style>\n",
              "<table border=\"1\" class=\"dataframe\">\n",
              "  <thead>\n",
              "    <tr style=\"text-align: right;\">\n",
              "      <th></th>\n",
              "      <th>Variables</th>\n",
              "      <th>Importance</th>\n",
              "    </tr>\n",
              "  </thead>\n",
              "  <tbody>\n",
              "    <tr>\n",
              "      <th>0</th>\n",
              "      <td>pct_desktop_or_laptop</td>\n",
              "      <td>0.598024</td>\n",
              "    </tr>\n",
              "    <tr>\n",
              "      <th>1</th>\n",
              "      <td>ave_household_size</td>\n",
              "      <td>0.102209</td>\n",
              "    </tr>\n",
              "    <tr>\n",
              "      <th>2</th>\n",
              "      <td>pct_pop_gt_200k</td>\n",
              "      <td>0.080772</td>\n",
              "    </tr>\n",
              "    <tr>\n",
              "      <th>3</th>\n",
              "      <td>pct_hisp_latino</td>\n",
              "      <td>0.043047</td>\n",
              "    </tr>\n",
              "    <tr>\n",
              "      <th>4</th>\n",
              "      <td>pct_smartphone</td>\n",
              "      <td>0.022173</td>\n",
              "    </tr>\n",
              "    <tr>\n",
              "      <th>5</th>\n",
              "      <td>pct_pop_foreign_born</td>\n",
              "      <td>0.020445</td>\n",
              "    </tr>\n",
              "    <tr>\n",
              "      <th>6</th>\n",
              "      <td>pct_white</td>\n",
              "      <td>0.017110</td>\n",
              "    </tr>\n",
              "    <tr>\n",
              "      <th>7</th>\n",
              "      <td>pct_pop_income_gt_100k</td>\n",
              "      <td>0.015800</td>\n",
              "    </tr>\n",
              "    <tr>\n",
              "      <th>8</th>\n",
              "      <td>pct_pop_disability</td>\n",
              "      <td>0.015394</td>\n",
              "    </tr>\n",
              "    <tr>\n",
              "      <th>9</th>\n",
              "      <td>pct_tablet</td>\n",
              "      <td>0.014977</td>\n",
              "    </tr>\n",
              "    <tr>\n",
              "      <th>10</th>\n",
              "      <td>log_median_income_over_log_median_house</td>\n",
              "      <td>0.014972</td>\n",
              "    </tr>\n",
              "    <tr>\n",
              "      <th>11</th>\n",
              "      <td>log_median_income</td>\n",
              "      <td>0.013352</td>\n",
              "    </tr>\n",
              "    <tr>\n",
              "      <th>12</th>\n",
              "      <td>Ookla Median Download Speed (Mbps)</td>\n",
              "      <td>0.010669</td>\n",
              "    </tr>\n",
              "    <tr>\n",
              "      <th>13</th>\n",
              "      <td>pct_computing_device</td>\n",
              "      <td>0.009736</td>\n",
              "    </tr>\n",
              "    <tr>\n",
              "      <th>14</th>\n",
              "      <td>pct_internet_broadband_any_type</td>\n",
              "      <td>0.006600</td>\n",
              "    </tr>\n",
              "    <tr>\n",
              "      <th>15</th>\n",
              "      <td>pct_internet</td>\n",
              "      <td>0.006372</td>\n",
              "    </tr>\n",
              "    <tr>\n",
              "      <th>16</th>\n",
              "      <td>All_Provider_Count_25</td>\n",
              "      <td>0.003767</td>\n",
              "    </tr>\n",
              "    <tr>\n",
              "      <th>17</th>\n",
              "      <td>All_Provider_Count_100</td>\n",
              "      <td>0.003529</td>\n",
              "    </tr>\n",
              "    <tr>\n",
              "      <th>18</th>\n",
              "      <td>ruca_metro</td>\n",
              "      <td>0.000766</td>\n",
              "    </tr>\n",
              "  </tbody>\n",
              "</table>\n",
              "</div>\n",
              "      <button class=\"colab-df-convert\" onclick=\"convertToInteractive('df-55967831-8c13-46e1-a36d-0f5e309e8945')\"\n",
              "              title=\"Convert this dataframe to an interactive table.\"\n",
              "              style=\"display:none;\">\n",
              "        \n",
              "  <svg xmlns=\"http://www.w3.org/2000/svg\" height=\"24px\"viewBox=\"0 0 24 24\"\n",
              "       width=\"24px\">\n",
              "    <path d=\"M0 0h24v24H0V0z\" fill=\"none\"/>\n",
              "    <path d=\"M18.56 5.44l.94 2.06.94-2.06 2.06-.94-2.06-.94-.94-2.06-.94 2.06-2.06.94zm-11 1L8.5 8.5l.94-2.06 2.06-.94-2.06-.94L8.5 2.5l-.94 2.06-2.06.94zm10 10l.94 2.06.94-2.06 2.06-.94-2.06-.94-.94-2.06-.94 2.06-2.06.94z\"/><path d=\"M17.41 7.96l-1.37-1.37c-.4-.4-.92-.59-1.43-.59-.52 0-1.04.2-1.43.59L10.3 9.45l-7.72 7.72c-.78.78-.78 2.05 0 2.83L4 21.41c.39.39.9.59 1.41.59.51 0 1.02-.2 1.41-.59l7.78-7.78 2.81-2.81c.8-.78.8-2.07 0-2.86zM5.41 20L4 18.59l7.72-7.72 1.47 1.35L5.41 20z\"/>\n",
              "  </svg>\n",
              "      </button>\n",
              "      \n",
              "  <style>\n",
              "    .colab-df-container {\n",
              "      display:flex;\n",
              "      flex-wrap:wrap;\n",
              "      gap: 12px;\n",
              "    }\n",
              "\n",
              "    .colab-df-convert {\n",
              "      background-color: #E8F0FE;\n",
              "      border: none;\n",
              "      border-radius: 50%;\n",
              "      cursor: pointer;\n",
              "      display: none;\n",
              "      fill: #1967D2;\n",
              "      height: 32px;\n",
              "      padding: 0 0 0 0;\n",
              "      width: 32px;\n",
              "    }\n",
              "\n",
              "    .colab-df-convert:hover {\n",
              "      background-color: #E2EBFA;\n",
              "      box-shadow: 0px 1px 2px rgba(60, 64, 67, 0.3), 0px 1px 3px 1px rgba(60, 64, 67, 0.15);\n",
              "      fill: #174EA6;\n",
              "    }\n",
              "\n",
              "    [theme=dark] .colab-df-convert {\n",
              "      background-color: #3B4455;\n",
              "      fill: #D2E3FC;\n",
              "    }\n",
              "\n",
              "    [theme=dark] .colab-df-convert:hover {\n",
              "      background-color: #434B5C;\n",
              "      box-shadow: 0px 1px 3px 1px rgba(0, 0, 0, 0.15);\n",
              "      filter: drop-shadow(0px 1px 2px rgba(0, 0, 0, 0.3));\n",
              "      fill: #FFFFFF;\n",
              "    }\n",
              "  </style>\n",
              "\n",
              "      <script>\n",
              "        const buttonEl =\n",
              "          document.querySelector('#df-55967831-8c13-46e1-a36d-0f5e309e8945 button.colab-df-convert');\n",
              "        buttonEl.style.display =\n",
              "          google.colab.kernel.accessAllowed ? 'block' : 'none';\n",
              "\n",
              "        async function convertToInteractive(key) {\n",
              "          const element = document.querySelector('#df-55967831-8c13-46e1-a36d-0f5e309e8945');\n",
              "          const dataTable =\n",
              "            await google.colab.kernel.invokeFunction('convertToInteractive',\n",
              "                                                     [key], {});\n",
              "          if (!dataTable) return;\n",
              "\n",
              "          const docLinkHtml = 'Like what you see? Visit the ' +\n",
              "            '<a target=\"_blank\" href=https://colab.research.google.com/notebooks/data_table.ipynb>data table notebook</a>'\n",
              "            + ' to learn more about interactive tables.';\n",
              "          element.innerHTML = '';\n",
              "          dataTable['output_type'] = 'display_data';\n",
              "          await google.colab.output.renderOutput(dataTable, element);\n",
              "          const docLink = document.createElement('div');\n",
              "          docLink.innerHTML = docLinkHtml;\n",
              "          element.appendChild(docLink);\n",
              "        }\n",
              "      </script>\n",
              "    </div>\n",
              "  </div>\n",
              "  "
            ]
          },
          "metadata": {},
          "execution_count": 542
        }
      ]
    },
    {
      "cell_type": "code",
      "source": [
        "(pd.Series(rf_rg3.feature_importances_, index=X_test.columns)\n",
        "   .nlargest(30)[::-1]\n",
        "   .plot(kind='barh')\n",
        "   )  "
      ],
      "metadata": {
        "colab": {
          "base_uri": "https://localhost:8080/",
          "height": 365
        },
        "id": "ocJxqr9UYikl",
        "outputId": "c23f5019-f0ca-4c9b-b981-90d54e1c751f"
      },
      "execution_count": 543,
      "outputs": [
        {
          "output_type": "execute_result",
          "data": {
            "text/plain": [
              "<matplotlib.axes._subplots.AxesSubplot at 0x7ff2cdb1dd10>"
            ]
          },
          "metadata": {},
          "execution_count": 543
        },
        {
          "output_type": "display_data",
          "data": {
            "text/plain": [
              "<Figure size 576x396 with 1 Axes>"
            ],
            "image/png": "[encoded data removed]"
          },
          "metadata": {}
        }
      ]
    },
    {
      "cell_type": "markdown",
      "metadata": {
        "id": "YBFMUqvCjErw"
      },
      "source": [
        "### Hyperparameter Tuning"
      ]
    },
    {
      "cell_type": "code",
      "execution_count": 74,
      "metadata": {
        "id": "HWoEe_m7vgB1",
        "colab": {
          "base_uri": "https://localhost:8080/"
        },
        "outputId": "cd20c51f-afb2-4fff-b7d8-69ce44b81950"
      },
      "outputs": [
        {
          "output_type": "stream",
          "name": "stdout",
          "text": [
            "Parameters currently in use:\n",
            "\n",
            "{'bootstrap': True,\n",
            " 'ccp_alpha': 0.0,\n",
            " 'criterion': 'squared_error',\n",
            " 'max_depth': None,\n",
            " 'max_features': 'auto',\n",
            " 'max_leaf_nodes': None,\n",
            " 'max_samples': None,\n",
            " 'min_impurity_decrease': 0.0,\n",
            " 'min_samples_leaf': 1,\n",
            " 'min_samples_split': 2,\n",
            " 'min_weight_fraction_leaf': 0.0,\n",
            " 'n_estimators': 250,\n",
            " 'n_jobs': None,\n",
            " 'oob_score': False,\n",
            " 'random_state': 0,\n",
            " 'verbose': 0,\n",
            " 'warm_start': False}\n"
          ]
        }
      ],
      "source": [
        "from pprint import pprint\n",
        "# Look at parameters used by our current forest\n",
        "print('Parameters currently in use:\\n')\n",
        "pprint(rf_rg3.get_params())"
      ]
    },
    {
      "cell_type": "code",
      "execution_count": null,
      "metadata": {
        "id": "MIpW4zXYi5I8"
      },
      "outputs": [],
      "source": [
        "random_forest_tuning = RandomForestRegressor(random_state = 0)"
      ]
    },
    {
      "cell_type": "code",
      "execution_count": null,
      "metadata": {
        "id": "W0TgIikXjLgm"
      },
      "outputs": [],
      "source": [
        "param_grid = { \n",
        "    'n_estimators': [200, 500],\n",
        "    'max_features': ['auto'],\n",
        "    'max_depth' : [2,5,10],\n",
        "    'criterion' :['squared_error']\n",
        "}"
      ]
    },
    {
      "cell_type": "code",
      "execution_count": null,
      "metadata": {
        "id": "DANa1aoFjaC8"
      },
      "outputs": [],
      "source": [
        "GSCV = GridSearchCV(estimator=random_forest_tuning, param_grid=param_grid, cv=5)\n",
        "GSCV.fit(X_train, y_train)"
      ]
    },
    {
      "cell_type": "code",
      "execution_count": null,
      "metadata": {
        "id": "m_fRy6hUjkvL"
      },
      "outputs": [],
      "source": [
        "GSCV.best_params_"
      ]
    },
    {
      "cell_type": "code",
      "execution_count": null,
      "metadata": {
        "id": "CDbcnBP5jnWw"
      },
      "outputs": [],
      "source": [
        "random_forest_tuned = RandomForestRegressor(criterion= 'squared_error',max_depth= 10,max_features= 'auto',n_estimators =500,random_state = 0)\n",
        "random_forest_tuned.fit(X_train, y_train)\n",
        "y_pred = random_forest_tuned.predict(X_test)"
      ]
    },
    {
      "cell_type": "code",
      "execution_count": null,
      "metadata": {
        "id": "OxXGsRJrpjC2"
      },
      "outputs": [],
      "source": [
        "# model evaluation for testing set\n",
        "regression_results(y_test, y_pred)"
      ]
    },
    {
      "cell_type": "markdown",
      "metadata": {
        "id": "FHp1n5BwxKA7"
      },
      "source": [
        "## XGBoost"
      ]
    },
    {
      "cell_type": "markdown",
      "source": [
        "### XGB 1: Include all variables"
      ],
      "metadata": {
        "id": "us6QiTtR7o6u"
      }
    },
    {
      "cell_type": "code",
      "source": [
        "print(xgb.__version__)"
      ],
      "metadata": {
        "colab": {
          "base_uri": "https://localhost:8080/"
        },
        "id": "A2UyYH742ZhF",
        "outputId": "9d6643ba-4845-4715-8092-6162a6b0d780"
      },
      "execution_count": 544,
      "outputs": [
        {
          "output_type": "stream",
          "name": "stdout",
          "text": [
            "1.5.1\n"
          ]
        }
      ]
    },
    {
      "cell_type": "code",
      "execution_count": 545,
      "metadata": {
        "id": "McTI6gPy5EYd"
      },
      "outputs": [],
      "source": [
        "xg_reg = xgb.XGBRegressor(objective ='reg:squarederror', colsample_bytree = 0.3, learning_rate = 0.1,\n",
        "                max_depth = 3, alpha = 10, n_estimators = 2500)"
      ]
    },
    {
      "cell_type": "code",
      "execution_count": 546,
      "metadata": {
        "id": "9wT5TYRs5Xxn"
      },
      "outputs": [],
      "source": [
        "xg_reg.fit(X_train_all,y_train_all)\n",
        "y_pred = xg_reg.predict(X_test_all)"
      ]
    },
    {
      "cell_type": "code",
      "execution_count": 547,
      "metadata": {
        "colab": {
          "base_uri": "https://localhost:8080/"
        },
        "id": "UROIgHxv5be_",
        "outputId": "7dd8e151-6806-4da5-d452-8b501d728aad"
      },
      "outputs": [
        {
          "output_type": "stream",
          "name": "stdout",
          "text": [
            "The model performance for testing set\n",
            "--------------------------------------\n",
            "MAE is 4.150180686507211\n",
            "MSE is 28.061184307145172\n",
            "RMSE is 5.297280840879137\n",
            "R2 score is 0.8862076503260276\n",
            "Adj R2 score is 0.8842060167599433\n"
          ]
        }
      ],
      "source": [
        "# model evaluation for testing set\n",
        "regression_results(y_test_all, y_pred)"
      ]
    },
    {
      "cell_type": "markdown",
      "source": [
        "#### Feature Importance"
      ],
      "metadata": {
        "id": "dZA8mRDr7vjf"
      }
    },
    {
      "cell_type": "code",
      "source": [
        "(pd.Series(xg_reg.feature_importances_, index=X_test_all.columns)\n",
        "   .nlargest(15)[::-1]\n",
        "   .plot(kind='barh',title=\"XGBOOST Feature Importance - % high school graduation\", xlabel=\"feature\")\n",
        "   )  \n"
      ],
      "metadata": {
        "colab": {
          "base_uri": "https://localhost:8080/",
          "height": 0
        },
        "id": "tVHwEhp1JTPq",
        "outputId": "a491b316-27b7-4f1e-ac2e-b72d60d5ec49"
      },
      "execution_count": 548,
      "outputs": [
        {
          "output_type": "execute_result",
          "data": {
            "text/plain": [
              "<matplotlib.axes._subplots.AxesSubplot at 0x7ff3b22bbe50>"
            ]
          },
          "metadata": {},
          "execution_count": 548
        },
        {
          "output_type": "display_data",
          "data": {
            "text/plain": [
              "<Figure size 576x396 with 1 Axes>"
            ],
            "image/png": "[encoded data removed]"
          },
          "metadata": {}
        }
      ]
    },
    {
      "cell_type": "markdown",
      "source": [
        "### XGB 2: Only the top 15 features + broadband var set 1"
      ],
      "metadata": {
        "id": "i9Kj65Yn1ohH"
      }
    },
    {
      "cell_type": "code",
      "source": [
        "top_vars = (pd.Series(xg_reg.feature_importances_, index=X_test_all.columns).nlargest(15)[:-1])\n",
        "print(top_vars)"
      ],
      "metadata": {
        "colab": {
          "base_uri": "https://localhost:8080/"
        },
        "id": "RdE6PChi1yf4",
        "outputId": "8be746ae-1708-4f09-85c2-02c85b665b07"
      },
      "execution_count": 549,
      "outputs": [
        {
          "output_type": "stream",
          "name": "stdout",
          "text": [
            "pct_computing_device_with_broadband    0.130630\n",
            "pct_pop_income_gt_100k                 0.119504\n",
            "pct_pop_gt_200k                        0.088792\n",
            "pct_only_smartphone                    0.063768\n",
            "pct_desktop_or_laptop                  0.057279\n",
            "Primary RUCA Code - 1.0                0.033235\n",
            "pct_internet                           0.031197\n",
            "ave_family_size                        0.030611\n",
            "pct_tablet                             0.026650\n",
            "pct_computing_device                   0.026376\n",
            "pct_internet_broadband_any_type        0.023110\n",
            "pct_hisp_latino                        0.022785\n",
            "Secondary RUCA Code - 1.0              0.020460\n",
            "ave_household_size                     0.018802\n",
            "dtype: float32\n"
          ]
        }
      ]
    },
    {
      "cell_type": "code",
      "source": [
        "top_vars_list_xg = top_vars.index.tolist()\n",
        "print(top_vars_list_xg)"
      ],
      "metadata": {
        "colab": {
          "base_uri": "https://localhost:8080/"
        },
        "id": "KqDJvgWM2cSF",
        "outputId": "3b467503-b800-4b63-fcbf-add995e8ed54"
      },
      "execution_count": 550,
      "outputs": [
        {
          "output_type": "stream",
          "name": "stdout",
          "text": [
            "['pct_computing_device_with_broadband', 'pct_pop_income_gt_100k', 'pct_pop_gt_200k', 'pct_only_smartphone', 'pct_desktop_or_laptop', 'Primary RUCA Code - 1.0', 'pct_internet', 'ave_family_size', 'pct_tablet', 'pct_computing_device', 'pct_internet_broadband_any_type', 'pct_hisp_latino', 'Secondary RUCA Code - 1.0', 'ave_household_size']\n"
          ]
        }
      ]
    },
    {
      "cell_type": "code",
      "source": [
        "#limit the dataset to only the relevant variables\n",
        "\n",
        "ind_var = [e for e in top_vars_list_xg if e not in to_drop]\n",
        "for word in br_important_vars:\n",
        "    if word not in ind_var:\n",
        "        ind_var.append(word)\n",
        "\n",
        "for word in important_cov:\n",
        "    if word not in ind_var:\n",
        "        ind_var.append(word)\n",
        "\n",
        "target = ['pct_pop_hs+']\n",
        "\n",
        "X_train = X_train_all[ind_var]\n",
        "X_test = X_test_all[ind_var]\n",
        "y_train = y_train_all[target]\n",
        "y_test = y_test_all[target]"
      ],
      "metadata": {
        "id": "iAGuJK-b2iX2"
      },
      "execution_count": 551,
      "outputs": []
    },
    {
      "cell_type": "code",
      "source": [
        "ind_var"
      ],
      "metadata": {
        "colab": {
          "base_uri": "https://localhost:8080/"
        },
        "id": "19RqS1n52rO9",
        "outputId": "76f58b3d-af9b-42cc-ab44-8b089f80bbed"
      },
      "execution_count": 552,
      "outputs": [
        {
          "output_type": "execute_result",
          "data": {
            "text/plain": [
              "['pct_computing_device_with_broadband',\n",
              " 'pct_pop_income_gt_100k',\n",
              " 'pct_pop_gt_200k',\n",
              " 'pct_only_smartphone',\n",
              " 'pct_desktop_or_laptop',\n",
              " 'Primary RUCA Code - 1.0',\n",
              " 'pct_internet',\n",
              " 'ave_family_size',\n",
              " 'pct_tablet',\n",
              " 'pct_computing_device',\n",
              " 'pct_internet_broadband_any_type',\n",
              " 'pct_hisp_latino',\n",
              " 'Secondary RUCA Code - 1.0',\n",
              " 'ave_household_size',\n",
              " 'pct_only_cellular',\n",
              " 'pct_computing_device_no_internet',\n",
              " 'pct_internet_broadband_satellite',\n",
              " 'log_median_income',\n",
              " 'ruca_metro',\n",
              " 'ruca_rural',\n",
              " 'log_median_income_over_log_median_house',\n",
              " 'pct_pop_foreign_born',\n",
              " 'pct_pop_disability']"
            ]
          },
          "metadata": {},
          "execution_count": 552
        }
      ]
    },
    {
      "cell_type": "code",
      "source": [
        "xg_reg.fit(X_train,y_train)\n",
        "y_pred = xg_reg.predict(X_test)"
      ],
      "metadata": {
        "id": "bkQheQf23cA5"
      },
      "execution_count": 553,
      "outputs": []
    },
    {
      "cell_type": "code",
      "source": [
        "regression_results(y_test, y_pred)"
      ],
      "metadata": {
        "colab": {
          "base_uri": "https://localhost:8080/"
        },
        "id": "I1Sxsu3Z3jDq",
        "outputId": "d6d3ccf4-53ef-4458-f992-3d32006ae591"
      },
      "execution_count": 554,
      "outputs": [
        {
          "output_type": "stream",
          "name": "stdout",
          "text": [
            "The model performance for testing set\n",
            "--------------------------------------\n",
            "MAE is 5.0336870935046\n",
            "MSE is 41.208316877279444\n",
            "RMSE is 6.419370442440555\n",
            "R2 score is 0.8328940378193075\n",
            "Adj R2 score is 0.8299546055643974\n"
          ]
        }
      ]
    },
    {
      "cell_type": "code",
      "source": [
        "(pd.Series(xg_reg.feature_importances_, index=X_test.columns)\n",
        "   .nlargest(50)[::-1]\n",
        "   .plot(kind='barh',title=\"XGBOOST Feature Importance - % high school graduation\", xlabel=\"feature\")\n",
        "   ) "
      ],
      "metadata": {
        "colab": {
          "base_uri": "https://localhost:8080/",
          "height": 380
        },
        "id": "JDJ9RnOw6Fdx",
        "outputId": "e54b581c-06b4-455c-ce40-2fb4d257e011"
      },
      "execution_count": 555,
      "outputs": [
        {
          "output_type": "execute_result",
          "data": {
            "text/plain": [
              "<matplotlib.axes._subplots.AxesSubplot at 0x7ff2cb054650>"
            ]
          },
          "metadata": {},
          "execution_count": 555
        },
        {
          "output_type": "display_data",
          "data": {
            "text/plain": [
              "<Figure size 576x396 with 1 Axes>"
            ],
            "image/png": "[encoded data removed]"
          },
          "metadata": {}
        }
      ]
    },
    {
      "cell_type": "code",
      "source": [
        "top_vars = pd.Series(xg_reg.feature_importances_, index=X_test.columns).nlargest(50)[:-1]\n",
        "pd.DataFrame({'Variables':top_vars.index, 'Importance':top_vars.values})\n"
      ],
      "metadata": {
        "colab": {
          "base_uri": "https://localhost:8080/",
          "height": 739
        },
        "id": "893K8B_D5nVj",
        "outputId": "e33657f7-8b17-4a6c-dbd5-ed3e73b744d1"
      },
      "execution_count": 556,
      "outputs": [
        {
          "output_type": "execute_result",
          "data": {
            "text/plain": [
              "                                  Variables  Importance\n",
              "0                           pct_pop_gt_200k    0.195175\n",
              "1                     pct_desktop_or_laptop    0.189677\n",
              "2       pct_computing_device_with_broadband    0.079315\n",
              "3                           pct_hisp_latino    0.069823\n",
              "4                        ave_household_size    0.058193\n",
              "5                 Secondary RUCA Code - 1.0    0.048220\n",
              "6                   Primary RUCA Code - 1.0    0.047955\n",
              "7           pct_internet_broadband_any_type    0.044911\n",
              "8                           ave_family_size    0.037723\n",
              "9                              pct_internet    0.033925\n",
              "10                      pct_only_smartphone    0.032935\n",
              "11                               pct_tablet    0.026521\n",
              "12                       pct_pop_disability    0.026115\n",
              "13                        log_median_income    0.024571\n",
              "14                     pct_pop_foreign_born    0.021180\n",
              "15                     pct_computing_device    0.017901\n",
              "16  log_median_income_over_log_median_house    0.010664\n",
              "17                        pct_only_cellular    0.008577\n",
              "18                   pct_pop_income_gt_100k    0.008054\n",
              "19                               ruca_metro    0.006875\n",
              "20         pct_computing_device_no_internet    0.004362\n",
              "21                               ruca_rural    0.003995"
            ],
            "text/html": [
              "\n",
              "  <div id=\"df-4bf91e39-9611-48a8-bd47-6c3bf52a1666\">\n",
              "    <div class=\"colab-df-container\">\n",
              "      <div>\n",
              "<style scoped>\n",
              "    .dataframe tbody tr th:only-of-type {\n",
              "        vertical-align: middle;\n",
              "    }\n",
              "\n",
              "    .dataframe tbody tr th {\n",
              "        vertical-align: top;\n",
              "    }\n",
              "\n",
              "    .dataframe thead th {\n",
              "        text-align: right;\n",
              "    }\n",
              "</style>\n",
              "<table border=\"1\" class=\"dataframe\">\n",
              "  <thead>\n",
              "    <tr style=\"text-align: right;\">\n",
              "      <th></th>\n",
              "      <th>Variables</th>\n",
              "      <th>Importance</th>\n",
              "    </tr>\n",
              "  </thead>\n",
              "  <tbody>\n",
              "    <tr>\n",
              "      <th>0</th>\n",
              "      <td>pct_pop_gt_200k</td>\n",
              "      <td>0.195175</td>\n",
              "    </tr>\n",
              "    <tr>\n",
              "      <th>1</th>\n",
              "      <td>pct_desktop_or_laptop</td>\n",
              "      <td>0.189677</td>\n",
              "    </tr>\n",
              "    <tr>\n",
              "      <th>2</th>\n",
              "      <td>pct_computing_device_with_broadband</td>\n",
              "      <td>0.079315</td>\n",
              "    </tr>\n",
              "    <tr>\n",
              "      <th>3</th>\n",
              "      <td>pct_hisp_latino</td>\n",
              "      <td>0.069823</td>\n",
              "    </tr>\n",
              "    <tr>\n",
              "      <th>4</th>\n",
              "      <td>ave_household_size</td>\n",
              "      <td>0.058193</td>\n",
              "    </tr>\n",
              "    <tr>\n",
              "      <th>5</th>\n",
              "      <td>Secondary RUCA Code - 1.0</td>\n",
              "      <td>0.048220</td>\n",
              "    </tr>\n",
              "    <tr>\n",
              "      <th>6</th>\n",
              "      <td>Primary RUCA Code - 1.0</td>\n",
              "      <td>0.047955</td>\n",
              "    </tr>\n",
              "    <tr>\n",
              "      <th>7</th>\n",
              "      <td>pct_internet_broadband_any_type</td>\n",
              "      <td>0.044911</td>\n",
              "    </tr>\n",
              "    <tr>\n",
              "      <th>8</th>\n",
              "      <td>ave_family_size</td>\n",
              "      <td>0.037723</td>\n",
              "    </tr>\n",
              "    <tr>\n",
              "      <th>9</th>\n",
              "      <td>pct_internet</td>\n",
              "      <td>0.033925</td>\n",
              "    </tr>\n",
              "    <tr>\n",
              "      <th>10</th>\n",
              "      <td>pct_only_smartphone</td>\n",
              "      <td>0.032935</td>\n",
              "    </tr>\n",
              "    <tr>\n",
              "      <th>11</th>\n",
              "      <td>pct_tablet</td>\n",
              "      <td>0.026521</td>\n",
              "    </tr>\n",
              "    <tr>\n",
              "      <th>12</th>\n",
              "      <td>pct_pop_disability</td>\n",
              "      <td>0.026115</td>\n",
              "    </tr>\n",
              "    <tr>\n",
              "      <th>13</th>\n",
              "      <td>log_median_income</td>\n",
              "      <td>0.024571</td>\n",
              "    </tr>\n",
              "    <tr>\n",
              "      <th>14</th>\n",
              "      <td>pct_pop_foreign_born</td>\n",
              "      <td>0.021180</td>\n",
              "    </tr>\n",
              "    <tr>\n",
              "      <th>15</th>\n",
              "      <td>pct_computing_device</td>\n",
              "      <td>0.017901</td>\n",
              "    </tr>\n",
              "    <tr>\n",
              "      <th>16</th>\n",
              "      <td>log_median_income_over_log_median_house</td>\n",
              "      <td>0.010664</td>\n",
              "    </tr>\n",
              "    <tr>\n",
              "      <th>17</th>\n",
              "      <td>pct_only_cellular</td>\n",
              "      <td>0.008577</td>\n",
              "    </tr>\n",
              "    <tr>\n",
              "      <th>18</th>\n",
              "      <td>pct_pop_income_gt_100k</td>\n",
              "      <td>0.008054</td>\n",
              "    </tr>\n",
              "    <tr>\n",
              "      <th>19</th>\n",
              "      <td>ruca_metro</td>\n",
              "      <td>0.006875</td>\n",
              "    </tr>\n",
              "    <tr>\n",
              "      <th>20</th>\n",
              "      <td>pct_computing_device_no_internet</td>\n",
              "      <td>0.004362</td>\n",
              "    </tr>\n",
              "    <tr>\n",
              "      <th>21</th>\n",
              "      <td>ruca_rural</td>\n",
              "      <td>0.003995</td>\n",
              "    </tr>\n",
              "  </tbody>\n",
              "</table>\n",
              "</div>\n",
              "      <button class=\"colab-df-convert\" onclick=\"convertToInteractive('df-4bf91e39-9611-48a8-bd47-6c3bf52a1666')\"\n",
              "              title=\"Convert this dataframe to an interactive table.\"\n",
              "              style=\"display:none;\">\n",
              "        \n",
              "  <svg xmlns=\"http://www.w3.org/2000/svg\" height=\"24px\"viewBox=\"0 0 24 24\"\n",
              "       width=\"24px\">\n",
              "    <path d=\"M0 0h24v24H0V0z\" fill=\"none\"/>\n",
              "    <path d=\"M18.56 5.44l.94 2.06.94-2.06 2.06-.94-2.06-.94-.94-2.06-.94 2.06-2.06.94zm-11 1L8.5 8.5l.94-2.06 2.06-.94-2.06-.94L8.5 2.5l-.94 2.06-2.06.94zm10 10l.94 2.06.94-2.06 2.06-.94-2.06-.94-.94-2.06-.94 2.06-2.06.94z\"/><path d=\"M17.41 7.96l-1.37-1.37c-.4-.4-.92-.59-1.43-.59-.52 0-1.04.2-1.43.59L10.3 9.45l-7.72 7.72c-.78.78-.78 2.05 0 2.83L4 21.41c.39.39.9.59 1.41.59.51 0 1.02-.2 1.41-.59l7.78-7.78 2.81-2.81c.8-.78.8-2.07 0-2.86zM5.41 20L4 18.59l7.72-7.72 1.47 1.35L5.41 20z\"/>\n",
              "  </svg>\n",
              "      </button>\n",
              "      \n",
              "  <style>\n",
              "    .colab-df-container {\n",
              "      display:flex;\n",
              "      flex-wrap:wrap;\n",
              "      gap: 12px;\n",
              "    }\n",
              "\n",
              "    .colab-df-convert {\n",
              "      background-color: #E8F0FE;\n",
              "      border: none;\n",
              "      border-radius: 50%;\n",
              "      cursor: pointer;\n",
              "      display: none;\n",
              "      fill: #1967D2;\n",
              "      height: 32px;\n",
              "      padding: 0 0 0 0;\n",
              "      width: 32px;\n",
              "    }\n",
              "\n",
              "    .colab-df-convert:hover {\n",
              "      background-color: #E2EBFA;\n",
              "      box-shadow: 0px 1px 2px rgba(60, 64, 67, 0.3), 0px 1px 3px 1px rgba(60, 64, 67, 0.15);\n",
              "      fill: #174EA6;\n",
              "    }\n",
              "\n",
              "    [theme=dark] .colab-df-convert {\n",
              "      background-color: #3B4455;\n",
              "      fill: #D2E3FC;\n",
              "    }\n",
              "\n",
              "    [theme=dark] .colab-df-convert:hover {\n",
              "      background-color: #434B5C;\n",
              "      box-shadow: 0px 1px 3px 1px rgba(0, 0, 0, 0.15);\n",
              "      filter: drop-shadow(0px 1px 2px rgba(0, 0, 0, 0.3));\n",
              "      fill: #FFFFFF;\n",
              "    }\n",
              "  </style>\n",
              "\n",
              "      <script>\n",
              "        const buttonEl =\n",
              "          document.querySelector('#df-4bf91e39-9611-48a8-bd47-6c3bf52a1666 button.colab-df-convert');\n",
              "        buttonEl.style.display =\n",
              "          google.colab.kernel.accessAllowed ? 'block' : 'none';\n",
              "\n",
              "        async function convertToInteractive(key) {\n",
              "          const element = document.querySelector('#df-4bf91e39-9611-48a8-bd47-6c3bf52a1666');\n",
              "          const dataTable =\n",
              "            await google.colab.kernel.invokeFunction('convertToInteractive',\n",
              "                                                     [key], {});\n",
              "          if (!dataTable) return;\n",
              "\n",
              "          const docLinkHtml = 'Like what you see? Visit the ' +\n",
              "            '<a target=\"_blank\" href=https://colab.research.google.com/notebooks/data_table.ipynb>data table notebook</a>'\n",
              "            + ' to learn more about interactive tables.';\n",
              "          element.innerHTML = '';\n",
              "          dataTable['output_type'] = 'display_data';\n",
              "          await google.colab.output.renderOutput(dataTable, element);\n",
              "          const docLink = document.createElement('div');\n",
              "          docLink.innerHTML = docLinkHtml;\n",
              "          element.appendChild(docLink);\n",
              "        }\n",
              "      </script>\n",
              "    </div>\n",
              "  </div>\n",
              "  "
            ]
          },
          "metadata": {},
          "execution_count": 556
        }
      ]
    },
    {
      "cell_type": "markdown",
      "source": [
        "### XGB3: Only the top 10 features + broadband var set 2"
      ],
      "metadata": {
        "id": "lVgbdsCX1-xB"
      }
    },
    {
      "cell_type": "code",
      "source": [
        "#limit the dataset to only the relevant variables\n",
        "\n",
        "ind_var = [e for e in top_vars_list_xg if e not in to_drop]\n",
        "for word in br_interest_vars:\n",
        "    if word not in ind_var:\n",
        "        ind_var.append(word)\n",
        "\n",
        "for word in important_cov:\n",
        "    if word not in ind_var:\n",
        "        ind_var.append(word)\n",
        "        \n",
        "target = ['pct_pop_hs+']\n",
        "\n",
        "X_train = X_train_all[ind_var]\n",
        "X_test = X_test_all[ind_var]\n",
        "y_train = y_train_all[target]\n",
        "y_test = y_test_all[target]"
      ],
      "metadata": {
        "id": "pu-xyVcp4Gwg"
      },
      "execution_count": 557,
      "outputs": []
    },
    {
      "cell_type": "code",
      "source": [
        "ind_var"
      ],
      "metadata": {
        "colab": {
          "base_uri": "https://localhost:8080/"
        },
        "id": "syowPHA24tXF",
        "outputId": "6b7db8a6-0997-4e9e-e249-e26a50dfeb4e"
      },
      "execution_count": 558,
      "outputs": [
        {
          "output_type": "execute_result",
          "data": {
            "text/plain": [
              "['pct_computing_device_with_broadband',\n",
              " 'pct_pop_income_gt_100k',\n",
              " 'pct_pop_gt_200k',\n",
              " 'pct_only_smartphone',\n",
              " 'pct_desktop_or_laptop',\n",
              " 'Primary RUCA Code - 1.0',\n",
              " 'pct_internet',\n",
              " 'ave_family_size',\n",
              " 'pct_tablet',\n",
              " 'pct_computing_device',\n",
              " 'pct_internet_broadband_any_type',\n",
              " 'pct_hisp_latino',\n",
              " 'Secondary RUCA Code - 1.0',\n",
              " 'ave_household_size',\n",
              " 'All_Provider_Count_25',\n",
              " 'All_Provider_Count_100',\n",
              " 'Ookla Median Download Speed (Mbps)',\n",
              " 'log_median_income',\n",
              " 'ruca_metro',\n",
              " 'ruca_rural',\n",
              " 'log_median_income_over_log_median_house',\n",
              " 'pct_pop_foreign_born',\n",
              " 'pct_pop_disability']"
            ]
          },
          "metadata": {},
          "execution_count": 558
        }
      ]
    },
    {
      "cell_type": "code",
      "source": [
        "xg_reg.fit(X_train,y_train)\n",
        "y_pred = xg_reg.predict(X_test)"
      ],
      "metadata": {
        "id": "lnNQlT-r4vKh"
      },
      "execution_count": 559,
      "outputs": []
    },
    {
      "cell_type": "code",
      "source": [
        "regression_results(y_test, y_pred)"
      ],
      "metadata": {
        "id": "YTkUdSVL4wgk",
        "colab": {
          "base_uri": "https://localhost:8080/"
        },
        "outputId": "456b774e-a08c-4dda-c586-affe4e705369"
      },
      "execution_count": 560,
      "outputs": [
        {
          "output_type": "stream",
          "name": "stdout",
          "text": [
            "The model performance for testing set\n",
            "--------------------------------------\n",
            "MAE is 4.9684120931747735\n",
            "MSE is 40.10400101117123\n",
            "RMSE is 6.332771984776589\n",
            "R2 score is 0.8373722058043525\n",
            "Adj R2 score is 0.8345115455528249\n"
          ]
        }
      ]
    },
    {
      "cell_type": "code",
      "source": [
        "(pd.Series(xg_reg.feature_importances_, index=X_test.columns)\n",
        "   .nlargest(90)[::-1]\n",
        "   .plot(kind='barh',title=\"XGBOOST Feature Importance - % high school graduation\", xlabel=\"feature\")\n",
        "   ) "
      ],
      "metadata": {
        "id": "RM_0dm-i6Kw0",
        "colab": {
          "base_uri": "https://localhost:8080/",
          "height": 380
        },
        "outputId": "a332a296-0eb6-4a2f-f8cb-91802dccc57e"
      },
      "execution_count": 561,
      "outputs": [
        {
          "output_type": "execute_result",
          "data": {
            "text/plain": [
              "<matplotlib.axes._subplots.AxesSubplot at 0x7ff2caf4ec10>"
            ]
          },
          "metadata": {},
          "execution_count": 561
        },
        {
          "output_type": "display_data",
          "data": {
            "text/plain": [
              "<Figure size 576x396 with 1 Axes>"
            ],
            "image/png": "[encoded data removed]"
          },
          "metadata": {}
        }
      ]
    },
    {
      "cell_type": "code",
      "source": [
        "top_vars = pd.Series(xg_reg.feature_importances_, index=X_test.columns).nlargest(50)[:-1]\n",
        "pd.DataFrame({'Variables':top_vars.index, 'Importance':top_vars.values})"
      ],
      "metadata": {
        "id": "nxOPeaHm6O9-",
        "colab": {
          "base_uri": "https://localhost:8080/",
          "height": 739
        },
        "outputId": "8f30e9d9-f60b-41be-af0f-1ad4f5569d59"
      },
      "execution_count": 562,
      "outputs": [
        {
          "output_type": "execute_result",
          "data": {
            "text/plain": [
              "                                  Variables  Importance\n",
              "0                     pct_desktop_or_laptop    0.219342\n",
              "1                           pct_pop_gt_200k    0.176430\n",
              "2                           pct_hisp_latino    0.070617\n",
              "3       pct_computing_device_with_broadband    0.069638\n",
              "4                        ave_household_size    0.056638\n",
              "5                   Primary RUCA Code - 1.0    0.056424\n",
              "6           pct_internet_broadband_any_type    0.043387\n",
              "7                 Secondary RUCA Code - 1.0    0.040503\n",
              "8                           ave_family_size    0.037918\n",
              "9                       pct_only_smartphone    0.032004\n",
              "10                             pct_internet    0.031280\n",
              "11                               pct_tablet    0.026590\n",
              "12                       pct_pop_disability    0.026083\n",
              "13                        log_median_income    0.023174\n",
              "14                     pct_pop_foreign_born    0.020581\n",
              "15                     pct_computing_device    0.018345\n",
              "16  log_median_income_over_log_median_house    0.010329\n",
              "17                               ruca_metro    0.008783\n",
              "18                    All_Provider_Count_25    0.008770\n",
              "19                   All_Provider_Count_100    0.008542\n",
              "20                   pct_pop_income_gt_100k    0.007050\n",
              "21       Ookla Median Download Speed (Mbps)    0.004007"
            ],
            "text/html": [
              "\n",
              "  <div id=\"df-87797f44-4ab0-46a5-ac89-88e1be472b81\">\n",
              "    <div class=\"colab-df-container\">\n",
              "      <div>\n",
              "<style scoped>\n",
              "    .dataframe tbody tr th:only-of-type {\n",
              "        vertical-align: middle;\n",
              "    }\n",
              "\n",
              "    .dataframe tbody tr th {\n",
              "        vertical-align: top;\n",
              "    }\n",
              "\n",
              "    .dataframe thead th {\n",
              "        text-align: right;\n",
              "    }\n",
              "</style>\n",
              "<table border=\"1\" class=\"dataframe\">\n",
              "  <thead>\n",
              "    <tr style=\"text-align: right;\">\n",
              "      <th></th>\n",
              "      <th>Variables</th>\n",
              "      <th>Importance</th>\n",
              "    </tr>\n",
              "  </thead>\n",
              "  <tbody>\n",
              "    <tr>\n",
              "      <th>0</th>\n",
              "      <td>pct_desktop_or_laptop</td>\n",
              "      <td>0.219342</td>\n",
              "    </tr>\n",
              "    <tr>\n",
              "      <th>1</th>\n",
              "      <td>pct_pop_gt_200k</td>\n",
              "      <td>0.176430</td>\n",
              "    </tr>\n",
              "    <tr>\n",
              "      <th>2</th>\n",
              "      <td>pct_hisp_latino</td>\n",
              "      <td>0.070617</td>\n",
              "    </tr>\n",
              "    <tr>\n",
              "      <th>3</th>\n",
              "      <td>pct_computing_device_with_broadband</td>\n",
              "      <td>0.069638</td>\n",
              "    </tr>\n",
              "    <tr>\n",
              "      <th>4</th>\n",
              "      <td>ave_household_size</td>\n",
              "      <td>0.056638</td>\n",
              "    </tr>\n",
              "    <tr>\n",
              "      <th>5</th>\n",
              "      <td>Primary RUCA Code - 1.0</td>\n",
              "      <td>0.056424</td>\n",
              "    </tr>\n",
              "    <tr>\n",
              "      <th>6</th>\n",
              "      <td>pct_internet_broadband_any_type</td>\n",
              "      <td>0.043387</td>\n",
              "    </tr>\n",
              "    <tr>\n",
              "      <th>7</th>\n",
              "      <td>Secondary RUCA Code - 1.0</td>\n",
              "      <td>0.040503</td>\n",
              "    </tr>\n",
              "    <tr>\n",
              "      <th>8</th>\n",
              "      <td>ave_family_size</td>\n",
              "      <td>0.037918</td>\n",
              "    </tr>\n",
              "    <tr>\n",
              "      <th>9</th>\n",
              "      <td>pct_only_smartphone</td>\n",
              "      <td>0.032004</td>\n",
              "    </tr>\n",
              "    <tr>\n",
              "      <th>10</th>\n",
              "      <td>pct_internet</td>\n",
              "      <td>0.031280</td>\n",
              "    </tr>\n",
              "    <tr>\n",
              "      <th>11</th>\n",
              "      <td>pct_tablet</td>\n",
              "      <td>0.026590</td>\n",
              "    </tr>\n",
              "    <tr>\n",
              "      <th>12</th>\n",
              "      <td>pct_pop_disability</td>\n",
              "      <td>0.026083</td>\n",
              "    </tr>\n",
              "    <tr>\n",
              "      <th>13</th>\n",
              "      <td>log_median_income</td>\n",
              "      <td>0.023174</td>\n",
              "    </tr>\n",
              "    <tr>\n",
              "      <th>14</th>\n",
              "      <td>pct_pop_foreign_born</td>\n",
              "      <td>0.020581</td>\n",
              "    </tr>\n",
              "    <tr>\n",
              "      <th>15</th>\n",
              "      <td>pct_computing_device</td>\n",
              "      <td>0.018345</td>\n",
              "    </tr>\n",
              "    <tr>\n",
              "      <th>16</th>\n",
              "      <td>log_median_income_over_log_median_house</td>\n",
              "      <td>0.010329</td>\n",
              "    </tr>\n",
              "    <tr>\n",
              "      <th>17</th>\n",
              "      <td>ruca_metro</td>\n",
              "      <td>0.008783</td>\n",
              "    </tr>\n",
              "    <tr>\n",
              "      <th>18</th>\n",
              "      <td>All_Provider_Count_25</td>\n",
              "      <td>0.008770</td>\n",
              "    </tr>\n",
              "    <tr>\n",
              "      <th>19</th>\n",
              "      <td>All_Provider_Count_100</td>\n",
              "      <td>0.008542</td>\n",
              "    </tr>\n",
              "    <tr>\n",
              "      <th>20</th>\n",
              "      <td>pct_pop_income_gt_100k</td>\n",
              "      <td>0.007050</td>\n",
              "    </tr>\n",
              "    <tr>\n",
              "      <th>21</th>\n",
              "      <td>Ookla Median Download Speed (Mbps)</td>\n",
              "      <td>0.004007</td>\n",
              "    </tr>\n",
              "  </tbody>\n",
              "</table>\n",
              "</div>\n",
              "      <button class=\"colab-df-convert\" onclick=\"convertToInteractive('df-87797f44-4ab0-46a5-ac89-88e1be472b81')\"\n",
              "              title=\"Convert this dataframe to an interactive table.\"\n",
              "              style=\"display:none;\">\n",
              "        \n",
              "  <svg xmlns=\"http://www.w3.org/2000/svg\" height=\"24px\"viewBox=\"0 0 24 24\"\n",
              "       width=\"24px\">\n",
              "    <path d=\"M0 0h24v24H0V0z\" fill=\"none\"/>\n",
              "    <path d=\"M18.56 5.44l.94 2.06.94-2.06 2.06-.94-2.06-.94-.94-2.06-.94 2.06-2.06.94zm-11 1L8.5 8.5l.94-2.06 2.06-.94-2.06-.94L8.5 2.5l-.94 2.06-2.06.94zm10 10l.94 2.06.94-2.06 2.06-.94-2.06-.94-.94-2.06-.94 2.06-2.06.94z\"/><path d=\"M17.41 7.96l-1.37-1.37c-.4-.4-.92-.59-1.43-.59-.52 0-1.04.2-1.43.59L10.3 9.45l-7.72 7.72c-.78.78-.78 2.05 0 2.83L4 21.41c.39.39.9.59 1.41.59.51 0 1.02-.2 1.41-.59l7.78-7.78 2.81-2.81c.8-.78.8-2.07 0-2.86zM5.41 20L4 18.59l7.72-7.72 1.47 1.35L5.41 20z\"/>\n",
              "  </svg>\n",
              "      </button>\n",
              "      \n",
              "  <style>\n",
              "    .colab-df-container {\n",
              "      display:flex;\n",
              "      flex-wrap:wrap;\n",
              "      gap: 12px;\n",
              "    }\n",
              "\n",
              "    .colab-df-convert {\n",
              "      background-color: #E8F0FE;\n",
              "      border: none;\n",
              "      border-radius: 50%;\n",
              "      cursor: pointer;\n",
              "      display: none;\n",
              "      fill: #1967D2;\n",
              "      height: 32px;\n",
              "      padding: 0 0 0 0;\n",
              "      width: 32px;\n",
              "    }\n",
              "\n",
              "    .colab-df-convert:hover {\n",
              "      background-color: #E2EBFA;\n",
              "      box-shadow: 0px 1px 2px rgba(60, 64, 67, 0.3), 0px 1px 3px 1px rgba(60, 64, 67, 0.15);\n",
              "      fill: #174EA6;\n",
              "    }\n",
              "\n",
              "    [theme=dark] .colab-df-convert {\n",
              "      background-color: #3B4455;\n",
              "      fill: #D2E3FC;\n",
              "    }\n",
              "\n",
              "    [theme=dark] .colab-df-convert:hover {\n",
              "      background-color: #434B5C;\n",
              "      box-shadow: 0px 1px 3px 1px rgba(0, 0, 0, 0.15);\n",
              "      filter: drop-shadow(0px 1px 2px rgba(0, 0, 0, 0.3));\n",
              "      fill: #FFFFFF;\n",
              "    }\n",
              "  </style>\n",
              "\n",
              "      <script>\n",
              "        const buttonEl =\n",
              "          document.querySelector('#df-87797f44-4ab0-46a5-ac89-88e1be472b81 button.colab-df-convert');\n",
              "        buttonEl.style.display =\n",
              "          google.colab.kernel.accessAllowed ? 'block' : 'none';\n",
              "\n",
              "        async function convertToInteractive(key) {\n",
              "          const element = document.querySelector('#df-87797f44-4ab0-46a5-ac89-88e1be472b81');\n",
              "          const dataTable =\n",
              "            await google.colab.kernel.invokeFunction('convertToInteractive',\n",
              "                                                     [key], {});\n",
              "          if (!dataTable) return;\n",
              "\n",
              "          const docLinkHtml = 'Like what you see? Visit the ' +\n",
              "            '<a target=\"_blank\" href=https://colab.research.google.com/notebooks/data_table.ipynb>data table notebook</a>'\n",
              "            + ' to learn more about interactive tables.';\n",
              "          element.innerHTML = '';\n",
              "          dataTable['output_type'] = 'display_data';\n",
              "          await google.colab.output.renderOutput(dataTable, element);\n",
              "          const docLink = document.createElement('div');\n",
              "          docLink.innerHTML = docLinkHtml;\n",
              "          element.appendChild(docLink);\n",
              "        }\n",
              "      </script>\n",
              "    </div>\n",
              "  </div>\n",
              "  "
            ]
          },
          "metadata": {},
          "execution_count": 562
        }
      ]
    },
    {
      "cell_type": "markdown",
      "metadata": {
        "id": "Jy8Cbi4iah8k"
      },
      "source": [
        "#### Hyperparameter Tuning"
      ]
    },
    {
      "cell_type": "code",
      "source": [
        "params = { 'max_depth': [5, 10],\n",
        "           'learning_rate': [0.1,0.5],\n",
        "           'n_estimators': [2500,5000],\n",
        "           'colsample_bytree': [0.3, 0.5]}\n",
        "\n",
        "regressor_tuned = xgb.XGBRegressor()\n",
        "\n",
        "regress = RandomizedSearchCV(estimator=regressor_tuned, \n",
        "                             param_distributions=params,\n",
        "                             scoring='neg_mean_squared_error', \n",
        "                             verbose=10,\n",
        "                             n_iter = 20,\n",
        "                             cv = 3,\n",
        "                             random_state=42)\n",
        "\n",
        "regress.fit(X_train, y_train)"
      ],
      "metadata": {
        "id": "WOw0GLsMkKEh",
        "colab": {
          "base_uri": "https://localhost:8080/"
        },
        "outputId": "e83ef05f-e6cd-48b2-86bf-1def5b7f8b36"
      },
      "execution_count": 575,
      "outputs": [
        {
          "output_type": "stream",
          "name": "stderr",
          "text": [
            "/usr/local/lib/python3.7/dist-packages/sklearn/model_selection/_search.py:296: UserWarning: The total space of parameters 16 is smaller than n_iter=20. Running 16 iterations. For exhaustive searches, use GridSearchCV.\n",
            "  UserWarning,\n"
          ]
        },
        {
          "output_type": "stream",
          "name": "stdout",
          "text": [
            "Fitting 3 folds for each of 16 candidates, totalling 48 fits\n",
            "[CV 1/3; 1/16] START colsample_bytree=0.3, learning_rate=0.1, max_depth=5, n_estimators=2500\n",
            "[CV 1/3; 1/16] END colsample_bytree=0.3, learning_rate=0.1, max_depth=5, n_estimators=2500;, score=-42.162 total time=  27.8s\n",
            "[CV 2/3; 1/16] START colsample_bytree=0.3, learning_rate=0.1, max_depth=5, n_estimators=2500\n",
            "[CV 2/3; 1/16] END colsample_bytree=0.3, learning_rate=0.1, max_depth=5, n_estimators=2500;, score=-41.108 total time=  27.6s\n",
            "[CV 3/3; 1/16] START colsample_bytree=0.3, learning_rate=0.1, max_depth=5, n_estimators=2500\n",
            "[CV 3/3; 1/16] END colsample_bytree=0.3, learning_rate=0.1, max_depth=5, n_estimators=2500;, score=-42.067 total time=  27.9s\n",
            "[CV 1/3; 2/16] START colsample_bytree=0.3, learning_rate=0.1, max_depth=5, n_estimators=5000\n",
            "[CV 1/3; 2/16] END colsample_bytree=0.3, learning_rate=0.1, max_depth=5, n_estimators=5000;, score=-43.084 total time=  54.3s\n",
            "[CV 2/3; 2/16] START colsample_bytree=0.3, learning_rate=0.1, max_depth=5, n_estimators=5000\n",
            "[CV 2/3; 2/16] END colsample_bytree=0.3, learning_rate=0.1, max_depth=5, n_estimators=5000;, score=-41.989 total time=  54.5s\n",
            "[CV 3/3; 2/16] START colsample_bytree=0.3, learning_rate=0.1, max_depth=5, n_estimators=5000\n",
            "[CV 3/3; 2/16] END colsample_bytree=0.3, learning_rate=0.1, max_depth=5, n_estimators=5000;, score=-42.965 total time=  55.0s\n",
            "[CV 1/3; 3/16] START colsample_bytree=0.3, learning_rate=0.1, max_depth=10, n_estimators=2500\n",
            "[CV 1/3; 3/16] END colsample_bytree=0.3, learning_rate=0.1, max_depth=10, n_estimators=2500;, score=-43.353 total time= 1.0min\n",
            "[CV 2/3; 3/16] START colsample_bytree=0.3, learning_rate=0.1, max_depth=10, n_estimators=2500\n",
            "[CV 2/3; 3/16] END colsample_bytree=0.3, learning_rate=0.1, max_depth=10, n_estimators=2500;, score=-42.495 total time= 1.0min\n",
            "[CV 3/3; 3/16] START colsample_bytree=0.3, learning_rate=0.1, max_depth=10, n_estimators=2500\n",
            "[CV 3/3; 3/16] END colsample_bytree=0.3, learning_rate=0.1, max_depth=10, n_estimators=2500;, score=-43.358 total time= 1.0min\n",
            "[CV 1/3; 4/16] START colsample_bytree=0.3, learning_rate=0.1, max_depth=10, n_estimators=5000\n",
            "[CV 1/3; 4/16] END colsample_bytree=0.3, learning_rate=0.1, max_depth=10, n_estimators=5000;, score=-43.355 total time= 1.9min\n",
            "[CV 2/3; 4/16] START colsample_bytree=0.3, learning_rate=0.1, max_depth=10, n_estimators=5000\n",
            "[CV 2/3; 4/16] END colsample_bytree=0.3, learning_rate=0.1, max_depth=10, n_estimators=5000;, score=-42.500 total time= 1.9min\n",
            "[CV 3/3; 4/16] START colsample_bytree=0.3, learning_rate=0.1, max_depth=10, n_estimators=5000\n",
            "[CV 3/3; 4/16] END colsample_bytree=0.3, learning_rate=0.1, max_depth=10, n_estimators=5000;, score=-43.361 total time= 1.8min\n",
            "[CV 1/3; 5/16] START colsample_bytree=0.3, learning_rate=0.5, max_depth=5, n_estimators=2500\n",
            "[CV 1/3; 5/16] END colsample_bytree=0.3, learning_rate=0.5, max_depth=5, n_estimators=2500;, score=-52.939 total time=  26.9s\n",
            "[CV 2/3; 5/16] START colsample_bytree=0.3, learning_rate=0.5, max_depth=5, n_estimators=2500\n",
            "[CV 2/3; 5/16] END colsample_bytree=0.3, learning_rate=0.5, max_depth=5, n_estimators=2500;, score=-51.895 total time=  26.9s\n",
            "[CV 3/3; 5/16] START colsample_bytree=0.3, learning_rate=0.5, max_depth=5, n_estimators=2500\n",
            "[CV 3/3; 5/16] END colsample_bytree=0.3, learning_rate=0.5, max_depth=5, n_estimators=2500;, score=-53.120 total time=  27.0s\n",
            "[CV 1/3; 6/16] START colsample_bytree=0.3, learning_rate=0.5, max_depth=5, n_estimators=5000\n",
            "[CV 1/3; 6/16] END colsample_bytree=0.3, learning_rate=0.5, max_depth=5, n_estimators=5000;, score=-53.052 total time=  53.3s\n",
            "[CV 2/3; 6/16] START colsample_bytree=0.3, learning_rate=0.5, max_depth=5, n_estimators=5000\n",
            "[CV 2/3; 6/16] END colsample_bytree=0.3, learning_rate=0.5, max_depth=5, n_estimators=5000;, score=-52.036 total time=  53.8s\n",
            "[CV 3/3; 6/16] START colsample_bytree=0.3, learning_rate=0.5, max_depth=5, n_estimators=5000\n",
            "[CV 3/3; 6/16] END colsample_bytree=0.3, learning_rate=0.5, max_depth=5, n_estimators=5000;, score=-53.298 total time=  54.5s\n",
            "[CV 1/3; 7/16] START colsample_bytree=0.3, learning_rate=0.5, max_depth=10, n_estimators=2500\n",
            "[CV 1/3; 7/16] END colsample_bytree=0.3, learning_rate=0.5, max_depth=10, n_estimators=2500;, score=-57.063 total time=  25.0s\n",
            "[CV 2/3; 7/16] START colsample_bytree=0.3, learning_rate=0.5, max_depth=10, n_estimators=2500\n",
            "[CV 2/3; 7/16] END colsample_bytree=0.3, learning_rate=0.5, max_depth=10, n_estimators=2500;, score=-56.466 total time=  25.1s\n",
            "[CV 3/3; 7/16] START colsample_bytree=0.3, learning_rate=0.5, max_depth=10, n_estimators=2500\n",
            "[CV 3/3; 7/16] END colsample_bytree=0.3, learning_rate=0.5, max_depth=10, n_estimators=2500;, score=-57.210 total time=  25.2s\n",
            "[CV 1/3; 8/16] START colsample_bytree=0.3, learning_rate=0.5, max_depth=10, n_estimators=5000\n",
            "[CV 1/3; 8/16] END colsample_bytree=0.3, learning_rate=0.5, max_depth=10, n_estimators=5000;, score=-57.063 total time=  30.5s\n",
            "[CV 2/3; 8/16] START colsample_bytree=0.3, learning_rate=0.5, max_depth=10, n_estimators=5000\n",
            "[CV 2/3; 8/16] END colsample_bytree=0.3, learning_rate=0.5, max_depth=10, n_estimators=5000;, score=-56.466 total time=  30.6s\n",
            "[CV 3/3; 8/16] START colsample_bytree=0.3, learning_rate=0.5, max_depth=10, n_estimators=5000\n",
            "[CV 3/3; 8/16] END colsample_bytree=0.3, learning_rate=0.5, max_depth=10, n_estimators=5000;, score=-57.210 total time=  30.5s\n",
            "[CV 1/3; 9/16] START colsample_bytree=0.5, learning_rate=0.1, max_depth=5, n_estimators=2500\n",
            "[CV 1/3; 9/16] END colsample_bytree=0.5, learning_rate=0.1, max_depth=5, n_estimators=2500;, score=-42.251 total time=  32.5s\n",
            "[CV 2/3; 9/16] START colsample_bytree=0.5, learning_rate=0.1, max_depth=5, n_estimators=2500\n",
            "[CV 2/3; 9/16] END colsample_bytree=0.5, learning_rate=0.1, max_depth=5, n_estimators=2500;, score=-41.091 total time=  32.7s\n",
            "[CV 3/3; 9/16] START colsample_bytree=0.5, learning_rate=0.1, max_depth=5, n_estimators=2500\n",
            "[CV 3/3; 9/16] END colsample_bytree=0.5, learning_rate=0.1, max_depth=5, n_estimators=2500;, score=-42.085 total time=  34.8s\n",
            "[CV 1/3; 10/16] START colsample_bytree=0.5, learning_rate=0.1, max_depth=5, n_estimators=5000\n",
            "[CV 1/3; 10/16] END colsample_bytree=0.5, learning_rate=0.1, max_depth=5, n_estimators=5000;, score=-43.175 total time= 1.1min\n",
            "[CV 2/3; 10/16] START colsample_bytree=0.5, learning_rate=0.1, max_depth=5, n_estimators=5000\n",
            "[CV 2/3; 10/16] END colsample_bytree=0.5, learning_rate=0.1, max_depth=5, n_estimators=5000;, score=-42.066 total time= 1.1min\n",
            "[CV 3/3; 10/16] START colsample_bytree=0.5, learning_rate=0.1, max_depth=5, n_estimators=5000\n",
            "[CV 3/3; 10/16] END colsample_bytree=0.5, learning_rate=0.1, max_depth=5, n_estimators=5000;, score=-43.090 total time= 1.1min\n",
            "[CV 1/3; 11/16] START colsample_bytree=0.5, learning_rate=0.1, max_depth=10, n_estimators=2500\n",
            "[CV 1/3; 11/16] END colsample_bytree=0.5, learning_rate=0.1, max_depth=10, n_estimators=2500;, score=-42.400 total time= 1.2min\n",
            "[CV 2/3; 11/16] START colsample_bytree=0.5, learning_rate=0.1, max_depth=10, n_estimators=2500\n",
            "[CV 2/3; 11/16] END colsample_bytree=0.5, learning_rate=0.1, max_depth=10, n_estimators=2500;, score=-41.135 total time= 1.2min\n",
            "[CV 3/3; 11/16] START colsample_bytree=0.5, learning_rate=0.1, max_depth=10, n_estimators=2500\n",
            "[CV 3/3; 11/16] END colsample_bytree=0.5, learning_rate=0.1, max_depth=10, n_estimators=2500;, score=-42.450 total time= 1.2min\n",
            "[CV 1/3; 12/16] START colsample_bytree=0.5, learning_rate=0.1, max_depth=10, n_estimators=5000\n",
            "[CV 1/3; 12/16] END colsample_bytree=0.5, learning_rate=0.1, max_depth=10, n_estimators=5000;, score=-42.402 total time= 2.0min\n",
            "[CV 2/3; 12/16] START colsample_bytree=0.5, learning_rate=0.1, max_depth=10, n_estimators=5000\n",
            "[CV 2/3; 12/16] END colsample_bytree=0.5, learning_rate=0.1, max_depth=10, n_estimators=5000;, score=-41.139 total time= 2.0min\n",
            "[CV 3/3; 12/16] START colsample_bytree=0.5, learning_rate=0.1, max_depth=10, n_estimators=5000\n",
            "[CV 3/3; 12/16] END colsample_bytree=0.5, learning_rate=0.1, max_depth=10, n_estimators=5000;, score=-42.451 total time= 2.0min\n",
            "[CV 1/3; 13/16] START colsample_bytree=0.5, learning_rate=0.5, max_depth=5, n_estimators=2500\n",
            "[CV 1/3; 13/16] END colsample_bytree=0.5, learning_rate=0.5, max_depth=5, n_estimators=2500;, score=-53.714 total time=  32.9s\n",
            "[CV 2/3; 13/16] START colsample_bytree=0.5, learning_rate=0.5, max_depth=5, n_estimators=2500\n",
            "[CV 2/3; 13/16] END colsample_bytree=0.5, learning_rate=0.5, max_depth=5, n_estimators=2500;, score=-52.472 total time=  32.3s\n",
            "[CV 3/3; 13/16] START colsample_bytree=0.5, learning_rate=0.5, max_depth=5, n_estimators=2500\n",
            "[CV 3/3; 13/16] END colsample_bytree=0.5, learning_rate=0.5, max_depth=5, n_estimators=2500;, score=-52.880 total time=  32.5s\n",
            "[CV 1/3; 14/16] START colsample_bytree=0.5, learning_rate=0.5, max_depth=5, n_estimators=5000\n",
            "[CV 1/3; 14/16] END colsample_bytree=0.5, learning_rate=0.5, max_depth=5, n_estimators=5000;, score=-53.795 total time= 1.1min\n",
            "[CV 2/3; 14/16] START colsample_bytree=0.5, learning_rate=0.5, max_depth=5, n_estimators=5000\n",
            "[CV 2/3; 14/16] END colsample_bytree=0.5, learning_rate=0.5, max_depth=5, n_estimators=5000;, score=-52.580 total time= 1.1min\n",
            "[CV 3/3; 14/16] START colsample_bytree=0.5, learning_rate=0.5, max_depth=5, n_estimators=5000\n",
            "[CV 3/3; 14/16] END colsample_bytree=0.5, learning_rate=0.5, max_depth=5, n_estimators=5000;, score=-52.951 total time= 1.1min\n",
            "[CV 1/3; 15/16] START colsample_bytree=0.5, learning_rate=0.5, max_depth=10, n_estimators=2500\n",
            "[CV 1/3; 15/16] END colsample_bytree=0.5, learning_rate=0.5, max_depth=10, n_estimators=2500;, score=-54.598 total time=  27.7s\n",
            "[CV 2/3; 15/16] START colsample_bytree=0.5, learning_rate=0.5, max_depth=10, n_estimators=2500\n",
            "[CV 2/3; 15/16] END colsample_bytree=0.5, learning_rate=0.5, max_depth=10, n_estimators=2500;, score=-54.170 total time=  26.9s\n",
            "[CV 3/3; 15/16] START colsample_bytree=0.5, learning_rate=0.5, max_depth=10, n_estimators=2500\n",
            "[CV 3/3; 15/16] END colsample_bytree=0.5, learning_rate=0.5, max_depth=10, n_estimators=2500;, score=-54.724 total time=  27.8s\n",
            "[CV 1/3; 16/16] START colsample_bytree=0.5, learning_rate=0.5, max_depth=10, n_estimators=5000\n",
            "[CV 1/3; 16/16] END colsample_bytree=0.5, learning_rate=0.5, max_depth=10, n_estimators=5000;, score=-54.598 total time=  34.2s\n",
            "[CV 2/3; 16/16] START colsample_bytree=0.5, learning_rate=0.5, max_depth=10, n_estimators=5000\n",
            "[CV 2/3; 16/16] END colsample_bytree=0.5, learning_rate=0.5, max_depth=10, n_estimators=5000;, score=-54.170 total time=  33.7s\n",
            "[CV 3/3; 16/16] START colsample_bytree=0.5, learning_rate=0.5, max_depth=10, n_estimators=5000\n",
            "[CV 3/3; 16/16] END colsample_bytree=0.5, learning_rate=0.5, max_depth=10, n_estimators=5000;, score=-54.724 total time=  34.3s\n"
          ]
        },
        {
          "output_type": "execute_result",
          "data": {
            "text/plain": [
              "RandomizedSearchCV(cv=3,\n",
              "                   estimator=XGBRegressor(base_score=None, booster=None,\n",
              "                                          colsample_bylevel=None,\n",
              "                                          colsample_bynode=None,\n",
              "                                          colsample_bytree=None,\n",
              "                                          enable_categorical=False, gamma=None,\n",
              "                                          gpu_id=None, importance_type=None,\n",
              "                                          interaction_constraints=None,\n",
              "                                          learning_rate=None,\n",
              "                                          max_delta_step=None, max_depth=None,\n",
              "                                          min_child_weight=None, missing=nan,\n",
              "                                          monotone_constraints=...\n",
              "                                          predictor=None, random_state=None,\n",
              "                                          reg_alpha=None, reg_lambda=None,\n",
              "                                          scale_pos_weight=None, subsample=None,\n",
              "                                          tree_method=None,\n",
              "                                          validate_parameters=None,\n",
              "                                          verbosity=None),\n",
              "                   n_iter=20,\n",
              "                   param_distributions={'colsample_bytree': [0.3, 0.5],\n",
              "                                        'learning_rate': [0.1, 0.5],\n",
              "                                        'max_depth': [5, 10],\n",
              "                                        'n_estimators': [2500, 5000]},\n",
              "                   random_state=42, scoring='neg_mean_squared_error',\n",
              "                   verbose=10)"
            ]
          },
          "metadata": {},
          "execution_count": 575
        }
      ]
    },
    {
      "cell_type": "code",
      "source": [
        "print(\"Best parameters:\", regress.best_params_)\n",
        "print(\"Lowest RMSE: \", (-regress.best_score_)**(1/2.0))\n",
        "y_pred = regress.predict(X_test)\n",
        "\n",
        "regression_results(y_test, y_pred)"
      ],
      "metadata": {
        "id": "zm6g-CLLlD6Y",
        "colab": {
          "base_uri": "https://localhost:8080/"
        },
        "outputId": "2addcf61-51f9-4104-8a1f-ae35c158e0f3"
      },
      "execution_count": 576,
      "outputs": [
        {
          "output_type": "stream",
          "name": "stdout",
          "text": [
            "Best parameters: {'n_estimators': 2500, 'max_depth': 5, 'learning_rate': 0.1, 'colsample_bytree': 0.3}\n",
            "Lowest RMSE:  6.463668910264943\n",
            "The model performance for testing set\n",
            "--------------------------------------\n",
            "MAE is 4.953289864027797\n",
            "MSE is 40.11716221395149\n",
            "RMSE is 6.333811033963003\n",
            "R2 score is 0.8398602755073117\n",
            "Adj R2 score is 0.8376129864193245\n"
          ]
        }
      ]
    },
    {
      "cell_type": "markdown",
      "source": [
        "#Best Model"
      ],
      "metadata": {
        "id": "ZvNYt0qutdbR"
      }
    },
    {
      "cell_type": "markdown",
      "source": [
        "### So far, best model is XGB with broadband set 2\n",
        "\n"
      ],
      "metadata": {
        "id": "sbvMn4d_tjH1"
      }
    },
    {
      "cell_type": "code",
      "source": [
        "## using actual test dataset\n",
        "\n",
        "X_test= df_broadband_test[ind_var]\n",
        "y_test= df_broadband_test[target]"
      ],
      "metadata": {
        "id": "2y8Bw0xqtfQw"
      },
      "execution_count": 563,
      "outputs": []
    },
    {
      "cell_type": "code",
      "source": [
        "xg_reg.fit(X_train,y_train)\n",
        "y_pred = xg_reg.predict(X_test)"
      ],
      "metadata": {
        "id": "CYtyGfrCEO5V"
      },
      "execution_count": 564,
      "outputs": []
    },
    {
      "cell_type": "code",
      "source": [
        "# model evaluation for testing set\n",
        "regression_results(y_test, y_pred)"
      ],
      "metadata": {
        "colab": {
          "base_uri": "https://localhost:8080/"
        },
        "outputId": "7d845521-a4f7-4fd9-aac6-3dd674edd7a6",
        "id": "6EIqstYkwR3Q"
      },
      "execution_count": 565,
      "outputs": [
        {
          "output_type": "stream",
          "name": "stdout",
          "text": [
            "The model performance for testing set\n",
            "--------------------------------------\n",
            "MAE is 4.905569176183933\n",
            "MSE is 39.55977732942254\n",
            "RMSE is 6.289656376100568\n",
            "R2 score is 0.8420852449946553\n",
            "Adj R2 score is 0.8398691795750355\n"
          ]
        }
      ]
    },
    {
      "cell_type": "code",
      "source": [
        "with open('education_xgb_model.pkl', 'wb') as file:\n",
        "    pickle.dump(xg_reg, file)"
      ],
      "metadata": {
        "id": "0S8d1Ge90FUO"
      },
      "execution_count": 566,
      "outputs": []
    },
    {
      "cell_type": "markdown",
      "source": [
        "# Error Analysis"
      ],
      "metadata": {
        "id": "69yaA4McGL1S"
      }
    },
    {
      "cell_type": "code",
      "source": [
        "## transfer to np array for error analysis\n",
        "\n",
        "X_train_1 = np.squeeze(np.asarray(X_train))\n",
        "y_train_1 = np.squeeze(np.asarray(y_train))\n",
        "X_test_1 = np.squeeze(np.asarray(X_test))\n",
        "y_test_1 = np.squeeze(np.asarray(y_test))"
      ],
      "metadata": {
        "id": "4kK3Mb2FDeKn"
      },
      "execution_count": 567,
      "outputs": []
    },
    {
      "cell_type": "code",
      "source": [
        "xg_reg.fit(X_train_1,y_train_1)\n",
        "y_pred_1 = xg_reg.predict(X_test_1)"
      ],
      "metadata": {
        "id": "qw6ERTvQpvn_"
      },
      "execution_count": 568,
      "outputs": []
    },
    {
      "cell_type": "code",
      "source": [
        "# model evaluation for testing set\n",
        "regression_results(y_test_1, y_pred_1)"
      ],
      "metadata": {
        "colab": {
          "base_uri": "https://localhost:8080/"
        },
        "id": "KWgsTTZyLMUO",
        "outputId": "a58d0284-1506-48fe-8bba-31e1937b98c6"
      },
      "execution_count": 569,
      "outputs": [
        {
          "output_type": "stream",
          "name": "stdout",
          "text": [
            "The model performance for testing set\n",
            "--------------------------------------\n",
            "MAE is 4.905569176183933\n",
            "MSE is 39.55977732942254\n",
            "RMSE is 6.289656376100568\n",
            "R2 score is 0.8420852449946553\n",
            "Adj R2 score is 0.8398691795750355\n"
          ]
        }
      ]
    },
    {
      "cell_type": "code",
      "source": [
        "## import error analysis library\n",
        "from yellowbrick.regressor import residuals_plot\n",
        "from yellowbrick.regressor import prediction_error\n",
        "from yellowbrick.regressor import ResidualsPlot\n",
        "from yellowbrick.regressor import cooks_distance\n",
        "import scipy.stats as stats"
      ],
      "metadata": {
        "id": "GdkdKZ6y4dYk"
      },
      "execution_count": 570,
      "outputs": []
    },
    {
      "cell_type": "markdown",
      "source": [
        "## Residual plot"
      ],
      "metadata": {
        "id": "adjzPWKcGlpy"
      }
    },
    {
      "cell_type": "markdown",
      "source": [
        "The residuals plot shows the difference between residuals on the vertical axis and the dependent variable on the horizontal axis, allowing you to detect regions within the target that may be susceptible to more or less error."
      ],
      "metadata": {
        "id": "0Qh9QJhBL1-l"
      }
    },
    {
      "cell_type": "code",
      "source": [
        "visualizer = ResidualsPlot(xg_reg)\n",
        "\n",
        "visualizer.fit(X_train_1, y_train_1)  # Fit the training data to the visualizer\n",
        "visualizer.score(X_test_1, y_test_1)  # Evaluate the model on the test data\n",
        "visualizer.show()  "
      ],
      "metadata": {
        "colab": {
          "base_uri": "https://localhost:8080/",
          "height": 394
        },
        "id": "ZIbv1d8O6CZQ",
        "outputId": "f7fbe53b-1dc7-4036-dad9-e042528c160e"
      },
      "execution_count": 571,
      "outputs": [
        {
          "output_type": "display_data",
          "data": {
            "text/plain": [
              "<Figure size 576x396 with 2 Axes>"
            ],
            "image/png": "[encoded data removed]"
          },
          "metadata": {}
        },
        {
          "output_type": "execute_result",
          "data": {
            "text/plain": [
              "<matplotlib.axes._subplots.AxesSubplot at 0x7ff2cae35210>"
            ]
          },
          "metadata": {},
          "execution_count": 571
        }
      ]
    },
    {
      "cell_type": "markdown",
      "source": [
        "### Interpretations"
      ],
      "metadata": {
        "id": "d5fiUwLwL5FM"
      }
    },
    {
      "cell_type": "markdown",
      "source": [
        "In the case above, we see a fairly random, uniform distribution of the residuals against the target in two dimensions. This seems to indicate that our model is performing well. We can also see from the histogram that our error is normally distributed around zero, which also generally indicates a well fitted model."
      ],
      "metadata": {
        "id": "L1pj4NJUL7hd"
      }
    },
    {
      "cell_type": "markdown",
      "source": [
        "## Prediction Error Plot"
      ],
      "metadata": {
        "id": "FQcmqc7wLl7d"
      }
    },
    {
      "cell_type": "markdown",
      "source": [
        "A prediction error plot shows the actual targets from the dataset against the predicted values generated by our model. This allows us to see how much variance is in the model. Data scientists can diagnose regression models using this plot by comparing against the 45 degree line, where the prediction exactly matches the model."
      ],
      "metadata": {
        "id": "ZF9XgpLjLokO"
      }
    },
    {
      "cell_type": "code",
      "source": [
        "# Making the Prediction Error Plot\n",
        "print(\"\\nPrediction Error Plot\")\n",
        "print(prediction_error(xg_reg, X_train_1, y_train_1, X_test_1, y_test_1))\n"
      ],
      "metadata": {
        "colab": {
          "base_uri": "https://localhost:8080/",
          "height": 699
        },
        "id": "NvYGwicO21th",
        "outputId": "6f845ccb-c0a9-4925-d33d-8f76f3558af5"
      },
      "execution_count": 572,
      "outputs": [
        {
          "output_type": "stream",
          "name": "stdout",
          "text": [
            "\n",
            "Prediction Error Plot\n"
          ]
        },
        {
          "output_type": "display_data",
          "data": {
            "text/plain": [
              "<Figure size 576x396 with 1 Axes>"
            ],
            "image/png": "[encoded data removed]"
          },
          "metadata": {}
        },
        {
          "output_type": "stream",
          "name": "stdout",
          "text": [
            "PredictionError(ax=<matplotlib.axes._subplots.AxesSubplot object at 0x7ff2cae9d910>,\n",
            "                estimator=XGBRegressor(alpha=10, base_score=0.5,\n",
            "                                       booster='gbtree', colsample_bylevel=1,\n",
            "                                       colsample_bynode=1, colsample_bytree=0.3,\n",
            "                                       enable_categorical=False, gamma=0,\n",
            "                                       gpu_id=-1, importance_type=None,\n",
            "                                       interaction_constraints='',\n",
            "                                       learning_rate=0.1, max_delta_step=0,\n",
            "                                       max_depth=3, min_child_weight=1,\n",
            "                                       missing=nan, monotone_constraints='()',\n",
            "                                       n_estimators=2500, n_jobs=8,\n",
            "                                       num_parallel_tree=1, predictor='auto',\n",
            "                                       random_state=0, reg_alpha=10,\n",
            "                                       reg_lambda=1, scale_pos_weight=1,\n",
            "                                       subsample=1, tree_method='exact',\n",
            "                                       validate_parameters=1, verbosity=None))\n"
          ]
        }
      ]
    },
    {
      "cell_type": "markdown",
      "source": [
        "### Interpretations"
      ],
      "metadata": {
        "id": "GiVkDaJvMdVe"
      }
    },
    {
      "cell_type": "markdown",
      "source": [
        "We can see that most of the points are on a straight line. We can compare this plot against the 45-degree line, where the prediction exactly matches the model. In general, the predictions follow the actualS."
      ],
      "metadata": {
        "id": "mSxRPWctMfWP"
      }
    },
    {
      "cell_type": "markdown",
      "source": [
        "## Cook's distance"
      ],
      "metadata": {
        "id": "fRvzaVECMy5u"
      }
    },
    {
      "cell_type": "markdown",
      "source": [
        "Cook’s Distance is a measure of how influential an instance is to the computation of a regression, e.g. if the instance is removed would the estimated coeficients of the underlying model be substantially changed? Because of this, Cook’s Distance is generally used to detect outliers in standard, OLS regression. In fact, a general rule of thumb is that D(i) > 4/n is a good threshold for determining highly influential points as outliers and this visualizer can report the percentage of data that is above that threshold."
      ],
      "metadata": {
        "id": "PYG_N-6fM-P9"
      }
    },
    {
      "cell_type": "code",
      "source": [
        "cooks_distance(\n",
        "    X_test_1, y_test_1,\n",
        "    draw_threshold=True,\n",
        "    linefmt=\"C0-\", markerfmt=\",\"\n",
        ")"
      ],
      "metadata": {
        "colab": {
          "base_uri": "https://localhost:8080/",
          "height": 394
        },
        "id": "Z7kbuZ5aChOs",
        "outputId": "e58dc15e-3181-464e-8770-67a3a9e9b39e"
      },
      "execution_count": 573,
      "outputs": [
        {
          "output_type": "display_data",
          "data": {
            "text/plain": [
              "<Figure size 576x396 with 1 Axes>"
            ],
            "image/png": "[encoded data removed]"
          },
          "metadata": {}
        },
        {
          "output_type": "execute_result",
          "data": {
            "text/plain": [
              "CooksDistance(ax=<matplotlib.axes._subplots.AxesSubplot object at 0x7ff2cac92cd0>)"
            ]
          },
          "metadata": {},
          "execution_count": 573
        }
      ]
    },
    {
      "cell_type": "markdown",
      "source": [
        "In particular, there are several (5.45%）of the observations with Cook’s distance values that are relatively higher than the others."
      ],
      "metadata": {
        "id": "kg6UjDlsRY-H"
      }
    },
    {
      "cell_type": "markdown",
      "source": [
        "## Q-Q plot"
      ],
      "metadata": {
        "id": "tMskxVdcMrhF"
      }
    },
    {
      "cell_type": "markdown",
      "source": [
        "To check the assumption of the normality of the data generating process, we can use Q-Q plot of the normalized residuals."
      ],
      "metadata": {
        "id": "ZpyxpvQSPVt1"
      }
    },
    {
      "cell_type": "code",
      "source": [
        "residuals = y_test[\"pct_pop_hs+\"] - y_pred.reshape(-1)\n",
        "residuals\n",
        "\n",
        "plt.figure(figsize=(7,7))\n",
        "stats.probplot(residuals, dist=\"norm\", plot=plt)\n",
        "plt.title(\"Normal Q-Q Plot\")"
      ],
      "metadata": {
        "id": "ORzHDUok5jUI",
        "colab": {
          "base_uri": "https://localhost:8080/",
          "height": 475
        },
        "outputId": "21e7bc0b-37c6-4a1f-9ce2-1f653bee5e80"
      },
      "execution_count": 574,
      "outputs": [
        {
          "output_type": "execute_result",
          "data": {
            "text/plain": [
              "Text(0.5, 1.0, 'Normal Q-Q Plot')"
            ]
          },
          "metadata": {},
          "execution_count": 574
        },
        {
          "output_type": "display_data",
          "data": {
            "text/plain": [
              "<Figure size 504x504 with 1 Axes>"
            ],
            "image/png": "[encoded data removed]"
          },
          "metadata": {}
        }
      ]
    },
    {
      "cell_type": "markdown",
      "source": [
        "## Interpretations"
      ],
      "metadata": {
        "id": "4sMYuOxmPkS5"
      }
    },
    {
      "cell_type": "markdown",
      "source": [
        "We can see that the residuals are fitted to the line, although there are some outliers found at both end"
      ],
      "metadata": {
        "id": "MDKC60bXPn6O"
      }
    }
  ],
  "metadata": {
    "colab": {
      "collapsed_sections": [
        "62Ni5T55JwFW",
        "aCUMfO2JFNbW",
        "Ohd-zHjL3nDF"
      ],
      "name": "MH_education_models3.ipynb",
      "provenance": [],
      "machine_shape": "hm"
    },
    "kernelspec": {
      "display_name": "Python 3",
      "name": "python3"
    },
    "language_info": {
      "name": "python"
    },
    "accelerator": "GPU"
  },
  "nbformat": 4,
  "nbformat_minor": 0
}