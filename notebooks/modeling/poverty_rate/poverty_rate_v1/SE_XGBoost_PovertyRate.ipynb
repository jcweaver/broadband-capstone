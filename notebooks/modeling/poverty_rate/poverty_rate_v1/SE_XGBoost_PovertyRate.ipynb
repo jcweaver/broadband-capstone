{
 "cells": [
  {
   "cell_type": "markdown",
   "id": "4d80f089",
   "metadata": {},
   "source": [
    "## Imports, Reading Data, Setting up tests"
   ]
  },
  {
   "cell_type": "code",
   "execution_count": 1,
   "id": "52f77ccb",
   "metadata": {},
   "outputs": [],
   "source": [
    "import pandas as pd\n",
    "import numpy as np\n",
    "import sklearn.metrics as metrics\n",
    "from xgboost import XGBRegressor\n",
    "from sklearn.model_selection import RandomizedSearchCV\n"
   ]
  },
  {
   "cell_type": "code",
   "execution_count": 3,
   "id": "69659d00",
   "metadata": {},
   "outputs": [],
   "source": [
    "training_data = pd.read_csv('/home/ec2-user/capstone/broadband-capstone/data/current_data/test_3.csv')\n",
    "test_data = pd.read_csv('/home/ec2-user/capstone/broadband-capstone/data/current_data/train_3.csv')"
   ]
  },
  {
   "cell_type": "code",
   "execution_count": 3,
   "id": "368cd030",
   "metadata": {},
   "outputs": [],
   "source": [
    "#All except income variables\n",
    "all_vars = [ 'tract_geoid',\n",
    "             'All_Provider_Count',\n",
    "             'MaxAdDown',\n",
    "             'MaxAdUp',\n",
    "             'Wired_Provider_Count',\n",
    "             'Satellite_Provider_Count',\n",
    "             'Fixed_Wireless_Provider_Count',\n",
    "             'All_Provider_Count_25',\n",
    "             'All_Provider_Count_100',\n",
    "             'Fixed_Wireless_Provider_Count_25',\n",
    "             'Wired_Provider_Count_25',\n",
    "             'Satellite_Provider_Count_25',\n",
    "             'Fixed_Wireless_Provider_Count_100',\n",
    "             'Wired_Provider_Count_100',\n",
    "             'Satellite_Provider_Count_100',\n",
    "             'median_age_overall',\n",
    "             'median_age_male',\n",
    "             'median_age_female',\n",
    "             'state',\n",
    "             'county',\n",
    "             'tract',\n",
    "             'employment_rate',\n",
    "             'total_households',\n",
    "             'ave_household_size',\n",
    "             'ave_family_size',\n",
    "             'pct_health_ins_children',\n",
    "             'pct_health_ins_19_64',\n",
    "             'pct_health_ins_65+',\n",
    "             'total_population',\n",
    "             'pct_white',\n",
    "             'pct_hisp_latino',\n",
    "             'pct_black',\n",
    "             'pct_native',\n",
    "             'pct_asian',\n",
    "             'pct_hi_pi',\n",
    "             'pct_other_race',\n",
    "             'pct_two+_race',\n",
    "             'pct_pop_bachelors+',\n",
    "             'pct_pop_hs+',\n",
    "             'pct_internet',\n",
    "             'pct_internet_dial_up',\n",
    "             'pct_internet_broadband_any_type',\n",
    "             'pct_internet_cellular',\n",
    "             'pct_only_cellular',\n",
    "             'pct_internet_broadband_fiber',\n",
    "             'pct_internet_broadband_satellite',\n",
    "             'pct_internet_only_satellite',\n",
    "             'pct_internet_other',\n",
    "             'pct_internet_no_subscrp',\n",
    "             'pct_internet_none',\n",
    "             'pct_computer',\n",
    "             'pct_computer_with_dialup',\n",
    "             'pct_computer_with_broadband',\n",
    "             'pct_computer_no_internet',\n",
    "             'pct_no_computer',\n",
    "             'ALAND',\n",
    "             'AWATER',\n",
    "             'ALAND_SQMI',\n",
    "             'AWATER_SQMI',\n",
    "             'population_density',\n",
    "             'pct_pop_ged',\n",
    "             'pct_pop_some_college',\n",
    "             'pct_pop_associates',\n",
    "             'pct_pop_lt_5',\n",
    "             'pct_pop_5_to_9',\n",
    "             'pct_pop_10_to_14',\n",
    "             'pct_pop_15_to_19',\n",
    "             'pct_pop_20_to_24',\n",
    "             'pct_pop_25_to_29',\n",
    "             'pct_pop_30_to_34',\n",
    "             'pct_pop_35_to_39',\n",
    "             'pct_pop_40_to_44',\n",
    "             'pct_pop_45_to_49',\n",
    "             'pct_pop_50_to_54',\n",
    "             'pct_pop_55_to_59',\n",
    "             'pct_pop_60_to_64',\n",
    "             'pct_pop_65_to_69',\n",
    "             'pct_pop_70_to_74',\n",
    "             'pct_pop_75_to_79',\n",
    "             'pct_pop_80_to_84',\n",
    "             'pct_pop_gt_85',\n",
    "             'pct_pop_disability',\n",
    "             'pct_pop_households_with_kids',\n",
    "             'pct_pop_foreign_born',\n",
    "             'Form 477 All Terrestrial Broadband: Max Advertised Consumer Download Speed (Mbps)',\n",
    "             'Form 477 All Terrestrial Broadband: Max Advertised Consumer Upload Speed (Mbps)',\n",
    "             'Ookla Median Download Speed (Mbps)',\n",
    "             'Ookla Median Upload Speed (Mbps)',\n",
    "             'Primary RUCA Code 2010',\n",
    "             'Secondary RUCA Code, 2010 (see errata)',\n",
    "             '0_5_providers',\n",
    "             '6_10_providers',\n",
    "             '11_15_providers',\n",
    "             '16_20_providers',\n",
    "             '20+_providers',\n",
    "             '0_25_MaxAdDown',\n",
    "             '25_99_MaxAdDown',\n",
    "             '99_499_MaxAdDown',\n",
    "             '499_inf_MaxAdDown',\n",
    "             '0_25_Ookla Median Download Speed (Mbps)',\n",
    "             '25_99_Ookla Median Download Speed (Mbps)',\n",
    "             '99_499_Ookla Median Download Speed (Mbps)',\n",
    "             '499_inf_Ookla Median Download Speed (Mbps)',\n",
    "             '0_25_Form 477 All Terrestrial Broadband: Max Advertised Consumer Download Speed (Mbps)',\n",
    "             '25_99_Form 477 All Terrestrial Broadband: Max Advertised Consumer Download Speed (Mbps)',\n",
    "             '99_499_Form 477 All Terrestrial Broadband: Max Advertised Consumer Download Speed (Mbps)',\n",
    "             '499_inf_Form 477 All Terrestrial Broadband: Max Advertised Consumer Download Speed (Mbps)',\n",
    "             'single_provider',\n",
    "             'Primary RUCA Code - 1.0',\n",
    "             'Primary RUCA Code - 2.0',\n",
    "             'Primary RUCA Code - 4.0',\n",
    "             'Primary RUCA Code - 10.0',\n",
    "             'Primary RUCA Code - 7.0',\n",
    "             'Primary RUCA Code - 5.0',\n",
    "             'Primary RUCA Code - 8.0',\n",
    "             'Primary RUCA Code - 3.0',\n",
    "             'Primary RUCA Code - 6.0',\n",
    "             'Primary RUCA Code - 9.0',\n",
    "             'Primary RUCA Code - 99.0',\n",
    "             'Secondary RUCA Code - 1.0',\n",
    "             'Secondary RUCA Code - 2.0',\n",
    "             'Secondary RUCA Code - 4.0',\n",
    "             'Secondary RUCA Code - 10.0',\n",
    "             'Secondary RUCA Code - 7.0',\n",
    "             'Secondary RUCA Code - 5.0',\n",
    "             'Secondary RUCA Code - 1.1',\n",
    "             'Secondary RUCA Code - 8.0',\n",
    "             'Secondary RUCA Code - 3.0',\n",
    "             'Secondary RUCA Code - 6.0',\n",
    "             'Secondary RUCA Code - 9.0',\n",
    "             'Secondary RUCA Code - 4.1',\n",
    "             'Secondary RUCA Code - 99.0',\n",
    "             'Secondary RUCA Code - 7.1',\n",
    "             'Secondary RUCA Code - 10.2',\n",
    "             'Secondary RUCA Code - 2.1',\n",
    "             'Secondary RUCA Code - 10.1',\n",
    "             'Secondary RUCA Code - 10.3',\n",
    "             'Secondary RUCA Code - 7.2',\n",
    "             'Secondary RUCA Code - 5.1',\n",
    "             'Secondary RUCA Code - 8.1',\n",
    "             'Secondary RUCA Code - 8.2']"
   ]
  },
  {
   "cell_type": "code",
   "execution_count": 15,
   "id": "cbb9c546",
   "metadata": {},
   "outputs": [
    {
     "data": {
      "text/plain": [
       "['tract_geoid',\n",
       " 'All_Provider_Count',\n",
       " 'MaxAdDown',\n",
       " 'MaxAdUp',\n",
       " 'Wired_Provider_Count',\n",
       " 'Satellite_Provider_Count',\n",
       " 'Fixed_Wireless_Provider_Count',\n",
       " 'All_Provider_Count_25',\n",
       " 'All_Provider_Count_100',\n",
       " 'Fixed_Wireless_Provider_Count_25',\n",
       " 'Wired_Provider_Count_25',\n",
       " 'Satellite_Provider_Count_25',\n",
       " 'Fixed_Wireless_Provider_Count_100',\n",
       " 'Wired_Provider_Count_100',\n",
       " 'Satellite_Provider_Count_100',\n",
       " 'NAME',\n",
       " 'median_age_overall',\n",
       " 'median_age_male',\n",
       " 'median_age_female',\n",
       " 'state',\n",
       " 'county',\n",
       " 'tract',\n",
       " 'employment_rate',\n",
       " 'median_income',\n",
       " 'total_households',\n",
       " 'ave_household_size',\n",
       " 'ave_family_size',\n",
       " 'pct_health_ins_children',\n",
       " 'pct_health_ins_19_64',\n",
       " 'pct_health_ins_65+',\n",
       " 'total_population',\n",
       " 'median_house_value',\n",
       " 'pct_white',\n",
       " 'pct_hisp_latino',\n",
       " 'pct_black',\n",
       " 'pct_native',\n",
       " 'pct_asian',\n",
       " 'pct_hi_pi',\n",
       " 'pct_other_race',\n",
       " 'pct_two+_race',\n",
       " 'pct_rent_burdened',\n",
       " 'poverty_rate',\n",
       " 'pct_pop_bachelors+',\n",
       " 'pct_pop_hs+',\n",
       " 'pct_internet',\n",
       " 'pct_internet_dial_up',\n",
       " 'pct_internet_broadband_any_type',\n",
       " 'pct_internet_cellular',\n",
       " 'pct_only_cellular',\n",
       " 'pct_internet_broadband_fiber',\n",
       " 'pct_internet_broadband_satellite',\n",
       " 'pct_internet_only_satellite',\n",
       " 'pct_internet_other',\n",
       " 'pct_internet_no_subscrp',\n",
       " 'pct_internet_none',\n",
       " 'pct_computer',\n",
       " 'pct_computer_with_dialup',\n",
       " 'pct_computer_with_broadband',\n",
       " 'pct_computer_no_internet',\n",
       " 'pct_no_computer',\n",
       " 'ALAND',\n",
       " 'AWATER',\n",
       " 'ALAND_SQMI',\n",
       " 'AWATER_SQMI',\n",
       " 'population_density',\n",
       " 'pct_pop_ged',\n",
       " 'pct_pop_some_college',\n",
       " 'pct_pop_associates',\n",
       " 'pct_pop_ssi_households',\n",
       " 'pct_pop_lt_10k',\n",
       " 'pct_pop_10k_thru_15k',\n",
       " 'pct_pop_15k_thru_20k',\n",
       " 'pct_pop_20k_thru_25k',\n",
       " 'pct_pop_25k_thru_30k',\n",
       " 'pct_pop_30k_thru_35k',\n",
       " 'pct_pop_35k_thru_40k',\n",
       " 'pct_pop_40k_thru_45k',\n",
       " 'pct_pop_45k_thru_50k',\n",
       " 'pct_pop_50k_thru_60k',\n",
       " 'pct_pop_60k_thru_75k',\n",
       " 'pct_pop_75k_thru_100k',\n",
       " 'pct_pop_100k_thru_125k',\n",
       " 'pct_pop_125k_thru_150k',\n",
       " 'pct_pop_150k_thru_200k',\n",
       " 'pct_pop_gt_200k',\n",
       " 'pct_pop_lt_5',\n",
       " 'pct_pop_5_to_9',\n",
       " 'pct_pop_10_to_14',\n",
       " 'pct_pop_15_to_19',\n",
       " 'pct_pop_20_to_24',\n",
       " 'pct_pop_25_to_29',\n",
       " 'pct_pop_30_to_34',\n",
       " 'pct_pop_35_to_39',\n",
       " 'pct_pop_40_to_44',\n",
       " 'pct_pop_45_to_49',\n",
       " 'pct_pop_50_to_54',\n",
       " 'pct_pop_55_to_59',\n",
       " 'pct_pop_60_to_64',\n",
       " 'pct_pop_65_to_69',\n",
       " 'pct_pop_70_to_74',\n",
       " 'pct_pop_75_to_79',\n",
       " 'pct_pop_80_to_84',\n",
       " 'pct_pop_gt_85',\n",
       " 'pct_pop_disability',\n",
       " 'pct_pop_households_with_kids',\n",
       " 'pct_pop_foreign_born',\n",
       " 'Form 477 All Terrestrial Broadband: Max Advertised Consumer Download Speed (Mbps)',\n",
       " 'Form 477 All Terrestrial Broadband: Max Advertised Consumer Upload Speed (Mbps)',\n",
       " 'Ookla Median Download Speed (Mbps)',\n",
       " 'Ookla Median Upload Speed (Mbps)',\n",
       " 'Primary RUCA Code 2010',\n",
       " 'Secondary RUCA Code, 2010 (see errata)',\n",
       " '0_5_providers',\n",
       " '6_10_providers',\n",
       " '11_15_providers',\n",
       " '16_20_providers',\n",
       " '20+_providers',\n",
       " '0_25_MaxAdDown',\n",
       " '25_99_MaxAdDown',\n",
       " '99_499_MaxAdDown',\n",
       " '499_inf_MaxAdDown',\n",
       " '0_25_Ookla Median Download Speed (Mbps)',\n",
       " '25_99_Ookla Median Download Speed (Mbps)',\n",
       " '99_499_Ookla Median Download Speed (Mbps)',\n",
       " '499_inf_Ookla Median Download Speed (Mbps)',\n",
       " '0_25_Form 477 All Terrestrial Broadband: Max Advertised Consumer Download Speed (Mbps)',\n",
       " '25_99_Form 477 All Terrestrial Broadband: Max Advertised Consumer Download Speed (Mbps)',\n",
       " '99_499_Form 477 All Terrestrial Broadband: Max Advertised Consumer Download Speed (Mbps)',\n",
       " '499_inf_Form 477 All Terrestrial Broadband: Max Advertised Consumer Download Speed (Mbps)',\n",
       " 'single_provider',\n",
       " 'Primary RUCA Code - 1.0',\n",
       " 'Primary RUCA Code - 2.0',\n",
       " 'Primary RUCA Code - 4.0',\n",
       " 'Primary RUCA Code - 10.0',\n",
       " 'Primary RUCA Code - 7.0',\n",
       " 'Primary RUCA Code - 5.0',\n",
       " 'Primary RUCA Code - 8.0',\n",
       " 'Primary RUCA Code - 3.0',\n",
       " 'Primary RUCA Code - 6.0',\n",
       " 'Primary RUCA Code - 9.0',\n",
       " 'Primary RUCA Code - 99.0',\n",
       " 'Secondary RUCA Code - 1.0',\n",
       " 'Secondary RUCA Code - 2.0',\n",
       " 'Secondary RUCA Code - 4.0',\n",
       " 'Secondary RUCA Code - 10.0',\n",
       " 'Secondary RUCA Code - 7.0',\n",
       " 'Secondary RUCA Code - 5.0',\n",
       " 'Secondary RUCA Code - 1.1',\n",
       " 'Secondary RUCA Code - 8.0',\n",
       " 'Secondary RUCA Code - 3.0',\n",
       " 'Secondary RUCA Code - 6.0',\n",
       " 'Secondary RUCA Code - 9.0',\n",
       " 'Secondary RUCA Code - 4.1',\n",
       " 'Secondary RUCA Code - 99.0',\n",
       " 'Secondary RUCA Code - 7.1',\n",
       " 'Secondary RUCA Code - 10.2',\n",
       " 'Secondary RUCA Code - 2.1',\n",
       " 'Secondary RUCA Code - 10.1',\n",
       " 'Secondary RUCA Code - 10.3',\n",
       " 'Secondary RUCA Code - 7.2',\n",
       " 'Secondary RUCA Code - 5.1',\n",
       " 'Secondary RUCA Code - 8.1',\n",
       " 'Secondary RUCA Code - 8.2',\n",
       " 'SE',\n",
       " 'INFA',\n",
       " 'DDI',\n",
       " 'pct_pop_income_lt_50k',\n",
       " 'pct_pop_income_lt_30k',\n",
       " 'pct_pop_income_gt_100k',\n",
       " 'pct_ages_gt_50',\n",
       " 'pct_ages_lt_19',\n",
       " 'ruca_metro',\n",
       " 'ruca_micro',\n",
       " 'ruca_small_town',\n",
       " 'ruca_rural',\n",
       " 'Comcast_present',\n",
       " 'ATT_present',\n",
       " 'HughesNet_present',\n",
       " 'GCI_Comm_Corp_present',\n",
       " 'ViaSat_present',\n",
       " 'VSAT_present',\n",
       " 'Century_Link_present',\n",
       " 'Spectrum_present',\n",
       " 'Crown_Castle_present',\n",
       " 'Etheric_present',\n",
       " 'Frontier_Communications_present']"
      ]
     },
     "execution_count": 15,
     "metadata": {},
     "output_type": "execute_result"
    }
   ],
   "source": [
    "variables"
   ]
  },
  {
   "cell_type": "code",
   "execution_count": 15,
   "id": "b6d67d73",
   "metadata": {},
   "outputs": [
    {
     "data": {
      "text/plain": [
       "Index(['pct_internet_broadband_fiber', 'pct_internet_broadband_satellite',\n",
       "       'pct_internet_only_satellite', 'pct_internet_other',\n",
       "       'pct_internet_no_subscrp', 'pct_internet_none', 'pct_computing_device',\n",
       "       'pct_computing_device_with_dialup',\n",
       "       'pct_computing_device_with_broadband',\n",
       "       'pct_computing_device_no_internet', 'pct_no_computing_device', 'ALAND',\n",
       "       'AWATER', 'ALAND_SQMI', 'AWATER_SQMI', 'population_density',\n",
       "       'pct_pop_ged', 'pct_pop_some_college', 'pct_pop_associates',\n",
       "       'pct_pop_ssi_households', 'pct_pop_lt_10k', 'pct_pop_10k_thru_15k',\n",
       "       'pct_pop_15k_thru_20k', 'pct_pop_20k_thru_25k', 'pct_pop_25k_thru_30k',\n",
       "       'pct_pop_30k_thru_35k', 'pct_pop_35k_thru_40k', 'pct_pop_40k_thru_45k',\n",
       "       'pct_pop_45k_thru_50k', 'pct_pop_50k_thru_60k', 'pct_pop_60k_thru_75k',\n",
       "       'pct_pop_75k_thru_100k', 'pct_pop_100k_thru_125k',\n",
       "       'pct_pop_125k_thru_150k', 'pct_pop_150k_thru_200k', 'pct_pop_gt_200k',\n",
       "       'pct_pop_lt_5', 'pct_pop_5_to_9', 'pct_pop_10_to_14',\n",
       "       'pct_pop_15_to_19', 'pct_pop_20_to_24', 'pct_pop_25_to_29',\n",
       "       'pct_pop_30_to_34', 'pct_pop_35_to_39', 'pct_pop_40_to_44',\n",
       "       'pct_pop_45_to_49', 'pct_pop_50_to_54', 'pct_pop_55_to_59',\n",
       "       'pct_pop_60_to_64', 'pct_pop_65_to_69'],\n",
       "      dtype='object')"
      ]
     },
     "execution_count": 15,
     "metadata": {},
     "output_type": "execute_result"
    }
   ],
   "source": [
    "training_data.columns[50:100]"
   ]
  },
  {
   "cell_type": "code",
   "execution_count": 16,
   "id": "214489ba",
   "metadata": {},
   "outputs": [],
   "source": [
    "broadband_vars = ['MaxAdDown',\n",
    "                 'MaxAdUp',\n",
    "                 'Wired_Provider_Count',\n",
    "                 'Satellite_Provider_Count',\n",
    "                 'Fixed_Wireless_Provider_Count',\n",
    "                 'All_Provider_Count_25',\n",
    "                 'All_Provider_Count_100',\n",
    "                 'Fixed_Wireless_Provider_Count_25',\n",
    "                 'Wired_Provider_Count_25',\n",
    "                 'Satellite_Provider_Count_25',\n",
    "                 'Fixed_Wireless_Provider_Count_100',\n",
    "                 'Wired_Provider_Count_100',\n",
    "                 'Satellite_Provider_Count_100',\n",
    "                 'pct_internet',\n",
    "                 'pct_internet_dial_up',\n",
    "                 'pct_internet_broadband_any_type',\n",
    "                 'pct_internet_cellular',\n",
    "                 'pct_only_cellular',\n",
    "                 'pct_internet_broadband_fiber',\n",
    "                 'pct_internet_broadband_satellite',\n",
    "                 'pct_internet_only_satellite',\n",
    "                 'pct_internet_other',\n",
    "                 'pct_internet_no_subscrp',\n",
    "                 'pct_internet_none',\n",
    "                 'pct_computing_device',\n",
    "                 'pct_computing_device_with_dialup',\n",
    "                 'pct_computing_device_with_broadband',\n",
    "                 'pct_computing_device_no_internet',\n",
    "                 'pct_no_computing_device',\n",
    "                 'Form 477 All Terrestrial Broadband: Max Advertised Consumer Download Speed (Mbps)',\n",
    "                 'Form 477 All Terrestrial Broadband: Max Advertised Consumer Upload Speed (Mbps)',\n",
    "                 'Ookla Median Download Speed (Mbps)',\n",
    "                 'Ookla Median Upload Speed (Mbps)',\n",
    "                 '0_5_providers',\n",
    "                 '6_10_providers',\n",
    "                 '11_15_providers',\n",
    "                 '16_20_providers',\n",
    "                 '20+_providers',\n",
    "                 '0_25_MaxAdDown',\n",
    "                 '25_99_MaxAdDown',\n",
    "                 '99_499_MaxAdDown',\n",
    "                 '499_inf_MaxAdDown',\n",
    "                 '0_25_Ookla Median Download Speed (Mbps)',\n",
    "                 '25_99_Ookla Median Download Speed (Mbps)',\n",
    "                 '99_499_Ookla Median Download Speed (Mbps)',\n",
    "                 '499_inf_Ookla Median Download Speed (Mbps)',\n",
    "                 '0_25_Form 477 All Terrestrial Broadband: Max Advertised Consumer Download Speed (Mbps)',\n",
    "                 '25_99_Form 477 All Terrestrial Broadband: Max Advertised Consumer Download Speed (Mbps)',\n",
    "                 '99_499_Form 477 All Terrestrial Broadband: Max Advertised Consumer Download Speed (Mbps)',\n",
    "                 '499_inf_Form 477 All Terrestrial Broadband: Max Advertised Consumer Download Speed (Mbps)',\n",
    "                 'single_provider',\n",
    "                 'Comcast_present',\n",
    "                 'ATT_present',\n",
    "                 'HughesNet_present',\n",
    "                 'GCI_Comm_Corp_present',\n",
    "                 'ViaSat_present',\n",
    "                 'VSAT_present',\n",
    "                 'Century_Link_present',\n",
    "                 'Spectrum_present',\n",
    "                 'Crown_Castle_present',\n",
    "                 'Etheric_present',\n",
    "                 'Frontier_Communications_present',\n",
    "                 'pct_of_internet_users_with_broadband',\n",
    "                 'log_median_income_over_log_median_house', \n",
    "                 'pct_desktop_or_laptop',\n",
    "                 'pct_smartphone', \n",
    "                 'pct_only_smartphone',\n",
    "                 'pct_tablet']"
   ]
  },
  {
   "cell_type": "markdown",
   "id": "267f61ba",
   "metadata": {},
   "source": [
    "## Modeling"
   ]
  },
  {
   "cell_type": "markdown",
   "id": "11edc941",
   "metadata": {},
   "source": [
    "### Functions"
   ]
  },
  {
   "cell_type": "code",
   "execution_count": 5,
   "id": "ebab78c0",
   "metadata": {},
   "outputs": [],
   "source": [
    "def regression_results(y_true, y_pred):\n",
    "\n",
    "    # Regression metrics\n",
    "    explained_variance=metrics.explained_variance_score(y_true, y_pred)\n",
    "    mean_absolute_error=metrics.mean_absolute_error(y_true, y_pred) \n",
    "    mse=metrics.mean_squared_error(y_true, y_pred) \n",
    "    median_absolute_error=metrics.median_absolute_error(y_true, y_pred)\n",
    "    r2=metrics.r2_score(y_true, y_pred)\n",
    "\n",
    "    print('explained_variance: ', round(explained_variance,4))    \n",
    "    print('r2: ', round(r2,4))\n",
    "    print('MAE: ', round(mean_absolute_error,4))\n",
    "    print('MSE: ', round(mse,4))\n",
    "    print('RMSE: ', round(np.sqrt(mse),4))"
   ]
  },
  {
   "cell_type": "code",
   "execution_count": 6,
   "id": "787c72cc",
   "metadata": {},
   "outputs": [],
   "source": [
    "poverty_rate_train = np.array(training_data['poverty_rate'])\n",
    "poverty_rate_test = np.array(test_data['poverty_rate'])\n",
    "\n",
    "def poverty_XGBoost_model(train_df, \n",
    "                          test_df, \n",
    "                          variable_list,\n",
    "                          poverty_rate_train = poverty_rate_train,  \n",
    "                          poverty_rate_test = poverty_rate_test):\n",
    "    train_variables = np.array(train_df[variable_list])\n",
    "    test_variables = np.array(test_df[variable_list])\n",
    "    \n",
    "    model = XGBRegressor().fit(train_variables, poverty_rate_train)\n",
    "    predicted = model.predict(test_variables)\n",
    "    \n",
    "    regression_results(poverty_rate_test, predicted)\n",
    "    \n",
    "    return pd.DataFrame(model.feature_importances_, \n",
    "                        index = variable_list).sort_values(by=0, ascending = False)\n"
   ]
  },
  {
   "cell_type": "code",
   "execution_count": 14,
   "id": "85f64d3d",
   "metadata": {},
   "outputs": [
    {
     "name": "stdout",
     "output_type": "stream",
     "text": [
      "explained_variance:  0.4887\n",
      "r2:  0.4886\n",
      "MAE:  5.3967\n",
      "MSE:  57.9994\n",
      "RMSE:  7.6157\n"
     ]
    },
    {
     "data": {
      "text/plain": [
       "True"
      ]
     },
     "execution_count": 14,
     "metadata": {},
     "output_type": "execute_result"
    }
   ],
   "source": [
    "poverty_XGBoost_model(training_data, test_data, all_broadband_variables)"
   ]
  },
  {
   "cell_type": "code",
   "execution_count": 15,
   "id": "81583162",
   "metadata": {},
   "outputs": [
    {
     "name": "stdout",
     "output_type": "stream",
     "text": [
      "explained_variance:  0.4337\n",
      "r2:  0.4337\n",
      "MAE:  5.7247\n",
      "MSE:  64.2296\n",
      "RMSE:  8.0143\n"
     ]
    },
    {
     "data": {
      "text/plain": [
       "True"
      ]
     },
     "execution_count": 15,
     "metadata": {},
     "output_type": "execute_result"
    }
   ],
   "source": [
    "poverty_XGBoost_model(training_data, test_data, high_corr)"
   ]
  },
  {
   "cell_type": "code",
   "execution_count": 16,
   "id": "6edded01",
   "metadata": {},
   "outputs": [
    {
     "name": "stdout",
     "output_type": "stream",
     "text": [
      "explained_variance:  0.4648\n",
      "r2:  0.4647\n",
      "MAE:  5.5515\n",
      "MSE:  60.7112\n",
      "RMSE:  7.7917\n"
     ]
    },
    {
     "data": {
      "text/plain": [
       "True"
      ]
     },
     "execution_count": 16,
     "metadata": {},
     "output_type": "execute_result"
    }
   ],
   "source": [
    "poverty_XGBoost_model(training_data, test_data, mid_corr)"
   ]
  },
  {
   "cell_type": "code",
   "execution_count": 17,
   "id": "13430c6a",
   "metadata": {},
   "outputs": [
    {
     "name": "stdout",
     "output_type": "stream",
     "text": [
      "explained_variance:  0.43\n",
      "r2:  0.4299\n",
      "MAE:  5.6992\n",
      "MSE:  64.6642\n",
      "RMSE:  8.0414\n"
     ]
    },
    {
     "data": {
      "text/plain": [
       "True"
      ]
     },
     "execution_count": 17,
     "metadata": {},
     "output_type": "execute_result"
    }
   ],
   "source": [
    "poverty_XGBoost_model(training_data, test_data, small_covariance_med_corr) "
   ]
  },
  {
   "cell_type": "code",
   "execution_count": 17,
   "id": "28c80250",
   "metadata": {
    "scrolled": true
   },
   "outputs": [
    {
     "name": "stdout",
     "output_type": "stream",
     "text": [
      "explained_variance:  0.6093\n",
      "r2:  0.6093\n",
      "MAE:  4.9109\n",
      "MSE:  47.2934\n",
      "RMSE:  6.877\n"
     ]
    }
   ],
   "source": [
    "feature_importance_all_vars = poverty_XGBoost_model(training_data, \n",
    "                                                    test_data, \n",
    "                                                    broadband_vars) \n"
   ]
  },
  {
   "cell_type": "markdown",
   "id": "a4e1b7b6",
   "metadata": {},
   "source": [
    "From the all_vars model, we can pick the top variables to use in the grid search. "
   ]
  },
  {
   "cell_type": "code",
   "execution_count": 18,
   "id": "0322166a",
   "metadata": {},
   "outputs": [
    {
     "data": {
      "text/plain": [
       "<AxesSubplot:>"
      ]
     },
     "execution_count": 18,
     "metadata": {},
     "output_type": "execute_result"
    },
    {
     "data": {
      "image/png": "[encoded data removed]",
      "text/plain": [
       "<Figure size 432x288 with 1 Axes>"
      ]
     },
     "metadata": {
      "needs_background": "light"
     },
     "output_type": "display_data"
    }
   ],
   "source": [
    "feature_importance_all_vars.head(8).plot.barh()"
   ]
  },
  {
   "cell_type": "code",
   "execution_count": 19,
   "id": "bf0be865",
   "metadata": {},
   "outputs": [
    {
     "data": {
      "text/plain": [
       "array(['pct_desktop_or_laptop', 'pct_tablet',\n",
       "       'log_median_income_over_log_median_house',\n",
       "       'pct_computing_device_no_internet', 'pct_internet_no_subscrp',\n",
       "       'Crown_Castle_present', 'pct_computing_device_with_dialup'],\n",
       "      dtype=object)"
      ]
     },
     "execution_count": 19,
     "metadata": {},
     "output_type": "execute_result"
    }
   ],
   "source": [
    "feature_importance_all_vars.head(7).index.values"
   ]
  },
  {
   "cell_type": "code",
   "execution_count": 15,
   "id": "67b4d912",
   "metadata": {},
   "outputs": [],
   "source": [
    "key_vars = ['pct_internet', \n",
    "            'pct_computer_with_broadband',\n",
    "            'median_age_overall', \n",
    "            'pct_white', \n",
    "            'pct_pop_20_to_24',\n",
    "            'employment_rate', \n",
    "            'pct_pop_bachelors+']"
   ]
  },
  {
   "cell_type": "code",
   "execution_count": 7,
   "id": "457c5291",
   "metadata": {},
   "outputs": [
    {
     "ename": "KeyError",
     "evalue": "\"['pct_computer', 'pct_computer_with_dialup', 'pct_computer_with_broadband', 'pct_computer_no_internet', 'pct_no_computer'] not in index\"",
     "output_type": "error",
     "traceback": [
      "\u001b[0;31m---------------------------------------------------------------------------\u001b[0m",
      "\u001b[0;31mKeyError\u001b[0m                                  Traceback (most recent call last)",
      "\u001b[0;32m/tmp/ipykernel_4179/3750551669.py\u001b[0m in \u001b[0;36m<module>\u001b[0;34m\u001b[0m\n\u001b[1;32m      1\u001b[0m feature_importance_broadband_vars = poverty_XGBoost_model(training_data, \n\u001b[1;32m      2\u001b[0m                                                           \u001b[0mtest_data\u001b[0m\u001b[0;34m,\u001b[0m\u001b[0;34m\u001b[0m\u001b[0;34m\u001b[0m\u001b[0m\n\u001b[0;32m----> 3\u001b[0;31m                                                           broadband_vars) \n\u001b[0m",
      "\u001b[0;32m/tmp/ipykernel_4179/1413301947.py\u001b[0m in \u001b[0;36mpoverty_XGBoost_model\u001b[0;34m(train_df, test_df, variable_list, poverty_rate_train, poverty_rate_test)\u001b[0m\n\u001b[1;32m      7\u001b[0m                           \u001b[0mpoverty_rate_train\u001b[0m \u001b[0;34m=\u001b[0m \u001b[0mpoverty_rate_train\u001b[0m\u001b[0;34m,\u001b[0m\u001b[0;34m\u001b[0m\u001b[0;34m\u001b[0m\u001b[0m\n\u001b[1;32m      8\u001b[0m                           poverty_rate_test = poverty_rate_test):\n\u001b[0;32m----> 9\u001b[0;31m     \u001b[0mtrain_variables\u001b[0m \u001b[0;34m=\u001b[0m \u001b[0mnp\u001b[0m\u001b[0;34m.\u001b[0m\u001b[0marray\u001b[0m\u001b[0;34m(\u001b[0m\u001b[0mtrain_df\u001b[0m\u001b[0;34m[\u001b[0m\u001b[0mvariable_list\u001b[0m\u001b[0;34m]\u001b[0m\u001b[0;34m)\u001b[0m\u001b[0;34m\u001b[0m\u001b[0;34m\u001b[0m\u001b[0m\n\u001b[0m\u001b[1;32m     10\u001b[0m     \u001b[0mtest_variables\u001b[0m \u001b[0;34m=\u001b[0m \u001b[0mnp\u001b[0m\u001b[0;34m.\u001b[0m\u001b[0marray\u001b[0m\u001b[0;34m(\u001b[0m\u001b[0mtest_df\u001b[0m\u001b[0;34m[\u001b[0m\u001b[0mvariable_list\u001b[0m\u001b[0;34m]\u001b[0m\u001b[0;34m)\u001b[0m\u001b[0;34m\u001b[0m\u001b[0;34m\u001b[0m\u001b[0m\n\u001b[1;32m     11\u001b[0m \u001b[0;34m\u001b[0m\u001b[0m\n",
      "\u001b[0;32m~/capstone/capstoneEnv/lib64/python3.7/site-packages/pandas/core/frame.py\u001b[0m in \u001b[0;36m__getitem__\u001b[0;34m(self, key)\u001b[0m\n\u001b[1;32m   3462\u001b[0m             \u001b[0;32mif\u001b[0m \u001b[0mis_iterator\u001b[0m\u001b[0;34m(\u001b[0m\u001b[0mkey\u001b[0m\u001b[0;34m)\u001b[0m\u001b[0;34m:\u001b[0m\u001b[0;34m\u001b[0m\u001b[0;34m\u001b[0m\u001b[0m\n\u001b[1;32m   3463\u001b[0m                 \u001b[0mkey\u001b[0m \u001b[0;34m=\u001b[0m \u001b[0mlist\u001b[0m\u001b[0;34m(\u001b[0m\u001b[0mkey\u001b[0m\u001b[0;34m)\u001b[0m\u001b[0;34m\u001b[0m\u001b[0;34m\u001b[0m\u001b[0m\n\u001b[0;32m-> 3464\u001b[0;31m             \u001b[0mindexer\u001b[0m \u001b[0;34m=\u001b[0m \u001b[0mself\u001b[0m\u001b[0;34m.\u001b[0m\u001b[0mloc\u001b[0m\u001b[0;34m.\u001b[0m\u001b[0m_get_listlike_indexer\u001b[0m\u001b[0;34m(\u001b[0m\u001b[0mkey\u001b[0m\u001b[0;34m,\u001b[0m \u001b[0maxis\u001b[0m\u001b[0;34m=\u001b[0m\u001b[0;36m1\u001b[0m\u001b[0;34m)\u001b[0m\u001b[0;34m[\u001b[0m\u001b[0;36m1\u001b[0m\u001b[0;34m]\u001b[0m\u001b[0;34m\u001b[0m\u001b[0;34m\u001b[0m\u001b[0m\n\u001b[0m\u001b[1;32m   3465\u001b[0m \u001b[0;34m\u001b[0m\u001b[0m\n\u001b[1;32m   3466\u001b[0m         \u001b[0;31m# take() does not accept boolean indexers\u001b[0m\u001b[0;34m\u001b[0m\u001b[0;34m\u001b[0m\u001b[0;34m\u001b[0m\u001b[0m\n",
      "\u001b[0;32m~/capstone/capstoneEnv/lib64/python3.7/site-packages/pandas/core/indexing.py\u001b[0m in \u001b[0;36m_get_listlike_indexer\u001b[0;34m(self, key, axis)\u001b[0m\n\u001b[1;32m   1312\u001b[0m             \u001b[0mkeyarr\u001b[0m\u001b[0;34m,\u001b[0m \u001b[0mindexer\u001b[0m\u001b[0;34m,\u001b[0m \u001b[0mnew_indexer\u001b[0m \u001b[0;34m=\u001b[0m \u001b[0max\u001b[0m\u001b[0;34m.\u001b[0m\u001b[0m_reindex_non_unique\u001b[0m\u001b[0;34m(\u001b[0m\u001b[0mkeyarr\u001b[0m\u001b[0;34m)\u001b[0m\u001b[0;34m\u001b[0m\u001b[0;34m\u001b[0m\u001b[0m\n\u001b[1;32m   1313\u001b[0m \u001b[0;34m\u001b[0m\u001b[0m\n\u001b[0;32m-> 1314\u001b[0;31m         \u001b[0mself\u001b[0m\u001b[0;34m.\u001b[0m\u001b[0m_validate_read_indexer\u001b[0m\u001b[0;34m(\u001b[0m\u001b[0mkeyarr\u001b[0m\u001b[0;34m,\u001b[0m \u001b[0mindexer\u001b[0m\u001b[0;34m,\u001b[0m \u001b[0maxis\u001b[0m\u001b[0;34m)\u001b[0m\u001b[0;34m\u001b[0m\u001b[0;34m\u001b[0m\u001b[0m\n\u001b[0m\u001b[1;32m   1315\u001b[0m \u001b[0;34m\u001b[0m\u001b[0m\n\u001b[1;32m   1316\u001b[0m         if needs_i8_conversion(ax.dtype) or isinstance(\n",
      "\u001b[0;32m~/capstone/capstoneEnv/lib64/python3.7/site-packages/pandas/core/indexing.py\u001b[0m in \u001b[0;36m_validate_read_indexer\u001b[0;34m(self, key, indexer, axis)\u001b[0m\n\u001b[1;32m   1375\u001b[0m \u001b[0;34m\u001b[0m\u001b[0m\n\u001b[1;32m   1376\u001b[0m             \u001b[0mnot_found\u001b[0m \u001b[0;34m=\u001b[0m \u001b[0mlist\u001b[0m\u001b[0;34m(\u001b[0m\u001b[0mensure_index\u001b[0m\u001b[0;34m(\u001b[0m\u001b[0mkey\u001b[0m\u001b[0;34m)\u001b[0m\u001b[0;34m[\u001b[0m\u001b[0mmissing_mask\u001b[0m\u001b[0;34m.\u001b[0m\u001b[0mnonzero\u001b[0m\u001b[0;34m(\u001b[0m\u001b[0;34m)\u001b[0m\u001b[0;34m[\u001b[0m\u001b[0;36m0\u001b[0m\u001b[0;34m]\u001b[0m\u001b[0;34m]\u001b[0m\u001b[0;34m.\u001b[0m\u001b[0munique\u001b[0m\u001b[0;34m(\u001b[0m\u001b[0;34m)\u001b[0m\u001b[0;34m)\u001b[0m\u001b[0;34m\u001b[0m\u001b[0;34m\u001b[0m\u001b[0m\n\u001b[0;32m-> 1377\u001b[0;31m             \u001b[0;32mraise\u001b[0m \u001b[0mKeyError\u001b[0m\u001b[0;34m(\u001b[0m\u001b[0;34mf\"{not_found} not in index\"\u001b[0m\u001b[0;34m)\u001b[0m\u001b[0;34m\u001b[0m\u001b[0;34m\u001b[0m\u001b[0m\n\u001b[0m\u001b[1;32m   1378\u001b[0m \u001b[0;34m\u001b[0m\u001b[0m\n\u001b[1;32m   1379\u001b[0m \u001b[0;34m\u001b[0m\u001b[0m\n",
      "\u001b[0;31mKeyError\u001b[0m: \"['pct_computer', 'pct_computer_with_dialup', 'pct_computer_with_broadband', 'pct_computer_no_internet', 'pct_no_computer'] not in index\""
     ]
    }
   ],
   "source": [
    "feature_importance_broadband_vars = poverty_XGBoost_model(training_data, \n",
    "                                                          test_data, \n",
    "                                                          broadband_vars) \n"
   ]
  },
  {
   "cell_type": "code",
   "execution_count": 40,
   "id": "73290a70",
   "metadata": {
    "scrolled": true
   },
   "outputs": [
    {
     "data": {
      "text/plain": [
       "<AxesSubplot:>"
      ]
     },
     "execution_count": 40,
     "metadata": {},
     "output_type": "execute_result"
    },
    {
     "data": {
      "image/png": "[encoded data removed]",
      "text/plain": [
       "<Figure size 432x288 with 1 Axes>"
      ]
     },
     "metadata": {
      "needs_background": "light"
     },
     "output_type": "display_data"
    }
   ],
   "source": [
    "feature_importance_broadband_vars.head(7).plot.barh()"
   ]
  },
  {
   "cell_type": "code",
   "execution_count": 6,
   "id": "a815c728",
   "metadata": {},
   "outputs": [],
   "source": [
    "#key_vars = feature_importance_broadband_vars.head(7).index.values\n",
    "key_vars = ['Primary RUCA Code - 1.0',\n",
    "            'SE',\n",
    "            'Secondary RUCA Code - 1.0',\n",
    "            'pct_computer_with_broadband',\n",
    "            'pct_internet',\n",
    "            'pct_computer_no_internet',\n",
    "            'Secondary RUCA Code - 4.0']"
   ]
  },
  {
   "cell_type": "markdown",
   "id": "8d7295bb",
   "metadata": {},
   "source": [
    "## Tuning the model"
   ]
  },
  {
   "cell_type": "code",
   "execution_count": 44,
   "id": "876c5793",
   "metadata": {
    "scrolled": true
   },
   "outputs": [
    {
     "name": "stdout",
     "output_type": "stream",
     "text": [
      "Fitting 3 folds for each of 20 candidates, totalling 60 fits\n",
      "[CV 1/3; 1/20] START colsample_bytree=0.3, learning_rate=0.1, max_depth=3, n_estimators=500\n",
      "[CV 1/3; 1/20] END colsample_bytree=0.3, learning_rate=0.1, max_depth=3, n_estimators=500;, score=-48.475 total time=   4.6s\n",
      "[CV 2/3; 1/20] START colsample_bytree=0.3, learning_rate=0.1, max_depth=3, n_estimators=500\n",
      "[CV 2/3; 1/20] END colsample_bytree=0.3, learning_rate=0.1, max_depth=3, n_estimators=500;, score=-50.595 total time=   4.6s\n",
      "[CV 3/3; 1/20] START colsample_bytree=0.3, learning_rate=0.1, max_depth=3, n_estimators=500\n",
      "[CV 3/3; 1/20] END colsample_bytree=0.3, learning_rate=0.1, max_depth=3, n_estimators=500;, score=-49.102 total time=   4.6s\n",
      "[CV 1/3; 2/20] START colsample_bytree=0.7, learning_rate=0.1, max_depth=6, n_estimators=500\n",
      "[CV 1/3; 2/20] END colsample_bytree=0.7, learning_rate=0.1, max_depth=6, n_estimators=500;, score=-49.333 total time=  12.8s\n",
      "[CV 2/3; 2/20] START colsample_bytree=0.7, learning_rate=0.1, max_depth=6, n_estimators=500\n",
      "[CV 2/3; 2/20] END colsample_bytree=0.7, learning_rate=0.1, max_depth=6, n_estimators=500;, score=-51.526 total time=  12.7s\n",
      "[CV 3/3; 2/20] START colsample_bytree=0.7, learning_rate=0.1, max_depth=6, n_estimators=500\n",
      "[CV 3/3; 2/20] END colsample_bytree=0.7, learning_rate=0.1, max_depth=6, n_estimators=500;, score=-50.203 total time=  12.7s\n",
      "[CV 1/3; 3/20] START colsample_bytree=0.7, learning_rate=0.1, max_depth=6, n_estimators=100\n",
      "[CV 1/3; 3/20] END colsample_bytree=0.7, learning_rate=0.1, max_depth=6, n_estimators=100;, score=-48.274 total time=   2.7s\n",
      "[CV 2/3; 3/20] START colsample_bytree=0.7, learning_rate=0.1, max_depth=6, n_estimators=100\n",
      "[CV 2/3; 3/20] END colsample_bytree=0.7, learning_rate=0.1, max_depth=6, n_estimators=100;, score=-50.387 total time=   2.7s\n",
      "[CV 3/3; 3/20] START colsample_bytree=0.7, learning_rate=0.1, max_depth=6, n_estimators=100\n",
      "[CV 3/3; 3/20] END colsample_bytree=0.7, learning_rate=0.1, max_depth=6, n_estimators=100;, score=-49.061 total time=   2.7s\n",
      "[CV 1/3; 4/20] START colsample_bytree=0.3, learning_rate=0.05, max_depth=6, n_estimators=100\n",
      "[CV 1/3; 4/20] END colsample_bytree=0.3, learning_rate=0.05, max_depth=6, n_estimators=100;, score=-50.090 total time=   1.7s\n",
      "[CV 2/3; 4/20] START colsample_bytree=0.3, learning_rate=0.05, max_depth=6, n_estimators=100\n",
      "[CV 2/3; 4/20] END colsample_bytree=0.3, learning_rate=0.05, max_depth=6, n_estimators=100;, score=-52.160 total time=   1.7s\n",
      "[CV 3/3; 4/20] START colsample_bytree=0.3, learning_rate=0.05, max_depth=6, n_estimators=100\n",
      "[CV 3/3; 4/20] END colsample_bytree=0.3, learning_rate=0.05, max_depth=6, n_estimators=100;, score=-50.778 total time=   1.7s\n",
      "[CV 1/3; 5/20] START colsample_bytree=0.7, learning_rate=0.05, max_depth=10, n_estimators=1000\n",
      "[CV 1/3; 5/20] END colsample_bytree=0.7, learning_rate=0.05, max_depth=10, n_estimators=1000;, score=-50.867 total time=  42.8s\n",
      "[CV 2/3; 5/20] START colsample_bytree=0.7, learning_rate=0.05, max_depth=10, n_estimators=1000\n",
      "[CV 2/3; 5/20] END colsample_bytree=0.7, learning_rate=0.05, max_depth=10, n_estimators=1000;, score=-53.014 total time=  42.8s\n",
      "[CV 3/3; 5/20] START colsample_bytree=0.7, learning_rate=0.05, max_depth=10, n_estimators=1000\n",
      "[CV 3/3; 5/20] END colsample_bytree=0.7, learning_rate=0.05, max_depth=10, n_estimators=1000;, score=-51.641 total time=  42.8s\n",
      "[CV 1/3; 6/20] START colsample_bytree=0.3, learning_rate=0.01, max_depth=6, n_estimators=1000\n",
      "[CV 1/3; 6/20] END colsample_bytree=0.3, learning_rate=0.01, max_depth=6, n_estimators=1000;, score=-48.924 total time=  16.4s\n",
      "[CV 2/3; 6/20] START colsample_bytree=0.3, learning_rate=0.01, max_depth=6, n_estimators=1000\n",
      "[CV 2/3; 6/20] END colsample_bytree=0.3, learning_rate=0.01, max_depth=6, n_estimators=1000;, score=-51.031 total time=  16.4s\n",
      "[CV 3/3; 6/20] START colsample_bytree=0.3, learning_rate=0.01, max_depth=6, n_estimators=1000\n",
      "[CV 3/3; 6/20] END colsample_bytree=0.3, learning_rate=0.01, max_depth=6, n_estimators=1000;, score=-49.645 total time=  16.4s\n",
      "[CV 1/3; 7/20] START colsample_bytree=0.3, learning_rate=0.05, max_depth=10, n_estimators=1000\n",
      "[CV 1/3; 7/20] END colsample_bytree=0.3, learning_rate=0.05, max_depth=10, n_estimators=1000;, score=-51.567 total time=  26.1s\n",
      "[CV 2/3; 7/20] START colsample_bytree=0.3, learning_rate=0.05, max_depth=10, n_estimators=1000\n",
      "[CV 2/3; 7/20] END colsample_bytree=0.3, learning_rate=0.05, max_depth=10, n_estimators=1000;, score=-53.562 total time=  26.0s\n",
      "[CV 3/3; 7/20] START colsample_bytree=0.3, learning_rate=0.05, max_depth=10, n_estimators=1000\n",
      "[CV 3/3; 7/20] END colsample_bytree=0.3, learning_rate=0.05, max_depth=10, n_estimators=1000;, score=-52.211 total time=  26.1s\n",
      "[CV 1/3; 8/20] START colsample_bytree=0.7, learning_rate=0.1, max_depth=10, n_estimators=500\n",
      "[CV 1/3; 8/20] END colsample_bytree=0.7, learning_rate=0.1, max_depth=10, n_estimators=500;, score=-51.250 total time=  21.2s\n",
      "[CV 2/3; 8/20] START colsample_bytree=0.7, learning_rate=0.1, max_depth=10, n_estimators=500\n",
      "[CV 2/3; 8/20] END colsample_bytree=0.7, learning_rate=0.1, max_depth=10, n_estimators=500;, score=-53.473 total time=  21.2s\n",
      "[CV 3/3; 8/20] START colsample_bytree=0.7, learning_rate=0.1, max_depth=10, n_estimators=500\n",
      "[CV 3/3; 8/20] END colsample_bytree=0.7, learning_rate=0.1, max_depth=10, n_estimators=500;, score=-52.289 total time=  21.3s\n",
      "[CV 1/3; 9/20] START colsample_bytree=0.3, learning_rate=0.01, max_depth=6, n_estimators=100\n",
      "[CV 1/3; 9/20] END colsample_bytree=0.3, learning_rate=0.01, max_depth=6, n_estimators=100;, score=-95.453 total time=   1.7s\n",
      "[CV 2/3; 9/20] START colsample_bytree=0.3, learning_rate=0.01, max_depth=6, n_estimators=100\n",
      "[CV 2/3; 9/20] END colsample_bytree=0.3, learning_rate=0.01, max_depth=6, n_estimators=100;, score=-98.037 total time=   1.7s\n",
      "[CV 3/3; 9/20] START colsample_bytree=0.3, learning_rate=0.01, max_depth=6, n_estimators=100\n",
      "[CV 3/3; 9/20] END colsample_bytree=0.3, learning_rate=0.01, max_depth=6, n_estimators=100;, score=-96.260 total time=   1.7s\n",
      "[CV 1/3; 10/20] START colsample_bytree=0.7, learning_rate=0.01, max_depth=6, n_estimators=1000\n",
      "[CV 1/3; 10/20] END colsample_bytree=0.7, learning_rate=0.01, max_depth=6, n_estimators=1000;, score=-48.141 total time=  26.6s\n",
      "[CV 2/3; 10/20] START colsample_bytree=0.7, learning_rate=0.01, max_depth=6, n_estimators=1000\n",
      "[CV 2/3; 10/20] END colsample_bytree=0.7, learning_rate=0.01, max_depth=6, n_estimators=1000;, score=-50.116 total time=  26.6s\n",
      "[CV 3/3; 10/20] START colsample_bytree=0.7, learning_rate=0.01, max_depth=6, n_estimators=1000\n",
      "[CV 3/3; 10/20] END colsample_bytree=0.7, learning_rate=0.01, max_depth=6, n_estimators=1000;, score=-48.763 total time=  26.6s\n",
      "[CV 1/3; 11/20] START colsample_bytree=0.3, learning_rate=0.05, max_depth=6, n_estimators=500\n",
      "[CV 1/3; 11/20] END colsample_bytree=0.3, learning_rate=0.05, max_depth=6, n_estimators=500;, score=-49.068 total time=   8.1s\n",
      "[CV 2/3; 11/20] START colsample_bytree=0.3, learning_rate=0.05, max_depth=6, n_estimators=500\n",
      "[CV 2/3; 11/20] END colsample_bytree=0.3, learning_rate=0.05, max_depth=6, n_estimators=500;, score=-51.001 total time=   8.1s\n",
      "[CV 3/3; 11/20] START colsample_bytree=0.3, learning_rate=0.05, max_depth=6, n_estimators=500\n",
      "[CV 3/3; 11/20] END colsample_bytree=0.3, learning_rate=0.05, max_depth=6, n_estimators=500;, score=-49.626 total time=   8.1s\n",
      "[CV 1/3; 12/20] START colsample_bytree=0.3, learning_rate=0.01, max_depth=10, n_estimators=1000\n",
      "[CV 1/3; 12/20] END colsample_bytree=0.3, learning_rate=0.01, max_depth=10, n_estimators=1000;, score=-49.910 total time=  27.8s\n",
      "[CV 2/3; 12/20] START colsample_bytree=0.3, learning_rate=0.01, max_depth=10, n_estimators=1000\n",
      "[CV 2/3; 12/20] END colsample_bytree=0.3, learning_rate=0.01, max_depth=10, n_estimators=1000;, score=-52.240 total time=  27.7s\n",
      "[CV 3/3; 12/20] START colsample_bytree=0.3, learning_rate=0.01, max_depth=10, n_estimators=1000\n",
      "[CV 3/3; 12/20] END colsample_bytree=0.3, learning_rate=0.01, max_depth=10, n_estimators=1000;, score=-50.661 total time=  27.7s\n",
      "[CV 1/3; 13/20] START colsample_bytree=0.3, learning_rate=0.1, max_depth=10, n_estimators=1000\n",
      "[CV 1/3; 13/20] END colsample_bytree=0.3, learning_rate=0.1, max_depth=10, n_estimators=1000;, score=-53.303 total time=  25.9s\n",
      "[CV 2/3; 13/20] START colsample_bytree=0.3, learning_rate=0.1, max_depth=10, n_estimators=1000\n"
     ]
    },
    {
     "name": "stdout",
     "output_type": "stream",
     "text": [
      "[CV 2/3; 13/20] END colsample_bytree=0.3, learning_rate=0.1, max_depth=10, n_estimators=1000;, score=-55.556 total time=  25.7s\n",
      "[CV 3/3; 13/20] START colsample_bytree=0.3, learning_rate=0.1, max_depth=10, n_estimators=1000\n",
      "[CV 3/3; 13/20] END colsample_bytree=0.3, learning_rate=0.1, max_depth=10, n_estimators=1000;, score=-54.288 total time=  25.6s\n",
      "[CV 1/3; 14/20] START colsample_bytree=0.3, learning_rate=0.01, max_depth=10, n_estimators=100\n",
      "[CV 1/3; 14/20] END colsample_bytree=0.3, learning_rate=0.01, max_depth=10, n_estimators=100;, score=-95.965 total time=   2.8s\n",
      "[CV 2/3; 14/20] START colsample_bytree=0.3, learning_rate=0.01, max_depth=10, n_estimators=100\n",
      "[CV 2/3; 14/20] END colsample_bytree=0.3, learning_rate=0.01, max_depth=10, n_estimators=100;, score=-98.538 total time=   2.8s\n",
      "[CV 3/3; 14/20] START colsample_bytree=0.3, learning_rate=0.01, max_depth=10, n_estimators=100\n",
      "[CV 3/3; 14/20] END colsample_bytree=0.3, learning_rate=0.01, max_depth=10, n_estimators=100;, score=-96.700 total time=   2.8s\n",
      "[CV 1/3; 15/20] START colsample_bytree=0.7, learning_rate=0.01, max_depth=10, n_estimators=500\n",
      "[CV 1/3; 15/20] END colsample_bytree=0.7, learning_rate=0.01, max_depth=10, n_estimators=500;, score=-48.912 total time=  23.7s\n",
      "[CV 2/3; 15/20] START colsample_bytree=0.7, learning_rate=0.01, max_depth=10, n_estimators=500\n",
      "[CV 2/3; 15/20] END colsample_bytree=0.7, learning_rate=0.01, max_depth=10, n_estimators=500;, score=-51.022 total time=  23.7s\n",
      "[CV 3/3; 15/20] START colsample_bytree=0.7, learning_rate=0.01, max_depth=10, n_estimators=500\n",
      "[CV 3/3; 15/20] END colsample_bytree=0.7, learning_rate=0.01, max_depth=10, n_estimators=500;, score=-49.669 total time=  23.7s\n",
      "[CV 1/3; 16/20] START colsample_bytree=0.3, learning_rate=0.01, max_depth=6, n_estimators=500\n",
      "[CV 1/3; 16/20] END colsample_bytree=0.3, learning_rate=0.01, max_depth=6, n_estimators=500;, score=-50.114 total time=   8.3s\n",
      "[CV 2/3; 16/20] START colsample_bytree=0.3, learning_rate=0.01, max_depth=6, n_estimators=500\n",
      "[CV 2/3; 16/20] END colsample_bytree=0.3, learning_rate=0.01, max_depth=6, n_estimators=500;, score=-52.169 total time=   8.3s\n",
      "[CV 3/3; 16/20] START colsample_bytree=0.3, learning_rate=0.01, max_depth=6, n_estimators=500\n",
      "[CV 3/3; 16/20] END colsample_bytree=0.3, learning_rate=0.01, max_depth=6, n_estimators=500;, score=-50.779 total time=   8.3s\n",
      "[CV 1/3; 17/20] START colsample_bytree=0.7, learning_rate=0.05, max_depth=3, n_estimators=500\n",
      "[CV 1/3; 17/20] END colsample_bytree=0.7, learning_rate=0.05, max_depth=3, n_estimators=500;, score=-48.021 total time=   6.9s\n",
      "[CV 2/3; 17/20] START colsample_bytree=0.7, learning_rate=0.05, max_depth=3, n_estimators=500\n",
      "[CV 2/3; 17/20] END colsample_bytree=0.7, learning_rate=0.05, max_depth=3, n_estimators=500;, score=-50.150 total time=   6.8s\n",
      "[CV 3/3; 17/20] START colsample_bytree=0.7, learning_rate=0.05, max_depth=3, n_estimators=500\n",
      "[CV 3/3; 17/20] END colsample_bytree=0.7, learning_rate=0.05, max_depth=3, n_estimators=500;, score=-48.745 total time=   6.8s\n",
      "[CV 1/3; 18/20] START colsample_bytree=0.3, learning_rate=0.1, max_depth=10, n_estimators=100\n",
      "[CV 1/3; 18/20] END colsample_bytree=0.3, learning_rate=0.1, max_depth=10, n_estimators=100;, score=-50.570 total time=   2.7s\n",
      "[CV 2/3; 18/20] START colsample_bytree=0.3, learning_rate=0.1, max_depth=10, n_estimators=100\n",
      "[CV 2/3; 18/20] END colsample_bytree=0.3, learning_rate=0.1, max_depth=10, n_estimators=100;, score=-52.882 total time=   2.8s\n",
      "[CV 3/3; 18/20] START colsample_bytree=0.3, learning_rate=0.1, max_depth=10, n_estimators=100\n",
      "[CV 3/3; 18/20] END colsample_bytree=0.3, learning_rate=0.1, max_depth=10, n_estimators=100;, score=-51.344 total time=   2.8s\n",
      "[CV 1/3; 19/20] START colsample_bytree=0.7, learning_rate=0.1, max_depth=3, n_estimators=100\n",
      "[CV 1/3; 19/20] END colsample_bytree=0.7, learning_rate=0.1, max_depth=3, n_estimators=100;, score=-48.251 total time=   1.4s\n",
      "[CV 2/3; 19/20] START colsample_bytree=0.7, learning_rate=0.1, max_depth=3, n_estimators=100\n",
      "[CV 2/3; 19/20] END colsample_bytree=0.7, learning_rate=0.1, max_depth=3, n_estimators=100;, score=-50.439 total time=   1.4s\n",
      "[CV 3/3; 19/20] START colsample_bytree=0.7, learning_rate=0.1, max_depth=3, n_estimators=100\n",
      "[CV 3/3; 19/20] END colsample_bytree=0.7, learning_rate=0.1, max_depth=3, n_estimators=100;, score=-48.934 total time=   1.4s\n",
      "[CV 1/3; 20/20] START colsample_bytree=0.7, learning_rate=0.01, max_depth=10, n_estimators=100\n",
      "[CV 1/3; 20/20] END colsample_bytree=0.7, learning_rate=0.01, max_depth=10, n_estimators=100;, score=-87.579 total time=   4.9s\n",
      "[CV 2/3; 20/20] START colsample_bytree=0.7, learning_rate=0.01, max_depth=10, n_estimators=100\n",
      "[CV 2/3; 20/20] END colsample_bytree=0.7, learning_rate=0.01, max_depth=10, n_estimators=100;, score=-89.936 total time=   4.9s\n",
      "[CV 3/3; 20/20] START colsample_bytree=0.7, learning_rate=0.01, max_depth=10, n_estimators=100\n",
      "[CV 3/3; 20/20] END colsample_bytree=0.7, learning_rate=0.01, max_depth=10, n_estimators=100;, score=-88.327 total time=   4.9s\n"
     ]
    },
    {
     "data": {
      "text/plain": [
       "RandomizedSearchCV(cv=3,\n",
       "                   estimator=XGBRegressor(base_score=None, booster=None,\n",
       "                                          colsample_bylevel=None,\n",
       "                                          colsample_bynode=None,\n",
       "                                          colsample_bytree=None,\n",
       "                                          enable_categorical=False, gamma=None,\n",
       "                                          gpu_id=None, importance_type=None,\n",
       "                                          interaction_constraints=None,\n",
       "                                          learning_rate=None,\n",
       "                                          max_delta_step=None, max_depth=None,\n",
       "                                          min_child_weight=None, missing=nan,\n",
       "                                          monotone_constraints=...\n",
       "                                          predictor=None, random_state=None,\n",
       "                                          reg_alpha=None, reg_lambda=None,\n",
       "                                          scale_pos_weight=None, subsample=None,\n",
       "                                          tree_method=None,\n",
       "                                          validate_parameters=None,\n",
       "                                          verbosity=None),\n",
       "                   n_iter=20,\n",
       "                   param_distributions={'colsample_bytree': [0.3, 0.7],\n",
       "                                        'learning_rate': [0.01, 0.05, 0.1],\n",
       "                                        'max_depth': [3, 6, 10],\n",
       "                                        'n_estimators': [100, 500, 1000]},\n",
       "                   random_state=42, scoring='neg_mean_squared_error',\n",
       "                   verbose=10)"
      ]
     },
     "execution_count": 44,
     "metadata": {},
     "output_type": "execute_result"
    }
   ],
   "source": [
    "params = { 'max_depth': [3,6,10],\n",
    "           'learning_rate': [0.01, 0.05, 0.1],\n",
    "           'n_estimators': [100, 500, 1000],\n",
    "           'colsample_bytree': [0.3, 0.7]}\n",
    "\n",
    "regressor_tuned = XGBRegressor()\n",
    "\n",
    "regress = RandomizedSearchCV(estimator=regressor_tuned, \n",
    "                             param_distributions=params,\n",
    "                             scoring='neg_mean_squared_error', \n",
    "                             verbose=10,\n",
    "                             n_iter = 20,\n",
    "                             cv = 3,\n",
    "                             random_state=42)\n",
    "\n",
    "regress.fit(training_data[key_vars], poverty_rate_train)\n",
    "\n",
    "\n"
   ]
  },
  {
   "cell_type": "code",
   "execution_count": 45,
   "id": "dead0a0a",
   "metadata": {},
   "outputs": [
    {
     "name": "stdout",
     "output_type": "stream",
     "text": [
      "Best parameters: {'n_estimators': 500, 'max_depth': 3, 'learning_rate': 0.05, 'colsample_bytree': 0.7}\n",
      "Lowest RMSE:  6.998003206044112\n",
      "explained_variance:  0.597\n",
      "r2:  0.597\n",
      "MAE:  4.9528\n",
      "MSE:  48.2814\n",
      "RMSE:  6.9485\n"
     ]
    }
   ],
   "source": [
    "print(\"Best parameters:\", regress.best_params_)\n",
    "print(\"Lowest RMSE: \", (-regress.best_score_)**(1/2.0))\n",
    "y_pred = regress.predict(test_data[key_vars])\n",
    "\n",
    "regression_results(poverty_rate_test, y_pred)"
   ]
  },
  {
   "cell_type": "markdown",
   "id": "17bd863c",
   "metadata": {},
   "source": [
    "---"
   ]
  },
  {
   "cell_type": "markdown",
   "id": "300d80f2",
   "metadata": {},
   "source": [
    "### California Data"
   ]
  },
  {
   "cell_type": "code",
   "execution_count": 5,
   "id": "426426ff",
   "metadata": {},
   "outputs": [],
   "source": [
    "cali_train_data = training_data[training_data.state == 6]\n",
    "cali_test_data = test_data[test_data.state == 6]"
   ]
  },
  {
   "cell_type": "code",
   "execution_count": 9,
   "id": "dfbc40c9",
   "metadata": {},
   "outputs": [
    {
     "name": "stdout",
     "output_type": "stream",
     "text": [
      "explained_variance:  0.5585\n",
      "r2:  0.558\n",
      "MAE:  4.5977\n",
      "MSE:  43.3611\n",
      "RMSE:  6.5849\n"
     ]
    }
   ],
   "source": [
    "regressor = XGBRegressor(n_estimators = 500, max_depth = 3, learning_rate = 0.05, colsample_bytree = 0.7)\n",
    "regressor.fit(cali_train_data[key_vars],  np.array(cali_train_data['poverty_rate']))\n",
    "predictions = regressor.predict(cali_test_data[key_vars])\n",
    "regression_results(np.array(cali_test_data['poverty_rate']), predictions)\n"
   ]
  }
 ],
 "metadata": {
  "kernelspec": {
   "display_name": "Python 3 (ipykernel)",
   "language": "python",
   "name": "python3"
  },
  "language_info": {
   "codemirror_mode": {
    "name": "ipython",
    "version": 3
   },
   "file_extension": ".py",
   "mimetype": "text/x-python",
   "name": "python",
   "nbconvert_exporter": "python",
   "pygments_lexer": "ipython3",
   "version": "3.7.10"
  }
 },
 "nbformat": 4,
 "nbformat_minor": 5
}
