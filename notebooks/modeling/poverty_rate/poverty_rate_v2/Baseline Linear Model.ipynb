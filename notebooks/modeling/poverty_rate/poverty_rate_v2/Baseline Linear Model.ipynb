{
 "cells": [
  {
   "cell_type": "markdown",
   "id": "1eb02773",
   "metadata": {},
   "source": [
    "From David: \"Percent of the population with access to the internet makes sense if it is  population with *any* access to the internet.\"\n",
    "\n",
    "For this baseline model, I'll use pct_internet."
   ]
  },
  {
   "cell_type": "markdown",
   "id": "de783c53",
   "metadata": {},
   "source": [
    "### Imports and Data Load"
   ]
  },
  {
   "cell_type": "code",
   "execution_count": 1,
   "id": "33a9ba9e",
   "metadata": {},
   "outputs": [],
   "source": [
    "import pandas as pd\n",
    "import numpy as np\n",
    "from sklearn.linear_model import LinearRegression\n",
    "import sklearn.metrics as metrics "
   ]
  },
  {
   "cell_type": "code",
   "execution_count": 2,
   "id": "6197b45d",
   "metadata": {},
   "outputs": [],
   "source": [
    "training_data = pd.read_csv('/home/ec2-user/capstone/broadband-capstone/data/current_data/train_3.csv')\n",
    "test_data = pd.read_csv('/home/ec2-user/capstone/broadband-capstone/data/current_data/test_3.csv')"
   ]
  },
  {
   "cell_type": "code",
   "execution_count": 3,
   "id": "a0603abd",
   "metadata": {},
   "outputs": [
    {
     "data": {
      "text/plain": [
       "Index(['Unnamed: 0', 'tract_geoid', 'All_Provider_Count', 'MaxAdDown',\n",
       "       'MaxAdUp', 'Wired_Provider_Count', 'Satellite_Provider_Count',\n",
       "       'Fixed_Wireless_Provider_Count', 'All_Provider_Count_25',\n",
       "       'All_Provider_Count_100',\n",
       "       ...\n",
       "       'log_median_income', 'log_median_house_value',\n",
       "       'median_income_over_median_rent',\n",
       "       'median_income_over_median_house_value',\n",
       "       'pct_of_internet_users_with_broadband',\n",
       "       'log_median_income_over_log_median_house', 'pct_desktop_or_laptop',\n",
       "       'pct_smartphone', 'pct_only_smartphone', 'pct_tablet'],\n",
       "      dtype='object', length=204)"
      ]
     },
     "execution_count": 3,
     "metadata": {},
     "output_type": "execute_result"
    }
   ],
   "source": [
    "training_data.columns"
   ]
  },
  {
   "cell_type": "markdown",
   "id": "7945fbfb",
   "metadata": {},
   "source": [
    "### Modeling"
   ]
  },
  {
   "cell_type": "code",
   "execution_count": 13,
   "id": "f1ad41f6",
   "metadata": {},
   "outputs": [],
   "source": [
    "def regression_results(y_true, y_pred):\n",
    "\n",
    "    # Regression metrics\n",
    "    explained_variance=metrics.explained_variance_score(y_true, y_pred)\n",
    "    mean_absolute_error=metrics.mean_absolute_error(y_true, y_pred) \n",
    "    mse=metrics.mean_squared_error(y_true, y_pred) \n",
    "    median_absolute_error=metrics.median_absolute_error(y_true, y_pred)\n",
    "    r2=metrics.r2_score(y_true, y_pred)\n",
    "\n",
    "    print('explained_variance: ', round(explained_variance,4))    \n",
    "    print('r2: ', round(r2,4))\n",
    "    print('MAE: ', round(mean_absolute_error,4))\n",
    "    print('MSE: ', round(mse,4))\n",
    "    print('RMSE: ', round(np.sqrt(mse),4))"
   ]
  },
  {
   "cell_type": "code",
   "execution_count": 11,
   "id": "f6208acd",
   "metadata": {},
   "outputs": [],
   "source": [
    "poverty_rate_train = np.array(training_data['poverty_rate'])\n",
    "poverty_rate_test = np.array(test_data['poverty_rate'])\n",
    "\n",
    "def poverty_model(train_df, \n",
    "                  test_df, \n",
    "                  variable_list,\n",
    "                  poverty_rate_train = poverty_rate_train,  \n",
    "                  poverty_rate_test = poverty_rate_test):\n",
    "    \n",
    "    #Convert to numpy array\n",
    "    train_variables = np.array(train_df[variable_list])\n",
    "    test_variables = np.array(test_df[variable_list])\n",
    "    \n",
    "    #Fit train and test variables\n",
    "    model = LinearRegression().fit(train_variables, poverty_rate_train)\n",
    "    predicted = model.predict(test_variables)\n",
    "    \n",
    "    #Use regression results function to score the model\n",
    "    regression_results(poverty_rate_test, predicted)\n",
    "    \n",
    "    #Print how important features in the model are\n",
    "    print(\"\\n\")\n",
    "    coefficients = pd.DataFrame()\n",
    "    coefficients['variable'] = variable_list\n",
    "    coefficients['coef'] = model.coef_\n",
    "    coefficients['abs_coef'] = np.absolute(model.coef_)\n",
    "\n",
    "    coefficients.sort_values(by=\"abs_coef\", ascending=False, inplace=True)\n",
    "    \n",
    "    for i in range(len(coefficients)):\n",
    "        print (f\"{coefficients['variable'].iloc[i]}: {coefficients['coef'].iloc[i]}\")\n",
    "    \n",
    "    return True"
   ]
  },
  {
   "cell_type": "code",
   "execution_count": 14,
   "id": "6ba5cca2",
   "metadata": {},
   "outputs": [
    {
     "name": "stdout",
     "output_type": "stream",
     "text": [
      "explained_variance:  0.4262\n",
      "r2:  0.426\n",
      "MAE:  6.0408\n",
      "MSE:  68.7683\n",
      "RMSE:  8.2927\n",
      "\n",
      "\n",
      "pct_internet: -0.6349722279973397\n"
     ]
    },
    {
     "data": {
      "text/plain": [
       "True"
      ]
     },
     "execution_count": 14,
     "metadata": {},
     "output_type": "execute_result"
    }
   ],
   "source": [
    "poverty_model(train_df = training_data,\n",
    "              test_df = test_data, \n",
    "              variable_list = ['pct_internet'])"
   ]
  },
  {
   "cell_type": "code",
   "execution_count": 20,
   "id": "0a56dfdd",
   "metadata": {},
   "outputs": [
    {
     "name": "stdout",
     "output_type": "stream",
     "text": [
      "explained_variance:  0.3044\n",
      "r2:  0.3043\n",
      "MAE:  6.65\n",
      "MSE:  83.3492\n",
      "RMSE:  9.1296\n",
      "\n",
      "\n",
      "pct_pop_hs+: -0.37655998864058987\n"
     ]
    },
    {
     "data": {
      "text/plain": [
       "True"
      ]
     },
     "execution_count": 20,
     "metadata": {},
     "output_type": "execute_result"
    }
   ],
   "source": [
    "poverty_model(train_df = training_data,\n",
    "              test_df = test_data, \n",
    "              variable_list = ['pct_pop_hs+'])"
   ]
  }
 ],
 "metadata": {
  "kernelspec": {
   "display_name": "Python 3 (ipykernel)",
   "language": "python",
   "name": "python3"
  },
  "language_info": {
   "codemirror_mode": {
    "name": "ipython",
    "version": 3
   },
   "file_extension": ".py",
   "mimetype": "text/x-python",
   "name": "python",
   "nbconvert_exporter": "python",
   "pygments_lexer": "ipython3",
   "version": "3.7.10"
  }
 },
 "nbformat": 4,
 "nbformat_minor": 5
}
