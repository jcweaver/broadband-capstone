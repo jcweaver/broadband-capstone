{
 "cells": [
  {
   "cell_type": "code",
   "execution_count": 2,
   "id": "97e6238e",
   "metadata": {},
   "outputs": [],
   "source": [
    "import pandas as pd\n",
    "import numpy as np\n",
    "import sklearn.metrics as metrics\n",
    "from xgboost import XGBRegressor\n",
    "from sklearn.model_selection import RandomizedSearchCV\n"
   ]
  },
  {
   "cell_type": "code",
   "execution_count": 3,
   "id": "31b6b685",
   "metadata": {},
   "outputs": [],
   "source": [
    "training_data = pd.read_csv('/home/ec2-user/capstone/broadband-capstone/data/current_data/train_3.csv')\n",
    "test_data = pd.read_csv('/home/ec2-user/capstone/broadband-capstone/data/current_data/test_3.csv')"
   ]
  },
  {
   "cell_type": "markdown",
   "id": "94be5b44",
   "metadata": {},
   "source": [
    "### Modeling"
   ]
  },
  {
   "cell_type": "code",
   "execution_count": 4,
   "id": "76af7fb0",
   "metadata": {},
   "outputs": [],
   "source": [
    "def regression_results(y_true, y_pred):\n",
    "\n",
    "    # Regression metrics\n",
    "    explained_variance=metrics.explained_variance_score(y_true, y_pred)\n",
    "    mean_absolute_error=metrics.mean_absolute_error(y_true, y_pred) \n",
    "    mse=metrics.mean_squared_error(y_true, y_pred) \n",
    "    median_absolute_error=metrics.median_absolute_error(y_true, y_pred)\n",
    "    r2=metrics.r2_score(y_true, y_pred)\n",
    "\n",
    "    print('explained_variance: ', round(explained_variance,4))    \n",
    "    print('r2: ', round(r2,4))\n",
    "    print('MAE: ', round(mean_absolute_error,4))\n",
    "    print('MSE: ', round(mse,4))\n",
    "    print('RMSE: ', round(np.sqrt(mse),4))"
   ]
  },
  {
   "cell_type": "code",
   "execution_count": 5,
   "id": "e61626cb",
   "metadata": {},
   "outputs": [],
   "source": [
    "poverty_rate_train = np.array(training_data['poverty_rate'])\n",
    "poverty_rate_test = np.array(test_data['poverty_rate'])\n",
    "\n",
    "def poverty_XGBoost_model(train_df, \n",
    "                          test_df, \n",
    "                          variable_list,\n",
    "                          poverty_rate_train = poverty_rate_train,  \n",
    "                          poverty_rate_test = poverty_rate_test):\n",
    "    train_variables = np.array(train_df[variable_list])\n",
    "    test_variables = np.array(test_df[variable_list])\n",
    "    \n",
    "    model = XGBRegressor().fit(train_variables, poverty_rate_train)\n",
    "    predicted = model.predict(test_variables)\n",
    "    \n",
    "    regression_results(poverty_rate_test, predicted)\n",
    "    \n",
    "    return pd.DataFrame(model.feature_importances_, \n",
    "                        index = variable_list).sort_values(by=0, ascending = False)\n"
   ]
  },
  {
   "cell_type": "code",
   "execution_count": 6,
   "id": "33e50ba6",
   "metadata": {},
   "outputs": [],
   "source": [
    "def XGBoost_with_tuning(variable_list):\n",
    "    #With tuning\n",
    "    regressor = XGBRegressor(n_estimators = 500, max_depth = 3, learning_rate = 0.05, colsample_bytree = 0.7)\n",
    "    regressor.fit(training_data[variable_list],  np.array(training_data['poverty_rate']))\n",
    "    predictions = regressor.predict(test_data[variable_list])\n",
    "    regression_results(np.array(test_data['poverty_rate']), predictions)\n",
    "    return pd.DataFrame(regressor.feature_importances_, \n",
    "                        index = variable_list).sort_values(by=0, ascending = False)"
   ]
  },
  {
   "cell_type": "markdown",
   "id": "50250a5f",
   "metadata": {},
   "source": [
    "#### Only key broadband variables"
   ]
  },
  {
   "cell_type": "code",
   "execution_count": 7,
   "id": "3c297329",
   "metadata": {},
   "outputs": [],
   "source": [
    "key_vars_1 = ['pct_internet', \n",
    "            'pct_only_cellular', \n",
    "            'pct_computing_device_no_internet', \n",
    "            'pct_internet_broadband_satellite', \n",
    "            'pct_computing_device_with_broadband']\n"
   ]
  },
  {
   "cell_type": "code",
   "execution_count": 9,
   "id": "40079250",
   "metadata": {},
   "outputs": [
    {
     "name": "stdout",
     "output_type": "stream",
     "text": [
      "explained_variance:  0.5047\n",
      "r2:  0.5045\n",
      "MAE:  5.5325\n",
      "MSE:  59.3627\n",
      "RMSE:  7.7047\n"
     ]
    },
    {
     "data": {
      "text/html": [
       "<div>\n",
       "<style scoped>\n",
       "    .dataframe tbody tr th:only-of-type {\n",
       "        vertical-align: middle;\n",
       "    }\n",
       "\n",
       "    .dataframe tbody tr th {\n",
       "        vertical-align: top;\n",
       "    }\n",
       "\n",
       "    .dataframe thead th {\n",
       "        text-align: right;\n",
       "    }\n",
       "</style>\n",
       "<table border=\"1\" class=\"dataframe\">\n",
       "  <thead>\n",
       "    <tr style=\"text-align: right;\">\n",
       "      <th></th>\n",
       "      <th>0</th>\n",
       "    </tr>\n",
       "  </thead>\n",
       "  <tbody>\n",
       "    <tr>\n",
       "      <th>pct_computing_device_with_broadband</th>\n",
       "      <td>0.544968</td>\n",
       "    </tr>\n",
       "    <tr>\n",
       "      <th>pct_internet</th>\n",
       "      <td>0.223466</td>\n",
       "    </tr>\n",
       "    <tr>\n",
       "      <th>pct_internet_broadband_satellite</th>\n",
       "      <td>0.094002</td>\n",
       "    </tr>\n",
       "    <tr>\n",
       "      <th>pct_only_cellular</th>\n",
       "      <td>0.090538</td>\n",
       "    </tr>\n",
       "    <tr>\n",
       "      <th>pct_computing_device_no_internet</th>\n",
       "      <td>0.047026</td>\n",
       "    </tr>\n",
       "  </tbody>\n",
       "</table>\n",
       "</div>"
      ],
      "text/plain": [
       "                                            0\n",
       "pct_computing_device_with_broadband  0.544968\n",
       "pct_internet                         0.223466\n",
       "pct_internet_broadband_satellite     0.094002\n",
       "pct_only_cellular                    0.090538\n",
       "pct_computing_device_no_internet     0.047026"
      ]
     },
     "execution_count": 9,
     "metadata": {},
     "output_type": "execute_result"
    }
   ],
   "source": [
    "#Without tuning\n",
    "poverty_XGBoost_model(training_data, test_data, key_vars_1)"
   ]
  },
  {
   "cell_type": "code",
   "execution_count": 10,
   "id": "20a8bb13",
   "metadata": {},
   "outputs": [
    {
     "name": "stdout",
     "output_type": "stream",
     "text": [
      "explained_variance:  0.5162\n",
      "r2:  0.5161\n",
      "MAE:  5.4838\n",
      "MSE:  57.9784\n",
      "RMSE:  7.6144\n"
     ]
    }
   ],
   "source": [
    "#With tuning\n",
    "regressor = XGBRegressor(n_estimators = 500, max_depth = 3, learning_rate = 0.05, colsample_bytree = 0.7)\n",
    "regressor.fit(training_data[key_vars_1],  np.array(training_data['poverty_rate']))\n",
    "predictions = regressor.predict(test_data[key_vars_1])\n",
    "regression_results(np.array(test_data['poverty_rate']), predictions)\n"
   ]
  },
  {
   "cell_type": "markdown",
   "id": "c553c9f4",
   "metadata": {},
   "source": [
    "#### Broadband variable set 2"
   ]
  },
  {
   "cell_type": "code",
   "execution_count": 8,
   "id": "33da4baa",
   "metadata": {},
   "outputs": [],
   "source": [
    "key_vars_2 = ['Ookla Median Download Speed (Mbps)', \n",
    "            'pct_internet', \n",
    "            'Wired_Provider_Count', \n",
    "            'pct_computing_device', \n",
    "            'pct_internet_broadband_any_type']\n",
    "\n"
   ]
  },
  {
   "cell_type": "code",
   "execution_count": 16,
   "id": "0a387652",
   "metadata": {},
   "outputs": [
    {
     "name": "stdout",
     "output_type": "stream",
     "text": [
      "explained_variance:  0.4573\n",
      "r2:  0.4572\n",
      "MAE:  5.8395\n",
      "MSE:  65.0312\n",
      "RMSE:  8.0642\n"
     ]
    }
   ],
   "source": [
    "#With tuning\n",
    "regressor = XGBRegressor(n_estimators = 500, max_depth = 3, learning_rate = 0.05, colsample_bytree = 0.7)\n",
    "regressor.fit(training_data[key_vars_2],  np.array(training_data['poverty_rate']))\n",
    "predictions = regressor.predict(test_data[key_vars_2])\n",
    "regression_results(np.array(test_data['poverty_rate']), predictions)\n"
   ]
  },
  {
   "cell_type": "markdown",
   "id": "0879a54b",
   "metadata": {},
   "source": [
    "#### Broadband variable set 1 and 2"
   ]
  },
  {
   "cell_type": "code",
   "execution_count": 9,
   "id": "3018f344",
   "metadata": {},
   "outputs": [],
   "source": [
    "key_vars_3 = list(set(key_vars_1+key_vars_2))"
   ]
  },
  {
   "cell_type": "code",
   "execution_count": 11,
   "id": "e17a4932",
   "metadata": {},
   "outputs": [
    {
     "name": "stdout",
     "output_type": "stream",
     "text": [
      "explained_variance:  0.5335\n",
      "r2:  0.5333\n",
      "MAE:  5.3803\n",
      "MSE:  55.9084\n",
      "RMSE:  7.4772\n"
     ]
    }
   ],
   "source": [
    "#With tuning\n",
    "regressor = XGBRegressor(n_estimators = 500, max_depth = 3, learning_rate = 0.05, colsample_bytree = 0.7)\n",
    "regressor.fit(training_data[key_vars_3],  np.array(training_data['poverty_rate']))\n",
    "predictions = regressor.predict(test_data[key_vars_3])\n",
    "regression_results(np.array(test_data['poverty_rate']), predictions)\n"
   ]
  },
  {
   "cell_type": "markdown",
   "id": "47434ebf",
   "metadata": {},
   "source": [
    "#### Highest feature importance vars "
   ]
  },
  {
   "cell_type": "markdown",
   "id": "aad72eb1",
   "metadata": {},
   "source": [
    "Vars are from 'SE_XGBoost_PovertyRate'"
   ]
  },
  {
   "cell_type": "code",
   "execution_count": 10,
   "id": "cba3f6c4",
   "metadata": {},
   "outputs": [],
   "source": [
    "highest_imporance_vars = ['Primary RUCA Code - 1.0',\n",
    "                          'Secondary RUCA Code - 1.0',\n",
    "                          'pct_internet_broadband_any_type',\n",
    "                          'pct_internet',\n",
    "                          'Secondary RUCA Code - 4.0']"
   ]
  },
  {
   "cell_type": "code",
   "execution_count": 45,
   "id": "f7ffc6a1",
   "metadata": {
    "scrolled": false
   },
   "outputs": [
    {
     "name": "stdout",
     "output_type": "stream",
     "text": [
      "explained_variance:  0.4784\n",
      "r2:  0.4783\n",
      "MAE:  5.7227\n",
      "MSE:  62.5071\n",
      "RMSE:  7.9061\n"
     ]
    }
   ],
   "source": [
    "highest_importance_feature_importance = XGBoost_with_tuning(highest_imporance_vars)"
   ]
  },
  {
   "cell_type": "code",
   "execution_count": 46,
   "id": "4b1ae740",
   "metadata": {},
   "outputs": [
    {
     "data": {
      "text/plain": [
       "<AxesSubplot:>"
      ]
     },
     "execution_count": 46,
     "metadata": {},
     "output_type": "execute_result"
    },
    {
     "data": {
      "image/png": "[encoded data removed]",
      "text/plain": [
       "<Figure size 432x288 with 1 Axes>"
      ]
     },
     "metadata": {
      "needs_background": "light"
     },
     "output_type": "display_data"
    }
   ],
   "source": [
    "highest_importance_feature_importance.head(8).plot.barh()"
   ]
  },
  {
   "cell_type": "markdown",
   "id": "bfd809f6",
   "metadata": {},
   "source": [
    "#### Covariates"
   ]
  },
  {
   "cell_type": "code",
   "execution_count": 12,
   "id": "47c60883",
   "metadata": {},
   "outputs": [],
   "source": [
    "covariates = ['pct_hisp_latino', \n",
    "              'ruca_metro', \n",
    "              'ruca_micro', \n",
    "              'ruca_small_town', \n",
    "              'ruca_rural', \n",
    "              'pct_pop_foreign_born', \n",
    "              'pct_pop_disability']\n"
   ]
  },
  {
   "cell_type": "code",
   "execution_count": 23,
   "id": "7bf0a363",
   "metadata": {},
   "outputs": [
    {
     "name": "stdout",
     "output_type": "stream",
     "text": [
      "explained_variance:  0.2786\n",
      "r2:  0.2784\n",
      "MAE:  6.6696\n",
      "MSE:  86.4495\n",
      "RMSE:  9.2978\n"
     ]
    }
   ],
   "source": [
    "covariates_feature_importance = XGBoost_with_tuning(covariates)"
   ]
  },
  {
   "cell_type": "markdown",
   "id": "e6aab19d",
   "metadata": {},
   "source": [
    "#### Covariates, key vars, and highest importance vars"
   ]
  },
  {
   "cell_type": "code",
   "execution_count": 13,
   "id": "e8d1cd20",
   "metadata": {},
   "outputs": [],
   "source": [
    "set1 = list(set(covariates + key_vars_1 + highest_imporance_vars))"
   ]
  },
  {
   "cell_type": "code",
   "execution_count": 48,
   "id": "20184ac8",
   "metadata": {},
   "outputs": [
    {
     "name": "stdout",
     "output_type": "stream",
     "text": [
      "explained_variance:  0.5722\n",
      "r2:  0.5721\n",
      "MAE:  5.0841\n",
      "MSE:  51.2644\n",
      "RMSE:  7.1599\n"
     ]
    }
   ],
   "source": [
    "combinations_feature_importance = XGBoost_with_tuning(set1)"
   ]
  },
  {
   "cell_type": "code",
   "execution_count": 49,
   "id": "8862f92d",
   "metadata": {},
   "outputs": [
    {
     "data": {
      "text/plain": [
       "<AxesSubplot:>"
      ]
     },
     "execution_count": 49,
     "metadata": {},
     "output_type": "execute_result"
    },
    {
     "data": {
      "image/png": "[encoded data removed]",
      "text/plain": [
       "<Figure size 432x288 with 1 Axes>"
      ]
     },
     "metadata": {
      "needs_background": "light"
     },
     "output_type": "display_data"
    }
   ],
   "source": [
    "combinations_feature_importance.plot.barh()"
   ]
  },
  {
   "cell_type": "markdown",
   "id": "62601c8e",
   "metadata": {},
   "source": [
    "#### Highest feature importance variables and highest broadband feature importance variables"
   ]
  },
  {
   "cell_type": "code",
   "execution_count": 14,
   "id": "d33a37d4",
   "metadata": {},
   "outputs": [],
   "source": [
    "highest_broadband_feature_importance = ['pct_desktop_or_laptop', \n",
    "                                        'pct_tablet',\n",
    "                                        'log_median_income_over_log_median_house',\n",
    "                                        'pct_computing_device_no_internet', \n",
    "                                        'pct_internet_no_subscrp',\n",
    "                                        'Crown_Castle_present', \n",
    "                                        'pct_computing_device_with_dialup']"
   ]
  },
  {
   "cell_type": "code",
   "execution_count": 15,
   "id": "8e1f7c40",
   "metadata": {},
   "outputs": [],
   "source": [
    "highest_importance_vars = highest_broadband_feature_importance + highest_imporance_vars"
   ]
  },
  {
   "cell_type": "code",
   "execution_count": 17,
   "id": "e1103691",
   "metadata": {},
   "outputs": [
    {
     "name": "stdout",
     "output_type": "stream",
     "text": [
      "explained_variance:  0.6254\n",
      "r2:  0.6254\n",
      "MAE:  4.8262\n",
      "MSE:  44.8847\n",
      "RMSE:  6.6996\n"
     ]
    }
   ],
   "source": [
    "highest_importance_vars_importances = XGBoost_with_tuning(highest_importance_vars)"
   ]
  },
  {
   "cell_type": "code",
   "execution_count": 18,
   "id": "f7b6844e",
   "metadata": {},
   "outputs": [
    {
     "data": {
      "text/html": [
       "<div>\n",
       "<style scoped>\n",
       "    .dataframe tbody tr th:only-of-type {\n",
       "        vertical-align: middle;\n",
       "    }\n",
       "\n",
       "    .dataframe tbody tr th {\n",
       "        vertical-align: top;\n",
       "    }\n",
       "\n",
       "    .dataframe thead th {\n",
       "        text-align: right;\n",
       "    }\n",
       "</style>\n",
       "<table border=\"1\" class=\"dataframe\">\n",
       "  <thead>\n",
       "    <tr style=\"text-align: right;\">\n",
       "      <th></th>\n",
       "      <th>0</th>\n",
       "    </tr>\n",
       "  </thead>\n",
       "  <tbody>\n",
       "    <tr>\n",
       "      <th>pct_desktop_or_laptop</th>\n",
       "      <td>0.255292</td>\n",
       "    </tr>\n",
       "    <tr>\n",
       "      <th>pct_tablet</th>\n",
       "      <td>0.144123</td>\n",
       "    </tr>\n",
       "    <tr>\n",
       "      <th>Primary RUCA Code - 1.0</th>\n",
       "      <td>0.131437</td>\n",
       "    </tr>\n",
       "    <tr>\n",
       "      <th>pct_internet</th>\n",
       "      <td>0.128849</td>\n",
       "    </tr>\n",
       "    <tr>\n",
       "      <th>Secondary RUCA Code - 1.0</th>\n",
       "      <td>0.101903</td>\n",
       "    </tr>\n",
       "    <tr>\n",
       "      <th>pct_internet_broadband_any_type</th>\n",
       "      <td>0.058120</td>\n",
       "    </tr>\n",
       "    <tr>\n",
       "      <th>pct_computing_device_no_internet</th>\n",
       "      <td>0.050473</td>\n",
       "    </tr>\n",
       "    <tr>\n",
       "      <th>log_median_income_over_log_median_house</th>\n",
       "      <td>0.043973</td>\n",
       "    </tr>\n",
       "    <tr>\n",
       "      <th>Secondary RUCA Code - 4.0</th>\n",
       "      <td>0.041874</td>\n",
       "    </tr>\n",
       "    <tr>\n",
       "      <th>pct_internet_no_subscrp</th>\n",
       "      <td>0.016022</td>\n",
       "    </tr>\n",
       "    <tr>\n",
       "      <th>Crown_Castle_present</th>\n",
       "      <td>0.014526</td>\n",
       "    </tr>\n",
       "    <tr>\n",
       "      <th>pct_computing_device_with_dialup</th>\n",
       "      <td>0.013409</td>\n",
       "    </tr>\n",
       "  </tbody>\n",
       "</table>\n",
       "</div>"
      ],
      "text/plain": [
       "                                                0\n",
       "pct_desktop_or_laptop                    0.255292\n",
       "pct_tablet                               0.144123\n",
       "Primary RUCA Code - 1.0                  0.131437\n",
       "pct_internet                             0.128849\n",
       "Secondary RUCA Code - 1.0                0.101903\n",
       "pct_internet_broadband_any_type          0.058120\n",
       "pct_computing_device_no_internet         0.050473\n",
       "log_median_income_over_log_median_house  0.043973\n",
       "Secondary RUCA Code - 4.0                0.041874\n",
       "pct_internet_no_subscrp                  0.016022\n",
       "Crown_Castle_present                     0.014526\n",
       "pct_computing_device_with_dialup         0.013409"
      ]
     },
     "execution_count": 18,
     "metadata": {},
     "output_type": "execute_result"
    }
   ],
   "source": [
    "highest_importance_vars_importances"
   ]
  },
  {
   "cell_type": "markdown",
   "id": "08a9614d",
   "metadata": {},
   "source": [
    "#### Broadband set 1 + highest importance vars and highest broadband feature importance vars"
   ]
  },
  {
   "cell_type": "code",
   "execution_count": 21,
   "id": "cc43f79d",
   "metadata": {},
   "outputs": [],
   "source": [
    "high_importance_vars_and_key_vars_1 = list(set(highest_broadband_feature_importance + highest_imporance_vars + key_vars_1))"
   ]
  },
  {
   "cell_type": "code",
   "execution_count": 22,
   "id": "27e992b8",
   "metadata": {},
   "outputs": [
    {
     "name": "stdout",
     "output_type": "stream",
     "text": [
      "explained_variance:  0.6318\n",
      "r2:  0.6317\n",
      "MAE:  4.7823\n",
      "MSE:  44.1191\n",
      "RMSE:  6.6422\n"
     ]
    },
    {
     "data": {
      "text/html": [
       "<div>\n",
       "<style scoped>\n",
       "    .dataframe tbody tr th:only-of-type {\n",
       "        vertical-align: middle;\n",
       "    }\n",
       "\n",
       "    .dataframe tbody tr th {\n",
       "        vertical-align: top;\n",
       "    }\n",
       "\n",
       "    .dataframe thead th {\n",
       "        text-align: right;\n",
       "    }\n",
       "</style>\n",
       "<table border=\"1\" class=\"dataframe\">\n",
       "  <thead>\n",
       "    <tr style=\"text-align: right;\">\n",
       "      <th></th>\n",
       "      <th>0</th>\n",
       "    </tr>\n",
       "  </thead>\n",
       "  <tbody>\n",
       "    <tr>\n",
       "      <th>pct_desktop_or_laptop</th>\n",
       "      <td>0.341342</td>\n",
       "    </tr>\n",
       "    <tr>\n",
       "      <th>pct_tablet</th>\n",
       "      <td>0.111373</td>\n",
       "    </tr>\n",
       "    <tr>\n",
       "      <th>Primary RUCA Code - 1.0</th>\n",
       "      <td>0.109222</td>\n",
       "    </tr>\n",
       "    <tr>\n",
       "      <th>Secondary RUCA Code - 1.0</th>\n",
       "      <td>0.082498</td>\n",
       "    </tr>\n",
       "    <tr>\n",
       "      <th>pct_computing_device_with_broadband</th>\n",
       "      <td>0.079644</td>\n",
       "    </tr>\n",
       "    <tr>\n",
       "      <th>pct_internet</th>\n",
       "      <td>0.055179</td>\n",
       "    </tr>\n",
       "    <tr>\n",
       "      <th>pct_computing_device_no_internet</th>\n",
       "      <td>0.048378</td>\n",
       "    </tr>\n",
       "    <tr>\n",
       "      <th>log_median_income_over_log_median_house</th>\n",
       "      <td>0.042379</td>\n",
       "    </tr>\n",
       "    <tr>\n",
       "      <th>Secondary RUCA Code - 4.0</th>\n",
       "      <td>0.033552</td>\n",
       "    </tr>\n",
       "    <tr>\n",
       "      <th>pct_internet_broadband_satellite</th>\n",
       "      <td>0.019478</td>\n",
       "    </tr>\n",
       "    <tr>\n",
       "      <th>pct_internet_broadband_any_type</th>\n",
       "      <td>0.018097</td>\n",
       "    </tr>\n",
       "    <tr>\n",
       "      <th>pct_only_cellular</th>\n",
       "      <td>0.017933</td>\n",
       "    </tr>\n",
       "    <tr>\n",
       "      <th>pct_internet_no_subscrp</th>\n",
       "      <td>0.016897</td>\n",
       "    </tr>\n",
       "    <tr>\n",
       "      <th>Crown_Castle_present</th>\n",
       "      <td>0.012852</td>\n",
       "    </tr>\n",
       "    <tr>\n",
       "      <th>pct_computing_device_with_dialup</th>\n",
       "      <td>0.011177</td>\n",
       "    </tr>\n",
       "  </tbody>\n",
       "</table>\n",
       "</div>"
      ],
      "text/plain": [
       "                                                0\n",
       "pct_desktop_or_laptop                    0.341342\n",
       "pct_tablet                               0.111373\n",
       "Primary RUCA Code - 1.0                  0.109222\n",
       "Secondary RUCA Code - 1.0                0.082498\n",
       "pct_computing_device_with_broadband      0.079644\n",
       "pct_internet                             0.055179\n",
       "pct_computing_device_no_internet         0.048378\n",
       "log_median_income_over_log_median_house  0.042379\n",
       "Secondary RUCA Code - 4.0                0.033552\n",
       "pct_internet_broadband_satellite         0.019478\n",
       "pct_internet_broadband_any_type          0.018097\n",
       "pct_only_cellular                        0.017933\n",
       "pct_internet_no_subscrp                  0.016897\n",
       "Crown_Castle_present                     0.012852\n",
       "pct_computing_device_with_dialup         0.011177"
      ]
     },
     "execution_count": 22,
     "metadata": {},
     "output_type": "execute_result"
    }
   ],
   "source": [
    "XGBoost_with_tuning(high_importance_vars_and_key_vars_1)"
   ]
  },
  {
   "cell_type": "markdown",
   "id": "9e6c59f5",
   "metadata": {},
   "source": [
    "#### Broadband set 2 + highest importance vars and highest broadband feature importance vars"
   ]
  },
  {
   "cell_type": "code",
   "execution_count": 23,
   "id": "4274d2c1",
   "metadata": {},
   "outputs": [],
   "source": [
    "high_importance_vars_and_key_vars_2 = list(set(highest_broadband_feature_importance + highest_imporance_vars + key_vars_2))\n",
    "\n"
   ]
  },
  {
   "cell_type": "code",
   "execution_count": null,
   "id": "dbe6b7ad",
   "metadata": {},
   "outputs": [],
   "source": [
    "XGBoost_with_tuning(high_importance_vars_and_key_vars_2)"
   ]
  },
  {
   "cell_type": "code",
   "execution_count": null,
   "id": "dc8d95b7",
   "metadata": {},
   "outputs": [],
   "source": []
  }
 ],
 "metadata": {
  "kernelspec": {
   "display_name": "Python 3 (ipykernel)",
   "language": "python",
   "name": "python3"
  },
  "language_info": {
   "codemirror_mode": {
    "name": "ipython",
    "version": 3
   },
   "file_extension": ".py",
   "mimetype": "text/x-python",
   "name": "python",
   "nbconvert_exporter": "python",
   "pygments_lexer": "ipython3",
   "version": "3.7.10"
  }
 },
 "nbformat": 4,
 "nbformat_minor": 5
}
