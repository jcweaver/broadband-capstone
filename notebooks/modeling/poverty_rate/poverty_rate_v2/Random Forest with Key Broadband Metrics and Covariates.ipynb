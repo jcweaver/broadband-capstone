{
 "cells": [
  {
   "cell_type": "code",
   "execution_count": 5,
   "id": "cca3b53e",
   "metadata": {},
   "outputs": [],
   "source": [
    "import pandas as pd\n",
    "import numpy as np\n",
    "import pickle\n",
    "\n",
    "from sklearn.ensemble import RandomForestRegressor\n",
    "import sklearn.metrics as metrics\n",
    "from pprint import pprint\n",
    "from sklearn.model_selection import RandomizedSearchCV\n",
    "from sklearn import tree\n",
    "from dtreeviz.trees import dtreeviz # will be used for tree visualization\n",
    "from matplotlib import pyplot as plt\n",
    "plt.rcParams.update({'figure.figsize': (12.0, 8.0)})\n",
    "plt.rcParams.update({'font.size': 14})\n"
   ]
  },
  {
   "cell_type": "code",
   "execution_count": 28,
   "id": "f0e2f04f",
   "metadata": {},
   "outputs": [],
   "source": [
    "training_data = pd.read_csv('/home/ec2-user/capstone/broadband-capstone/data/current_data/train_3.csv')\n",
    "test_data = pd.read_csv('/home/ec2-user/capstone/broadband-capstone/data/current_data/test_3.csv')"
   ]
  },
  {
   "cell_type": "markdown",
   "id": "5f693d17",
   "metadata": {},
   "source": [
    "### Modeling"
   ]
  },
  {
   "cell_type": "code",
   "execution_count": 3,
   "id": "0fb2e7f1",
   "metadata": {},
   "outputs": [],
   "source": [
    "def regression_results(y_true, y_pred):\n",
    "\n",
    "    # Regression metrics\n",
    "    explained_variance=metrics.explained_variance_score(y_true, y_pred)\n",
    "    mean_absolute_error=metrics.mean_absolute_error(y_true, y_pred) \n",
    "    mse=metrics.mean_squared_error(y_true, y_pred) \n",
    "    median_absolute_error=metrics.median_absolute_error(y_true, y_pred)\n",
    "    r2=metrics.r2_score(y_true, y_pred)\n",
    "\n",
    "    print('explained_variance: ', round(explained_variance,4))    \n",
    "    print('r2: ', round(r2,4))\n",
    "    print('MAE: ', round(mean_absolute_error,4))\n",
    "    print('MSE: ', round(mse,4))\n",
    "    print('RMSE: ', round(np.sqrt(mse),4))"
   ]
  },
  {
   "cell_type": "code",
   "execution_count": 4,
   "id": "3585b17e",
   "metadata": {},
   "outputs": [],
   "source": [
    "poverty_rate_train = np.array(training_data['poverty_rate'])\n",
    "poverty_rate_test = np.array(test_data['poverty_rate'])\n",
    "\n",
    "def poverty_rf_model(train_df, \n",
    "                     test_df, \n",
    "                     variable_list,\n",
    "                     poverty_rate_train = poverty_rate_train,  \n",
    "                     poverty_rate_test = poverty_rate_test):\n",
    "    train_variables = np.array(train_df[variable_list])\n",
    "    test_variables = np.array(test_df[variable_list])\n",
    "    \n",
    "    model = RandomForestRegressor(n_estimators = 100, random_state = 42).fit(train_variables, poverty_rate_train)\n",
    "    predicted = model.predict(test_variables)\n",
    "    \n",
    "    regression_results(poverty_rate_test, predicted)\n",
    "    return pd.DataFrame(model.feature_importances_, index = variable_list).sort_values(by=0,ascending = False)\n"
   ]
  },
  {
   "cell_type": "code",
   "execution_count": 5,
   "id": "8b1f8eec",
   "metadata": {},
   "outputs": [],
   "source": [
    "def random_forest_with_tuning(variable_list, feature_importance=True):\n",
    "    #With tuning\n",
    "    regressor = RandomForestRegressor(n_estimators = 1000, \n",
    "                                      min_samples_split = 10, \n",
    "                                      min_samples_leaf = 2, \n",
    "                                      max_features = 'auto',\n",
    "                                      max_depth = 10,\n",
    "                                      bootstrap = True)\n",
    "\n",
    "    regressor.fit(training_data[variable_list],  np.array(training_data['poverty_rate']))\n",
    "    predictions = regressor.predict(test_data[variable_list])\n",
    "    regression_results(np.array(test_data['poverty_rate']), predictions)\n",
    "    \n",
    "    if feature_importance:\n",
    "        return pd.DataFrame(regressor.feature_importances_, index = variable_list).sort_values(by=0,ascending = False)\n",
    "    else:\n",
    "        return regressor\n"
   ]
  },
  {
   "cell_type": "markdown",
   "id": "7639e5f7",
   "metadata": {},
   "source": [
    "#### Only key broadband variables"
   ]
  },
  {
   "cell_type": "code",
   "execution_count": 7,
   "id": "18de5309",
   "metadata": {},
   "outputs": [],
   "source": [
    "key_vars = ['pct_internet', \n",
    "            'pct_only_cellular', \n",
    "            'pct_computing_device_no_internet', \n",
    "            'pct_internet_broadband_satellite', \n",
    "            'pct_computing_device_with_broadband']\n"
   ]
  },
  {
   "cell_type": "code",
   "execution_count": 15,
   "id": "7af5d662",
   "metadata": {},
   "outputs": [
    {
     "name": "stdout",
     "output_type": "stream",
     "text": [
      "explained_variance:  0.4911\n",
      "r2:  0.4903\n",
      "MAE:  5.6872\n",
      "MSE:  61.065\n",
      "RMSE:  7.8144\n"
     ]
    },
    {
     "data": {
      "text/html": [
       "<div>\n",
       "<style scoped>\n",
       "    .dataframe tbody tr th:only-of-type {\n",
       "        vertical-align: middle;\n",
       "    }\n",
       "\n",
       "    .dataframe tbody tr th {\n",
       "        vertical-align: top;\n",
       "    }\n",
       "\n",
       "    .dataframe thead th {\n",
       "        text-align: right;\n",
       "    }\n",
       "</style>\n",
       "<table border=\"1\" class=\"dataframe\">\n",
       "  <thead>\n",
       "    <tr style=\"text-align: right;\">\n",
       "      <th></th>\n",
       "      <th>0</th>\n",
       "    </tr>\n",
       "  </thead>\n",
       "  <tbody>\n",
       "    <tr>\n",
       "      <th>pct_computing_device_with_broadband</th>\n",
       "      <td>0.307379</td>\n",
       "    </tr>\n",
       "    <tr>\n",
       "      <th>pct_internet</th>\n",
       "      <td>0.296803</td>\n",
       "    </tr>\n",
       "    <tr>\n",
       "      <th>pct_only_cellular</th>\n",
       "      <td>0.146818</td>\n",
       "    </tr>\n",
       "    <tr>\n",
       "      <th>pct_internet_broadband_satellite</th>\n",
       "      <td>0.137759</td>\n",
       "    </tr>\n",
       "    <tr>\n",
       "      <th>pct_computing_device_no_internet</th>\n",
       "      <td>0.111240</td>\n",
       "    </tr>\n",
       "  </tbody>\n",
       "</table>\n",
       "</div>"
      ],
      "text/plain": [
       "                                            0\n",
       "pct_computing_device_with_broadband  0.307379\n",
       "pct_internet                         0.296803\n",
       "pct_only_cellular                    0.146818\n",
       "pct_internet_broadband_satellite     0.137759\n",
       "pct_computing_device_no_internet     0.111240"
      ]
     },
     "execution_count": 15,
     "metadata": {},
     "output_type": "execute_result"
    }
   ],
   "source": [
    "#Without tuning\n",
    "poverty_rf_model(training_data, test_data, key_vars)"
   ]
  },
  {
   "cell_type": "code",
   "execution_count": 17,
   "id": "1447b593",
   "metadata": {},
   "outputs": [
    {
     "name": "stdout",
     "output_type": "stream",
     "text": [
      "explained_variance:  0.5177\n",
      "r2:  0.5176\n",
      "MAE:  5.4917\n",
      "MSE:  57.7992\n",
      "RMSE:  7.6026\n"
     ]
    }
   ],
   "source": [
    "#Using tuning from last random forest notebook\n",
    "regressor = RandomForestRegressor(n_estimators = 1000, \n",
    "                                  min_samples_split = 10, \n",
    "                                  min_samples_leaf = 2, \n",
    "                                  max_features = 'auto',\n",
    "                                  max_depth = 10,\n",
    "                                  bootstrap = True)\n",
    "\n",
    "regressor.fit(training_data[key_vars],  np.array(training_data['poverty_rate']))\n",
    "predictions = regressor.predict(test_data[key_vars])\n",
    "regression_results(np.array(test_data['poverty_rate']), predictions)"
   ]
  },
  {
   "cell_type": "markdown",
   "id": "6f01d7eb",
   "metadata": {},
   "source": [
    "#### Broadband variable set 2"
   ]
  },
  {
   "cell_type": "code",
   "execution_count": 8,
   "id": "b26172e0",
   "metadata": {},
   "outputs": [],
   "source": [
    "key_vars_2 = ['Ookla Median Download Speed (Mbps)', \n",
    "            'pct_internet', \n",
    "            'Wired_Provider_Count', \n",
    "            'pct_computing_device', \n",
    "            'pct_internet_broadband_any_type']\n",
    "\n"
   ]
  },
  {
   "cell_type": "code",
   "execution_count": 10,
   "id": "be5e23c9",
   "metadata": {},
   "outputs": [
    {
     "name": "stdout",
     "output_type": "stream",
     "text": [
      "explained_variance:  0.4585\n",
      "r2:  0.4584\n",
      "MAE:  5.8323\n",
      "MSE:  64.8904\n",
      "RMSE:  8.0555\n"
     ]
    },
    {
     "data": {
      "text/html": [
       "<div>\n",
       "<style scoped>\n",
       "    .dataframe tbody tr th:only-of-type {\n",
       "        vertical-align: middle;\n",
       "    }\n",
       "\n",
       "    .dataframe tbody tr th {\n",
       "        vertical-align: top;\n",
       "    }\n",
       "\n",
       "    .dataframe thead th {\n",
       "        text-align: right;\n",
       "    }\n",
       "</style>\n",
       "<table border=\"1\" class=\"dataframe\">\n",
       "  <thead>\n",
       "    <tr style=\"text-align: right;\">\n",
       "      <th></th>\n",
       "      <th>0</th>\n",
       "    </tr>\n",
       "  </thead>\n",
       "  <tbody>\n",
       "    <tr>\n",
       "      <th>pct_internet</th>\n",
       "      <td>0.829212</td>\n",
       "    </tr>\n",
       "    <tr>\n",
       "      <th>Ookla Median Download Speed (Mbps)</th>\n",
       "      <td>0.079720</td>\n",
       "    </tr>\n",
       "    <tr>\n",
       "      <th>pct_computing_device</th>\n",
       "      <td>0.048627</td>\n",
       "    </tr>\n",
       "    <tr>\n",
       "      <th>pct_internet_broadband_any_type</th>\n",
       "      <td>0.032151</td>\n",
       "    </tr>\n",
       "    <tr>\n",
       "      <th>Wired_Provider_Count</th>\n",
       "      <td>0.010290</td>\n",
       "    </tr>\n",
       "  </tbody>\n",
       "</table>\n",
       "</div>"
      ],
      "text/plain": [
       "                                           0\n",
       "pct_internet                        0.829212\n",
       "Ookla Median Download Speed (Mbps)  0.079720\n",
       "pct_computing_device                0.048627\n",
       "pct_internet_broadband_any_type     0.032151\n",
       "Wired_Provider_Count                0.010290"
      ]
     },
     "execution_count": 10,
     "metadata": {},
     "output_type": "execute_result"
    }
   ],
   "source": [
    "random_forest_with_tuning(key_vars_2)"
   ]
  },
  {
   "cell_type": "markdown",
   "id": "ab7a42cf",
   "metadata": {},
   "source": [
    "#### Broadband variables set 1 + set 2"
   ]
  },
  {
   "cell_type": "code",
   "execution_count": 9,
   "id": "199e832e",
   "metadata": {},
   "outputs": [],
   "source": [
    "key_vars_3 = list(set(key_vars+key_vars_2))"
   ]
  },
  {
   "cell_type": "code",
   "execution_count": 14,
   "id": "a9f88ce8",
   "metadata": {},
   "outputs": [
    {
     "name": "stdout",
     "output_type": "stream",
     "text": [
      "explained_variance:  0.5322\n",
      "r2:  0.532\n",
      "MAE:  5.3932\n",
      "MSE:  56.0635\n",
      "RMSE:  7.4876\n"
     ]
    },
    {
     "data": {
      "text/html": [
       "<div>\n",
       "<style scoped>\n",
       "    .dataframe tbody tr th:only-of-type {\n",
       "        vertical-align: middle;\n",
       "    }\n",
       "\n",
       "    .dataframe tbody tr th {\n",
       "        vertical-align: top;\n",
       "    }\n",
       "\n",
       "    .dataframe thead th {\n",
       "        text-align: right;\n",
       "    }\n",
       "</style>\n",
       "<table border=\"1\" class=\"dataframe\">\n",
       "  <thead>\n",
       "    <tr style=\"text-align: right;\">\n",
       "      <th></th>\n",
       "      <th>0</th>\n",
       "    </tr>\n",
       "  </thead>\n",
       "  <tbody>\n",
       "    <tr>\n",
       "      <th>pct_internet</th>\n",
       "      <td>0.364152</td>\n",
       "    </tr>\n",
       "    <tr>\n",
       "      <th>pct_computing_device_with_broadband</th>\n",
       "      <td>0.348165</td>\n",
       "    </tr>\n",
       "    <tr>\n",
       "      <th>pct_only_cellular</th>\n",
       "      <td>0.098867</td>\n",
       "    </tr>\n",
       "    <tr>\n",
       "      <th>pct_internet_broadband_satellite</th>\n",
       "      <td>0.068568</td>\n",
       "    </tr>\n",
       "    <tr>\n",
       "      <th>Ookla Median Download Speed (Mbps)</th>\n",
       "      <td>0.049481</td>\n",
       "    </tr>\n",
       "    <tr>\n",
       "      <th>pct_computing_device_no_internet</th>\n",
       "      <td>0.029593</td>\n",
       "    </tr>\n",
       "    <tr>\n",
       "      <th>pct_computing_device</th>\n",
       "      <td>0.022173</td>\n",
       "    </tr>\n",
       "    <tr>\n",
       "      <th>pct_internet_broadband_any_type</th>\n",
       "      <td>0.012265</td>\n",
       "    </tr>\n",
       "    <tr>\n",
       "      <th>Wired_Provider_Count</th>\n",
       "      <td>0.006735</td>\n",
       "    </tr>\n",
       "  </tbody>\n",
       "</table>\n",
       "</div>"
      ],
      "text/plain": [
       "                                            0\n",
       "pct_internet                         0.364152\n",
       "pct_computing_device_with_broadband  0.348165\n",
       "pct_only_cellular                    0.098867\n",
       "pct_internet_broadband_satellite     0.068568\n",
       "Ookla Median Download Speed (Mbps)   0.049481\n",
       "pct_computing_device_no_internet     0.029593\n",
       "pct_computing_device                 0.022173\n",
       "pct_internet_broadband_any_type      0.012265\n",
       "Wired_Provider_Count                 0.006735"
      ]
     },
     "execution_count": 14,
     "metadata": {},
     "output_type": "execute_result"
    }
   ],
   "source": [
    "random_forest_with_tuning(key_vars_3)"
   ]
  },
  {
   "cell_type": "markdown",
   "id": "77a490ff",
   "metadata": {},
   "source": [
    "#### Highest feature importance vars"
   ]
  },
  {
   "cell_type": "code",
   "execution_count": 10,
   "id": "a140ee64",
   "metadata": {},
   "outputs": [],
   "source": [
    "highest_importance_vars = ['pct_internet', \n",
    "                          'pct_computing_device_with_broadband',\n",
    "                          'median_age_overall', \n",
    "                          'pct_white', \n",
    "                          'employment_rate',\n",
    "                          'pct_pop_20_to_24', \n",
    "                          'pct_pop_disability']"
   ]
  },
  {
   "cell_type": "code",
   "execution_count": 16,
   "id": "1212ad15",
   "metadata": {},
   "outputs": [
    {
     "name": "stdout",
     "output_type": "stream",
     "text": [
      "explained_variance:  0.7278\n",
      "r2:  0.7278\n",
      "MAE:  4.162\n",
      "MSE:  32.6127\n",
      "RMSE:  5.7107\n"
     ]
    },
    {
     "data": {
      "text/html": [
       "<div>\n",
       "<style scoped>\n",
       "    .dataframe tbody tr th:only-of-type {\n",
       "        vertical-align: middle;\n",
       "    }\n",
       "\n",
       "    .dataframe tbody tr th {\n",
       "        vertical-align: top;\n",
       "    }\n",
       "\n",
       "    .dataframe thead th {\n",
       "        text-align: right;\n",
       "    }\n",
       "</style>\n",
       "<table border=\"1\" class=\"dataframe\">\n",
       "  <thead>\n",
       "    <tr style=\"text-align: right;\">\n",
       "      <th></th>\n",
       "      <th>0</th>\n",
       "    </tr>\n",
       "  </thead>\n",
       "  <tbody>\n",
       "    <tr>\n",
       "      <th>pct_internet</th>\n",
       "      <td>0.237590</td>\n",
       "    </tr>\n",
       "    <tr>\n",
       "      <th>pct_computing_device_with_broadband</th>\n",
       "      <td>0.236271</td>\n",
       "    </tr>\n",
       "    <tr>\n",
       "      <th>median_age_overall</th>\n",
       "      <td>0.203032</td>\n",
       "    </tr>\n",
       "    <tr>\n",
       "      <th>pct_white</th>\n",
       "      <td>0.114038</td>\n",
       "    </tr>\n",
       "    <tr>\n",
       "      <th>employment_rate</th>\n",
       "      <td>0.099471</td>\n",
       "    </tr>\n",
       "    <tr>\n",
       "      <th>pct_pop_20_to_24</th>\n",
       "      <td>0.061016</td>\n",
       "    </tr>\n",
       "    <tr>\n",
       "      <th>pct_pop_disability</th>\n",
       "      <td>0.048581</td>\n",
       "    </tr>\n",
       "  </tbody>\n",
       "</table>\n",
       "</div>"
      ],
      "text/plain": [
       "                                            0\n",
       "pct_internet                         0.237590\n",
       "pct_computing_device_with_broadband  0.236271\n",
       "median_age_overall                   0.203032\n",
       "pct_white                            0.114038\n",
       "employment_rate                      0.099471\n",
       "pct_pop_20_to_24                     0.061016\n",
       "pct_pop_disability                   0.048581"
      ]
     },
     "execution_count": 16,
     "metadata": {},
     "output_type": "execute_result"
    }
   ],
   "source": [
    "random_forest_with_tuning(highest_importance_vars)"
   ]
  },
  {
   "cell_type": "markdown",
   "id": "dc76f7e8",
   "metadata": {},
   "source": [
    "#### Covariates"
   ]
  },
  {
   "cell_type": "code",
   "execution_count": 11,
   "id": "7feb6ec3",
   "metadata": {},
   "outputs": [],
   "source": [
    "covariates = ['pct_hisp_latino', \n",
    "              'ruca_metro', \n",
    "              'ruca_micro', \n",
    "              'ruca_small_town', \n",
    "              'ruca_rural', \n",
    "              'pct_pop_foreign_born', \n",
    "              'pct_pop_disability']\n",
    "\n"
   ]
  },
  {
   "cell_type": "code",
   "execution_count": 20,
   "id": "5b946729",
   "metadata": {},
   "outputs": [
    {
     "name": "stdout",
     "output_type": "stream",
     "text": [
      "explained_variance:  0.2757\n",
      "r2:  0.2755\n",
      "MAE:  6.6805\n",
      "MSE:  86.794\n",
      "RMSE:  9.3163\n"
     ]
    },
    {
     "data": {
      "text/html": [
       "<div>\n",
       "<style scoped>\n",
       "    .dataframe tbody tr th:only-of-type {\n",
       "        vertical-align: middle;\n",
       "    }\n",
       "\n",
       "    .dataframe tbody tr th {\n",
       "        vertical-align: top;\n",
       "    }\n",
       "\n",
       "    .dataframe thead th {\n",
       "        text-align: right;\n",
       "    }\n",
       "</style>\n",
       "<table border=\"1\" class=\"dataframe\">\n",
       "  <thead>\n",
       "    <tr style=\"text-align: right;\">\n",
       "      <th></th>\n",
       "      <th>0</th>\n",
       "    </tr>\n",
       "  </thead>\n",
       "  <tbody>\n",
       "    <tr>\n",
       "      <th>pct_pop_disability</th>\n",
       "      <td>0.563411</td>\n",
       "    </tr>\n",
       "    <tr>\n",
       "      <th>pct_hisp_latino</th>\n",
       "      <td>0.297664</td>\n",
       "    </tr>\n",
       "    <tr>\n",
       "      <th>pct_pop_foreign_born</th>\n",
       "      <td>0.109052</td>\n",
       "    </tr>\n",
       "    <tr>\n",
       "      <th>ruca_metro</th>\n",
       "      <td>0.022477</td>\n",
       "    </tr>\n",
       "    <tr>\n",
       "      <th>ruca_micro</th>\n",
       "      <td>0.003780</td>\n",
       "    </tr>\n",
       "    <tr>\n",
       "      <th>ruca_rural</th>\n",
       "      <td>0.002443</td>\n",
       "    </tr>\n",
       "    <tr>\n",
       "      <th>ruca_small_town</th>\n",
       "      <td>0.001172</td>\n",
       "    </tr>\n",
       "  </tbody>\n",
       "</table>\n",
       "</div>"
      ],
      "text/plain": [
       "                             0\n",
       "pct_pop_disability    0.563411\n",
       "pct_hisp_latino       0.297664\n",
       "pct_pop_foreign_born  0.109052\n",
       "ruca_metro            0.022477\n",
       "ruca_micro            0.003780\n",
       "ruca_rural            0.002443\n",
       "ruca_small_town       0.001172"
      ]
     },
     "execution_count": 20,
     "metadata": {},
     "output_type": "execute_result"
    }
   ],
   "source": [
    "random_forest_with_tuning(covariates)"
   ]
  },
  {
   "cell_type": "markdown",
   "id": "fce61086",
   "metadata": {},
   "source": [
    "#### Covariates, broadband set 1, highest feature importance vars"
   ]
  },
  {
   "cell_type": "code",
   "execution_count": 12,
   "id": "c7356710",
   "metadata": {},
   "outputs": [],
   "source": [
    "set1 = covariates + key_vars + highest_importance_vars"
   ]
  },
  {
   "cell_type": "code",
   "execution_count": 23,
   "id": "1d77b2c6",
   "metadata": {},
   "outputs": [
    {
     "name": "stdout",
     "output_type": "stream",
     "text": [
      "explained_variance:  0.7397\n",
      "r2:  0.7397\n",
      "MAE:  4.0856\n",
      "MSE:  31.1856\n",
      "RMSE:  5.5844\n"
     ]
    },
    {
     "data": {
      "text/html": [
       "<div>\n",
       "<style scoped>\n",
       "    .dataframe tbody tr th:only-of-type {\n",
       "        vertical-align: middle;\n",
       "    }\n",
       "\n",
       "    .dataframe tbody tr th {\n",
       "        vertical-align: top;\n",
       "    }\n",
       "\n",
       "    .dataframe thead th {\n",
       "        text-align: right;\n",
       "    }\n",
       "</style>\n",
       "<table border=\"1\" class=\"dataframe\">\n",
       "  <thead>\n",
       "    <tr style=\"text-align: right;\">\n",
       "      <th></th>\n",
       "      <th>0</th>\n",
       "    </tr>\n",
       "  </thead>\n",
       "  <tbody>\n",
       "    <tr>\n",
       "      <th>median_age_overall</th>\n",
       "      <td>0.193650</td>\n",
       "    </tr>\n",
       "    <tr>\n",
       "      <th>pct_computing_device_with_broadband</th>\n",
       "      <td>0.119683</td>\n",
       "    </tr>\n",
       "    <tr>\n",
       "      <th>pct_internet</th>\n",
       "      <td>0.117858</td>\n",
       "    </tr>\n",
       "    <tr>\n",
       "      <th>pct_internet</th>\n",
       "      <td>0.115033</td>\n",
       "    </tr>\n",
       "    <tr>\n",
       "      <th>pct_computing_device_with_broadband</th>\n",
       "      <td>0.108151</td>\n",
       "    </tr>\n",
       "    <tr>\n",
       "      <th>pct_white</th>\n",
       "      <td>0.105332</td>\n",
       "    </tr>\n",
       "    <tr>\n",
       "      <th>employment_rate</th>\n",
       "      <td>0.093536</td>\n",
       "    </tr>\n",
       "    <tr>\n",
       "      <th>pct_pop_20_to_24</th>\n",
       "      <td>0.056238</td>\n",
       "    </tr>\n",
       "    <tr>\n",
       "      <th>pct_pop_disability</th>\n",
       "      <td>0.020111</td>\n",
       "    </tr>\n",
       "    <tr>\n",
       "      <th>pct_pop_disability</th>\n",
       "      <td>0.019754</td>\n",
       "    </tr>\n",
       "    <tr>\n",
       "      <th>pct_only_cellular</th>\n",
       "      <td>0.016206</td>\n",
       "    </tr>\n",
       "    <tr>\n",
       "      <th>pct_internet_broadband_satellite</th>\n",
       "      <td>0.014640</td>\n",
       "    </tr>\n",
       "    <tr>\n",
       "      <th>pct_hisp_latino</th>\n",
       "      <td>0.007238</td>\n",
       "    </tr>\n",
       "    <tr>\n",
       "      <th>pct_pop_foreign_born</th>\n",
       "      <td>0.006283</td>\n",
       "    </tr>\n",
       "    <tr>\n",
       "      <th>pct_computing_device_no_internet</th>\n",
       "      <td>0.004932</td>\n",
       "    </tr>\n",
       "    <tr>\n",
       "      <th>ruca_metro</th>\n",
       "      <td>0.000866</td>\n",
       "    </tr>\n",
       "    <tr>\n",
       "      <th>ruca_rural</th>\n",
       "      <td>0.000215</td>\n",
       "    </tr>\n",
       "    <tr>\n",
       "      <th>ruca_micro</th>\n",
       "      <td>0.000160</td>\n",
       "    </tr>\n",
       "    <tr>\n",
       "      <th>ruca_small_town</th>\n",
       "      <td>0.000114</td>\n",
       "    </tr>\n",
       "  </tbody>\n",
       "</table>\n",
       "</div>"
      ],
      "text/plain": [
       "                                            0\n",
       "median_age_overall                   0.193650\n",
       "pct_computing_device_with_broadband  0.119683\n",
       "pct_internet                         0.117858\n",
       "pct_internet                         0.115033\n",
       "pct_computing_device_with_broadband  0.108151\n",
       "pct_white                            0.105332\n",
       "employment_rate                      0.093536\n",
       "pct_pop_20_to_24                     0.056238\n",
       "pct_pop_disability                   0.020111\n",
       "pct_pop_disability                   0.019754\n",
       "pct_only_cellular                    0.016206\n",
       "pct_internet_broadband_satellite     0.014640\n",
       "pct_hisp_latino                      0.007238\n",
       "pct_pop_foreign_born                 0.006283\n",
       "pct_computing_device_no_internet     0.004932\n",
       "ruca_metro                           0.000866\n",
       "ruca_rural                           0.000215\n",
       "ruca_micro                           0.000160\n",
       "ruca_small_town                      0.000114"
      ]
     },
     "execution_count": 23,
     "metadata": {},
     "output_type": "execute_result"
    }
   ],
   "source": [
    "random_forest_with_tuning(set1)"
   ]
  },
  {
   "cell_type": "markdown",
   "id": "065d2435",
   "metadata": {},
   "source": [
    "#### Highest feature importance variables and highest broadband feature importance variables"
   ]
  },
  {
   "cell_type": "code",
   "execution_count": 13,
   "id": "f175bd5e",
   "metadata": {},
   "outputs": [],
   "source": [
    "highest_broadband_importance_vars = ['pct_only_cellular', \n",
    "                                     'pct_internet', \n",
    "                                     'pct_internet_broadband_satellite']"
   ]
  },
  {
   "cell_type": "code",
   "execution_count": 14,
   "id": "2aa489fb",
   "metadata": {},
   "outputs": [],
   "source": [
    "high_importance_vars = highest_importance_vars + highest_broadband_importance_vars"
   ]
  },
  {
   "cell_type": "code",
   "execution_count": 12,
   "id": "958474d5",
   "metadata": {},
   "outputs": [
    {
     "name": "stdout",
     "output_type": "stream",
     "text": [
      "explained_variance:  0.7374\n",
      "r2:  0.7374\n",
      "MAE:  4.1018\n",
      "MSE:  31.4625\n",
      "RMSE:  5.6091\n"
     ]
    },
    {
     "data": {
      "text/html": [
       "<div>\n",
       "<style scoped>\n",
       "    .dataframe tbody tr th:only-of-type {\n",
       "        vertical-align: middle;\n",
       "    }\n",
       "\n",
       "    .dataframe tbody tr th {\n",
       "        vertical-align: top;\n",
       "    }\n",
       "\n",
       "    .dataframe thead th {\n",
       "        text-align: right;\n",
       "    }\n",
       "</style>\n",
       "<table border=\"1\" class=\"dataframe\">\n",
       "  <thead>\n",
       "    <tr style=\"text-align: right;\">\n",
       "      <th></th>\n",
       "      <th>0</th>\n",
       "    </tr>\n",
       "  </thead>\n",
       "  <tbody>\n",
       "    <tr>\n",
       "      <th>pct_computing_device_with_broadband</th>\n",
       "      <td>0.228299</td>\n",
       "    </tr>\n",
       "    <tr>\n",
       "      <th>median_age_overall</th>\n",
       "      <td>0.196254</td>\n",
       "    </tr>\n",
       "    <tr>\n",
       "      <th>pct_internet</th>\n",
       "      <td>0.120986</td>\n",
       "    </tr>\n",
       "    <tr>\n",
       "      <th>pct_internet</th>\n",
       "      <td>0.115616</td>\n",
       "    </tr>\n",
       "    <tr>\n",
       "      <th>pct_white</th>\n",
       "      <td>0.108717</td>\n",
       "    </tr>\n",
       "    <tr>\n",
       "      <th>employment_rate</th>\n",
       "      <td>0.095937</td>\n",
       "    </tr>\n",
       "    <tr>\n",
       "      <th>pct_pop_20_to_24</th>\n",
       "      <td>0.057808</td>\n",
       "    </tr>\n",
       "    <tr>\n",
       "      <th>pct_pop_disability</th>\n",
       "      <td>0.041834</td>\n",
       "    </tr>\n",
       "    <tr>\n",
       "      <th>pct_only_cellular</th>\n",
       "      <td>0.018157</td>\n",
       "    </tr>\n",
       "    <tr>\n",
       "      <th>pct_internet_broadband_satellite</th>\n",
       "      <td>0.016394</td>\n",
       "    </tr>\n",
       "  </tbody>\n",
       "</table>\n",
       "</div>"
      ],
      "text/plain": [
       "                                            0\n",
       "pct_computing_device_with_broadband  0.228299\n",
       "median_age_overall                   0.196254\n",
       "pct_internet                         0.120986\n",
       "pct_internet                         0.115616\n",
       "pct_white                            0.108717\n",
       "employment_rate                      0.095937\n",
       "pct_pop_20_to_24                     0.057808\n",
       "pct_pop_disability                   0.041834\n",
       "pct_only_cellular                    0.018157\n",
       "pct_internet_broadband_satellite     0.016394"
      ]
     },
     "execution_count": 12,
     "metadata": {},
     "output_type": "execute_result"
    }
   ],
   "source": [
    "random_forest_with_tuning(high_importance_vars)"
   ]
  },
  {
   "cell_type": "markdown",
   "id": "c2d707df",
   "metadata": {},
   "source": [
    "#### Broadband set 1 + highest importance vars and highest broadband feature importance vars"
   ]
  },
  {
   "cell_type": "code",
   "execution_count": 15,
   "id": "3e816949",
   "metadata": {},
   "outputs": [],
   "source": [
    "high_importance_and_set_1 = high_importance_vars + key_vars"
   ]
  },
  {
   "cell_type": "code",
   "execution_count": 17,
   "id": "867d89cb",
   "metadata": {},
   "outputs": [
    {
     "name": "stdout",
     "output_type": "stream",
     "text": [
      "explained_variance:  0.7371\n",
      "r2:  0.737\n",
      "MAE:  4.1063\n",
      "MSE:  31.5043\n",
      "RMSE:  5.6129\n"
     ]
    },
    {
     "data": {
      "text/html": [
       "<div>\n",
       "<style scoped>\n",
       "    .dataframe tbody tr th:only-of-type {\n",
       "        vertical-align: middle;\n",
       "    }\n",
       "\n",
       "    .dataframe tbody tr th {\n",
       "        vertical-align: top;\n",
       "    }\n",
       "\n",
       "    .dataframe thead th {\n",
       "        text-align: right;\n",
       "    }\n",
       "</style>\n",
       "<table border=\"1\" class=\"dataframe\">\n",
       "  <thead>\n",
       "    <tr style=\"text-align: right;\">\n",
       "      <th></th>\n",
       "      <th>0</th>\n",
       "    </tr>\n",
       "  </thead>\n",
       "  <tbody>\n",
       "    <tr>\n",
       "      <th>median_age_overall</th>\n",
       "      <td>0.195522</td>\n",
       "    </tr>\n",
       "    <tr>\n",
       "      <th>pct_computing_device_with_broadband</th>\n",
       "      <td>0.113755</td>\n",
       "    </tr>\n",
       "    <tr>\n",
       "      <th>pct_computing_device_with_broadband</th>\n",
       "      <td>0.110440</td>\n",
       "    </tr>\n",
       "    <tr>\n",
       "      <th>pct_white</th>\n",
       "      <td>0.108352</td>\n",
       "    </tr>\n",
       "    <tr>\n",
       "      <th>employment_rate</th>\n",
       "      <td>0.095202</td>\n",
       "    </tr>\n",
       "    <tr>\n",
       "      <th>pct_internet</th>\n",
       "      <td>0.083486</td>\n",
       "    </tr>\n",
       "    <tr>\n",
       "      <th>pct_internet</th>\n",
       "      <td>0.078192</td>\n",
       "    </tr>\n",
       "    <tr>\n",
       "      <th>pct_internet</th>\n",
       "      <td>0.077608</td>\n",
       "    </tr>\n",
       "    <tr>\n",
       "      <th>pct_pop_20_to_24</th>\n",
       "      <td>0.057203</td>\n",
       "    </tr>\n",
       "    <tr>\n",
       "      <th>pct_pop_disability</th>\n",
       "      <td>0.041289</td>\n",
       "    </tr>\n",
       "    <tr>\n",
       "      <th>pct_only_cellular</th>\n",
       "      <td>0.008744</td>\n",
       "    </tr>\n",
       "    <tr>\n",
       "      <th>pct_only_cellular</th>\n",
       "      <td>0.008720</td>\n",
       "    </tr>\n",
       "    <tr>\n",
       "      <th>pct_internet_broadband_satellite</th>\n",
       "      <td>0.008107</td>\n",
       "    </tr>\n",
       "    <tr>\n",
       "      <th>pct_internet_broadband_satellite</th>\n",
       "      <td>0.007834</td>\n",
       "    </tr>\n",
       "    <tr>\n",
       "      <th>pct_computing_device_no_internet</th>\n",
       "      <td>0.005546</td>\n",
       "    </tr>\n",
       "  </tbody>\n",
       "</table>\n",
       "</div>"
      ],
      "text/plain": [
       "                                            0\n",
       "median_age_overall                   0.195522\n",
       "pct_computing_device_with_broadband  0.113755\n",
       "pct_computing_device_with_broadband  0.110440\n",
       "pct_white                            0.108352\n",
       "employment_rate                      0.095202\n",
       "pct_internet                         0.083486\n",
       "pct_internet                         0.078192\n",
       "pct_internet                         0.077608\n",
       "pct_pop_20_to_24                     0.057203\n",
       "pct_pop_disability                   0.041289\n",
       "pct_only_cellular                    0.008744\n",
       "pct_only_cellular                    0.008720\n",
       "pct_internet_broadband_satellite     0.008107\n",
       "pct_internet_broadband_satellite     0.007834\n",
       "pct_computing_device_no_internet     0.005546"
      ]
     },
     "execution_count": 17,
     "metadata": {},
     "output_type": "execute_result"
    }
   ],
   "source": [
    "random_forest_with_tuning(high_importance_and_set_1)"
   ]
  },
  {
   "cell_type": "code",
   "execution_count": 28,
   "id": "5af31c96",
   "metadata": {},
   "outputs": [
    {
     "name": "stdout",
     "output_type": "stream",
     "text": [
      "explained_variance:  0.737\n",
      "r2:  0.737\n",
      "MAE:  4.1059\n",
      "MSE:  31.5118\n",
      "RMSE:  5.6135\n"
     ]
    }
   ],
   "source": [
    "model = random_forest_with_tuning(high_importance_and_set_1, False)"
   ]
  },
  {
   "cell_type": "code",
   "execution_count": 30,
   "id": "8b88964e",
   "metadata": {},
   "outputs": [],
   "source": [
    "pickle.dump(model, open('/home/ec2-user/capstone/broadband-capstone/models/poverty_rate_random_forest_3.pkl', 'wb'))"
   ]
  },
  {
   "cell_type": "code",
   "execution_count": 29,
   "id": "2e7eb636",
   "metadata": {},
   "outputs": [
    {
     "data": {
      "text/plain": [
       "['pct_internet',\n",
       " 'pct_computing_device_with_broadband',\n",
       " 'median_age_overall',\n",
       " 'pct_white',\n",
       " 'employment_rate',\n",
       " 'pct_pop_20_to_24',\n",
       " 'pct_pop_disability',\n",
       " 'pct_only_cellular',\n",
       " 'pct_internet',\n",
       " 'pct_internet_broadband_satellite',\n",
       " 'pct_internet',\n",
       " 'pct_only_cellular',\n",
       " 'pct_computing_device_no_internet',\n",
       " 'pct_internet_broadband_satellite',\n",
       " 'pct_computing_device_with_broadband']"
      ]
     },
     "execution_count": 29,
     "metadata": {},
     "output_type": "execute_result"
    }
   ],
   "source": [
    "high_importance_and_set_1"
   ]
  },
  {
   "cell_type": "markdown",
   "id": "e55df7f1",
   "metadata": {},
   "source": [
    "#### Broadband set 2 + highest importance vars and highest broadband feature importance vars"
   ]
  },
  {
   "cell_type": "code",
   "execution_count": 16,
   "id": "7d1b3252",
   "metadata": {},
   "outputs": [],
   "source": [
    "high_importance_and_set_2 = list(set(high_importance_vars + key_vars_2))"
   ]
  },
  {
   "cell_type": "code",
   "execution_count": 16,
   "id": "22f5135a",
   "metadata": {},
   "outputs": [
    {
     "name": "stdout",
     "output_type": "stream",
     "text": [
      "explained_variance:  0.738\n",
      "r2:  0.7379\n",
      "MAE:  4.1005\n",
      "MSE:  31.3954\n",
      "RMSE:  5.6032\n"
     ]
    }
   ],
   "source": [
    "feature_importances = random_forest_with_tuning(high_importance_and_set_2)"
   ]
  },
  {
   "cell_type": "code",
   "execution_count": 21,
   "id": "cf6108ed",
   "metadata": {},
   "outputs": [
    {
     "data": {
      "text/html": [
       "<div>\n",
       "<style scoped>\n",
       "    .dataframe tbody tr th:only-of-type {\n",
       "        vertical-align: middle;\n",
       "    }\n",
       "\n",
       "    .dataframe tbody tr th {\n",
       "        vertical-align: top;\n",
       "    }\n",
       "\n",
       "    .dataframe thead th {\n",
       "        text-align: right;\n",
       "    }\n",
       "</style>\n",
       "<table border=\"1\" class=\"dataframe\">\n",
       "  <thead>\n",
       "    <tr style=\"text-align: right;\">\n",
       "      <th></th>\n",
       "      <th>0</th>\n",
       "    </tr>\n",
       "  </thead>\n",
       "  <tbody>\n",
       "    <tr>\n",
       "      <th>pct_computing_device_with_broadband</th>\n",
       "      <td>0.228976</td>\n",
       "    </tr>\n",
       "    <tr>\n",
       "      <th>pct_internet</th>\n",
       "      <td>0.226526</td>\n",
       "    </tr>\n",
       "    <tr>\n",
       "      <th>median_age_overall</th>\n",
       "      <td>0.194511</td>\n",
       "    </tr>\n",
       "    <tr>\n",
       "      <th>pct_white</th>\n",
       "      <td>0.106705</td>\n",
       "    </tr>\n",
       "    <tr>\n",
       "      <th>employment_rate</th>\n",
       "      <td>0.093917</td>\n",
       "    </tr>\n",
       "    <tr>\n",
       "      <th>pct_pop_20_to_24</th>\n",
       "      <td>0.056532</td>\n",
       "    </tr>\n",
       "    <tr>\n",
       "      <th>pct_pop_disability</th>\n",
       "      <td>0.039984</td>\n",
       "    </tr>\n",
       "    <tr>\n",
       "      <th>pct_only_cellular</th>\n",
       "      <td>0.016660</td>\n",
       "    </tr>\n",
       "    <tr>\n",
       "      <th>pct_internet_broadband_satellite</th>\n",
       "      <td>0.014249</td>\n",
       "    </tr>\n",
       "    <tr>\n",
       "      <th>pct_computing_device</th>\n",
       "      <td>0.009181</td>\n",
       "    </tr>\n",
       "    <tr>\n",
       "      <th>Ookla Median Download Speed (Mbps)</th>\n",
       "      <td>0.006139</td>\n",
       "    </tr>\n",
       "    <tr>\n",
       "      <th>pct_internet_broadband_any_type</th>\n",
       "      <td>0.004634</td>\n",
       "    </tr>\n",
       "    <tr>\n",
       "      <th>Wired_Provider_Count</th>\n",
       "      <td>0.001985</td>\n",
       "    </tr>\n",
       "  </tbody>\n",
       "</table>\n",
       "</div>"
      ],
      "text/plain": [
       "                                            0\n",
       "pct_computing_device_with_broadband  0.228976\n",
       "pct_internet                         0.226526\n",
       "median_age_overall                   0.194511\n",
       "pct_white                            0.106705\n",
       "employment_rate                      0.093917\n",
       "pct_pop_20_to_24                     0.056532\n",
       "pct_pop_disability                   0.039984\n",
       "pct_only_cellular                    0.016660\n",
       "pct_internet_broadband_satellite     0.014249\n",
       "pct_computing_device                 0.009181\n",
       "Ookla Median Download Speed (Mbps)   0.006139\n",
       "pct_internet_broadband_any_type      0.004634\n",
       "Wired_Provider_Count                 0.001985"
      ]
     },
     "execution_count": 21,
     "metadata": {},
     "output_type": "execute_result"
    }
   ],
   "source": [
    "feature_importances"
   ]
  },
  {
   "cell_type": "code",
   "execution_count": 25,
   "id": "065617b7",
   "metadata": {},
   "outputs": [
    {
     "data": {
      "text/plain": [
       "<AxesSubplot:title={'center':'RF Feature Importance - Poverty Rate'}>"
      ]
     },
     "execution_count": 25,
     "metadata": {},
     "output_type": "execute_result"
    },
    {
     "data": {
      "image/png": "[encoded data removed]",
      "text/plain": [
       "<Figure size 432x288 with 1 Axes>"
      ]
     },
     "metadata": {
      "needs_background": "light"
     },
     "output_type": "display_data"
    }
   ],
   "source": [
    "feature_importances.sort_values(by=0,ascending=True).plot.barh(title='RF Feature Importance - Poverty Rate', legend=False)"
   ]
  },
  {
   "cell_type": "code",
   "execution_count": 15,
   "id": "fedfb575",
   "metadata": {},
   "outputs": [
    {
     "name": "stdout",
     "output_type": "stream",
     "text": [
      "explained_variance:  0.738\n",
      "r2:  0.738\n",
      "MAE:  4.0993\n",
      "MSE:  31.392\n",
      "RMSE:  5.6029\n"
     ]
    }
   ],
   "source": [
    "model = random_forest_with_tuning(high_importance_and_set_2, False)"
   ]
  },
  {
   "cell_type": "code",
   "execution_count": 16,
   "id": "ec439f76",
   "metadata": {},
   "outputs": [],
   "source": [
    "pickle.dump(model, open('/home/ec2-user/capstone/broadband-capstone/models/poverty_rate_random_forest_2.sav', 'wb'))"
   ]
  },
  {
   "cell_type": "code",
   "execution_count": 6,
   "id": "0edd8dad",
   "metadata": {},
   "outputs": [],
   "source": [
    "with open('/home/ec2-user/capstone/broadband-capstone/models/poverty_rate_random_forest_2.sav', 'rb') as f:\n",
    "    poverty_model_random_forest = pickle.load(f)"
   ]
  },
  {
   "cell_type": "code",
   "execution_count": 17,
   "id": "03252c2b",
   "metadata": {},
   "outputs": [
    {
     "data": {
      "text/plain": [
       "['pct_internet',\n",
       " 'pct_internet_broadband_satellite',\n",
       " 'pct_white',\n",
       " 'pct_pop_disability',\n",
       " 'pct_computing_device_with_broadband',\n",
       " 'Ookla Median Download Speed (Mbps)',\n",
       " 'employment_rate',\n",
       " 'Wired_Provider_Count',\n",
       " 'pct_computing_device',\n",
       " 'median_age_overall',\n",
       " 'pct_internet_broadband_any_type',\n",
       " 'pct_pop_20_to_24',\n",
       " 'pct_only_cellular']"
      ]
     },
     "execution_count": 17,
     "metadata": {},
     "output_type": "execute_result"
    }
   ],
   "source": [
    "high_importance_and_set_2"
   ]
  },
  {
   "cell_type": "code",
   "execution_count": 22,
   "id": "be7ef1a1",
   "metadata": {},
   "outputs": [
    {
     "data": {
      "text/plain": [
       "DecisionTreeRegressor(max_depth=10, max_features='auto', min_samples_leaf=2,\n",
       "                      min_samples_split=10, random_state=1622754031)"
      ]
     },
     "execution_count": 22,
     "metadata": {},
     "output_type": "execute_result"
    }
   ],
   "source": [
    "poverty_model_random_forest.estimators_[0]"
   ]
  },
  {
   "cell_type": "code",
   "execution_count": 18,
   "id": "682199b5",
   "metadata": {},
   "outputs": [
    {
     "data": {
      "image/png": "[encoded data removed]",
      "text/plain": [
       "<Figure size 864x576 with 1 Axes>"
      ]
     },
     "metadata": {
      "needs_background": "light"
     },
     "output_type": "display_data"
    }
   ],
   "source": [
    "_ = tree.plot_tree(poverty_model_random_forest.estimators_[0], feature_names=high_importance_and_set_2, filled=True)"
   ]
  },
  {
   "cell_type": "code",
   "execution_count": 32,
   "id": "bc5ab071",
   "metadata": {},
   "outputs": [
    {
     "data": {
      "image/png": "[encoded data removed]",
      "text/plain": [
       "<Figure size 864x576 with 1 Axes>"
      ]
     },
     "metadata": {
      "needs_background": "light"
     },
     "output_type": "display_data"
    }
   ],
   "source": [
    "_ = tree.plot_tree(poverty_model_random_forest.estimators_[0], feature_names=high_importance_and_set_2, filled=True, max_depth=2)\n",
    "\n"
   ]
  }
 ],
 "metadata": {
  "kernelspec": {
   "display_name": "Python 3 (ipykernel)",
   "language": "python",
   "name": "python3"
  },
  "language_info": {
   "codemirror_mode": {
    "name": "ipython",
    "version": 3
   },
   "file_extension": ".py",
   "mimetype": "text/x-python",
   "name": "python",
   "nbconvert_exporter": "python",
   "pygments_lexer": "ipython3",
   "version": "3.7.10"
  }
 },
 "nbformat": 4,
 "nbformat_minor": 5
}
