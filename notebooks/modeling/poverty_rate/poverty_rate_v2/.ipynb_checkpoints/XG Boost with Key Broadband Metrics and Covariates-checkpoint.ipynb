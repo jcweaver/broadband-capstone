{
 "cells": [
  {
   "cell_type": "code",
   "execution_count": 8,
   "id": "06316e51",
   "metadata": {},
   "outputs": [],
   "source": [
    "import pandas as pd\n",
    "import numpy as np\n",
    "import sklearn.metrics as metrics\n",
    "from xgboost import XGBRegressor\n",
    "from sklearn.model_selection import RandomizedSearchCV\n"
   ]
  },
  {
   "cell_type": "code",
   "execution_count": 2,
   "id": "a9114e37",
   "metadata": {},
   "outputs": [],
   "source": [
    "training_data = pd.read_csv('/home/ec2-user/capstone/broadband-capstone/data/current_data/train_3.csv')\n",
    "test_data = pd.read_csv('/home/ec2-user/capstone/broadband-capstone/data/current_data/test_3.csv')"
   ]
  },
  {
   "cell_type": "markdown",
   "id": "a92c5fdf",
   "metadata": {},
   "source": [
    "### Modeling"
   ]
  },
  {
   "cell_type": "code",
   "execution_count": 3,
   "id": "c08e7cc0",
   "metadata": {},
   "outputs": [],
   "source": [
    "def regression_results(y_true, y_pred):\n",
    "\n",
    "    # Regression metrics\n",
    "    explained_variance=metrics.explained_variance_score(y_true, y_pred)\n",
    "    mean_absolute_error=metrics.mean_absolute_error(y_true, y_pred) \n",
    "    mse=metrics.mean_squared_error(y_true, y_pred) \n",
    "    median_absolute_error=metrics.median_absolute_error(y_true, y_pred)\n",
    "    r2=metrics.r2_score(y_true, y_pred)\n",
    "\n",
    "    print('explained_variance: ', round(explained_variance,4))    \n",
    "    print('r2: ', round(r2,4))\n",
    "    print('MAE: ', round(mean_absolute_error,4))\n",
    "    print('MSE: ', round(mse,4))\n",
    "    print('RMSE: ', round(np.sqrt(mse),4))"
   ]
  },
  {
   "cell_type": "code",
   "execution_count": 4,
   "id": "9ee6d7c0",
   "metadata": {},
   "outputs": [],
   "source": [
    "poverty_rate_train = np.array(training_data['poverty_rate'])\n",
    "poverty_rate_test = np.array(test_data['poverty_rate'])\n",
    "\n",
    "def poverty_XGBoost_model(train_df, \n",
    "                          test_df, \n",
    "                          variable_list,\n",
    "                          poverty_rate_train = poverty_rate_train,  \n",
    "                          poverty_rate_test = poverty_rate_test):\n",
    "    train_variables = np.array(train_df[variable_list])\n",
    "    test_variables = np.array(test_df[variable_list])\n",
    "    \n",
    "    model = XGBRegressor().fit(train_variables, poverty_rate_train)\n",
    "    predicted = model.predict(test_variables)\n",
    "    \n",
    "    regression_results(poverty_rate_test, predicted)\n",
    "    \n",
    "    return pd.DataFrame(model.feature_importances_, \n",
    "                        index = variable_list).sort_values(by=0, ascending = False)\n"
   ]
  },
  {
   "cell_type": "markdown",
   "id": "5c0340cb",
   "metadata": {},
   "source": [
    "#### Only key broadband variables"
   ]
  },
  {
   "cell_type": "code",
   "execution_count": 5,
   "id": "41e490bf",
   "metadata": {},
   "outputs": [],
   "source": [
    "key_vars = ['pct_internet', \n",
    "            'pct_only_cellular', \n",
    "            'pct_computing_device_no_internet', \n",
    "            'pct_internet_broadband_satellite', \n",
    "            'pct_computing_device_with_broadband']\n"
   ]
  },
  {
   "cell_type": "code",
   "execution_count": 9,
   "id": "bfac6970",
   "metadata": {},
   "outputs": [
    {
     "name": "stdout",
     "output_type": "stream",
     "text": [
      "explained_variance:  0.5047\n",
      "r2:  0.5045\n",
      "MAE:  5.5325\n",
      "MSE:  59.3627\n",
      "RMSE:  7.7047\n"
     ]
    },
    {
     "data": {
      "text/html": [
       "<div>\n",
       "<style scoped>\n",
       "    .dataframe tbody tr th:only-of-type {\n",
       "        vertical-align: middle;\n",
       "    }\n",
       "\n",
       "    .dataframe tbody tr th {\n",
       "        vertical-align: top;\n",
       "    }\n",
       "\n",
       "    .dataframe thead th {\n",
       "        text-align: right;\n",
       "    }\n",
       "</style>\n",
       "<table border=\"1\" class=\"dataframe\">\n",
       "  <thead>\n",
       "    <tr style=\"text-align: right;\">\n",
       "      <th></th>\n",
       "      <th>0</th>\n",
       "    </tr>\n",
       "  </thead>\n",
       "  <tbody>\n",
       "    <tr>\n",
       "      <th>pct_computing_device_with_broadband</th>\n",
       "      <td>0.544968</td>\n",
       "    </tr>\n",
       "    <tr>\n",
       "      <th>pct_internet</th>\n",
       "      <td>0.223466</td>\n",
       "    </tr>\n",
       "    <tr>\n",
       "      <th>pct_internet_broadband_satellite</th>\n",
       "      <td>0.094002</td>\n",
       "    </tr>\n",
       "    <tr>\n",
       "      <th>pct_only_cellular</th>\n",
       "      <td>0.090538</td>\n",
       "    </tr>\n",
       "    <tr>\n",
       "      <th>pct_computing_device_no_internet</th>\n",
       "      <td>0.047026</td>\n",
       "    </tr>\n",
       "  </tbody>\n",
       "</table>\n",
       "</div>"
      ],
      "text/plain": [
       "                                            0\n",
       "pct_computing_device_with_broadband  0.544968\n",
       "pct_internet                         0.223466\n",
       "pct_internet_broadband_satellite     0.094002\n",
       "pct_only_cellular                    0.090538\n",
       "pct_computing_device_no_internet     0.047026"
      ]
     },
     "execution_count": 9,
     "metadata": {},
     "output_type": "execute_result"
    }
   ],
   "source": [
    "#Without tuning\n",
    "poverty_XGBoost_model(training_data, test_data, key_vars)"
   ]
  },
  {
   "cell_type": "code",
   "execution_count": 10,
   "id": "ab510563",
   "metadata": {},
   "outputs": [
    {
     "name": "stdout",
     "output_type": "stream",
     "text": [
      "explained_variance:  0.5162\n",
      "r2:  0.5161\n",
      "MAE:  5.4838\n",
      "MSE:  57.9784\n",
      "RMSE:  7.6144\n"
     ]
    }
   ],
   "source": [
    "#With tuning\n",
    "regressor = XGBRegressor(n_estimators = 500, max_depth = 3, learning_rate = 0.05, colsample_bytree = 0.7)\n",
    "regressor.fit(training_data[key_vars],  np.array(training_data['poverty_rate']))\n",
    "predictions = regressor.predict(test_data[key_vars])\n",
    "regression_results(np.array(test_data['poverty_rate']), predictions)\n"
   ]
  },
  {
   "cell_type": "code",
   "execution_count": null,
   "id": "05e7f552",
   "metadata": {},
   "outputs": [],
   "source": []
  }
 ],
 "metadata": {
  "kernelspec": {
   "display_name": "Python 3 (ipykernel)",
   "language": "python",
   "name": "python3"
  },
  "language_info": {
   "codemirror_mode": {
    "name": "ipython",
    "version": 3
   },
   "file_extension": ".py",
   "mimetype": "text/x-python",
   "name": "python",
   "nbconvert_exporter": "python",
   "pygments_lexer": "ipython3",
   "version": "3.7.10"
  }
 },
 "nbformat": 4,
 "nbformat_minor": 5
}
