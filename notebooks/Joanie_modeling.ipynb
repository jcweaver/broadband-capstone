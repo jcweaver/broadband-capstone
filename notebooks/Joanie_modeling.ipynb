{
 "cells": [
  {
   "cell_type": "markdown",
   "id": "583a548a",
   "metadata": {},
   "source": [
    "# Joanie's modelling notebook"
   ]
  },
  {
   "cell_type": "code",
   "execution_count": 1,
   "id": "e3a6ff26",
   "metadata": {},
   "outputs": [],
   "source": [
    "# This tells matplotlib not to try opening a new window for each plot.\n",
    "%matplotlib inline\n",
    "\n",
    "# Import a bunch of libraries.\n",
    "import time\n",
    "import numpy as np\n",
    "import matplotlib.pyplot as plt\n",
    "from matplotlib.ticker import MultipleLocator\n",
    "from sklearn.pipeline import Pipeline\n",
    "from sklearn.datasets import fetch_openml\n",
    "from sklearn.neighbors import KNeighborsClassifier\n",
    "from sklearn.metrics import confusion_matrix\n",
    "from sklearn.linear_model import LinearRegression\n",
    "from sklearn.naive_bayes import BernoulliNB\n",
    "from sklearn.naive_bayes import MultinomialNB\n",
    "from sklearn.naive_bayes import GaussianNB\n",
    "from sklearn.model_selection import GridSearchCV\n",
    "from sklearn.metrics import classification_report, mean_squared_error\n",
    "import pandas as pd\n",
    "import statsmodels.api as sm "
   ]
  },
  {
   "cell_type": "markdown",
   "id": "9a95d206",
   "metadata": {},
   "source": [
    "## Reading in data and some light EDA"
   ]
  },
  {
   "cell_type": "code",
   "execution_count": 2,
   "id": "60f09263",
   "metadata": {},
   "outputs": [
    {
     "data": {
      "text/plain": [
       "{' ', ',', '1', '2', '3', '{', '}'}"
      ]
     },
     "execution_count": 2,
     "metadata": {},
     "output_type": "execute_result"
    }
   ],
   "source": [
    "x = {1,2,3}\n",
    "set(str(x))"
   ]
  },
  {
   "cell_type": "code",
   "execution_count": 3,
   "id": "25e0e5ef",
   "metadata": {},
   "outputs": [],
   "source": [
    "## Reading in the data\n",
    "\n",
    "train = pd.read_csv(\"../data/broadband_training_2.csv\", converters={'All_Providers' : lambda x: x.replace(\"{\",\"\").replace(\"}\", \"\").split(\", \")})\n",
    "test = pd.read_csv(\"../data/broadband_test_2.csv\", converters={'All_Providers' : lambda x: x.replace(\"{\",\"\").replace(\"}\", \"\").split(\", \")})"
   ]
  },
  {
   "cell_type": "code",
   "execution_count": 4,
   "id": "9113c2f2",
   "metadata": {},
   "outputs": [],
   "source": [
    "## Add additional columns for incomes\n",
    "\n",
    "train['pct_pop_income_lt_50k'] = (train['pct_pop_lt_10k'] + train['pct_pop_10k_thru_15k'] +\n",
    "                                  train['pct_pop_15k_thru_20k'] + train['pct_pop_20k_thru_25k'] + \n",
    "                                  train['pct_pop_25k_thru_30k'] + train['pct_pop_30k_thru_35k'] +\n",
    "                                  train['pct_pop_35k_thru_40k'] + train['pct_pop_40k_thru_45k'] +\n",
    "                                  train['pct_pop_45k_thru_50k']\n",
    "                                 )\n",
    "\n",
    "train['pct_pop_income_lt_30k'] = (train['pct_pop_lt_10k'] + train['pct_pop_10k_thru_15k'] +\n",
    "                                  train['pct_pop_15k_thru_20k'] + train['pct_pop_20k_thru_25k'] + \n",
    "                                  train['pct_pop_25k_thru_30k']\n",
    "                                 )\n",
    "\n",
    "train['pct_pop_income_gt_100k'] = (train['pct_pop_100k_thru_125k'] + train['pct_pop_125k_thru_150k'] +\n",
    "                                   train['pct_pop_150k_thru_200k'] + train['pct_pop_gt_200k']\n",
    "                                 )\n",
    "\n",
    "test['pct_pop_income_lt_50k'] = (test['pct_pop_lt_10k'] + test['pct_pop_10k_thru_15k'] +\n",
    "                                  test['pct_pop_15k_thru_20k'] + test['pct_pop_20k_thru_25k'] + \n",
    "                                  test['pct_pop_25k_thru_30k'] + test['pct_pop_30k_thru_35k'] +\n",
    "                                  test['pct_pop_35k_thru_40k'] + test['pct_pop_40k_thru_45k'] +\n",
    "                                  test['pct_pop_45k_thru_50k']\n",
    "                                 )\n",
    "\n",
    "test['pct_pop_income_lt_30k'] = (test['pct_pop_lt_10k'] + test['pct_pop_10k_thru_15k'] +\n",
    "                                  test['pct_pop_15k_thru_20k'] + test['pct_pop_20k_thru_25k'] + \n",
    "                                  test['pct_pop_25k_thru_30k']\n",
    "                                 )\n",
    "\n",
    "test['pct_pop_income_gt_100k'] = (test['pct_pop_100k_thru_125k'] + test['pct_pop_125k_thru_150k'] +\n",
    "                                   test['pct_pop_150k_thru_200k'] + test['pct_pop_gt_200k']\n",
    "                                 )\n",
    "\n",
    "train['log_median_income'] = np.log(train['median_income'])\n",
    "test['log_median_income'] = np.log(test['median_income'])"
   ]
  },
  {
   "cell_type": "code",
   "execution_count": 5,
   "id": "802ba119",
   "metadata": {},
   "outputs": [],
   "source": [
    "## Additional age buckets\n",
    "\n",
    "\n",
    "train[\"pct_ages_gt_50\"] = (train['pct_pop_50_to_54'] + train['pct_pop_55_to_59'] + train['pct_pop_60_to_64'] +\n",
    "                           train['pct_pop_65_to_69'] + train['pct_pop_70_to_74'] + train['pct_pop_75_to_79'] + \n",
    "                           train['pct_pop_80_to_84'] + train['pct_pop_gt_85']\n",
    "                                     )\n",
    "\n",
    "train[\"pct_ages_lt_9\"] = (train['pct_pop_lt_5'] + train['pct_pop_5_to_9'])\n",
    "\n",
    "\n",
    "test[\"pct_ages_gt_50\"] = (test['pct_pop_50_to_54'] + test['pct_pop_55_to_59'] + test['pct_pop_60_to_64'] +\n",
    "                           test['pct_pop_65_to_69'] + test['pct_pop_70_to_74'] + test['pct_pop_75_to_79'] + \n",
    "                           test['pct_pop_80_to_84'] + test['pct_pop_gt_85']\n",
    "                                     )\n",
    "\n",
    "test[\"pct_ages_lt_9\"] = (test['pct_pop_lt_5'] + test['pct_pop_5_to_9'])"
   ]
  },
  {
   "cell_type": "code",
   "execution_count": 105,
   "id": "1c74664e",
   "metadata": {},
   "outputs": [],
   "source": [
    "## Trying some interaction terms\n",
    "\n",
    "train['interaction_computer_internet'] = train['pct_computer'] * train['pct_internet']\n",
    "test['interaction_computer_internet'] = test['pct_computer'] * test['pct_internet']\n",
    "\n",
    "train['interaction_low_income_internet'] = train['pct_pop_income_lt_50k'] * train['pct_internet']\n",
    "test['interaction_low_income_internet'] = test['pct_pop_income_lt_50k'] * test['pct_internet']\n",
    "\n",
    "train['interaction_high_income_internet'] = train['pct_pop_income_gt_100k'] * train['pct_internet']\n",
    "test['interaction_high_income_internet'] = test['pct_pop_income_gt_100k'] * test['pct_internet']\n",
    "\n",
    "train['interaction_white_internet'] = train['pct_white'] * train['pct_internet']\n",
    "test['interaction_white_internet'] = test['pct_white'] * test['pct_internet']\n",
    "\n",
    "train['interaction_hisp_internet'] = train['pct_hisp_latino'] * train['pct_internet']\n",
    "test['interaction_hisp_internet'] = test['pct_hisp_latino'] * test['pct_internet']"
   ]
  },
  {
   "cell_type": "code",
   "execution_count": 7,
   "id": "6df08aa6",
   "metadata": {},
   "outputs": [
    {
     "data": {
      "text/html": [
       "<div>\n",
       "<style scoped>\n",
       "    .dataframe tbody tr th:only-of-type {\n",
       "        vertical-align: middle;\n",
       "    }\n",
       "\n",
       "    .dataframe tbody tr th {\n",
       "        vertical-align: top;\n",
       "    }\n",
       "\n",
       "    .dataframe thead th {\n",
       "        text-align: right;\n",
       "    }\n",
       "</style>\n",
       "<table border=\"1\" class=\"dataframe\">\n",
       "  <thead>\n",
       "    <tr style=\"text-align: right;\">\n",
       "      <th></th>\n",
       "      <th>Provider_Id</th>\n",
       "      <th>ProviderName</th>\n",
       "      <th>DBAName</th>\n",
       "    </tr>\n",
       "  </thead>\n",
       "  <tbody>\n",
       "    <tr>\n",
       "      <th>1114</th>\n",
       "      <td>55574</td>\n",
       "      <td>COMCAST CABLE COMMUNICATIONS, LLC</td>\n",
       "      <td>Comcast</td>\n",
       "    </tr>\n",
       "  </tbody>\n",
       "</table>\n",
       "</div>"
      ],
      "text/plain": [
       "      Provider_Id                       ProviderName  DBAName\n",
       "1114        55574  COMCAST CABLE COMMUNICATIONS, LLC  Comcast"
      ]
     },
     "execution_count": 7,
     "metadata": {},
     "output_type": "execute_result"
    }
   ],
   "source": [
    "## Additional columns for big CA providers\n",
    "## Based on fastest providers from: https://broadbandnow.com/California\n",
    "## What's Spectrum's business name?\n",
    "fcc_names = pd.read_csv(\"../data/fcc_names.csv\")\n",
    "fcc_names[fcc_names.DBAName.str.contains(\"Comcast\")]\n"
   ]
  },
  {
   "cell_type": "code",
   "execution_count": 8,
   "id": "03834d9c",
   "metadata": {},
   "outputs": [],
   "source": [
    "def check_for_att(row):\n",
    "    if len(row) > 0:\n",
    "        for i in row:\n",
    "            #print(i)\n",
    "            if int(i) > 67052:\n",
    "                return True\n",
    "    return False"
   ]
  },
  {
   "cell_type": "code",
   "execution_count": 9,
   "id": "74d6f4f6",
   "metadata": {},
   "outputs": [
    {
     "data": {
      "text/plain": [
       "0    [56004, 54694, 59246, 55027, 59349, 55574, 55262]\n",
       "1    [58561, 55394, 56004, 56741, 54694, 59475, 568...\n",
       "2    [55394, 58883, 56004, 54694, 54860, 67058, 593...\n",
       "3    [56448, 59520, 58623, 56004, 54694, 55084, 562...\n",
       "4    [56448, 55394, 56004, 54076, 54694, 54860, 548...\n",
       "Name: All_Providers, dtype: object"
      ]
     },
     "execution_count": 9,
     "metadata": {},
     "output_type": "execute_result"
    }
   ],
   "source": [
    "train[\"All_Providers\"].head()"
   ]
  },
  {
   "cell_type": "code",
   "execution_count": 10,
   "id": "be92d524",
   "metadata": {},
   "outputs": [],
   "source": [
    "## Test if providers contains a provider > 67052 (i.e. ATT company)\n",
    "\n",
    "train[\"Comcast_present\"] = train[\"All_Providers\"].apply(lambda row: '55574' in row)\n",
    "\n",
    "test[\"Comcast_present\"] = test[\"All_Providers\"].apply(lambda row: '55574' in row)\n",
    "\n",
    "train[\"ATT_present\"] = train[\"All_Providers\"].apply(check_for_att)\n",
    "\n",
    "test[\"ATT_present\"] = test[\"All_Providers\"].apply(check_for_att)"
   ]
  },
  {
   "cell_type": "code",
   "execution_count": 16,
   "id": "9e760145",
   "metadata": {},
   "outputs": [],
   "source": [
    "## Bools for presence of a wired provider > 100 download\n",
    "\n",
    "train[\"Wired_100_Bool\"] = train[\"Wired_Provider_Count_100\"].apply(lambda row: int(row) > 0)\n",
    "test[\"Wired_100_Bool\"] = test[\"Wired_Provider_Count_100\"].apply(lambda row: int(row) > 0)"
   ]
  },
  {
   "cell_type": "code",
   "execution_count": 17,
   "id": "5d0a7fa0",
   "metadata": {},
   "outputs": [
    {
     "data": {
      "text/plain": [
       "['tract_geoid',\n",
       " 'All_Provider_Count',\n",
       " 'All_Providers',\n",
       " 'MaxAdDown',\n",
       " 'MaxAdUp',\n",
       " 'AllMaxAdDown',\n",
       " 'AllMaxAdUp',\n",
       " 'Wired_Provider_Count',\n",
       " 'Satellite_Provider_Count',\n",
       " 'Fixed_Wireless_Provider_Count',\n",
       " 'All_Provider_Count_25',\n",
       " 'All_Provider_Count_100',\n",
       " 'Fixed_Wireless_Provider_Count_25',\n",
       " 'Wired_Provider_Count_25',\n",
       " 'Satellite_Provider_Count_25',\n",
       " 'Fixed_Wireless_Provider_Count_100',\n",
       " 'Wired_Provider_Count_100',\n",
       " 'Satellite_Provider_Count_100',\n",
       " 'NAME',\n",
       " 'median_age_overall',\n",
       " 'median_age_male',\n",
       " 'median_age_female',\n",
       " 'state',\n",
       " 'county',\n",
       " 'tract',\n",
       " 'employment_rate',\n",
       " 'median_income',\n",
       " 'total_households',\n",
       " 'ave_household_size',\n",
       " 'ave_family_size',\n",
       " 'pct_health_ins_children',\n",
       " 'pct_health_ins_19_64',\n",
       " 'pct_health_ins_65+',\n",
       " 'total_population',\n",
       " 'median_house_value',\n",
       " 'pct_white',\n",
       " 'pct_hisp_latino',\n",
       " 'pct_black',\n",
       " 'pct_native',\n",
       " 'pct_asian',\n",
       " 'pct_hi_pi',\n",
       " 'pct_other_race',\n",
       " 'pct_two+_race',\n",
       " 'pct_rent_burdened',\n",
       " 'poverty_rate',\n",
       " 'pct_pop_bachelors+',\n",
       " 'pct_pop_hs+',\n",
       " 'pct_internet',\n",
       " 'pct_internet_dial_up',\n",
       " 'pct_internet_broadband_any_type',\n",
       " 'pct_internet_cellular',\n",
       " 'pct_only_cellular',\n",
       " 'pct_internet_broadband_fiber',\n",
       " 'pct_internet_broadband_satellite',\n",
       " 'pct_internet_only_satellite',\n",
       " 'pct_internet_other',\n",
       " 'pct_internet_no_subscrp',\n",
       " 'pct_internet_none',\n",
       " 'pct_computer',\n",
       " 'pct_computer_with_dialup',\n",
       " 'pct_computer_with_broadband',\n",
       " 'pct_computer_no_internet',\n",
       " 'pct_no_computer',\n",
       " 'ALAND',\n",
       " 'AWATER',\n",
       " 'ALAND_SQMI',\n",
       " 'AWATER_SQMI',\n",
       " 'population_density',\n",
       " 'pct_pop_ged',\n",
       " 'pct_pop_some_college',\n",
       " 'pct_pop_associates',\n",
       " 'pct_pop_foreign_born',\n",
       " 'pct_pop_ssi_households',\n",
       " 'pct_pop_lt_10k',\n",
       " 'pct_pop_10k_thru_15k',\n",
       " 'pct_pop_15k_thru_20k',\n",
       " 'pct_pop_20k_thru_25k',\n",
       " 'pct_pop_25k_thru_30k',\n",
       " 'pct_pop_30k_thru_35k',\n",
       " 'pct_pop_35k_thru_40k',\n",
       " 'pct_pop_40k_thru_45k',\n",
       " 'pct_pop_45k_thru_50k',\n",
       " 'pct_pop_50k_thru_60k',\n",
       " 'pct_pop_60k_thru_75k',\n",
       " 'pct_pop_75k_thru_100k',\n",
       " 'pct_pop_100k_thru_125k',\n",
       " 'pct_pop_125k_thru_150k',\n",
       " 'pct_pop_150k_thru_200k',\n",
       " 'pct_pop_gt_200k',\n",
       " 'pct_pop_lt_5',\n",
       " 'pct_pop_5_to_9',\n",
       " 'pct_pop_10_to_14',\n",
       " 'pct_pop_15_to_19',\n",
       " 'pct_pop_20_to_24',\n",
       " 'pct_pop_25_to_29',\n",
       " 'pct_pop_30_to_34',\n",
       " 'pct_pop_35_to_39',\n",
       " 'pct_pop_40_to_44',\n",
       " 'pct_pop_45_to_49',\n",
       " 'pct_pop_50_to_54',\n",
       " 'pct_pop_55_to_59',\n",
       " 'pct_pop_60_to_64',\n",
       " 'pct_pop_65_to_69',\n",
       " 'pct_pop_70_to_74',\n",
       " 'pct_pop_75_to_79',\n",
       " 'pct_pop_80_to_84',\n",
       " 'pct_pop_gt_85',\n",
       " 'pct_pop_disability',\n",
       " 'pct_pop_households_with_kids',\n",
       " 'Ookla Median Download Speed (Mbps)',\n",
       " 'Ookla Median Upload Speed (Mbps)',\n",
       " 'pct_pop_income_lt_50k',\n",
       " 'pct_pop_income_lt_30k',\n",
       " 'pct_pop_income_gt_100k',\n",
       " 'log_median_income',\n",
       " 'pct_ages_gt_50',\n",
       " 'pct_ages_lt_9',\n",
       " 'interaction_computer_internet',\n",
       " 'interaction_low_income_internet',\n",
       " 'interaction_high_income_internet',\n",
       " 'interaction_white_internet',\n",
       " 'Comcast_present',\n",
       " 'ATT_present',\n",
       " 'Wired_100_Bool']"
      ]
     },
     "execution_count": 17,
     "metadata": {},
     "output_type": "execute_result"
    }
   ],
   "source": [
    "pd.set_option('display.max_rows', None)\n",
    "train.columns.to_list()"
   ]
  },
  {
   "cell_type": "code",
   "execution_count": 106,
   "id": "6ed4e726",
   "metadata": {},
   "outputs": [],
   "source": [
    "y_variable = 'pct_health_ins_19_64'"
   ]
  },
  {
   "cell_type": "code",
   "execution_count": 107,
   "id": "7df7f780",
   "metadata": {},
   "outputs": [],
   "source": [
    "corr = train.corr()\n",
    "health_ins_corr = corr[y_variable]"
   ]
  },
  {
   "cell_type": "code",
   "execution_count": 108,
   "id": "76185368",
   "metadata": {},
   "outputs": [
    {
     "data": {
      "text/plain": [
       "pct_pop_income_lt_50k              -0.557501\n",
       "pct_hisp_latino                    -0.520534\n",
       "pct_internet_none                  -0.511891\n",
       "pct_pop_income_lt_30k              -0.496445\n",
       "poverty_rate                       -0.492803\n",
       "pct_computer_no_internet           -0.492267\n",
       "interaction_low_income_internet    -0.474213\n",
       "pct_pop_ssi_households             -0.467582\n",
       "interaction_hisp_internet          -0.455183\n",
       "pct_only_cellular                  -0.435924\n",
       "pct_no_computer                    -0.401581\n",
       "pct_computer                        0.401581\n",
       "pct_internet_cellular               0.415436\n",
       "pct_pop_gt_200k                     0.427074\n",
       "pct_pop_125k_thru_150k              0.437755\n",
       "pct_white                           0.472948\n",
       "pct_pop_150k_thru_200k              0.484885\n",
       "interaction_computer_internet       0.490273\n",
       "pct_health_ins_children             0.503076\n",
       "pct_internet_broadband_any_type     0.510645\n",
       "pct_computer_with_broadband         0.512805\n",
       "median_income                       0.513287\n",
       "pct_internet                        0.515278\n",
       "pct_pop_bachelors+                  0.528232\n",
       "interaction_white_internet          0.539251\n",
       "log_median_income                   0.546541\n",
       "interaction_high_income_internet    0.549526\n",
       "pct_pop_income_gt_100k              0.552295\n",
       "pct_pop_hs+                         0.598467\n",
       "pct_health_ins_19_64                1.000000\n",
       "Name: pct_health_ins_19_64, dtype: float64"
      ]
     },
     "execution_count": 108,
     "metadata": {},
     "output_type": "execute_result"
    }
   ],
   "source": [
    "health_ins_corr[abs(health_ins_corr) > .4].sort_values()"
   ]
  },
  {
   "cell_type": "code",
   "execution_count": 24,
   "id": "a00fb1f2",
   "metadata": {},
   "outputs": [
    {
     "data": {
      "text/plain": [
       "pct_internet_none                    -0.963124\n",
       "pct_no_computer                      -0.876294\n",
       "pct_computer_no_internet             -0.818687\n",
       "pct_pop_income_lt_50k                -0.777673\n",
       "pct_pop_income_lt_30k                -0.774885\n",
       "poverty_rate                         -0.650558\n",
       "pct_pop_10k_thru_15k                 -0.618143\n",
       "pct_pop_15k_thru_20k                 -0.601212\n",
       "pct_pop_ssi_households               -0.600967\n",
       "pct_pop_lt_10k                       -0.600840\n",
       "pct_pop_disability                   -0.534877\n",
       "pct_pop_20k_thru_25k                 -0.530868\n",
       "interaction_low_income_internet      -0.517956\n",
       "pct_pop_25k_thru_30k                 -0.463923\n",
       "pct_internet_no_subscrp              -0.460573\n",
       "pct_pop_ged                          -0.433341\n",
       "pct_pop_30k_thru_35k                 -0.411745\n",
       "pct_only_cellular                    -0.381959\n",
       "pct_pop_35k_thru_40k                 -0.340775\n",
       "pct_black                            -0.315541\n",
       "pct_pop_40k_thru_45k                 -0.261782\n",
       "pct_pop_45k_thru_50k                 -0.204356\n",
       "pct_hisp_latino                      -0.204300\n",
       "pct_rent_burdened                    -0.200158\n",
       "pct_internet_only_satellite          -0.194683\n",
       "ave_family_size                      -0.179471\n",
       "pct_native                           -0.161016\n",
       "pct_ages_lt_9                        -0.156617\n",
       "pct_pop_lt_5                         -0.150918\n",
       "pct_pop_50k_thru_60k                 -0.138125\n",
       "pct_pop_households_with_kids         -0.120646\n",
       "tract                                -0.117904\n",
       "pct_pop_5_to_9                       -0.112501\n",
       "pct_pop_20_to_24                     -0.088955\n",
       "county                               -0.087130\n",
       "pct_pop_some_college                 -0.080137\n",
       "pct_internet_dial_up                 -0.078412\n",
       "pct_pop_80_to_84                     -0.073505\n",
       "pct_computer_with_dialup             -0.073470\n",
       "pct_pop_gt_85                        -0.073228\n",
       "ALAND                                -0.070985\n",
       "ALAND_SQMI                           -0.070985\n",
       "ATT_present                          -0.068356\n",
       "Fixed_Wireless_Provider_Count        -0.065348\n",
       "pct_internet_other                   -0.062837\n",
       "pct_internet_broadband_satellite     -0.062681\n",
       "pct_pop_foreign_born                 -0.060485\n",
       "tract_geoid                          -0.055226\n",
       "state                                -0.054762\n",
       "pct_pop_15_to_19                     -0.052978\n",
       "pct_pop_75_to_79                     -0.039286\n",
       "pct_pop_25_to_29                     -0.037381\n",
       "pct_pop_10_to_14                     -0.034777\n",
       "AWATER_SQMI                          -0.023805\n",
       "AWATER                               -0.023805\n",
       "population_density                   -0.015270\n",
       "Satellite_Provider_Count_25          -0.004621\n",
       "Satellite_Provider_Count              0.003488\n",
       "pct_pop_70_to_74                      0.014935\n",
       "pct_pop_60k_thru_75k                  0.015189\n",
       "pct_hi_pi                             0.017018\n",
       "Fixed_Wireless_Provider_Count_25      0.022275\n",
       "pct_other_race                        0.023109\n",
       "Satellite_Provider_Count_100          0.033942\n",
       "ave_household_size                    0.036384\n",
       "pct_pop_30_to_34                      0.039312\n",
       "pct_ages_gt_50                        0.040775\n",
       "pct_pop_60_to_64                      0.041146\n",
       "pct_pop_65_to_69                      0.044800\n",
       "All_Provider_Count                    0.057846\n",
       "Wired_Provider_Count_25               0.068410\n",
       "All_Provider_Count_25                 0.068473\n",
       "Wired_Provider_Count                  0.081336\n",
       "pct_health_ins_65+                    0.084469\n",
       "pct_pop_55_to_59                      0.090435\n",
       "median_age_female                     0.093894\n",
       "Fixed_Wireless_Provider_Count_100     0.098313\n",
       "Wired_100_Bool                        0.100715\n",
       "pct_pop_35_to_39                      0.103303\n",
       "pct_pop_associates                    0.116628\n",
       "pct_internet_broadband_fiber          0.117411\n",
       "pct_two+_race                         0.120271\n",
       "Wired_Provider_Count_100              0.123264\n",
       "MaxAdUp                               0.125199\n",
       "median_age_overall                    0.125994\n",
       "Comcast_present                       0.128226\n",
       "pct_pop_40_to_44                      0.143881\n",
       "median_age_male                       0.146595\n",
       "pct_pop_50_to_54                      0.149124\n",
       "All_Provider_Count_100                0.150413\n",
       "MaxAdDown                             0.159817\n",
       "pct_pop_45_to_49                      0.193187\n",
       "total_population                      0.210320\n",
       "Ookla Median Upload Speed (Mbps)      0.214029\n",
       "pct_health_ins_children               0.220945\n",
       "total_households                      0.221219\n",
       "pct_asian                             0.257810\n",
       "pct_white                             0.288650\n",
       "Ookla Median Download Speed (Mbps)    0.304244\n",
       "pct_pop_75k_thru_100k                 0.326668\n",
       "median_house_value                    0.424890\n",
       "interaction_white_internet            0.476738\n",
       "employment_rate                       0.494405\n",
       "pct_health_ins_19_64                  0.515278\n",
       "pct_pop_gt_200k                       0.520924\n",
       "pct_pop_100k_thru_125k                0.522698\n",
       "pct_pop_125k_thru_150k                0.566925\n",
       "pct_pop_150k_thru_200k                0.616603\n",
       "pct_pop_bachelors+                    0.631146\n",
       "median_income                         0.679343\n",
       "pct_pop_hs+                           0.684270\n",
       "pct_pop_income_gt_100k                0.701427\n",
       "interaction_high_income_internet      0.739840\n",
       "log_median_income                     0.762286\n",
       "pct_internet_cellular                 0.861976\n",
       "pct_computer                          0.876294\n",
       "interaction_computer_internet         0.981783\n",
       "pct_computer_with_broadband           0.994724\n",
       "pct_internet_broadband_any_type       0.998344\n",
       "pct_internet                          1.000000\n",
       "Name: pct_internet, dtype: float64"
      ]
     },
     "execution_count": 24,
     "metadata": {},
     "output_type": "execute_result"
    }
   ],
   "source": [
    "corr['pct_internet'].sort_values()"
   ]
  },
  {
   "cell_type": "code",
   "execution_count": 25,
   "id": "eff5b62f",
   "metadata": {},
   "outputs": [],
   "source": [
    "## what are the most important broadband vars?\n",
    "# broadband_vars = ['pct_internet', 'pct_computer', 'Ookla Median Download Speed (Mbps)', \n",
    "#                   'Ookla Median Upload Speed (Mbps)', 'All_Provider_Count_100', 'MaxAdDown', \n",
    "#                   'Wired_Provider_Count_100']\n",
    "\n",
    "broadband_vars = ['pct_internet', 'pct_computer', 'Ookla Median Download Speed (Mbps)', 'Wired_Provider_Count_100', \n",
    "                  'Comcast_present', 'Ookla Median Upload Speed (Mbps)', 'ATT_present', \n",
    "                  'interaction_low_income_internet', 'interaction_computer_internet', 'interaction_white_internet',\n",
    "                  'interaction_high_income_internet'\n",
    "                 ]"
   ]
  },
  {
   "cell_type": "code",
   "execution_count": 26,
   "id": "8fe3d45b",
   "metadata": {},
   "outputs": [],
   "source": [
    "covariates = [\n",
    "    'pct_white', 'median_age_overall', 'pct_hisp_latino', 'pct_pop_income_lt_50k', 'pct_only_cellular', \n",
    "    'pct_pop_ssi_households', 'ave_family_size', 'pct_pop_income_gt_100k', 'pct_ages_lt_9', 'pct_black', \n",
    "    'pct_pop_disability', 'pct_rent_burdened', 'log_median_income'\n",
    "]"
   ]
  },
  {
   "cell_type": "code",
   "execution_count": 94,
   "id": "ab642b3b",
   "metadata": {},
   "outputs": [
    {
     "data": {
      "text/plain": [
       "['pct_internet',\n",
       " 'pct_computer',\n",
       " 'Ookla Median Download Speed (Mbps)',\n",
       " 'Wired_Provider_Count_100',\n",
       " 'Comcast_present',\n",
       " 'Ookla Median Upload Speed (Mbps)',\n",
       " 'ATT_present',\n",
       " 'interaction_low_income_internet',\n",
       " 'interaction_computer_internet',\n",
       " 'interaction_white_internet',\n",
       " 'interaction_high_income_internet',\n",
       " 'pct_white',\n",
       " 'median_age_overall',\n",
       " 'pct_hisp_latino',\n",
       " 'pct_pop_income_lt_50k',\n",
       " 'pct_only_cellular',\n",
       " 'pct_pop_ssi_households',\n",
       " 'ave_family_size',\n",
       " 'pct_pop_income_gt_100k',\n",
       " 'pct_ages_lt_9',\n",
       " 'pct_black',\n",
       " 'pct_pop_disability',\n",
       " 'pct_rent_burdened',\n",
       " 'log_median_income']"
      ]
     },
     "execution_count": 94,
     "metadata": {},
     "output_type": "execute_result"
    }
   ],
   "source": [
    "all_vars = broadband_vars.copy()\n",
    "all_vars.extend(covariates)\n",
    "all_vars"
   ]
  },
  {
   "cell_type": "markdown",
   "id": "2a0cdd9f",
   "metadata": {},
   "source": [
    "## linear regression"
   ]
  },
  {
   "cell_type": "code",
   "execution_count": 28,
   "id": "3aff8928",
   "metadata": {},
   "outputs": [],
   "source": [
    "#Creating the model\n",
    "model = LinearRegression()"
   ]
  },
  {
   "cell_type": "code",
   "execution_count": 29,
   "id": "1e5953f3",
   "metadata": {},
   "outputs": [
    {
     "data": {
      "text/plain": [
       "(52535, 24)"
      ]
     },
     "execution_count": 29,
     "metadata": {},
     "output_type": "execute_result"
    }
   ],
   "source": [
    "train[all_vars].shape"
   ]
  },
  {
   "cell_type": "code",
   "execution_count": 32,
   "id": "4931a41b",
   "metadata": {},
   "outputs": [
    {
     "data": {
      "text/plain": [
       "(52535,)"
      ]
     },
     "execution_count": 32,
     "metadata": {},
     "output_type": "execute_result"
    }
   ],
   "source": [
    "train[y_variable].shape"
   ]
  },
  {
   "cell_type": "code",
   "execution_count": 33,
   "id": "acff5d51",
   "metadata": {},
   "outputs": [],
   "source": [
    "#model.n_features_in_"
   ]
  },
  {
   "cell_type": "code",
   "execution_count": 34,
   "id": "752090ce",
   "metadata": {},
   "outputs": [
    {
     "data": {
      "text/plain": [
       "count    52535.000000\n",
       "mean        87.528891\n",
       "std          9.752792\n",
       "min         20.000000\n",
       "25%         83.000000\n",
       "50%         90.200000\n",
       "75%         94.600000\n",
       "max        100.000000\n",
       "Name: pct_health_ins_19_64, dtype: float64"
      ]
     },
     "execution_count": 34,
     "metadata": {},
     "output_type": "execute_result"
    }
   ],
   "source": [
    "train[y_variable].describe()"
   ]
  },
  {
   "cell_type": "code",
   "execution_count": 35,
   "id": "a2400a2b",
   "metadata": {},
   "outputs": [
    {
     "name": "stdout",
     "output_type": "stream",
     "text": [
      "R^2 train:  0.5527359796945297\n",
      "MSE train:  42.541582028326935\n",
      "RMSE train:  6.522390821495361\n"
     ]
    }
   ],
   "source": [
    "model.fit(train[all_vars], train[y_variable])\n",
    "predictions_train = model.predict(train[all_vars])\n",
    "\n",
    "print(\"R^2 train: \",model.score(train[all_vars], train[y_variable]))\n",
    "print(\"MSE train: \", mean_squared_error(train[y_variable], predictions_train))\n",
    "print(\"RMSE train: \", mean_squared_error(train[y_variable], predictions_train)**.5)"
   ]
  },
  {
   "cell_type": "code",
   "execution_count": 36,
   "id": "430798b3",
   "metadata": {},
   "outputs": [
    {
     "name": "stdout",
     "output_type": "stream",
     "text": [
      "R^2 test:  0.5504997723460756\n",
      "MSE test:  42.74218431587388\n",
      "RMSE test:  6.537750707687918\n"
     ]
    }
   ],
   "source": [
    "predictions_test = model.predict(test[all_vars])\n",
    "print(\"R^2 test: \",model.score(test[all_vars], test[y_variable]))\n",
    "print(\"MSE test: \", mean_squared_error(test[y_variable], predictions_test))\n",
    "print(\"RMSE test: \", mean_squared_error(test[y_variable], predictions_test)**.5)"
   ]
  },
  {
   "cell_type": "code",
   "execution_count": 58,
   "id": "d1390d4a",
   "metadata": {},
   "outputs": [
    {
     "data": {
      "text/plain": [
       "(array([9.0000e+00, 4.3000e+01, 8.4000e+01, 2.2300e+02, 6.2400e+02,\n",
       "        1.5990e+03, 3.9600e+03, 1.0611e+04, 1.8371e+04, 1.7011e+04]),\n",
       " array([35.468279  , 41.74044682, 48.01261464, 54.28478246, 60.55695028,\n",
       "        66.82911811, 73.10128593, 79.37345375, 85.64562157, 91.91778939,\n",
       "        98.18995721]),\n",
       " <BarContainer object of 10 artists>)"
      ]
     },
     "execution_count": 58,
     "metadata": {},
     "output_type": "execute_result"
    },
    {
     "data": {
      "image/png": "[encoded data removed]",
      "text/plain": [
       "<Figure size 432x288 with 1 Axes>"
      ]
     },
     "metadata": {
      "needs_background": "light"
     },
     "output_type": "display_data"
    }
   ],
   "source": [
    "plt.hist(predictions_train)"
   ]
  },
  {
   "cell_type": "code",
   "execution_count": 59,
   "id": "9c4fc84f",
   "metadata": {},
   "outputs": [
    {
     "data": {
      "text/plain": [
       "(array([8.0000e+00, 2.5000e+01, 9.4000e+01, 2.8400e+02, 6.3400e+02,\n",
       "        1.5210e+03, 3.5600e+03, 8.3930e+03, 1.6679e+04, 2.1337e+04]),\n",
       " array([ 20.,  28.,  36.,  44.,  52.,  60.,  68.,  76.,  84.,  92., 100.]),\n",
       " <BarContainer object of 10 artists>)"
      ]
     },
     "execution_count": 59,
     "metadata": {},
     "output_type": "execute_result"
    },
    {
     "data": {
      "image/png": "[encoded data removed]",
      "text/plain": [
       "<Figure size 432x288 with 1 Axes>"
      ]
     },
     "metadata": {
      "needs_background": "light"
     },
     "output_type": "display_data"
    }
   ],
   "source": [
    "plt.hist(train[y_variable])"
   ]
  },
  {
   "cell_type": "code",
   "execution_count": 61,
   "id": "558183fe",
   "metadata": {},
   "outputs": [
    {
     "data": {
      "text/html": [
       "<div>\n",
       "<style scoped>\n",
       "    .dataframe tbody tr th:only-of-type {\n",
       "        vertical-align: middle;\n",
       "    }\n",
       "\n",
       "    .dataframe tbody tr th {\n",
       "        vertical-align: top;\n",
       "    }\n",
       "\n",
       "    .dataframe thead th {\n",
       "        text-align: right;\n",
       "    }\n",
       "</style>\n",
       "<table border=\"1\" class=\"dataframe\">\n",
       "  <thead>\n",
       "    <tr style=\"text-align: right;\">\n",
       "      <th></th>\n",
       "      <th>tract_geoid</th>\n",
       "      <th>All_Provider_Count</th>\n",
       "      <th>MaxAdDown</th>\n",
       "      <th>MaxAdUp</th>\n",
       "      <th>Wired_Provider_Count</th>\n",
       "      <th>Satellite_Provider_Count</th>\n",
       "      <th>Fixed_Wireless_Provider_Count</th>\n",
       "      <th>All_Provider_Count_25</th>\n",
       "      <th>All_Provider_Count_100</th>\n",
       "      <th>Fixed_Wireless_Provider_Count_25</th>\n",
       "      <th>...</th>\n",
       "      <th>pct_pop_income_lt_50k</th>\n",
       "      <th>pct_pop_income_lt_30k</th>\n",
       "      <th>pct_pop_income_gt_100k</th>\n",
       "      <th>log_median_income</th>\n",
       "      <th>pct_ages_gt_50</th>\n",
       "      <th>pct_ages_lt_9</th>\n",
       "      <th>interaction_computer_internet</th>\n",
       "      <th>interaction_low_income_internet</th>\n",
       "      <th>interaction_high_income_internet</th>\n",
       "      <th>interaction_white_internet</th>\n",
       "    </tr>\n",
       "  </thead>\n",
       "  <tbody>\n",
       "    <tr>\n",
       "      <th>count</th>\n",
       "      <td>2.662300e+04</td>\n",
       "      <td>26623.000000</td>\n",
       "      <td>26623.000000</td>\n",
       "      <td>26623.000000</td>\n",
       "      <td>26623.00000</td>\n",
       "      <td>26623.000000</td>\n",
       "      <td>26623.000000</td>\n",
       "      <td>26623.000000</td>\n",
       "      <td>26623.000000</td>\n",
       "      <td>26623.000000</td>\n",
       "      <td>...</td>\n",
       "      <td>26623.000000</td>\n",
       "      <td>26623.000000</td>\n",
       "      <td>26623.000000</td>\n",
       "      <td>26623.000000</td>\n",
       "      <td>26623.000000</td>\n",
       "      <td>26623.000000</td>\n",
       "      <td>26623.000000</td>\n",
       "      <td>26623.000000</td>\n",
       "      <td>26623.000000</td>\n",
       "      <td>26623.000000</td>\n",
       "    </tr>\n",
       "    <tr>\n",
       "      <th>mean</th>\n",
       "      <td>2.762232e+10</td>\n",
       "      <td>10.800436</td>\n",
       "      <td>973.186155</td>\n",
       "      <td>641.108327</td>\n",
       "      <td>5.70856</td>\n",
       "      <td>3.995192</td>\n",
       "      <td>1.264283</td>\n",
       "      <td>5.141532</td>\n",
       "      <td>3.103933</td>\n",
       "      <td>0.671637</td>\n",
       "      <td>...</td>\n",
       "      <td>32.237124</td>\n",
       "      <td>18.191149</td>\n",
       "      <td>38.528918</td>\n",
       "      <td>11.261889</td>\n",
       "      <td>38.233755</td>\n",
       "      <td>11.161602</td>\n",
       "      <td>8080.618607</td>\n",
       "      <td>2704.828683</td>\n",
       "      <td>3461.683276</td>\n",
       "      <td>6262.566082</td>\n",
       "    </tr>\n",
       "    <tr>\n",
       "      <th>std</th>\n",
       "      <td>1.524906e+10</td>\n",
       "      <td>3.213234</td>\n",
       "      <td>101.738732</td>\n",
       "      <td>428.366985</td>\n",
       "      <td>2.83519</td>\n",
       "      <td>0.070784</td>\n",
       "      <td>1.427913</td>\n",
       "      <td>1.464281</td>\n",
       "      <td>1.221404</td>\n",
       "      <td>0.954086</td>\n",
       "      <td>...</td>\n",
       "      <td>15.517285</td>\n",
       "      <td>11.426083</td>\n",
       "      <td>18.285813</td>\n",
       "      <td>0.430020</td>\n",
       "      <td>10.547668</td>\n",
       "      <td>3.799372</td>\n",
       "      <td>1193.335886</td>\n",
       "      <td>1107.591789</td>\n",
       "      <td>1828.141722</td>\n",
       "      <td>2116.746328</td>\n",
       "    </tr>\n",
       "    <tr>\n",
       "      <th>min</th>\n",
       "      <td>1.001020e+09</td>\n",
       "      <td>4.000000</td>\n",
       "      <td>35.000000</td>\n",
       "      <td>3.000000</td>\n",
       "      <td>1.00000</td>\n",
       "      <td>2.000000</td>\n",
       "      <td>0.000000</td>\n",
       "      <td>1.000000</td>\n",
       "      <td>0.000000</td>\n",
       "      <td>0.000000</td>\n",
       "      <td>...</td>\n",
       "      <td>0.000000</td>\n",
       "      <td>0.000000</td>\n",
       "      <td>0.000000</td>\n",
       "      <td>9.094480</td>\n",
       "      <td>0.490614</td>\n",
       "      <td>0.000000</td>\n",
       "      <td>319.135045</td>\n",
       "      <td>0.000000</td>\n",
       "      <td>0.000000</td>\n",
       "      <td>0.000000</td>\n",
       "    </tr>\n",
       "    <tr>\n",
       "      <th>25%</th>\n",
       "      <td>1.500301e+10</td>\n",
       "      <td>9.000000</td>\n",
       "      <td>987.000000</td>\n",
       "      <td>100.000000</td>\n",
       "      <td>4.00000</td>\n",
       "      <td>4.000000</td>\n",
       "      <td>0.000000</td>\n",
       "      <td>4.000000</td>\n",
       "      <td>2.000000</td>\n",
       "      <td>0.000000</td>\n",
       "      <td>...</td>\n",
       "      <td>20.327139</td>\n",
       "      <td>10.109154</td>\n",
       "      <td>23.974366</td>\n",
       "      <td>10.994051</td>\n",
       "      <td>32.134914</td>\n",
       "      <td>8.861820</td>\n",
       "      <td>7358.432729</td>\n",
       "      <td>1868.466528</td>\n",
       "      <td>1976.911427</td>\n",
       "      <td>5321.900205</td>\n",
       "    </tr>\n",
       "    <tr>\n",
       "      <th>50%</th>\n",
       "      <td>2.700745e+10</td>\n",
       "      <td>10.000000</td>\n",
       "      <td>1000.000000</td>\n",
       "      <td>880.000000</td>\n",
       "      <td>5.00000</td>\n",
       "      <td>4.000000</td>\n",
       "      <td>1.000000</td>\n",
       "      <td>5.000000</td>\n",
       "      <td>3.000000</td>\n",
       "      <td>0.000000</td>\n",
       "      <td>...</td>\n",
       "      <td>30.026572</td>\n",
       "      <td>15.690867</td>\n",
       "      <td>37.185930</td>\n",
       "      <td>11.269056</td>\n",
       "      <td>38.475212</td>\n",
       "      <td>11.106856</td>\n",
       "      <td>8275.633771</td>\n",
       "      <td>2622.235891</td>\n",
       "      <td>3268.709728</td>\n",
       "      <td>6904.348321</td>\n",
       "    </tr>\n",
       "    <tr>\n",
       "      <th>75%</th>\n",
       "      <td>3.908521e+10</td>\n",
       "      <td>12.000000</td>\n",
       "      <td>1000.000000</td>\n",
       "      <td>1000.000000</td>\n",
       "      <td>7.00000</td>\n",
       "      <td>4.000000</td>\n",
       "      <td>2.000000</td>\n",
       "      <td>6.000000</td>\n",
       "      <td>4.000000</td>\n",
       "      <td>1.000000</td>\n",
       "      <td>...</td>\n",
       "      <td>41.867305</td>\n",
       "      <td>23.526952</td>\n",
       "      <td>51.951102</td>\n",
       "      <td>11.547887</td>\n",
       "      <td>44.111074</td>\n",
       "      <td>13.361194</td>\n",
       "      <td>8998.994465</td>\n",
       "      <td>3442.286250</td>\n",
       "      <td>4783.302622</td>\n",
       "      <td>7784.879465</td>\n",
       "    </tr>\n",
       "    <tr>\n",
       "      <th>max</th>\n",
       "      <td>5.604198e+10</td>\n",
       "      <td>38.000000</td>\n",
       "      <td>1000.000000</td>\n",
       "      <td>1000.000000</td>\n",
       "      <td>29.00000</td>\n",
       "      <td>4.000000</td>\n",
       "      <td>10.000000</td>\n",
       "      <td>16.000000</td>\n",
       "      <td>11.000000</td>\n",
       "      <td>7.000000</td>\n",
       "      <td>...</td>\n",
       "      <td>95.052632</td>\n",
       "      <td>86.231156</td>\n",
       "      <td>95.801527</td>\n",
       "      <td>12.429220</td>\n",
       "      <td>99.210526</td>\n",
       "      <td>43.323952</td>\n",
       "      <td>10000.000000</td>\n",
       "      <td>8358.300596</td>\n",
       "      <td>9458.267778</td>\n",
       "      <td>9666.862170</td>\n",
       "    </tr>\n",
       "  </tbody>\n",
       "</table>\n",
       "<p>8 rows × 117 columns</p>\n",
       "</div>"
      ],
      "text/plain": [
       "        tract_geoid  All_Provider_Count     MaxAdDown       MaxAdUp  \\\n",
       "count  2.662300e+04        26623.000000  26623.000000  26623.000000   \n",
       "mean   2.762232e+10           10.800436    973.186155    641.108327   \n",
       "std    1.524906e+10            3.213234    101.738732    428.366985   \n",
       "min    1.001020e+09            4.000000     35.000000      3.000000   \n",
       "25%    1.500301e+10            9.000000    987.000000    100.000000   \n",
       "50%    2.700745e+10           10.000000   1000.000000    880.000000   \n",
       "75%    3.908521e+10           12.000000   1000.000000   1000.000000   \n",
       "max    5.604198e+10           38.000000   1000.000000   1000.000000   \n",
       "\n",
       "       Wired_Provider_Count  Satellite_Provider_Count  \\\n",
       "count           26623.00000              26623.000000   \n",
       "mean                5.70856                  3.995192   \n",
       "std                 2.83519                  0.070784   \n",
       "min                 1.00000                  2.000000   \n",
       "25%                 4.00000                  4.000000   \n",
       "50%                 5.00000                  4.000000   \n",
       "75%                 7.00000                  4.000000   \n",
       "max                29.00000                  4.000000   \n",
       "\n",
       "       Fixed_Wireless_Provider_Count  All_Provider_Count_25  \\\n",
       "count                   26623.000000           26623.000000   \n",
       "mean                        1.264283               5.141532   \n",
       "std                         1.427913               1.464281   \n",
       "min                         0.000000               1.000000   \n",
       "25%                         0.000000               4.000000   \n",
       "50%                         1.000000               5.000000   \n",
       "75%                         2.000000               6.000000   \n",
       "max                        10.000000              16.000000   \n",
       "\n",
       "       All_Provider_Count_100  Fixed_Wireless_Provider_Count_25  ...  \\\n",
       "count            26623.000000                      26623.000000  ...   \n",
       "mean                 3.103933                          0.671637  ...   \n",
       "std                  1.221404                          0.954086  ...   \n",
       "min                  0.000000                          0.000000  ...   \n",
       "25%                  2.000000                          0.000000  ...   \n",
       "50%                  3.000000                          0.000000  ...   \n",
       "75%                  4.000000                          1.000000  ...   \n",
       "max                 11.000000                          7.000000  ...   \n",
       "\n",
       "       pct_pop_income_lt_50k  pct_pop_income_lt_30k  pct_pop_income_gt_100k  \\\n",
       "count           26623.000000           26623.000000            26623.000000   \n",
       "mean               32.237124              18.191149               38.528918   \n",
       "std                15.517285              11.426083               18.285813   \n",
       "min                 0.000000               0.000000                0.000000   \n",
       "25%                20.327139              10.109154               23.974366   \n",
       "50%                30.026572              15.690867               37.185930   \n",
       "75%                41.867305              23.526952               51.951102   \n",
       "max                95.052632              86.231156               95.801527   \n",
       "\n",
       "       log_median_income  pct_ages_gt_50  pct_ages_lt_9  \\\n",
       "count       26623.000000    26623.000000   26623.000000   \n",
       "mean           11.261889       38.233755      11.161602   \n",
       "std             0.430020       10.547668       3.799372   \n",
       "min             9.094480        0.490614       0.000000   \n",
       "25%            10.994051       32.134914       8.861820   \n",
       "50%            11.269056       38.475212      11.106856   \n",
       "75%            11.547887       44.111074      13.361194   \n",
       "max            12.429220       99.210526      43.323952   \n",
       "\n",
       "       interaction_computer_internet  interaction_low_income_internet  \\\n",
       "count                   26623.000000                     26623.000000   \n",
       "mean                     8080.618607                      2704.828683   \n",
       "std                      1193.335886                      1107.591789   \n",
       "min                       319.135045                         0.000000   \n",
       "25%                      7358.432729                      1868.466528   \n",
       "50%                      8275.633771                      2622.235891   \n",
       "75%                      8998.994465                      3442.286250   \n",
       "max                     10000.000000                      8358.300596   \n",
       "\n",
       "       interaction_high_income_internet  interaction_white_internet  \n",
       "count                      26623.000000                26623.000000  \n",
       "mean                        3461.683276                 6262.566082  \n",
       "std                         1828.141722                 2116.746328  \n",
       "min                            0.000000                    0.000000  \n",
       "25%                         1976.911427                 5321.900205  \n",
       "50%                         3268.709728                 6904.348321  \n",
       "75%                         4783.302622                 7784.879465  \n",
       "max                         9458.267778                 9666.862170  \n",
       "\n",
       "[8 rows x 117 columns]"
      ]
     },
     "execution_count": 61,
     "metadata": {},
     "output_type": "execute_result"
    }
   ],
   "source": [
    "train[train[y_variable]>90]"
   ]
  },
  {
   "cell_type": "markdown",
   "id": "d63b0ae9",
   "metadata": {},
   "source": [
    "## random forest"
   ]
  },
  {
   "cell_type": "code",
   "execution_count": 95,
   "id": "221f49ef",
   "metadata": {},
   "outputs": [],
   "source": [
    "from sklearn.ensemble import RandomForestRegressor\n",
    "from sklearn.datasets import make_regression"
   ]
  },
  {
   "cell_type": "code",
   "execution_count": 96,
   "id": "55b408e7",
   "metadata": {},
   "outputs": [],
   "source": [
    "y_train = train[y_variable]\n",
    "X_train = train.drop(columns=[y_variable])\n",
    "\n",
    "y_test = test[y_variable]\n",
    "X_test = test.drop(columns=[y_variable])"
   ]
  },
  {
   "cell_type": "code",
   "execution_count": 97,
   "id": "58309ba6",
   "metadata": {},
   "outputs": [],
   "source": [
    "regr = RandomForestRegressor(max_depth=10, random_state=0)"
   ]
  },
  {
   "cell_type": "code",
   "execution_count": 98,
   "id": "50cb8a56",
   "metadata": {},
   "outputs": [
    {
     "name": "stdout",
     "output_type": "stream",
     "text": [
      "R^2 train:  0.7127795397951079\n",
      "MSE train:  27.319015644663484\n",
      "RMSE train:  5.226759574025142\n"
     ]
    }
   ],
   "source": [
    "regr.fit(X_train[all_vars], y_train)\n",
    "\n",
    "predictions_train = regr.predict(train[all_vars])\n",
    "\n",
    "print(\"R^2 train: \",regr.score(train[all_vars], train[y_variable]))\n",
    "print(\"MSE train: \", mean_squared_error(train[y_variable], predictions_train))\n",
    "print(\"RMSE train: \", mean_squared_error(train[y_variable], predictions_train)**.5)"
   ]
  },
  {
   "cell_type": "code",
   "execution_count": 99,
   "id": "5217a34c",
   "metadata": {},
   "outputs": [
    {
     "name": "stdout",
     "output_type": "stream",
     "text": [
      "R^2 test:  0.6189362551269902\n",
      "MSE test:  36.234679800872684\n",
      "RMSE test:  6.019524881655751\n"
     ]
    }
   ],
   "source": [
    "predictions_test = regr.predict(test[all_vars])\n",
    "print(\"R^2 test: \",regr.score(test[all_vars], test[y_variable]))\n",
    "print(\"MSE test: \", mean_squared_error(test[y_variable], predictions_test))\n",
    "print(\"RMSE test: \", mean_squared_error(test[y_variable], predictions_test)**.5)"
   ]
  },
  {
   "cell_type": "code",
   "execution_count": 100,
   "id": "7519d5a7",
   "metadata": {},
   "outputs": [
    {
     "data": {
      "text/plain": [
       "24"
      ]
     },
     "execution_count": 100,
     "metadata": {},
     "output_type": "execute_result"
    }
   ],
   "source": [
    "regr.n_features_in_"
   ]
  },
  {
   "cell_type": "code",
   "execution_count": 104,
   "id": "66dcbae2",
   "metadata": {},
   "outputs": [
    {
     "data": {
      "text/plain": [
       "array([0.019585  , 0.00673392, 0.01896283, 0.003399  , 0.00231294,\n",
       "       0.01479682, 0.03189055, 0.00583861, 0.0064152 , 0.04654548,\n",
       "       0.4043445 , 0.00556714, 0.01252766, 0.24288548, 0.0071102 ,\n",
       "       0.02649614, 0.00892565, 0.02973795, 0.02550069, 0.0088353 ,\n",
       "       0.01119851, 0.02445672, 0.01133262, 0.02460111])"
      ]
     },
     "execution_count": 104,
     "metadata": {},
     "output_type": "execute_result"
    }
   ],
   "source": [
    "regr.feature_importances_"
   ]
  },
  {
   "cell_type": "code",
   "execution_count": 103,
   "id": "ae8f8cce",
   "metadata": {},
   "outputs": [
    {
     "data": {
      "text/plain": [
       "array(['interaction_high_income_internet', 'pct_hisp_latino'],\n",
       "      dtype='<U34')"
      ]
     },
     "execution_count": 103,
     "metadata": {},
     "output_type": "execute_result"
    }
   ],
   "source": [
    "np.array(all_vars)[regr.feature_importances_>.1]"
   ]
  },
  {
   "cell_type": "code",
   "execution_count": 80,
   "id": "29381f2a",
   "metadata": {},
   "outputs": [],
   "source": [
    "all_vars = float_vars"
   ]
  },
  {
   "cell_type": "code",
   "execution_count": 79,
   "id": "63ce840e",
   "metadata": {},
   "outputs": [
    {
     "data": {
      "text/plain": [
       "['All_Provider_Count',\n",
       " 'MaxAdDown',\n",
       " 'MaxAdUp',\n",
       " 'Wired_Provider_Count',\n",
       " 'Satellite_Provider_Count',\n",
       " 'Fixed_Wireless_Provider_Count',\n",
       " 'All_Provider_Count_25',\n",
       " 'All_Provider_Count_100',\n",
       " 'Fixed_Wireless_Provider_Count_25',\n",
       " 'Wired_Provider_Count_25',\n",
       " 'Satellite_Provider_Count_25',\n",
       " 'Fixed_Wireless_Provider_Count_100',\n",
       " 'Wired_Provider_Count_100',\n",
       " 'Satellite_Provider_Count_100',\n",
       " 'median_age_overall',\n",
       " 'median_age_male',\n",
       " 'median_age_female',\n",
       " 'employment_rate',\n",
       " 'median_income',\n",
       " 'total_households',\n",
       " 'ave_household_size',\n",
       " 'ave_family_size',\n",
       " 'total_population',\n",
       " 'median_house_value',\n",
       " 'pct_white',\n",
       " 'pct_hisp_latino',\n",
       " 'pct_black',\n",
       " 'pct_native',\n",
       " 'pct_asian',\n",
       " 'pct_hi_pi',\n",
       " 'pct_other_race',\n",
       " 'pct_two+_race',\n",
       " 'pct_rent_burdened',\n",
       " 'poverty_rate',\n",
       " 'pct_pop_bachelors+',\n",
       " 'pct_pop_hs+',\n",
       " 'pct_internet',\n",
       " 'pct_internet_dial_up',\n",
       " 'pct_internet_broadband_any_type',\n",
       " 'pct_internet_cellular',\n",
       " 'pct_only_cellular',\n",
       " 'pct_internet_broadband_fiber',\n",
       " 'pct_internet_broadband_satellite',\n",
       " 'pct_internet_only_satellite',\n",
       " 'pct_internet_other',\n",
       " 'pct_internet_no_subscrp',\n",
       " 'pct_internet_none',\n",
       " 'pct_computer',\n",
       " 'pct_computer_with_dialup',\n",
       " 'pct_computer_with_broadband',\n",
       " 'pct_computer_no_internet',\n",
       " 'pct_no_computer',\n",
       " 'ALAND',\n",
       " 'AWATER',\n",
       " 'ALAND_SQMI',\n",
       " 'AWATER_SQMI',\n",
       " 'population_density',\n",
       " 'pct_pop_ged',\n",
       " 'pct_pop_some_college',\n",
       " 'pct_pop_associates',\n",
       " 'pct_pop_foreign_born',\n",
       " 'pct_pop_ssi_households',\n",
       " 'pct_pop_lt_10k',\n",
       " 'pct_pop_10k_thru_15k',\n",
       " 'pct_pop_15k_thru_20k',\n",
       " 'pct_pop_20k_thru_25k',\n",
       " 'pct_pop_25k_thru_30k',\n",
       " 'pct_pop_30k_thru_35k',\n",
       " 'pct_pop_35k_thru_40k',\n",
       " 'pct_pop_40k_thru_45k',\n",
       " 'pct_pop_45k_thru_50k',\n",
       " 'pct_pop_50k_thru_60k',\n",
       " 'pct_pop_60k_thru_75k',\n",
       " 'pct_pop_75k_thru_100k',\n",
       " 'pct_pop_100k_thru_125k',\n",
       " 'pct_pop_125k_thru_150k',\n",
       " 'pct_pop_150k_thru_200k',\n",
       " 'pct_pop_gt_200k',\n",
       " 'pct_pop_lt_5',\n",
       " 'pct_pop_5_to_9',\n",
       " 'pct_pop_10_to_14',\n",
       " 'pct_pop_15_to_19',\n",
       " 'pct_pop_20_to_24',\n",
       " 'pct_pop_25_to_29',\n",
       " 'pct_pop_30_to_34',\n",
       " 'pct_pop_35_to_39',\n",
       " 'pct_pop_40_to_44',\n",
       " 'pct_pop_45_to_49',\n",
       " 'pct_pop_50_to_54',\n",
       " 'pct_pop_55_to_59',\n",
       " 'pct_pop_60_to_64',\n",
       " 'pct_pop_65_to_69',\n",
       " 'pct_pop_70_to_74',\n",
       " 'pct_pop_75_to_79',\n",
       " 'pct_pop_80_to_84',\n",
       " 'pct_pop_gt_85',\n",
       " 'pct_pop_disability',\n",
       " 'pct_pop_households_with_kids',\n",
       " 'Ookla Median Download Speed (Mbps)',\n",
       " 'Ookla Median Upload Speed (Mbps)',\n",
       " 'pct_pop_income_lt_50k',\n",
       " 'pct_pop_income_lt_30k',\n",
       " 'pct_pop_income_gt_100k',\n",
       " 'log_median_income',\n",
       " 'pct_ages_gt_50',\n",
       " 'pct_ages_lt_9',\n",
       " 'interaction_computer_internet',\n",
       " 'interaction_low_income_internet',\n",
       " 'interaction_high_income_internet',\n",
       " 'interaction_white_internet',\n",
       " 'Comcast_present',\n",
       " 'ATT_present',\n",
       " 'Wired_100_Bool']"
      ]
     },
     "execution_count": 79,
     "metadata": {},
     "output_type": "execute_result"
    }
   ],
   "source": [
    "float_vars = train.dtypes[train.dtypes!=object].index.to_list()\n",
    "\n",
    "for i in ['tract_geoid', 'pct_health_ins_children',\n",
    " 'pct_health_ins_19_64',\n",
    " 'pct_health_ins_65+', 'state',\n",
    " 'county',\n",
    " 'tract', 'em']:\n",
    "    float_vars.remove(i)\n",
    "    \n",
    "float_vars"
   ]
  },
  {
   "cell_type": "markdown",
   "id": "671ab5f2",
   "metadata": {},
   "source": [
    "## XGBoost"
   ]
  },
  {
   "cell_type": "code",
   "execution_count": 67,
   "id": "8ca77fbc",
   "metadata": {},
   "outputs": [],
   "source": [
    "import xgboost as xgb"
   ]
  },
  {
   "cell_type": "code",
   "execution_count": null,
   "id": "62eac64d",
   "metadata": {},
   "outputs": [],
   "source": []
  }
 ],
 "metadata": {
  "kernelspec": {
   "display_name": "Python 3",
   "language": "python",
   "name": "python3"
  },
  "language_info": {
   "codemirror_mode": {
    "name": "ipython",
    "version": 3
   },
   "file_extension": ".py",
   "mimetype": "text/x-python",
   "name": "python",
   "nbconvert_exporter": "python",
   "pygments_lexer": "ipython3",
   "version": "3.8.10"
  }
 },
 "nbformat": 4,
 "nbformat_minor": 5
}
