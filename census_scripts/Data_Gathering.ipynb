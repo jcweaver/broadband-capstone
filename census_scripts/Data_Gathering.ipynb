{
 "cells": [
  {
   "cell_type": "code",
   "execution_count": 19,
   "id": "2db9d369",
   "metadata": {},
   "outputs": [],
   "source": [
    "import sys\n",
    "sys.path.append(\"../\")\n",
    "\n",
    "import csv\n",
    "import pandas as pd\n",
    "import numpy as np\n",
    "import json\n",
    "from itertools import repeat, chain\n",
    "import utils"
   ]
  },
  {
   "cell_type": "markdown",
   "id": "1003f8f2",
   "metadata": {},
   "source": [
    "## Running to Collect ACS Data using Census API"
   ]
  },
  {
   "cell_type": "code",
   "execution_count": 29,
   "id": "863b41a2",
   "metadata": {},
   "outputs": [],
   "source": [
    "# Lets set up our requests session. You can use teh creaet session utility or just pass the requests object\n",
    "session = utils.create_session()\n",
    "\n",
    "## State codes for all states & Washington DC\n",
    "## As listed here - https://www.census.gov/library/reference/code-lists/ansi/ansi-codes-for-states.html\n",
    "states = [i for i in range(1,57) if i not in [3, 7, 14, 43, 52]]\n",
    "#states = [5,  25, 27, 33, 50]"
   ]
  },
  {
   "cell_type": "code",
   "execution_count": 30,
   "id": "2859790e",
   "metadata": {},
   "outputs": [
    {
     "name": "stdout",
     "output_type": "stream",
     "text": [
      "https://api.census.gov/data/2019/acs/acs5?get=NAME,B01002_001E,B01002_002E,B01002_003E,B15003_001E,B15003_017E,B15003_018E,B15003_019E,B15003_020E,B15003_021E,B15003_022E,B15003_023E,B15003_024E,B15003_025E,B28002_001E,B28002_002E,B28002_003E,B28002_004E,B28002_005E,B28002_006E,B28002_007E,B28002_008E,B28002_009E,B28002_010E,B28002_011E,B28002_012E,B28002_013E,B28003_001E,B28003_002E,B28003_003E,B28003_004E,B28003_005E,B28003_006E&for=tract:*&in=state:05&key=daeac6d558149025218d49696ca5c9988533bd37\n",
      "https://api.census.gov/data/2019/acs/acs5/subject?get=NAME,S2301_C03_001E,S1701_C02_001E,S1701_C01_001E,S1901_C01_012E,S1101_C01_001E,S1101_C01_002E,S1101_C01_004E&for=tract:*&in=state:05&key=daeac6d558149025218d49696ca5c9988533bd37\n",
      "https://api.census.gov/data/2019/acs/acs5/profile?get=NAME,DP04_0142PE,DP04_0141PE,DP05_0001E,DP04_0089E,DP05_0077PE,DP05_0071PE,DP05_0078PE,DP05_0079PE,DP05_0080PE,DP05_0081PE,DP05_0082PE,DP05_0083PE&for=tract:*&in=state:05&key=daeac6d558149025218d49696ca5c9988533bd37\n",
      "Status: 16.67%\n",
      "https://api.census.gov/data/2019/acs/acs5?get=NAME,B01002_001E,B01002_002E,B01002_003E,B15003_001E,B15003_017E,B15003_018E,B15003_019E,B15003_020E,B15003_021E,B15003_022E,B15003_023E,B15003_024E,B15003_025E,B28002_001E,B28002_002E,B28002_003E,B28002_004E,B28002_005E,B28002_006E,B28002_007E,B28002_008E,B28002_009E,B28002_010E,B28002_011E,B28002_012E,B28002_013E,B28003_001E,B28003_002E,B28003_003E,B28003_004E,B28003_005E,B28003_006E&for=tract:*&in=state:14&key=daeac6d558149025218d49696ca5c9988533bd37\n",
      "https://api.census.gov/data/2019/acs/acs5/subject?get=NAME,S2301_C03_001E,S1701_C02_001E,S1701_C01_001E,S1901_C01_012E,S1101_C01_001E,S1101_C01_002E,S1101_C01_004E&for=tract:*&in=state:14&key=daeac6d558149025218d49696ca5c9988533bd37\n",
      "https://api.census.gov/data/2019/acs/acs5/profile?get=NAME,DP04_0142PE,DP04_0141PE,DP05_0001E,DP04_0089E,DP05_0077PE,DP05_0071PE,DP05_0078PE,DP05_0079PE,DP05_0080PE,DP05_0081PE,DP05_0082PE,DP05_0083PE&for=tract:*&in=state:14&key=daeac6d558149025218d49696ca5c9988533bd37\n",
      "Status: 33.33%\n",
      "https://api.census.gov/data/2019/acs/acs5?get=NAME,B01002_001E,B01002_002E,B01002_003E,B15003_001E,B15003_017E,B15003_018E,B15003_019E,B15003_020E,B15003_021E,B15003_022E,B15003_023E,B15003_024E,B15003_025E,B28002_001E,B28002_002E,B28002_003E,B28002_004E,B28002_005E,B28002_006E,B28002_007E,B28002_008E,B28002_009E,B28002_010E,B28002_011E,B28002_012E,B28002_013E,B28003_001E,B28003_002E,B28003_003E,B28003_004E,B28003_005E,B28003_006E&for=tract:*&in=state:25&key=daeac6d558149025218d49696ca5c9988533bd37\n",
      "https://api.census.gov/data/2019/acs/acs5/subject?get=NAME,S2301_C03_001E,S1701_C02_001E,S1701_C01_001E,S1901_C01_012E,S1101_C01_001E,S1101_C01_002E,S1101_C01_004E&for=tract:*&in=state:25&key=daeac6d558149025218d49696ca5c9988533bd37\n",
      "https://api.census.gov/data/2019/acs/acs5/profile?get=NAME,DP04_0142PE,DP04_0141PE,DP05_0001E,DP04_0089E,DP05_0077PE,DP05_0071PE,DP05_0078PE,DP05_0079PE,DP05_0080PE,DP05_0081PE,DP05_0082PE,DP05_0083PE&for=tract:*&in=state:25&key=daeac6d558149025218d49696ca5c9988533bd37\n",
      "Status: 50.00%\n",
      "https://api.census.gov/data/2019/acs/acs5?get=NAME,B01002_001E,B01002_002E,B01002_003E,B15003_001E,B15003_017E,B15003_018E,B15003_019E,B15003_020E,B15003_021E,B15003_022E,B15003_023E,B15003_024E,B15003_025E,B28002_001E,B28002_002E,B28002_003E,B28002_004E,B28002_005E,B28002_006E,B28002_007E,B28002_008E,B28002_009E,B28002_010E,B28002_011E,B28002_012E,B28002_013E,B28003_001E,B28003_002E,B28003_003E,B28003_004E,B28003_005E,B28003_006E&for=tract:*&in=state:27&key=daeac6d558149025218d49696ca5c9988533bd37\n",
      "https://api.census.gov/data/2019/acs/acs5/subject?get=NAME,S2301_C03_001E,S1701_C02_001E,S1701_C01_001E,S1901_C01_012E,S1101_C01_001E,S1101_C01_002E,S1101_C01_004E&for=tract:*&in=state:27&key=daeac6d558149025218d49696ca5c9988533bd37\n",
      "https://api.census.gov/data/2019/acs/acs5/profile?get=NAME,DP04_0142PE,DP04_0141PE,DP05_0001E,DP04_0089E,DP05_0077PE,DP05_0071PE,DP05_0078PE,DP05_0079PE,DP05_0080PE,DP05_0081PE,DP05_0082PE,DP05_0083PE&for=tract:*&in=state:27&key=daeac6d558149025218d49696ca5c9988533bd37\n",
      "Status: 66.67%\n",
      "https://api.census.gov/data/2019/acs/acs5?get=NAME,B01002_001E,B01002_002E,B01002_003E,B15003_001E,B15003_017E,B15003_018E,B15003_019E,B15003_020E,B15003_021E,B15003_022E,B15003_023E,B15003_024E,B15003_025E,B28002_001E,B28002_002E,B28002_003E,B28002_004E,B28002_005E,B28002_006E,B28002_007E,B28002_008E,B28002_009E,B28002_010E,B28002_011E,B28002_012E,B28002_013E,B28003_001E,B28003_002E,B28003_003E,B28003_004E,B28003_005E,B28003_006E&for=tract:*&in=state:33&key=daeac6d558149025218d49696ca5c9988533bd37\n",
      "https://api.census.gov/data/2019/acs/acs5/subject?get=NAME,S2301_C03_001E,S1701_C02_001E,S1701_C01_001E,S1901_C01_012E,S1101_C01_001E,S1101_C01_002E,S1101_C01_004E&for=tract:*&in=state:33&key=daeac6d558149025218d49696ca5c9988533bd37\n",
      "https://api.census.gov/data/2019/acs/acs5/profile?get=NAME,DP04_0142PE,DP04_0141PE,DP05_0001E,DP04_0089E,DP05_0077PE,DP05_0071PE,DP05_0078PE,DP05_0079PE,DP05_0080PE,DP05_0081PE,DP05_0082PE,DP05_0083PE&for=tract:*&in=state:33&key=daeac6d558149025218d49696ca5c9988533bd37\n",
      "Status: 83.33%\n",
      "https://api.census.gov/data/2019/acs/acs5?get=NAME,B01002_001E,B01002_002E,B01002_003E,B15003_001E,B15003_017E,B15003_018E,B15003_019E,B15003_020E,B15003_021E,B15003_022E,B15003_023E,B15003_024E,B15003_025E,B28002_001E,B28002_002E,B28002_003E,B28002_004E,B28002_005E,B28002_006E,B28002_007E,B28002_008E,B28002_009E,B28002_010E,B28002_011E,B28002_012E,B28002_013E,B28003_001E,B28003_002E,B28003_003E,B28003_004E,B28003_005E,B28003_006E&for=tract:*&in=state:50&key=daeac6d558149025218d49696ca5c9988533bd37\n",
      "https://api.census.gov/data/2019/acs/acs5/subject?get=NAME,S2301_C03_001E,S1701_C02_001E,S1701_C01_001E,S1901_C01_012E,S1101_C01_001E,S1101_C01_002E,S1101_C01_004E&for=tract:*&in=state:50&key=daeac6d558149025218d49696ca5c9988533bd37\n",
      "https://api.census.gov/data/2019/acs/acs5/profile?get=NAME,DP04_0142PE,DP04_0141PE,DP05_0001E,DP04_0089E,DP05_0077PE,DP05_0071PE,DP05_0078PE,DP05_0079PE,DP05_0080PE,DP05_0081PE,DP05_0082PE,DP05_0083PE&for=tract:*&in=state:50&key=daeac6d558149025218d49696ca5c9988533bd37\n",
      "Status: 100.00%\n"
     ]
    }
   ],
   "source": [
    "## These codes and endpoints are from viewing the Census API documentation once you identify the correct table\n",
    "## Here's a google doc of the codes we want to use\n",
    "\n",
    "codes = {'acs/acs5':[ \"B01002_001E\", \"B01002_002E\", \"B01002_003E\", \"B15003_001E\", \"B15003_017E\",\"B15003_018E\",\n",
    "                    \"B15003_019E\", \"B15003_020E\", \"B15003_021E\", \"B15003_022E\", \"B15003_023E\", \"B15003_024E\", \n",
    "                    \"B15003_025E\", \"B28002_001E\", \"B28002_002E\", \"B28002_003E\", \"B28002_004E\", \"B28002_005E\", \n",
    "                    \"B28002_006E\", \"B28002_007E\", \"B28002_008E\", \"B28002_009E\", \"B28002_010E\", \"B28002_011E\", \n",
    "                     \"B28002_012E\", \"B28002_013E\", \"B28003_001E\", \"B28003_002E\", \"B28003_003E\", \"B28003_004E\",\n",
    "                    \"B28003_005E\", \"B28003_006E\"],\n",
    "         \n",
    "        'acs/acs5/subject' : [\"S2301_C03_001E\", \"S1701_C02_001E\", \"S1701_C01_001E\", \"S1901_C01_012E\",\n",
    "                             \"S1101_C01_001E\", \"S1101_C01_002E\", \"S1101_C01_004E\"],\n",
    "         \n",
    "        'acs/acs5/profile' : ['DP04_0142PE', 'DP04_0141PE', 'DP05_0001E', \"DP04_0089E\", \"DP05_0077PE\", \"DP05_0071PE\",\n",
    "                             \"DP05_0078PE\", \"DP05_0079PE\", \"DP05_0080PE\", \"DP05_0081PE\", \"DP05_0082PE\", \"DP05_0083PE\"\n",
    "                             ]}\n",
    "\n",
    "acs_endpoints = ['acs/acs5', 'acs/acs5/subject', 'acs/acs5/profile'] \n",
    "\n",
    "# codes = {'acs/acs5':[ \"B03002_001E\",\"B03002_002E\"]}\n",
    "\n",
    "\n",
    "# acs_endpoints = ['acs/acs5'] \n",
    "\n",
    "\n",
    "#dfs = utils.collect_results(acs_endpoints, codes, states, session)\n",
    "dfs = []\n",
    "outputs = utils.gather_results(session, acs_endpoints, states, codes, dfs)"
   ]
  },
  {
   "cell_type": "code",
   "execution_count": 34,
   "id": "28f7ebe6",
   "metadata": {},
   "outputs": [
    {
     "data": {
      "text/plain": [
       "Index(['NAME', 'B01002_001E', 'B01002_002E', 'B01002_003E', 'B15003_001E',\n",
       "       'B15003_017E', 'B15003_018E', 'B15003_019E', 'B15003_020E',\n",
       "       'B15003_021E', 'B15003_022E', 'B15003_023E', 'B15003_024E',\n",
       "       'B15003_025E', 'B28002_001E', 'B28002_002E', 'B28002_003E',\n",
       "       'B28002_004E', 'B28002_005E', 'B28002_006E', 'B28002_007E',\n",
       "       'B28002_008E', 'B28002_009E', 'B28002_010E', 'B28002_011E',\n",
       "       'B28002_012E', 'B28002_013E', 'B28003_001E', 'B28003_002E',\n",
       "       'B28003_003E', 'B28003_004E', 'B28003_005E', 'B28003_006E', 'state',\n",
       "       'county', 'tract', 'S2301_C03_001E', 'S1701_C02_001E', 'S1701_C01_001E',\n",
       "       'S1901_C01_012E', 'S1101_C01_001E', 'S1101_C01_002E', 'S1101_C01_004E',\n",
       "       'DP04_0142PE', 'DP04_0141PE', 'DP05_0001E', 'DP04_0089E', 'DP05_0077PE',\n",
       "       'DP05_0071PE', 'DP05_0078PE', 'DP05_0079PE', 'DP05_0080PE',\n",
       "       'DP05_0081PE', 'DP05_0082PE', 'DP05_0083PE'],\n",
       "      dtype='object')"
      ]
     },
     "execution_count": 34,
     "metadata": {},
     "output_type": "execute_result"
    }
   ],
   "source": [
    "outputs.columns"
   ]
  },
  {
   "cell_type": "code",
   "execution_count": 36,
   "id": "0043156c",
   "metadata": {},
   "outputs": [
    {
     "data": {
      "text/plain": [
       "(51,)"
      ]
     },
     "execution_count": 36,
     "metadata": {},
     "output_type": "execute_result"
    }
   ],
   "source": [
    "np.unique(outputs.state).shape #Should be 51 for 50 states and DC"
   ]
  },
  {
   "cell_type": "code",
   "execution_count": 37,
   "id": "5c994195",
   "metadata": {},
   "outputs": [],
   "source": [
    "outputs.to_csv(\"../data/census_data.csv\")"
   ]
  },
  {
   "cell_type": "code",
   "execution_count": null,
   "id": "50aa0eda",
   "metadata": {},
   "outputs": [],
   "source": []
  }
 ],
 "metadata": {
  "kernelspec": {
   "display_name": "Python 3",
   "language": "python",
   "name": "python3"
  },
  "language_info": {
   "codemirror_mode": {
    "name": "ipython",
    "version": 3
   },
   "file_extension": ".py",
   "mimetype": "text/x-python",
   "name": "python",
   "nbconvert_exporter": "python",
   "pygments_lexer": "ipython3",
   "version": "3.8.10"
  }
 },
 "nbformat": 4,
 "nbformat_minor": 5
}
